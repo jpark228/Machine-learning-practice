{
 "cells": [
  {
   "cell_type": "code",
   "execution_count": 1,
   "id": "f759a844",
   "metadata": {},
   "outputs": [],
   "source": [
    "# -*- coding: utf-8 -*-\n",
    "\n",
    "### 기본 라이브러리 불러오기\n",
    "import pandas as pd\n",
    "import numpy as np\n",
    "import matplotlib.pyplot as plt\n",
    "import seaborn as sns"
   ]
  },
  {
   "cell_type": "markdown",
   "id": "e7f1f8f4",
   "metadata": {},
   "source": [
    "# [Step 1 ~ 3] 데이터 준비 "
   ]
  },
  {
   "cell_type": "code",
   "execution_count": 4,
   "id": "4c149606",
   "metadata": {},
   "outputs": [],
   "source": [
    "# CSV 파일을 데이터프레임으로 변환\n",
    "df = pd.read_csv('./auto-mpg.csv', header=None)\n",
    "\n",
    "# 열 이름 지정\n",
    "df.columns = ['mpg','cylinders','displacement','horsepower','weight',\n",
    "              'acceleration','model year','origin','name'] \n",
    "\n",
    "# horsepower 열의 자료형 변경 (문자열 ->숫자)\n",
    "df['horsepower'].replace('?', np.nan, inplace=True)      # '?'을 np.nan으로 변경\n",
    "df.dropna(subset=['horsepower'], axis=0, inplace=True)   # 누락데이터 행을 삭제\n",
    "df['horsepower'] = df['horsepower'].astype('float')      # 문자열을 실수형으로 변환\n",
    "\n",
    "# 분석에 활용할 열(속성)을 선택 (연비, 실린더, 출력, 중량)\n",
    "ndf = df[['mpg', 'cylinders', 'horsepower', 'weight']]"
   ]
  },
  {
   "cell_type": "markdown",
   "id": "8dc23f3f",
   "metadata": {},
   "source": [
    "# Step 4: 데이터셋 구분 - 훈련용(train data)/ 검증용(test data)"
   ]
  },
  {
   "cell_type": "code",
   "execution_count": 5,
   "id": "7d8b95dc",
   "metadata": {},
   "outputs": [],
   "source": [
    "# 속성(변수) 선택\n",
    "X=ndf[['cylinders', 'horsepower', 'weight']]  #독립 변수 X1, X2, X3\n",
    "y=ndf['mpg']     #종속 변수 Y"
   ]
  },
  {
   "cell_type": "code",
   "execution_count": 6,
   "id": "ebc54a02",
   "metadata": {},
   "outputs": [],
   "source": [
    "# train data 와 test data로 구분(7:3 비율)\n",
    "from sklearn.model_selection import train_test_split\n",
    "X_train, X_test, y_train, y_test = train_test_split(X, y, test_size=0.3, random_state=10) "
   ]
  },
  {
   "cell_type": "code",
   "execution_count": 7,
   "id": "6b27ccb2",
   "metadata": {},
   "outputs": [
    {
     "name": "stdout",
     "output_type": "stream",
     "text": [
      "훈련 데이터:  (274, 3)\n",
      "검증 데이터:  (118, 3)\n",
      "\n",
      "\n"
     ]
    }
   ],
   "source": [
    "print('훈련 데이터: ', X_train.shape)\n",
    "print('검증 데이터: ', X_test.shape)   \n",
    "print('\\n') "
   ]
  },
  {
   "cell_type": "code",
   "execution_count": 8,
   "id": "37004e8c",
   "metadata": {},
   "outputs": [],
   "source": [
    "# sklearn 라이브러리에서 선형회귀분석 모듈 가져오기\n",
    "from sklearn.linear_model import LinearRegression"
   ]
  },
  {
   "cell_type": "code",
   "execution_count": 9,
   "id": "ba294a82",
   "metadata": {},
   "outputs": [],
   "source": [
    "# 단순회귀분석 모형 객체 생성\n",
    "lr = LinearRegression() "
   ]
  },
  {
   "cell_type": "code",
   "execution_count": 10,
   "id": "5033b1a9",
   "metadata": {},
   "outputs": [
    {
     "data": {
      "text/plain": [
       "LinearRegression()"
      ]
     },
     "execution_count": 10,
     "metadata": {},
     "output_type": "execute_result"
    }
   ],
   "source": [
    "# train data를 가지고 모형 학습\n",
    "lr.fit(X_train, y_train)"
   ]
  },
  {
   "cell_type": "code",
   "execution_count": 11,
   "id": "cdd16ffe",
   "metadata": {},
   "outputs": [
    {
     "name": "stdout",
     "output_type": "stream",
     "text": [
      "0.6939048496695599\n",
      "\n",
      "\n"
     ]
    }
   ],
   "source": [
    "# 학습을 마친 모형에 test data를 적용하여 결정계수(R-제곱) 계산\n",
    "r_square = lr.score(X_test, y_test)\n",
    "print(r_square)\n",
    "print('\\n')"
   ]
  },
  {
   "cell_type": "code",
   "execution_count": 12,
   "id": "7461d6f6",
   "metadata": {},
   "outputs": [
    {
     "name": "stdout",
     "output_type": "stream",
     "text": [
      "X 변수의 계수 a:  [-0.60691288 -0.03714088 -0.00522268]\n",
      "\n",
      "\n",
      "상수항 b 46.414351269634025\n",
      "\n",
      "\n"
     ]
    }
   ],
   "source": [
    "# 회귀식의 기울기\n",
    "print('X 변수의 계수 a: ', lr.coef_)\n",
    "print('\\n')\n",
    "\n",
    "# 회귀식의 y절편\n",
    "print('상수항 b', lr.intercept_)\n",
    "print('\\n')"
   ]
  },
  {
   "cell_type": "code",
   "execution_count": 13,
   "id": "183bb455",
   "metadata": {},
   "outputs": [
    {
     "data": {
      "image/png": "[encoded data removed]",
      "text/plain": [
       "<Figure size 720x360 with 1 Axes>"
      ]
     },
     "metadata": {
      "needs_background": "light"
     },
     "output_type": "display_data"
    }
   ],
   "source": [
    "# train data의 산점도와 test data로 예측한 회귀선을 그래프로 출력 \n",
    "y_hat = lr.predict(X_test)\n",
    "\n",
    "plt.figure(figsize=(10, 5))\n",
    "ax1 = sns.kdeplot(y_test, label=\"y_test\")\n",
    "ax2 = sns.kdeplot(y_hat, label=\"y_hat\", ax=ax1)\n",
    "plt.legend()\n",
    "plt.show()"
   ]
  }
 ],
 "metadata": {
  "kernelspec": {
   "display_name": "Python 3",
   "language": "python",
   "name": "python3"
  },
  "language_info": {
   "codemirror_mode": {
    "name": "ipython",
    "version": 3
   },
   "file_extension": ".py",
   "mimetype": "text/x-python",
   "name": "python",
   "nbconvert_exporter": "python",
   "pygments_lexer": "ipython3",
   "version": "3.9.5"
  }
 },
 "nbformat": 4,
 "nbformat_minor": 5
}
