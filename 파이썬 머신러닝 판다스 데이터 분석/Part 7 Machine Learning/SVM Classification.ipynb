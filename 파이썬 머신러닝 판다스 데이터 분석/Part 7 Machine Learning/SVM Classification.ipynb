{
 "cells": [
  {
   "cell_type": "code",
   "execution_count": 1,
   "id": "932de893",
   "metadata": {},
   "outputs": [],
   "source": [
    "# -*- coding: utf-8 -*-\n",
    "\n",
    "### 기본 라이브러리 불러오기\n",
    "import pandas as pd\n",
    "import seaborn as sns"
   ]
  },
  {
   "cell_type": "markdown",
   "id": "fe0d1477",
   "metadata": {},
   "source": [
    "# [Step 1] 데이터 준비/ 기본 설정"
   ]
  },
  {
   "cell_type": "code",
   "execution_count": 2,
   "id": "9b7904e4",
   "metadata": {},
   "outputs": [],
   "source": [
    "# load_dataset 함수를 사용하여 데이터프레임으로 변환\n",
    "df = sns.load_dataset('titanic')\n",
    "\n",
    "#  IPython 디스플레이 설정 - 출력할 열의 개수 한도 늘리기\n",
    "pd.set_option('display.max_columns', 15)"
   ]
  },
  {
   "cell_type": "markdown",
   "id": "3178996f",
   "metadata": {},
   "source": [
    "# [Step 2] 데이터 탐색/ 전처리"
   ]
  },
  {
   "cell_type": "code",
   "execution_count": 3,
   "id": "a4b8c5bc",
   "metadata": {},
   "outputs": [],
   "source": [
    "# NaN값이 많은 deck 열을 삭제, embarked와 내용이 겹치는 embark_town 열을 삭제\n",
    "rdf = df.drop(['deck', 'embark_town'], axis=1)  \n",
    "\n",
    "# age 열에 나이 데이터가 없는 모든 행을 삭제 - age 열(891개 중 177개의 NaN 값)\n",
    "rdf = rdf.dropna(subset=['age'], how='any', axis=0)  \n",
    "\n",
    "# embarked 열의 NaN값을 승선도시 중에서 가장 많이 출현한 값으로 치환하기\n",
    "most_freq = rdf['embarked'].value_counts(dropna=True).idxmax()   \n",
    "rdf['embarked'].fillna(most_freq, inplace=True)"
   ]
  },
  {
   "cell_type": "markdown",
   "id": "10e4987a",
   "metadata": {},
   "source": [
    "# [Step 3] 분석에 사용할 속성을 선택"
   ]
  },
  {
   "cell_type": "code",
   "execution_count": 4,
   "id": "ae3f0b40",
   "metadata": {},
   "outputs": [],
   "source": [
    "# 분석에 활용할 열(속성)을 선택 \n",
    "ndf = rdf[['survived', 'pclass', 'sex', 'age', 'sibsp', 'parch', 'embarked']]"
   ]
  },
  {
   "cell_type": "code",
   "execution_count": 5,
   "id": "3588417b",
   "metadata": {},
   "outputs": [],
   "source": [
    "# 원핫인코딩 - 범주형 데이터를 모형이 인식할 수 있도록 숫자형으로 변환\n",
    "onehot_sex = pd.get_dummies(ndf['sex'])\n",
    "ndf = pd.concat([ndf, onehot_sex], axis=1)\n",
    "\n",
    "onehot_embarked = pd.get_dummies(ndf['embarked'], prefix='town')\n",
    "ndf = pd.concat([ndf, onehot_embarked], axis=1)\n",
    "\n",
    "ndf.drop(['sex', 'embarked'], axis=1, inplace=True)"
   ]
  },
  {
   "cell_type": "markdown",
   "id": "f476654e",
   "metadata": {},
   "source": [
    "# [Step 4] 데이터셋 구분 - 훈련용(train data)/ 검증용(test data)"
   ]
  },
  {
   "cell_type": "code",
   "execution_count": 6,
   "id": "47edcfa0",
   "metadata": {},
   "outputs": [],
   "source": [
    "# 속성(변수) 선택\n",
    "X=ndf[['pclass', 'age', 'sibsp', 'parch', 'female', 'male', \n",
    "       'town_C', 'town_Q', 'town_S']]  #독립 변수 X\n",
    "y=ndf['survived']  "
   ]
  },
  {
   "cell_type": "code",
   "execution_count": 7,
   "id": "490b9584",
   "metadata": {},
   "outputs": [],
   "source": [
    "# 설명 변수 데이터를 정규화(normalization)\n",
    "from sklearn import preprocessing\n",
    "X = preprocessing.StandardScaler().fit(X).transform(X)"
   ]
  },
  {
   "cell_type": "code",
   "execution_count": 8,
   "id": "5ab5b16d",
   "metadata": {},
   "outputs": [
    {
     "name": "stdout",
     "output_type": "stream",
     "text": [
      "train data 개수:  (499, 9)\n",
      "test data 개수:  (215, 9)\n",
      "\n",
      "\n"
     ]
    }
   ],
   "source": [
    "# train data 와 test data로 구분(7:3 비율)\n",
    "from sklearn.model_selection import train_test_split\n",
    "X_train, X_test, y_train, y_test = train_test_split(X, y, test_size=0.3, random_state=10) \n",
    "\n",
    "print('train data 개수: ', X_train.shape)\n",
    "print('test data 개수: ', X_test.shape)\n",
    "print('\\n')"
   ]
  },
  {
   "cell_type": "markdown",
   "id": "848768f6",
   "metadata": {},
   "source": [
    "# [Step 5] SVM 분류 모형 - sklearn 사용"
   ]
  },
  {
   "cell_type": "code",
   "execution_count": 9,
   "id": "b6fd0346",
   "metadata": {},
   "outputs": [],
   "source": [
    "# sklearn 라이브러리에서 SVM 분류 모형 가져오기\n",
    "from sklearn import svm"
   ]
  },
  {
   "cell_type": "code",
   "execution_count": 10,
   "id": "a9c967c6",
   "metadata": {},
   "outputs": [],
   "source": [
    "# 모형 객체 생성 (kernel='rbf' 적용)\n",
    "svm_model = svm.SVC(kernel='rbf')\n",
    "\n",
    "# train data를 가지고 모형 학습\n",
    "svm_model.fit(X_train, y_train)   \n",
    "\n",
    "# test data를 가지고 y_hat을 예측 (분류) \n",
    "y_hat = svm_model.predict(X_test)"
   ]
  },
  {
   "cell_type": "code",
   "execution_count": 11,
   "id": "7783f6ac",
   "metadata": {},
   "outputs": [
    {
     "name": "stdout",
     "output_type": "stream",
     "text": [
      "[0 0 1 0 0 0 1 0 0 0]\n",
      "[0 0 1 0 0 1 1 1 0 0]\n",
      "\n",
      "\n"
     ]
    }
   ],
   "source": [
    "print(y_hat[0:10])\n",
    "print(y_test.values[0:10])\n",
    "print('\\n')"
   ]
  },
  {
   "cell_type": "code",
   "execution_count": 12,
   "id": "70a58b2b",
   "metadata": {},
   "outputs": [
    {
     "name": "stdout",
     "output_type": "stream",
     "text": [
      "[[120   5]\n",
      " [ 35  55]]\n",
      "\n",
      "\n"
     ]
    }
   ],
   "source": [
    "# 모형 성능 평가 - Confusion Matrix 계산\n",
    "from sklearn import metrics \n",
    "svm_matrix = metrics.confusion_matrix(y_test, y_hat)  \n",
    "print(svm_matrix)\n",
    "print('\\n')"
   ]
  },
  {
   "cell_type": "code",
   "execution_count": 13,
   "id": "b2ad2d94",
   "metadata": {},
   "outputs": [
    {
     "name": "stdout",
     "output_type": "stream",
     "text": [
      "              precision    recall  f1-score   support\n",
      "\n",
      "           0       0.77      0.96      0.86       125\n",
      "           1       0.92      0.61      0.73        90\n",
      "\n",
      "    accuracy                           0.81       215\n",
      "   macro avg       0.85      0.79      0.80       215\n",
      "weighted avg       0.83      0.81      0.81       215\n",
      "\n"
     ]
    }
   ],
   "source": [
    "# 모형 성능 평가 - 평가지표 계산\n",
    "svm_report = metrics.classification_report(y_test, y_hat)            \n",
    "print(svm_report)"
   ]
  }
 ],
 "metadata": {
  "kernelspec": {
   "display_name": "Python 3",
   "language": "python",
   "name": "python3"
  },
  "language_info": {
   "codemirror_mode": {
    "name": "ipython",
    "version": 3
   },
   "file_extension": ".py",
   "mimetype": "text/x-python",
   "name": "python",
   "nbconvert_exporter": "python",
   "pygments_lexer": "ipython3",
   "version": "3.9.5"
  }
 },
 "nbformat": 4,
 "nbformat_minor": 5
}
