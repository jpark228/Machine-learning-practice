{
 "cells": [
  {
   "cell_type": "markdown",
   "id": "e2a82aba",
   "metadata": {},
   "source": [
    "# 객체"
   ]
  },
  {
   "cell_type": "markdown",
   "id": "208ad640",
   "metadata": {},
   "source": [
    "## 변수"
   ]
  },
  {
   "cell_type": "code",
   "execution_count": 1,
   "id": "ef695306",
   "metadata": {},
   "outputs": [
    {
     "data": {
      "text/plain": [
       "7"
      ]
     },
     "execution_count": 1,
     "metadata": {},
     "output_type": "execute_result"
    }
   ],
   "source": [
    "a = 3\n",
    "b = 4\n",
    "a + b"
   ]
  },
  {
   "cell_type": "code",
   "execution_count": 2,
   "id": "73c3c92c",
   "metadata": {},
   "outputs": [
    {
     "name": "stdout",
     "output_type": "stream",
     "text": [
      "3\n",
      "three\n"
     ]
    }
   ],
   "source": [
    "a = 3\n",
    "print(a)\n",
    "a = \"three\"\n",
    "print(a)"
   ]
  },
  {
   "cell_type": "markdown",
   "id": "3c6b9682",
   "metadata": {},
   "source": [
    "# 숫자타입"
   ]
  },
  {
   "cell_type": "code",
   "execution_count": 3,
   "id": "2f5644cb",
   "metadata": {},
   "outputs": [
    {
     "data": {
      "text/plain": [
       "int"
      ]
     },
     "execution_count": 3,
     "metadata": {},
     "output_type": "execute_result"
    }
   ],
   "source": [
    "type(4)"
   ]
  },
  {
   "cell_type": "code",
   "execution_count": 4,
   "id": "9b0a59d8",
   "metadata": {},
   "outputs": [
    {
     "data": {
      "text/plain": [
       "float"
      ]
     },
     "execution_count": 4,
     "metadata": {},
     "output_type": "execute_result"
    }
   ],
   "source": [
    "type(4.4)"
   ]
  },
  {
   "cell_type": "code",
   "execution_count": 5,
   "id": "ca0f66de",
   "metadata": {},
   "outputs": [
    {
     "data": {
      "text/plain": [
       "float"
      ]
     },
     "execution_count": 5,
     "metadata": {},
     "output_type": "execute_result"
    }
   ],
   "source": [
    "type(4.)"
   ]
  },
  {
   "cell_type": "code",
   "execution_count": 6,
   "id": "a4f0b0d6",
   "metadata": {},
   "outputs": [
    {
     "data": {
      "text/plain": [
       "4.0"
      ]
     },
     "execution_count": 6,
     "metadata": {},
     "output_type": "execute_result"
    }
   ],
   "source": [
    "float(4)"
   ]
  },
  {
   "cell_type": "code",
   "execution_count": 7,
   "id": "14457da8",
   "metadata": {},
   "outputs": [
    {
     "data": {
      "text/plain": [
       "4"
      ]
     },
     "execution_count": 7,
     "metadata": {},
     "output_type": "execute_result"
    }
   ],
   "source": [
    "int(4.9)"
   ]
  },
  {
   "cell_type": "code",
   "execution_count": 8,
   "id": "b776b066",
   "metadata": {
    "scrolled": false
   },
   "outputs": [
    {
     "data": {
      "text/plain": [
       "0.02499999999999991"
      ]
     },
     "execution_count": 8,
     "metadata": {},
     "output_type": "execute_result"
    }
   ],
   "source": [
    "1.125 - 1.1"
   ]
  },
  {
   "cell_type": "markdown",
   "id": "25f00481",
   "metadata": {},
   "source": [
    "## 수학 연산자"
   ]
  },
  {
   "cell_type": "code",
   "execution_count": 9,
   "id": "9fbfecac",
   "metadata": {},
   "outputs": [
    {
     "data": {
      "text/plain": [
       "7"
      ]
     },
     "execution_count": 9,
     "metadata": {},
     "output_type": "execute_result"
    }
   ],
   "source": [
    "3 + 4 # 덧셈"
   ]
  },
  {
   "cell_type": "code",
   "execution_count": 10,
   "id": "e6d5c7aa",
   "metadata": {},
   "outputs": [
    {
     "data": {
      "text/plain": [
       "-1"
      ]
     },
     "execution_count": 10,
     "metadata": {},
     "output_type": "execute_result"
    }
   ],
   "source": [
    "3 - 4 # 뺄셈"
   ]
  },
  {
   "cell_type": "code",
   "execution_count": 11,
   "id": "bb2989cf",
   "metadata": {},
   "outputs": [
    {
     "data": {
      "text/plain": [
       "0.75"
      ]
     },
     "execution_count": 11,
     "metadata": {},
     "output_type": "execute_result"
    }
   ],
   "source": [
    "3 / 4 # 나눗셈"
   ]
  },
  {
   "cell_type": "code",
   "execution_count": 12,
   "id": "f1ea2570",
   "metadata": {},
   "outputs": [
    {
     "data": {
      "text/plain": [
       "12"
      ]
     },
     "execution_count": 12,
     "metadata": {},
     "output_type": "execute_result"
    }
   ],
   "source": [
    "3 * 4 # 곱셈"
   ]
  },
  {
   "cell_type": "code",
   "execution_count": 13,
   "id": "445eec4e",
   "metadata": {},
   "outputs": [
    {
     "data": {
      "text/plain": [
       "81"
      ]
     },
     "execution_count": 13,
     "metadata": {},
     "output_type": "execute_result"
    }
   ],
   "source": [
    "3**4 # 지수 연산자 (엑셀에서는 3^4)"
   ]
  },
  {
   "cell_type": "code",
   "execution_count": 14,
   "id": "35d79bb6",
   "metadata": {},
   "outputs": [
    {
     "data": {
      "text/plain": [
       "21"
      ]
     },
     "execution_count": 14,
     "metadata": {},
     "output_type": "execute_result"
    }
   ],
   "source": [
    "3 * (3 + 4) # 괄호"
   ]
  },
  {
   "cell_type": "markdown",
   "id": "d53217a0",
   "metadata": {},
   "source": [
    "# 불리언"
   ]
  },
  {
   "cell_type": "code",
   "execution_count": 15,
   "id": "79e16b3f",
   "metadata": {},
   "outputs": [
    {
     "data": {
      "text/plain": [
       "False"
      ]
     },
     "execution_count": 15,
     "metadata": {},
     "output_type": "execute_result"
    }
   ],
   "source": [
    "3 == 4 #일치"
   ]
  },
  {
   "cell_type": "code",
   "execution_count": 16,
   "id": "39dc2e11",
   "metadata": {},
   "outputs": [
    {
     "data": {
      "text/plain": [
       "True"
      ]
     },
     "execution_count": 16,
     "metadata": {},
     "output_type": "execute_result"
    }
   ],
   "source": [
    "3 != 4 #불일치"
   ]
  },
  {
   "cell_type": "code",
   "execution_count": 17,
   "id": "0605dfdc",
   "metadata": {},
   "outputs": [
    {
     "data": {
      "text/plain": [
       "True"
      ]
     },
     "execution_count": 17,
     "metadata": {},
     "output_type": "execute_result"
    }
   ],
   "source": [
    "3 < 4 #미만. 초과는 >."
   ]
  },
  {
   "cell_type": "code",
   "execution_count": 18,
   "id": "41430337",
   "metadata": {},
   "outputs": [
    {
     "data": {
      "text/plain": [
       "True"
      ]
     },
     "execution_count": 18,
     "metadata": {},
     "output_type": "execute_result"
    }
   ],
   "source": [
    "3 <= 4 # 이하. 이상은 >=."
   ]
  },
  {
   "cell_type": "code",
   "execution_count": 19,
   "id": "38e7ab1d",
   "metadata": {},
   "outputs": [
    {
     "data": {
      "text/plain": [
       "True"
      ]
     },
     "execution_count": 19,
     "metadata": {},
     "output_type": "execute_result"
    }
   ],
   "source": [
    "# 논리 표현식은 서로 연결할 수 있습니다\n",
    "# VBA에서는 10 < 12 And 12 < 17\n",
    "# 엑셀 공식에서는 =AND(10 < 12, 12 < 17)와 같습니다\n",
    "10 < 12 < 17"
   ]
  },
  {
   "cell_type": "code",
   "execution_count": 20,
   "id": "ca6d6b92",
   "metadata": {},
   "outputs": [
    {
     "data": {
      "text/plain": [
       "False"
      ]
     },
     "execution_count": 20,
     "metadata": {},
     "output_type": "execute_result"
    }
   ],
   "source": [
    "not True # \"not\" 연산자"
   ]
  },
  {
   "cell_type": "code",
   "execution_count": 21,
   "id": "e7a5d845",
   "metadata": {},
   "outputs": [
    {
     "data": {
      "text/plain": [
       "False"
      ]
     },
     "execution_count": 21,
     "metadata": {},
     "output_type": "execute_result"
    }
   ],
   "source": [
    "False and True # \"and\" 연산자"
   ]
  },
  {
   "cell_type": "code",
   "execution_count": 22,
   "id": "1496fd39",
   "metadata": {
    "scrolled": true
   },
   "outputs": [
    {
     "data": {
      "text/plain": [
       "True"
      ]
     },
     "execution_count": 22,
     "metadata": {},
     "output_type": "execute_result"
    }
   ],
   "source": [
    "False or True # \"or\" 연산자"
   ]
  },
  {
   "cell_type": "code",
   "execution_count": 23,
   "id": "68e7b3fb",
   "metadata": {},
   "outputs": [
    {
     "data": {
      "text/plain": [
       "True"
      ]
     },
     "execution_count": 23,
     "metadata": {},
     "output_type": "execute_result"
    }
   ],
   "source": [
    "bool(2)"
   ]
  },
  {
   "cell_type": "code",
   "execution_count": 24,
   "id": "61126b07",
   "metadata": {},
   "outputs": [
    {
     "data": {
      "text/plain": [
       "False"
      ]
     },
     "execution_count": 24,
     "metadata": {},
     "output_type": "execute_result"
    }
   ],
   "source": [
    "bool(0)"
   ]
  },
  {
   "cell_type": "code",
   "execution_count": 25,
   "id": "0462df6f",
   "metadata": {},
   "outputs": [
    {
     "data": {
      "text/plain": [
       "True"
      ]
     },
     "execution_count": 25,
     "metadata": {},
     "output_type": "execute_result"
    }
   ],
   "source": [
    "bool(\"some text\")"
   ]
  },
  {
   "cell_type": "code",
   "execution_count": 26,
   "id": "f215939f",
   "metadata": {},
   "outputs": [
    {
     "data": {
      "text/plain": [
       "False"
      ]
     },
     "execution_count": 26,
     "metadata": {},
     "output_type": "execute_result"
    }
   ],
   "source": [
    "bool(\"\")"
   ]
  },
  {
   "cell_type": "code",
   "execution_count": 27,
   "id": "f10ef81e",
   "metadata": {},
   "outputs": [
    {
     "data": {
      "text/plain": [
       "False"
      ]
     },
     "execution_count": 27,
     "metadata": {},
     "output_type": "execute_result"
    }
   ],
   "source": [
    "bool(None)"
   ]
  },
  {
   "cell_type": "markdown",
   "id": "ff6a6f96",
   "metadata": {},
   "source": [
    "# 문자열"
   ]
  },
  {
   "cell_type": "code",
   "execution_count": 28,
   "id": "9e4b6705",
   "metadata": {},
   "outputs": [
    {
     "data": {
      "text/plain": [
       "'A double quote string. A single quote string.'"
      ]
     },
     "execution_count": 28,
     "metadata": {},
     "output_type": "execute_result"
    }
   ],
   "source": [
    "\"A double quote string. \" + 'A single quote string.'"
   ]
  },
  {
   "cell_type": "code",
   "execution_count": 30,
   "id": "94d5a558",
   "metadata": {},
   "outputs": [
    {
     "name": "stdout",
     "output_type": "stream",
     "text": [
      "Don't wait!Learn how to \"speak\" Python.\n"
     ]
    }
   ],
   "source": [
    "print(\"Don't wait!\" + 'Learn how to \"speak\" Python.')"
   ]
  },
  {
   "cell_type": "code",
   "execution_count": 31,
   "id": "95784ac0",
   "metadata": {},
   "outputs": [
    {
     "name": "stdout",
     "output_type": "stream",
     "text": [
      "It's easy to \"escape\" characters with a leading \\.\n"
     ]
    }
   ],
   "source": [
    "print(\"It's easy to \\\"escape\\\" characters with a leading \\\\.\")"
   ]
  },
  {
   "cell_type": "code",
   "execution_count": 32,
   "id": "7fbcd3b7",
   "metadata": {},
   "outputs": [
    {
     "data": {
      "text/plain": [
       "'Python is free and open source.'"
      ]
     },
     "execution_count": 32,
     "metadata": {},
     "output_type": "execute_result"
    }
   ],
   "source": [
    "# 파이썬은 여러 가지 변수에 여러 가지 값을 한 행에서\n",
    "# 쉽게 할당할 수 있습니다\n",
    "first_adjective, second_adjective =\"free\", \"open source\"\n",
    "f\"Python is {first_adjective} and {second_adjective}.\""
   ]
  },
  {
   "cell_type": "code",
   "execution_count": 33,
   "id": "66674869",
   "metadata": {},
   "outputs": [
    {
     "data": {
      "text/plain": [
       "'python'"
      ]
     },
     "execution_count": 33,
     "metadata": {},
     "output_type": "execute_result"
    }
   ],
   "source": [
    "\"PYTHON\".lower()"
   ]
  },
  {
   "cell_type": "code",
   "execution_count": 34,
   "id": "898f966e",
   "metadata": {
    "scrolled": true
   },
   "outputs": [
    {
     "data": {
      "text/plain": [
       "'PYTHON'"
      ]
     },
     "execution_count": 34,
     "metadata": {},
     "output_type": "execute_result"
    }
   ],
   "source": [
    "\"python\".upper()"
   ]
  },
  {
   "cell_type": "markdown",
   "id": "34c00d61",
   "metadata": {},
   "source": [
    "# 인덱스와 슬라이스"
   ]
  },
  {
   "cell_type": "markdown",
   "id": "20c72bd8",
   "metadata": {},
   "source": [
    "## 인덱스"
   ]
  },
  {
   "cell_type": "code",
   "execution_count": 35,
   "id": "b24be9f9",
   "metadata": {},
   "outputs": [],
   "source": [
    "language = \"PYTHON\""
   ]
  },
  {
   "cell_type": "code",
   "execution_count": 36,
   "id": "01f0166e",
   "metadata": {},
   "outputs": [
    {
     "data": {
      "text/plain": [
       "'P'"
      ]
     },
     "execution_count": 36,
     "metadata": {},
     "output_type": "execute_result"
    }
   ],
   "source": [
    "language[0]"
   ]
  },
  {
   "cell_type": "code",
   "execution_count": 37,
   "id": "0f18f9ed",
   "metadata": {},
   "outputs": [
    {
     "data": {
      "text/plain": [
       "'Y'"
      ]
     },
     "execution_count": 37,
     "metadata": {},
     "output_type": "execute_result"
    }
   ],
   "source": [
    "language[1]"
   ]
  },
  {
   "cell_type": "code",
   "execution_count": 38,
   "id": "a3443368",
   "metadata": {},
   "outputs": [
    {
     "data": {
      "text/plain": [
       "'N'"
      ]
     },
     "execution_count": 38,
     "metadata": {},
     "output_type": "execute_result"
    }
   ],
   "source": [
    "language[-1]"
   ]
  },
  {
   "cell_type": "code",
   "execution_count": 39,
   "id": "7e569dc8",
   "metadata": {},
   "outputs": [
    {
     "data": {
      "text/plain": [
       "'O'"
      ]
     },
     "execution_count": 39,
     "metadata": {},
     "output_type": "execute_result"
    }
   ],
   "source": [
    "language[-2]"
   ]
  },
  {
   "cell_type": "markdown",
   "id": "6eaa638d",
   "metadata": {},
   "source": [
    "## 슬라이스"
   ]
  },
  {
   "cell_type": "code",
   "execution_count": 41,
   "id": "ef196eec",
   "metadata": {},
   "outputs": [
    {
     "data": {
      "text/plain": [
       "'PYT'"
      ]
     },
     "execution_count": 41,
     "metadata": {},
     "output_type": "execute_result"
    }
   ],
   "source": [
    "language[:3] # language[0:3]과 같습니다"
   ]
  },
  {
   "cell_type": "code",
   "execution_count": 42,
   "id": "e538919c",
   "metadata": {},
   "outputs": [
    {
     "data": {
      "text/plain": [
       "'YT'"
      ]
     },
     "execution_count": 42,
     "metadata": {},
     "output_type": "execute_result"
    }
   ],
   "source": [
    "language[1:3]"
   ]
  },
  {
   "cell_type": "code",
   "execution_count": 43,
   "id": "9047eb62",
   "metadata": {},
   "outputs": [
    {
     "data": {
      "text/plain": [
       "'HON'"
      ]
     },
     "execution_count": 43,
     "metadata": {},
     "output_type": "execute_result"
    }
   ],
   "source": [
    "language[-3:] # language[-3:6]과 같습니다"
   ]
  },
  {
   "cell_type": "code",
   "execution_count": 44,
   "id": "2dc9a06f",
   "metadata": {},
   "outputs": [
    {
     "data": {
      "text/plain": [
       "'HO'"
      ]
     },
     "execution_count": 44,
     "metadata": {},
     "output_type": "execute_result"
    }
   ],
   "source": [
    "language[-3:-1]"
   ]
  },
  {
   "cell_type": "code",
   "execution_count": 45,
   "id": "e177b25e",
   "metadata": {},
   "outputs": [
    {
     "data": {
      "text/plain": [
       "'PTO'"
      ]
     },
     "execution_count": 45,
     "metadata": {},
     "output_type": "execute_result"
    }
   ],
   "source": [
    "language[::2] # 매 두 번째 요소"
   ]
  },
  {
   "cell_type": "code",
   "execution_count": 46,
   "id": "71a4365d",
   "metadata": {},
   "outputs": [
    {
     "data": {
      "text/plain": [
       "'NOH'"
      ]
     },
     "execution_count": 46,
     "metadata": {},
     "output_type": "execute_result"
    }
   ],
   "source": [
    "language[-1:-4:-1]"
   ]
  },
  {
   "cell_type": "code",
   "execution_count": 47,
   "id": "db0673aa",
   "metadata": {},
   "outputs": [
    {
     "data": {
      "text/plain": [
       "'O'"
      ]
     },
     "execution_count": 47,
     "metadata": {},
     "output_type": "execute_result"
    }
   ],
   "source": [
    "language[-3:][1]"
   ]
  },
  {
   "cell_type": "markdown",
   "id": "87bcbd6b",
   "metadata": {},
   "source": [
    "# 데이터 구조"
   ]
  },
  {
   "cell_type": "markdown",
   "id": "eb1c5cfa",
   "metadata": {},
   "source": [
    "## 리스트"
   ]
  },
  {
   "cell_type": "code",
   "execution_count": 48,
   "id": "2361c934",
   "metadata": {},
   "outputs": [],
   "source": [
    "file_names = [\"one.xlsx\", \"two.xlsx\", \"three.xlsx\"]\n",
    "numbers =[1, 2, 3]"
   ]
  },
  {
   "cell_type": "code",
   "execution_count": 49,
   "id": "0b0094e0",
   "metadata": {},
   "outputs": [
    {
     "data": {
      "text/plain": [
       "['one.xlsx', 'two.xlsx', 'three.xlsx', 1, 2, 3]"
      ]
     },
     "execution_count": 49,
     "metadata": {},
     "output_type": "execute_result"
    }
   ],
   "source": [
    "file_names + numbers"
   ]
  },
  {
   "cell_type": "code",
   "execution_count": 51,
   "id": "14e85e48",
   "metadata": {},
   "outputs": [],
   "source": [
    "nested_list = [[1, 2, 3], [4, 5, 6], [7, 8, 9]]"
   ]
  },
  {
   "cell_type": "code",
   "execution_count": 52,
   "id": "6cc93e60",
   "metadata": {},
   "outputs": [],
   "source": [
    "cells = [[1, 2, 3],\n",
    "         [4, 5, 6],\n",
    "         [7, 8, 9]]"
   ]
  },
  {
   "cell_type": "code",
   "execution_count": 53,
   "id": "25daa12e",
   "metadata": {},
   "outputs": [
    {
     "data": {
      "text/plain": [
       "[4, 5, 6]"
      ]
     },
     "execution_count": 53,
     "metadata": {},
     "output_type": "execute_result"
    }
   ],
   "source": [
    "cells[1]"
   ]
  },
  {
   "cell_type": "code",
   "execution_count": 54,
   "id": "3af70e60",
   "metadata": {},
   "outputs": [
    {
     "data": {
      "text/plain": [
       "[5, 6]"
      ]
     },
     "execution_count": 54,
     "metadata": {},
     "output_type": "execute_result"
    }
   ],
   "source": [
    "cells[1][1:]"
   ]
  },
  {
   "cell_type": "code",
   "execution_count": 57,
   "id": "3c2ab10e",
   "metadata": {},
   "outputs": [],
   "source": [
    "users = [\"Linda\", \"Brian\"]"
   ]
  },
  {
   "cell_type": "code",
   "execution_count": 58,
   "id": "fc1743c1",
   "metadata": {},
   "outputs": [
    {
     "data": {
      "text/plain": [
       "['Linda', 'Brian', 'Jennifer']"
      ]
     },
     "execution_count": 58,
     "metadata": {},
     "output_type": "execute_result"
    }
   ],
   "source": [
    "users.append(\"Jennifer\")\n",
    "users"
   ]
  },
  {
   "cell_type": "code",
   "execution_count": 60,
   "id": "79fb2d7c",
   "metadata": {},
   "outputs": [
    {
     "data": {
      "text/plain": [
       "['Kim', 'Linda', 'Brian', 'Jennifer']"
      ]
     },
     "execution_count": 60,
     "metadata": {},
     "output_type": "execute_result"
    }
   ],
   "source": [
    "users.insert(0, \"Kim\")\n",
    "users"
   ]
  },
  {
   "cell_type": "code",
   "execution_count": 61,
   "id": "8e1fc66e",
   "metadata": {},
   "outputs": [
    {
     "data": {
      "text/plain": [
       "'Jennifer'"
      ]
     },
     "execution_count": 61,
     "metadata": {},
     "output_type": "execute_result"
    }
   ],
   "source": [
    "users.pop()"
   ]
  },
  {
   "cell_type": "code",
   "execution_count": 62,
   "id": "ced5a9e8",
   "metadata": {},
   "outputs": [
    {
     "data": {
      "text/plain": [
       "['Kim', 'Linda', 'Brian']"
      ]
     },
     "execution_count": 62,
     "metadata": {},
     "output_type": "execute_result"
    }
   ],
   "source": [
    "users"
   ]
  },
  {
   "cell_type": "code",
   "execution_count": 63,
   "id": "98f97851",
   "metadata": {},
   "outputs": [],
   "source": [
    "del users[0]"
   ]
  },
  {
   "cell_type": "code",
   "execution_count": 64,
   "id": "56751469",
   "metadata": {},
   "outputs": [
    {
     "data": {
      "text/plain": [
       "2"
      ]
     },
     "execution_count": 64,
     "metadata": {},
     "output_type": "execute_result"
    }
   ],
   "source": [
    "len(users)"
   ]
  },
  {
   "cell_type": "code",
   "execution_count": 66,
   "id": "50eb0152",
   "metadata": {},
   "outputs": [
    {
     "data": {
      "text/plain": [
       "True"
      ]
     },
     "execution_count": 66,
     "metadata": {},
     "output_type": "execute_result"
    }
   ],
   "source": [
    "\"Linda\" in users"
   ]
  },
  {
   "cell_type": "code",
   "execution_count": 67,
   "id": "71d27168",
   "metadata": {},
   "outputs": [
    {
     "name": "stdout",
     "output_type": "stream",
     "text": [
      "['Brian', 'Linda']\n",
      "['Linda', 'Brian']\n"
     ]
    }
   ],
   "source": [
    "print(sorted(users))\n",
    "print(users)"
   ]
  },
  {
   "cell_type": "code",
   "execution_count": 68,
   "id": "b73807b5",
   "metadata": {},
   "outputs": [
    {
     "data": {
      "text/plain": [
       "['Brian', 'Linda']"
      ]
     },
     "execution_count": 68,
     "metadata": {},
     "output_type": "execute_result"
    }
   ],
   "source": [
    "users.sort()\n",
    "users"
   ]
  },
  {
   "cell_type": "code",
   "execution_count": 69,
   "id": "16f4fa70",
   "metadata": {},
   "outputs": [
    {
     "data": {
      "text/plain": [
       "6"
      ]
     },
     "execution_count": 69,
     "metadata": {},
     "output_type": "execute_result"
    }
   ],
   "source": [
    "len(\"Python\")"
   ]
  },
  {
   "cell_type": "code",
   "execution_count": 70,
   "id": "21957fa8",
   "metadata": {
    "scrolled": false
   },
   "outputs": [
    {
     "data": {
      "text/plain": [
       "True"
      ]
     },
     "execution_count": 70,
     "metadata": {},
     "output_type": "execute_result"
    }
   ],
   "source": [
    "\"free\" in \"Python is free and open soure\""
   ]
  },
  {
   "cell_type": "markdown",
   "id": "3f48c051",
   "metadata": {},
   "source": [
    "## 딕셔너리"
   ]
  },
  {
   "cell_type": "code",
   "execution_count": 71,
   "id": "d70ef155",
   "metadata": {},
   "outputs": [],
   "source": [
    "exchange_rates = {\"EURUSD\": 1.1152,\n",
    "                  \"GBPUSD\": 1.2454,\n",
    "                  \"AUSUSD\": 0.6161}"
   ]
  },
  {
   "cell_type": "code",
   "execution_count": 72,
   "id": "8b938c27",
   "metadata": {},
   "outputs": [
    {
     "data": {
      "text/plain": [
       "1.1152"
      ]
     },
     "execution_count": 72,
     "metadata": {},
     "output_type": "execute_result"
    }
   ],
   "source": [
    "exchange_rates[\"EURUSD\"]"
   ]
  },
  {
   "cell_type": "code",
   "execution_count": 73,
   "id": "d758543c",
   "metadata": {},
   "outputs": [
    {
     "data": {
      "text/plain": [
       "{'EURUSD': 1.2, 'GBPUSD': 1.2454, 'AUSUSD': 0.6161}"
      ]
     },
     "execution_count": 73,
     "metadata": {},
     "output_type": "execute_result"
    }
   ],
   "source": [
    "exchange_rates[\"EURUSD\"] = 1.2\n",
    "exchange_rates"
   ]
  },
  {
   "cell_type": "code",
   "execution_count": 74,
   "id": "55aba43a",
   "metadata": {},
   "outputs": [
    {
     "data": {
      "text/plain": [
       "{'EURUSD': 1.2, 'GBPUSD': 1.2454, 'AUSUSD': 0.6161, 'CADUSD': 0.714}"
      ]
     },
     "execution_count": 74,
     "metadata": {},
     "output_type": "execute_result"
    }
   ],
   "source": [
    "exchange_rates[\"CADUSD\"] = 0.714\n",
    "exchange_rates"
   ]
  },
  {
   "cell_type": "code",
   "execution_count": 75,
   "id": "ee63da8c",
   "metadata": {},
   "outputs": [
    {
     "data": {
      "text/plain": [
       "{'EURUSD': 1.2,\n",
       " 'GBPUSD': 1.2222,\n",
       " 'AUSUSD': 0.6161,\n",
       " 'CADUSD': 0.714,\n",
       " 'SGDUSD': 0.7004}"
      ]
     },
     "execution_count": 75,
     "metadata": {},
     "output_type": "execute_result"
    }
   ],
   "source": [
    "{**exchange_rates, **{\"SGDUSD\": 0.7004, \"GBPUSD\": 1.2222}}"
   ]
  },
  {
   "cell_type": "code",
   "execution_count": 78,
   "id": "4cc8c550",
   "metadata": {},
   "outputs": [
    {
     "data": {
      "text/plain": [
       "{'EURUSD': 1.2,\n",
       " 'GBPUSD': 1.2222,\n",
       " 'AUSUSD': 0.6161,\n",
       " 'CADUSD': 0.714,\n",
       " 'SGDUSD': 0.7004}"
      ]
     },
     "execution_count": 78,
     "metadata": {},
     "output_type": "execute_result"
    }
   ],
   "source": [
    "exchange_rates | {\"SGDUSD\": 0.7004, \"GBPUSD\": 1.2222}"
   ]
  },
  {
   "cell_type": "code",
   "execution_count": 79,
   "id": "55926946",
   "metadata": {},
   "outputs": [],
   "source": [
    "currencies = {1: \"EUR\", 2: \"USD\", 3: \"AUD\"}"
   ]
  },
  {
   "cell_type": "code",
   "execution_count": 80,
   "id": "af731d53",
   "metadata": {},
   "outputs": [
    {
     "data": {
      "text/plain": [
       "'EUR'"
      ]
     },
     "execution_count": 80,
     "metadata": {},
     "output_type": "execute_result"
    }
   ],
   "source": [
    "currencies[1]"
   ]
  },
  {
   "cell_type": "code",
   "execution_count": 81,
   "id": "ec89d438",
   "metadata": {},
   "outputs": [
    {
     "data": {
      "text/plain": [
       "'N/A'"
      ]
     },
     "execution_count": 81,
     "metadata": {},
     "output_type": "execute_result"
    }
   ],
   "source": [
    "# currencies[100]은 예외를 일으킵니다.\n",
    "# 100이 아니더라도 존재하지 않는 키는 다음과 같이 사용 가능합니다.\n",
    "currencies.get(100, \"N/A\")"
   ]
  },
  {
   "cell_type": "markdown",
   "id": "83ee798d",
   "metadata": {},
   "source": [
    "## 튜플"
   ]
  },
  {
   "cell_type": "code",
   "execution_count": 83,
   "id": "d0b5102e",
   "metadata": {},
   "outputs": [],
   "source": [
    "currencies = (\"EUR\", \"GBP\", \"AUD\")"
   ]
  },
  {
   "cell_type": "code",
   "execution_count": 84,
   "id": "d497d376",
   "metadata": {},
   "outputs": [
    {
     "data": {
      "text/plain": [
       "'EUR'"
      ]
     },
     "execution_count": 84,
     "metadata": {},
     "output_type": "execute_result"
    }
   ],
   "source": [
    "currencies[0]"
   ]
  },
  {
   "cell_type": "code",
   "execution_count": 85,
   "id": "61d533e9",
   "metadata": {},
   "outputs": [
    {
     "data": {
      "text/plain": [
       "('EUR', 'GBP', 'AUD', 'SGD')"
      ]
     },
     "execution_count": 85,
     "metadata": {},
     "output_type": "execute_result"
    }
   ],
   "source": [
    "currencies + (\"SGD\",)"
   ]
  },
  {
   "cell_type": "markdown",
   "id": "46f7e3e7",
   "metadata": {},
   "source": [
    "## 세트\n",
    " "
   ]
  },
  {
   "cell_type": "code",
   "execution_count": 87,
   "id": "6089cba4",
   "metadata": {},
   "outputs": [
    {
     "data": {
      "text/plain": [
       "{'EUR', 'SGD', 'USD'}"
      ]
     },
     "execution_count": 87,
     "metadata": {},
     "output_type": "execute_result"
    }
   ],
   "source": [
    "set([\"USD\", \"USD\", \"SGD\", \"EUR\", \"USD\", \"EUR\"])"
   ]
  },
  {
   "cell_type": "code",
   "execution_count": 88,
   "id": "a0b72b84",
   "metadata": {},
   "outputs": [],
   "source": [
    "portfolio1 = {\"USD\", \"EUR\", \"SGD\", \"CHF\"}\n",
    "portfolio2 = {\"EUR\", \"SGD\", \"CAD\"}"
   ]
  },
  {
   "cell_type": "code",
   "execution_count": 89,
   "id": "d9e1e5d9",
   "metadata": {},
   "outputs": [
    {
     "data": {
      "text/plain": [
       "{'CAD', 'CHF', 'EUR', 'SGD', 'USD'}"
      ]
     },
     "execution_count": 89,
     "metadata": {},
     "output_type": "execute_result"
    }
   ],
   "source": [
    "# portfolio2.union(portfolio1)와 같습니다\n",
    "portfolio1.union(portfolio2)"
   ]
  },
  {
   "cell_type": "code",
   "execution_count": 90,
   "id": "faaa401c",
   "metadata": {},
   "outputs": [
    {
     "data": {
      "text/plain": [
       "{'EUR', 'SGD'}"
      ]
     },
     "execution_count": 90,
     "metadata": {},
     "output_type": "execute_result"
    }
   ],
   "source": [
    "# portfolio2.intersection(portfolio1)와 같습니다\n",
    "portfolio1.intersection(portfolio2)"
   ]
  },
  {
   "cell_type": "code",
   "execution_count": 91,
   "id": "ec1184a0",
   "metadata": {},
   "outputs": [
    {
     "data": {
      "text/plain": [
       "('USD', 'EUR', 'CHF')"
      ]
     },
     "execution_count": 91,
     "metadata": {},
     "output_type": "execute_result"
    }
   ],
   "source": [
    "currencies = \"USD\", \"EUR\", \"CHF\"\n",
    "currencies"
   ]
  },
  {
   "cell_type": "code",
   "execution_count": 92,
   "id": "679ac1eb",
   "metadata": {},
   "outputs": [
    {
     "data": {
      "text/plain": [
       "['USD', 'EUR', 'CHF']"
      ]
     },
     "execution_count": 92,
     "metadata": {},
     "output_type": "execute_result"
    }
   ],
   "source": [
    "list(currencies)"
   ]
  },
  {
   "cell_type": "markdown",
   "id": "dff0f52e",
   "metadata": {},
   "source": [
    "# 제어문"
   ]
  },
  {
   "cell_type": "markdown",
   "id": "6bb62bf0",
   "metadata": {},
   "source": [
    "## if 문과 조건 표현식"
   ]
  },
  {
   "cell_type": "code",
   "execution_count": 93,
   "id": "0d164258",
   "metadata": {},
   "outputs": [
    {
     "name": "stdout",
     "output_type": "stream",
     "text": [
      "i is bigger than 10\n"
     ]
    }
   ],
   "source": [
    "i = 20\n",
    "\n",
    "if i < 5:\n",
    "    print(\"i is smaller than 5\")\n",
    "elif i <= 10:\n",
    "    print(\"i is between 5 and 10\")\n",
    "else:\n",
    "    print(\"i is bigger than 10\")"
   ]
  },
  {
   "cell_type": "code",
   "execution_count": 1,
   "id": "500a603e",
   "metadata": {},
   "outputs": [
    {
     "name": "stdout",
     "output_type": "stream",
     "text": [
      "This is important.\n"
     ]
    }
   ],
   "source": [
    "is_important = True\n",
    "\n",
    "if is_important:\n",
    "    print(\"This is important.\")\n",
    "else:\n",
    "    print(\"This is not important.\")"
   ]
  },
  {
   "cell_type": "code",
   "execution_count": 2,
   "id": "6035cdab",
   "metadata": {},
   "outputs": [
    {
     "name": "stdout",
     "output_type": "stream",
     "text": [
      "There were no values provided\n"
     ]
    }
   ],
   "source": [
    "values = []\n",
    "\n",
    "if values:\n",
    "    print(f\"The following values were provided: {values}\")\n",
    "else:\n",
    "    print(\"There were no values provided\")"
   ]
  },
  {
   "cell_type": "code",
   "execution_count": 3,
   "id": "2ab9ef0c",
   "metadata": {},
   "outputs": [
    {
     "name": "stdout",
     "output_type": "stream",
     "text": [
      "not important\n"
     ]
    }
   ],
   "source": [
    "is_important = False\n",
    "print(\"important\") if is_important else print(\"not important\")"
   ]
  },
  {
   "cell_type": "markdown",
   "id": "67dea68f",
   "metadata": {},
   "source": [
    "## for와 while 루프"
   ]
  },
  {
   "cell_type": "code",
   "execution_count": 4,
   "id": "50829cd2",
   "metadata": {},
   "outputs": [
    {
     "name": "stdout",
     "output_type": "stream",
     "text": [
      "USD\n",
      "HKD\n",
      "AUD\n"
     ]
    }
   ],
   "source": [
    "currencies = [\"USD\", \"HKD\", \"AUD\"]\n",
    "\n",
    "for currency in currencies:\n",
    "    print(currency)"
   ]
  },
  {
   "cell_type": "code",
   "execution_count": 5,
   "id": "a9a74cc1",
   "metadata": {},
   "outputs": [
    {
     "data": {
      "text/plain": [
       "range(0, 5)"
      ]
     },
     "execution_count": 5,
     "metadata": {},
     "output_type": "execute_result"
    }
   ],
   "source": [
    "range(5)"
   ]
  },
  {
   "cell_type": "code",
   "execution_count": 6,
   "id": "1b767b3a",
   "metadata": {},
   "outputs": [
    {
     "data": {
      "text/plain": [
       "[0, 1, 2, 3, 4]"
      ]
     },
     "execution_count": 6,
     "metadata": {},
     "output_type": "execute_result"
    }
   ],
   "source": [
    "list(range(5))"
   ]
  },
  {
   "cell_type": "code",
   "execution_count": 7,
   "id": "26f90db1",
   "metadata": {},
   "outputs": [
    {
     "data": {
      "text/plain": [
       "[2, 4]"
      ]
     },
     "execution_count": 7,
     "metadata": {},
     "output_type": "execute_result"
    }
   ],
   "source": [
    "list(range(2, 5, 2))"
   ]
  },
  {
   "cell_type": "code",
   "execution_count": 8,
   "id": "37cf72e2",
   "metadata": {},
   "outputs": [
    {
     "name": "stdout",
     "output_type": "stream",
     "text": [
      "0\n",
      "1\n",
      "2\n"
     ]
    }
   ],
   "source": [
    "for i in range(3):\n",
    "    print(i)"
   ]
  },
  {
   "cell_type": "code",
   "execution_count": 9,
   "id": "b75d6575",
   "metadata": {},
   "outputs": [
    {
     "name": "stdout",
     "output_type": "stream",
     "text": [
      "0 USD\n",
      "1 HKD\n",
      "2 AUD\n"
     ]
    }
   ],
   "source": [
    "for i, currency in enumerate(currencies):\n",
    "    print(i, currency)"
   ]
  },
  {
   "cell_type": "code",
   "execution_count": 10,
   "id": "9a96323d",
   "metadata": {},
   "outputs": [
    {
     "name": "stdout",
     "output_type": "stream",
     "text": [
      "EURUSD\n",
      "GBPUSD\n",
      "AUDUSD\n"
     ]
    }
   ],
   "source": [
    "exchange_rates = {\"EURUSD\": 1.1152,\n",
    "                  \"GBPUSD\": 1.2454,\n",
    "                  \"AUDUSD\": 0.6161}\n",
    "\n",
    "for currency_pair in exchange_rates:\n",
    "    print(currency_pair)"
   ]
  },
  {
   "cell_type": "code",
   "execution_count": 11,
   "id": "7553c90d",
   "metadata": {},
   "outputs": [
    {
     "name": "stdout",
     "output_type": "stream",
     "text": [
      "EURUSD 1.1152\n",
      "GBPUSD 1.2454\n",
      "AUDUSD 0.6161\n"
     ]
    }
   ],
   "source": [
    "for currency_pair, exchange_rate  in exchange_rates.items():\n",
    "    print(currency_pair, exchange_rate)"
   ]
  },
  {
   "cell_type": "code",
   "execution_count": 12,
   "id": "d953e7a5",
   "metadata": {},
   "outputs": [
    {
     "name": "stdout",
     "output_type": "stream",
     "text": [
      "0\n",
      "1\n"
     ]
    }
   ],
   "source": [
    "for i in range(15):\n",
    "    if i == 2:\n",
    "        break\n",
    "    else:\n",
    "        print(i)"
   ]
  },
  {
   "cell_type": "code",
   "execution_count": 13,
   "id": "ca8a11ea",
   "metadata": {},
   "outputs": [
    {
     "name": "stdout",
     "output_type": "stream",
     "text": [
      "0\n",
      "1\n",
      "3\n"
     ]
    }
   ],
   "source": [
    "for i in range(4):\n",
    "    if i == 2:\n",
    "        continue\n",
    "    else:\n",
    "        print(i)"
   ]
  },
  {
   "cell_type": "code",
   "execution_count": 14,
   "id": "4f7d7277",
   "metadata": {},
   "outputs": [
    {
     "name": "stdout",
     "output_type": "stream",
     "text": [
      "1\n",
      "2\n",
      "3\n",
      "3\n"
     ]
    }
   ],
   "source": [
    "for i in range(1, 4):\n",
    "    print(i)\n",
    "print(i)"
   ]
  },
  {
   "cell_type": "code",
   "execution_count": 15,
   "id": "e05b9b2e",
   "metadata": {},
   "outputs": [
    {
     "name": "stdout",
     "output_type": "stream",
     "text": [
      "0\n",
      "1\n",
      "2\n"
     ]
    }
   ],
   "source": [
    "n = 0\n",
    "while n <= 2:\n",
    "    print(n)\n",
    "    n += 1"
   ]
  },
  {
   "cell_type": "markdown",
   "id": "3335d274",
   "metadata": {},
   "source": [
    "## 리스트, 딕셔너리, 세트 내포"
   ]
  },
  {
   "cell_type": "code",
   "execution_count": 16,
   "id": "dd336f39",
   "metadata": {},
   "outputs": [],
   "source": [
    "currency_pairs = [\"USDJPY\", \"USDGBP\", \"USDCHF\",\n",
    "                  \"USDCAD\", \"AUDUSD\", \"NZDUSD\"]"
   ]
  },
  {
   "cell_type": "code",
   "execution_count": 18,
   "id": "3d964434",
   "metadata": {},
   "outputs": [
    {
     "data": {
      "text/plain": [
       "['AUD', 'NZD']"
      ]
     },
     "execution_count": 18,
     "metadata": {},
     "output_type": "execute_result"
    }
   ],
   "source": [
    "usd_qoute = []\n",
    "for pair in currency_pairs:\n",
    "    if pair[3:] == \"USD\":\n",
    "        usd_qoute.append(pair[:3])\n",
    "usd_qoute"
   ]
  },
  {
   "cell_type": "code",
   "execution_count": 20,
   "id": "c9066c53",
   "metadata": {},
   "outputs": [
    {
     "data": {
      "text/plain": [
       "['AUD', 'NZD']"
      ]
     },
     "execution_count": 20,
     "metadata": {},
     "output_type": "execute_result"
    }
   ],
   "source": [
    "[pair[:3] for pair in currency_pairs if pair[3:] == \"USD\"]"
   ]
  },
  {
   "cell_type": "code",
   "execution_count": 21,
   "id": "7ef7c707",
   "metadata": {},
   "outputs": [
    {
     "data": {
      "text/plain": [
       "['JPYUSD', 'GBPUSD', 'CHFUSD', 'CADUSD', 'USDAUD', 'USDNZD']"
      ]
     },
     "execution_count": 21,
     "metadata": {},
     "output_type": "execute_result"
    }
   ],
   "source": [
    "[pair[3:] + pair[:3] for pair in currency_pairs]"
   ]
  },
  {
   "cell_type": "code",
   "execution_count": 22,
   "id": "5c619238",
   "metadata": {},
   "outputs": [
    {
     "data": {
      "text/plain": [
       "{'EURUSD': 111.52, 'GBPUSD': 124.54, 'AUDUSD': 61.61}"
      ]
     },
     "execution_count": 22,
     "metadata": {},
     "output_type": "execute_result"
    }
   ],
   "source": [
    "exchange_rates = {\"EURUSD\": 1.1152,\n",
    "                  \"GBPUSD\": 1.2454,\n",
    "                  \"AUDUSD\": 0.6161}\n",
    "\n",
    "{k: v * 100 for (k, v) in exchange_rates.items()}"
   ]
  },
  {
   "cell_type": "code",
   "execution_count": 24,
   "id": "56a3aa22",
   "metadata": {},
   "outputs": [
    {
     "data": {
      "text/plain": [
       "{'EURUSD', 'GBPUSD', 'HKDUSD'}"
      ]
     },
     "execution_count": 24,
     "metadata": {},
     "output_type": "execute_result"
    }
   ],
   "source": [
    "{s + \"USD\" for s in [\"EUR\", \"GBP\", \"EUR\", \"HKD\", \"HKD\"]}"
   ]
  },
  {
   "cell_type": "markdown",
   "id": "c188764a",
   "metadata": {},
   "source": [
    "# 코드정리"
   ]
  },
  {
   "cell_type": "markdown",
   "id": "df9c3df0",
   "metadata": {},
   "source": [
    "## 함수"
   ]
  },
  {
   "cell_type": "code",
   "execution_count": 34,
   "id": "9129614f",
   "metadata": {},
   "outputs": [],
   "source": [
    "def convert_to_celcius(degrees, source=\"fahrenheit\"):\n",
    "    if source.lower() == \"fahrenheit\":\n",
    "        return (degrees-32) * (5/9)\n",
    "    elif source.lower() == \"kelvin\":\n",
    "        return degrees - 273.15\n",
    "    else:\n",
    "        return f\"Don't know how to convert from {source}\""
   ]
  },
  {
   "cell_type": "code",
   "execution_count": 31,
   "id": "c32c6309",
   "metadata": {},
   "outputs": [
    {
     "data": {
      "text/plain": [
       "37.77777777777778"
      ]
     },
     "execution_count": 31,
     "metadata": {},
     "output_type": "execute_result"
    }
   ],
   "source": [
    "convert_to_celcius(100, \"fahrenheit\")"
   ]
  },
  {
   "cell_type": "code",
   "execution_count": 32,
   "id": "7f67c7a1",
   "metadata": {},
   "outputs": [
    {
     "data": {
      "text/plain": [
       "10.0"
      ]
     },
     "execution_count": 32,
     "metadata": {},
     "output_type": "execute_result"
    }
   ],
   "source": [
    "convert_to_celcius(50)"
   ]
  },
  {
   "cell_type": "code",
   "execution_count": 35,
   "id": "7aa0fe15",
   "metadata": {},
   "outputs": [
    {
     "data": {
      "text/plain": [
       "-273.15"
      ]
     },
     "execution_count": 35,
     "metadata": {},
     "output_type": "execute_result"
    }
   ],
   "source": [
    "convert_to_celcius(source=\"kelvin\", degrees=0)"
   ]
  },
  {
   "cell_type": "markdown",
   "id": "76029442",
   "metadata": {},
   "source": [
    "## 모듈과 임포트 문"
   ]
  },
  {
   "cell_type": "code",
   "execution_count": 37,
   "id": "8d22871f",
   "metadata": {},
   "outputs": [
    {
     "name": "stdout",
     "output_type": "stream",
     "text": [
      "This is temperature module.\n"
     ]
    }
   ],
   "source": [
    "import temperature"
   ]
  },
  {
   "cell_type": "code",
   "execution_count": 38,
   "id": "e4664680",
   "metadata": {},
   "outputs": [
    {
     "data": {
      "text/plain": [
       "('fahrenheit', 'kelvin', 'celcius')"
      ]
     },
     "execution_count": 38,
     "metadata": {},
     "output_type": "execute_result"
    }
   ],
   "source": [
    "temperature.TEMPERATURE_SCALES"
   ]
  },
  {
   "cell_type": "code",
   "execution_count": 39,
   "id": "caa94740",
   "metadata": {},
   "outputs": [
    {
     "data": {
      "text/plain": [
       "48.88888888888889"
      ]
     },
     "execution_count": 39,
     "metadata": {},
     "output_type": "execute_result"
    }
   ],
   "source": [
    "temperature.convert_to_celcius(120, \"fahrenheit\")"
   ]
  },
  {
   "cell_type": "code",
   "execution_count": 40,
   "id": "66df5a07",
   "metadata": {},
   "outputs": [
    {
     "data": {
      "text/plain": [
       "('fahrenheit', 'kelvin', 'celcius')"
      ]
     },
     "execution_count": 40,
     "metadata": {},
     "output_type": "execute_result"
    }
   ],
   "source": [
    "import temperature as tp\n",
    "tp.TEMPERATURE_SCALES"
   ]
  },
  {
   "cell_type": "code",
   "execution_count": 41,
   "id": "960be8e9",
   "metadata": {},
   "outputs": [],
   "source": [
    "from temperature import TEMPERATURE_SCALES, convert_to_celcius"
   ]
  },
  {
   "cell_type": "code",
   "execution_count": 42,
   "id": "43fb22ff",
   "metadata": {},
   "outputs": [
    {
     "data": {
      "text/plain": [
       "('fahrenheit', 'kelvin', 'celcius')"
      ]
     },
     "execution_count": 42,
     "metadata": {},
     "output_type": "execute_result"
    }
   ],
   "source": [
    "TEMPERATURE_SCALES"
   ]
  },
  {
   "cell_type": "markdown",
   "id": "156963e5",
   "metadata": {},
   "source": [
    "## datetime 클래스"
   ]
  },
  {
   "cell_type": "code",
   "execution_count": 43,
   "id": "d622666c",
   "metadata": {},
   "outputs": [],
   "source": [
    "# datetime 모듈을 \"dt\"로 임포트합니다\n",
    "import datetime as dt"
   ]
  },
  {
   "cell_type": "code",
   "execution_count": 44,
   "id": "6f9effe5",
   "metadata": {},
   "outputs": [
    {
     "data": {
      "text/plain": [
       "datetime.datetime(2020, 1, 31, 14, 30)"
      ]
     },
     "execution_count": 44,
     "metadata": {},
     "output_type": "execute_result"
    }
   ],
   "source": [
    "# \"timestamp\" 라는 datetime 객체 인스턴스를 만듭니다\n",
    "timestamp = dt.datetime(2020, 1, 31, 14, 30)\n",
    "timestamp"
   ]
  },
  {
   "cell_type": "code",
   "execution_count": 45,
   "id": "511e27e0",
   "metadata": {},
   "outputs": [
    {
     "data": {
      "text/plain": [
       "31"
      ]
     },
     "execution_count": 45,
     "metadata": {},
     "output_type": "execute_result"
    }
   ],
   "source": [
    "# datetime 객에에는 다양한 속성이 있습니다. 예를 들어 날짜는 -\n",
    "timestamp.day"
   ]
  },
  {
   "cell_type": "code",
   "execution_count": 46,
   "id": "a08e0562",
   "metadata": {},
   "outputs": [
    {
     "data": {
      "text/plain": [
       "datetime.timedelta(days=17, seconds=9000)"
      ]
     },
     "execution_count": 46,
     "metadata": {},
     "output_type": "execute_result"
    }
   ],
   "source": [
    "# datetime 객체의 뺄셈, 즉 시간 차이는 timedelta 객체입니다\n",
    "timestamp - dt.datetime(2020, 1, 14, 12, 0)"
   ]
  },
  {
   "cell_type": "code",
   "execution_count": 47,
   "id": "721b1128",
   "metadata": {},
   "outputs": [
    {
     "data": {
      "text/plain": [
       "datetime.datetime(2020, 2, 1, 18, 41)"
      ]
     },
     "execution_count": 47,
     "metadata": {},
     "output_type": "execute_result"
    }
   ],
   "source": [
    "# timedelta 객체를 직접 만들 수도 있습니다\n",
    "timestamp + dt.timedelta(days=1, hours=4, minutes=11)"
   ]
  },
  {
   "cell_type": "code",
   "execution_count": 48,
   "id": "f5716e61",
   "metadata": {},
   "outputs": [
    {
     "data": {
      "text/plain": [
       "'31/01/2020 14:30'"
      ]
     },
     "execution_count": 48,
     "metadata": {},
     "output_type": "execute_result"
    }
   ],
   "source": [
    "# datetime 객체를 특정 형식의 문자열로 바꿉니다\n",
    "# f-문자열 f\"{timestamp:%d/%m/%Y %H:%M}:을 써도 됩니다\n",
    "timestamp.strftime(\"%d/%m/%Y %H:%M\")"
   ]
  },
  {
   "cell_type": "code",
   "execution_count": 49,
   "id": "5343ccd7",
   "metadata": {},
   "outputs": [
    {
     "data": {
      "text/plain": [
       "datetime.datetime(2020, 1, 12, 0, 0)"
      ]
     },
     "execution_count": 49,
     "metadata": {},
     "output_type": "execute_result"
    }
   ],
   "source": [
    "#문자열을 datetime 객체로 변환\n",
    "dt.datetime.strptime(\"12.1.2020\", \"%d.%m.%Y\")"
   ]
  }
 ],
 "metadata": {
  "kernelspec": {
   "display_name": "Python 3 (ipykernel)",
   "language": "python",
   "name": "python3"
  },
  "language_info": {
   "codemirror_mode": {
    "name": "ipython",
    "version": 3
   },
   "file_extension": ".py",
   "mimetype": "text/x-python",
   "name": "python",
   "nbconvert_exporter": "python",
   "pygments_lexer": "ipython3",
   "version": "3.9.12"
  }
 },
 "nbformat": 4,
 "nbformat_minor": 5
}
