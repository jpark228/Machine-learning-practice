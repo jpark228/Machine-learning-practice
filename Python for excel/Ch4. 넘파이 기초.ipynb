{
 "cells": [
  {
   "cell_type": "markdown",
   "id": "0c271623",
   "metadata": {},
   "source": [
    "# 넘파이 시작하기"
   ]
  },
  {
   "cell_type": "markdown",
   "id": "ab951b05",
   "metadata": {},
   "source": [
    "## 넘파이 배열"
   ]
  },
  {
   "cell_type": "code",
   "execution_count": 1,
   "id": "c3c2c24c",
   "metadata": {},
   "outputs": [],
   "source": [
    "matrix = [[1, 2, 3],\n",
    "          [4, 5, 6],\n",
    "          [7, 8, 9]]"
   ]
  },
  {
   "cell_type": "code",
   "execution_count": 2,
   "id": "e624c62a",
   "metadata": {},
   "outputs": [
    {
     "data": {
      "text/plain": [
       "[[2, 3, 4], [5, 6, 7], [8, 9, 10]]"
      ]
     },
     "execution_count": 2,
     "metadata": {},
     "output_type": "execute_result"
    }
   ],
   "source": [
    "[[i + 1 for i in row] for row in matrix]"
   ]
  },
  {
   "cell_type": "code",
   "execution_count": 3,
   "id": "312f008d",
   "metadata": {},
   "outputs": [],
   "source": [
    "# 먼저 넘파이를 임포트합니다\n",
    "import numpy as np"
   ]
  },
  {
   "cell_type": "code",
   "execution_count": 4,
   "id": "d99b7156",
   "metadata": {},
   "outputs": [],
   "source": [
    "# 리스트로 배열을 만들면 1차원 배열이 만들어집니다\n",
    "array1 = np.array([10, 100, 1000.])"
   ]
  },
  {
   "cell_type": "code",
   "execution_count": 5,
   "id": "a289d644",
   "metadata": {},
   "outputs": [],
   "source": [
    "# 중첩된 리스트로 배열을 만들면 2차원 배열이 만들어집니다\n",
    "array2 = np.array([[1., 2., 3.],\n",
    "                   [4., 5., 6.]])"
   ]
  },
  {
   "cell_type": "code",
   "execution_count": 6,
   "id": "2b6a6489",
   "metadata": {},
   "outputs": [
    {
     "data": {
      "text/plain": [
       "dtype('float64')"
      ]
     },
     "execution_count": 6,
     "metadata": {},
     "output_type": "execute_result"
    }
   ],
   "source": [
    "array1.dtype"
   ]
  },
  {
   "cell_type": "code",
   "execution_count": 7,
   "id": "776d2af2",
   "metadata": {},
   "outputs": [
    {
     "data": {
      "text/plain": [
       "10.0"
      ]
     },
     "execution_count": 7,
     "metadata": {},
     "output_type": "execute_result"
    }
   ],
   "source": [
    "float(array1[0])"
   ]
  },
  {
   "cell_type": "markdown",
   "id": "ee978023",
   "metadata": {},
   "source": [
    "## 벡터화와 브로드캐스팅"
   ]
  },
  {
   "cell_type": "code",
   "execution_count": 8,
   "id": "4e4ce5f7",
   "metadata": {},
   "outputs": [
    {
     "data": {
      "text/plain": [
       "array([[2., 3., 4.],\n",
       "       [5., 6., 7.]])"
      ]
     },
     "execution_count": 8,
     "metadata": {},
     "output_type": "execute_result"
    }
   ],
   "source": [
    "array2 + 1"
   ]
  },
  {
   "cell_type": "code",
   "execution_count": 9,
   "id": "f9eb555e",
   "metadata": {},
   "outputs": [
    {
     "data": {
      "text/plain": [
       "array([[ 1.,  4.,  9.],\n",
       "       [16., 25., 36.]])"
      ]
     },
     "execution_count": 9,
     "metadata": {},
     "output_type": "execute_result"
    }
   ],
   "source": [
    "array2 * array2"
   ]
  },
  {
   "cell_type": "code",
   "execution_count": 10,
   "id": "94712c60",
   "metadata": {},
   "outputs": [
    {
     "data": {
      "text/plain": [
       "array([[  10.,  200., 3000.],\n",
       "       [  40.,  500., 6000.]])"
      ]
     },
     "execution_count": 10,
     "metadata": {},
     "output_type": "execute_result"
    }
   ],
   "source": [
    "array2 * array1"
   ]
  },
  {
   "cell_type": "code",
   "execution_count": 11,
   "id": "dd4afe79",
   "metadata": {},
   "outputs": [
    {
     "data": {
      "text/plain": [
       "array([[14., 32.],\n",
       "       [32., 77.]])"
      ]
     },
     "execution_count": 11,
     "metadata": {},
     "output_type": "execute_result"
    }
   ],
   "source": [
    "array2 @ array2.T # array2.T 는 array2.transpose()를 뜻합니다"
   ]
  },
  {
   "cell_type": "markdown",
   "id": "3e6387fc",
   "metadata": {},
   "source": [
    "## 범용 함수"
   ]
  },
  {
   "cell_type": "code",
   "execution_count": 13,
   "id": "a4bbca4c",
   "metadata": {},
   "outputs": [
    {
     "data": {
      "text/plain": [
       "array([[1.        , 1.41421356, 1.73205081],\n",
       "       [2.        , 2.23606798, 2.44948974]])"
      ]
     },
     "execution_count": 13,
     "metadata": {},
     "output_type": "execute_result"
    }
   ],
   "source": [
    "import math\n",
    "np.array([[math.sqrt(i) for i in row] for row in array2])"
   ]
  },
  {
   "cell_type": "code",
   "execution_count": 14,
   "id": "3e8e1e27",
   "metadata": {},
   "outputs": [
    {
     "data": {
      "text/plain": [
       "array([[1.        , 1.41421356, 1.73205081],\n",
       "       [2.        , 2.23606798, 2.44948974]])"
      ]
     },
     "execution_count": 14,
     "metadata": {},
     "output_type": "execute_result"
    }
   ],
   "source": [
    "np.sqrt(array2)"
   ]
  },
  {
   "cell_type": "code",
   "execution_count": 15,
   "id": "bf74e3de",
   "metadata": {},
   "outputs": [
    {
     "data": {
      "text/plain": [
       "array([5., 7., 9.])"
      ]
     },
     "execution_count": 15,
     "metadata": {},
     "output_type": "execute_result"
    }
   ],
   "source": [
    "array2.sum(axis=0) # 1차원 배열을 반환합니다."
   ]
  },
  {
   "cell_type": "code",
   "execution_count": 16,
   "id": "ad1737e4",
   "metadata": {},
   "outputs": [
    {
     "data": {
      "text/plain": [
       "21.0"
      ]
     },
     "execution_count": 16,
     "metadata": {},
     "output_type": "execute_result"
    }
   ],
   "source": [
    "array2.sum()"
   ]
  },
  {
   "cell_type": "markdown",
   "id": "84949a71",
   "metadata": {},
   "source": [
    "# 배열 생성과 조작"
   ]
  },
  {
   "cell_type": "markdown",
   "id": "0e337586",
   "metadata": {},
   "source": [
    "## 배열 요소 접근과 설정"
   ]
  },
  {
   "cell_type": "code",
   "execution_count": 17,
   "id": "c06b4621",
   "metadata": {},
   "outputs": [
    {
     "data": {
      "text/plain": [
       "1000.0"
      ]
     },
     "execution_count": 17,
     "metadata": {},
     "output_type": "execute_result"
    }
   ],
   "source": [
    "array1[2] # 스칼라 값을 반환합니다"
   ]
  },
  {
   "cell_type": "code",
   "execution_count": 18,
   "id": "fd565926",
   "metadata": {},
   "outputs": [
    {
     "data": {
      "text/plain": [
       "1.0"
      ]
     },
     "execution_count": 18,
     "metadata": {},
     "output_type": "execute_result"
    }
   ],
   "source": [
    "array2[0, 0] # 스칼라 값을 반환합니다"
   ]
  },
  {
   "cell_type": "code",
   "execution_count": 19,
   "id": "0adf92d0",
   "metadata": {},
   "outputs": [
    {
     "data": {
      "text/plain": [
       "array([[2., 3.],\n",
       "       [5., 6.]])"
      ]
     },
     "execution_count": 19,
     "metadata": {},
     "output_type": "execute_result"
    }
   ],
   "source": [
    "array2[:, 1:] # 2차원 배열을 반환합니다"
   ]
  },
  {
   "cell_type": "code",
   "execution_count": 20,
   "id": "e06eded4",
   "metadata": {},
   "outputs": [
    {
     "data": {
      "text/plain": [
       "array([2., 5.])"
      ]
     },
     "execution_count": 20,
     "metadata": {},
     "output_type": "execute_result"
    }
   ],
   "source": [
    "array2[:, 1] # 1차원 배열을 반환합니다."
   ]
  },
  {
   "cell_type": "code",
   "execution_count": 24,
   "id": "1644d260",
   "metadata": {},
   "outputs": [
    {
     "data": {
      "text/plain": [
       "array([4., 5.])"
      ]
     },
     "execution_count": 24,
     "metadata": {},
     "output_type": "execute_result"
    }
   ],
   "source": [
    "array2[1, :2] # 1차원 배열을 반환합니다."
   ]
  },
  {
   "cell_type": "markdown",
   "id": "5256f415",
   "metadata": {},
   "source": [
    "## 유용한 배열 생성자"
   ]
  },
  {
   "cell_type": "code",
   "execution_count": 25,
   "id": "3fb07b27",
   "metadata": {},
   "outputs": [
    {
     "data": {
      "text/plain": [
       "array([[0., 1., 2., 3., 4.],\n",
       "       [5., 6., 7., 8., 9.]])"
      ]
     },
     "execution_count": 25,
     "metadata": {},
     "output_type": "execute_result"
    }
   ],
   "source": [
    "np.arange(2 * 5.).reshape(2, 5) # 2행 5열"
   ]
  },
  {
   "cell_type": "code",
   "execution_count": 26,
   "id": "d3974399",
   "metadata": {},
   "outputs": [
    {
     "data": {
      "text/plain": [
       "array([[ 1.28634892,  0.34209919, -0.35269472],\n",
       "       [ 0.26028513,  0.14322777,  0.25929179]])"
      ]
     },
     "execution_count": 26,
     "metadata": {},
     "output_type": "execute_result"
    }
   ],
   "source": [
    "np.random.randn(2, 3) # 2행 3열"
   ]
  },
  {
   "cell_type": "markdown",
   "id": "aaf719a2",
   "metadata": {},
   "source": [
    "## 뷰와 사본"
   ]
  },
  {
   "cell_type": "code",
   "execution_count": 27,
   "id": "7a820748",
   "metadata": {},
   "outputs": [
    {
     "data": {
      "text/plain": [
       "array([[1., 2., 3.],\n",
       "       [4., 5., 6.]])"
      ]
     },
     "execution_count": 27,
     "metadata": {},
     "output_type": "execute_result"
    }
   ],
   "source": [
    "array2"
   ]
  },
  {
   "cell_type": "code",
   "execution_count": 28,
   "id": "e17c16ab",
   "metadata": {},
   "outputs": [],
   "source": [
    "subset = array2[:, :2]"
   ]
  },
  {
   "cell_type": "code",
   "execution_count": 29,
   "id": "dc8436c1",
   "metadata": {},
   "outputs": [],
   "source": [
    "subset[0, 0] = 1000"
   ]
  },
  {
   "cell_type": "code",
   "execution_count": 30,
   "id": "8633272f",
   "metadata": {},
   "outputs": [
    {
     "data": {
      "text/plain": [
       "array([[1000.,    2.],\n",
       "       [   4.,    5.]])"
      ]
     },
     "execution_count": 30,
     "metadata": {},
     "output_type": "execute_result"
    }
   ],
   "source": [
    "subset"
   ]
  },
  {
   "cell_type": "code",
   "execution_count": 31,
   "id": "fde3ff2a",
   "metadata": {},
   "outputs": [
    {
     "data": {
      "text/plain": [
       "array([[1000.,    2.,    3.],\n",
       "       [   4.,    5.,    6.]])"
      ]
     },
     "execution_count": 31,
     "metadata": {},
     "output_type": "execute_result"
    }
   ],
   "source": [
    "array2"
   ]
  }
 ],
 "metadata": {
  "kernelspec": {
   "display_name": "Python 3 (ipykernel)",
   "language": "python",
   "name": "python3"
  },
  "language_info": {
   "codemirror_mode": {
    "name": "ipython",
    "version": 3
   },
   "file_extension": ".py",
   "mimetype": "text/x-python",
   "name": "python",
   "nbconvert_exporter": "python",
   "pygments_lexer": "ipython3",
   "version": "3.9.12"
  }
 },
 "nbformat": 4,
 "nbformat_minor": 5
}
