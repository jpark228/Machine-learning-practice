{
 "cells": [
  {
   "cell_type": "code",
   "execution_count": 1,
   "id": "53da8e3b",
   "metadata": {
    "_cell_guid": "b1076dfc-b9ad-4769-8c92-a6c4dae69d19",
    "_uuid": "8f2839f25d086af736a60e9eeb907d3b93b6e0e5",
    "execution": {
     "iopub.execute_input": "2022-05-06T16:07:24.922214Z",
     "iopub.status.busy": "2022-05-06T16:07:24.921590Z",
     "iopub.status.idle": "2022-05-06T16:07:24.934547Z",
     "shell.execute_reply": "2022-05-06T16:07:24.933875Z"
    },
    "papermill": {
     "duration": 0.04466,
     "end_time": "2022-05-06T16:07:24.937269",
     "exception": false,
     "start_time": "2022-05-06T16:07:24.892609",
     "status": "completed"
    },
    "tags": []
   },
   "outputs": [
    {
     "name": "stdout",
     "output_type": "stream",
     "text": [
      "/kaggle/input/aerial-cactus-identification/sample_submission.csv\n",
      "/kaggle/input/aerial-cactus-identification/train.zip\n",
      "/kaggle/input/aerial-cactus-identification/test.zip\n",
      "/kaggle/input/aerial-cactus-identification/train.csv\n"
     ]
    }
   ],
   "source": [
    "# This Python 3 environment comes with many helpful analytics libraries installed\n",
    "# It is defined by the kaggle/python Docker image: https://github.com/kaggle/docker-python\n",
    "# For example, here's several helpful packages to load\n",
    "\n",
    "import numpy as np # linear algebra\n",
    "import pandas as pd # data processing, CSV file I/O (e.g. pd.read_csv)\n",
    "\n",
    "# Input data files are available in the read-only \"../input/\" directory\n",
    "# For example, running this (by clicking run or pressing Shift+Enter) will list all files under the input directory\n",
    "\n",
    "import os\n",
    "for dirname, _, filenames in os.walk('/kaggle/input'):\n",
    "    for filename in filenames:\n",
    "        print(os.path.join(dirname, filename))\n",
    "\n",
    "# You can write up to 20GB to the current directory (/kaggle/working/) that gets preserved as output when you create a version using \"Save & Run All\" \n",
    "# You can also write temporary files to /kaggle/temp/, but they won't be saved outside of the current session"
   ]
  },
  {
   "cell_type": "markdown",
   "id": "7579aed7",
   "metadata": {
    "papermill": {
     "duration": 0.02382,
     "end_time": "2022-05-06T16:07:24.986282",
     "exception": false,
     "start_time": "2022-05-06T16:07:24.962462",
     "status": "completed"
    },
    "tags": []
   },
   "source": [
    "### Seed and GPU setting"
   ]
  },
  {
   "cell_type": "code",
   "execution_count": 2,
   "id": "ea75699d",
   "metadata": {
    "execution": {
     "iopub.execute_input": "2022-05-06T16:07:25.056865Z",
     "iopub.status.busy": "2022-05-06T16:07:25.056556Z",
     "iopub.status.idle": "2022-05-06T16:07:26.609444Z",
     "shell.execute_reply": "2022-05-06T16:07:26.608737Z"
    },
    "papermill": {
     "duration": 1.595478,
     "end_time": "2022-05-06T16:07:26.611404",
     "exception": false,
     "start_time": "2022-05-06T16:07:25.015926",
     "status": "completed"
    },
    "tags": []
   },
   "outputs": [],
   "source": [
    "import torch \n",
    "import random\n",
    "import numpy as np\n",
    "import os\n",
    "\n",
    "seed = 50\n",
    "os.environ['PYTHONHASHSEED'] = str(seed)\n",
    "random.seed(seed)\n",
    "np.random.seed(seed)\n",
    "torch.manual_seed(seed)\n",
    "torch.cuda.manual_seed(seed)\n",
    "torch.cuda.manual_seed_all(seed)\n",
    "torch.backends.cudnn.deterministic = True\n",
    "torch.backends.cudnn.benchmark = False\n",
    "torch.backends.cudnn.enabled = False"
   ]
  },
  {
   "cell_type": "code",
   "execution_count": 3,
   "id": "0baa5b97",
   "metadata": {
    "execution": {
     "iopub.execute_input": "2022-05-06T16:07:26.703293Z",
     "iopub.status.busy": "2022-05-06T16:07:26.702960Z",
     "iopub.status.idle": "2022-05-06T16:07:26.789334Z",
     "shell.execute_reply": "2022-05-06T16:07:26.788412Z"
    },
    "papermill": {
     "duration": 0.142592,
     "end_time": "2022-05-06T16:07:26.792784",
     "exception": false,
     "start_time": "2022-05-06T16:07:26.650192",
     "status": "completed"
    },
    "tags": []
   },
   "outputs": [],
   "source": [
    "if torch.cuda.is_available():\n",
    "    device = torch.device('cuda')\n",
    "else:\n",
    "    device = torch.device('cpu')"
   ]
  },
  {
   "cell_type": "code",
   "execution_count": 4,
   "id": "fa130bea",
   "metadata": {
    "execution": {
     "iopub.execute_input": "2022-05-06T16:07:26.877884Z",
     "iopub.status.busy": "2022-05-06T16:07:26.877640Z",
     "iopub.status.idle": "2022-05-06T16:07:26.889056Z",
     "shell.execute_reply": "2022-05-06T16:07:26.888464Z"
    },
    "papermill": {
     "duration": 0.056427,
     "end_time": "2022-05-06T16:07:26.891236",
     "exception": false,
     "start_time": "2022-05-06T16:07:26.834809",
     "status": "completed"
    },
    "tags": []
   },
   "outputs": [
    {
     "data": {
      "text/plain": [
       "device(type='cuda')"
      ]
     },
     "execution_count": 4,
     "metadata": {},
     "output_type": "execute_result"
    }
   ],
   "source": [
    "device = torch.device('cuda' if torch.cuda.is_available() else 'cpu')\n",
    "device"
   ]
  },
  {
   "cell_type": "markdown",
   "id": "45d1bb9b",
   "metadata": {
    "papermill": {
     "duration": 0.039613,
     "end_time": "2022-05-06T16:07:26.970525",
     "exception": false,
     "start_time": "2022-05-06T16:07:26.930912",
     "status": "completed"
    },
    "tags": []
   },
   "source": [
    "### Prepare Dataset"
   ]
  },
  {
   "cell_type": "code",
   "execution_count": 5,
   "id": "abfdf85b",
   "metadata": {
    "execution": {
     "iopub.execute_input": "2022-05-06T16:07:27.051594Z",
     "iopub.status.busy": "2022-05-06T16:07:27.051348Z",
     "iopub.status.idle": "2022-05-06T16:07:27.107125Z",
     "shell.execute_reply": "2022-05-06T16:07:27.106448Z"
    },
    "papermill": {
     "duration": 0.098621,
     "end_time": "2022-05-06T16:07:27.109625",
     "exception": false,
     "start_time": "2022-05-06T16:07:27.011004",
     "status": "completed"
    },
    "tags": []
   },
   "outputs": [],
   "source": [
    "import pandas as pd\n",
    "\n",
    "data_path = '/kaggle/input/aerial-cactus-identification/'\n",
    "\n",
    "labels = pd.read_csv(data_path + 'train.csv')\n",
    "submission = pd.read_csv(data_path + 'sample_submission.csv')"
   ]
  },
  {
   "cell_type": "code",
   "execution_count": 6,
   "id": "ec88f9cf",
   "metadata": {
    "execution": {
     "iopub.execute_input": "2022-05-06T16:07:27.194470Z",
     "iopub.status.busy": "2022-05-06T16:07:27.194266Z",
     "iopub.status.idle": "2022-05-06T16:07:29.914323Z",
     "shell.execute_reply": "2022-05-06T16:07:29.913460Z"
    },
    "papermill": {
     "duration": 2.762833,
     "end_time": "2022-05-06T16:07:29.916637",
     "exception": false,
     "start_time": "2022-05-06T16:07:27.153804",
     "status": "completed"
    },
    "tags": []
   },
   "outputs": [],
   "source": [
    "from zipfile import ZipFile\n",
    "\n",
    "with ZipFile(data_path + 'train.zip') as zipper:\n",
    "    zipper.extractall()\n",
    "    \n",
    "with ZipFile(data_path + 'test.zip') as zipper:\n",
    "    zipper.extractall()"
   ]
  },
  {
   "cell_type": "code",
   "execution_count": 7,
   "id": "05c8a9f6",
   "metadata": {
    "execution": {
     "iopub.execute_input": "2022-05-06T16:07:29.977515Z",
     "iopub.status.busy": "2022-05-06T16:07:29.976852Z",
     "iopub.status.idle": "2022-05-06T16:07:30.892034Z",
     "shell.execute_reply": "2022-05-06T16:07:30.891341Z"
    },
    "papermill": {
     "duration": 0.947038,
     "end_time": "2022-05-06T16:07:30.894069",
     "exception": false,
     "start_time": "2022-05-06T16:07:29.947031",
     "status": "completed"
    },
    "tags": []
   },
   "outputs": [],
   "source": [
    "from sklearn.model_selection import train_test_split\n",
    "\n",
    "train, valid = train_test_split(labels,\n",
    "                                test_size=0.1,\n",
    "                                stratify=labels['has_cactus'],\n",
    "                                random_state=50)"
   ]
  },
  {
   "cell_type": "code",
   "execution_count": 8,
   "id": "709d5c92",
   "metadata": {
    "execution": {
     "iopub.execute_input": "2022-05-06T16:07:30.944716Z",
     "iopub.status.busy": "2022-05-06T16:07:30.944024Z",
     "iopub.status.idle": "2022-05-06T16:07:30.949879Z",
     "shell.execute_reply": "2022-05-06T16:07:30.948623Z"
    },
    "papermill": {
     "duration": 0.032659,
     "end_time": "2022-05-06T16:07:30.951506",
     "exception": false,
     "start_time": "2022-05-06T16:07:30.918847",
     "status": "completed"
    },
    "tags": []
   },
   "outputs": [
    {
     "name": "stdout",
     "output_type": "stream",
     "text": [
      "훈련 데이터 개수: 15750\n",
      "검증 데이터 개수: 1750\n"
     ]
    }
   ],
   "source": [
    "print('훈련 데이터 개수:', len(train))\n",
    "print('검증 데이터 개수:', len(valid))"
   ]
  },
  {
   "cell_type": "code",
   "execution_count": 9,
   "id": "be558ed8",
   "metadata": {
    "execution": {
     "iopub.execute_input": "2022-05-06T16:07:31.001939Z",
     "iopub.status.busy": "2022-05-06T16:07:31.001371Z",
     "iopub.status.idle": "2022-05-06T16:07:31.172595Z",
     "shell.execute_reply": "2022-05-06T16:07:31.171937Z"
    },
    "papermill": {
     "duration": 0.198404,
     "end_time": "2022-05-06T16:07:31.174312",
     "exception": false,
     "start_time": "2022-05-06T16:07:30.975908",
     "status": "completed"
    },
    "tags": []
   },
   "outputs": [],
   "source": [
    "import cv2\n",
    "from torch.utils.data import Dataset"
   ]
  },
  {
   "cell_type": "code",
   "execution_count": 10,
   "id": "cd68ff19",
   "metadata": {
    "execution": {
     "iopub.execute_input": "2022-05-06T16:07:31.224688Z",
     "iopub.status.busy": "2022-05-06T16:07:31.224063Z",
     "iopub.status.idle": "2022-05-06T16:07:31.231695Z",
     "shell.execute_reply": "2022-05-06T16:07:31.231099Z"
    },
    "papermill": {
     "duration": 0.034445,
     "end_time": "2022-05-06T16:07:31.233308",
     "exception": false,
     "start_time": "2022-05-06T16:07:31.198863",
     "status": "completed"
    },
    "tags": []
   },
   "outputs": [],
   "source": [
    "class ImageDataset(Dataset):\n",
    "    def __init__(self, df, img_dir='./', transform=None):\n",
    "        super().__init__()\n",
    "        self.df = df\n",
    "        self.img_dir = img_dir\n",
    "        self.transform = transform\n",
    "        \n",
    "    def __len__(self):\n",
    "        return len(self.df)\n",
    "    \n",
    "    def __getitem__(self, idx):\n",
    "        img_id = self.df.iloc[idx, 0]\n",
    "        img_path = self.img_dir + img_id\n",
    "        image = cv2.imread(img_path)\n",
    "        image = cv2.cvtColor(image, cv2.COLOR_BGR2RGB)\n",
    "        label = self.df.iloc[idx, 1]\n",
    "        \n",
    "        if self.transform is not None:\n",
    "            image = self.transform(image)\n",
    "        return image, label"
   ]
  },
  {
   "cell_type": "code",
   "execution_count": 11,
   "id": "e0917856",
   "metadata": {
    "execution": {
     "iopub.execute_input": "2022-05-06T16:07:31.283259Z",
     "iopub.status.busy": "2022-05-06T16:07:31.282888Z",
     "iopub.status.idle": "2022-05-06T16:07:31.448255Z",
     "shell.execute_reply": "2022-05-06T16:07:31.447605Z"
    },
    "papermill": {
     "duration": 0.192186,
     "end_time": "2022-05-06T16:07:31.449991",
     "exception": false,
     "start_time": "2022-05-06T16:07:31.257805",
     "status": "completed"
    },
    "tags": []
   },
   "outputs": [],
   "source": [
    "from torchvision import transforms \n",
    "\n",
    "transform = transforms.ToTensor()"
   ]
  },
  {
   "cell_type": "code",
   "execution_count": 12,
   "id": "84194a0f",
   "metadata": {
    "execution": {
     "iopub.execute_input": "2022-05-06T16:07:31.499801Z",
     "iopub.status.busy": "2022-05-06T16:07:31.499472Z",
     "iopub.status.idle": "2022-05-06T16:07:31.503116Z",
     "shell.execute_reply": "2022-05-06T16:07:31.502483Z"
    },
    "papermill": {
     "duration": 0.030393,
     "end_time": "2022-05-06T16:07:31.504793",
     "exception": false,
     "start_time": "2022-05-06T16:07:31.474400",
     "status": "completed"
    },
    "tags": []
   },
   "outputs": [],
   "source": [
    "dataset_train = ImageDataset(df=train, img_dir='train/', transform=transform)\n",
    "dataset_valid = ImageDataset(df=valid, img_dir='train/', transform=transform)"
   ]
  },
  {
   "cell_type": "code",
   "execution_count": 13,
   "id": "a2f453f1",
   "metadata": {
    "execution": {
     "iopub.execute_input": "2022-05-06T16:07:31.554636Z",
     "iopub.status.busy": "2022-05-06T16:07:31.554140Z",
     "iopub.status.idle": "2022-05-06T16:07:31.558187Z",
     "shell.execute_reply": "2022-05-06T16:07:31.557462Z"
    },
    "papermill": {
     "duration": 0.030742,
     "end_time": "2022-05-06T16:07:31.559869",
     "exception": false,
     "start_time": "2022-05-06T16:07:31.529127",
     "status": "completed"
    },
    "tags": []
   },
   "outputs": [],
   "source": [
    "from torch.utils.data import DataLoader\n",
    "\n",
    "loader_train = DataLoader(dataset=dataset_train, batch_size=32, shuffle=True)\n",
    "loader_valid = DataLoader(dataset=dataset_valid, batch_size=32, shuffle=False)"
   ]
  },
  {
   "cell_type": "markdown",
   "id": "a48c6377",
   "metadata": {
    "papermill": {
     "duration": 0.024376,
     "end_time": "2022-05-06T16:07:31.608518",
     "exception": false,
     "start_time": "2022-05-06T16:07:31.584142",
     "status": "completed"
    },
    "tags": []
   },
   "source": [
    "### Creat Model"
   ]
  },
  {
   "cell_type": "code",
   "execution_count": 14,
   "id": "9b9347db",
   "metadata": {
    "execution": {
     "iopub.execute_input": "2022-05-06T16:07:31.660921Z",
     "iopub.status.busy": "2022-05-06T16:07:31.660719Z",
     "iopub.status.idle": "2022-05-06T16:07:31.664081Z",
     "shell.execute_reply": "2022-05-06T16:07:31.663367Z"
    },
    "papermill": {
     "duration": 0.033037,
     "end_time": "2022-05-06T16:07:31.665945",
     "exception": false,
     "start_time": "2022-05-06T16:07:31.632908",
     "status": "completed"
    },
    "tags": []
   },
   "outputs": [],
   "source": [
    "import torch.nn as nn\n",
    "import torch.nn.functional as F"
   ]
  },
  {
   "cell_type": "code",
   "execution_count": 15,
   "id": "76d36b96",
   "metadata": {
    "execution": {
     "iopub.execute_input": "2022-05-06T16:07:31.723015Z",
     "iopub.status.busy": "2022-05-06T16:07:31.722472Z",
     "iopub.status.idle": "2022-05-06T16:07:31.730411Z",
     "shell.execute_reply": "2022-05-06T16:07:31.729714Z"
    },
    "papermill": {
     "duration": 0.038539,
     "end_time": "2022-05-06T16:07:31.732261",
     "exception": false,
     "start_time": "2022-05-06T16:07:31.693722",
     "status": "completed"
    },
    "tags": []
   },
   "outputs": [],
   "source": [
    "class Model(nn.Module):\n",
    "    def __init__(self):\n",
    "        super().__init__()\n",
    "        self.conv1 = nn.Conv2d(in_channels=3, out_channels=32, kernel_size=3, padding=2)\n",
    "        self.conv2 = nn.Conv2d(in_channels=32, out_channels=64,kernel_size=3, padding=2)\n",
    "        self.max_pool = nn.MaxPool2d(kernel_size=2)\n",
    "        self.avg_pool = nn.AvgPool2d(kernel_size=2)    \n",
    "        self.fc = nn.Linear(in_features = 64 * 4 * 4, out_features=2)\n",
    "        \n",
    "    def forward(self, x):\n",
    "        x = self.max_pool(F.relu(self.conv1(x)))\n",
    "        x = self.max_pool(F.relu(self.conv2(x)))\n",
    "        x = self.avg_pool(x)\n",
    "        x = x.view(-1, 64 * 4 * 4)\n",
    "        x = self.fc(x)\n",
    "        return x"
   ]
  },
  {
   "cell_type": "code",
   "execution_count": 16,
   "id": "535b8e84",
   "metadata": {
    "execution": {
     "iopub.execute_input": "2022-05-06T16:07:31.790810Z",
     "iopub.status.busy": "2022-05-06T16:07:31.790267Z",
     "iopub.status.idle": "2022-05-06T16:07:34.932257Z",
     "shell.execute_reply": "2022-05-06T16:07:34.931480Z"
    },
    "papermill": {
     "duration": 3.17333,
     "end_time": "2022-05-06T16:07:34.934082",
     "exception": false,
     "start_time": "2022-05-06T16:07:31.760752",
     "status": "completed"
    },
    "tags": []
   },
   "outputs": [
    {
     "data": {
      "text/plain": [
       "Model(\n",
       "  (conv1): Conv2d(3, 32, kernel_size=(3, 3), stride=(1, 1), padding=(2, 2))\n",
       "  (conv2): Conv2d(32, 64, kernel_size=(3, 3), stride=(1, 1), padding=(2, 2))\n",
       "  (max_pool): MaxPool2d(kernel_size=2, stride=2, padding=0, dilation=1, ceil_mode=False)\n",
       "  (avg_pool): AvgPool2d(kernel_size=2, stride=2, padding=0)\n",
       "  (fc): Linear(in_features=1024, out_features=2, bias=True)\n",
       ")"
      ]
     },
     "execution_count": 16,
     "metadata": {},
     "output_type": "execute_result"
    }
   ],
   "source": [
    "model = Model().to(device)\n",
    "model"
   ]
  },
  {
   "cell_type": "markdown",
   "id": "7454ddf1",
   "metadata": {
    "papermill": {
     "duration": 0.026205,
     "end_time": "2022-05-06T16:07:34.985242",
     "exception": false,
     "start_time": "2022-05-06T16:07:34.959037",
     "status": "completed"
    },
    "tags": []
   },
   "source": [
    "### Model training"
   ]
  },
  {
   "cell_type": "code",
   "execution_count": 17,
   "id": "ab61541c",
   "metadata": {
    "execution": {
     "iopub.execute_input": "2022-05-06T16:07:35.036341Z",
     "iopub.status.busy": "2022-05-06T16:07:35.036128Z",
     "iopub.status.idle": "2022-05-06T16:07:35.039825Z",
     "shell.execute_reply": "2022-05-06T16:07:35.039033Z"
    },
    "papermill": {
     "duration": 0.031302,
     "end_time": "2022-05-06T16:07:35.041740",
     "exception": false,
     "start_time": "2022-05-06T16:07:35.010438",
     "status": "completed"
    },
    "tags": []
   },
   "outputs": [],
   "source": [
    "criterion = nn.CrossEntropyLoss()"
   ]
  },
  {
   "cell_type": "code",
   "execution_count": 18,
   "id": "e868ca54",
   "metadata": {
    "execution": {
     "iopub.execute_input": "2022-05-06T16:07:35.093186Z",
     "iopub.status.busy": "2022-05-06T16:07:35.092536Z",
     "iopub.status.idle": "2022-05-06T16:07:35.096682Z",
     "shell.execute_reply": "2022-05-06T16:07:35.096056Z"
    },
    "papermill": {
     "duration": 0.031187,
     "end_time": "2022-05-06T16:07:35.098266",
     "exception": false,
     "start_time": "2022-05-06T16:07:35.067079",
     "status": "completed"
    },
    "tags": []
   },
   "outputs": [],
   "source": [
    "optimizer = torch.optim.SGD(model.parameters(), lr=0.01)"
   ]
  },
  {
   "cell_type": "code",
   "execution_count": 19,
   "id": "a8493fc1",
   "metadata": {
    "execution": {
     "iopub.execute_input": "2022-05-06T16:07:35.149057Z",
     "iopub.status.busy": "2022-05-06T16:07:35.148514Z",
     "iopub.status.idle": "2022-05-06T16:08:29.613793Z",
     "shell.execute_reply": "2022-05-06T16:08:29.612960Z"
    },
    "papermill": {
     "duration": 54.493303,
     "end_time": "2022-05-06T16:08:29.616253",
     "exception": false,
     "start_time": "2022-05-06T16:07:35.122950",
     "status": "completed"
    },
    "tags": []
   },
   "outputs": [
    {
     "name": "stdout",
     "output_type": "stream",
     "text": [
      "에폭 [1/10] - 손실값: 0.5233\n",
      "에폭 [2/10] - 손실값: 0.3453\n",
      "에폭 [3/10] - 손실값: 0.2370\n",
      "에폭 [4/10] - 손실값: 0.1984\n",
      "에폭 [5/10] - 손실값: 0.1754\n",
      "에폭 [6/10] - 손실값: 0.1666\n",
      "에폭 [7/10] - 손실값: 0.1545\n",
      "에폭 [8/10] - 손실값: 0.1439\n",
      "에폭 [9/10] - 손실값: 0.1333\n",
      "에폭 [10/10] - 손실값: 0.1299\n"
     ]
    }
   ],
   "source": [
    "epochs = 10\n",
    "\n",
    "for epoch in range(epochs):\n",
    "    epoch_loss = 0\n",
    "    \n",
    "    for images, labels in loader_train:\n",
    "        images = images.to(device)\n",
    "        labels = labels.to(device)\n",
    "        \n",
    "        optimizer.zero_grad()\n",
    "        outputs = model(images)\n",
    "        loss = criterion(outputs, labels)\n",
    "        epoch_loss += loss.item()\n",
    "        loss.backward()\n",
    "        optimizer.step()\n",
    "        \n",
    "    print(f'에폭 [{epoch+1}/{epochs}] - 손실값: {epoch_loss/len(loader_train):.4f}')"
   ]
  },
  {
   "cell_type": "code",
   "execution_count": 20,
   "id": "fac9fa83",
   "metadata": {
    "execution": {
     "iopub.execute_input": "2022-05-06T16:08:29.676121Z",
     "iopub.status.busy": "2022-05-06T16:08:29.674834Z",
     "iopub.status.idle": "2022-05-06T16:08:29.679694Z",
     "shell.execute_reply": "2022-05-06T16:08:29.679031Z"
    },
    "papermill": {
     "duration": 0.03518,
     "end_time": "2022-05-06T16:08:29.681328",
     "exception": false,
     "start_time": "2022-05-06T16:08:29.646148",
     "status": "completed"
    },
    "tags": []
   },
   "outputs": [],
   "source": [
    "from sklearn.metrics import roc_auc_score\n",
    "\n",
    "true_list = []\n",
    "preds_list = []"
   ]
  },
  {
   "cell_type": "code",
   "execution_count": 21,
   "id": "ae6a2da6",
   "metadata": {
    "execution": {
     "iopub.execute_input": "2022-05-06T16:08:29.737283Z",
     "iopub.status.busy": "2022-05-06T16:08:29.737080Z",
     "iopub.status.idle": "2022-05-06T16:08:30.258091Z",
     "shell.execute_reply": "2022-05-06T16:08:30.257275Z"
    },
    "papermill": {
     "duration": 0.551614,
     "end_time": "2022-05-06T16:08:30.260455",
     "exception": false,
     "start_time": "2022-05-06T16:08:29.708841",
     "status": "completed"
    },
    "tags": []
   },
   "outputs": [
    {
     "name": "stdout",
     "output_type": "stream",
     "text": [
      "검증 데이터 ROC AUC : 0.9902\n"
     ]
    }
   ],
   "source": [
    "model.eval()\n",
    "\n",
    "with torch.no_grad():\n",
    "    for images, labels in loader_valid:\n",
    "        images = images.to(device)\n",
    "        labels = labels.to(device)\n",
    "        \n",
    "        outputs = model(images)\n",
    "        preds = torch.softmax(outputs.cpu(), dim=1)[:, 1]\n",
    "        true = labels.cpu()\n",
    "        preds_list.extend(preds)\n",
    "        true_list.extend(true)\n",
    "        \n",
    "print(f'검증 데이터 ROC AUC : {roc_auc_score(true_list, preds_list):.4f}')"
   ]
  },
  {
   "cell_type": "markdown",
   "id": "18d90cd5",
   "metadata": {
    "papermill": {
     "duration": 0.027738,
     "end_time": "2022-05-06T16:08:30.317374",
     "exception": false,
     "start_time": "2022-05-06T16:08:30.289636",
     "status": "completed"
    },
    "tags": []
   },
   "source": [
    "### Prediction & submission"
   ]
  },
  {
   "cell_type": "code",
   "execution_count": 22,
   "id": "51fd057f",
   "metadata": {
    "execution": {
     "iopub.execute_input": "2022-05-06T16:08:30.373914Z",
     "iopub.status.busy": "2022-05-06T16:08:30.373720Z",
     "iopub.status.idle": "2022-05-06T16:08:30.377766Z",
     "shell.execute_reply": "2022-05-06T16:08:30.376938Z"
    },
    "papermill": {
     "duration": 0.03446,
     "end_time": "2022-05-06T16:08:30.379617",
     "exception": false,
     "start_time": "2022-05-06T16:08:30.345157",
     "status": "completed"
    },
    "tags": []
   },
   "outputs": [],
   "source": [
    "dataset_test = ImageDataset(df=submission, img_dir='test/', transform=transform)\n",
    "loader_test = DataLoader(dataset=dataset_test, batch_size=32, shuffle=False)"
   ]
  },
  {
   "cell_type": "code",
   "execution_count": 23,
   "id": "e8b69ca8",
   "metadata": {
    "execution": {
     "iopub.execute_input": "2022-05-06T16:08:30.436185Z",
     "iopub.status.busy": "2022-05-06T16:08:30.435987Z",
     "iopub.status.idle": "2022-05-06T16:08:31.522719Z",
     "shell.execute_reply": "2022-05-06T16:08:31.521978Z"
    },
    "papermill": {
     "duration": 1.117404,
     "end_time": "2022-05-06T16:08:31.524714",
     "exception": false,
     "start_time": "2022-05-06T16:08:30.407310",
     "status": "completed"
    },
    "tags": []
   },
   "outputs": [],
   "source": [
    "model.eval()\n",
    "\n",
    "preds = []\n",
    "\n",
    "with torch.no_grad():\n",
    "    for images, _ in loader_test:\n",
    "        images = images.to(device)\n",
    "        outputs = model(images)\n",
    "        preds_part = torch.softmax(outputs.cpu(), dim=1)[:, 1].tolist()\n",
    "        preds.extend(preds_part)"
   ]
  },
  {
   "cell_type": "code",
   "execution_count": 24,
   "id": "02e4fa42",
   "metadata": {
    "execution": {
     "iopub.execute_input": "2022-05-06T16:08:31.582148Z",
     "iopub.status.busy": "2022-05-06T16:08:31.581937Z",
     "iopub.status.idle": "2022-05-06T16:08:31.604075Z",
     "shell.execute_reply": "2022-05-06T16:08:31.603467Z"
    },
    "papermill": {
     "duration": 0.052547,
     "end_time": "2022-05-06T16:08:31.605740",
     "exception": false,
     "start_time": "2022-05-06T16:08:31.553193",
     "status": "completed"
    },
    "tags": []
   },
   "outputs": [],
   "source": [
    "submission['has_cactus'] = preds\n",
    "submission.to_csv('submission.csv', index=False)"
   ]
  },
  {
   "cell_type": "code",
   "execution_count": 25,
   "id": "cd5fb02f",
   "metadata": {
    "execution": {
     "iopub.execute_input": "2022-05-06T16:08:31.667639Z",
     "iopub.status.busy": "2022-05-06T16:08:31.667029Z",
     "iopub.status.idle": "2022-05-06T16:08:32.299544Z",
     "shell.execute_reply": "2022-05-06T16:08:32.298824Z"
    },
    "papermill": {
     "duration": 0.667071,
     "end_time": "2022-05-06T16:08:32.302222",
     "exception": false,
     "start_time": "2022-05-06T16:08:31.635151",
     "status": "completed"
    },
    "tags": []
   },
   "outputs": [],
   "source": [
    "import shutil\n",
    "\n",
    "shutil.rmtree('./train')\n",
    "shutil.rmtree('./test')"
   ]
  }
 ],
 "metadata": {
  "kernelspec": {
   "display_name": "Python 3",
   "language": "python",
   "name": "python3"
  },
  "language_info": {
   "codemirror_mode": {
    "name": "ipython",
    "version": 3
   },
   "file_extension": ".py",
   "mimetype": "text/x-python",
   "name": "python",
   "nbconvert_exporter": "python",
   "pygments_lexer": "ipython3",
   "version": "3.7.12"
  },
  "papermill": {
   "default_parameters": {},
   "duration": 76.615884,
   "end_time": "2022-05-06T16:08:33.552907",
   "environment_variables": {},
   "exception": null,
   "input_path": "__notebook__.ipynb",
   "output_path": "__notebook__.ipynb",
   "parameters": {},
   "start_time": "2022-05-06T16:07:16.937023",
   "version": "2.3.4"
  }
 },
 "nbformat": 4,
 "nbformat_minor": 5
}
