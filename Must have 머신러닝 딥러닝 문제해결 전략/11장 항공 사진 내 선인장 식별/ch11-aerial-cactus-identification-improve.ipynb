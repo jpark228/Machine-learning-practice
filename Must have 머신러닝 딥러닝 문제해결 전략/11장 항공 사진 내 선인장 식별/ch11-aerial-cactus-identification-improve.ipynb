{
 "cells": [
  {
   "cell_type": "code",
   "execution_count": 1,
   "id": "9ac72d4b",
   "metadata": {
    "execution": {
     "iopub.execute_input": "2022-05-08T05:15:13.926720Z",
     "iopub.status.busy": "2022-05-08T05:15:13.847642Z",
     "iopub.status.idle": "2022-05-08T05:15:18.346743Z",
     "shell.execute_reply": "2022-05-08T05:15:18.346134Z",
     "shell.execute_reply.started": "2022-05-08T04:14:04.984118Z"
    },
    "papermill": {
     "duration": 4.52161,
     "end_time": "2022-05-08T05:15:18.346898",
     "exception": false,
     "start_time": "2022-05-08T05:15:13.825288",
     "status": "completed"
    },
    "tags": []
   },
   "outputs": [],
   "source": [
    "import torch\n",
    "import random\n",
    "import numpy as np\n",
    "import os\n",
    "\n",
    "seed = 50\n",
    "os.environ['PYTHONHASHSEED'] = str(seed)\n",
    "random.seed(seed)\n",
    "np.random.seed(seed)\n",
    "torch.manual_seed(seed)\n",
    "torch.cuda.manual_seed(seed)\n",
    "torch.cuda.manual_seed_all(seed)\n",
    "torch.backends.cudnn.deterministic = True\n",
    "torch.backends.cudnn.benchmark = False\n",
    "torch.backends.cudnn.enabled = False"
   ]
  },
  {
   "cell_type": "code",
   "execution_count": 2,
   "id": "59913948",
   "metadata": {
    "execution": {
     "iopub.execute_input": "2022-05-08T05:15:18.438324Z",
     "iopub.status.busy": "2022-05-08T05:15:18.437546Z",
     "iopub.status.idle": "2022-05-08T05:15:18.440434Z",
     "shell.execute_reply": "2022-05-08T05:15:18.440007Z",
     "shell.execute_reply.started": "2022-05-08T04:14:09.532358Z"
    },
    "papermill": {
     "duration": 0.074641,
     "end_time": "2022-05-08T05:15:18.440546",
     "exception": false,
     "start_time": "2022-05-08T05:15:18.365905",
     "status": "completed"
    },
    "tags": []
   },
   "outputs": [],
   "source": [
    "device = torch.device('cuda' if torch.cuda.is_available() else 'cpu')"
   ]
  },
  {
   "cell_type": "markdown",
   "id": "c7a0ea61",
   "metadata": {
    "papermill": {
     "duration": 0.016779,
     "end_time": "2022-05-08T05:15:18.473973",
     "exception": false,
     "start_time": "2022-05-08T05:15:18.457194",
     "status": "completed"
    },
    "tags": []
   },
   "source": [
    "### Data Preparation"
   ]
  },
  {
   "cell_type": "code",
   "execution_count": 3,
   "id": "d282aa8b",
   "metadata": {
    "execution": {
     "iopub.execute_input": "2022-05-08T05:15:18.512662Z",
     "iopub.status.busy": "2022-05-08T05:15:18.512015Z",
     "iopub.status.idle": "2022-05-08T05:15:18.554166Z",
     "shell.execute_reply": "2022-05-08T05:15:18.553728Z",
     "shell.execute_reply.started": "2022-05-08T04:14:09.608378Z"
    },
    "papermill": {
     "duration": 0.063017,
     "end_time": "2022-05-08T05:15:18.554290",
     "exception": false,
     "start_time": "2022-05-08T05:15:18.491273",
     "status": "completed"
    },
    "tags": []
   },
   "outputs": [],
   "source": [
    "import pandas as pd\n",
    "\n",
    "data_path = '/kaggle/input/aerial-cactus-identification/'\n",
    "\n",
    "labels = pd.read_csv(data_path + 'train.csv')\n",
    "submission = pd.read_csv(data_path + 'sample_submission.csv')"
   ]
  },
  {
   "cell_type": "code",
   "execution_count": 4,
   "id": "0f323c6c",
   "metadata": {
    "execution": {
     "iopub.execute_input": "2022-05-08T05:15:18.593017Z",
     "iopub.status.busy": "2022-05-08T05:15:18.592459Z",
     "iopub.status.idle": "2022-05-08T05:15:21.252973Z",
     "shell.execute_reply": "2022-05-08T05:15:21.252451Z",
     "shell.execute_reply.started": "2022-05-08T04:14:09.657945Z"
    },
    "papermill": {
     "duration": 2.682318,
     "end_time": "2022-05-08T05:15:21.253190",
     "exception": false,
     "start_time": "2022-05-08T05:15:18.570872",
     "status": "completed"
    },
    "tags": []
   },
   "outputs": [],
   "source": [
    "from zipfile import ZipFile\n",
    "\n",
    "with ZipFile(data_path + 'train.zip') as zipper:\n",
    "    zipper.extractall()\n",
    "    \n",
    "with ZipFile(data_path + 'test.zip') as zipper:\n",
    "    zipper.extractall()"
   ]
  },
  {
   "cell_type": "code",
   "execution_count": 5,
   "id": "60c58461",
   "metadata": {
    "_uuid": "c07eab67e573c7de05e11065b5bafc1bbff284fb",
    "execution": {
     "iopub.execute_input": "2022-05-08T05:15:21.292806Z",
     "iopub.status.busy": "2022-05-08T05:15:21.292273Z",
     "iopub.status.idle": "2022-05-08T05:15:22.181208Z",
     "shell.execute_reply": "2022-05-08T05:15:22.180709Z",
     "shell.execute_reply.started": "2022-05-08T04:14:12.517439Z"
    },
    "papermill": {
     "duration": 0.909698,
     "end_time": "2022-05-08T05:15:22.181354",
     "exception": false,
     "start_time": "2022-05-08T05:15:21.271656",
     "status": "completed"
    },
    "tags": []
   },
   "outputs": [],
   "source": [
    "from sklearn.model_selection import train_test_split\n",
    "train, valid = train_test_split(labels, \n",
    "                                test_size=0.1,\n",
    "                                stratify=labels['has_cactus'],\n",
    "                                random_state=50)"
   ]
  },
  {
   "cell_type": "code",
   "execution_count": 6,
   "id": "beeb3cb8",
   "metadata": {
    "_uuid": "1b05af8d59d9d5b092e96f72dfebb19591416de9",
    "execution": {
     "iopub.execute_input": "2022-05-08T05:15:22.222177Z",
     "iopub.status.busy": "2022-05-08T05:15:22.221573Z",
     "iopub.status.idle": "2022-05-08T05:15:22.381766Z",
     "shell.execute_reply": "2022-05-08T05:15:22.381293Z",
     "shell.execute_reply.started": "2022-05-08T04:14:13.386525Z"
    },
    "papermill": {
     "duration": 0.183994,
     "end_time": "2022-05-08T05:15:22.381894",
     "exception": false,
     "start_time": "2022-05-08T05:15:22.197900",
     "status": "completed"
    },
    "tags": []
   },
   "outputs": [],
   "source": [
    "import cv2 \n",
    "from torch.utils.data import Dataset \n",
    "\n",
    "class ImageDataset(Dataset):\n",
    " \n",
    "    def __init__(self, df, img_dir='./', transform=None):\n",
    "        super().__init__() \n",
    "    \n",
    "        self.df = df\n",
    "        self.img_dir = img_dir\n",
    "        self.transform = transform\n",
    "     \n",
    "    def __len__(self):\n",
    "        return len(self.df)\n",
    "    \n",
    "    def __getitem__(self, idx):\n",
    "        img_id = self.df.iloc[idx, 0]   \n",
    "        img_path = self.img_dir + img_id \n",
    "        image = cv2.imread(img_path)    \n",
    "        image = cv2.cvtColor(image, cv2.COLOR_BGR2RGB) \n",
    "        label = self.df.iloc[idx, 1]     \n",
    "\n",
    "        if self.transform is not None:\n",
    "            image = self.transform(image) \n",
    "        return image, label"
   ]
  },
  {
   "cell_type": "markdown",
   "id": "29de43a2",
   "metadata": {
    "papermill": {
     "duration": 0.016254,
     "end_time": "2022-05-08T05:15:22.415583",
     "exception": false,
     "start_time": "2022-05-08T05:15:22.399329",
     "status": "completed"
    },
    "tags": []
   },
   "source": [
    "### Define Image Transformer"
   ]
  },
  {
   "cell_type": "code",
   "execution_count": 7,
   "id": "07712d5c",
   "metadata": {
    "execution": {
     "iopub.execute_input": "2022-05-08T05:15:22.455658Z",
     "iopub.status.busy": "2022-05-08T05:15:22.454553Z",
     "iopub.status.idle": "2022-05-08T05:15:22.608104Z",
     "shell.execute_reply": "2022-05-08T05:15:22.607579Z",
     "shell.execute_reply.started": "2022-05-08T04:14:13.555925Z"
    },
    "papermill": {
     "duration": 0.176063,
     "end_time": "2022-05-08T05:15:22.608248",
     "exception": false,
     "start_time": "2022-05-08T05:15:22.432185",
     "status": "completed"
    },
    "tags": []
   },
   "outputs": [],
   "source": [
    "from torchvision import transforms\n",
    "\n",
    "transform_train = transforms.Compose([transforms.ToTensor(),\n",
    "                                      transforms.Pad(32, padding_mode='symmetric'),\n",
    "                                      transforms.RandomHorizontalFlip(),\n",
    "                                      transforms.RandomVerticalFlip(),\n",
    "                                      transforms.RandomRotation(10),\n",
    "                                      transforms.Normalize((0.485, 0.456, 0.406),\n",
    "                                                           (0.229, 0.224, 0.225))])\n",
    "\n",
    "transform_test= transforms.Compose([transforms.ToTensor(),\n",
    "                                    transforms.Pad(32, padding_mode='symmetric'),\n",
    "                                    transforms.Normalize((0.485, 0.456, 0.406),\n",
    "                                                         (0.229, 0.224, 0.225))])"
   ]
  },
  {
   "cell_type": "markdown",
   "id": "c5b34c46",
   "metadata": {
    "papermill": {
     "duration": 0.016456,
     "end_time": "2022-05-08T05:15:22.641541",
     "exception": false,
     "start_time": "2022-05-08T05:15:22.625085",
     "status": "completed"
    },
    "tags": []
   },
   "source": [
    "### Setting dataset loader"
   ]
  },
  {
   "cell_type": "code",
   "execution_count": 8,
   "id": "39b08cc3",
   "metadata": {
    "execution": {
     "iopub.execute_input": "2022-05-08T05:15:22.679384Z",
     "iopub.status.busy": "2022-05-08T05:15:22.678746Z",
     "iopub.status.idle": "2022-05-08T05:15:22.681997Z",
     "shell.execute_reply": "2022-05-08T05:15:22.681551Z",
     "shell.execute_reply.started": "2022-05-08T04:14:13.710846Z"
    },
    "papermill": {
     "duration": 0.02401,
     "end_time": "2022-05-08T05:15:22.682116",
     "exception": false,
     "start_time": "2022-05-08T05:15:22.658106",
     "status": "completed"
    },
    "tags": []
   },
   "outputs": [],
   "source": [
    "dataset_train = ImageDataset(df=train, img_dir='train/', transform=transform_train)\n",
    "dataset_valid = ImageDataset(df=valid, img_dir='train/', transform=transform_test)"
   ]
  },
  {
   "cell_type": "code",
   "execution_count": 9,
   "id": "de5ad22c",
   "metadata": {
    "_uuid": "c247391c28497ad35c72f5218398ea71f2d0d5ff",
    "execution": {
     "iopub.execute_input": "2022-05-08T05:15:22.720872Z",
     "iopub.status.busy": "2022-05-08T05:15:22.719268Z",
     "iopub.status.idle": "2022-05-08T05:15:22.721484Z",
     "shell.execute_reply": "2022-05-08T05:15:22.721886Z",
     "shell.execute_reply.started": "2022-05-08T04:14:13.717079Z"
    },
    "papermill": {
     "duration": 0.023511,
     "end_time": "2022-05-08T05:15:22.722033",
     "exception": false,
     "start_time": "2022-05-08T05:15:22.698522",
     "status": "completed"
    },
    "tags": []
   },
   "outputs": [],
   "source": [
    "from torch.utils.data import DataLoader \n",
    "\n",
    "loader_train = DataLoader(dataset=dataset_train, batch_size=32, shuffle=True)\n",
    "loader_valid = DataLoader(dataset=dataset_valid, batch_size=32, shuffle=False)"
   ]
  },
  {
   "cell_type": "markdown",
   "id": "2108717a",
   "metadata": {
    "papermill": {
     "duration": 0.016746,
     "end_time": "2022-05-08T05:15:22.755157",
     "exception": false,
     "start_time": "2022-05-08T05:15:22.738411",
     "status": "completed"
    },
    "tags": []
   },
   "source": [
    "## Creat Model"
   ]
  },
  {
   "cell_type": "code",
   "execution_count": 10,
   "id": "4acca0da",
   "metadata": {
    "_uuid": "0a2d5600bc2eb915ec0bdf5b52ba11e25096f7d0",
    "execution": {
     "iopub.execute_input": "2022-05-08T05:15:22.802304Z",
     "iopub.status.busy": "2022-05-08T05:15:22.801439Z",
     "iopub.status.idle": "2022-05-08T05:15:22.803423Z",
     "shell.execute_reply": "2022-05-08T05:15:22.803803Z",
     "shell.execute_reply.started": "2022-05-08T04:14:13.730306Z"
    },
    "papermill": {
     "duration": 0.031983,
     "end_time": "2022-05-08T05:15:22.803934",
     "exception": false,
     "start_time": "2022-05-08T05:15:22.771951",
     "status": "completed"
    },
    "tags": []
   },
   "outputs": [],
   "source": [
    "import torch.nn as nn \n",
    "import torch.nn.functional as F \n",
    "\n",
    "class Model(nn.Module):\n",
    "\n",
    "    def __init__(self):\n",
    "        super().__init__() \n",
    "     \n",
    "        self.layer1 = nn.Sequential(nn.Conv2d(in_channels=3, out_channels=32,\n",
    "                                              kernel_size=3, padding=2),\n",
    "                                    nn.BatchNorm2d(32), \n",
    "                                    nn.LeakyReLU(), \n",
    "                                    nn.MaxPool2d(kernel_size=2))\n",
    "\n",
    "        self.layer2 = nn.Sequential(nn.Conv2d(in_channels=32, out_channels=64,\n",
    "                                              kernel_size=3, padding=2),\n",
    "                                    nn.BatchNorm2d(64),\n",
    "                                    nn.LeakyReLU(),\n",
    "                                    nn.MaxPool2d(kernel_size=2))\n",
    "        \n",
    "        self.layer3 = nn.Sequential(nn.Conv2d(in_channels=64, out_channels=128,\n",
    "                                              kernel_size=3, padding=2),\n",
    "                                    nn.BatchNorm2d(128),\n",
    "                                    nn.LeakyReLU(),\n",
    "                                    nn.MaxPool2d(kernel_size=2))\n",
    "        \n",
    "        self.layer4 = nn.Sequential(nn.Conv2d(in_channels=128, out_channels=256,\n",
    "                                              kernel_size=3, padding=2),\n",
    "                                    nn.BatchNorm2d(256),\n",
    "                                    nn.LeakyReLU(),\n",
    "                                    nn.MaxPool2d(kernel_size=2))\n",
    "        \n",
    "        self.layer5 = nn.Sequential(nn.Conv2d(in_channels=256, out_channels=512,\n",
    "                                              kernel_size=3, padding=2),\n",
    "                                    nn.BatchNorm2d(512),\n",
    "                                    nn.LeakyReLU(),\n",
    "                                    nn.MaxPool2d(kernel_size=2))\n",
    "        \n",
    "        self.avg_pool = nn.AvgPool2d(kernel_size=4) \n",
    "        \n",
    "        self.fc1 = nn.Linear(in_features=512 * 1 * 1, out_features=64)\n",
    "        self.fc2 = nn.Linear(in_features=64, out_features=2)\n",
    "\n",
    "    def forward(self, x):\n",
    "        x = self.layer1(x)\n",
    "        x = self.layer2(x)\n",
    "        x = self.layer3(x)\n",
    "        x = self.layer4(x)\n",
    "        x = self.layer5(x)\n",
    "        x = self.avg_pool(x)\n",
    "        x = x.view(-1, 512 * 1 * 1)\n",
    "        x = self.fc1(x)\n",
    "        x = self.fc2(x)\n",
    "        return x"
   ]
  },
  {
   "cell_type": "code",
   "execution_count": 11,
   "id": "2b4a9a7a",
   "metadata": {
    "_cell_guid": "79c7e3d0-c299-4dcb-8224-4455121ee9b0",
    "_uuid": "d629ff2d2480ee46fbb7e2d37f6b5fab8052498a",
    "execution": {
     "iopub.execute_input": "2022-05-08T05:15:22.842238Z",
     "iopub.status.busy": "2022-05-08T05:15:22.841598Z",
     "iopub.status.idle": "2022-05-08T05:15:28.112751Z",
     "shell.execute_reply": "2022-05-08T05:15:28.112142Z",
     "shell.execute_reply.started": "2022-05-08T04:14:13.749781Z"
    },
    "papermill": {
     "duration": 5.291915,
     "end_time": "2022-05-08T05:15:28.112878",
     "exception": false,
     "start_time": "2022-05-08T05:15:22.820963",
     "status": "completed"
    },
    "tags": []
   },
   "outputs": [],
   "source": [
    "model = Model().to(device)"
   ]
  },
  {
   "cell_type": "markdown",
   "id": "a8cfd475",
   "metadata": {
    "papermill": {
     "duration": 0.016661,
     "end_time": "2022-05-08T05:15:28.146712",
     "exception": false,
     "start_time": "2022-05-08T05:15:28.130051",
     "status": "completed"
    },
    "tags": []
   },
   "source": [
    "## Train Model"
   ]
  },
  {
   "cell_type": "markdown",
   "id": "e89a6953",
   "metadata": {
    "papermill": {
     "duration": 0.016224,
     "end_time": "2022-05-08T05:15:28.179664",
     "exception": false,
     "start_time": "2022-05-08T05:15:28.163440",
     "status": "completed"
    },
    "tags": []
   },
   "source": [
    "### Setting loss function & optimizer"
   ]
  },
  {
   "cell_type": "code",
   "execution_count": 12,
   "id": "872310d4",
   "metadata": {
    "execution": {
     "iopub.execute_input": "2022-05-08T05:15:28.218092Z",
     "iopub.status.busy": "2022-05-08T05:15:28.216500Z",
     "iopub.status.idle": "2022-05-08T05:15:28.218807Z",
     "shell.execute_reply": "2022-05-08T05:15:28.219324Z",
     "shell.execute_reply.started": "2022-05-08T04:14:18.983822Z"
    },
    "papermill": {
     "duration": 0.023336,
     "end_time": "2022-05-08T05:15:28.219469",
     "exception": false,
     "start_time": "2022-05-08T05:15:28.196133",
     "status": "completed"
    },
    "tags": []
   },
   "outputs": [],
   "source": [
    "criterion = nn.CrossEntropyLoss()"
   ]
  },
  {
   "cell_type": "code",
   "execution_count": 13,
   "id": "14d27af6",
   "metadata": {
    "_uuid": "fceb2929d8750acb2de745cd9ff3d2d458820df8",
    "execution": {
     "iopub.execute_input": "2022-05-08T05:15:28.257907Z",
     "iopub.status.busy": "2022-05-08T05:15:28.257046Z",
     "iopub.status.idle": "2022-05-08T05:15:28.259278Z",
     "shell.execute_reply": "2022-05-08T05:15:28.259704Z",
     "shell.execute_reply.started": "2022-05-08T04:14:18.990244Z"
    },
    "papermill": {
     "duration": 0.023923,
     "end_time": "2022-05-08T05:15:28.259853",
     "exception": false,
     "start_time": "2022-05-08T05:15:28.235930",
     "status": "completed"
    },
    "tags": []
   },
   "outputs": [],
   "source": [
    "optimizer = torch.optim.Adamax(model.parameters(), lr=0.00006)"
   ]
  },
  {
   "cell_type": "markdown",
   "id": "0c00be7d",
   "metadata": {
    "papermill": {
     "duration": 0.016531,
     "end_time": "2022-05-08T05:15:28.292761",
     "exception": false,
     "start_time": "2022-05-08T05:15:28.276230",
     "status": "completed"
    },
    "tags": []
   },
   "source": [
    "### Train model"
   ]
  },
  {
   "cell_type": "code",
   "execution_count": 14,
   "id": "f99469ee",
   "metadata": {
    "_uuid": "2c37417ae6b62ab4551bc8a888916ca1e591d284",
    "execution": {
     "iopub.execute_input": "2022-05-08T05:15:28.335247Z",
     "iopub.status.busy": "2022-05-08T05:15:28.334607Z",
     "iopub.status.idle": "2022-05-08T06:11:09.950436Z",
     "shell.execute_reply": "2022-05-08T06:11:09.951093Z",
     "shell.execute_reply.started": "2022-05-08T04:14:19.004912Z"
    },
    "papermill": {
     "duration": 3341.640753,
     "end_time": "2022-05-08T06:11:09.951319",
     "exception": false,
     "start_time": "2022-05-08T05:15:28.310566",
     "status": "completed"
    },
    "tags": []
   },
   "outputs": [
    {
     "name": "stdout",
     "output_type": "stream",
     "text": [
      "에폭 [1/70] - 손실값: 0.1305\n",
      "에폭 [2/70] - 손실값: 0.0704\n",
      "에폭 [3/70] - 손실값: 0.0515\n",
      "에폭 [4/70] - 손실값: 0.0420\n",
      "에폭 [5/70] - 손실값: 0.0399\n",
      "에폭 [6/70] - 손실값: 0.0354\n",
      "에폭 [7/70] - 손실값: 0.0293\n",
      "에폭 [8/70] - 손실값: 0.0296\n",
      "에폭 [9/70] - 손실값: 0.0259\n",
      "에폭 [10/70] - 손실값: 0.0242\n",
      "에폭 [11/70] - 손실값: 0.0232\n",
      "에폭 [12/70] - 손실값: 0.0226\n",
      "에폭 [13/70] - 손실값: 0.0222\n",
      "에폭 [14/70] - 손실값: 0.0214\n",
      "에폭 [15/70] - 손실값: 0.0202\n",
      "에폭 [16/70] - 손실값: 0.0210\n",
      "에폭 [17/70] - 손실값: 0.0176\n",
      "에폭 [18/70] - 손실값: 0.0183\n",
      "에폭 [19/70] - 손실값: 0.0170\n",
      "에폭 [20/70] - 손실값: 0.0156\n",
      "에폭 [21/70] - 손실값: 0.0158\n",
      "에폭 [22/70] - 손실값: 0.0148\n",
      "에폭 [23/70] - 손실값: 0.0132\n",
      "에폭 [24/70] - 손실값: 0.0139\n",
      "에폭 [25/70] - 손실값: 0.0133\n",
      "에폭 [26/70] - 손실값: 0.0105\n",
      "에폭 [27/70] - 손실값: 0.0137\n",
      "에폭 [28/70] - 손실값: 0.0115\n",
      "에폭 [29/70] - 손실값: 0.0086\n",
      "에폭 [30/70] - 손실값: 0.0095\n",
      "에폭 [31/70] - 손실값: 0.0104\n",
      "에폭 [32/70] - 손실값: 0.0089\n",
      "에폭 [33/70] - 손실값: 0.0088\n",
      "에폭 [34/70] - 손실값: 0.0090\n",
      "에폭 [35/70] - 손실값: 0.0108\n",
      "에폭 [36/70] - 손실값: 0.0085\n",
      "에폭 [37/70] - 손실값: 0.0080\n",
      "에폭 [38/70] - 손실값: 0.0083\n",
      "에폭 [39/70] - 손실값: 0.0074\n",
      "에폭 [40/70] - 손실값: 0.0067\n",
      "에폭 [41/70] - 손실값: 0.0074\n",
      "에폭 [42/70] - 손실값: 0.0075\n",
      "에폭 [43/70] - 손실값: 0.0070\n",
      "에폭 [44/70] - 손실값: 0.0065\n",
      "에폭 [45/70] - 손실값: 0.0062\n",
      "에폭 [46/70] - 손실값: 0.0074\n",
      "에폭 [47/70] - 손실값: 0.0065\n",
      "에폭 [48/70] - 손실값: 0.0068\n",
      "에폭 [49/70] - 손실값: 0.0059\n",
      "에폭 [50/70] - 손실값: 0.0049\n",
      "에폭 [51/70] - 손실값: 0.0072\n",
      "에폭 [52/70] - 손실값: 0.0080\n",
      "에폭 [53/70] - 손실값: 0.0049\n",
      "에폭 [54/70] - 손실값: 0.0052\n",
      "에폭 [55/70] - 손실값: 0.0050\n",
      "에폭 [56/70] - 손실값: 0.0057\n",
      "에폭 [57/70] - 손실값: 0.0039\n",
      "에폭 [58/70] - 손실값: 0.0045\n",
      "에폭 [59/70] - 손실값: 0.0054\n",
      "에폭 [60/70] - 손실값: 0.0042\n",
      "에폭 [61/70] - 손실값: 0.0046\n",
      "에폭 [62/70] - 손실값: 0.0046\n",
      "에폭 [63/70] - 손실값: 0.0068\n",
      "에폭 [64/70] - 손실값: 0.0049\n",
      "에폭 [65/70] - 손실값: 0.0046\n",
      "에폭 [66/70] - 손실값: 0.0048\n",
      "에폭 [67/70] - 손실값: 0.0041\n",
      "에폭 [68/70] - 손실값: 0.0050\n",
      "에폭 [69/70] - 손실값: 0.0034\n",
      "에폭 [70/70] - 손실값: 0.0025\n"
     ]
    }
   ],
   "source": [
    "epochs = 70 \n",
    "\n",
    "for epoch in range(epochs):\n",
    "    epoch_loss = 0 \n",
    "\n",
    "    for images, labels in loader_train:\n",
    "  \n",
    "        images = images.to(device)\n",
    "        labels = labels.to(device)\n",
    "\n",
    "        optimizer.zero_grad()\n",
    "\n",
    "        outputs = model(images)\n",
    "\n",
    "        loss = criterion(outputs, labels)\n",
    "   \n",
    "        epoch_loss += loss.item() \n",
    "   \n",
    "        loss.backward()\n",
    "   \n",
    "        optimizer.step()\n",
    "        \n",
    "    print(f'에폭 [{epoch+1}/{epochs}] - 손실값: {epoch_loss/len(loader_train):.4f}')    "
   ]
  },
  {
   "cell_type": "markdown",
   "id": "c56128b7",
   "metadata": {
    "papermill": {
     "duration": 0.03449,
     "end_time": "2022-05-08T06:11:10.021416",
     "exception": false,
     "start_time": "2022-05-08T06:11:09.986926",
     "status": "completed"
    },
    "tags": []
   },
   "source": [
    "## Model evaluation"
   ]
  },
  {
   "cell_type": "code",
   "execution_count": 15,
   "id": "d28febbe",
   "metadata": {
    "execution": {
     "iopub.execute_input": "2022-05-08T06:11:10.097320Z",
     "iopub.status.busy": "2022-05-08T06:11:10.096756Z",
     "iopub.status.idle": "2022-05-08T06:11:12.377674Z",
     "shell.execute_reply": "2022-05-08T06:11:12.376838Z",
     "shell.execute_reply.started": "2022-05-08T05:09:09.374813Z"
    },
    "papermill": {
     "duration": 2.321742,
     "end_time": "2022-05-08T06:11:12.377804",
     "exception": false,
     "start_time": "2022-05-08T06:11:10.056062",
     "status": "completed"
    },
    "tags": []
   },
   "outputs": [
    {
     "name": "stdout",
     "output_type": "stream",
     "text": [
      "검증 데이터 ROC AUC : 0.9998\n"
     ]
    }
   ],
   "source": [
    "from sklearn.metrics import roc_auc_score \n",
    "\n",
    "true_list = []\n",
    "preds_list = []\n",
    "\n",
    "model.eval() \n",
    "\n",
    "with torch.no_grad():\n",
    "    for images, labels in loader_valid:\n",
    "   \n",
    "        images = images.to(device)\n",
    "        labels = labels.to(device)\n",
    "        \n",
    "        outputs = model(images)\n",
    "        preds = torch.softmax(outputs.cpu(), dim=1)[:, 1]\n",
    "        true = labels.cpu() \n",
    "\n",
    "        preds_list.extend(preds)\n",
    "        true_list.extend(true)\n",
    "        \n",
    "print(f'검증 데이터 ROC AUC : {roc_auc_score(true_list, preds_list):.4f}')    "
   ]
  },
  {
   "cell_type": "markdown",
   "id": "768e617d",
   "metadata": {
    "papermill": {
     "duration": 0.034686,
     "end_time": "2022-05-08T06:11:12.448428",
     "exception": false,
     "start_time": "2022-05-08T06:11:12.413742",
     "status": "completed"
    },
    "tags": []
   },
   "source": [
    "## Model prediction & submission"
   ]
  },
  {
   "cell_type": "code",
   "execution_count": 16,
   "id": "b1544571",
   "metadata": {
    "execution": {
     "iopub.execute_input": "2022-05-08T06:11:12.525591Z",
     "iopub.status.busy": "2022-05-08T06:11:12.524723Z",
     "iopub.status.idle": "2022-05-08T06:11:17.617555Z",
     "shell.execute_reply": "2022-05-08T06:11:17.617022Z",
     "shell.execute_reply.started": "2022-05-08T05:09:11.701458Z"
    },
    "papermill": {
     "duration": 5.134191,
     "end_time": "2022-05-08T06:11:17.617696",
     "exception": false,
     "start_time": "2022-05-08T06:11:12.483505",
     "status": "completed"
    },
    "tags": []
   },
   "outputs": [],
   "source": [
    "dataset_test = ImageDataset(df=submission, img_dir='test/', \n",
    "                            transform=transform_test)\n",
    "loader_test = DataLoader(dataset=dataset_test, batch_size=32, shuffle=False)\n",
    "\n",
    "model.eval() \n",
    "\n",
    "preds = [] \n",
    "\n",
    "with torch.no_grad(): \n",
    "    for images, _ in loader_test:\n",
    "        images = images.to(device)\n",
    "        \n",
    "        outputs = model(images)\n",
    "        preds_part = torch.softmax(outputs.cpu(), dim=1)[:, 1].tolist()\n",
    "        preds.extend(preds_part)"
   ]
  },
  {
   "cell_type": "code",
   "execution_count": 17,
   "id": "579830d5",
   "metadata": {
    "execution": {
     "iopub.execute_input": "2022-05-08T06:11:17.695792Z",
     "iopub.status.busy": "2022-05-08T06:11:17.694796Z",
     "iopub.status.idle": "2022-05-08T06:11:17.714395Z",
     "shell.execute_reply": "2022-05-08T06:11:17.714810Z",
     "shell.execute_reply.started": "2022-05-08T05:09:16.353147Z"
    },
    "papermill": {
     "duration": 0.061617,
     "end_time": "2022-05-08T06:11:17.714967",
     "exception": false,
     "start_time": "2022-05-08T06:11:17.653350",
     "status": "completed"
    },
    "tags": []
   },
   "outputs": [],
   "source": [
    "submission['has_cactus'] = preds\n",
    "submission.to_csv('submission.csv', index=False)"
   ]
  },
  {
   "cell_type": "code",
   "execution_count": 18,
   "id": "e4f9b70e",
   "metadata": {
    "execution": {
     "iopub.execute_input": "2022-05-08T06:11:17.792606Z",
     "iopub.status.busy": "2022-05-08T06:11:17.791845Z",
     "iopub.status.idle": "2022-05-08T06:11:18.375670Z",
     "shell.execute_reply": "2022-05-08T06:11:18.375093Z",
     "shell.execute_reply.started": "2022-05-08T05:09:16.382571Z"
    },
    "papermill": {
     "duration": 0.62565,
     "end_time": "2022-05-08T06:11:18.375817",
     "exception": false,
     "start_time": "2022-05-08T06:11:17.750167",
     "status": "completed"
    },
    "tags": []
   },
   "outputs": [],
   "source": [
    "import shutil\n",
    "\n",
    "shutil.rmtree('./train')\n",
    "shutil.rmtree('./test')"
   ]
  }
 ],
 "metadata": {
  "kernelspec": {
   "display_name": "Python 3",
   "language": "python",
   "name": "python3"
  },
  "language_info": {
   "codemirror_mode": {
    "name": "ipython",
    "version": 3
   },
   "file_extension": ".py",
   "mimetype": "text/x-python",
   "name": "python",
   "nbconvert_exporter": "python",
   "pygments_lexer": "ipython3",
   "version": "3.7.10"
  },
  "papermill": {
   "default_parameters": {},
   "duration": 3373.592235,
   "end_time": "2022-05-08T06:11:20.406193",
   "environment_variables": {},
   "exception": null,
   "input_path": "__notebook__.ipynb",
   "output_path": "__notebook__.ipynb",
   "parameters": {},
   "start_time": "2022-05-08T05:15:06.813958",
   "version": "2.3.3"
  }
 },
 "nbformat": 4,
 "nbformat_minor": 5
}
