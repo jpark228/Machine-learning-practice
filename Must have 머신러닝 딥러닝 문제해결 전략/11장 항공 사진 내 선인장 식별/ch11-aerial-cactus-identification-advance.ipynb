{
 "cells": [
  {
   "cell_type": "markdown",
   "id": "6608ad3f",
   "metadata": {
    "_cell_guid": "b1076dfc-b9ad-4769-8c92-a6c4dae69d19",
    "_uuid": "8f2839f25d086af736a60e9eeb907d3b93b6e0e5",
    "execution": {
     "iopub.execute_input": "2022-05-06T16:10:47.476683Z",
     "iopub.status.busy": "2022-05-06T16:10:47.474441Z",
     "iopub.status.idle": "2022-05-06T16:10:47.506773Z",
     "shell.execute_reply": "2022-05-06T16:10:47.505947Z",
     "shell.execute_reply.started": "2022-05-06T16:10:47.476573Z"
    },
    "papermill": {
     "duration": 0.021224,
     "end_time": "2022-05-07T16:08:05.876972",
     "exception": false,
     "start_time": "2022-05-07T16:08:05.855748",
     "status": "completed"
    },
    "tags": []
   },
   "source": [
    "# This Python 3 environment comes with many helpful analytics libraries installed\n",
    "# It is defined by the kaggle/python Docker image: https://github.com/kaggle/docker-python\n",
    "# For example, here's several helpful packages to load\n",
    "\n",
    "import numpy as np # linear algebra\n",
    "import pandas as pd # data processing, CSV file I/O (e.g. pd.read_csv)\n",
    "\n",
    "# Input data files are available in the read-only \"../input/\" directory\n",
    "# For example, running this (by clicking run or pressing Shift+Enter) will list all files under the input directory\n",
    "\n",
    "import os\n",
    "for dirname, _, filenames in os.walk('/kaggle/input'):\n",
    "    for filename in filenames:\n",
    "        print(os.path.join(dirname, filename))\n",
    "\n",
    "# You can write up to 20GB to the current directory (/kaggle/working/) that gets preserved as output when you create a version using \"Save & Run All\" \n",
    "# You can also write temporary files to /kaggle/temp/, but they won't be saved outside of the current session"
   ]
  },
  {
   "cell_type": "markdown",
   "id": "58117261",
   "metadata": {
    "papermill": {
     "duration": 0.018507,
     "end_time": "2022-05-07T16:08:05.915179",
     "exception": false,
     "start_time": "2022-05-07T16:08:05.896672",
     "status": "completed"
    },
    "tags": []
   },
   "source": [
    "### Data Preparation"
   ]
  },
  {
   "cell_type": "code",
   "execution_count": 1,
   "id": "306a5167",
   "metadata": {
    "execution": {
     "iopub.execute_input": "2022-05-07T16:08:05.954460Z",
     "iopub.status.busy": "2022-05-07T16:08:05.954052Z",
     "iopub.status.idle": "2022-05-07T16:08:07.456135Z",
     "shell.execute_reply": "2022-05-07T16:08:07.455408Z"
    },
    "papermill": {
     "duration": 1.524544,
     "end_time": "2022-05-07T16:08:07.458256",
     "exception": false,
     "start_time": "2022-05-07T16:08:05.933712",
     "status": "completed"
    },
    "tags": []
   },
   "outputs": [],
   "source": [
    "import torch \n",
    "import random\n",
    "import numpy as np\n",
    "import os\n",
    "\n",
    "seed = 50\n",
    "os.environ['PYTHONHASHSEED'] = str(seed)\n",
    "random.seed(seed)\n",
    "np.random.seed(seed)\n",
    "torch.manual_seed(seed)\n",
    "torch.cuda.manual_seed(seed)\n",
    "torch.cuda.manual_seed_all(seed)\n",
    "torch.backends.cudnn.deterministic = True\n",
    "torch.backends.cudnn.benchmark = False\n",
    "torch.backends.cudnn.enabled = False"
   ]
  },
  {
   "cell_type": "code",
   "execution_count": 2,
   "id": "6fff9fba",
   "metadata": {
    "execution": {
     "iopub.execute_input": "2022-05-07T16:08:07.498946Z",
     "iopub.status.busy": "2022-05-07T16:08:07.498290Z",
     "iopub.status.idle": "2022-05-07T16:08:07.548596Z",
     "shell.execute_reply": "2022-05-07T16:08:07.547917Z"
    },
    "papermill": {
     "duration": 0.072537,
     "end_time": "2022-05-07T16:08:07.550793",
     "exception": false,
     "start_time": "2022-05-07T16:08:07.478256",
     "status": "completed"
    },
    "tags": []
   },
   "outputs": [],
   "source": [
    "device = torch.device('cuda' if torch.cuda.is_available() else 'cpu')"
   ]
  },
  {
   "cell_type": "code",
   "execution_count": 3,
   "id": "e367f0cb",
   "metadata": {
    "execution": {
     "iopub.execute_input": "2022-05-07T16:08:07.589129Z",
     "iopub.status.busy": "2022-05-07T16:08:07.588880Z",
     "iopub.status.idle": "2022-05-07T16:08:07.635924Z",
     "shell.execute_reply": "2022-05-07T16:08:07.635266Z"
    },
    "papermill": {
     "duration": 0.068639,
     "end_time": "2022-05-07T16:08:07.637995",
     "exception": false,
     "start_time": "2022-05-07T16:08:07.569356",
     "status": "completed"
    },
    "tags": []
   },
   "outputs": [],
   "source": [
    "import pandas as pd\n",
    "\n",
    "data_path = '/kaggle/input/aerial-cactus-identification/'\n",
    "\n",
    "labels = pd.read_csv(data_path + 'train.csv')\n",
    "submission = pd.read_csv(data_path + 'sample_submission.csv')"
   ]
  },
  {
   "cell_type": "code",
   "execution_count": 4,
   "id": "00fe03f3",
   "metadata": {
    "execution": {
     "iopub.execute_input": "2022-05-07T16:08:07.676948Z",
     "iopub.status.busy": "2022-05-07T16:08:07.676733Z",
     "iopub.status.idle": "2022-05-07T16:08:10.505151Z",
     "shell.execute_reply": "2022-05-07T16:08:10.504426Z"
    },
    "papermill": {
     "duration": 2.85016,
     "end_time": "2022-05-07T16:08:10.507240",
     "exception": false,
     "start_time": "2022-05-07T16:08:07.657080",
     "status": "completed"
    },
    "tags": []
   },
   "outputs": [],
   "source": [
    "from zipfile import ZipFile\n",
    "\n",
    "with ZipFile(data_path + 'train.zip') as zipper:\n",
    "    zipper.extractall()\n",
    "    \n",
    "with ZipFile(data_path + 'test.zip') as zipper:\n",
    "    zipper.extractall()"
   ]
  },
  {
   "cell_type": "code",
   "execution_count": 5,
   "id": "3231be45",
   "metadata": {
    "execution": {
     "iopub.execute_input": "2022-05-07T16:08:10.548625Z",
     "iopub.status.busy": "2022-05-07T16:08:10.548411Z",
     "iopub.status.idle": "2022-05-07T16:08:11.474104Z",
     "shell.execute_reply": "2022-05-07T16:08:11.473356Z"
    },
    "papermill": {
     "duration": 0.949038,
     "end_time": "2022-05-07T16:08:11.476181",
     "exception": false,
     "start_time": "2022-05-07T16:08:10.527143",
     "status": "completed"
    },
    "tags": []
   },
   "outputs": [],
   "source": [
    "from sklearn.model_selection import train_test_split\n",
    "\n",
    "_, valid = train_test_split(labels, \n",
    "                            test_size=0.1,\n",
    "                            stratify=labels['has_cactus'],\n",
    "                            random_state=50)"
   ]
  },
  {
   "cell_type": "code",
   "execution_count": 6,
   "id": "778330f7",
   "metadata": {
    "execution": {
     "iopub.execute_input": "2022-05-07T16:08:11.515342Z",
     "iopub.status.busy": "2022-05-07T16:08:11.515122Z",
     "iopub.status.idle": "2022-05-07T16:08:11.663781Z",
     "shell.execute_reply": "2022-05-07T16:08:11.663092Z"
    },
    "papermill": {
     "duration": 0.17004,
     "end_time": "2022-05-07T16:08:11.665716",
     "exception": false,
     "start_time": "2022-05-07T16:08:11.495676",
     "status": "completed"
    },
    "tags": []
   },
   "outputs": [],
   "source": [
    "import cv2 \n",
    "from torch.utils.data import Dataset \n",
    "\n",
    "class ImageDataset(Dataset):\n",
    "    def __init__(self, df, img_dir='./', transform=None):\n",
    "        super().__init__() \n",
    "        self.df = df\n",
    "        self.img_dir = img_dir\n",
    "        self.transform = transform\n",
    "    \n",
    "    def __len__(self):\n",
    "        return len(self.df)\n",
    "    \n",
    "    def __getitem__(self, idx):\n",
    "        img_id = self.df.iloc[idx, 0]    \n",
    "        img_path = self.img_dir + img_id \n",
    "        image = cv2.imread(img_path)     \n",
    "        image = cv2.cvtColor(image, cv2.COLOR_BGR2RGB) \n",
    "        label = self.df.iloc[idx, 1]     \n",
    "\n",
    "        if self.transform is not None:\n",
    "            image = self.transform(image) \n",
    "        return image, label"
   ]
  },
  {
   "cell_type": "code",
   "execution_count": 7,
   "id": "5ba2162e",
   "metadata": {
    "execution": {
     "iopub.execute_input": "2022-05-07T16:08:11.704609Z",
     "iopub.status.busy": "2022-05-07T16:08:11.704026Z",
     "iopub.status.idle": "2022-05-07T16:08:11.859551Z",
     "shell.execute_reply": "2022-05-07T16:08:11.858834Z"
    },
    "papermill": {
     "duration": 0.17725,
     "end_time": "2022-05-07T16:08:11.861559",
     "exception": false,
     "start_time": "2022-05-07T16:08:11.684309",
     "status": "completed"
    },
    "tags": []
   },
   "outputs": [],
   "source": [
    "from torchvision import transforms \n",
    "\n",
    "transform_train = transforms.Compose([transforms.ToTensor(),\n",
    "                                      transforms.Pad(32, padding_mode='symmetric'),\n",
    "                                      transforms.RandomHorizontalFlip(),\n",
    "                                      transforms.RandomVerticalFlip(),\n",
    "                                      transforms.RandomRotation(10),\n",
    "                                      transforms.Normalize((0.485, 0.456, 0.406),\n",
    "                                                           (0.229, 0.224, 0.225))])\n",
    "\n",
    "transform_test= transforms.Compose([transforms.ToTensor(),\n",
    "                                    transforms.Pad(32, padding_mode='symmetric'),\n",
    "                                    transforms.Normalize((0.485, 0.456, 0.406),\n",
    "                                                         (0.229, 0.224, 0.225))])"
   ]
  },
  {
   "cell_type": "code",
   "execution_count": 8,
   "id": "00af6367",
   "metadata": {
    "execution": {
     "iopub.execute_input": "2022-05-07T16:08:11.900297Z",
     "iopub.status.busy": "2022-05-07T16:08:11.900076Z",
     "iopub.status.idle": "2022-05-07T16:08:11.904009Z",
     "shell.execute_reply": "2022-05-07T16:08:11.903314Z"
    },
    "papermill": {
     "duration": 0.025234,
     "end_time": "2022-05-07T16:08:11.905747",
     "exception": false,
     "start_time": "2022-05-07T16:08:11.880513",
     "status": "completed"
    },
    "tags": []
   },
   "outputs": [],
   "source": [
    "dataset_train = ImageDataset(df=labels, img_dir='train/', transform=transform_train)\n",
    "dataset_valid = ImageDataset(df=valid, img_dir='train/', transform=transform_test)"
   ]
  },
  {
   "cell_type": "code",
   "execution_count": 9,
   "id": "7c421904",
   "metadata": {
    "execution": {
     "iopub.execute_input": "2022-05-07T16:08:11.944189Z",
     "iopub.status.busy": "2022-05-07T16:08:11.943991Z",
     "iopub.status.idle": "2022-05-07T16:08:11.948122Z",
     "shell.execute_reply": "2022-05-07T16:08:11.947443Z"
    },
    "papermill": {
     "duration": 0.025379,
     "end_time": "2022-05-07T16:08:11.949683",
     "exception": false,
     "start_time": "2022-05-07T16:08:11.924304",
     "status": "completed"
    },
    "tags": []
   },
   "outputs": [],
   "source": [
    "from torch.utils.data import DataLoader \n",
    "\n",
    "loader_train = DataLoader(dataset=dataset_train, batch_size=32, shuffle=True)\n",
    "loader_valid = DataLoader(dataset=dataset_valid, batch_size=32, shuffle=False)"
   ]
  },
  {
   "cell_type": "markdown",
   "id": "324a37cd",
   "metadata": {
    "papermill": {
     "duration": 0.018238,
     "end_time": "2022-05-07T16:08:11.986284",
     "exception": false,
     "start_time": "2022-05-07T16:08:11.968046",
     "status": "completed"
    },
    "tags": []
   },
   "source": [
    "### Create Model"
   ]
  },
  {
   "cell_type": "code",
   "execution_count": 10,
   "id": "b196e296",
   "metadata": {
    "execution": {
     "iopub.execute_input": "2022-05-07T16:08:12.025158Z",
     "iopub.status.busy": "2022-05-07T16:08:12.024824Z",
     "iopub.status.idle": "2022-05-07T16:08:12.038623Z",
     "shell.execute_reply": "2022-05-07T16:08:12.037956Z"
    },
    "papermill": {
     "duration": 0.035286,
     "end_time": "2022-05-07T16:08:12.040258",
     "exception": false,
     "start_time": "2022-05-07T16:08:12.004972",
     "status": "completed"
    },
    "tags": []
   },
   "outputs": [],
   "source": [
    "import torch.nn as nn \n",
    "import torch.nn.functional as F \n",
    "\n",
    "class Model(nn.Module):\n",
    "    \n",
    "    def __init__(self):\n",
    "        super().__init__() \n",
    "        \n",
    "        self.layer1 = nn.Sequential(nn.Conv2d(in_channels=3, out_channels=32,\n",
    "                                              kernel_size=3, padding=2),\n",
    "                                    nn.BatchNorm2d(32), \n",
    "                                    nn.LeakyReLU(),\n",
    "                                    nn.MaxPool2d(kernel_size=2))\n",
    "\n",
    "        self.layer2 = nn.Sequential(nn.Conv2d(in_channels=32, out_channels=64,\n",
    "                                              kernel_size=3, padding=2),\n",
    "                                    nn.BatchNorm2d(64),\n",
    "                                    nn.LeakyReLU(),\n",
    "                                    nn.MaxPool2d(kernel_size=2))\n",
    "        \n",
    "        self.layer3 = nn.Sequential(nn.Conv2d(in_channels=64, out_channels=128,\n",
    "                                              kernel_size=3, padding=2),\n",
    "                                    nn.BatchNorm2d(128),\n",
    "                                    nn.LeakyReLU(),\n",
    "                                    nn.MaxPool2d(kernel_size=2))\n",
    "        \n",
    "        self.layer4 = nn.Sequential(nn.Conv2d(in_channels=128, out_channels=256,\n",
    "                                              kernel_size=3, padding=2),\n",
    "                                    nn.BatchNorm2d(256),\n",
    "                                    nn.LeakyReLU(),\n",
    "                                    nn.MaxPool2d(kernel_size=2))\n",
    "        \n",
    "        self.layer5 = nn.Sequential(nn.Conv2d(in_channels=256, out_channels=512,\n",
    "                                              kernel_size=3, padding=2),\n",
    "                                    nn.BatchNorm2d(512),\n",
    "                                    nn.LeakyReLU(),\n",
    "                                    nn.MaxPool2d(kernel_size=2))\n",
    "        \n",
    "        self.avg_pool = nn.AvgPool2d(kernel_size=4) \n",
    "    \n",
    "        self.fc1 = nn.Linear(in_features=512 * 1 * 1, out_features=64)\n",
    "        self.fc2 = nn.Linear(in_features=64, out_features=2)\n",
    "\n",
    "    def forward(self, x):\n",
    "        x = self.layer1(x)\n",
    "        x = self.layer2(x)\n",
    "        x = self.layer3(x)\n",
    "        x = self.layer4(x)\n",
    "        x = self.layer5(x)\n",
    "        x = self.avg_pool(x)\n",
    "        x = x.view(-1, 512 * 1 * 1)\n",
    "        x = self.fc1(x)\n",
    "        x = self.fc2(x)\n",
    "        return x"
   ]
  },
  {
   "cell_type": "code",
   "execution_count": 11,
   "id": "16282ced",
   "metadata": {
    "execution": {
     "iopub.execute_input": "2022-05-07T16:08:12.078484Z",
     "iopub.status.busy": "2022-05-07T16:08:12.078021Z",
     "iopub.status.idle": "2022-05-07T16:08:15.115768Z",
     "shell.execute_reply": "2022-05-07T16:08:15.114997Z"
    },
    "papermill": {
     "duration": 3.059086,
     "end_time": "2022-05-07T16:08:15.117852",
     "exception": false,
     "start_time": "2022-05-07T16:08:12.058766",
     "status": "completed"
    },
    "tags": []
   },
   "outputs": [],
   "source": [
    "model = Model().to(device)"
   ]
  },
  {
   "cell_type": "markdown",
   "id": "d7aea2c1",
   "metadata": {
    "papermill": {
     "duration": 0.018444,
     "end_time": "2022-05-07T16:08:15.155194",
     "exception": false,
     "start_time": "2022-05-07T16:08:15.136750",
     "status": "completed"
    },
    "tags": []
   },
   "source": [
    "### Model Training"
   ]
  },
  {
   "cell_type": "code",
   "execution_count": 12,
   "id": "07dc5dbd",
   "metadata": {
    "execution": {
     "iopub.execute_input": "2022-05-07T16:08:15.193308Z",
     "iopub.status.busy": "2022-05-07T16:08:15.193085Z",
     "iopub.status.idle": "2022-05-07T16:08:15.196717Z",
     "shell.execute_reply": "2022-05-07T16:08:15.195943Z"
    },
    "papermill": {
     "duration": 0.024953,
     "end_time": "2022-05-07T16:08:15.198685",
     "exception": false,
     "start_time": "2022-05-07T16:08:15.173732",
     "status": "completed"
    },
    "tags": []
   },
   "outputs": [],
   "source": [
    "criterion = nn.CrossEntropyLoss()"
   ]
  },
  {
   "cell_type": "code",
   "execution_count": 13,
   "id": "d1573f5a",
   "metadata": {
    "execution": {
     "iopub.execute_input": "2022-05-07T16:08:15.236869Z",
     "iopub.status.busy": "2022-05-07T16:08:15.236295Z",
     "iopub.status.idle": "2022-05-07T16:08:15.240359Z",
     "shell.execute_reply": "2022-05-07T16:08:15.239618Z"
    },
    "papermill": {
     "duration": 0.025091,
     "end_time": "2022-05-07T16:08:15.242267",
     "exception": false,
     "start_time": "2022-05-07T16:08:15.217176",
     "status": "completed"
    },
    "tags": []
   },
   "outputs": [],
   "source": [
    "optimizer = torch.optim.Adamax(model.parameters(), lr=0.00006)"
   ]
  },
  {
   "cell_type": "code",
   "execution_count": 14,
   "id": "c8367986",
   "metadata": {
    "execution": {
     "iopub.execute_input": "2022-05-07T16:08:15.280036Z",
     "iopub.status.busy": "2022-05-07T16:08:15.279630Z",
     "iopub.status.idle": "2022-05-07T16:52:13.679870Z",
     "shell.execute_reply": "2022-05-07T16:52:13.679081Z"
    },
    "papermill": {
     "duration": 2638.462675,
     "end_time": "2022-05-07T16:52:13.723254",
     "exception": false,
     "start_time": "2022-05-07T16:08:15.260579",
     "status": "completed"
    },
    "tags": []
   },
   "outputs": [
    {
     "name": "stdout",
     "output_type": "stream",
     "text": [
      "에폭 [1/70] - 손실값: 0.1272\n",
      "에폭 [2/70] - 손실값: 0.0645\n",
      "에폭 [3/70] - 손실값: 0.0494\n",
      "에폭 [4/70] - 손실값: 0.0379\n",
      "에폭 [5/70] - 손실값: 0.0343\n",
      "에폭 [6/70] - 손실값: 0.0300\n",
      "에폭 [7/70] - 손실값: 0.0282\n",
      "에폭 [8/70] - 손실값: 0.0257\n",
      "에폭 [9/70] - 손실값: 0.0247\n",
      "에폭 [10/70] - 손실값: 0.0224\n",
      "에폭 [11/70] - 손실값: 0.0210\n",
      "에폭 [12/70] - 손실값: 0.0190\n",
      "에폭 [13/70] - 손실값: 0.0208\n",
      "에폭 [14/70] - 손실값: 0.0184\n",
      "에폭 [15/70] - 손실값: 0.0155\n",
      "에폭 [16/70] - 손실값: 0.0160\n",
      "에폭 [17/70] - 손실값: 0.0155\n",
      "에폭 [18/70] - 손실값: 0.0152\n",
      "에폭 [19/70] - 손실값: 0.0147\n",
      "에폭 [20/70] - 손실값: 0.0131\n",
      "에폭 [21/70] - 손실값: 0.0130\n",
      "에폭 [22/70] - 손실값: 0.0111\n",
      "에폭 [23/70] - 손실값: 0.0115\n",
      "에폭 [24/70] - 손실값: 0.0113\n",
      "에폭 [25/70] - 손실값: 0.0119\n",
      "에폭 [26/70] - 손실값: 0.0105\n",
      "에폭 [27/70] - 손실값: 0.0106\n",
      "에폭 [28/70] - 손실값: 0.0105\n",
      "에폭 [29/70] - 손실값: 0.0104\n",
      "에폭 [30/70] - 손실값: 0.0092\n",
      "에폭 [31/70] - 손실값: 0.0093\n",
      "에폭 [32/70] - 손실값: 0.0102\n",
      "에폭 [33/70] - 손실값: 0.0090\n",
      "에폭 [34/70] - 손실값: 0.0092\n",
      "에폭 [35/70] - 손실값: 0.0084\n",
      "에폭 [36/70] - 손실값: 0.0088\n",
      "에폭 [37/70] - 손실값: 0.0082\n",
      "에폭 [38/70] - 손실값: 0.0072\n",
      "에폭 [39/70] - 손실값: 0.0066\n",
      "에폭 [40/70] - 손실값: 0.0068\n",
      "에폭 [41/70] - 손실값: 0.0069\n",
      "에폭 [42/70] - 손실값: 0.0071\n",
      "에폭 [43/70] - 손실값: 0.0077\n",
      "에폭 [44/70] - 손실값: 0.0063\n",
      "에폭 [45/70] - 손실값: 0.0063\n",
      "에폭 [46/70] - 손실값: 0.0063\n",
      "에폭 [47/70] - 손실값: 0.0061\n",
      "에폭 [48/70] - 손실값: 0.0062\n",
      "에폭 [49/70] - 손실값: 0.0053\n",
      "에폭 [50/70] - 손실값: 0.0057\n",
      "에폭 [51/70] - 손실값: 0.0073\n",
      "에폭 [52/70] - 손실값: 0.0046\n",
      "에폭 [53/70] - 손실값: 0.0051\n",
      "에폭 [54/70] - 손실값: 0.0053\n",
      "에폭 [55/70] - 손실값: 0.0039\n",
      "에폭 [56/70] - 손실값: 0.0056\n",
      "에폭 [57/70] - 손실값: 0.0048\n",
      "에폭 [58/70] - 손실값: 0.0052\n",
      "에폭 [59/70] - 손실값: 0.0045\n",
      "에폭 [60/70] - 손실값: 0.0033\n",
      "에폭 [61/70] - 손실값: 0.0046\n",
      "에폭 [62/70] - 손실값: 0.0041\n",
      "에폭 [63/70] - 손실값: 0.0046\n",
      "에폭 [64/70] - 손실값: 0.0028\n",
      "에폭 [65/70] - 손실값: 0.0035\n",
      "에폭 [66/70] - 손실값: 0.0038\n",
      "에폭 [67/70] - 손실값: 0.0046\n",
      "에폭 [68/70] - 손실값: 0.0029\n",
      "에폭 [69/70] - 손실값: 0.0030\n",
      "에폭 [70/70] - 손실값: 0.0038\n"
     ]
    }
   ],
   "source": [
    "epochs = 70 \n",
    "\n",
    "for epoch in range(epochs):\n",
    "    epoch_loss = 0 \n",
    "    \n",
    "    for images, labels in loader_train:\n",
    "        images = images.to(device)\n",
    "        labels = labels.to(device)\n",
    "        \n",
    "        optimizer.zero_grad()\n",
    "        outputs = model(images)\n",
    "        loss = criterion(outputs, labels)\n",
    "        epoch_loss += loss.item() \n",
    "        loss.backward()\n",
    "        optimizer.step()\n",
    "        \n",
    "    print(f'에폭 [{epoch+1}/{epochs}] - 손실값: {epoch_loss/len(loader_train):.4f}')    "
   ]
  },
  {
   "cell_type": "markdown",
   "id": "00091d64",
   "metadata": {
    "papermill": {
     "duration": 0.041081,
     "end_time": "2022-05-07T16:52:13.805799",
     "exception": false,
     "start_time": "2022-05-07T16:52:13.764718",
     "status": "completed"
    },
    "tags": []
   },
   "source": [
    "### Model Evaluation"
   ]
  },
  {
   "cell_type": "code",
   "execution_count": 15,
   "id": "dc57476c",
   "metadata": {
    "execution": {
     "iopub.execute_input": "2022-05-07T16:52:13.889238Z",
     "iopub.status.busy": "2022-05-07T16:52:13.888557Z",
     "iopub.status.idle": "2022-05-07T16:52:15.759782Z",
     "shell.execute_reply": "2022-05-07T16:52:15.759017Z"
    },
    "papermill": {
     "duration": 1.915325,
     "end_time": "2022-05-07T16:52:15.761942",
     "exception": false,
     "start_time": "2022-05-07T16:52:13.846617",
     "status": "completed"
    },
    "tags": []
   },
   "outputs": [
    {
     "name": "stdout",
     "output_type": "stream",
     "text": [
      "검증 데이터 ROC AUC : 1.0000\n"
     ]
    }
   ],
   "source": [
    "from sklearn.metrics import roc_auc_score\n",
    "\n",
    "true_list = []\n",
    "preds_list = []\n",
    "\n",
    "model.eval() \n",
    "\n",
    "with torch.no_grad(): \n",
    "    for images, labels in loader_valid:\n",
    "   \n",
    "        images = images.to(device)\n",
    "        labels = labels.to(device)\n",
    "        \n",
    "        outputs = model(images)\n",
    "        preds = torch.softmax(outputs.cpu(), dim=1)[:, 1]\n",
    "        true = labels.cpu() \n",
    "     \n",
    "        preds_list.extend(preds)\n",
    "        true_list.extend(true)\n",
    "        \n",
    "print(f'검증 데이터 ROC AUC : {roc_auc_score(true_list, preds_list):.4f}') "
   ]
  },
  {
   "cell_type": "markdown",
   "id": "b9ab373f",
   "metadata": {
    "papermill": {
     "duration": 0.039496,
     "end_time": "2022-05-07T16:52:15.841451",
     "exception": false,
     "start_time": "2022-05-07T16:52:15.801955",
     "status": "completed"
    },
    "tags": []
   },
   "source": [
    "### Prediction & submission"
   ]
  },
  {
   "cell_type": "code",
   "execution_count": 16,
   "id": "d4a681f1",
   "metadata": {
    "execution": {
     "iopub.execute_input": "2022-05-07T16:52:15.924019Z",
     "iopub.status.busy": "2022-05-07T16:52:15.923322Z",
     "iopub.status.idle": "2022-05-07T16:52:20.333867Z",
     "shell.execute_reply": "2022-05-07T16:52:20.333144Z"
    },
    "papermill": {
     "duration": 4.454036,
     "end_time": "2022-05-07T16:52:20.335946",
     "exception": false,
     "start_time": "2022-05-07T16:52:15.881910",
     "status": "completed"
    },
    "tags": []
   },
   "outputs": [],
   "source": [
    "dataset_test = ImageDataset(df=submission, img_dir='test/', \n",
    "                            transform=transform_test)\n",
    "loader_test = DataLoader(dataset=dataset_test, batch_size=32, shuffle=False)\n",
    "\n",
    "model.eval() \n",
    "\n",
    "preds = [] \n",
    "\n",
    "with torch.no_grad(): \n",
    "    for images, _ in loader_test:\n",
    "        images = images.to(device)\n",
    "        \n",
    "        outputs = model(images)\n",
    "        preds_part = torch.softmax(outputs.cpu(), dim=1)[:, 1].tolist()\n",
    "        preds.extend(preds_part)"
   ]
  },
  {
   "cell_type": "code",
   "execution_count": 17,
   "id": "f64cf01a",
   "metadata": {
    "execution": {
     "iopub.execute_input": "2022-05-07T16:52:20.417397Z",
     "iopub.status.busy": "2022-05-07T16:52:20.417156Z",
     "iopub.status.idle": "2022-05-07T16:52:20.437941Z",
     "shell.execute_reply": "2022-05-07T16:52:20.437283Z"
    },
    "papermill": {
     "duration": 0.063333,
     "end_time": "2022-05-07T16:52:20.439803",
     "exception": false,
     "start_time": "2022-05-07T16:52:20.376470",
     "status": "completed"
    },
    "tags": []
   },
   "outputs": [],
   "source": [
    "submission['has_cactus'] = preds\n",
    "submission.to_csv('submission.csv', index=False)"
   ]
  },
  {
   "cell_type": "code",
   "execution_count": 18,
   "id": "ac87dedf",
   "metadata": {
    "execution": {
     "iopub.execute_input": "2022-05-07T16:52:20.521336Z",
     "iopub.status.busy": "2022-05-07T16:52:20.521111Z",
     "iopub.status.idle": "2022-05-07T16:52:21.095586Z",
     "shell.execute_reply": "2022-05-07T16:52:21.094794Z"
    },
    "papermill": {
     "duration": 0.617847,
     "end_time": "2022-05-07T16:52:21.097789",
     "exception": false,
     "start_time": "2022-05-07T16:52:20.479942",
     "status": "completed"
    },
    "tags": []
   },
   "outputs": [],
   "source": [
    "import shutil\n",
    "\n",
    "shutil.rmtree('./train')\n",
    "shutil.rmtree('./test')"
   ]
  }
 ],
 "metadata": {
  "kernelspec": {
   "display_name": "Python 3",
   "language": "python",
   "name": "python3"
  },
  "language_info": {
   "codemirror_mode": {
    "name": "ipython",
    "version": 3
   },
   "file_extension": ".py",
   "mimetype": "text/x-python",
   "name": "python",
   "nbconvert_exporter": "python",
   "pygments_lexer": "ipython3",
   "version": "3.7.12"
  },
  "papermill": {
   "default_parameters": {},
   "duration": 2664.442149,
   "end_time": "2022-05-07T16:52:22.267916",
   "environment_variables": {},
   "exception": null,
   "input_path": "__notebook__.ipynb",
   "output_path": "__notebook__.ipynb",
   "parameters": {},
   "start_time": "2022-05-07T16:07:57.825767",
   "version": "2.3.4"
  }
 },
 "nbformat": 4,
 "nbformat_minor": 5
}
