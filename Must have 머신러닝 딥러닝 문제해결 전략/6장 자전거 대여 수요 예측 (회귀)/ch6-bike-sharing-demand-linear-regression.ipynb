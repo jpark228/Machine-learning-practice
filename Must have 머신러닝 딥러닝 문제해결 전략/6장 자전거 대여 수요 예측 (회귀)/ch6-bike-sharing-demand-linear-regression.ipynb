{
 "cells": [
  {
   "cell_type": "code",
   "execution_count": 1,
   "id": "1b21f66d",
   "metadata": {
    "_cell_guid": "b1076dfc-b9ad-4769-8c92-a6c4dae69d19",
    "_uuid": "8f2839f25d086af736a60e9eeb907d3b93b6e0e5",
    "execution": {
     "iopub.execute_input": "2022-05-02T14:11:42.571994Z",
     "iopub.status.busy": "2022-05-02T14:11:42.571350Z",
     "iopub.status.idle": "2022-05-02T14:11:42.584520Z",
     "shell.execute_reply": "2022-05-02T14:11:42.583543Z"
    },
    "papermill": {
     "duration": 0.054803,
     "end_time": "2022-05-02T14:11:42.586965",
     "exception": false,
     "start_time": "2022-05-02T14:11:42.532162",
     "status": "completed"
    },
    "tags": []
   },
   "outputs": [
    {
     "name": "stdout",
     "output_type": "stream",
     "text": [
      "/kaggle/input/bike-sharing-demand/sampleSubmission.csv\n",
      "/kaggle/input/bike-sharing-demand/train.csv\n",
      "/kaggle/input/bike-sharing-demand/test.csv\n"
     ]
    }
   ],
   "source": [
    "# This Python 3 environment comes with many helpful analytics libraries installed\n",
    "# It is defined by the kaggle/python Docker image: https://github.com/kaggle/docker-python\n",
    "# For example, here's several helpful packages to load\n",
    "\n",
    "import numpy as np # linear algebra\n",
    "import pandas as pd # data processing, CSV file I/O (e.g. pd.read_csv)\n",
    "\n",
    "# Input data files are available in the read-only \"../input/\" directory\n",
    "# For example, running this (by clicking run or pressing Shift+Enter) will list all files under the input directory\n",
    "\n",
    "import os\n",
    "for dirname, _, filenames in os.walk('/kaggle/input'):\n",
    "    for filename in filenames:\n",
    "        print(os.path.join(dirname, filename))\n",
    "\n",
    "# You can write up to 20GB to the current directory (/kaggle/working/) that gets preserved as output when you create a version using \"Save & Run All\" \n",
    "# You can also write temporary files to /kaggle/temp/, but they won't be saved outside of the current session"
   ]
  },
  {
   "cell_type": "markdown",
   "id": "2549d016",
   "metadata": {
    "papermill": {
     "duration": 0.035443,
     "end_time": "2022-05-02T14:11:42.659181",
     "exception": false,
     "start_time": "2022-05-02T14:11:42.623738",
     "status": "completed"
    },
    "tags": []
   },
   "source": [
    "베이스 라인"
   ]
  },
  {
   "cell_type": "code",
   "execution_count": 2,
   "id": "1fea451c",
   "metadata": {
    "execution": {
     "iopub.execute_input": "2022-05-02T14:11:42.732365Z",
     "iopub.status.busy": "2022-05-02T14:11:42.732088Z",
     "iopub.status.idle": "2022-05-02T14:11:42.813270Z",
     "shell.execute_reply": "2022-05-02T14:11:42.812489Z"
    },
    "papermill": {
     "duration": 0.120679,
     "end_time": "2022-05-02T14:11:42.815755",
     "exception": false,
     "start_time": "2022-05-02T14:11:42.695076",
     "status": "completed"
    },
    "tags": []
   },
   "outputs": [],
   "source": [
    "import numpy as np\n",
    "import pandas as pd \n",
    "\n",
    "data_path = '/kaggle/input/bike-sharing-demand/'\n",
    "\n",
    "train = pd.read_csv(data_path + 'train.csv')\n",
    "test = pd.read_csv(data_path + 'test.csv')\n",
    "submission = pd.read_csv(data_path + 'sampleSubmission.csv')"
   ]
  },
  {
   "cell_type": "markdown",
   "id": "73c69bfb",
   "metadata": {
    "papermill": {
     "duration": 0.036274,
     "end_time": "2022-05-02T14:11:42.891479",
     "exception": false,
     "start_time": "2022-05-02T14:11:42.855205",
     "status": "completed"
    },
    "tags": []
   },
   "source": [
    "피처 엔지니어링"
   ]
  },
  {
   "cell_type": "code",
   "execution_count": 3,
   "id": "41e9e4f9",
   "metadata": {
    "execution": {
     "iopub.execute_input": "2022-05-02T14:11:42.968839Z",
     "iopub.status.busy": "2022-05-02T14:11:42.968397Z",
     "iopub.status.idle": "2022-05-02T14:11:42.979778Z",
     "shell.execute_reply": "2022-05-02T14:11:42.979171Z"
    },
    "papermill": {
     "duration": 0.052417,
     "end_time": "2022-05-02T14:11:42.981821",
     "exception": false,
     "start_time": "2022-05-02T14:11:42.929404",
     "status": "completed"
    },
    "tags": []
   },
   "outputs": [],
   "source": [
    "train = train[train['weather'] != 4]"
   ]
  },
  {
   "cell_type": "code",
   "execution_count": 4,
   "id": "c1eec14c",
   "metadata": {
    "execution": {
     "iopub.execute_input": "2022-05-02T14:11:43.055580Z",
     "iopub.status.busy": "2022-05-02T14:11:43.055017Z",
     "iopub.status.idle": "2022-05-02T14:11:43.089377Z",
     "shell.execute_reply": "2022-05-02T14:11:43.088554Z"
    },
    "papermill": {
     "duration": 0.074115,
     "end_time": "2022-05-02T14:11:43.091910",
     "exception": false,
     "start_time": "2022-05-02T14:11:43.017795",
     "status": "completed"
    },
    "tags": []
   },
   "outputs": [
    {
     "data": {
      "text/html": [
       "<div>\n",
       "<style scoped>\n",
       "    .dataframe tbody tr th:only-of-type {\n",
       "        vertical-align: middle;\n",
       "    }\n",
       "\n",
       "    .dataframe tbody tr th {\n",
       "        vertical-align: top;\n",
       "    }\n",
       "\n",
       "    .dataframe thead th {\n",
       "        text-align: right;\n",
       "    }\n",
       "</style>\n",
       "<table border=\"1\" class=\"dataframe\">\n",
       "  <thead>\n",
       "    <tr style=\"text-align: right;\">\n",
       "      <th></th>\n",
       "      <th>datetime</th>\n",
       "      <th>season</th>\n",
       "      <th>holiday</th>\n",
       "      <th>workingday</th>\n",
       "      <th>weather</th>\n",
       "      <th>temp</th>\n",
       "      <th>atemp</th>\n",
       "      <th>humidity</th>\n",
       "      <th>windspeed</th>\n",
       "      <th>casual</th>\n",
       "      <th>registered</th>\n",
       "      <th>count</th>\n",
       "    </tr>\n",
       "  </thead>\n",
       "  <tbody>\n",
       "    <tr>\n",
       "      <th>0</th>\n",
       "      <td>2011-01-01 00:00:00</td>\n",
       "      <td>1</td>\n",
       "      <td>0</td>\n",
       "      <td>0</td>\n",
       "      <td>1</td>\n",
       "      <td>9.84</td>\n",
       "      <td>14.395</td>\n",
       "      <td>81</td>\n",
       "      <td>0.0000</td>\n",
       "      <td>3.0</td>\n",
       "      <td>13.0</td>\n",
       "      <td>16.0</td>\n",
       "    </tr>\n",
       "    <tr>\n",
       "      <th>1</th>\n",
       "      <td>2011-01-01 01:00:00</td>\n",
       "      <td>1</td>\n",
       "      <td>0</td>\n",
       "      <td>0</td>\n",
       "      <td>1</td>\n",
       "      <td>9.02</td>\n",
       "      <td>13.635</td>\n",
       "      <td>80</td>\n",
       "      <td>0.0000</td>\n",
       "      <td>8.0</td>\n",
       "      <td>32.0</td>\n",
       "      <td>40.0</td>\n",
       "    </tr>\n",
       "    <tr>\n",
       "      <th>2</th>\n",
       "      <td>2011-01-01 02:00:00</td>\n",
       "      <td>1</td>\n",
       "      <td>0</td>\n",
       "      <td>0</td>\n",
       "      <td>1</td>\n",
       "      <td>9.02</td>\n",
       "      <td>13.635</td>\n",
       "      <td>80</td>\n",
       "      <td>0.0000</td>\n",
       "      <td>5.0</td>\n",
       "      <td>27.0</td>\n",
       "      <td>32.0</td>\n",
       "    </tr>\n",
       "    <tr>\n",
       "      <th>3</th>\n",
       "      <td>2011-01-01 03:00:00</td>\n",
       "      <td>1</td>\n",
       "      <td>0</td>\n",
       "      <td>0</td>\n",
       "      <td>1</td>\n",
       "      <td>9.84</td>\n",
       "      <td>14.395</td>\n",
       "      <td>75</td>\n",
       "      <td>0.0000</td>\n",
       "      <td>3.0</td>\n",
       "      <td>10.0</td>\n",
       "      <td>13.0</td>\n",
       "    </tr>\n",
       "    <tr>\n",
       "      <th>4</th>\n",
       "      <td>2011-01-01 04:00:00</td>\n",
       "      <td>1</td>\n",
       "      <td>0</td>\n",
       "      <td>0</td>\n",
       "      <td>1</td>\n",
       "      <td>9.84</td>\n",
       "      <td>14.395</td>\n",
       "      <td>75</td>\n",
       "      <td>0.0000</td>\n",
       "      <td>0.0</td>\n",
       "      <td>1.0</td>\n",
       "      <td>1.0</td>\n",
       "    </tr>\n",
       "    <tr>\n",
       "      <th>...</th>\n",
       "      <td>...</td>\n",
       "      <td>...</td>\n",
       "      <td>...</td>\n",
       "      <td>...</td>\n",
       "      <td>...</td>\n",
       "      <td>...</td>\n",
       "      <td>...</td>\n",
       "      <td>...</td>\n",
       "      <td>...</td>\n",
       "      <td>...</td>\n",
       "      <td>...</td>\n",
       "      <td>...</td>\n",
       "    </tr>\n",
       "    <tr>\n",
       "      <th>6488</th>\n",
       "      <td>2012-12-31 19:00:00</td>\n",
       "      <td>1</td>\n",
       "      <td>0</td>\n",
       "      <td>1</td>\n",
       "      <td>2</td>\n",
       "      <td>10.66</td>\n",
       "      <td>12.880</td>\n",
       "      <td>60</td>\n",
       "      <td>11.0014</td>\n",
       "      <td>NaN</td>\n",
       "      <td>NaN</td>\n",
       "      <td>NaN</td>\n",
       "    </tr>\n",
       "    <tr>\n",
       "      <th>6489</th>\n",
       "      <td>2012-12-31 20:00:00</td>\n",
       "      <td>1</td>\n",
       "      <td>0</td>\n",
       "      <td>1</td>\n",
       "      <td>2</td>\n",
       "      <td>10.66</td>\n",
       "      <td>12.880</td>\n",
       "      <td>60</td>\n",
       "      <td>11.0014</td>\n",
       "      <td>NaN</td>\n",
       "      <td>NaN</td>\n",
       "      <td>NaN</td>\n",
       "    </tr>\n",
       "    <tr>\n",
       "      <th>6490</th>\n",
       "      <td>2012-12-31 21:00:00</td>\n",
       "      <td>1</td>\n",
       "      <td>0</td>\n",
       "      <td>1</td>\n",
       "      <td>1</td>\n",
       "      <td>10.66</td>\n",
       "      <td>12.880</td>\n",
       "      <td>60</td>\n",
       "      <td>11.0014</td>\n",
       "      <td>NaN</td>\n",
       "      <td>NaN</td>\n",
       "      <td>NaN</td>\n",
       "    </tr>\n",
       "    <tr>\n",
       "      <th>6491</th>\n",
       "      <td>2012-12-31 22:00:00</td>\n",
       "      <td>1</td>\n",
       "      <td>0</td>\n",
       "      <td>1</td>\n",
       "      <td>1</td>\n",
       "      <td>10.66</td>\n",
       "      <td>13.635</td>\n",
       "      <td>56</td>\n",
       "      <td>8.9981</td>\n",
       "      <td>NaN</td>\n",
       "      <td>NaN</td>\n",
       "      <td>NaN</td>\n",
       "    </tr>\n",
       "    <tr>\n",
       "      <th>6492</th>\n",
       "      <td>2012-12-31 23:00:00</td>\n",
       "      <td>1</td>\n",
       "      <td>0</td>\n",
       "      <td>1</td>\n",
       "      <td>1</td>\n",
       "      <td>10.66</td>\n",
       "      <td>13.635</td>\n",
       "      <td>65</td>\n",
       "      <td>8.9981</td>\n",
       "      <td>NaN</td>\n",
       "      <td>NaN</td>\n",
       "      <td>NaN</td>\n",
       "    </tr>\n",
       "  </tbody>\n",
       "</table>\n",
       "<p>17378 rows × 12 columns</p>\n",
       "</div>"
      ],
      "text/plain": [
       "                 datetime  season  holiday  workingday  weather   temp  \\\n",
       "0     2011-01-01 00:00:00       1        0           0        1   9.84   \n",
       "1     2011-01-01 01:00:00       1        0           0        1   9.02   \n",
       "2     2011-01-01 02:00:00       1        0           0        1   9.02   \n",
       "3     2011-01-01 03:00:00       1        0           0        1   9.84   \n",
       "4     2011-01-01 04:00:00       1        0           0        1   9.84   \n",
       "...                   ...     ...      ...         ...      ...    ...   \n",
       "6488  2012-12-31 19:00:00       1        0           1        2  10.66   \n",
       "6489  2012-12-31 20:00:00       1        0           1        2  10.66   \n",
       "6490  2012-12-31 21:00:00       1        0           1        1  10.66   \n",
       "6491  2012-12-31 22:00:00       1        0           1        1  10.66   \n",
       "6492  2012-12-31 23:00:00       1        0           1        1  10.66   \n",
       "\n",
       "       atemp  humidity  windspeed  casual  registered  count  \n",
       "0     14.395        81     0.0000     3.0        13.0   16.0  \n",
       "1     13.635        80     0.0000     8.0        32.0   40.0  \n",
       "2     13.635        80     0.0000     5.0        27.0   32.0  \n",
       "3     14.395        75     0.0000     3.0        10.0   13.0  \n",
       "4     14.395        75     0.0000     0.0         1.0    1.0  \n",
       "...      ...       ...        ...     ...         ...    ...  \n",
       "6488  12.880        60    11.0014     NaN         NaN    NaN  \n",
       "6489  12.880        60    11.0014     NaN         NaN    NaN  \n",
       "6490  12.880        60    11.0014     NaN         NaN    NaN  \n",
       "6491  13.635        56     8.9981     NaN         NaN    NaN  \n",
       "6492  13.635        65     8.9981     NaN         NaN    NaN  \n",
       "\n",
       "[17378 rows x 12 columns]"
      ]
     },
     "execution_count": 4,
     "metadata": {},
     "output_type": "execute_result"
    }
   ],
   "source": [
    "all_data_temp = pd.concat([train, test])\n",
    "all_data_temp"
   ]
  },
  {
   "cell_type": "code",
   "execution_count": 5,
   "id": "33868b66",
   "metadata": {
    "execution": {
     "iopub.execute_input": "2022-05-02T14:11:43.169082Z",
     "iopub.status.busy": "2022-05-02T14:11:43.168247Z",
     "iopub.status.idle": "2022-05-02T14:11:43.194832Z",
     "shell.execute_reply": "2022-05-02T14:11:43.193878Z"
    },
    "papermill": {
     "duration": 0.066801,
     "end_time": "2022-05-02T14:11:43.197181",
     "exception": false,
     "start_time": "2022-05-02T14:11:43.130380",
     "status": "completed"
    },
    "tags": []
   },
   "outputs": [
    {
     "data": {
      "text/html": [
       "<div>\n",
       "<style scoped>\n",
       "    .dataframe tbody tr th:only-of-type {\n",
       "        vertical-align: middle;\n",
       "    }\n",
       "\n",
       "    .dataframe tbody tr th {\n",
       "        vertical-align: top;\n",
       "    }\n",
       "\n",
       "    .dataframe thead th {\n",
       "        text-align: right;\n",
       "    }\n",
       "</style>\n",
       "<table border=\"1\" class=\"dataframe\">\n",
       "  <thead>\n",
       "    <tr style=\"text-align: right;\">\n",
       "      <th></th>\n",
       "      <th>datetime</th>\n",
       "      <th>season</th>\n",
       "      <th>holiday</th>\n",
       "      <th>workingday</th>\n",
       "      <th>weather</th>\n",
       "      <th>temp</th>\n",
       "      <th>atemp</th>\n",
       "      <th>humidity</th>\n",
       "      <th>windspeed</th>\n",
       "      <th>casual</th>\n",
       "      <th>registered</th>\n",
       "      <th>count</th>\n",
       "    </tr>\n",
       "  </thead>\n",
       "  <tbody>\n",
       "    <tr>\n",
       "      <th>0</th>\n",
       "      <td>2011-01-01 00:00:00</td>\n",
       "      <td>1</td>\n",
       "      <td>0</td>\n",
       "      <td>0</td>\n",
       "      <td>1</td>\n",
       "      <td>9.84</td>\n",
       "      <td>14.395</td>\n",
       "      <td>81</td>\n",
       "      <td>0.0000</td>\n",
       "      <td>3.0</td>\n",
       "      <td>13.0</td>\n",
       "      <td>16.0</td>\n",
       "    </tr>\n",
       "    <tr>\n",
       "      <th>1</th>\n",
       "      <td>2011-01-01 01:00:00</td>\n",
       "      <td>1</td>\n",
       "      <td>0</td>\n",
       "      <td>0</td>\n",
       "      <td>1</td>\n",
       "      <td>9.02</td>\n",
       "      <td>13.635</td>\n",
       "      <td>80</td>\n",
       "      <td>0.0000</td>\n",
       "      <td>8.0</td>\n",
       "      <td>32.0</td>\n",
       "      <td>40.0</td>\n",
       "    </tr>\n",
       "    <tr>\n",
       "      <th>2</th>\n",
       "      <td>2011-01-01 02:00:00</td>\n",
       "      <td>1</td>\n",
       "      <td>0</td>\n",
       "      <td>0</td>\n",
       "      <td>1</td>\n",
       "      <td>9.02</td>\n",
       "      <td>13.635</td>\n",
       "      <td>80</td>\n",
       "      <td>0.0000</td>\n",
       "      <td>5.0</td>\n",
       "      <td>27.0</td>\n",
       "      <td>32.0</td>\n",
       "    </tr>\n",
       "    <tr>\n",
       "      <th>3</th>\n",
       "      <td>2011-01-01 03:00:00</td>\n",
       "      <td>1</td>\n",
       "      <td>0</td>\n",
       "      <td>0</td>\n",
       "      <td>1</td>\n",
       "      <td>9.84</td>\n",
       "      <td>14.395</td>\n",
       "      <td>75</td>\n",
       "      <td>0.0000</td>\n",
       "      <td>3.0</td>\n",
       "      <td>10.0</td>\n",
       "      <td>13.0</td>\n",
       "    </tr>\n",
       "    <tr>\n",
       "      <th>4</th>\n",
       "      <td>2011-01-01 04:00:00</td>\n",
       "      <td>1</td>\n",
       "      <td>0</td>\n",
       "      <td>0</td>\n",
       "      <td>1</td>\n",
       "      <td>9.84</td>\n",
       "      <td>14.395</td>\n",
       "      <td>75</td>\n",
       "      <td>0.0000</td>\n",
       "      <td>0.0</td>\n",
       "      <td>1.0</td>\n",
       "      <td>1.0</td>\n",
       "    </tr>\n",
       "    <tr>\n",
       "      <th>...</th>\n",
       "      <td>...</td>\n",
       "      <td>...</td>\n",
       "      <td>...</td>\n",
       "      <td>...</td>\n",
       "      <td>...</td>\n",
       "      <td>...</td>\n",
       "      <td>...</td>\n",
       "      <td>...</td>\n",
       "      <td>...</td>\n",
       "      <td>...</td>\n",
       "      <td>...</td>\n",
       "      <td>...</td>\n",
       "    </tr>\n",
       "    <tr>\n",
       "      <th>17373</th>\n",
       "      <td>2012-12-31 19:00:00</td>\n",
       "      <td>1</td>\n",
       "      <td>0</td>\n",
       "      <td>1</td>\n",
       "      <td>2</td>\n",
       "      <td>10.66</td>\n",
       "      <td>12.880</td>\n",
       "      <td>60</td>\n",
       "      <td>11.0014</td>\n",
       "      <td>NaN</td>\n",
       "      <td>NaN</td>\n",
       "      <td>NaN</td>\n",
       "    </tr>\n",
       "    <tr>\n",
       "      <th>17374</th>\n",
       "      <td>2012-12-31 20:00:00</td>\n",
       "      <td>1</td>\n",
       "      <td>0</td>\n",
       "      <td>1</td>\n",
       "      <td>2</td>\n",
       "      <td>10.66</td>\n",
       "      <td>12.880</td>\n",
       "      <td>60</td>\n",
       "      <td>11.0014</td>\n",
       "      <td>NaN</td>\n",
       "      <td>NaN</td>\n",
       "      <td>NaN</td>\n",
       "    </tr>\n",
       "    <tr>\n",
       "      <th>17375</th>\n",
       "      <td>2012-12-31 21:00:00</td>\n",
       "      <td>1</td>\n",
       "      <td>0</td>\n",
       "      <td>1</td>\n",
       "      <td>1</td>\n",
       "      <td>10.66</td>\n",
       "      <td>12.880</td>\n",
       "      <td>60</td>\n",
       "      <td>11.0014</td>\n",
       "      <td>NaN</td>\n",
       "      <td>NaN</td>\n",
       "      <td>NaN</td>\n",
       "    </tr>\n",
       "    <tr>\n",
       "      <th>17376</th>\n",
       "      <td>2012-12-31 22:00:00</td>\n",
       "      <td>1</td>\n",
       "      <td>0</td>\n",
       "      <td>1</td>\n",
       "      <td>1</td>\n",
       "      <td>10.66</td>\n",
       "      <td>13.635</td>\n",
       "      <td>56</td>\n",
       "      <td>8.9981</td>\n",
       "      <td>NaN</td>\n",
       "      <td>NaN</td>\n",
       "      <td>NaN</td>\n",
       "    </tr>\n",
       "    <tr>\n",
       "      <th>17377</th>\n",
       "      <td>2012-12-31 23:00:00</td>\n",
       "      <td>1</td>\n",
       "      <td>0</td>\n",
       "      <td>1</td>\n",
       "      <td>1</td>\n",
       "      <td>10.66</td>\n",
       "      <td>13.635</td>\n",
       "      <td>65</td>\n",
       "      <td>8.9981</td>\n",
       "      <td>NaN</td>\n",
       "      <td>NaN</td>\n",
       "      <td>NaN</td>\n",
       "    </tr>\n",
       "  </tbody>\n",
       "</table>\n",
       "<p>17378 rows × 12 columns</p>\n",
       "</div>"
      ],
      "text/plain": [
       "                  datetime  season  holiday  workingday  weather   temp  \\\n",
       "0      2011-01-01 00:00:00       1        0           0        1   9.84   \n",
       "1      2011-01-01 01:00:00       1        0           0        1   9.02   \n",
       "2      2011-01-01 02:00:00       1        0           0        1   9.02   \n",
       "3      2011-01-01 03:00:00       1        0           0        1   9.84   \n",
       "4      2011-01-01 04:00:00       1        0           0        1   9.84   \n",
       "...                    ...     ...      ...         ...      ...    ...   \n",
       "17373  2012-12-31 19:00:00       1        0           1        2  10.66   \n",
       "17374  2012-12-31 20:00:00       1        0           1        2  10.66   \n",
       "17375  2012-12-31 21:00:00       1        0           1        1  10.66   \n",
       "17376  2012-12-31 22:00:00       1        0           1        1  10.66   \n",
       "17377  2012-12-31 23:00:00       1        0           1        1  10.66   \n",
       "\n",
       "        atemp  humidity  windspeed  casual  registered  count  \n",
       "0      14.395        81     0.0000     3.0        13.0   16.0  \n",
       "1      13.635        80     0.0000     8.0        32.0   40.0  \n",
       "2      13.635        80     0.0000     5.0        27.0   32.0  \n",
       "3      14.395        75     0.0000     3.0        10.0   13.0  \n",
       "4      14.395        75     0.0000     0.0         1.0    1.0  \n",
       "...       ...       ...        ...     ...         ...    ...  \n",
       "17373  12.880        60    11.0014     NaN         NaN    NaN  \n",
       "17374  12.880        60    11.0014     NaN         NaN    NaN  \n",
       "17375  12.880        60    11.0014     NaN         NaN    NaN  \n",
       "17376  13.635        56     8.9981     NaN         NaN    NaN  \n",
       "17377  13.635        65     8.9981     NaN         NaN    NaN  \n",
       "\n",
       "[17378 rows x 12 columns]"
      ]
     },
     "execution_count": 5,
     "metadata": {},
     "output_type": "execute_result"
    }
   ],
   "source": [
    "all_data = pd.concat([train, test], ignore_index=True)\n",
    "all_data"
   ]
  },
  {
   "cell_type": "code",
   "execution_count": 6,
   "id": "080e12f5",
   "metadata": {
    "execution": {
     "iopub.execute_input": "2022-05-02T14:11:43.273285Z",
     "iopub.status.busy": "2022-05-02T14:11:43.273023Z",
     "iopub.status.idle": "2022-05-02T14:11:43.554008Z",
     "shell.execute_reply": "2022-05-02T14:11:43.553152Z"
    },
    "papermill": {
     "duration": 0.321865,
     "end_time": "2022-05-02T14:11:43.556405",
     "exception": false,
     "start_time": "2022-05-02T14:11:43.234540",
     "status": "completed"
    },
    "tags": []
   },
   "outputs": [],
   "source": [
    "from datetime import datetime\n",
    "\n",
    "all_data['date'] = all_data['datetime'].apply(lambda x: x.split()[0])\n",
    "all_data['year'] = all_data['datetime'].apply(lambda x: x.split()[0].split('-')[0])\n",
    "all_data['month'] = all_data['datetime'].apply(lambda x: x.split()[0].split('-')[1])\n",
    "all_data['hour'] = all_data['datetime'].apply(lambda x: x.split()[1].split(':')[0])\n",
    "all_data['weekday'] = all_data['date'].apply(lambda dateString: datetime.strptime(dateString, \"%Y-%m-%d\").weekday())"
   ]
  },
  {
   "cell_type": "code",
   "execution_count": 7,
   "id": "4e3cb7a8",
   "metadata": {
    "execution": {
     "iopub.execute_input": "2022-05-02T14:11:43.632016Z",
     "iopub.status.busy": "2022-05-02T14:11:43.631765Z",
     "iopub.status.idle": "2022-05-02T14:11:43.642815Z",
     "shell.execute_reply": "2022-05-02T14:11:43.641984Z"
    },
    "papermill": {
     "duration": 0.051352,
     "end_time": "2022-05-02T14:11:43.645115",
     "exception": false,
     "start_time": "2022-05-02T14:11:43.593763",
     "status": "completed"
    },
    "tags": []
   },
   "outputs": [],
   "source": [
    "drop_features = ['casual', 'registered', 'datetime', 'date', 'windspeed', 'month']\n",
    "all_data = all_data.drop(drop_features, axis=1)"
   ]
  },
  {
   "cell_type": "code",
   "execution_count": 8,
   "id": "3dc3a0ca",
   "metadata": {
    "execution": {
     "iopub.execute_input": "2022-05-02T14:11:43.722184Z",
     "iopub.status.busy": "2022-05-02T14:11:43.721526Z",
     "iopub.status.idle": "2022-05-02T14:11:43.730037Z",
     "shell.execute_reply": "2022-05-02T14:11:43.729196Z"
    },
    "papermill": {
     "duration": 0.048964,
     "end_time": "2022-05-02T14:11:43.732021",
     "exception": false,
     "start_time": "2022-05-02T14:11:43.683057",
     "status": "completed"
    },
    "tags": []
   },
   "outputs": [],
   "source": [
    "X_train  = all_data[~pd.isnull(all_data['count'])]\n",
    "X_test  = all_data[pd.isnull(all_data['count'])]"
   ]
  },
  {
   "cell_type": "code",
   "execution_count": 9,
   "id": "d435d2c2",
   "metadata": {
    "execution": {
     "iopub.execute_input": "2022-05-02T14:11:43.808918Z",
     "iopub.status.busy": "2022-05-02T14:11:43.807986Z",
     "iopub.status.idle": "2022-05-02T14:11:43.816945Z",
     "shell.execute_reply": "2022-05-02T14:11:43.816226Z"
    },
    "papermill": {
     "duration": 0.04965,
     "end_time": "2022-05-02T14:11:43.818980",
     "exception": false,
     "start_time": "2022-05-02T14:11:43.769330",
     "status": "completed"
    },
    "tags": []
   },
   "outputs": [],
   "source": [
    "X_train = X_train.drop(['count'], axis=1)\n",
    "X_test = X_test.drop(['count'], axis=1)\n",
    "\n",
    "y = train['count']"
   ]
  },
  {
   "cell_type": "code",
   "execution_count": 10,
   "id": "82920511",
   "metadata": {
    "execution": {
     "iopub.execute_input": "2022-05-02T14:11:43.895073Z",
     "iopub.status.busy": "2022-05-02T14:11:43.894515Z",
     "iopub.status.idle": "2022-05-02T14:11:43.908470Z",
     "shell.execute_reply": "2022-05-02T14:11:43.907685Z"
    },
    "papermill": {
     "duration": 0.05471,
     "end_time": "2022-05-02T14:11:43.910734",
     "exception": false,
     "start_time": "2022-05-02T14:11:43.856024",
     "status": "completed"
    },
    "tags": []
   },
   "outputs": [
    {
     "data": {
      "text/html": [
       "<div>\n",
       "<style scoped>\n",
       "    .dataframe tbody tr th:only-of-type {\n",
       "        vertical-align: middle;\n",
       "    }\n",
       "\n",
       "    .dataframe tbody tr th {\n",
       "        vertical-align: top;\n",
       "    }\n",
       "\n",
       "    .dataframe thead th {\n",
       "        text-align: right;\n",
       "    }\n",
       "</style>\n",
       "<table border=\"1\" class=\"dataframe\">\n",
       "  <thead>\n",
       "    <tr style=\"text-align: right;\">\n",
       "      <th></th>\n",
       "      <th>season</th>\n",
       "      <th>holiday</th>\n",
       "      <th>workingday</th>\n",
       "      <th>weather</th>\n",
       "      <th>temp</th>\n",
       "      <th>atemp</th>\n",
       "      <th>humidity</th>\n",
       "      <th>year</th>\n",
       "      <th>hour</th>\n",
       "      <th>weekday</th>\n",
       "    </tr>\n",
       "  </thead>\n",
       "  <tbody>\n",
       "    <tr>\n",
       "      <th>0</th>\n",
       "      <td>1</td>\n",
       "      <td>0</td>\n",
       "      <td>0</td>\n",
       "      <td>1</td>\n",
       "      <td>9.84</td>\n",
       "      <td>14.395</td>\n",
       "      <td>81</td>\n",
       "      <td>2011</td>\n",
       "      <td>00</td>\n",
       "      <td>5</td>\n",
       "    </tr>\n",
       "    <tr>\n",
       "      <th>1</th>\n",
       "      <td>1</td>\n",
       "      <td>0</td>\n",
       "      <td>0</td>\n",
       "      <td>1</td>\n",
       "      <td>9.02</td>\n",
       "      <td>13.635</td>\n",
       "      <td>80</td>\n",
       "      <td>2011</td>\n",
       "      <td>01</td>\n",
       "      <td>5</td>\n",
       "    </tr>\n",
       "    <tr>\n",
       "      <th>2</th>\n",
       "      <td>1</td>\n",
       "      <td>0</td>\n",
       "      <td>0</td>\n",
       "      <td>1</td>\n",
       "      <td>9.02</td>\n",
       "      <td>13.635</td>\n",
       "      <td>80</td>\n",
       "      <td>2011</td>\n",
       "      <td>02</td>\n",
       "      <td>5</td>\n",
       "    </tr>\n",
       "    <tr>\n",
       "      <th>3</th>\n",
       "      <td>1</td>\n",
       "      <td>0</td>\n",
       "      <td>0</td>\n",
       "      <td>1</td>\n",
       "      <td>9.84</td>\n",
       "      <td>14.395</td>\n",
       "      <td>75</td>\n",
       "      <td>2011</td>\n",
       "      <td>03</td>\n",
       "      <td>5</td>\n",
       "    </tr>\n",
       "    <tr>\n",
       "      <th>4</th>\n",
       "      <td>1</td>\n",
       "      <td>0</td>\n",
       "      <td>0</td>\n",
       "      <td>1</td>\n",
       "      <td>9.84</td>\n",
       "      <td>14.395</td>\n",
       "      <td>75</td>\n",
       "      <td>2011</td>\n",
       "      <td>04</td>\n",
       "      <td>5</td>\n",
       "    </tr>\n",
       "  </tbody>\n",
       "</table>\n",
       "</div>"
      ],
      "text/plain": [
       "   season  holiday  workingday  weather  temp   atemp  humidity  year hour  \\\n",
       "0       1        0           0        1  9.84  14.395        81  2011   00   \n",
       "1       1        0           0        1  9.02  13.635        80  2011   01   \n",
       "2       1        0           0        1  9.02  13.635        80  2011   02   \n",
       "3       1        0           0        1  9.84  14.395        75  2011   03   \n",
       "4       1        0           0        1  9.84  14.395        75  2011   04   \n",
       "\n",
       "   weekday  \n",
       "0        5  \n",
       "1        5  \n",
       "2        5  \n",
       "3        5  \n",
       "4        5  "
      ]
     },
     "execution_count": 10,
     "metadata": {},
     "output_type": "execute_result"
    }
   ],
   "source": [
    "X_train.head()"
   ]
  },
  {
   "cell_type": "markdown",
   "id": "43db4868",
   "metadata": {
    "papermill": {
     "duration": 0.037271,
     "end_time": "2022-05-02T14:11:43.986259",
     "exception": false,
     "start_time": "2022-05-02T14:11:43.948988",
     "status": "completed"
    },
    "tags": []
   },
   "source": [
    "평가지표 계산 함수 작성"
   ]
  },
  {
   "cell_type": "code",
   "execution_count": 11,
   "id": "375ca6fe",
   "metadata": {
    "execution": {
     "iopub.execute_input": "2022-05-02T14:11:44.062969Z",
     "iopub.status.busy": "2022-05-02T14:11:44.062405Z",
     "iopub.status.idle": "2022-05-02T14:11:44.068615Z",
     "shell.execute_reply": "2022-05-02T14:11:44.068012Z"
    },
    "papermill": {
     "duration": 0.046823,
     "end_time": "2022-05-02T14:11:44.070630",
     "exception": false,
     "start_time": "2022-05-02T14:11:44.023807",
     "status": "completed"
    },
    "tags": []
   },
   "outputs": [],
   "source": [
    "import numpy as np\n",
    "\n",
    "def rmsle(y_true, y_pred, convertExp=True):\n",
    "    if convertExp:\n",
    "        y_true = np.exp(y_true)\n",
    "        y_pred = np.exp(y_pred) \n",
    "        \n",
    "    log_true = np.nan_to_num(np.log(y_true+1))\n",
    "    log_pred = np.nan_to_num(np.log(y_pred+1))\n",
    "    \n",
    "    output = np.sqrt(np.mean((log_true - log_pred)**2))\n",
    "    return output"
   ]
  },
  {
   "cell_type": "markdown",
   "id": "ad4fec3d",
   "metadata": {
    "papermill": {
     "duration": 0.039247,
     "end_time": "2022-05-02T14:11:44.147366",
     "exception": false,
     "start_time": "2022-05-02T14:11:44.108119",
     "status": "completed"
    },
    "tags": []
   },
   "source": [
    "모델 훈련"
   ]
  },
  {
   "cell_type": "code",
   "execution_count": 12,
   "id": "8db8fb15",
   "metadata": {
    "execution": {
     "iopub.execute_input": "2022-05-02T14:11:44.226450Z",
     "iopub.status.busy": "2022-05-02T14:11:44.225941Z",
     "iopub.status.idle": "2022-05-02T14:11:45.393339Z",
     "shell.execute_reply": "2022-05-02T14:11:45.392448Z"
    },
    "papermill": {
     "duration": 1.209767,
     "end_time": "2022-05-02T14:11:45.395783",
     "exception": false,
     "start_time": "2022-05-02T14:11:44.186016",
     "status": "completed"
    },
    "tags": []
   },
   "outputs": [],
   "source": [
    "from sklearn.linear_model import LinearRegression\n",
    "linear_reg_model = LinearRegression()"
   ]
  },
  {
   "cell_type": "code",
   "execution_count": 13,
   "id": "297f186d",
   "metadata": {
    "execution": {
     "iopub.execute_input": "2022-05-02T14:11:45.474415Z",
     "iopub.status.busy": "2022-05-02T14:11:45.474119Z",
     "iopub.status.idle": "2022-05-02T14:11:45.520470Z",
     "shell.execute_reply": "2022-05-02T14:11:45.519886Z"
    },
    "papermill": {
     "duration": 0.088963,
     "end_time": "2022-05-02T14:11:45.524141",
     "exception": false,
     "start_time": "2022-05-02T14:11:45.435178",
     "status": "completed"
    },
    "tags": []
   },
   "outputs": [
    {
     "data": {
      "text/plain": [
       "LinearRegression()"
      ]
     },
     "execution_count": 13,
     "metadata": {},
     "output_type": "execute_result"
    }
   ],
   "source": [
    "log_y = np.log(y)\n",
    "linear_reg_model.fit(X_train, log_y)"
   ]
  },
  {
   "cell_type": "markdown",
   "id": "abd26bea",
   "metadata": {
    "papermill": {
     "duration": 0.053962,
     "end_time": "2022-05-02T14:11:45.649490",
     "exception": false,
     "start_time": "2022-05-02T14:11:45.595528",
     "status": "completed"
    },
    "tags": []
   },
   "source": [
    "모델 성능 검증"
   ]
  },
  {
   "cell_type": "code",
   "execution_count": 14,
   "id": "10e490ff",
   "metadata": {
    "execution": {
     "iopub.execute_input": "2022-05-02T14:11:45.727492Z",
     "iopub.status.busy": "2022-05-02T14:11:45.726960Z",
     "iopub.status.idle": "2022-05-02T14:11:45.754534Z",
     "shell.execute_reply": "2022-05-02T14:11:45.753330Z"
    },
    "papermill": {
     "duration": 0.070571,
     "end_time": "2022-05-02T14:11:45.758066",
     "exception": false,
     "start_time": "2022-05-02T14:11:45.687495",
     "status": "completed"
    },
    "tags": []
   },
   "outputs": [],
   "source": [
    "preds = linear_reg_model.predict(X_train)"
   ]
  },
  {
   "cell_type": "code",
   "execution_count": 15,
   "id": "7c86efc4",
   "metadata": {
    "execution": {
     "iopub.execute_input": "2022-05-02T14:11:45.886389Z",
     "iopub.status.busy": "2022-05-02T14:11:45.886086Z",
     "iopub.status.idle": "2022-05-02T14:11:45.893682Z",
     "shell.execute_reply": "2022-05-02T14:11:45.892487Z"
    },
    "papermill": {
     "duration": 0.06884,
     "end_time": "2022-05-02T14:11:45.896986",
     "exception": false,
     "start_time": "2022-05-02T14:11:45.828146",
     "status": "completed"
    },
    "tags": []
   },
   "outputs": [
    {
     "name": "stdout",
     "output_type": "stream",
     "text": [
      "선형 회귀의 RMSLE 값: 1.0205\n"
     ]
    }
   ],
   "source": [
    "print(f'선형 회귀의 RMSLE 값: {rmsle(log_y, preds, True):.4f}')"
   ]
  },
  {
   "cell_type": "code",
   "execution_count": 16,
   "id": "12ff7ff3",
   "metadata": {
    "execution": {
     "iopub.execute_input": "2022-05-02T14:11:45.978985Z",
     "iopub.status.busy": "2022-05-02T14:11:45.978232Z",
     "iopub.status.idle": "2022-05-02T14:11:46.051087Z",
     "shell.execute_reply": "2022-05-02T14:11:46.049836Z"
    },
    "papermill": {
     "duration": 0.117459,
     "end_time": "2022-05-02T14:11:46.054520",
     "exception": false,
     "start_time": "2022-05-02T14:11:45.937061",
     "status": "completed"
    },
    "tags": []
   },
   "outputs": [],
   "source": [
    "linearreg_preds = linear_reg_model.predict(X_test)\n",
    "\n",
    "submission['count'] = np.exp(linearreg_preds)\n",
    "submission.to_csv('submission.csv', index=False)"
   ]
  },
  {
   "cell_type": "markdown",
   "id": "adfb7845",
   "metadata": {
    "papermill": {
     "duration": 0.038467,
     "end_time": "2022-05-02T14:11:46.160300",
     "exception": false,
     "start_time": "2022-05-02T14:11:46.121833",
     "status": "completed"
    },
    "tags": []
   },
   "source": [
    "성능 개선 I: 릿지 회귀 모델"
   ]
  },
  {
   "cell_type": "markdown",
   "id": "360895bd",
   "metadata": {
    "papermill": {
     "duration": 0.038412,
     "end_time": "2022-05-02T14:11:46.237905",
     "exception": false,
     "start_time": "2022-05-02T14:11:46.199493",
     "status": "completed"
    },
    "tags": []
   },
   "source": [
    "하이퍼파라미터 최적화(모델 훈련)"
   ]
  },
  {
   "cell_type": "code",
   "execution_count": 17,
   "id": "a709bc59",
   "metadata": {
    "execution": {
     "iopub.execute_input": "2022-05-02T14:11:46.317862Z",
     "iopub.status.busy": "2022-05-02T14:11:46.317012Z",
     "iopub.status.idle": "2022-05-02T14:11:46.321757Z",
     "shell.execute_reply": "2022-05-02T14:11:46.320934Z"
    },
    "papermill": {
     "duration": 0.046332,
     "end_time": "2022-05-02T14:11:46.323713",
     "exception": false,
     "start_time": "2022-05-02T14:11:46.277381",
     "status": "completed"
    },
    "tags": []
   },
   "outputs": [],
   "source": [
    "from sklearn.linear_model import Ridge \n",
    "from sklearn.model_selection import GridSearchCV \n",
    "from sklearn import metrics \n",
    "\n",
    "ridge_model = Ridge()"
   ]
  },
  {
   "cell_type": "code",
   "execution_count": 18,
   "id": "ccb79db7",
   "metadata": {
    "execution": {
     "iopub.execute_input": "2022-05-02T14:11:46.401951Z",
     "iopub.status.busy": "2022-05-02T14:11:46.401667Z",
     "iopub.status.idle": "2022-05-02T14:11:46.407432Z",
     "shell.execute_reply": "2022-05-02T14:11:46.406597Z"
    },
    "papermill": {
     "duration": 0.047377,
     "end_time": "2022-05-02T14:11:46.409378",
     "exception": false,
     "start_time": "2022-05-02T14:11:46.362001",
     "status": "completed"
    },
    "tags": []
   },
   "outputs": [],
   "source": [
    "ridge_params = {'max_iter':[3000], 'alpha':[0.1, 1, 2, 3, 4, 10, 30, 100, 200, 300, 400, 800, 900, 1000]}\n",
    "\n",
    "rmsle_scorer = metrics.make_scorer(rmsle, greater_is_better=False)\n",
    "\n",
    "gridsearch_ridge_model = GridSearchCV(estimator=ridge_model,\n",
    "                                      param_grid=ridge_params,\n",
    "                                      scoring=rmsle_scorer,\n",
    "                                      cv=5)"
   ]
  },
  {
   "cell_type": "code",
   "execution_count": 19,
   "id": "b65b06a7",
   "metadata": {
    "execution": {
     "iopub.execute_input": "2022-05-02T14:11:46.488396Z",
     "iopub.status.busy": "2022-05-02T14:11:46.487860Z",
     "iopub.status.idle": "2022-05-02T14:11:49.194489Z",
     "shell.execute_reply": "2022-05-02T14:11:49.193669Z"
    },
    "papermill": {
     "duration": 2.749664,
     "end_time": "2022-05-02T14:11:49.197528",
     "exception": false,
     "start_time": "2022-05-02T14:11:46.447864",
     "status": "completed"
    },
    "tags": []
   },
   "outputs": [
    {
     "data": {
      "text/plain": [
       "GridSearchCV(cv=5, estimator=Ridge(),\n",
       "             param_grid={'alpha': [0.1, 1, 2, 3, 4, 10, 30, 100, 200, 300, 400,\n",
       "                                   800, 900, 1000],\n",
       "                         'max_iter': [3000]},\n",
       "             scoring=make_scorer(rmsle, greater_is_better=False))"
      ]
     },
     "execution_count": 19,
     "metadata": {},
     "output_type": "execute_result"
    }
   ],
   "source": [
    "log_y = np.log(y)\n",
    "gridsearch_ridge_model.fit(X_train, log_y)"
   ]
  },
  {
   "cell_type": "code",
   "execution_count": 20,
   "id": "5d5dc2ff",
   "metadata": {
    "execution": {
     "iopub.execute_input": "2022-05-02T14:11:49.328812Z",
     "iopub.status.busy": "2022-05-02T14:11:49.328530Z",
     "iopub.status.idle": "2022-05-02T14:11:49.333244Z",
     "shell.execute_reply": "2022-05-02T14:11:49.332315Z"
    },
    "papermill": {
     "duration": 0.067441,
     "end_time": "2022-05-02T14:11:49.336389",
     "exception": false,
     "start_time": "2022-05-02T14:11:49.268948",
     "status": "completed"
    },
    "tags": []
   },
   "outputs": [
    {
     "name": "stdout",
     "output_type": "stream",
     "text": [
      "최적 하이퍼파라미터 : {'alpha': 0.1, 'max_iter': 3000}\n"
     ]
    }
   ],
   "source": [
    "print('최적 하이퍼파라미터 :',gridsearch_ridge_model.best_params_)"
   ]
  },
  {
   "cell_type": "markdown",
   "id": "e9b99314",
   "metadata": {
    "papermill": {
     "duration": 0.038785,
     "end_time": "2022-05-02T14:11:49.415572",
     "exception": false,
     "start_time": "2022-05-02T14:11:49.376787",
     "status": "completed"
    },
    "tags": []
   },
   "source": [
    "성능 검증"
   ]
  },
  {
   "cell_type": "code",
   "execution_count": 21,
   "id": "0aba48c4",
   "metadata": {
    "execution": {
     "iopub.execute_input": "2022-05-02T14:11:49.496016Z",
     "iopub.status.busy": "2022-05-02T14:11:49.495437Z",
     "iopub.status.idle": "2022-05-02T14:11:49.523469Z",
     "shell.execute_reply": "2022-05-02T14:11:49.522270Z"
    },
    "papermill": {
     "duration": 0.072829,
     "end_time": "2022-05-02T14:11:49.527685",
     "exception": false,
     "start_time": "2022-05-02T14:11:49.454856",
     "status": "completed"
    },
    "tags": []
   },
   "outputs": [
    {
     "name": "stdout",
     "output_type": "stream",
     "text": [
      "릿지 회귀 RMSLE 값 : 1.0205\n"
     ]
    }
   ],
   "source": [
    "preds = gridsearch_ridge_model.best_estimator_.predict(X_train)\n",
    "print(f'릿지 회귀 RMSLE 값 : {rmsle(log_y, preds, True):.4f}')"
   ]
  },
  {
   "cell_type": "markdown",
   "id": "3868a888",
   "metadata": {
    "papermill": {
     "duration": 0.055477,
     "end_time": "2022-05-02T14:11:49.656916",
     "exception": false,
     "start_time": "2022-05-02T14:11:49.601439",
     "status": "completed"
    },
    "tags": []
   },
   "source": [
    "성능 개선 II: 라쏘 회귀 모델"
   ]
  },
  {
   "cell_type": "markdown",
   "id": "a28c8c89",
   "metadata": {
    "papermill": {
     "duration": 0.040379,
     "end_time": "2022-05-02T14:11:49.737424",
     "exception": false,
     "start_time": "2022-05-02T14:11:49.697045",
     "status": "completed"
    },
    "tags": []
   },
   "source": [
    "하이퍼파라미터 최적화(모델 훈련)"
   ]
  },
  {
   "cell_type": "code",
   "execution_count": 22,
   "id": "b1d9e383",
   "metadata": {
    "execution": {
     "iopub.execute_input": "2022-05-02T14:11:49.819578Z",
     "iopub.status.busy": "2022-05-02T14:11:49.819004Z",
     "iopub.status.idle": "2022-05-02T14:11:54.856113Z",
     "shell.execute_reply": "2022-05-02T14:11:54.855264Z"
    },
    "papermill": {
     "duration": 5.082857,
     "end_time": "2022-05-02T14:11:54.860427",
     "exception": false,
     "start_time": "2022-05-02T14:11:49.777570",
     "status": "completed"
    },
    "tags": []
   },
   "outputs": [
    {
     "name": "stdout",
     "output_type": "stream",
     "text": [
      "최적 하이퍼파라미터 :  {'alpha': 0.00125, 'max_iter': 3000}\n"
     ]
    }
   ],
   "source": [
    "from sklearn.linear_model import Lasso \n",
    "\n",
    "lasso_model = Lasso()\n",
    "\n",
    "lasso_alpha = 1/np.array([0.1, 1, 2, 3, 4, 10, 30, 100, 200, 300, 400, 800, 900, 1000])\n",
    "lasso_params = {'max_iter':[3000], 'alpha':lasso_alpha}\n",
    "\n",
    "gridsearch_lasso_model = GridSearchCV(estimator=lasso_model,\n",
    "                                      param_grid=lasso_params,\n",
    "                                      scoring=rmsle_scorer,\n",
    "                                      cv=5)\n",
    "\n",
    "log_y = np.log(y)\n",
    "gridsearch_lasso_model.fit(X_train, log_y)\n",
    "\n",
    "print('최적 하이퍼파라미터 : ', gridsearch_lasso_model.best_params_)"
   ]
  },
  {
   "cell_type": "markdown",
   "id": "7227d1be",
   "metadata": {
    "papermill": {
     "duration": 0.047339,
     "end_time": "2022-05-02T14:11:55.005414",
     "exception": false,
     "start_time": "2022-05-02T14:11:54.958075",
     "status": "completed"
    },
    "tags": []
   },
   "source": [
    "성능 검증"
   ]
  },
  {
   "cell_type": "code",
   "execution_count": 23,
   "id": "b11d200c",
   "metadata": {
    "execution": {
     "iopub.execute_input": "2022-05-02T14:11:55.088927Z",
     "iopub.status.busy": "2022-05-02T14:11:55.088667Z",
     "iopub.status.idle": "2022-05-02T14:11:55.116517Z",
     "shell.execute_reply": "2022-05-02T14:11:55.115507Z"
    },
    "papermill": {
     "duration": 0.07259,
     "end_time": "2022-05-02T14:11:55.118711",
     "exception": false,
     "start_time": "2022-05-02T14:11:55.046121",
     "status": "completed"
    },
    "tags": []
   },
   "outputs": [
    {
     "name": "stdout",
     "output_type": "stream",
     "text": [
      "라쏘 회귀 RMSLE 값 : 1.0205\n"
     ]
    }
   ],
   "source": [
    "preds = gridsearch_lasso_model.best_estimator_.predict(X_train)\n",
    "print(f'라쏘 회귀 RMSLE 값 : {rmsle(log_y, preds, True):.4f}')"
   ]
  },
  {
   "cell_type": "markdown",
   "id": "e3124944",
   "metadata": {
    "papermill": {
     "duration": 0.060024,
     "end_time": "2022-05-02T14:11:55.261081",
     "exception": false,
     "start_time": "2022-05-02T14:11:55.201057",
     "status": "completed"
    },
    "tags": []
   },
   "source": [
    "성능 개선 III:랜덤 포레스트 회귀 모델"
   ]
  },
  {
   "cell_type": "code",
   "execution_count": 24,
   "id": "df70fe9b",
   "metadata": {
    "execution": {
     "iopub.execute_input": "2022-05-02T14:11:55.349592Z",
     "iopub.status.busy": "2022-05-02T14:11:55.349345Z",
     "iopub.status.idle": "2022-05-02T14:12:45.047615Z",
     "shell.execute_reply": "2022-05-02T14:12:45.046798Z"
    },
    "papermill": {
     "duration": 49.784063,
     "end_time": "2022-05-02T14:12:45.091549",
     "exception": false,
     "start_time": "2022-05-02T14:11:55.307486",
     "status": "completed"
    },
    "tags": []
   },
   "outputs": [
    {
     "name": "stdout",
     "output_type": "stream",
     "text": [
      "최적 하이퍼파라미터 : {'n_estimators': 140, 'random_state': 42}\n"
     ]
    }
   ],
   "source": [
    "from sklearn.ensemble import RandomForestRegressor\n",
    "\n",
    "randomforest_model = RandomForestRegressor()\n",
    "\n",
    "rf_params = {'random_state':[42], 'n_estimators':[100, 120, 140]}\n",
    "gridsearch_random_forest_model = GridSearchCV(estimator=randomforest_model,\n",
    "                                               param_grid=rf_params,\n",
    "                                               scoring=rmsle_scorer,\n",
    "                                               cv=5)\n",
    "\n",
    "log_y = np.log(y)\n",
    "gridsearch_random_forest_model.fit(X_train, log_y)\n",
    "print('최적 하이퍼파라미터 :', gridsearch_random_forest_model.best_params_)"
   ]
  },
  {
   "cell_type": "markdown",
   "id": "cb9fad12",
   "metadata": {
    "papermill": {
     "duration": 0.040413,
     "end_time": "2022-05-02T14:12:45.172784",
     "exception": false,
     "start_time": "2022-05-02T14:12:45.132371",
     "status": "completed"
    },
    "tags": []
   },
   "source": [
    "모델 성능 검증"
   ]
  },
  {
   "cell_type": "code",
   "execution_count": 25,
   "id": "7b43c7a8",
   "metadata": {
    "execution": {
     "iopub.execute_input": "2022-05-02T14:12:45.256454Z",
     "iopub.status.busy": "2022-05-02T14:12:45.256176Z",
     "iopub.status.idle": "2022-05-02T14:12:45.586064Z",
     "shell.execute_reply": "2022-05-02T14:12:45.585169Z"
    },
    "papermill": {
     "duration": 0.374551,
     "end_time": "2022-05-02T14:12:45.588292",
     "exception": false,
     "start_time": "2022-05-02T14:12:45.213741",
     "status": "completed"
    },
    "tags": []
   },
   "outputs": [
    {
     "name": "stdout",
     "output_type": "stream",
     "text": [
      "랜덤 포레스트 회귀 RMSLE 값 : 0.1127\n"
     ]
    }
   ],
   "source": [
    "preds = gridsearch_random_forest_model.best_estimator_.predict(X_train)\n",
    "\n",
    "print(f'랜덤 포레스트 회귀 RMSLE 값 : {rmsle(log_y, preds, True):.4f}')"
   ]
  },
  {
   "cell_type": "markdown",
   "id": "eb66309f",
   "metadata": {
    "papermill": {
     "duration": 0.04081,
     "end_time": "2022-05-02T14:12:45.670497",
     "exception": false,
     "start_time": "2022-05-02T14:12:45.629687",
     "status": "completed"
    },
    "tags": []
   },
   "source": [
    "예측 및 결과 제출"
   ]
  },
  {
   "cell_type": "code",
   "execution_count": 26,
   "id": "a3018c01",
   "metadata": {
    "execution": {
     "iopub.execute_input": "2022-05-02T14:12:45.755679Z",
     "iopub.status.busy": "2022-05-02T14:12:45.754698Z",
     "iopub.status.idle": "2022-05-02T14:12:46.736987Z",
     "shell.execute_reply": "2022-05-02T14:12:46.736158Z"
    },
    "papermill": {
     "duration": 1.028131,
     "end_time": "2022-05-02T14:12:46.739500",
     "exception": false,
     "start_time": "2022-05-02T14:12:45.711369",
     "status": "completed"
    },
    "tags": []
   },
   "outputs": [
    {
     "data": {
      "text/plain": [
       "Text(0.5, 1.0, 'Predicted Test Data Distribution')"
      ]
     },
     "execution_count": 26,
     "metadata": {},
     "output_type": "execute_result"
    },
    {
     "data": {
      "image/png": "[encoded data removed]",
      "text/plain": [
       "<Figure size 720x288 with 2 Axes>"
      ]
     },
     "metadata": {
      "needs_background": "light"
     },
     "output_type": "display_data"
    }
   ],
   "source": [
    "import seaborn as sns\n",
    "import matplotlib.pyplot as plt\n",
    "\n",
    "randomforest_preds = gridsearch_random_forest_model.best_estimator_.predict(X_test)\n",
    "\n",
    "figure, axes = plt.subplots(ncols=2)\n",
    "figure.set_size_inches(10, 4)\n",
    "\n",
    "sns.histplot(y, bins=50, ax=axes[0])\n",
    "axes[0].set_title('Train Data Distribution')\n",
    "sns.histplot(np.exp(randomforest_preds), bins=50, ax=axes[1])\n",
    "axes[1].set_title('Predicted Test Data Distribution')"
   ]
  },
  {
   "cell_type": "code",
   "execution_count": 27,
   "id": "8fbbbbfd",
   "metadata": {
    "execution": {
     "iopub.execute_input": "2022-05-02T14:12:46.828709Z",
     "iopub.status.busy": "2022-05-02T14:12:46.828414Z",
     "iopub.status.idle": "2022-05-02T14:12:46.860464Z",
     "shell.execute_reply": "2022-05-02T14:12:46.859597Z"
    },
    "papermill": {
     "duration": 0.078831,
     "end_time": "2022-05-02T14:12:46.862890",
     "exception": false,
     "start_time": "2022-05-02T14:12:46.784059",
     "status": "completed"
    },
    "tags": []
   },
   "outputs": [],
   "source": [
    "submission['count'] = np.exp(randomforest_preds)\n",
    "submission.to_csv('submission.csv', index=False)"
   ]
  }
 ],
 "metadata": {
  "kernelspec": {
   "display_name": "Python 3",
   "language": "python",
   "name": "python3"
  },
  "language_info": {
   "codemirror_mode": {
    "name": "ipython",
    "version": 3
   },
   "file_extension": ".py",
   "mimetype": "text/x-python",
   "name": "python",
   "nbconvert_exporter": "python",
   "pygments_lexer": "ipython3",
   "version": "3.7.12"
  },
  "papermill": {
   "default_parameters": {},
   "duration": 75.002209,
   "end_time": "2022-05-02T14:12:47.726496",
   "environment_variables": {},
   "exception": null,
   "input_path": "__notebook__.ipynb",
   "output_path": "__notebook__.ipynb",
   "parameters": {},
   "start_time": "2022-05-02T14:11:32.724287",
   "version": "2.3.4"
  }
 },
 "nbformat": 4,
 "nbformat_minor": 5
}
