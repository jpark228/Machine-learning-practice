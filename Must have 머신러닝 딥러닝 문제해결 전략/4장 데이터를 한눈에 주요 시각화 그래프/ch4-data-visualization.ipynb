{
 "cells": [
  {
   "cell_type": "code",
   "execution_count": 1,
   "id": "3bfbd04d",
   "metadata": {
    "_cell_guid": "b1076dfc-b9ad-4769-8c92-a6c4dae69d19",
    "_uuid": "8f2839f25d086af736a60e9eeb907d3b93b6e0e5",
    "execution": {
     "iopub.execute_input": "2022-04-30T17:46:12.850326Z",
     "iopub.status.busy": "2022-04-30T17:46:12.849235Z",
     "iopub.status.idle": "2022-04-30T17:46:12.861360Z",
     "shell.execute_reply": "2022-04-30T17:46:12.860659Z"
    },
    "papermill": {
     "duration": 0.062538,
     "end_time": "2022-04-30T17:46:12.863420",
     "exception": false,
     "start_time": "2022-04-30T17:46:12.800882",
     "status": "completed"
    },
    "tags": []
   },
   "outputs": [],
   "source": [
    "# This Python 3 environment comes with many helpful analytics libraries installed\n",
    "# It is defined by the kaggle/python Docker image: https://github.com/kaggle/docker-python\n",
    "# For example, here's several helpful packages to load\n",
    "\n",
    "import numpy as np # linear algebra\n",
    "import pandas as pd # data processing, CSV file I/O (e.g. pd.read_csv)\n",
    "\n",
    "# Input data files are available in the read-only \"../input/\" directory\n",
    "# For example, running this (by clicking run or pressing Shift+Enter) will list all files under the input directory\n",
    "\n",
    "import os\n",
    "for dirname, _, filenames in os.walk('/kaggle/input'):\n",
    "    for filename in filenames:\n",
    "        print(os.path.join(dirname, filename))\n",
    "\n",
    "# You can write up to 20GB to the current directory (/kaggle/working/) that gets preserved as output when you create a version using \"Save & Run All\" \n",
    "# You can also write temporary files to /kaggle/temp/, but they won't be saved outside of the current session"
   ]
  },
  {
   "cell_type": "markdown",
   "id": "8cbf8246",
   "metadata": {
    "papermill": {
     "duration": 0.044674,
     "end_time": "2022-04-30T17:46:12.953469",
     "exception": false,
     "start_time": "2022-04-30T17:46:12.908795",
     "status": "completed"
    },
    "tags": []
   },
   "source": [
    "수치형 데이터 시각화"
   ]
  },
  {
   "cell_type": "code",
   "execution_count": 2,
   "id": "c2ee8ddb",
   "metadata": {
    "execution": {
     "iopub.execute_input": "2022-04-30T17:46:13.047048Z",
     "iopub.status.busy": "2022-04-30T17:46:13.046535Z",
     "iopub.status.idle": "2022-04-30T17:46:16.687596Z",
     "shell.execute_reply": "2022-04-30T17:46:16.686808Z"
    },
    "papermill": {
     "duration": 3.689658,
     "end_time": "2022-04-30T17:46:16.689818",
     "exception": false,
     "start_time": "2022-04-30T17:46:13.000160",
     "status": "completed"
    },
    "tags": []
   },
   "outputs": [],
   "source": [
    "import seaborn as sns \n",
    "\n",
    "titanic = sns.load_dataset('titanic')"
   ]
  },
  {
   "cell_type": "code",
   "execution_count": 3,
   "id": "ae7d072c",
   "metadata": {
    "execution": {
     "iopub.execute_input": "2022-04-30T17:46:16.782969Z",
     "iopub.status.busy": "2022-04-30T17:46:16.782432Z",
     "iopub.status.idle": "2022-04-30T17:46:16.809699Z",
     "shell.execute_reply": "2022-04-30T17:46:16.808979Z"
    },
    "papermill": {
     "duration": 0.076826,
     "end_time": "2022-04-30T17:46:16.812006",
     "exception": false,
     "start_time": "2022-04-30T17:46:16.735180",
     "status": "completed"
    },
    "tags": []
   },
   "outputs": [
    {
     "data": {
      "text/html": [
       "<div>\n",
       "<style scoped>\n",
       "    .dataframe tbody tr th:only-of-type {\n",
       "        vertical-align: middle;\n",
       "    }\n",
       "\n",
       "    .dataframe tbody tr th {\n",
       "        vertical-align: top;\n",
       "    }\n",
       "\n",
       "    .dataframe thead th {\n",
       "        text-align: right;\n",
       "    }\n",
       "</style>\n",
       "<table border=\"1\" class=\"dataframe\">\n",
       "  <thead>\n",
       "    <tr style=\"text-align: right;\">\n",
       "      <th></th>\n",
       "      <th>survived</th>\n",
       "      <th>pclass</th>\n",
       "      <th>sex</th>\n",
       "      <th>age</th>\n",
       "      <th>sibsp</th>\n",
       "      <th>parch</th>\n",
       "      <th>fare</th>\n",
       "      <th>embarked</th>\n",
       "      <th>class</th>\n",
       "      <th>who</th>\n",
       "      <th>adult_male</th>\n",
       "      <th>deck</th>\n",
       "      <th>embark_town</th>\n",
       "      <th>alive</th>\n",
       "      <th>alone</th>\n",
       "    </tr>\n",
       "  </thead>\n",
       "  <tbody>\n",
       "    <tr>\n",
       "      <th>0</th>\n",
       "      <td>0</td>\n",
       "      <td>3</td>\n",
       "      <td>male</td>\n",
       "      <td>22.0</td>\n",
       "      <td>1</td>\n",
       "      <td>0</td>\n",
       "      <td>7.2500</td>\n",
       "      <td>S</td>\n",
       "      <td>Third</td>\n",
       "      <td>man</td>\n",
       "      <td>True</td>\n",
       "      <td>NaN</td>\n",
       "      <td>Southampton</td>\n",
       "      <td>no</td>\n",
       "      <td>False</td>\n",
       "    </tr>\n",
       "    <tr>\n",
       "      <th>1</th>\n",
       "      <td>1</td>\n",
       "      <td>1</td>\n",
       "      <td>female</td>\n",
       "      <td>38.0</td>\n",
       "      <td>1</td>\n",
       "      <td>0</td>\n",
       "      <td>71.2833</td>\n",
       "      <td>C</td>\n",
       "      <td>First</td>\n",
       "      <td>woman</td>\n",
       "      <td>False</td>\n",
       "      <td>C</td>\n",
       "      <td>Cherbourg</td>\n",
       "      <td>yes</td>\n",
       "      <td>False</td>\n",
       "    </tr>\n",
       "    <tr>\n",
       "      <th>2</th>\n",
       "      <td>1</td>\n",
       "      <td>3</td>\n",
       "      <td>female</td>\n",
       "      <td>26.0</td>\n",
       "      <td>0</td>\n",
       "      <td>0</td>\n",
       "      <td>7.9250</td>\n",
       "      <td>S</td>\n",
       "      <td>Third</td>\n",
       "      <td>woman</td>\n",
       "      <td>False</td>\n",
       "      <td>NaN</td>\n",
       "      <td>Southampton</td>\n",
       "      <td>yes</td>\n",
       "      <td>True</td>\n",
       "    </tr>\n",
       "    <tr>\n",
       "      <th>3</th>\n",
       "      <td>1</td>\n",
       "      <td>1</td>\n",
       "      <td>female</td>\n",
       "      <td>35.0</td>\n",
       "      <td>1</td>\n",
       "      <td>0</td>\n",
       "      <td>53.1000</td>\n",
       "      <td>S</td>\n",
       "      <td>First</td>\n",
       "      <td>woman</td>\n",
       "      <td>False</td>\n",
       "      <td>C</td>\n",
       "      <td>Southampton</td>\n",
       "      <td>yes</td>\n",
       "      <td>False</td>\n",
       "    </tr>\n",
       "    <tr>\n",
       "      <th>4</th>\n",
       "      <td>0</td>\n",
       "      <td>3</td>\n",
       "      <td>male</td>\n",
       "      <td>35.0</td>\n",
       "      <td>0</td>\n",
       "      <td>0</td>\n",
       "      <td>8.0500</td>\n",
       "      <td>S</td>\n",
       "      <td>Third</td>\n",
       "      <td>man</td>\n",
       "      <td>True</td>\n",
       "      <td>NaN</td>\n",
       "      <td>Southampton</td>\n",
       "      <td>no</td>\n",
       "      <td>True</td>\n",
       "    </tr>\n",
       "  </tbody>\n",
       "</table>\n",
       "</div>"
      ],
      "text/plain": [
       "   survived  pclass     sex   age  sibsp  parch     fare embarked  class  \\\n",
       "0         0       3    male  22.0      1      0   7.2500        S  Third   \n",
       "1         1       1  female  38.0      1      0  71.2833        C  First   \n",
       "2         1       3  female  26.0      0      0   7.9250        S  Third   \n",
       "3         1       1  female  35.0      1      0  53.1000        S  First   \n",
       "4         0       3    male  35.0      0      0   8.0500        S  Third   \n",
       "\n",
       "     who  adult_male deck  embark_town alive  alone  \n",
       "0    man        True  NaN  Southampton    no  False  \n",
       "1  woman       False    C    Cherbourg   yes  False  \n",
       "2  woman       False  NaN  Southampton   yes   True  \n",
       "3  woman       False    C  Southampton   yes  False  \n",
       "4    man        True  NaN  Southampton    no   True  "
      ]
     },
     "execution_count": 3,
     "metadata": {},
     "output_type": "execute_result"
    }
   ],
   "source": [
    "titanic.head()"
   ]
  },
  {
   "cell_type": "markdown",
   "id": "7a33e111",
   "metadata": {
    "papermill": {
     "duration": 0.045841,
     "end_time": "2022-04-30T17:46:16.905011",
     "exception": false,
     "start_time": "2022-04-30T17:46:16.859170",
     "status": "completed"
    },
    "tags": []
   },
   "source": [
    "히스토그램(histplot)"
   ]
  },
  {
   "cell_type": "code",
   "execution_count": 4,
   "id": "145c36fc",
   "metadata": {
    "execution": {
     "iopub.execute_input": "2022-04-30T17:46:16.998986Z",
     "iopub.status.busy": "2022-04-30T17:46:16.998453Z",
     "iopub.status.idle": "2022-04-30T17:46:17.327757Z",
     "shell.execute_reply": "2022-04-30T17:46:17.326807Z"
    },
    "papermill": {
     "duration": 0.379004,
     "end_time": "2022-04-30T17:46:17.330018",
     "exception": false,
     "start_time": "2022-04-30T17:46:16.951014",
     "status": "completed"
    },
    "tags": []
   },
   "outputs": [
    {
     "data": {
      "image/png": "[encoded data removed]",
      "text/plain": [
       "<Figure size 432x288 with 1 Axes>"
      ]
     },
     "metadata": {
      "needs_background": "light"
     },
     "output_type": "display_data"
    }
   ],
   "source": [
    "sns.histplot(data=titanic, x='age');"
   ]
  },
  {
   "cell_type": "code",
   "execution_count": 5,
   "id": "71a400a7",
   "metadata": {
    "execution": {
     "iopub.execute_input": "2022-04-30T17:46:17.427672Z",
     "iopub.status.busy": "2022-04-30T17:46:17.427356Z",
     "iopub.status.idle": "2022-04-30T17:46:17.704656Z",
     "shell.execute_reply": "2022-04-30T17:46:17.703807Z"
    },
    "papermill": {
     "duration": 0.328982,
     "end_time": "2022-04-30T17:46:17.706737",
     "exception": false,
     "start_time": "2022-04-30T17:46:17.377755",
     "status": "completed"
    },
    "tags": []
   },
   "outputs": [
    {
     "data": {
      "image/png": "[encoded data removed]",
      "text/plain": [
       "<Figure size 432x288 with 1 Axes>"
      ]
     },
     "metadata": {
      "needs_background": "light"
     },
     "output_type": "display_data"
    }
   ],
   "source": [
    "sns.histplot(data=titanic, x='age', bins=10);"
   ]
  },
  {
   "cell_type": "code",
   "execution_count": 6,
   "id": "27d538ac",
   "metadata": {
    "execution": {
     "iopub.execute_input": "2022-04-30T17:46:17.803665Z",
     "iopub.status.busy": "2022-04-30T17:46:17.803374Z",
     "iopub.status.idle": "2022-04-30T17:46:18.239995Z",
     "shell.execute_reply": "2022-04-30T17:46:18.239130Z"
    },
    "papermill": {
     "duration": 0.487778,
     "end_time": "2022-04-30T17:46:18.242182",
     "exception": false,
     "start_time": "2022-04-30T17:46:17.754404",
     "status": "completed"
    },
    "tags": []
   },
   "outputs": [
    {
     "data": {
      "image/png": "[encoded data removed]",
      "text/plain": [
       "<Figure size 432x288 with 1 Axes>"
      ]
     },
     "metadata": {
      "needs_background": "light"
     },
     "output_type": "display_data"
    }
   ],
   "source": [
    "sns.histplot(data=titanic, x='age', hue='alive');"
   ]
  },
  {
   "cell_type": "code",
   "execution_count": 7,
   "id": "48f8ddfe",
   "metadata": {
    "execution": {
     "iopub.execute_input": "2022-04-30T17:46:18.341867Z",
     "iopub.status.busy": "2022-04-30T17:46:18.341593Z",
     "iopub.status.idle": "2022-04-30T17:46:18.777875Z",
     "shell.execute_reply": "2022-04-30T17:46:18.776976Z"
    },
    "papermill": {
     "duration": 0.488684,
     "end_time": "2022-04-30T17:46:18.780081",
     "exception": false,
     "start_time": "2022-04-30T17:46:18.291397",
     "status": "completed"
    },
    "tags": []
   },
   "outputs": [
    {
     "data": {
      "image/png": "[encoded data removed]",
      "text/plain": [
       "<Figure size 432x288 with 1 Axes>"
      ]
     },
     "metadata": {
      "needs_background": "light"
     },
     "output_type": "display_data"
    }
   ],
   "source": [
    "sns.histplot(data=titanic, x='age', hue='alive', multiple='stack');"
   ]
  },
  {
   "cell_type": "markdown",
   "id": "2c930a12",
   "metadata": {
    "papermill": {
     "duration": 0.048845,
     "end_time": "2022-04-30T17:46:18.880060",
     "exception": false,
     "start_time": "2022-04-30T17:46:18.831215",
     "status": "completed"
    },
    "tags": []
   },
   "source": [
    "커널밀도추정 함수 그래프(kdeplot)"
   ]
  },
  {
   "cell_type": "code",
   "execution_count": 8,
   "id": "66d4de49",
   "metadata": {
    "execution": {
     "iopub.execute_input": "2022-04-30T17:46:18.980279Z",
     "iopub.status.busy": "2022-04-30T17:46:18.980009Z",
     "iopub.status.idle": "2022-04-30T17:46:19.222504Z",
     "shell.execute_reply": "2022-04-30T17:46:19.221511Z"
    },
    "papermill": {
     "duration": 0.295741,
     "end_time": "2022-04-30T17:46:19.224829",
     "exception": false,
     "start_time": "2022-04-30T17:46:18.929088",
     "status": "completed"
    },
    "tags": []
   },
   "outputs": [
    {
     "data": {
      "image/png": "[encoded data removed]",
      "text/plain": [
       "<Figure size 432x288 with 1 Axes>"
      ]
     },
     "metadata": {
      "needs_background": "light"
     },
     "output_type": "display_data"
    }
   ],
   "source": [
    "sns.kdeplot(data=titanic, x='age');"
   ]
  },
  {
   "cell_type": "code",
   "execution_count": 9,
   "id": "0d35ffd8",
   "metadata": {
    "execution": {
     "iopub.execute_input": "2022-04-30T17:46:19.327235Z",
     "iopub.status.busy": "2022-04-30T17:46:19.326966Z",
     "iopub.status.idle": "2022-04-30T17:46:19.620919Z",
     "shell.execute_reply": "2022-04-30T17:46:19.620213Z"
    },
    "papermill": {
     "duration": 0.348045,
     "end_time": "2022-04-30T17:46:19.623092",
     "exception": false,
     "start_time": "2022-04-30T17:46:19.275047",
     "status": "completed"
    },
    "tags": []
   },
   "outputs": [
    {
     "data": {
      "image/png": "[encoded data removed]",
      "text/plain": [
       "<Figure size 432x288 with 1 Axes>"
      ]
     },
     "metadata": {
      "needs_background": "light"
     },
     "output_type": "display_data"
    }
   ],
   "source": [
    "sns.kdeplot(data=titanic, x='age', hue='alive', multiple='stack');"
   ]
  },
  {
   "cell_type": "markdown",
   "id": "4a60c6cf",
   "metadata": {
    "papermill": {
     "duration": 0.051596,
     "end_time": "2022-04-30T17:46:19.726700",
     "exception": false,
     "start_time": "2022-04-30T17:46:19.675104",
     "status": "completed"
    },
    "tags": []
   },
   "source": [
    "분포도(displot)"
   ]
  },
  {
   "cell_type": "code",
   "execution_count": 10,
   "id": "3df1f868",
   "metadata": {
    "execution": {
     "iopub.execute_input": "2022-04-30T17:46:19.832083Z",
     "iopub.status.busy": "2022-04-30T17:46:19.831600Z",
     "iopub.status.idle": "2022-04-30T17:46:20.225400Z",
     "shell.execute_reply": "2022-04-30T17:46:20.224508Z"
    },
    "papermill": {
     "duration": 0.449207,
     "end_time": "2022-04-30T17:46:20.227975",
     "exception": false,
     "start_time": "2022-04-30T17:46:19.778768",
     "status": "completed"
    },
    "tags": []
   },
   "outputs": [
    {
     "data": {
      "image/png": "[encoded data removed]",
      "text/plain": [
       "<Figure size 360x360 with 1 Axes>"
      ]
     },
     "metadata": {
      "needs_background": "light"
     },
     "output_type": "display_data"
    }
   ],
   "source": [
    "sns.displot(data=titanic, x='age');"
   ]
  },
  {
   "cell_type": "code",
   "execution_count": 11,
   "id": "99dd4fdb",
   "metadata": {
    "execution": {
     "iopub.execute_input": "2022-04-30T17:46:20.334191Z",
     "iopub.status.busy": "2022-04-30T17:46:20.333905Z",
     "iopub.status.idle": "2022-04-30T17:46:20.657600Z",
     "shell.execute_reply": "2022-04-30T17:46:20.656617Z"
    },
    "papermill": {
     "duration": 0.379747,
     "end_time": "2022-04-30T17:46:20.659991",
     "exception": false,
     "start_time": "2022-04-30T17:46:20.280244",
     "status": "completed"
    },
    "tags": []
   },
   "outputs": [
    {
     "data": {
      "image/png": "[encoded data removed]",
      "text/plain": [
       "<Figure size 360x360 with 1 Axes>"
      ]
     },
     "metadata": {
      "needs_background": "light"
     },
     "output_type": "display_data"
    }
   ],
   "source": [
    "sns.displot(data=titanic, x='age', kind='kde');"
   ]
  },
  {
   "cell_type": "code",
   "execution_count": 12,
   "id": "dda42f31",
   "metadata": {
    "execution": {
     "iopub.execute_input": "2022-04-30T17:46:20.768191Z",
     "iopub.status.busy": "2022-04-30T17:46:20.767919Z",
     "iopub.status.idle": "2022-04-30T17:46:21.240512Z",
     "shell.execute_reply": "2022-04-30T17:46:21.239446Z"
    },
    "papermill": {
     "duration": 0.529659,
     "end_time": "2022-04-30T17:46:21.242965",
     "exception": false,
     "start_time": "2022-04-30T17:46:20.713306",
     "status": "completed"
    },
    "tags": []
   },
   "outputs": [
    {
     "data": {
      "image/png": "[encoded data removed]",
      "text/plain": [
       "<Figure size 360x360 with 1 Axes>"
      ]
     },
     "metadata": {
      "needs_background": "light"
     },
     "output_type": "display_data"
    }
   ],
   "source": [
    "sns.displot(data=titanic, x='age', kde=True);"
   ]
  },
  {
   "cell_type": "markdown",
   "id": "c39d099a",
   "metadata": {
    "papermill": {
     "duration": 0.053835,
     "end_time": "2022-04-30T17:46:21.351357",
     "exception": false,
     "start_time": "2022-04-30T17:46:21.297522",
     "status": "completed"
    },
    "tags": []
   },
   "source": [
    "러그플롯(rugplot)"
   ]
  },
  {
   "cell_type": "code",
   "execution_count": 13,
   "id": "cef87bc0",
   "metadata": {
    "execution": {
     "iopub.execute_input": "2022-04-30T17:46:21.461767Z",
     "iopub.status.busy": "2022-04-30T17:46:21.461478Z",
     "iopub.status.idle": "2022-04-30T17:46:21.670343Z",
     "shell.execute_reply": "2022-04-30T17:46:21.669386Z"
    },
    "papermill": {
     "duration": 0.266887,
     "end_time": "2022-04-30T17:46:21.672673",
     "exception": false,
     "start_time": "2022-04-30T17:46:21.405786",
     "status": "completed"
    },
    "tags": []
   },
   "outputs": [
    {
     "data": {
      "image/png": "[encoded data removed]",
      "text/plain": [
       "<Figure size 432x288 with 1 Axes>"
      ]
     },
     "metadata": {
      "needs_background": "light"
     },
     "output_type": "display_data"
    }
   ],
   "source": [
    "sns.kdeplot(data=titanic, x='age')\n",
    "sns.rugplot(data=titanic, x='age');"
   ]
  },
  {
   "cell_type": "markdown",
   "id": "db6e0e91",
   "metadata": {
    "papermill": {
     "duration": 0.055304,
     "end_time": "2022-04-30T17:46:21.782979",
     "exception": false,
     "start_time": "2022-04-30T17:46:21.727675",
     "status": "completed"
    },
    "tags": []
   },
   "source": [
    "범주형 데이터 시각화"
   ]
  },
  {
   "cell_type": "markdown",
   "id": "f72901ba",
   "metadata": {
    "papermill": {
     "duration": 0.054938,
     "end_time": "2022-04-30T17:46:21.893620",
     "exception": false,
     "start_time": "2022-04-30T17:46:21.838682",
     "status": "completed"
    },
    "tags": []
   },
   "source": [
    "막대그래프(barplot)"
   ]
  },
  {
   "cell_type": "code",
   "execution_count": 14,
   "id": "7b6b689b",
   "metadata": {
    "execution": {
     "iopub.execute_input": "2022-04-30T17:46:22.005567Z",
     "iopub.status.busy": "2022-04-30T17:46:22.005271Z",
     "iopub.status.idle": "2022-04-30T17:46:22.274599Z",
     "shell.execute_reply": "2022-04-30T17:46:22.273377Z"
    },
    "papermill": {
     "duration": 0.328355,
     "end_time": "2022-04-30T17:46:22.277053",
     "exception": false,
     "start_time": "2022-04-30T17:46:21.948698",
     "status": "completed"
    },
    "tags": []
   },
   "outputs": [
    {
     "data": {
      "image/png": "[encoded data removed]",
      "text/plain": [
       "<Figure size 432x288 with 1 Axes>"
      ]
     },
     "metadata": {
      "needs_background": "light"
     },
     "output_type": "display_data"
    }
   ],
   "source": [
    "sns.barplot(x='class', y='fare', data=titanic);"
   ]
  },
  {
   "cell_type": "markdown",
   "id": "24368225",
   "metadata": {
    "papermill": {
     "duration": 0.057767,
     "end_time": "2022-04-30T17:46:22.392005",
     "exception": false,
     "start_time": "2022-04-30T17:46:22.334238",
     "status": "completed"
    },
    "tags": []
   },
   "source": [
    "포인트플롯(pointplot)"
   ]
  },
  {
   "cell_type": "code",
   "execution_count": 15,
   "id": "2f90b31b",
   "metadata": {
    "execution": {
     "iopub.execute_input": "2022-04-30T17:46:22.509336Z",
     "iopub.status.busy": "2022-04-30T17:46:22.508389Z",
     "iopub.status.idle": "2022-04-30T17:46:22.838596Z",
     "shell.execute_reply": "2022-04-30T17:46:22.837483Z"
    },
    "papermill": {
     "duration": 0.391134,
     "end_time": "2022-04-30T17:46:22.840830",
     "exception": false,
     "start_time": "2022-04-30T17:46:22.449696",
     "status": "completed"
    },
    "tags": []
   },
   "outputs": [
    {
     "data": {
      "image/png": "[encoded data removed]",
      "text/plain": [
       "<Figure size 432x288 with 1 Axes>"
      ]
     },
     "metadata": {
      "needs_background": "light"
     },
     "output_type": "display_data"
    }
   ],
   "source": [
    "sns.pointplot(x='class', y='fare', data=titanic);"
   ]
  },
  {
   "cell_type": "markdown",
   "id": "469d7eac",
   "metadata": {
    "papermill": {
     "duration": 0.058404,
     "end_time": "2022-04-30T17:46:22.956521",
     "exception": false,
     "start_time": "2022-04-30T17:46:22.898117",
     "status": "completed"
    },
    "tags": []
   },
   "source": [
    "박스플롯(boxplot)"
   ]
  },
  {
   "cell_type": "code",
   "execution_count": 16,
   "id": "b27637de",
   "metadata": {
    "execution": {
     "iopub.execute_input": "2022-04-30T17:46:23.075399Z",
     "iopub.status.busy": "2022-04-30T17:46:23.075090Z",
     "iopub.status.idle": "2022-04-30T17:46:23.326428Z",
     "shell.execute_reply": "2022-04-30T17:46:23.325497Z"
    },
    "papermill": {
     "duration": 0.313752,
     "end_time": "2022-04-30T17:46:23.328562",
     "exception": false,
     "start_time": "2022-04-30T17:46:23.014810",
     "status": "completed"
    },
    "tags": []
   },
   "outputs": [
    {
     "data": {
      "image/png": "[encoded data removed]",
      "text/plain": [
       "<Figure size 432x288 with 1 Axes>"
      ]
     },
     "metadata": {
      "needs_background": "light"
     },
     "output_type": "display_data"
    }
   ],
   "source": [
    "sns.boxplot(x='class', y='age', data=titanic);"
   ]
  },
  {
   "cell_type": "markdown",
   "id": "130d87f1",
   "metadata": {
    "papermill": {
     "duration": 0.05959,
     "end_time": "2022-04-30T17:46:23.446288",
     "exception": false,
     "start_time": "2022-04-30T17:46:23.386698",
     "status": "completed"
    },
    "tags": []
   },
   "source": [
    "바이올린플롯(violinplot)"
   ]
  },
  {
   "cell_type": "code",
   "execution_count": 17,
   "id": "5b7783b9",
   "metadata": {
    "execution": {
     "iopub.execute_input": "2022-04-30T17:46:23.564894Z",
     "iopub.status.busy": "2022-04-30T17:46:23.564589Z",
     "iopub.status.idle": "2022-04-30T17:46:23.834693Z",
     "shell.execute_reply": "2022-04-30T17:46:23.833722Z"
    },
    "papermill": {
     "duration": 0.33278,
     "end_time": "2022-04-30T17:46:23.837056",
     "exception": false,
     "start_time": "2022-04-30T17:46:23.504276",
     "status": "completed"
    },
    "tags": []
   },
   "outputs": [
    {
     "data": {
      "image/png": "[encoded data removed]",
      "text/plain": [
       "<Figure size 432x288 with 1 Axes>"
      ]
     },
     "metadata": {
      "needs_background": "light"
     },
     "output_type": "display_data"
    }
   ],
   "source": [
    "sns.violinplot(x='class', y='age', data=titanic);"
   ]
  },
  {
   "cell_type": "code",
   "execution_count": 18,
   "id": "679ab9b4",
   "metadata": {
    "execution": {
     "iopub.execute_input": "2022-04-30T17:46:23.957063Z",
     "iopub.status.busy": "2022-04-30T17:46:23.956338Z",
     "iopub.status.idle": "2022-04-30T17:46:24.304379Z",
     "shell.execute_reply": "2022-04-30T17:46:24.303706Z"
    },
    "papermill": {
     "duration": 0.410388,
     "end_time": "2022-04-30T17:46:24.306446",
     "exception": false,
     "start_time": "2022-04-30T17:46:23.896058",
     "status": "completed"
    },
    "tags": []
   },
   "outputs": [
    {
     "data": {
      "image/png": "[encoded data removed]",
      "text/plain": [
       "<Figure size 432x288 with 1 Axes>"
      ]
     },
     "metadata": {
      "needs_background": "light"
     },
     "output_type": "display_data"
    }
   ],
   "source": [
    "sns.violinplot(x='class', y='age', hue='sex', data=titanic, split=True);"
   ]
  },
  {
   "cell_type": "markdown",
   "id": "93607002",
   "metadata": {
    "papermill": {
     "duration": 0.060545,
     "end_time": "2022-04-30T17:46:24.428122",
     "exception": false,
     "start_time": "2022-04-30T17:46:24.367577",
     "status": "completed"
    },
    "tags": []
   },
   "source": [
    "카운트플롯(countplot)"
   ]
  },
  {
   "cell_type": "code",
   "execution_count": 19,
   "id": "6138fc41",
   "metadata": {
    "execution": {
     "iopub.execute_input": "2022-04-30T17:46:24.550498Z",
     "iopub.status.busy": "2022-04-30T17:46:24.550194Z",
     "iopub.status.idle": "2022-04-30T17:46:24.738475Z",
     "shell.execute_reply": "2022-04-30T17:46:24.737491Z"
    },
    "papermill": {
     "duration": 0.251605,
     "end_time": "2022-04-30T17:46:24.740710",
     "exception": false,
     "start_time": "2022-04-30T17:46:24.489105",
     "status": "completed"
    },
    "tags": []
   },
   "outputs": [
    {
     "data": {
      "image/png": "[encoded data removed]",
      "text/plain": [
       "<Figure size 432x288 with 1 Axes>"
      ]
     },
     "metadata": {
      "needs_background": "light"
     },
     "output_type": "display_data"
    }
   ],
   "source": [
    "sns.countplot(x='class', data=titanic);"
   ]
  },
  {
   "cell_type": "code",
   "execution_count": 20,
   "id": "400b5a8b",
   "metadata": {
    "execution": {
     "iopub.execute_input": "2022-04-30T17:46:24.867095Z",
     "iopub.status.busy": "2022-04-30T17:46:24.866222Z",
     "iopub.status.idle": "2022-04-30T17:46:25.062625Z",
     "shell.execute_reply": "2022-04-30T17:46:25.061623Z"
    },
    "papermill": {
     "duration": 0.261975,
     "end_time": "2022-04-30T17:46:25.065065",
     "exception": false,
     "start_time": "2022-04-30T17:46:24.803090",
     "status": "completed"
    },
    "tags": []
   },
   "outputs": [
    {
     "data": {
      "image/png": "[encoded data removed]",
      "text/plain": [
       "<Figure size 432x288 with 1 Axes>"
      ]
     },
     "metadata": {
      "needs_background": "light"
     },
     "output_type": "display_data"
    }
   ],
   "source": [
    "sns.countplot(y='class', data=titanic);"
   ]
  },
  {
   "cell_type": "markdown",
   "id": "9f96939c",
   "metadata": {
    "papermill": {
     "duration": 0.063211,
     "end_time": "2022-04-30T17:46:25.191107",
     "exception": false,
     "start_time": "2022-04-30T17:46:25.127896",
     "status": "completed"
    },
    "tags": []
   },
   "source": [
    "파이 그래프(pie)"
   ]
  },
  {
   "cell_type": "code",
   "execution_count": 21,
   "id": "3b521a95",
   "metadata": {
    "execution": {
     "iopub.execute_input": "2022-04-30T17:46:25.317268Z",
     "iopub.status.busy": "2022-04-30T17:46:25.316998Z",
     "iopub.status.idle": "2022-04-30T17:46:25.429435Z",
     "shell.execute_reply": "2022-04-30T17:46:25.428299Z"
    },
    "papermill": {
     "duration": 0.177583,
     "end_time": "2022-04-30T17:46:25.431747",
     "exception": false,
     "start_time": "2022-04-30T17:46:25.254164",
     "status": "completed"
    },
    "tags": []
   },
   "outputs": [
    {
     "data": {
      "image/png": "[encoded data removed]",
      "text/plain": [
       "<Figure size 432x288 with 1 Axes>"
      ]
     },
     "metadata": {},
     "output_type": "display_data"
    }
   ],
   "source": [
    "import matplotlib.pyplot as plt\n",
    "\n",
    "x = [10, 60, 30]\n",
    "labels = ['A', 'B', 'C']\n",
    "\n",
    "plt.pie(x=x, labels=labels, autopct='%.1f%%');"
   ]
  },
  {
   "cell_type": "markdown",
   "id": "ffbc1e7b",
   "metadata": {
    "papermill": {
     "duration": 0.065403,
     "end_time": "2022-04-30T17:46:25.562910",
     "exception": false,
     "start_time": "2022-04-30T17:46:25.497507",
     "status": "completed"
    },
    "tags": []
   },
   "source": [
    "데이터 관계 시각화"
   ]
  },
  {
   "cell_type": "markdown",
   "id": "4b6a9913",
   "metadata": {
    "papermill": {
     "duration": 0.062568,
     "end_time": "2022-04-30T17:46:25.688341",
     "exception": false,
     "start_time": "2022-04-30T17:46:25.625773",
     "status": "completed"
    },
    "tags": []
   },
   "source": [
    "히트맵(heatmap)"
   ]
  },
  {
   "cell_type": "code",
   "execution_count": 22,
   "id": "8d53536c",
   "metadata": {
    "execution": {
     "iopub.execute_input": "2022-04-30T17:46:25.815590Z",
     "iopub.status.busy": "2022-04-30T17:46:25.815281Z",
     "iopub.status.idle": "2022-04-30T17:46:27.615914Z",
     "shell.execute_reply": "2022-04-30T17:46:27.615109Z"
    },
    "papermill": {
     "duration": 1.867258,
     "end_time": "2022-04-30T17:46:27.618585",
     "exception": false,
     "start_time": "2022-04-30T17:46:25.751327",
     "status": "completed"
    },
    "tags": []
   },
   "outputs": [],
   "source": [
    "import seaborn as sns\n",
    "\n",
    "flights = sns.load_dataset('flights')"
   ]
  },
  {
   "cell_type": "code",
   "execution_count": 23,
   "id": "dd64d248",
   "metadata": {
    "execution": {
     "iopub.execute_input": "2022-04-30T17:46:27.746978Z",
     "iopub.status.busy": "2022-04-30T17:46:27.746701Z",
     "iopub.status.idle": "2022-04-30T17:46:27.756882Z",
     "shell.execute_reply": "2022-04-30T17:46:27.756225Z"
    },
    "papermill": {
     "duration": 0.076426,
     "end_time": "2022-04-30T17:46:27.758761",
     "exception": false,
     "start_time": "2022-04-30T17:46:27.682335",
     "status": "completed"
    },
    "tags": []
   },
   "outputs": [
    {
     "data": {
      "text/html": [
       "<div>\n",
       "<style scoped>\n",
       "    .dataframe tbody tr th:only-of-type {\n",
       "        vertical-align: middle;\n",
       "    }\n",
       "\n",
       "    .dataframe tbody tr th {\n",
       "        vertical-align: top;\n",
       "    }\n",
       "\n",
       "    .dataframe thead th {\n",
       "        text-align: right;\n",
       "    }\n",
       "</style>\n",
       "<table border=\"1\" class=\"dataframe\">\n",
       "  <thead>\n",
       "    <tr style=\"text-align: right;\">\n",
       "      <th></th>\n",
       "      <th>year</th>\n",
       "      <th>month</th>\n",
       "      <th>passengers</th>\n",
       "    </tr>\n",
       "  </thead>\n",
       "  <tbody>\n",
       "    <tr>\n",
       "      <th>0</th>\n",
       "      <td>1949</td>\n",
       "      <td>Jan</td>\n",
       "      <td>112</td>\n",
       "    </tr>\n",
       "    <tr>\n",
       "      <th>1</th>\n",
       "      <td>1949</td>\n",
       "      <td>Feb</td>\n",
       "      <td>118</td>\n",
       "    </tr>\n",
       "    <tr>\n",
       "      <th>2</th>\n",
       "      <td>1949</td>\n",
       "      <td>Mar</td>\n",
       "      <td>132</td>\n",
       "    </tr>\n",
       "    <tr>\n",
       "      <th>3</th>\n",
       "      <td>1949</td>\n",
       "      <td>Apr</td>\n",
       "      <td>129</td>\n",
       "    </tr>\n",
       "    <tr>\n",
       "      <th>4</th>\n",
       "      <td>1949</td>\n",
       "      <td>May</td>\n",
       "      <td>121</td>\n",
       "    </tr>\n",
       "  </tbody>\n",
       "</table>\n",
       "</div>"
      ],
      "text/plain": [
       "   year month  passengers\n",
       "0  1949   Jan         112\n",
       "1  1949   Feb         118\n",
       "2  1949   Mar         132\n",
       "3  1949   Apr         129\n",
       "4  1949   May         121"
      ]
     },
     "execution_count": 23,
     "metadata": {},
     "output_type": "execute_result"
    }
   ],
   "source": [
    "flights.head()"
   ]
  },
  {
   "cell_type": "code",
   "execution_count": 24,
   "id": "b1cf0dd7",
   "metadata": {
    "execution": {
     "iopub.execute_input": "2022-04-30T17:46:27.887978Z",
     "iopub.status.busy": "2022-04-30T17:46:27.887495Z",
     "iopub.status.idle": "2022-04-30T17:46:27.908283Z",
     "shell.execute_reply": "2022-04-30T17:46:27.907621Z"
    },
    "papermill": {
     "duration": 0.087419,
     "end_time": "2022-04-30T17:46:27.910189",
     "exception": false,
     "start_time": "2022-04-30T17:46:27.822770",
     "status": "completed"
    },
    "tags": []
   },
   "outputs": [
    {
     "data": {
      "text/html": [
       "<div>\n",
       "<style scoped>\n",
       "    .dataframe tbody tr th:only-of-type {\n",
       "        vertical-align: middle;\n",
       "    }\n",
       "\n",
       "    .dataframe tbody tr th {\n",
       "        vertical-align: top;\n",
       "    }\n",
       "\n",
       "    .dataframe thead th {\n",
       "        text-align: right;\n",
       "    }\n",
       "</style>\n",
       "<table border=\"1\" class=\"dataframe\">\n",
       "  <thead>\n",
       "    <tr style=\"text-align: right;\">\n",
       "      <th>year</th>\n",
       "      <th>1949</th>\n",
       "      <th>1950</th>\n",
       "      <th>1951</th>\n",
       "      <th>1952</th>\n",
       "      <th>1953</th>\n",
       "      <th>1954</th>\n",
       "      <th>1955</th>\n",
       "      <th>1956</th>\n",
       "      <th>1957</th>\n",
       "      <th>1958</th>\n",
       "      <th>1959</th>\n",
       "      <th>1960</th>\n",
       "    </tr>\n",
       "    <tr>\n",
       "      <th>month</th>\n",
       "      <th></th>\n",
       "      <th></th>\n",
       "      <th></th>\n",
       "      <th></th>\n",
       "      <th></th>\n",
       "      <th></th>\n",
       "      <th></th>\n",
       "      <th></th>\n",
       "      <th></th>\n",
       "      <th></th>\n",
       "      <th></th>\n",
       "      <th></th>\n",
       "    </tr>\n",
       "  </thead>\n",
       "  <tbody>\n",
       "    <tr>\n",
       "      <th>Jan</th>\n",
       "      <td>112</td>\n",
       "      <td>115</td>\n",
       "      <td>145</td>\n",
       "      <td>171</td>\n",
       "      <td>196</td>\n",
       "      <td>204</td>\n",
       "      <td>242</td>\n",
       "      <td>284</td>\n",
       "      <td>315</td>\n",
       "      <td>340</td>\n",
       "      <td>360</td>\n",
       "      <td>417</td>\n",
       "    </tr>\n",
       "    <tr>\n",
       "      <th>Feb</th>\n",
       "      <td>118</td>\n",
       "      <td>126</td>\n",
       "      <td>150</td>\n",
       "      <td>180</td>\n",
       "      <td>196</td>\n",
       "      <td>188</td>\n",
       "      <td>233</td>\n",
       "      <td>277</td>\n",
       "      <td>301</td>\n",
       "      <td>318</td>\n",
       "      <td>342</td>\n",
       "      <td>391</td>\n",
       "    </tr>\n",
       "    <tr>\n",
       "      <th>Mar</th>\n",
       "      <td>132</td>\n",
       "      <td>141</td>\n",
       "      <td>178</td>\n",
       "      <td>193</td>\n",
       "      <td>236</td>\n",
       "      <td>235</td>\n",
       "      <td>267</td>\n",
       "      <td>317</td>\n",
       "      <td>356</td>\n",
       "      <td>362</td>\n",
       "      <td>406</td>\n",
       "      <td>419</td>\n",
       "    </tr>\n",
       "    <tr>\n",
       "      <th>Apr</th>\n",
       "      <td>129</td>\n",
       "      <td>135</td>\n",
       "      <td>163</td>\n",
       "      <td>181</td>\n",
       "      <td>235</td>\n",
       "      <td>227</td>\n",
       "      <td>269</td>\n",
       "      <td>313</td>\n",
       "      <td>348</td>\n",
       "      <td>348</td>\n",
       "      <td>396</td>\n",
       "      <td>461</td>\n",
       "    </tr>\n",
       "    <tr>\n",
       "      <th>May</th>\n",
       "      <td>121</td>\n",
       "      <td>125</td>\n",
       "      <td>172</td>\n",
       "      <td>183</td>\n",
       "      <td>229</td>\n",
       "      <td>234</td>\n",
       "      <td>270</td>\n",
       "      <td>318</td>\n",
       "      <td>355</td>\n",
       "      <td>363</td>\n",
       "      <td>420</td>\n",
       "      <td>472</td>\n",
       "    </tr>\n",
       "    <tr>\n",
       "      <th>Jun</th>\n",
       "      <td>135</td>\n",
       "      <td>149</td>\n",
       "      <td>178</td>\n",
       "      <td>218</td>\n",
       "      <td>243</td>\n",
       "      <td>264</td>\n",
       "      <td>315</td>\n",
       "      <td>374</td>\n",
       "      <td>422</td>\n",
       "      <td>435</td>\n",
       "      <td>472</td>\n",
       "      <td>535</td>\n",
       "    </tr>\n",
       "    <tr>\n",
       "      <th>Jul</th>\n",
       "      <td>148</td>\n",
       "      <td>170</td>\n",
       "      <td>199</td>\n",
       "      <td>230</td>\n",
       "      <td>264</td>\n",
       "      <td>302</td>\n",
       "      <td>364</td>\n",
       "      <td>413</td>\n",
       "      <td>465</td>\n",
       "      <td>491</td>\n",
       "      <td>548</td>\n",
       "      <td>622</td>\n",
       "    </tr>\n",
       "    <tr>\n",
       "      <th>Aug</th>\n",
       "      <td>148</td>\n",
       "      <td>170</td>\n",
       "      <td>199</td>\n",
       "      <td>242</td>\n",
       "      <td>272</td>\n",
       "      <td>293</td>\n",
       "      <td>347</td>\n",
       "      <td>405</td>\n",
       "      <td>467</td>\n",
       "      <td>505</td>\n",
       "      <td>559</td>\n",
       "      <td>606</td>\n",
       "    </tr>\n",
       "    <tr>\n",
       "      <th>Sep</th>\n",
       "      <td>136</td>\n",
       "      <td>158</td>\n",
       "      <td>184</td>\n",
       "      <td>209</td>\n",
       "      <td>237</td>\n",
       "      <td>259</td>\n",
       "      <td>312</td>\n",
       "      <td>355</td>\n",
       "      <td>404</td>\n",
       "      <td>404</td>\n",
       "      <td>463</td>\n",
       "      <td>508</td>\n",
       "    </tr>\n",
       "    <tr>\n",
       "      <th>Oct</th>\n",
       "      <td>119</td>\n",
       "      <td>133</td>\n",
       "      <td>162</td>\n",
       "      <td>191</td>\n",
       "      <td>211</td>\n",
       "      <td>229</td>\n",
       "      <td>274</td>\n",
       "      <td>306</td>\n",
       "      <td>347</td>\n",
       "      <td>359</td>\n",
       "      <td>407</td>\n",
       "      <td>461</td>\n",
       "    </tr>\n",
       "    <tr>\n",
       "      <th>Nov</th>\n",
       "      <td>104</td>\n",
       "      <td>114</td>\n",
       "      <td>146</td>\n",
       "      <td>172</td>\n",
       "      <td>180</td>\n",
       "      <td>203</td>\n",
       "      <td>237</td>\n",
       "      <td>271</td>\n",
       "      <td>305</td>\n",
       "      <td>310</td>\n",
       "      <td>362</td>\n",
       "      <td>390</td>\n",
       "    </tr>\n",
       "    <tr>\n",
       "      <th>Dec</th>\n",
       "      <td>118</td>\n",
       "      <td>140</td>\n",
       "      <td>166</td>\n",
       "      <td>194</td>\n",
       "      <td>201</td>\n",
       "      <td>229</td>\n",
       "      <td>278</td>\n",
       "      <td>306</td>\n",
       "      <td>336</td>\n",
       "      <td>337</td>\n",
       "      <td>405</td>\n",
       "      <td>432</td>\n",
       "    </tr>\n",
       "  </tbody>\n",
       "</table>\n",
       "</div>"
      ],
      "text/plain": [
       "year   1949  1950  1951  1952  1953  1954  1955  1956  1957  1958  1959  1960\n",
       "month                                                                        \n",
       "Jan     112   115   145   171   196   204   242   284   315   340   360   417\n",
       "Feb     118   126   150   180   196   188   233   277   301   318   342   391\n",
       "Mar     132   141   178   193   236   235   267   317   356   362   406   419\n",
       "Apr     129   135   163   181   235   227   269   313   348   348   396   461\n",
       "May     121   125   172   183   229   234   270   318   355   363   420   472\n",
       "Jun     135   149   178   218   243   264   315   374   422   435   472   535\n",
       "Jul     148   170   199   230   264   302   364   413   465   491   548   622\n",
       "Aug     148   170   199   242   272   293   347   405   467   505   559   606\n",
       "Sep     136   158   184   209   237   259   312   355   404   404   463   508\n",
       "Oct     119   133   162   191   211   229   274   306   347   359   407   461\n",
       "Nov     104   114   146   172   180   203   237   271   305   310   362   390\n",
       "Dec     118   140   166   194   201   229   278   306   336   337   405   432"
      ]
     },
     "execution_count": 24,
     "metadata": {},
     "output_type": "execute_result"
    }
   ],
   "source": [
    "flight_pivot = flights.pivot(index='month',\n",
    "                            columns='year',\n",
    "                            values='passengers')\n",
    "flight_pivot"
   ]
  },
  {
   "cell_type": "code",
   "execution_count": 25,
   "id": "e09ca891",
   "metadata": {
    "execution": {
     "iopub.execute_input": "2022-04-30T17:46:28.043571Z",
     "iopub.status.busy": "2022-04-30T17:46:28.043020Z",
     "iopub.status.idle": "2022-04-30T17:46:28.401317Z",
     "shell.execute_reply": "2022-04-30T17:46:28.400419Z"
    },
    "papermill": {
     "duration": 0.427582,
     "end_time": "2022-04-30T17:46:28.403599",
     "exception": false,
     "start_time": "2022-04-30T17:46:27.976017",
     "status": "completed"
    },
    "tags": []
   },
   "outputs": [
    {
     "data": {
      "image/png": "[encoded data removed]",
      "text/plain": [
       "<Figure size 432x288 with 2 Axes>"
      ]
     },
     "metadata": {
      "needs_background": "light"
     },
     "output_type": "display_data"
    }
   ],
   "source": [
    "sns.heatmap(data=flight_pivot);"
   ]
  },
  {
   "cell_type": "markdown",
   "id": "096a2fe2",
   "metadata": {
    "papermill": {
     "duration": 0.066011,
     "end_time": "2022-04-30T17:46:28.534814",
     "exception": false,
     "start_time": "2022-04-30T17:46:28.468803",
     "status": "completed"
    },
    "tags": []
   },
   "source": [
    "라인플롯(lineplot)"
   ]
  },
  {
   "cell_type": "code",
   "execution_count": 26,
   "id": "d49e8660",
   "metadata": {
    "execution": {
     "iopub.execute_input": "2022-04-30T17:46:28.666243Z",
     "iopub.status.busy": "2022-04-30T17:46:28.665774Z",
     "iopub.status.idle": "2022-04-30T17:46:29.313746Z",
     "shell.execute_reply": "2022-04-30T17:46:29.312789Z"
    },
    "papermill": {
     "duration": 0.716499,
     "end_time": "2022-04-30T17:46:29.315992",
     "exception": false,
     "start_time": "2022-04-30T17:46:28.599493",
     "status": "completed"
    },
    "tags": []
   },
   "outputs": [
    {
     "data": {
      "image/png": "[encoded data removed]",
      "text/plain": [
       "<Figure size 432x288 with 1 Axes>"
      ]
     },
     "metadata": {
      "needs_background": "light"
     },
     "output_type": "display_data"
    }
   ],
   "source": [
    "sns.lineplot(x='year', y='passengers', data=flights);"
   ]
  },
  {
   "cell_type": "markdown",
   "id": "8cab2bc9",
   "metadata": {
    "papermill": {
     "duration": 0.067116,
     "end_time": "2022-04-30T17:46:29.450510",
     "exception": false,
     "start_time": "2022-04-30T17:46:29.383394",
     "status": "completed"
    },
    "tags": []
   },
   "source": [
    "산점도(scatterplot)"
   ]
  },
  {
   "cell_type": "code",
   "execution_count": 27,
   "id": "92c6cf51",
   "metadata": {
    "execution": {
     "iopub.execute_input": "2022-04-30T17:46:29.586461Z",
     "iopub.status.busy": "2022-04-30T17:46:29.585993Z",
     "iopub.status.idle": "2022-04-30T17:46:31.253394Z",
     "shell.execute_reply": "2022-04-30T17:46:31.252535Z"
    },
    "papermill": {
     "duration": 1.738698,
     "end_time": "2022-04-30T17:46:31.256524",
     "exception": false,
     "start_time": "2022-04-30T17:46:29.517826",
     "status": "completed"
    },
    "tags": []
   },
   "outputs": [],
   "source": [
    "tips = sns.load_dataset('tips')"
   ]
  },
  {
   "cell_type": "code",
   "execution_count": 28,
   "id": "ffa6184c",
   "metadata": {
    "execution": {
     "iopub.execute_input": "2022-04-30T17:46:31.427279Z",
     "iopub.status.busy": "2022-04-30T17:46:31.426626Z",
     "iopub.status.idle": "2022-04-30T17:46:31.447018Z",
     "shell.execute_reply": "2022-04-30T17:46:31.445943Z"
    },
    "papermill": {
     "duration": 0.097066,
     "end_time": "2022-04-30T17:46:31.449326",
     "exception": false,
     "start_time": "2022-04-30T17:46:31.352260",
     "status": "completed"
    },
    "tags": []
   },
   "outputs": [
    {
     "data": {
      "text/html": [
       "<div>\n",
       "<style scoped>\n",
       "    .dataframe tbody tr th:only-of-type {\n",
       "        vertical-align: middle;\n",
       "    }\n",
       "\n",
       "    .dataframe tbody tr th {\n",
       "        vertical-align: top;\n",
       "    }\n",
       "\n",
       "    .dataframe thead th {\n",
       "        text-align: right;\n",
       "    }\n",
       "</style>\n",
       "<table border=\"1\" class=\"dataframe\">\n",
       "  <thead>\n",
       "    <tr style=\"text-align: right;\">\n",
       "      <th></th>\n",
       "      <th>total_bill</th>\n",
       "      <th>tip</th>\n",
       "      <th>sex</th>\n",
       "      <th>smoker</th>\n",
       "      <th>day</th>\n",
       "      <th>time</th>\n",
       "      <th>size</th>\n",
       "    </tr>\n",
       "  </thead>\n",
       "  <tbody>\n",
       "    <tr>\n",
       "      <th>0</th>\n",
       "      <td>16.99</td>\n",
       "      <td>1.01</td>\n",
       "      <td>Female</td>\n",
       "      <td>No</td>\n",
       "      <td>Sun</td>\n",
       "      <td>Dinner</td>\n",
       "      <td>2</td>\n",
       "    </tr>\n",
       "    <tr>\n",
       "      <th>1</th>\n",
       "      <td>10.34</td>\n",
       "      <td>1.66</td>\n",
       "      <td>Male</td>\n",
       "      <td>No</td>\n",
       "      <td>Sun</td>\n",
       "      <td>Dinner</td>\n",
       "      <td>3</td>\n",
       "    </tr>\n",
       "    <tr>\n",
       "      <th>2</th>\n",
       "      <td>21.01</td>\n",
       "      <td>3.50</td>\n",
       "      <td>Male</td>\n",
       "      <td>No</td>\n",
       "      <td>Sun</td>\n",
       "      <td>Dinner</td>\n",
       "      <td>3</td>\n",
       "    </tr>\n",
       "    <tr>\n",
       "      <th>3</th>\n",
       "      <td>23.68</td>\n",
       "      <td>3.31</td>\n",
       "      <td>Male</td>\n",
       "      <td>No</td>\n",
       "      <td>Sun</td>\n",
       "      <td>Dinner</td>\n",
       "      <td>2</td>\n",
       "    </tr>\n",
       "    <tr>\n",
       "      <th>4</th>\n",
       "      <td>24.59</td>\n",
       "      <td>3.61</td>\n",
       "      <td>Female</td>\n",
       "      <td>No</td>\n",
       "      <td>Sun</td>\n",
       "      <td>Dinner</td>\n",
       "      <td>4</td>\n",
       "    </tr>\n",
       "  </tbody>\n",
       "</table>\n",
       "</div>"
      ],
      "text/plain": [
       "   total_bill   tip     sex smoker  day    time  size\n",
       "0       16.99  1.01  Female     No  Sun  Dinner     2\n",
       "1       10.34  1.66    Male     No  Sun  Dinner     3\n",
       "2       21.01  3.50    Male     No  Sun  Dinner     3\n",
       "3       23.68  3.31    Male     No  Sun  Dinner     2\n",
       "4       24.59  3.61  Female     No  Sun  Dinner     4"
      ]
     },
     "execution_count": 28,
     "metadata": {},
     "output_type": "execute_result"
    }
   ],
   "source": [
    "tips.head()"
   ]
  },
  {
   "cell_type": "code",
   "execution_count": 29,
   "id": "7a4c9297",
   "metadata": {
    "execution": {
     "iopub.execute_input": "2022-04-30T17:46:31.588035Z",
     "iopub.status.busy": "2022-04-30T17:46:31.587770Z",
     "iopub.status.idle": "2022-04-30T17:46:31.819294Z",
     "shell.execute_reply": "2022-04-30T17:46:31.818218Z"
    },
    "papermill": {
     "duration": 0.303945,
     "end_time": "2022-04-30T17:46:31.821677",
     "exception": false,
     "start_time": "2022-04-30T17:46:31.517732",
     "status": "completed"
    },
    "tags": []
   },
   "outputs": [
    {
     "data": {
      "image/png": "[encoded data removed]",
      "text/plain": [
       "<Figure size 432x288 with 1 Axes>"
      ]
     },
     "metadata": {
      "needs_background": "light"
     },
     "output_type": "display_data"
    }
   ],
   "source": [
    "sns.scatterplot(x='total_bill', y='tip', data=tips);"
   ]
  },
  {
   "cell_type": "code",
   "execution_count": 30,
   "id": "c3e77bd5",
   "metadata": {
    "execution": {
     "iopub.execute_input": "2022-04-30T17:46:31.968975Z",
     "iopub.status.busy": "2022-04-30T17:46:31.968379Z",
     "iopub.status.idle": "2022-04-30T17:46:32.273909Z",
     "shell.execute_reply": "2022-04-30T17:46:32.273233Z"
    },
    "papermill": {
     "duration": 0.385356,
     "end_time": "2022-04-30T17:46:32.275940",
     "exception": false,
     "start_time": "2022-04-30T17:46:31.890584",
     "status": "completed"
    },
    "tags": []
   },
   "outputs": [
    {
     "data": {
      "image/png": "[encoded data removed]",
      "text/plain": [
       "<Figure size 432x288 with 1 Axes>"
      ]
     },
     "metadata": {
      "needs_background": "light"
     },
     "output_type": "display_data"
    }
   ],
   "source": [
    "sns.scatterplot(x='total_bill', y='tip',hue='time' ,data=tips);"
   ]
  },
  {
   "cell_type": "markdown",
   "id": "462f8ec3",
   "metadata": {
    "papermill": {
     "duration": 0.068937,
     "end_time": "2022-04-30T17:46:32.414452",
     "exception": false,
     "start_time": "2022-04-30T17:46:32.345515",
     "status": "completed"
    },
    "tags": []
   },
   "source": [
    "회귀선을 포함한 산점도 그래프(regplot)"
   ]
  },
  {
   "cell_type": "code",
   "execution_count": 31,
   "id": "67188661",
   "metadata": {
    "execution": {
     "iopub.execute_input": "2022-04-30T17:46:32.555264Z",
     "iopub.status.busy": "2022-04-30T17:46:32.554819Z",
     "iopub.status.idle": "2022-04-30T17:46:32.890668Z",
     "shell.execute_reply": "2022-04-30T17:46:32.889629Z"
    },
    "papermill": {
     "duration": 0.409294,
     "end_time": "2022-04-30T17:46:32.892985",
     "exception": false,
     "start_time": "2022-04-30T17:46:32.483691",
     "status": "completed"
    },
    "tags": []
   },
   "outputs": [
    {
     "data": {
      "image/png": "[encoded data removed]",
      "text/plain": [
       "<Figure size 432x288 with 1 Axes>"
      ]
     },
     "metadata": {
      "needs_background": "light"
     },
     "output_type": "display_data"
    }
   ],
   "source": [
    "sns.regplot(x='total_bill', y='tip', data=tips);"
   ]
  },
  {
   "cell_type": "code",
   "execution_count": 32,
   "id": "dbcd474b",
   "metadata": {
    "execution": {
     "iopub.execute_input": "2022-04-30T17:46:33.035338Z",
     "iopub.status.busy": "2022-04-30T17:46:33.034857Z",
     "iopub.status.idle": "2022-04-30T17:46:33.361715Z",
     "shell.execute_reply": "2022-04-30T17:46:33.361012Z"
    },
    "papermill": {
     "duration": 0.40043,
     "end_time": "2022-04-30T17:46:33.363660",
     "exception": false,
     "start_time": "2022-04-30T17:46:32.963230",
     "status": "completed"
    },
    "tags": []
   },
   "outputs": [
    {
     "data": {
      "image/png": "[encoded data removed]",
      "text/plain": [
       "<Figure size 432x288 with 1 Axes>"
      ]
     },
     "metadata": {
      "needs_background": "light"
     },
     "output_type": "display_data"
    }
   ],
   "source": [
    "sns.regplot(x='total_bill', y='tip', ci=99, data=tips);"
   ]
  }
 ],
 "metadata": {
  "kernelspec": {
   "display_name": "Python 3",
   "language": "python",
   "name": "python3"
  },
  "language_info": {
   "codemirror_mode": {
    "name": "ipython",
    "version": 3
   },
   "file_extension": ".py",
   "mimetype": "text/x-python",
   "name": "python",
   "nbconvert_exporter": "python",
   "pygments_lexer": "ipython3",
   "version": "3.7.12"
  },
  "papermill": {
   "default_parameters": {},
   "duration": 31.446838,
   "end_time": "2022-04-30T17:46:34.158180",
   "environment_variables": {},
   "exception": null,
   "input_path": "__notebook__.ipynb",
   "output_path": "__notebook__.ipynb",
   "parameters": {},
   "start_time": "2022-04-30T17:46:02.711342",
   "version": "2.3.4"
  }
 },
 "nbformat": 4,
 "nbformat_minor": 5
}
