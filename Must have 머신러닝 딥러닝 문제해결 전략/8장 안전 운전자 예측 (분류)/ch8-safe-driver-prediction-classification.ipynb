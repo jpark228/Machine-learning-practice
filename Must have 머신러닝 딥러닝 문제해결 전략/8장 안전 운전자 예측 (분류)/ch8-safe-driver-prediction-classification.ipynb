{
 "cells": [
  {
   "cell_type": "code",
   "execution_count": 1,
   "id": "59a27b0f",
   "metadata": {
    "_cell_guid": "b1076dfc-b9ad-4769-8c92-a6c4dae69d19",
    "_uuid": "8f2839f25d086af736a60e9eeb907d3b93b6e0e5",
    "execution": {
     "iopub.execute_input": "2022-05-05T06:40:47.007837Z",
     "iopub.status.busy": "2022-05-05T06:40:47.007245Z",
     "iopub.status.idle": "2022-05-05T06:40:47.020548Z",
     "shell.execute_reply": "2022-05-05T06:40:47.019919Z"
    },
    "papermill": {
     "duration": 0.037919,
     "end_time": "2022-05-05T06:40:47.022836",
     "exception": false,
     "start_time": "2022-05-05T06:40:46.984917",
     "status": "completed"
    },
    "tags": []
   },
   "outputs": [
    {
     "name": "stdout",
     "output_type": "stream",
     "text": [
      "/kaggle/input/porto-seguro-safe-driver-prediction/sample_submission.csv\n",
      "/kaggle/input/porto-seguro-safe-driver-prediction/train.csv\n",
      "/kaggle/input/porto-seguro-safe-driver-prediction/test.csv\n"
     ]
    }
   ],
   "source": [
    "# This Python 3 environment comes with many helpful analytics libraries installed\n",
    "# It is defined by the kaggle/python Docker image: https://github.com/kaggle/docker-python\n",
    "# For example, here's several helpful packages to load\n",
    "\n",
    "import numpy as np # linear algebra\n",
    "import pandas as pd # data processing, CSV file I/O (e.g. pd.read_csv)\n",
    "\n",
    "# Input data files are available in the read-only \"../input/\" directory\n",
    "# For example, running this (by clicking run or pressing Shift+Enter) will list all files under the input directory\n",
    "\n",
    "import os\n",
    "for dirname, _, filenames in os.walk('/kaggle/input'):\n",
    "    for filename in filenames:\n",
    "        print(os.path.join(dirname, filename))\n",
    "\n",
    "# You can write up to 20GB to the current directory (/kaggle/working/) that gets preserved as output when you create a version using \"Save & Run All\" \n",
    "# You can also write temporary files to /kaggle/temp/, but they won't be saved outside of the current session"
   ]
  },
  {
   "cell_type": "code",
   "execution_count": 2,
   "id": "91031a0b",
   "metadata": {
    "execution": {
     "iopub.execute_input": "2022-05-05T06:40:47.065742Z",
     "iopub.status.busy": "2022-05-05T06:40:47.065235Z",
     "iopub.status.idle": "2022-05-05T06:40:57.917595Z",
     "shell.execute_reply": "2022-05-05T06:40:57.916654Z"
    },
    "papermill": {
     "duration": 10.876029,
     "end_time": "2022-05-05T06:40:57.920032",
     "exception": false,
     "start_time": "2022-05-05T06:40:47.044003",
     "status": "completed"
    },
    "tags": []
   },
   "outputs": [],
   "source": [
    "import pandas as pd\n",
    "\n",
    "data_path = '/kaggle/input/porto-seguro-safe-driver-prediction/'\n",
    "\n",
    "train = pd.read_csv(data_path + 'train.csv', index_col='id')\n",
    "test = pd.read_csv(data_path + 'test.csv', index_col='id')\n",
    "submission = pd.read_csv(data_path + 'sample_submission.csv', index_col='id')"
   ]
  },
  {
   "cell_type": "markdown",
   "id": "f393de75",
   "metadata": {
    "papermill": {
     "duration": 0.019882,
     "end_time": "2022-05-05T06:40:57.960240",
     "exception": false,
     "start_time": "2022-05-05T06:40:57.940358",
     "status": "completed"
    },
    "tags": []
   },
   "source": [
    "베이스라인 모델"
   ]
  },
  {
   "cell_type": "markdown",
   "id": "4fffe2e4",
   "metadata": {
    "papermill": {
     "duration": 0.019723,
     "end_time": "2022-05-05T06:40:58.000624",
     "exception": false,
     "start_time": "2022-05-05T06:40:57.980901",
     "status": "completed"
    },
    "tags": []
   },
   "source": [
    "피처 엔지니어링"
   ]
  },
  {
   "cell_type": "code",
   "execution_count": 3,
   "id": "18d2f8ff",
   "metadata": {
    "execution": {
     "iopub.execute_input": "2022-05-05T06:40:58.042758Z",
     "iopub.status.busy": "2022-05-05T06:40:58.042444Z",
     "iopub.status.idle": "2022-05-05T06:40:59.278048Z",
     "shell.execute_reply": "2022-05-05T06:40:59.277044Z"
    },
    "papermill": {
     "duration": 1.259047,
     "end_time": "2022-05-05T06:40:59.280379",
     "exception": false,
     "start_time": "2022-05-05T06:40:58.021332",
     "status": "completed"
    },
    "tags": []
   },
   "outputs": [],
   "source": [
    "all_data = pd.concat([train, test], ignore_index=True)\n",
    "all_data = all_data.drop('target', axis=1)"
   ]
  },
  {
   "cell_type": "code",
   "execution_count": 4,
   "id": "26cd5056",
   "metadata": {
    "execution": {
     "iopub.execute_input": "2022-05-05T06:40:59.322024Z",
     "iopub.status.busy": "2022-05-05T06:40:59.321750Z",
     "iopub.status.idle": "2022-05-05T06:40:59.330227Z",
     "shell.execute_reply": "2022-05-05T06:40:59.329407Z"
    },
    "papermill": {
     "duration": 0.032137,
     "end_time": "2022-05-05T06:40:59.332551",
     "exception": false,
     "start_time": "2022-05-05T06:40:59.300414",
     "status": "completed"
    },
    "tags": []
   },
   "outputs": [
    {
     "data": {
      "text/plain": [
       "Index(['ps_ind_01', 'ps_ind_02_cat', 'ps_ind_03', 'ps_ind_04_cat',\n",
       "       'ps_ind_05_cat', 'ps_ind_06_bin', 'ps_ind_07_bin', 'ps_ind_08_bin',\n",
       "       'ps_ind_09_bin', 'ps_ind_10_bin', 'ps_ind_11_bin', 'ps_ind_12_bin',\n",
       "       'ps_ind_13_bin', 'ps_ind_14', 'ps_ind_15', 'ps_ind_16_bin',\n",
       "       'ps_ind_17_bin', 'ps_ind_18_bin', 'ps_reg_01', 'ps_reg_02', 'ps_reg_03',\n",
       "       'ps_car_01_cat', 'ps_car_02_cat', 'ps_car_03_cat', 'ps_car_04_cat',\n",
       "       'ps_car_05_cat', 'ps_car_06_cat', 'ps_car_07_cat', 'ps_car_08_cat',\n",
       "       'ps_car_09_cat', 'ps_car_10_cat', 'ps_car_11_cat', 'ps_car_11',\n",
       "       'ps_car_12', 'ps_car_13', 'ps_car_14', 'ps_car_15', 'ps_calc_01',\n",
       "       'ps_calc_02', 'ps_calc_03', 'ps_calc_04', 'ps_calc_05', 'ps_calc_06',\n",
       "       'ps_calc_07', 'ps_calc_08', 'ps_calc_09', 'ps_calc_10', 'ps_calc_11',\n",
       "       'ps_calc_12', 'ps_calc_13', 'ps_calc_14', 'ps_calc_15_bin',\n",
       "       'ps_calc_16_bin', 'ps_calc_17_bin', 'ps_calc_18_bin', 'ps_calc_19_bin',\n",
       "       'ps_calc_20_bin'],\n",
       "      dtype='object')"
      ]
     },
     "execution_count": 4,
     "metadata": {},
     "output_type": "execute_result"
    }
   ],
   "source": [
    "all_features = all_data.columns\n",
    "all_features"
   ]
  },
  {
   "cell_type": "code",
   "execution_count": 5,
   "id": "0ac07166",
   "metadata": {
    "execution": {
     "iopub.execute_input": "2022-05-05T06:40:59.377094Z",
     "iopub.status.busy": "2022-05-05T06:40:59.376785Z",
     "iopub.status.idle": "2022-05-05T06:41:02.712595Z",
     "shell.execute_reply": "2022-05-05T06:41:02.711282Z"
    },
    "papermill": {
     "duration": 3.361166,
     "end_time": "2022-05-05T06:41:02.714965",
     "exception": false,
     "start_time": "2022-05-05T06:40:59.353799",
     "status": "completed"
    },
    "tags": []
   },
   "outputs": [
    {
     "data": {
      "text/plain": [
       "<1488028x184 sparse matrix of type '<class 'numpy.float64'>'\n",
       "\twith 20832392 stored elements in Compressed Sparse Row format>"
      ]
     },
     "execution_count": 5,
     "metadata": {},
     "output_type": "execute_result"
    }
   ],
   "source": [
    "from sklearn.preprocessing import OneHotEncoder\n",
    "\n",
    "cat_features = [feature for feature in all_features if 'cat'in feature]\n",
    "onehot_encoder = OneHotEncoder()\n",
    "encoded_cat_matrix = onehot_encoder.fit_transform(all_data[cat_features])\n",
    "\n",
    "encoded_cat_matrix"
   ]
  },
  {
   "cell_type": "code",
   "execution_count": 6,
   "id": "e2789c71",
   "metadata": {
    "execution": {
     "iopub.execute_input": "2022-05-05T06:41:02.765163Z",
     "iopub.status.busy": "2022-05-05T06:41:02.764442Z",
     "iopub.status.idle": "2022-05-05T06:41:02.770956Z",
     "shell.execute_reply": "2022-05-05T06:41:02.770171Z"
    },
    "papermill": {
     "duration": 0.034493,
     "end_time": "2022-05-05T06:41:02.772849",
     "exception": false,
     "start_time": "2022-05-05T06:41:02.738356",
     "status": "completed"
    },
    "tags": []
   },
   "outputs": [],
   "source": [
    "drop_features = ['ps_ind_14', 'ps_ind_10_bin', 'ps_ind_11_bin',\n",
    "                 'ps_ind_12_bin', 'ps_ind_13_bin', 'ps_car_14']\n",
    "\n",
    "remaining_features = [feature for feature in all_features\n",
    "                      if ('cat' not in feature and\n",
    "                          'calc' not in feature and\n",
    "                          feature not in drop_features)]"
   ]
  },
  {
   "cell_type": "code",
   "execution_count": 7,
   "id": "d9797ceb",
   "metadata": {
    "execution": {
     "iopub.execute_input": "2022-05-05T06:41:02.817255Z",
     "iopub.status.busy": "2022-05-05T06:41:02.816539Z",
     "iopub.status.idle": "2022-05-05T06:41:05.074461Z",
     "shell.execute_reply": "2022-05-05T06:41:05.073653Z"
    },
    "papermill": {
     "duration": 2.283013,
     "end_time": "2022-05-05T06:41:05.077072",
     "exception": false,
     "start_time": "2022-05-05T06:41:02.794059",
     "status": "completed"
    },
    "tags": []
   },
   "outputs": [],
   "source": [
    "from scipy import sparse\n",
    "\n",
    "all_data_sprs = sparse.hstack([sparse.csr_matrix(all_data[remaining_features]),\n",
    "                               encoded_cat_matrix],\n",
    "                               format='csr')"
   ]
  },
  {
   "cell_type": "code",
   "execution_count": 8,
   "id": "b5d0990d",
   "metadata": {
    "execution": {
     "iopub.execute_input": "2022-05-05T06:41:05.120135Z",
     "iopub.status.busy": "2022-05-05T06:41:05.119853Z",
     "iopub.status.idle": "2022-05-05T06:41:05.637261Z",
     "shell.execute_reply": "2022-05-05T06:41:05.636107Z"
    },
    "papermill": {
     "duration": 0.541976,
     "end_time": "2022-05-05T06:41:05.639898",
     "exception": false,
     "start_time": "2022-05-05T06:41:05.097922",
     "status": "completed"
    },
    "tags": []
   },
   "outputs": [],
   "source": [
    "num_train = len(train)\n",
    "\n",
    "X = all_data_sprs[:num_train]\n",
    "X_test = all_data_sprs[num_train:]\n",
    "\n",
    "y = train['target'].values"
   ]
  },
  {
   "cell_type": "markdown",
   "id": "8d175983",
   "metadata": {
    "papermill": {
     "duration": 0.020653,
     "end_time": "2022-05-05T06:41:05.681410",
     "exception": false,
     "start_time": "2022-05-05T06:41:05.660757",
     "status": "completed"
    },
    "tags": []
   },
   "source": [
    "평가지표 계산 함수 작성 (정규화 지니계수)"
   ]
  },
  {
   "cell_type": "code",
   "execution_count": 9,
   "id": "9d18bde6",
   "metadata": {
    "execution": {
     "iopub.execute_input": "2022-05-05T06:41:05.726577Z",
     "iopub.status.busy": "2022-05-05T06:41:05.726303Z",
     "iopub.status.idle": "2022-05-05T06:41:05.733258Z",
     "shell.execute_reply": "2022-05-05T06:41:05.732525Z"
    },
    "papermill": {
     "duration": 0.032849,
     "end_time": "2022-05-05T06:41:05.735138",
     "exception": false,
     "start_time": "2022-05-05T06:41:05.702289",
     "status": "completed"
    },
    "tags": []
   },
   "outputs": [],
   "source": [
    "import numpy as np\n",
    "\n",
    "def eval_gini(y_true, y_pred):\n",
    "    assert y_true.shape == y_pred.shape \n",
    "    \n",
    "    n_samples = y_true.shape[0]\n",
    "    L_mid = np.linspace(1 / n_samples, 1, n_samples)\n",
    "    \n",
    "    pred_order = y_true[y_pred.argsort()]\n",
    "    L_pred = np.cumsum(pred_order) / np.sum(pred_order) \n",
    "    G_pred = np.sum(L_mid - L_pred)\n",
    "    \n",
    "    true_order = y_true[y_true.argsort()]\n",
    "    L_true = np.cumsum(true_order) / np.sum(true_order)\n",
    "    G_true = np.sum(L_mid - L_true)\n",
    "    \n",
    "    return G_pred / G_true"
   ]
  },
  {
   "cell_type": "code",
   "execution_count": 10,
   "id": "1d90d293",
   "metadata": {
    "execution": {
     "iopub.execute_input": "2022-05-05T06:41:05.779017Z",
     "iopub.status.busy": "2022-05-05T06:41:05.778315Z",
     "iopub.status.idle": "2022-05-05T06:41:05.782231Z",
     "shell.execute_reply": "2022-05-05T06:41:05.781661Z"
    },
    "papermill": {
     "duration": 0.028238,
     "end_time": "2022-05-05T06:41:05.784006",
     "exception": false,
     "start_time": "2022-05-05T06:41:05.755768",
     "status": "completed"
    },
    "tags": []
   },
   "outputs": [],
   "source": [
    "def gini(preds, dtrain):\n",
    "    labels = dtrain.get_label()\n",
    "    return 'gini', eval_gini(labels ,preds), True"
   ]
  },
  {
   "cell_type": "markdown",
   "id": "417e7288",
   "metadata": {
    "papermill": {
     "duration": 0.020294,
     "end_time": "2022-05-05T06:41:05.825012",
     "exception": false,
     "start_time": "2022-05-05T06:41:05.804718",
     "status": "completed"
    },
    "tags": []
   },
   "source": [
    "모델 훈련 및 성능 검증"
   ]
  },
  {
   "cell_type": "code",
   "execution_count": 11,
   "id": "9a8ee5bb",
   "metadata": {
    "execution": {
     "iopub.execute_input": "2022-05-05T06:41:05.869126Z",
     "iopub.status.busy": "2022-05-05T06:41:05.868653Z",
     "iopub.status.idle": "2022-05-05T06:41:05.935669Z",
     "shell.execute_reply": "2022-05-05T06:41:05.934634Z"
    },
    "papermill": {
     "duration": 0.092672,
     "end_time": "2022-05-05T06:41:05.938351",
     "exception": false,
     "start_time": "2022-05-05T06:41:05.845679",
     "status": "completed"
    },
    "tags": []
   },
   "outputs": [],
   "source": [
    "from sklearn.model_selection import StratifiedKFold \n",
    "\n",
    "folds = StratifiedKFold(n_splits=5, shuffle=True, random_state=1991)"
   ]
  },
  {
   "cell_type": "code",
   "execution_count": 12,
   "id": "84c21f93",
   "metadata": {
    "execution": {
     "iopub.execute_input": "2022-05-05T06:41:05.982314Z",
     "iopub.status.busy": "2022-05-05T06:41:05.982046Z",
     "iopub.status.idle": "2022-05-05T06:41:05.986206Z",
     "shell.execute_reply": "2022-05-05T06:41:05.985317Z"
    },
    "papermill": {
     "duration": 0.028243,
     "end_time": "2022-05-05T06:41:05.988189",
     "exception": false,
     "start_time": "2022-05-05T06:41:05.959946",
     "status": "completed"
    },
    "tags": []
   },
   "outputs": [],
   "source": [
    "params = {'objective': 'binary',\n",
    "         'learning_rate': 0.01,\n",
    "         'force_row_wise': True,\n",
    "         'random_state': 0}"
   ]
  },
  {
   "cell_type": "code",
   "execution_count": 13,
   "id": "06a43ac9",
   "metadata": {
    "execution": {
     "iopub.execute_input": "2022-05-05T06:41:06.031237Z",
     "iopub.status.busy": "2022-05-05T06:41:06.030853Z",
     "iopub.status.idle": "2022-05-05T06:41:06.036617Z",
     "shell.execute_reply": "2022-05-05T06:41:06.035795Z"
    },
    "papermill": {
     "duration": 0.03033,
     "end_time": "2022-05-05T06:41:06.039039",
     "exception": false,
     "start_time": "2022-05-05T06:41:06.008709",
     "status": "completed"
    },
    "tags": []
   },
   "outputs": [],
   "source": [
    "oof_val_preds = np.zeros(X.shape[0])\n",
    "oof_test_preds = np.zeros(X_test.shape[0])"
   ]
  },
  {
   "cell_type": "code",
   "execution_count": 14,
   "id": "bea05eb3",
   "metadata": {
    "execution": {
     "iopub.execute_input": "2022-05-05T06:41:06.082080Z",
     "iopub.status.busy": "2022-05-05T06:41:06.081790Z",
     "iopub.status.idle": "2022-05-05T06:46:18.515731Z",
     "shell.execute_reply": "2022-05-05T06:46:18.514679Z"
    },
    "papermill": {
     "duration": 312.501475,
     "end_time": "2022-05-05T06:46:18.561247",
     "exception": false,
     "start_time": "2022-05-05T06:41:06.059772",
     "status": "completed"
    },
    "tags": []
   },
   "outputs": [
    {
     "data": {
      "text/html": [
       "<style type='text/css'>\n",
       ".datatable table.frame { margin-bottom: 0; }\n",
       ".datatable table.frame thead { border-bottom: none; }\n",
       ".datatable table.frame tr.coltypes td {  color: #FFFFFF;  line-height: 6px;  padding: 0 0.5em;}\n",
       ".datatable .bool    { background: #DDDD99; }\n",
       ".datatable .object  { background: #565656; }\n",
       ".datatable .int     { background: #5D9E5D; }\n",
       ".datatable .float   { background: #4040CC; }\n",
       ".datatable .str     { background: #CC4040; }\n",
       ".datatable .time    { background: #40CC40; }\n",
       ".datatable .row_index {  background: var(--jp-border-color3);  border-right: 1px solid var(--jp-border-color0);  color: var(--jp-ui-font-color3);  font-size: 9px;}\n",
       ".datatable .frame tbody td { text-align: left; }\n",
       ".datatable .frame tr.coltypes .row_index {  background: var(--jp-border-color0);}\n",
       ".datatable th:nth-child(2) { padding-left: 12px; }\n",
       ".datatable .hellipsis {  color: var(--jp-cell-editor-border-color);}\n",
       ".datatable .vellipsis {  background: var(--jp-layout-color0);  color: var(--jp-cell-editor-border-color);}\n",
       ".datatable .na {  color: var(--jp-cell-editor-border-color);  font-size: 80%;}\n",
       ".datatable .sp {  opacity: 0.25;}\n",
       ".datatable .footer { font-size: 9px; }\n",
       ".datatable .frame_dimensions {  background: var(--jp-border-color3);  border-top: 1px solid var(--jp-border-color0);  color: var(--jp-ui-font-color3);  display: inline-block;  opacity: 0.6;  padding: 1px 10px 1px 5px;}\n",
       "</style>\n"
      ],
      "text/plain": [
       "<IPython.core.display.HTML object>"
      ]
     },
     "metadata": {},
     "output_type": "display_data"
    },
    {
     "name": "stdout",
     "output_type": "stream",
     "text": [
      "######################################## 폴드 1 / 폴드 5 ########################################\n"
     ]
    },
    {
     "name": "stderr",
     "output_type": "stream",
     "text": [
      "/opt/conda/lib/python3.7/site-packages/lightgbm/engine.py:181: UserWarning: 'early_stopping_rounds' argument is deprecated and will be removed in a future release of LightGBM. Pass 'early_stopping()' callback via 'callbacks' argument instead.\n",
      "  _log_warning(\"'early_stopping_rounds' argument is deprecated and will be removed in a future release of LightGBM. \"\n",
      "/opt/conda/lib/python3.7/site-packages/lightgbm/engine.py:239: UserWarning: 'verbose_eval' argument is deprecated and will be removed in a future release of LightGBM. Pass 'log_evaluation()' callback via 'callbacks' argument instead.\n",
      "  _log_warning(\"'verbose_eval' argument is deprecated and will be removed in a future release of LightGBM. \"\n"
     ]
    },
    {
     "name": "stdout",
     "output_type": "stream",
     "text": [
      "[LightGBM] [Info] Number of positive: 17355, number of negative: 458814\n",
      "[LightGBM] [Info] Total Bins 1095\n",
      "[LightGBM] [Info] Number of data points in the train set: 476169, number of used features: 200\n",
      "[LightGBM] [Info] [binary:BoostFromScore]: pavg=0.036447 -> initscore=-3.274764\n",
      "[LightGBM] [Info] Start training from score -3.274764\n",
      "Training until validation scores don't improve for 100 rounds\n",
      "[100]\tvalid_0's binary_logloss: 0.153354\tvalid_0's gini: 0.261651\n",
      "[200]\tvalid_0's binary_logloss: 0.152426\tvalid_0's gini: 0.275704\n",
      "[300]\tvalid_0's binary_logloss: 0.152023\tvalid_0's gini: 0.282277\n",
      "[400]\tvalid_0's binary_logloss: 0.1518\tvalid_0's gini: 0.286648\n",
      "[500]\tvalid_0's binary_logloss: 0.151713\tvalid_0's gini: 0.287944\n",
      "[600]\tvalid_0's binary_logloss: 0.151672\tvalid_0's gini: 0.288637\n",
      "[700]\tvalid_0's binary_logloss: 0.151659\tvalid_0's gini: 0.288939\n",
      "Early stopping, best iteration is:\n",
      "[681]\tvalid_0's binary_logloss: 0.151659\tvalid_0's gini: 0.289034\n",
      "폴드 1 지니계수: 0.2890336154188232\n",
      "\n",
      "######################################## 폴드 2 / 폴드 5 ########################################\n",
      "[LightGBM] [Info] Number of positive: 17355, number of negative: 458814\n",
      "[LightGBM] [Info] Total Bins 1093\n",
      "[LightGBM] [Info] Number of data points in the train set: 476169, number of used features: 200\n",
      "[LightGBM] [Info] [binary:BoostFromScore]: pavg=0.036447 -> initscore=-3.274764\n",
      "[LightGBM] [Info] Start training from score -3.274764\n",
      "Training until validation scores don't improve for 100 rounds\n",
      "[100]\tvalid_0's binary_logloss: 0.153498\tvalid_0's gini: 0.249446\n",
      "[200]\tvalid_0's binary_logloss: 0.152708\tvalid_0's gini: 0.260777\n",
      "[300]\tvalid_0's binary_logloss: 0.152397\tvalid_0's gini: 0.267104\n",
      "[400]\tvalid_0's binary_logloss: 0.152234\tvalid_0's gini: 0.271522\n",
      "[500]\tvalid_0's binary_logloss: 0.152164\tvalid_0's gini: 0.273276\n",
      "[600]\tvalid_0's binary_logloss: 0.152136\tvalid_0's gini: 0.27426\n",
      "[700]\tvalid_0's binary_logloss: 0.152125\tvalid_0's gini: 0.274337\n",
      "[800]\tvalid_0's binary_logloss: 0.152116\tvalid_0's gini: 0.274634\n",
      "[900]\tvalid_0's binary_logloss: 0.152106\tvalid_0's gini: 0.274992\n",
      "[1000]\tvalid_0's binary_logloss: 0.152104\tvalid_0's gini: 0.275078\n",
      "Did not meet early stopping. Best iteration is:\n",
      "[983]\tvalid_0's binary_logloss: 0.152101\tvalid_0's gini: 0.275121\n",
      "폴드 2 지니계수: 0.27512085497432026\n",
      "\n",
      "######################################## 폴드 3 / 폴드 5 ########################################\n",
      "[LightGBM] [Info] Number of positive: 17356, number of negative: 458814\n",
      "[LightGBM] [Info] Total Bins 1097\n",
      "[LightGBM] [Info] Number of data points in the train set: 476170, number of used features: 200\n",
      "[LightGBM] [Info] [binary:BoostFromScore]: pavg=0.036449 -> initscore=-3.274707\n",
      "[LightGBM] [Info] Start training from score -3.274707\n",
      "Training until validation scores don't improve for 100 rounds\n",
      "[100]\tvalid_0's binary_logloss: 0.153263\tvalid_0's gini: 0.261144\n",
      "[200]\tvalid_0's binary_logloss: 0.15234\tvalid_0's gini: 0.271571\n",
      "[300]\tvalid_0's binary_logloss: 0.151981\tvalid_0's gini: 0.276391\n",
      "[400]\tvalid_0's binary_logloss: 0.151818\tvalid_0's gini: 0.278667\n",
      "[500]\tvalid_0's binary_logloss: 0.151758\tvalid_0's gini: 0.279899\n",
      "[600]\tvalid_0's binary_logloss: 0.15174\tvalid_0's gini: 0.280373\n",
      "Early stopping, best iteration is:\n",
      "[560]\tvalid_0's binary_logloss: 0.151737\tvalid_0's gini: 0.280598\n",
      "폴드 3 지니계수: 0.2805977528883293\n",
      "\n",
      "######################################## 폴드 4 / 폴드 5 ########################################\n",
      "[LightGBM] [Info] Number of positive: 17355, number of negative: 458815\n",
      "[LightGBM] [Info] Total Bins 1096\n",
      "[LightGBM] [Info] Number of data points in the train set: 476170, number of used features: 200\n",
      "[LightGBM] [Info] [binary:BoostFromScore]: pavg=0.036447 -> initscore=-3.274766\n",
      "[LightGBM] [Info] Start training from score -3.274766\n",
      "Training until validation scores don't improve for 100 rounds\n",
      "[100]\tvalid_0's binary_logloss: 0.153399\tvalid_0's gini: 0.25056\n",
      "[200]\tvalid_0's binary_logloss: 0.152556\tvalid_0's gini: 0.262835\n",
      "[300]\tvalid_0's binary_logloss: 0.152258\tvalid_0's gini: 0.267038\n",
      "[400]\tvalid_0's binary_logloss: 0.152118\tvalid_0's gini: 0.269715\n",
      "[500]\tvalid_0's binary_logloss: 0.15208\tvalid_0's gini: 0.270536\n",
      "[600]\tvalid_0's binary_logloss: 0.152085\tvalid_0's gini: 0.270629\n",
      "Early stopping, best iteration is:\n",
      "[522]\tvalid_0's binary_logloss: 0.152074\tvalid_0's gini: 0.270749\n",
      "폴드 4 지니계수: 0.2707490338932929\n",
      "\n",
      "######################################## 폴드 5 / 폴드 5 ########################################\n",
      "[LightGBM] [Info] Number of positive: 17355, number of negative: 458815\n",
      "[LightGBM] [Info] Total Bins 1098\n",
      "[LightGBM] [Info] Number of data points in the train set: 476170, number of used features: 200\n",
      "[LightGBM] [Info] [binary:BoostFromScore]: pavg=0.036447 -> initscore=-3.274766\n",
      "[LightGBM] [Info] Start training from score -3.274766\n",
      "Training until validation scores don't improve for 100 rounds\n",
      "[100]\tvalid_0's binary_logloss: 0.153483\tvalid_0's gini: 0.262106\n",
      "[200]\tvalid_0's binary_logloss: 0.152646\tvalid_0's gini: 0.273406\n",
      "[300]\tvalid_0's binary_logloss: 0.152291\tvalid_0's gini: 0.279805\n",
      "[400]\tvalid_0's binary_logloss: 0.152093\tvalid_0's gini: 0.284645\n",
      "[500]\tvalid_0's binary_logloss: 0.152004\tvalid_0's gini: 0.28713\n",
      "[600]\tvalid_0's binary_logloss: 0.151982\tvalid_0's gini: 0.287668\n",
      "Early stopping, best iteration is:\n",
      "[583]\tvalid_0's binary_logloss: 0.15198\tvalid_0's gini: 0.287804\n",
      "폴드 5 지니계수: 0.2878042213842625\n",
      "\n"
     ]
    }
   ],
   "source": [
    "import lightgbm as lgb\n",
    "\n",
    "for idx, (train_idx, valid_idx) in enumerate(folds.split(X, y)):\n",
    "    print('#'*40, f'폴드 {idx+1} / 폴드 {folds.n_splits}', '#'*40)\n",
    "    \n",
    "    X_train, y_train = X[train_idx], y[train_idx]\n",
    "    X_valid, y_valid = X[valid_idx], y[valid_idx]\n",
    "    \n",
    "    dtrain = lgb.Dataset(X_train, y_train)\n",
    "    dvalid = lgb.Dataset(X_valid, y_valid)\n",
    "    \n",
    "    lgb_model = lgb.train(params=params,\n",
    "                         train_set=dtrain,\n",
    "                         num_boost_round=1000,\n",
    "                         valid_sets=dvalid,\n",
    "                         feval=gini,\n",
    "                         early_stopping_rounds=100,\n",
    "                         verbose_eval=100)\n",
    "    \n",
    "    oof_test_preds += lgb_model.predict(X_test)/folds.n_splits\n",
    "    oof_val_preds[valid_idx] += lgb_model.predict(X_valid)\n",
    "    \n",
    "    gini_score = eval_gini(y_valid, oof_val_preds[valid_idx])\n",
    "    print(f'폴드 {idx+1} 지니계수: {gini_score}\\n')"
   ]
  },
  {
   "cell_type": "code",
   "execution_count": 15,
   "id": "b3d106b1",
   "metadata": {
    "execution": {
     "iopub.execute_input": "2022-05-05T06:46:18.648448Z",
     "iopub.status.busy": "2022-05-05T06:46:18.647824Z",
     "iopub.status.idle": "2022-05-05T06:46:18.761778Z",
     "shell.execute_reply": "2022-05-05T06:46:18.760419Z"
    },
    "papermill": {
     "duration": 0.160697,
     "end_time": "2022-05-05T06:46:18.764347",
     "exception": false,
     "start_time": "2022-05-05T06:46:18.603650",
     "status": "completed"
    },
    "tags": []
   },
   "outputs": [
    {
     "name": "stdout",
     "output_type": "stream",
     "text": [
      "OOF 검증 데이터 지니계수: 0.2804995714877777\n"
     ]
    }
   ],
   "source": [
    "print('OOF 검증 데이터 지니계수:', eval_gini(y, oof_val_preds))"
   ]
  },
  {
   "cell_type": "code",
   "execution_count": 16,
   "id": "98085bfd",
   "metadata": {
    "execution": {
     "iopub.execute_input": "2022-05-05T06:46:18.853879Z",
     "iopub.status.busy": "2022-05-05T06:46:18.853134Z",
     "iopub.status.idle": "2022-05-05T06:46:22.312397Z",
     "shell.execute_reply": "2022-05-05T06:46:22.311366Z"
    },
    "papermill": {
     "duration": 3.505763,
     "end_time": "2022-05-05T06:46:22.315506",
     "exception": false,
     "start_time": "2022-05-05T06:46:18.809743",
     "status": "completed"
    },
    "tags": []
   },
   "outputs": [],
   "source": [
    "submission['target'] = oof_test_preds\n",
    "submission.to_csv('submission.csv')"
   ]
  }
 ],
 "metadata": {
  "kernelspec": {
   "display_name": "Python 3",
   "language": "python",
   "name": "python3"
  },
  "language_info": {
   "codemirror_mode": {
    "name": "ipython",
    "version": 3
   },
   "file_extension": ".py",
   "mimetype": "text/x-python",
   "name": "python",
   "nbconvert_exporter": "python",
   "pygments_lexer": "ipython3",
   "version": "3.7.12"
  },
  "papermill": {
   "default_parameters": {},
   "duration": 346.57256,
   "end_time": "2022-05-05T06:46:23.282598",
   "environment_variables": {},
   "exception": null,
   "input_path": "__notebook__.ipynb",
   "output_path": "__notebook__.ipynb",
   "parameters": {},
   "start_time": "2022-05-05T06:40:36.710038",
   "version": "2.3.4"
  }
 },
 "nbformat": 4,
 "nbformat_minor": 5
}
