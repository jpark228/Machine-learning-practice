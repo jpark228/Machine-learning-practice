{
 "cells": [
  {
   "cell_type": "code",
   "execution_count": 1,
   "id": "3955273a",
   "metadata": {
    "_cell_guid": "b1076dfc-b9ad-4769-8c92-a6c4dae69d19",
    "_uuid": "8f2839f25d086af736a60e9eeb907d3b93b6e0e5",
    "execution": {
     "iopub.execute_input": "2022-05-05T22:18:23.935461Z",
     "iopub.status.busy": "2022-05-05T22:18:23.935032Z",
     "iopub.status.idle": "2022-05-05T22:18:23.949820Z",
     "shell.execute_reply": "2022-05-05T22:18:23.948962Z"
    },
    "papermill": {
     "duration": 0.05509,
     "end_time": "2022-05-05T22:18:23.952278",
     "exception": false,
     "start_time": "2022-05-05T22:18:23.897188",
     "status": "completed"
    },
    "tags": []
   },
   "outputs": [
    {
     "name": "stdout",
     "output_type": "stream",
     "text": [
      "/kaggle/input/porto-seguro-safe-driver-prediction/sample_submission.csv\n",
      "/kaggle/input/porto-seguro-safe-driver-prediction/train.csv\n",
      "/kaggle/input/porto-seguro-safe-driver-prediction/test.csv\n"
     ]
    }
   ],
   "source": [
    "# This Python 3 environment comes with many helpful analytics libraries installed\n",
    "# It is defined by the kaggle/python Docker image: https://github.com/kaggle/docker-python\n",
    "# For example, here's several helpful packages to load\n",
    "\n",
    "import numpy as np # linear algebra\n",
    "import pandas as pd # data processing, CSV file I/O (e.g. pd.read_csv)\n",
    "\n",
    "# Input data files are available in the read-only \"../input/\" directory\n",
    "# For example, running this (by clicking run or pressing Shift+Enter) will list all files under the input directory\n",
    "\n",
    "import os\n",
    "for dirname, _, filenames in os.walk('/kaggle/input'):\n",
    "    for filename in filenames:\n",
    "        print(os.path.join(dirname, filename))\n",
    "\n",
    "# You can write up to 20GB to the current directory (/kaggle/working/) that gets preserved as output when you create a version using \"Save & Run All\" \n",
    "# You can also write temporary files to /kaggle/temp/, but they won't be saved outside of the current session"
   ]
  },
  {
   "cell_type": "markdown",
   "id": "45945616",
   "metadata": {
    "papermill": {
     "duration": 0.035569,
     "end_time": "2022-05-05T22:18:24.026591",
     "exception": false,
     "start_time": "2022-05-05T22:18:23.991022",
     "status": "completed"
    },
    "tags": []
   },
   "source": [
    "성능 개선I: LightGBM 모델"
   ]
  },
  {
   "cell_type": "code",
   "execution_count": 2,
   "id": "59726b28",
   "metadata": {
    "execution": {
     "iopub.execute_input": "2022-05-05T22:18:24.099801Z",
     "iopub.status.busy": "2022-05-05T22:18:24.099438Z",
     "iopub.status.idle": "2022-05-05T22:18:34.147977Z",
     "shell.execute_reply": "2022-05-05T22:18:34.147276Z"
    },
    "papermill": {
     "duration": 10.087767,
     "end_time": "2022-05-05T22:18:34.150453",
     "exception": false,
     "start_time": "2022-05-05T22:18:24.062686",
     "status": "completed"
    },
    "tags": []
   },
   "outputs": [],
   "source": [
    "import pandas as pd\n",
    "\n",
    "data_path = '/kaggle/input/porto-seguro-safe-driver-prediction/'\n",
    "\n",
    "train = pd.read_csv(data_path + 'train.csv', index_col='id')\n",
    "test = pd.read_csv(data_path + 'test.csv', index_col='id')\n",
    "submission = pd.read_csv(data_path + 'sample_submission.csv', index_col='id')"
   ]
  },
  {
   "cell_type": "markdown",
   "id": "705b4683",
   "metadata": {
    "papermill": {
     "duration": 0.035221,
     "end_time": "2022-05-05T22:18:34.222575",
     "exception": false,
     "start_time": "2022-05-05T22:18:34.187354",
     "status": "completed"
    },
    "tags": []
   },
   "source": [
    "피처 엔지니어링"
   ]
  },
  {
   "cell_type": "code",
   "execution_count": 3,
   "id": "ca240549",
   "metadata": {
    "execution": {
     "iopub.execute_input": "2022-05-05T22:18:34.294197Z",
     "iopub.status.busy": "2022-05-05T22:18:34.293972Z",
     "iopub.status.idle": "2022-05-05T22:18:35.327569Z",
     "shell.execute_reply": "2022-05-05T22:18:35.326759Z"
    },
    "papermill": {
     "duration": 1.071772,
     "end_time": "2022-05-05T22:18:35.329826",
     "exception": false,
     "start_time": "2022-05-05T22:18:34.258054",
     "status": "completed"
    },
    "tags": []
   },
   "outputs": [],
   "source": [
    "all_data = pd.concat([train, test], ignore_index=True)\n",
    "all_data = all_data.drop('target', axis=1)\n",
    "\n",
    "all_features = all_data.columns"
   ]
  },
  {
   "cell_type": "code",
   "execution_count": 4,
   "id": "ab667ab5",
   "metadata": {
    "execution": {
     "iopub.execute_input": "2022-05-05T22:18:35.406426Z",
     "iopub.status.busy": "2022-05-05T22:18:35.406197Z",
     "iopub.status.idle": "2022-05-05T22:18:38.332762Z",
     "shell.execute_reply": "2022-05-05T22:18:38.332034Z"
    },
    "papermill": {
     "duration": 2.968826,
     "end_time": "2022-05-05T22:18:38.335274",
     "exception": false,
     "start_time": "2022-05-05T22:18:35.366448",
     "status": "completed"
    },
    "tags": []
   },
   "outputs": [],
   "source": [
    "from sklearn.preprocessing import OneHotEncoder\n",
    "\n",
    "cat_features = [feature for feature in all_features if 'cat'in feature]\n",
    "\n",
    "onehot_encoder = OneHotEncoder()\n",
    "encoded_cat_matrix = onehot_encoder.fit_transform(all_data[cat_features])"
   ]
  },
  {
   "cell_type": "code",
   "execution_count": 5,
   "id": "5c080710",
   "metadata": {
    "execution": {
     "iopub.execute_input": "2022-05-05T22:18:38.408380Z",
     "iopub.status.busy": "2022-05-05T22:18:38.408152Z",
     "iopub.status.idle": "2022-05-05T22:18:38.632434Z",
     "shell.execute_reply": "2022-05-05T22:18:38.631678Z"
    },
    "papermill": {
     "duration": 0.263669,
     "end_time": "2022-05-05T22:18:38.634984",
     "exception": false,
     "start_time": "2022-05-05T22:18:38.371315",
     "status": "completed"
    },
    "tags": []
   },
   "outputs": [],
   "source": [
    "all_data['num_missing'] = (all_data==-1).sum(axis=1)"
   ]
  },
  {
   "cell_type": "code",
   "execution_count": 6,
   "id": "ce75cd90",
   "metadata": {
    "execution": {
     "iopub.execute_input": "2022-05-05T22:18:38.707908Z",
     "iopub.status.busy": "2022-05-05T22:18:38.707685Z",
     "iopub.status.idle": "2022-05-05T22:18:38.711909Z",
     "shell.execute_reply": "2022-05-05T22:18:38.711021Z"
    },
    "papermill": {
     "duration": 0.043018,
     "end_time": "2022-05-05T22:18:38.713863",
     "exception": false,
     "start_time": "2022-05-05T22:18:38.670845",
     "status": "completed"
    },
    "tags": []
   },
   "outputs": [],
   "source": [
    "remaining_features = [feature for feature in all_features\n",
    "                      if ('cat' not in feature and 'calc' not in feature)]\n",
    "\n",
    "remaining_features.append('num_missing')"
   ]
  },
  {
   "cell_type": "code",
   "execution_count": 7,
   "id": "6a5f5697",
   "metadata": {
    "execution": {
     "iopub.execute_input": "2022-05-05T22:18:38.786185Z",
     "iopub.status.busy": "2022-05-05T22:18:38.785646Z",
     "iopub.status.idle": "2022-05-05T22:19:11.890944Z",
     "shell.execute_reply": "2022-05-05T22:19:11.890182Z"
    },
    "papermill": {
     "duration": 33.143694,
     "end_time": "2022-05-05T22:19:11.893152",
     "exception": false,
     "start_time": "2022-05-05T22:18:38.749458",
     "status": "completed"
    },
    "tags": []
   },
   "outputs": [],
   "source": [
    "ind_features = [feature for feature in all_features if 'ind' in feature]\n",
    "\n",
    "is_first_feature = True\n",
    "for ind_feature in ind_features:\n",
    "    if is_first_feature:\n",
    "        all_data['mix_ind'] = all_data[ind_feature].astype(str) + '_'\n",
    "        is_first_feature = False\n",
    "    else:\n",
    "        all_data['mix_ind'] += all_data[ind_feature].astype(str) + '_'"
   ]
  },
  {
   "cell_type": "code",
   "execution_count": 8,
   "id": "79b983c8",
   "metadata": {
    "execution": {
     "iopub.execute_input": "2022-05-05T22:19:11.968974Z",
     "iopub.status.busy": "2022-05-05T22:19:11.968749Z",
     "iopub.status.idle": "2022-05-05T22:19:11.978257Z",
     "shell.execute_reply": "2022-05-05T22:19:11.977435Z"
    },
    "papermill": {
     "duration": 0.050469,
     "end_time": "2022-05-05T22:19:11.981551",
     "exception": false,
     "start_time": "2022-05-05T22:19:11.931082",
     "status": "completed"
    },
    "tags": []
   },
   "outputs": [
    {
     "data": {
      "text/plain": [
       "0          2_2_5_1_0_0_1_0_0_0_0_0_0_0_11_0_1_0_\n",
       "1           1_1_7_0_0_0_0_1_0_0_0_0_0_0_3_0_0_1_\n",
       "2          5_4_9_1_0_0_0_1_0_0_0_0_0_0_12_1_0_0_\n",
       "3           0_1_2_0_0_1_0_0_0_0_0_0_0_0_8_1_0_0_\n",
       "4           0_2_0_1_0_1_0_0_0_0_0_0_0_0_9_1_0_0_\n",
       "                           ...                  \n",
       "1488023     0_1_6_0_0_0_1_0_0_0_0_0_0_0_2_0_0_1_\n",
       "1488024    5_3_5_1_0_0_0_1_0_0_0_0_0_0_11_1_0_0_\n",
       "1488025     0_1_5_0_0_1_0_0_0_0_0_0_0_0_5_0_0_1_\n",
       "1488026    6_1_5_1_0_0_0_0_1_0_0_0_0_0_13_1_0_0_\n",
       "1488027    7_1_4_1_0_0_0_0_1_0_0_0_0_0_12_1_0_0_\n",
       "Name: mix_ind, Length: 1488028, dtype: object"
      ]
     },
     "execution_count": 8,
     "metadata": {},
     "output_type": "execute_result"
    }
   ],
   "source": [
    "all_data['mix_ind']"
   ]
  },
  {
   "cell_type": "code",
   "execution_count": 9,
   "id": "08e00b96",
   "metadata": {
    "execution": {
     "iopub.execute_input": "2022-05-05T22:19:12.055584Z",
     "iopub.status.busy": "2022-05-05T22:19:12.055336Z",
     "iopub.status.idle": "2022-05-05T22:19:12.069663Z",
     "shell.execute_reply": "2022-05-05T22:19:12.068900Z"
    },
    "papermill": {
     "duration": 0.053438,
     "end_time": "2022-05-05T22:19:12.071467",
     "exception": false,
     "start_time": "2022-05-05T22:19:12.018029",
     "status": "completed"
    },
    "tags": []
   },
   "outputs": [
    {
     "data": {
      "text/plain": [
       " 1    1079327\n",
       " 2     309747\n",
       " 3      70172\n",
       " 4      28259\n",
       "-1        523\n",
       "Name: ps_ind_02_cat, dtype: int64"
      ]
     },
     "execution_count": 9,
     "metadata": {},
     "output_type": "execute_result"
    }
   ],
   "source": [
    "all_data['ps_ind_02_cat'].value_counts()"
   ]
  },
  {
   "cell_type": "code",
   "execution_count": 10,
   "id": "e619f449",
   "metadata": {
    "execution": {
     "iopub.execute_input": "2022-05-05T22:19:12.146010Z",
     "iopub.status.busy": "2022-05-05T22:19:12.145797Z",
     "iopub.status.idle": "2022-05-05T22:19:12.158535Z",
     "shell.execute_reply": "2022-05-05T22:19:12.157786Z"
    },
    "papermill": {
     "duration": 0.053047,
     "end_time": "2022-05-05T22:19:12.161168",
     "exception": false,
     "start_time": "2022-05-05T22:19:12.108121",
     "status": "completed"
    },
    "tags": []
   },
   "outputs": [
    {
     "data": {
      "text/plain": [
       "{1: 1079327, 2: 309747, 3: 70172, 4: 28259, -1: 523}"
      ]
     },
     "execution_count": 10,
     "metadata": {},
     "output_type": "execute_result"
    }
   ],
   "source": [
    "all_data['ps_ind_02_cat'].value_counts().to_dict()"
   ]
  },
  {
   "cell_type": "code",
   "execution_count": 11,
   "id": "e7bea220",
   "metadata": {
    "execution": {
     "iopub.execute_input": "2022-05-05T22:19:12.236079Z",
     "iopub.status.busy": "2022-05-05T22:19:12.235877Z",
     "iopub.status.idle": "2022-05-05T22:19:24.570872Z",
     "shell.execute_reply": "2022-05-05T22:19:24.570133Z"
    },
    "papermill": {
     "duration": 12.374309,
     "end_time": "2022-05-05T22:19:24.572946",
     "exception": false,
     "start_time": "2022-05-05T22:19:12.198637",
     "status": "completed"
    },
    "tags": []
   },
   "outputs": [],
   "source": [
    "cat_count_features = []\n",
    "for feature in cat_features+['mix_ind']:\n",
    "    val_counts_dict = all_data[feature].value_counts().to_dict()\n",
    "    all_data[f'{feature}_count'] = all_data[feature].apply(lambda x: val_counts_dict[x])\n",
    "    cat_count_features.append(f'{feature}_count')"
   ]
  },
  {
   "cell_type": "code",
   "execution_count": 12,
   "id": "308e5e6a",
   "metadata": {
    "execution": {
     "iopub.execute_input": "2022-05-05T22:19:24.648591Z",
     "iopub.status.busy": "2022-05-05T22:19:24.648014Z",
     "iopub.status.idle": "2022-05-05T22:19:29.259296Z",
     "shell.execute_reply": "2022-05-05T22:19:29.258543Z"
    },
    "papermill": {
     "duration": 4.651824,
     "end_time": "2022-05-05T22:19:29.261418",
     "exception": false,
     "start_time": "2022-05-05T22:19:24.609594",
     "status": "completed"
    },
    "tags": []
   },
   "outputs": [],
   "source": [
    "from scipy import sparse \n",
    "\n",
    "drop_features = ['ps_ind_14', 'ps_ind_10_bin', 'ps_ind_11_bin',\n",
    "                 'ps_ind_12_bin', 'ps_ind_13_bin', 'ps_car_14']\n",
    "\n",
    "all_data_remaining = all_data[remaining_features + cat_count_features].drop(drop_features,axis=1)\n",
    "\n",
    "all_data_sprs = sparse.hstack([sparse.csr_matrix(all_data_remaining),\n",
    "                               encoded_cat_matrix],\n",
    "                               format='csr')"
   ]
  },
  {
   "cell_type": "code",
   "execution_count": 13,
   "id": "c534e9b7",
   "metadata": {
    "execution": {
     "iopub.execute_input": "2022-05-05T22:19:29.335962Z",
     "iopub.status.busy": "2022-05-05T22:19:29.335745Z",
     "iopub.status.idle": "2022-05-05T22:19:30.184228Z",
     "shell.execute_reply": "2022-05-05T22:19:30.183526Z"
    },
    "papermill": {
     "duration": 0.888573,
     "end_time": "2022-05-05T22:19:30.186625",
     "exception": false,
     "start_time": "2022-05-05T22:19:29.298052",
     "status": "completed"
    },
    "tags": []
   },
   "outputs": [],
   "source": [
    "num_train = len(train)\n",
    "\n",
    "X = all_data_sprs[:num_train]\n",
    "X_test = all_data_sprs[num_train:]\n",
    "\n",
    "y = train['target'].values"
   ]
  },
  {
   "cell_type": "markdown",
   "id": "2e79bdde",
   "metadata": {
    "papermill": {
     "duration": 0.036612,
     "end_time": "2022-05-05T22:19:30.262076",
     "exception": false,
     "start_time": "2022-05-05T22:19:30.225464",
     "status": "completed"
    },
    "tags": []
   },
   "source": [
    "정규화 지니함수 계산"
   ]
  },
  {
   "cell_type": "code",
   "execution_count": 14,
   "id": "a48e0455",
   "metadata": {
    "execution": {
     "iopub.execute_input": "2022-05-05T22:19:30.335442Z",
     "iopub.status.busy": "2022-05-05T22:19:30.335201Z",
     "iopub.status.idle": "2022-05-05T22:19:30.340952Z",
     "shell.execute_reply": "2022-05-05T22:19:30.340288Z"
    },
    "papermill": {
     "duration": 0.04412,
     "end_time": "2022-05-05T22:19:30.342546",
     "exception": false,
     "start_time": "2022-05-05T22:19:30.298426",
     "status": "completed"
    },
    "tags": []
   },
   "outputs": [],
   "source": [
    "import numpy as np\n",
    "\n",
    "def eval_gini(y_true, y_pred):\n",
    "    assert y_true.shape == y_pred.shape\n",
    "\n",
    "    n_samples = y_true.shape[0]                      \n",
    "    L_mid = np.linspace(1 / n_samples, 1, n_samples) \n",
    "\n",
    "    pred_order = y_true[y_pred.argsort()] \n",
    "    L_pred = np.cumsum(pred_order) / np.sum(pred_order) \n",
    "    G_pred = np.sum(L_mid - L_pred)       \n",
    "\n",
    "    true_order = y_true[y_true.argsort()] \n",
    "    L_true = np.cumsum(true_order) / np.sum(true_order) \n",
    "    G_true = np.sum(L_mid - L_true)       \n",
    "    return G_pred / G_true"
   ]
  },
  {
   "cell_type": "code",
   "execution_count": 15,
   "id": "c73abd80",
   "metadata": {
    "execution": {
     "iopub.execute_input": "2022-05-05T22:19:30.420112Z",
     "iopub.status.busy": "2022-05-05T22:19:30.419575Z",
     "iopub.status.idle": "2022-05-05T22:19:30.423555Z",
     "shell.execute_reply": "2022-05-05T22:19:30.422891Z"
    },
    "papermill": {
     "duration": 0.043342,
     "end_time": "2022-05-05T22:19:30.425159",
     "exception": false,
     "start_time": "2022-05-05T22:19:30.381817",
     "status": "completed"
    },
    "tags": []
   },
   "outputs": [],
   "source": [
    "def gini(preds, dtrain):\n",
    "    labels = dtrain.get_label()\n",
    "    return 'gini', eval_gini(labels, preds), True "
   ]
  },
  {
   "cell_type": "markdown",
   "id": "3e14b9e6",
   "metadata": {
    "papermill": {
     "duration": 0.036208,
     "end_time": "2022-05-05T22:19:30.498773",
     "exception": false,
     "start_time": "2022-05-05T22:19:30.462565",
     "status": "completed"
    },
    "tags": []
   },
   "source": [
    "하이퍼파라미터 최적화"
   ]
  },
  {
   "cell_type": "code",
   "execution_count": 16,
   "id": "a4ef1617",
   "metadata": {
    "execution": {
     "iopub.execute_input": "2022-05-05T22:19:30.573670Z",
     "iopub.status.busy": "2022-05-05T22:19:30.573033Z",
     "iopub.status.idle": "2022-05-05T22:19:33.359974Z",
     "shell.execute_reply": "2022-05-05T22:19:33.359180Z"
    },
    "papermill": {
     "duration": 2.826191,
     "end_time": "2022-05-05T22:19:33.362056",
     "exception": false,
     "start_time": "2022-05-05T22:19:30.535865",
     "status": "completed"
    },
    "tags": []
   },
   "outputs": [
    {
     "data": {
      "text/html": [
       "<style type='text/css'>\n",
       ".datatable table.frame { margin-bottom: 0; }\n",
       ".datatable table.frame thead { border-bottom: none; }\n",
       ".datatable table.frame tr.coltypes td {  color: #FFFFFF;  line-height: 6px;  padding: 0 0.5em;}\n",
       ".datatable .bool    { background: #DDDD99; }\n",
       ".datatable .object  { background: #565656; }\n",
       ".datatable .int     { background: #5D9E5D; }\n",
       ".datatable .float   { background: #4040CC; }\n",
       ".datatable .str     { background: #CC4040; }\n",
       ".datatable .time    { background: #40CC40; }\n",
       ".datatable .row_index {  background: var(--jp-border-color3);  border-right: 1px solid var(--jp-border-color0);  color: var(--jp-ui-font-color3);  font-size: 9px;}\n",
       ".datatable .frame tbody td { text-align: left; }\n",
       ".datatable .frame tr.coltypes .row_index {  background: var(--jp-border-color0);}\n",
       ".datatable th:nth-child(2) { padding-left: 12px; }\n",
       ".datatable .hellipsis {  color: var(--jp-cell-editor-border-color);}\n",
       ".datatable .vellipsis {  background: var(--jp-layout-color0);  color: var(--jp-cell-editor-border-color);}\n",
       ".datatable .na {  color: var(--jp-cell-editor-border-color);  font-size: 80%;}\n",
       ".datatable .sp {  opacity: 0.25;}\n",
       ".datatable .footer { font-size: 9px; }\n",
       ".datatable .frame_dimensions {  background: var(--jp-border-color3);  border-top: 1px solid var(--jp-border-color0);  color: var(--jp-ui-font-color3);  display: inline-block;  opacity: 0.6;  padding: 1px 10px 1px 5px;}\n",
       "</style>\n"
      ],
      "text/plain": [
       "<IPython.core.display.HTML object>"
      ]
     },
     "metadata": {},
     "output_type": "display_data"
    }
   ],
   "source": [
    "import lightgbm as lgb\n",
    "from sklearn.model_selection import train_test_split\n",
    "\n",
    "X_train, X_valid, y_train, y_valid = train_test_split(X, y, \n",
    "                                                      test_size=0.2, \n",
    "                                                      random_state=0)\n",
    "\n",
    "bayes_dtrain = lgb.Dataset(X_train, y_train)\n",
    "bayes_dvalid = lgb.Dataset(X_valid, y_valid)"
   ]
  },
  {
   "cell_type": "code",
   "execution_count": 17,
   "id": "710f9a9f",
   "metadata": {
    "execution": {
     "iopub.execute_input": "2022-05-05T22:19:33.450271Z",
     "iopub.status.busy": "2022-05-05T22:19:33.450033Z",
     "iopub.status.idle": "2022-05-05T22:19:33.455634Z",
     "shell.execute_reply": "2022-05-05T22:19:33.454909Z"
    },
    "papermill": {
     "duration": 0.046415,
     "end_time": "2022-05-05T22:19:33.457310",
     "exception": false,
     "start_time": "2022-05-05T22:19:33.410895",
     "status": "completed"
    },
    "tags": []
   },
   "outputs": [],
   "source": [
    "param_bounds = {'num_leaves': (30, 40),\n",
    "                'lambda_l1': (0.7, 0.9),\n",
    "                'lambda_l2': (0.9, 1),\n",
    "                'feature_fraction': (0.6, 0.7),\n",
    "                'bagging_fraction': (0.6, 0.9),\n",
    "                'min_child_samples': (6, 10),\n",
    "                'min_child_weight': (10, 40)}\n",
    "\n",
    "fixed_params = {'objective': 'binary',\n",
    "                'learning_rate': 0.005,\n",
    "                'bagging_freq': 1,\n",
    "                'force_row_wise': True,\n",
    "                'random_state': 1991}"
   ]
  },
  {
   "cell_type": "code",
   "execution_count": 18,
   "id": "9bfb1ee3",
   "metadata": {
    "execution": {
     "iopub.execute_input": "2022-05-05T22:19:33.533311Z",
     "iopub.status.busy": "2022-05-05T22:19:33.533109Z",
     "iopub.status.idle": "2022-05-05T22:19:33.539705Z",
     "shell.execute_reply": "2022-05-05T22:19:33.538989Z"
    },
    "papermill": {
     "duration": 0.046684,
     "end_time": "2022-05-05T22:19:33.541286",
     "exception": false,
     "start_time": "2022-05-05T22:19:33.494602",
     "status": "completed"
    },
    "tags": []
   },
   "outputs": [],
   "source": [
    "def eval_function(num_leaves, lambda_l1, lambda_l2, feature_fraction,\n",
    "                  bagging_fraction, min_child_samples, min_child_weight):\n",
    "\n",
    "    params = {'num_leaves': int(round(num_leaves)),\n",
    "              'lambda_l1': lambda_l1,\n",
    "              'lambda_l2': lambda_l2,\n",
    "              'feature_fraction': feature_fraction,\n",
    "              'bagging_fraction': bagging_fraction,\n",
    "              'min_child_samples': int(round(min_child_samples)),\n",
    "              'min_child_weight': min_child_weight,\n",
    "              'feature_pre_filter': False}\n",
    "\n",
    "    params.update(fixed_params)\n",
    "    \n",
    "    print('하이퍼파라미터:', params)    \n",
    "    \n",
    "    lgb_model = lgb.train(params=params, \n",
    "                           train_set=bayes_dtrain,\n",
    "                           num_boost_round=2500,\n",
    "                           valid_sets=bayes_dvalid,\n",
    "                           feval=gini,\n",
    "                           early_stopping_rounds=300,\n",
    "                           verbose_eval=False)\n",
    "\n",
    "    preds = lgb_model.predict(X_valid) \n",
    "\n",
    "    gini_score = eval_gini(y_valid, preds)\n",
    "    print(f'지니계수 : {gini_score}\\n')\n",
    "    \n",
    "    return gini_score"
   ]
  },
  {
   "cell_type": "code",
   "execution_count": 19,
   "id": "a6d29685",
   "metadata": {
    "execution": {
     "iopub.execute_input": "2022-05-05T22:19:33.617620Z",
     "iopub.status.busy": "2022-05-05T22:19:33.617428Z",
     "iopub.status.idle": "2022-05-05T22:19:33.637682Z",
     "shell.execute_reply": "2022-05-05T22:19:33.637070Z"
    },
    "papermill": {
     "duration": 0.060919,
     "end_time": "2022-05-05T22:19:33.639304",
     "exception": false,
     "start_time": "2022-05-05T22:19:33.578385",
     "status": "completed"
    },
    "tags": []
   },
   "outputs": [],
   "source": [
    "from bayes_opt import BayesianOptimization\n",
    "\n",
    "optimizer = BayesianOptimization(f=eval_function,      \n",
    "                                 pbounds=param_bounds, \n",
    "                                 random_state=0)"
   ]
  },
  {
   "cell_type": "code",
   "execution_count": 20,
   "id": "7b77cbbe",
   "metadata": {
    "execution": {
     "iopub.execute_input": "2022-05-05T22:19:33.713813Z",
     "iopub.status.busy": "2022-05-05T22:19:33.713618Z",
     "iopub.status.idle": "2022-05-05T22:58:09.672809Z",
     "shell.execute_reply": "2022-05-05T22:58:09.672030Z"
    },
    "papermill": {
     "duration": 2316.046123,
     "end_time": "2022-05-05T22:58:09.721791",
     "exception": false,
     "start_time": "2022-05-05T22:19:33.675668",
     "status": "completed"
    },
    "tags": []
   },
   "outputs": [
    {
     "name": "stdout",
     "output_type": "stream",
     "text": [
      "|   iter    |  target   | baggin... | featur... | lambda_l1 | lambda_l2 | min_ch... | min_ch... | num_le... |\n",
      "-------------------------------------------------------------------------------------------------------------\n",
      "하이퍼파라미터: {'num_leaves': 34, 'lambda_l1': 0.8205526752143287, 'lambda_l2': 0.9544883182996897, 'feature_fraction': 0.6715189366372419, 'bagging_fraction': 0.7646440511781974, 'min_child_samples': 8, 'min_child_weight': 29.376823391999682, 'feature_pre_filter': False, 'objective': 'binary', 'learning_rate': 0.005, 'bagging_freq': 1, 'force_row_wise': True, 'random_state': 1991}\n"
     ]
    },
    {
     "name": "stderr",
     "output_type": "stream",
     "text": [
      "/opt/conda/lib/python3.7/site-packages/lightgbm/engine.py:181: UserWarning: 'early_stopping_rounds' argument is deprecated and will be removed in a future release of LightGBM. Pass 'early_stopping()' callback via 'callbacks' argument instead.\n",
      "  _log_warning(\"'early_stopping_rounds' argument is deprecated and will be removed in a future release of LightGBM. \"\n",
      "/opt/conda/lib/python3.7/site-packages/lightgbm/engine.py:239: UserWarning: 'verbose_eval' argument is deprecated and will be removed in a future release of LightGBM. Pass 'log_evaluation()' callback via 'callbacks' argument instead.\n",
      "  _log_warning(\"'verbose_eval' argument is deprecated and will be removed in a future release of LightGBM. \"\n"
     ]
    },
    {
     "name": "stdout",
     "output_type": "stream",
     "text": [
      "[LightGBM] [Info] Number of positive: 17383, number of negative: 458786\n",
      "[LightGBM] [Info] Total Bins 1555\n",
      "[LightGBM] [Info] Number of data points in the train set: 476169, number of used features: 217\n",
      "[LightGBM] [Info] [binary:BoostFromScore]: pavg=0.036506 -> initscore=-3.273091\n",
      "[LightGBM] [Info] Start training from score -3.273091\n",
      "지니계수 : 0.2855811556220905\n",
      "\n",
      "| \u001b[0m 1       \u001b[0m | \u001b[0m 0.2856  \u001b[0m | \u001b[0m 0.7646  \u001b[0m | \u001b[0m 0.6715  \u001b[0m | \u001b[0m 0.8206  \u001b[0m | \u001b[0m 0.9545  \u001b[0m | \u001b[0m 7.695   \u001b[0m | \u001b[0m 29.38   \u001b[0m | \u001b[0m 34.38   \u001b[0m |\n",
      "하이퍼파라미터: {'num_leaves': 39, 'lambda_l1': 0.7766883037651555, 'lambda_l2': 0.9791725038082665, 'feature_fraction': 0.6963662760501029, 'bagging_fraction': 0.867531900234624, 'min_child_samples': 8, 'min_child_weight': 27.04133683281797, 'feature_pre_filter': False, 'objective': 'binary', 'learning_rate': 0.005, 'bagging_freq': 1, 'force_row_wise': True, 'random_state': 1991}\n",
      "[LightGBM] [Info] Number of positive: 17383, number of negative: 458786\n",
      "[LightGBM] [Info] Total Bins 1555\n",
      "[LightGBM] [Info] Number of data points in the train set: 476169, number of used features: 217\n",
      "[LightGBM] [Info] [binary:BoostFromScore]: pavg=0.036506 -> initscore=-3.273091\n",
      "[LightGBM] [Info] Start training from score -3.273091\n",
      "지니계수 : 0.2837380537005777\n",
      "\n",
      "| \u001b[0m 2       \u001b[0m | \u001b[0m 0.2837  \u001b[0m | \u001b[0m 0.8675  \u001b[0m | \u001b[0m 0.6964  \u001b[0m | \u001b[0m 0.7767  \u001b[0m | \u001b[0m 0.9792  \u001b[0m | \u001b[0m 8.116   \u001b[0m | \u001b[0m 27.04   \u001b[0m | \u001b[0m 39.26   \u001b[0m |\n",
      "하이퍼파라미터: {'num_leaves': 40, 'lambda_l1': 0.7040436794880651, 'lambda_l2': 0.9832619845547939, 'feature_fraction': 0.608712929970154, 'bagging_fraction': 0.6213108174593661, 'min_child_samples': 9, 'min_child_weight': 36.10036444740457, 'feature_pre_filter': False, 'objective': 'binary', 'learning_rate': 0.005, 'bagging_freq': 1, 'force_row_wise': True, 'random_state': 1991}\n",
      "[LightGBM] [Info] Number of positive: 17383, number of negative: 458786\n",
      "[LightGBM] [Info] Total Bins 1555\n",
      "[LightGBM] [Info] Number of data points in the train set: 476169, number of used features: 217\n",
      "[LightGBM] [Info] [binary:BoostFromScore]: pavg=0.036506 -> initscore=-3.273091\n",
      "[LightGBM] [Info] Start training from score -3.273091\n",
      "지니계수 : 0.2857848354322048\n",
      "\n",
      "| \u001b[95m 3       \u001b[0m | \u001b[95m 0.2858  \u001b[0m | \u001b[95m 0.6213  \u001b[0m | \u001b[95m 0.6087  \u001b[0m | \u001b[95m 0.704   \u001b[0m | \u001b[95m 0.9833  \u001b[0m | \u001b[95m 9.113   \u001b[0m | \u001b[95m 36.1    \u001b[0m | \u001b[95m 39.79   \u001b[0m |\n",
      "하이퍼파라미터: {'num_leaves': 30, 'lambda_l1': 0.8444997594874222, 'lambda_l2': 0.9234023852202012, 'feature_fraction': 0.6593983245038058, 'bagging_fraction': 0.8977977822397395, 'min_child_samples': 9, 'min_child_weight': 10.549362495448534, 'feature_pre_filter': False, 'objective': 'binary', 'learning_rate': 0.005, 'bagging_freq': 1, 'force_row_wise': True, 'random_state': 1991}\n",
      "[LightGBM] [Info] Number of positive: 17383, number of negative: 458786\n"
     ]
    },
    {
     "name": "stderr",
     "output_type": "stream",
     "text": [
      "/opt/conda/lib/python3.7/site-packages/lightgbm/engine.py:181: UserWarning: 'early_stopping_rounds' argument is deprecated and will be removed in a future release of LightGBM. Pass 'early_stopping()' callback via 'callbacks' argument instead.\n",
      "  _log_warning(\"'early_stopping_rounds' argument is deprecated and will be removed in a future release of LightGBM. \"\n",
      "/opt/conda/lib/python3.7/site-packages/lightgbm/engine.py:239: UserWarning: 'verbose_eval' argument is deprecated and will be removed in a future release of LightGBM. Pass 'log_evaluation()' callback via 'callbacks' argument instead.\n",
      "  _log_warning(\"'verbose_eval' argument is deprecated and will be removed in a future release of LightGBM. \"\n"
     ]
    },
    {
     "name": "stdout",
     "output_type": "stream",
     "text": [
      "[LightGBM] [Info] Total Bins 1555\n",
      "[LightGBM] [Info] Number of data points in the train set: 476169, number of used features: 217\n",
      "[LightGBM] [Info] [binary:BoostFromScore]: pavg=0.036506 -> initscore=-3.273091\n",
      "[LightGBM] [Info] Start training from score -3.273091\n",
      "지니계수 : 0.2828993761731121\n",
      "\n",
      "| \u001b[0m 4       \u001b[0m | \u001b[0m 0.2829  \u001b[0m | \u001b[0m 0.8978  \u001b[0m | \u001b[0m 0.6594  \u001b[0m | \u001b[0m 0.8445  \u001b[0m | \u001b[0m 0.9234  \u001b[0m | \u001b[0m 8.619   \u001b[0m | \u001b[0m 10.55   \u001b[0m | \u001b[0m 30.09   \u001b[0m |\n",
      "하이퍼파라미터: {'num_leaves': 37, 'lambda_l1': 0.7738449330497988, 'lambda_l2': 0.9032695189818599, 'feature_fraction': 0.6606341064409726, 'bagging_fraction': 0.7666713964943057, 'min_child_samples': 9, 'min_child_weight': 29.306172421380474, 'feature_pre_filter': False, 'objective': 'binary', 'learning_rate': 0.005, 'bagging_freq': 1, 'force_row_wise': True, 'random_state': 1991}\n",
      "[LightGBM] [Info] Number of positive: 17383, number of negative: 458786\n"
     ]
    },
    {
     "name": "stderr",
     "output_type": "stream",
     "text": [
      "/opt/conda/lib/python3.7/site-packages/lightgbm/engine.py:181: UserWarning: 'early_stopping_rounds' argument is deprecated and will be removed in a future release of LightGBM. Pass 'early_stopping()' callback via 'callbacks' argument instead.\n",
      "  _log_warning(\"'early_stopping_rounds' argument is deprecated and will be removed in a future release of LightGBM. \"\n",
      "/opt/conda/lib/python3.7/site-packages/lightgbm/engine.py:239: UserWarning: 'verbose_eval' argument is deprecated and will be removed in a future release of LightGBM. Pass 'log_evaluation()' callback via 'callbacks' argument instead.\n",
      "  _log_warning(\"'verbose_eval' argument is deprecated and will be removed in a future release of LightGBM. \"\n"
     ]
    },
    {
     "name": "stdout",
     "output_type": "stream",
     "text": [
      "[LightGBM] [Info] Total Bins 1555\n",
      "[LightGBM] [Info] Number of data points in the train set: 476169, number of used features: 217\n",
      "[LightGBM] [Info] [binary:BoostFromScore]: pavg=0.036506 -> initscore=-3.273091\n",
      "[LightGBM] [Info] Start training from score -3.273091\n",
      "지니계수 : 0.28513273331754563\n",
      "\n",
      "| \u001b[0m 5       \u001b[0m | \u001b[0m 0.2851  \u001b[0m | \u001b[0m 0.7667  \u001b[0m | \u001b[0m 0.6606  \u001b[0m | \u001b[0m 0.7738  \u001b[0m | \u001b[0m 0.9033  \u001b[0m | \u001b[0m 8.769   \u001b[0m | \u001b[0m 29.31   \u001b[0m | \u001b[0m 36.6    \u001b[0m |\n",
      "하이퍼파라미터: {'num_leaves': 33, 'lambda_l1': 0.819075407014291, 'lambda_l2': 0.9, 'feature_fraction': 0.6, 'bagging_fraction': 0.6, 'min_child_samples': 10, 'min_child_weight': 35.796102395489704, 'feature_pre_filter': False, 'objective': 'binary', 'learning_rate': 0.005, 'bagging_freq': 1, 'force_row_wise': True, 'random_state': 1991}\n",
      "[LightGBM] [Info] Number of positive: 17383, number of negative: 458786\n"
     ]
    },
    {
     "name": "stderr",
     "output_type": "stream",
     "text": [
      "/opt/conda/lib/python3.7/site-packages/lightgbm/engine.py:181: UserWarning: 'early_stopping_rounds' argument is deprecated and will be removed in a future release of LightGBM. Pass 'early_stopping()' callback via 'callbacks' argument instead.\n",
      "  _log_warning(\"'early_stopping_rounds' argument is deprecated and will be removed in a future release of LightGBM. \"\n",
      "/opt/conda/lib/python3.7/site-packages/lightgbm/engine.py:239: UserWarning: 'verbose_eval' argument is deprecated and will be removed in a future release of LightGBM. Pass 'log_evaluation()' callback via 'callbacks' argument instead.\n",
      "  _log_warning(\"'verbose_eval' argument is deprecated and will be removed in a future release of LightGBM. \"\n"
     ]
    },
    {
     "name": "stdout",
     "output_type": "stream",
     "text": [
      "[LightGBM] [Info] Total Bins 1555\n",
      "[LightGBM] [Info] Number of data points in the train set: 476169, number of used features: 217\n",
      "[LightGBM] [Info] [binary:BoostFromScore]: pavg=0.036506 -> initscore=-3.273091\n",
      "[LightGBM] [Info] Start training from score -3.273091\n",
      "지니계수 : 0.2848859528523719\n",
      "\n",
      "| \u001b[0m 6       \u001b[0m | \u001b[0m 0.2849  \u001b[0m | \u001b[0m 0.6     \u001b[0m | \u001b[0m 0.6     \u001b[0m | \u001b[0m 0.8191  \u001b[0m | \u001b[0m 0.9     \u001b[0m | \u001b[0m 9.966   \u001b[0m | \u001b[0m 35.8    \u001b[0m | \u001b[0m 32.59   \u001b[0m |\n",
      "하이퍼파라미터: {'num_leaves': 37, 'lambda_l1': 0.9, 'lambda_l2': 0.9, 'feature_fraction': 0.7, 'bagging_fraction': 0.9, 'min_child_samples': 6, 'min_child_weight': 34.29008052673895, 'feature_pre_filter': False, 'objective': 'binary', 'learning_rate': 0.005, 'bagging_freq': 1, 'force_row_wise': True, 'random_state': 1991}\n",
      "[LightGBM] [Info] Number of positive: 17383, number of negative: 458786\n"
     ]
    },
    {
     "name": "stderr",
     "output_type": "stream",
     "text": [
      "/opt/conda/lib/python3.7/site-packages/lightgbm/engine.py:181: UserWarning: 'early_stopping_rounds' argument is deprecated and will be removed in a future release of LightGBM. Pass 'early_stopping()' callback via 'callbacks' argument instead.\n",
      "  _log_warning(\"'early_stopping_rounds' argument is deprecated and will be removed in a future release of LightGBM. \"\n",
      "/opt/conda/lib/python3.7/site-packages/lightgbm/engine.py:239: UserWarning: 'verbose_eval' argument is deprecated and will be removed in a future release of LightGBM. Pass 'log_evaluation()' callback via 'callbacks' argument instead.\n",
      "  _log_warning(\"'verbose_eval' argument is deprecated and will be removed in a future release of LightGBM. \"\n"
     ]
    },
    {
     "name": "stdout",
     "output_type": "stream",
     "text": [
      "[LightGBM] [Info] Total Bins 1555\n",
      "[LightGBM] [Info] Number of data points in the train set: 476169, number of used features: 217\n",
      "[LightGBM] [Info] [binary:BoostFromScore]: pavg=0.036506 -> initscore=-3.273091\n",
      "[LightGBM] [Info] Start training from score -3.273091\n",
      "지니계수 : 0.2840752367687318\n",
      "\n",
      "| \u001b[0m 7       \u001b[0m | \u001b[0m 0.2841  \u001b[0m | \u001b[0m 0.9     \u001b[0m | \u001b[0m 0.7     \u001b[0m | \u001b[0m 0.9     \u001b[0m | \u001b[0m 0.9     \u001b[0m | \u001b[0m 6.0     \u001b[0m | \u001b[0m 34.29   \u001b[0m | \u001b[0m 36.57   \u001b[0m |\n",
      "하이퍼파라미터: {'num_leaves': 40, 'lambda_l1': 0.7, 'lambda_l2': 1.0, 'feature_fraction': 0.6, 'bagging_fraction': 0.6, 'min_child_samples': 10, 'min_child_weight': 38.052962839387966, 'feature_pre_filter': False, 'objective': 'binary', 'learning_rate': 0.005, 'bagging_freq': 1, 'force_row_wise': True, 'random_state': 1991}\n",
      "[LightGBM] [Info] Number of positive: 17383, number of negative: 458786\n"
     ]
    },
    {
     "name": "stderr",
     "output_type": "stream",
     "text": [
      "/opt/conda/lib/python3.7/site-packages/lightgbm/engine.py:181: UserWarning: 'early_stopping_rounds' argument is deprecated and will be removed in a future release of LightGBM. Pass 'early_stopping()' callback via 'callbacks' argument instead.\n",
      "  _log_warning(\"'early_stopping_rounds' argument is deprecated and will be removed in a future release of LightGBM. \"\n",
      "/opt/conda/lib/python3.7/site-packages/lightgbm/engine.py:239: UserWarning: 'verbose_eval' argument is deprecated and will be removed in a future release of LightGBM. Pass 'log_evaluation()' callback via 'callbacks' argument instead.\n",
      "  _log_warning(\"'verbose_eval' argument is deprecated and will be removed in a future release of LightGBM. \"\n"
     ]
    },
    {
     "name": "stdout",
     "output_type": "stream",
     "text": [
      "[LightGBM] [Info] Total Bins 1555\n",
      "[LightGBM] [Info] Number of data points in the train set: 476169, number of used features: 217\n",
      "[LightGBM] [Info] [binary:BoostFromScore]: pavg=0.036506 -> initscore=-3.273091\n",
      "[LightGBM] [Info] Start training from score -3.273091\n",
      "지니계수 : 0.2848417240349366\n",
      "\n",
      "| \u001b[0m 8       \u001b[0m | \u001b[0m 0.2848  \u001b[0m | \u001b[0m 0.6     \u001b[0m | \u001b[0m 0.6     \u001b[0m | \u001b[0m 0.7     \u001b[0m | \u001b[0m 1.0     \u001b[0m | \u001b[0m 10.0    \u001b[0m | \u001b[0m 38.05   \u001b[0m | \u001b[0m 40.0    \u001b[0m |\n",
      "하이퍼파라미터: {'num_leaves': 40, 'lambda_l1': 0.7, 'lambda_l2': 0.9987851260550581, 'feature_fraction': 0.6, 'bagging_fraction': 0.6, 'min_child_samples': 10, 'min_child_weight': 34.36647979245139, 'feature_pre_filter': False, 'objective': 'binary', 'learning_rate': 0.005, 'bagging_freq': 1, 'force_row_wise': True, 'random_state': 1991}\n",
      "[LightGBM] [Info] Number of positive: 17383, number of negative: 458786\n"
     ]
    },
    {
     "name": "stderr",
     "output_type": "stream",
     "text": [
      "/opt/conda/lib/python3.7/site-packages/lightgbm/engine.py:181: UserWarning: 'early_stopping_rounds' argument is deprecated and will be removed in a future release of LightGBM. Pass 'early_stopping()' callback via 'callbacks' argument instead.\n",
      "  _log_warning(\"'early_stopping_rounds' argument is deprecated and will be removed in a future release of LightGBM. \"\n",
      "/opt/conda/lib/python3.7/site-packages/lightgbm/engine.py:239: UserWarning: 'verbose_eval' argument is deprecated and will be removed in a future release of LightGBM. Pass 'log_evaluation()' callback via 'callbacks' argument instead.\n",
      "  _log_warning(\"'verbose_eval' argument is deprecated and will be removed in a future release of LightGBM. \"\n"
     ]
    },
    {
     "name": "stdout",
     "output_type": "stream",
     "text": [
      "[LightGBM] [Info] Total Bins 1555\n",
      "[LightGBM] [Info] Number of data points in the train set: 476169, number of used features: 217\n",
      "[LightGBM] [Info] [binary:BoostFromScore]: pavg=0.036506 -> initscore=-3.273091\n",
      "[LightGBM] [Info] Start training from score -3.273091\n",
      "지니계수 : 0.2849940178684585\n",
      "\n",
      "| \u001b[0m 9       \u001b[0m | \u001b[0m 0.285   \u001b[0m | \u001b[0m 0.6     \u001b[0m | \u001b[0m 0.6     \u001b[0m | \u001b[0m 0.7     \u001b[0m | \u001b[0m 0.9988  \u001b[0m | \u001b[0m 10.0    \u001b[0m | \u001b[0m 34.37   \u001b[0m | \u001b[0m 39.87   \u001b[0m |\n",
      "=============================================================================================================\n"
     ]
    }
   ],
   "source": [
    "optimizer.maximize(init_points=3, n_iter=6)"
   ]
  },
  {
   "cell_type": "code",
   "execution_count": 21,
   "id": "d3920e06",
   "metadata": {
    "execution": {
     "iopub.execute_input": "2022-05-05T22:58:09.815590Z",
     "iopub.status.busy": "2022-05-05T22:58:09.815340Z",
     "iopub.status.idle": "2022-05-05T22:58:09.821005Z",
     "shell.execute_reply": "2022-05-05T22:58:09.820343Z"
    },
    "papermill": {
     "duration": 0.054468,
     "end_time": "2022-05-05T22:58:09.822719",
     "exception": false,
     "start_time": "2022-05-05T22:58:09.768251",
     "status": "completed"
    },
    "tags": []
   },
   "outputs": [
    {
     "data": {
      "text/plain": [
       "{'bagging_fraction': 0.6213108174593661,\n",
       " 'feature_fraction': 0.608712929970154,\n",
       " 'lambda_l1': 0.7040436794880651,\n",
       " 'lambda_l2': 0.9832619845547939,\n",
       " 'min_child_samples': 9.112627003799401,\n",
       " 'min_child_weight': 36.10036444740457,\n",
       " 'num_leaves': 39.78618342232764}"
      ]
     },
     "execution_count": 21,
     "metadata": {},
     "output_type": "execute_result"
    }
   ],
   "source": [
    "max_params = optimizer.max['params']\n",
    "max_params"
   ]
  },
  {
   "cell_type": "code",
   "execution_count": 22,
   "id": "fbdcd30b",
   "metadata": {
    "execution": {
     "iopub.execute_input": "2022-05-05T22:58:09.935613Z",
     "iopub.status.busy": "2022-05-05T22:58:09.934696Z",
     "iopub.status.idle": "2022-05-05T22:58:09.940099Z",
     "shell.execute_reply": "2022-05-05T22:58:09.939375Z"
    },
    "papermill": {
     "duration": 0.074511,
     "end_time": "2022-05-05T22:58:09.943239",
     "exception": false,
     "start_time": "2022-05-05T22:58:09.868728",
     "status": "completed"
    },
    "tags": []
   },
   "outputs": [],
   "source": [
    "max_params['num_leaves'] = int(round(max_params['num_leaves']))\n",
    "max_params['min_child_samples'] = int(round(max_params['min_child_samples']))"
   ]
  },
  {
   "cell_type": "code",
   "execution_count": 23,
   "id": "d389e4e7",
   "metadata": {
    "execution": {
     "iopub.execute_input": "2022-05-05T22:58:10.097033Z",
     "iopub.status.busy": "2022-05-05T22:58:10.096171Z",
     "iopub.status.idle": "2022-05-05T22:58:10.100268Z",
     "shell.execute_reply": "2022-05-05T22:58:10.099635Z"
    },
    "papermill": {
     "duration": 0.081705,
     "end_time": "2022-05-05T22:58:10.104118",
     "exception": false,
     "start_time": "2022-05-05T22:58:10.022413",
     "status": "completed"
    },
    "tags": []
   },
   "outputs": [],
   "source": [
    "max_params.update(fixed_params)"
   ]
  },
  {
   "cell_type": "code",
   "execution_count": 24,
   "id": "4fa0d44f",
   "metadata": {
    "execution": {
     "iopub.execute_input": "2022-05-05T22:58:10.274762Z",
     "iopub.status.busy": "2022-05-05T22:58:10.274467Z",
     "iopub.status.idle": "2022-05-05T22:58:10.280807Z",
     "shell.execute_reply": "2022-05-05T22:58:10.280177Z"
    },
    "papermill": {
     "duration": 0.091444,
     "end_time": "2022-05-05T22:58:10.286085",
     "exception": false,
     "start_time": "2022-05-05T22:58:10.194641",
     "status": "completed"
    },
    "tags": []
   },
   "outputs": [
    {
     "data": {
      "text/plain": [
       "{'bagging_fraction': 0.6213108174593661,\n",
       " 'feature_fraction': 0.608712929970154,\n",
       " 'lambda_l1': 0.7040436794880651,\n",
       " 'lambda_l2': 0.9832619845547939,\n",
       " 'min_child_samples': 9,\n",
       " 'min_child_weight': 36.10036444740457,\n",
       " 'num_leaves': 40,\n",
       " 'objective': 'binary',\n",
       " 'learning_rate': 0.005,\n",
       " 'bagging_freq': 1,\n",
       " 'force_row_wise': True,\n",
       " 'random_state': 1991}"
      ]
     },
     "execution_count": 24,
     "metadata": {},
     "output_type": "execute_result"
    }
   ],
   "source": [
    "max_params"
   ]
  },
  {
   "cell_type": "markdown",
   "id": "aa39b26f",
   "metadata": {
    "papermill": {
     "duration": 0.074222,
     "end_time": "2022-05-05T22:58:10.435915",
     "exception": false,
     "start_time": "2022-05-05T22:58:10.361693",
     "status": "completed"
    },
    "tags": []
   },
   "source": [
    "모델 훈련 및 성능 검증"
   ]
  },
  {
   "cell_type": "code",
   "execution_count": 25,
   "id": "dcf04799",
   "metadata": {
    "execution": {
     "iopub.execute_input": "2022-05-05T22:58:10.597444Z",
     "iopub.status.busy": "2022-05-05T22:58:10.597089Z",
     "iopub.status.idle": "2022-05-05T23:32:08.243727Z",
     "shell.execute_reply": "2022-05-05T23:32:08.243026Z"
    },
    "papermill": {
     "duration": 2037.814924,
     "end_time": "2022-05-05T23:32:08.334255",
     "exception": false,
     "start_time": "2022-05-05T22:58:10.519331",
     "status": "completed"
    },
    "tags": []
   },
   "outputs": [
    {
     "name": "stdout",
     "output_type": "stream",
     "text": [
      "######################################## 폴드 1 / 폴드 5 ########################################\n"
     ]
    },
    {
     "name": "stderr",
     "output_type": "stream",
     "text": [
      "/opt/conda/lib/python3.7/site-packages/lightgbm/engine.py:181: UserWarning: 'early_stopping_rounds' argument is deprecated and will be removed in a future release of LightGBM. Pass 'early_stopping()' callback via 'callbacks' argument instead.\n",
      "  _log_warning(\"'early_stopping_rounds' argument is deprecated and will be removed in a future release of LightGBM. \"\n",
      "/opt/conda/lib/python3.7/site-packages/lightgbm/engine.py:239: UserWarning: 'verbose_eval' argument is deprecated and will be removed in a future release of LightGBM. Pass 'log_evaluation()' callback via 'callbacks' argument instead.\n",
      "  _log_warning(\"'verbose_eval' argument is deprecated and will be removed in a future release of LightGBM. \"\n"
     ]
    },
    {
     "name": "stdout",
     "output_type": "stream",
     "text": [
      "[LightGBM] [Info] Number of positive: 17355, number of negative: 458814\n",
      "[LightGBM] [Info] Total Bins 1554\n",
      "[LightGBM] [Info] Number of data points in the train set: 476169, number of used features: 216\n",
      "[LightGBM] [Info] [binary:BoostFromScore]: pavg=0.036447 -> initscore=-3.274764\n",
      "[LightGBM] [Info] Start training from score -3.274764\n",
      "Training until validation scores don't improve for 300 rounds\n",
      "[100]\tvalid_0's binary_logloss: 0.154239\tvalid_0's gini: 0.270944\n",
      "[200]\tvalid_0's binary_logloss: 0.153176\tvalid_0's gini: 0.275764\n",
      "[300]\tvalid_0's binary_logloss: 0.152584\tvalid_0's gini: 0.279501\n",
      "[400]\tvalid_0's binary_logloss: 0.152222\tvalid_0's gini: 0.282893\n",
      "[500]\tvalid_0's binary_logloss: 0.151986\tvalid_0's gini: 0.286058\n",
      "[600]\tvalid_0's binary_logloss: 0.151824\tvalid_0's gini: 0.288805\n",
      "[700]\tvalid_0's binary_logloss: 0.151712\tvalid_0's gini: 0.290719\n",
      "[800]\tvalid_0's binary_logloss: 0.151622\tvalid_0's gini: 0.292581\n",
      "[900]\tvalid_0's binary_logloss: 0.151552\tvalid_0's gini: 0.294212\n",
      "[1000]\tvalid_0's binary_logloss: 0.151505\tvalid_0's gini: 0.295204\n",
      "[1100]\tvalid_0's binary_logloss: 0.151471\tvalid_0's gini: 0.295909\n",
      "[1200]\tvalid_0's binary_logloss: 0.151438\tvalid_0's gini: 0.296721\n",
      "[1300]\tvalid_0's binary_logloss: 0.151414\tvalid_0's gini: 0.297335\n",
      "[1400]\tvalid_0's binary_logloss: 0.151402\tvalid_0's gini: 0.297569\n",
      "[1500]\tvalid_0's binary_logloss: 0.15139\tvalid_0's gini: 0.297881\n",
      "[1600]\tvalid_0's binary_logloss: 0.151382\tvalid_0's gini: 0.298033\n",
      "[1700]\tvalid_0's binary_logloss: 0.151376\tvalid_0's gini: 0.298238\n",
      "[1800]\tvalid_0's binary_logloss: 0.151372\tvalid_0's gini: 0.298342\n",
      "[1900]\tvalid_0's binary_logloss: 0.151369\tvalid_0's gini: 0.298371\n",
      "[2000]\tvalid_0's binary_logloss: 0.151371\tvalid_0's gini: 0.298222\n",
      "[2100]\tvalid_0's binary_logloss: 0.151362\tvalid_0's gini: 0.298463\n",
      "[2200]\tvalid_0's binary_logloss: 0.151359\tvalid_0's gini: 0.298466\n",
      "[2300]\tvalid_0's binary_logloss: 0.151362\tvalid_0's gini: 0.298415\n",
      "[2400]\tvalid_0's binary_logloss: 0.151359\tvalid_0's gini: 0.298569\n",
      "[2500]\tvalid_0's binary_logloss: 0.151361\tvalid_0's gini: 0.298542\n",
      "Did not meet early stopping. Best iteration is:\n",
      "[2458]\tvalid_0's binary_logloss: 0.151355\tvalid_0's gini: 0.29865\n",
      "폴드 1 지니계수: 0.2986504843987991\n",
      "\n",
      "######################################## 폴드 2 / 폴드 5 ########################################\n",
      "[LightGBM] [Info] Number of positive: 17355, number of negative: 458814\n",
      "[LightGBM] [Info] Total Bins 1560\n",
      "[LightGBM] [Info] Number of data points in the train set: 476169, number of used features: 216\n",
      "[LightGBM] [Info] [binary:BoostFromScore]: pavg=0.036447 -> initscore=-3.274764\n",
      "[LightGBM] [Info] Start training from score -3.274764\n",
      "Training until validation scores don't improve for 300 rounds\n",
      "[100]\tvalid_0's binary_logloss: 0.154347\tvalid_0's gini: 0.258575\n",
      "[200]\tvalid_0's binary_logloss: 0.153338\tvalid_0's gini: 0.263768\n",
      "[300]\tvalid_0's binary_logloss: 0.152804\tvalid_0's gini: 0.267635\n",
      "[400]\tvalid_0's binary_logloss: 0.152483\tvalid_0's gini: 0.271009\n",
      "[500]\tvalid_0's binary_logloss: 0.152299\tvalid_0's gini: 0.27324\n",
      "[600]\tvalid_0's binary_logloss: 0.152157\tvalid_0's gini: 0.275756\n",
      "[700]\tvalid_0's binary_logloss: 0.15206\tvalid_0's gini: 0.277655\n",
      "[800]\tvalid_0's binary_logloss: 0.151986\tvalid_0's gini: 0.279371\n",
      "[900]\tvalid_0's binary_logloss: 0.151942\tvalid_0's gini: 0.280359\n",
      "[1000]\tvalid_0's binary_logloss: 0.151898\tvalid_0's gini: 0.281475\n",
      "[1100]\tvalid_0's binary_logloss: 0.15186\tvalid_0's gini: 0.282482\n",
      "[1200]\tvalid_0's binary_logloss: 0.151835\tvalid_0's gini: 0.283198\n",
      "[1300]\tvalid_0's binary_logloss: 0.15181\tvalid_0's gini: 0.283848\n",
      "[1400]\tvalid_0's binary_logloss: 0.151796\tvalid_0's gini: 0.284221\n",
      "[1500]\tvalid_0's binary_logloss: 0.151781\tvalid_0's gini: 0.284645\n",
      "[1600]\tvalid_0's binary_logloss: 0.15177\tvalid_0's gini: 0.284943\n",
      "[1700]\tvalid_0's binary_logloss: 0.151761\tvalid_0's gini: 0.285129\n",
      "[1800]\tvalid_0's binary_logloss: 0.151755\tvalid_0's gini: 0.28522\n",
      "[1900]\tvalid_0's binary_logloss: 0.151752\tvalid_0's gini: 0.285325\n",
      "[2000]\tvalid_0's binary_logloss: 0.151749\tvalid_0's gini: 0.285504\n",
      "[2100]\tvalid_0's binary_logloss: 0.151748\tvalid_0's gini: 0.285633\n",
      "[2200]\tvalid_0's binary_logloss: 0.151744\tvalid_0's gini: 0.285711\n",
      "[2300]\tvalid_0's binary_logloss: 0.15174\tvalid_0's gini: 0.285853\n",
      "[2400]\tvalid_0's binary_logloss: 0.15174\tvalid_0's gini: 0.28594\n",
      "[2500]\tvalid_0's binary_logloss: 0.151745\tvalid_0's gini: 0.285916\n",
      "Did not meet early stopping. Best iteration is:\n",
      "[2334]\tvalid_0's binary_logloss: 0.151736\tvalid_0's gini: 0.285929\n",
      "폴드 2 지니계수: 0.2859292916021393\n",
      "\n",
      "######################################## 폴드 3 / 폴드 5 ########################################\n",
      "[LightGBM] [Info] Number of positive: 17356, number of negative: 458814\n",
      "[LightGBM] [Info] Total Bins 1558\n",
      "[LightGBM] [Info] Number of data points in the train set: 476170, number of used features: 217\n",
      "[LightGBM] [Info] [binary:BoostFromScore]: pavg=0.036449 -> initscore=-3.274707\n",
      "[LightGBM] [Info] Start training from score -3.274707\n",
      "Training until validation scores don't improve for 300 rounds\n",
      "[100]\tvalid_0's binary_logloss: 0.15424\tvalid_0's gini: 0.263985\n",
      "[200]\tvalid_0's binary_logloss: 0.153171\tvalid_0's gini: 0.268713\n",
      "[300]\tvalid_0's binary_logloss: 0.152574\tvalid_0's gini: 0.272773\n",
      "[400]\tvalid_0's binary_logloss: 0.152223\tvalid_0's gini: 0.275785\n",
      "[500]\tvalid_0's binary_logloss: 0.152001\tvalid_0's gini: 0.278098\n",
      "[600]\tvalid_0's binary_logloss: 0.151847\tvalid_0's gini: 0.280206\n",
      "[700]\tvalid_0's binary_logloss: 0.151748\tvalid_0's gini: 0.281603\n",
      "[800]\tvalid_0's binary_logloss: 0.151682\tvalid_0's gini: 0.282672\n",
      "[900]\tvalid_0's binary_logloss: 0.151637\tvalid_0's gini: 0.283423\n",
      "[1000]\tvalid_0's binary_logloss: 0.151608\tvalid_0's gini: 0.283963\n",
      "[1100]\tvalid_0's binary_logloss: 0.151589\tvalid_0's gini: 0.284105\n",
      "[1200]\tvalid_0's binary_logloss: 0.151574\tvalid_0's gini: 0.284387\n",
      "[1300]\tvalid_0's binary_logloss: 0.151575\tvalid_0's gini: 0.284318\n",
      "[1400]\tvalid_0's binary_logloss: 0.151572\tvalid_0's gini: 0.284372\n",
      "[1500]\tvalid_0's binary_logloss: 0.151569\tvalid_0's gini: 0.284466\n",
      "[1600]\tvalid_0's binary_logloss: 0.151574\tvalid_0's gini: 0.284435\n",
      "[1700]\tvalid_0's binary_logloss: 0.151579\tvalid_0's gini: 0.284362\n",
      "Early stopping, best iteration is:\n",
      "[1478]\tvalid_0's binary_logloss: 0.151568\tvalid_0's gini: 0.284492\n",
      "폴드 3 지니계수: 0.2844916047790675\n",
      "\n",
      "######################################## 폴드 4 / 폴드 5 ########################################\n",
      "[LightGBM] [Info] Number of positive: 17355, number of negative: 458815\n",
      "[LightGBM] [Info] Total Bins 1555\n",
      "[LightGBM] [Info] Number of data points in the train set: 476170, number of used features: 216\n",
      "[LightGBM] [Info] [binary:BoostFromScore]: pavg=0.036447 -> initscore=-3.274766\n",
      "[LightGBM] [Info] Start training from score -3.274766\n",
      "Training until validation scores don't improve for 300 rounds\n",
      "[100]\tvalid_0's binary_logloss: 0.154327\tvalid_0's gini: 0.256916\n",
      "[200]\tvalid_0's binary_logloss: 0.15331\tvalid_0's gini: 0.261871\n",
      "[300]\tvalid_0's binary_logloss: 0.152761\tvalid_0's gini: 0.265441\n",
      "[400]\tvalid_0's binary_logloss: 0.152441\tvalid_0's gini: 0.268613\n",
      "[500]\tvalid_0's binary_logloss: 0.152245\tvalid_0's gini: 0.271168\n",
      "[600]\tvalid_0's binary_logloss: 0.152098\tvalid_0's gini: 0.273746\n",
      "[700]\tvalid_0's binary_logloss: 0.152012\tvalid_0's gini: 0.275192\n",
      "[800]\tvalid_0's binary_logloss: 0.151952\tvalid_0's gini: 0.276278\n",
      "[900]\tvalid_0's binary_logloss: 0.151911\tvalid_0's gini: 0.277039\n",
      "[1000]\tvalid_0's binary_logloss: 0.151871\tvalid_0's gini: 0.277996\n",
      "[1100]\tvalid_0's binary_logloss: 0.151844\tvalid_0's gini: 0.278535\n",
      "[1200]\tvalid_0's binary_logloss: 0.151827\tvalid_0's gini: 0.279055\n",
      "[1300]\tvalid_0's binary_logloss: 0.151817\tvalid_0's gini: 0.27936\n",
      "[1400]\tvalid_0's binary_logloss: 0.151799\tvalid_0's gini: 0.279872\n",
      "[1500]\tvalid_0's binary_logloss: 0.151797\tvalid_0's gini: 0.280053\n",
      "[1600]\tvalid_0's binary_logloss: 0.151792\tvalid_0's gini: 0.280148\n",
      "[1700]\tvalid_0's binary_logloss: 0.151794\tvalid_0's gini: 0.280162\n",
      "[1800]\tvalid_0's binary_logloss: 0.151793\tvalid_0's gini: 0.280319\n",
      "[1900]\tvalid_0's binary_logloss: 0.151795\tvalid_0's gini: 0.280422\n",
      "[2000]\tvalid_0's binary_logloss: 0.151797\tvalid_0's gini: 0.280419\n",
      "[2100]\tvalid_0's binary_logloss: 0.151799\tvalid_0's gini: 0.280516\n",
      "Early stopping, best iteration is:\n",
      "[1852]\tvalid_0's binary_logloss: 0.15179\tvalid_0's gini: 0.280514\n",
      "폴드 4 지니계수: 0.2805136229288192\n",
      "\n",
      "######################################## 폴드 5 / 폴드 5 ########################################\n",
      "[LightGBM] [Info] Number of positive: 17355, number of negative: 458815\n",
      "[LightGBM] [Info] Total Bins 1558\n",
      "[LightGBM] [Info] Number of data points in the train set: 476170, number of used features: 217\n",
      "[LightGBM] [Info] [binary:BoostFromScore]: pavg=0.036447 -> initscore=-3.274766\n",
      "[LightGBM] [Info] Start training from score -3.274766\n",
      "Training until validation scores don't improve for 300 rounds\n",
      "[100]\tvalid_0's binary_logloss: 0.15439\tvalid_0's gini: 0.26681\n",
      "[200]\tvalid_0's binary_logloss: 0.15338\tvalid_0's gini: 0.272186\n",
      "[300]\tvalid_0's binary_logloss: 0.152821\tvalid_0's gini: 0.275897\n",
      "[400]\tvalid_0's binary_logloss: 0.1525\tvalid_0's gini: 0.278734\n",
      "[500]\tvalid_0's binary_logloss: 0.152277\tvalid_0's gini: 0.282151\n",
      "[600]\tvalid_0's binary_logloss: 0.15212\tvalid_0's gini: 0.285039\n",
      "[700]\tvalid_0's binary_logloss: 0.152009\tvalid_0's gini: 0.287435\n",
      "[800]\tvalid_0's binary_logloss: 0.15192\tvalid_0's gini: 0.289549\n",
      "[900]\tvalid_0's binary_logloss: 0.151862\tvalid_0's gini: 0.290886\n",
      "[1000]\tvalid_0's binary_logloss: 0.151819\tvalid_0's gini: 0.291935\n",
      "[1100]\tvalid_0's binary_logloss: 0.151782\tvalid_0's gini: 0.292972\n",
      "[1200]\tvalid_0's binary_logloss: 0.151752\tvalid_0's gini: 0.293784\n",
      "[1300]\tvalid_0's binary_logloss: 0.151732\tvalid_0's gini: 0.294315\n",
      "[1400]\tvalid_0's binary_logloss: 0.151724\tvalid_0's gini: 0.294475\n",
      "[1500]\tvalid_0's binary_logloss: 0.151713\tvalid_0's gini: 0.294786\n",
      "[1600]\tvalid_0's binary_logloss: 0.1517\tvalid_0's gini: 0.295146\n",
      "[1700]\tvalid_0's binary_logloss: 0.151694\tvalid_0's gini: 0.295268\n",
      "[1800]\tvalid_0's binary_logloss: 0.151695\tvalid_0's gini: 0.295212\n",
      "[1900]\tvalid_0's binary_logloss: 0.151689\tvalid_0's gini: 0.295454\n",
      "[2000]\tvalid_0's binary_logloss: 0.151693\tvalid_0's gini: 0.2954\n",
      "[2100]\tvalid_0's binary_logloss: 0.151694\tvalid_0's gini: 0.295427\n",
      "[2200]\tvalid_0's binary_logloss: 0.151692\tvalid_0's gini: 0.295538\n",
      "[2300]\tvalid_0's binary_logloss: 0.151699\tvalid_0's gini: 0.295411\n",
      "Early stopping, best iteration is:\n",
      "[2045]\tvalid_0's binary_logloss: 0.151689\tvalid_0's gini: 0.295553\n",
      "폴드 5 지니계수: 0.29555250456072807\n",
      "\n"
     ]
    }
   ],
   "source": [
    "from sklearn.model_selection import StratifiedKFold \n",
    "\n",
    "folds = StratifiedKFold(n_splits=5, shuffle=True, random_state=1991)\n",
    "\n",
    "oof_val_preds = np.zeros(X.shape[0])\n",
    "oof_test_preds = np.zeros(X_test.shape[0])\n",
    "\n",
    "for idx, (train_idx, valid_idx) in enumerate(folds.split(X, y)):\n",
    "    print('#'*40, f'폴드 {idx+1} / 폴드 {folds.n_splits}', '#'*40)\n",
    "    \n",
    "    X_train, y_train = X[train_idx], y[train_idx]\n",
    "    X_valid, y_valid = X[valid_idx], y[valid_idx]\n",
    "    \n",
    "    dtrain = lgb.Dataset(X_train, y_train)\n",
    "    dvalid = lgb.Dataset(X_valid, y_valid)\n",
    "    \n",
    "    lgb_model = lgb.train(params=max_params,\n",
    "                         train_set=dtrain,\n",
    "                         num_boost_round=2500,\n",
    "                         valid_sets=dvalid,\n",
    "                         feval=gini,\n",
    "                         early_stopping_rounds=300,\n",
    "                         verbose_eval=100)\n",
    "    \n",
    "    oof_test_preds += lgb_model.predict(X_test)/folds.n_splits\n",
    "    oof_val_preds[valid_idx] += lgb_model.predict(X_valid)\n",
    "    \n",
    "    gini_score = eval_gini(y_valid, oof_val_preds[valid_idx])\n",
    "    print(f'폴드 {idx+1} 지니계수: {gini_score}\\n')"
   ]
  },
  {
   "cell_type": "code",
   "execution_count": 26,
   "id": "6fde195f",
   "metadata": {
    "execution": {
     "iopub.execute_input": "2022-05-05T23:32:08.513623Z",
     "iopub.status.busy": "2022-05-05T23:32:08.513346Z",
     "iopub.status.idle": "2022-05-05T23:32:08.606935Z",
     "shell.execute_reply": "2022-05-05T23:32:08.606077Z"
    },
    "papermill": {
     "duration": 0.186654,
     "end_time": "2022-05-05T23:32:08.609325",
     "exception": false,
     "start_time": "2022-05-05T23:32:08.422671",
     "status": "completed"
    },
    "tags": []
   },
   "outputs": [
    {
     "name": "stdout",
     "output_type": "stream",
     "text": [
      "OOF 검증 데이터 지니계수 : 0.2889651000887542\n"
     ]
    }
   ],
   "source": [
    "print('OOF 검증 데이터 지니계수 :', eval_gini(y, oof_val_preds))"
   ]
  },
  {
   "cell_type": "markdown",
   "id": "eda4ab93",
   "metadata": {
    "papermill": {
     "duration": 0.088214,
     "end_time": "2022-05-05T23:32:08.785024",
     "exception": false,
     "start_time": "2022-05-05T23:32:08.696810",
     "status": "completed"
    },
    "tags": []
   },
   "source": [
    "예측 및 결과제출"
   ]
  },
  {
   "cell_type": "code",
   "execution_count": 27,
   "id": "db3d097d",
   "metadata": {
    "execution": {
     "iopub.execute_input": "2022-05-05T23:32:08.962959Z",
     "iopub.status.busy": "2022-05-05T23:32:08.962717Z",
     "iopub.status.idle": "2022-05-05T23:32:11.967524Z",
     "shell.execute_reply": "2022-05-05T23:32:11.966770Z"
    },
    "papermill": {
     "duration": 3.096317,
     "end_time": "2022-05-05T23:32:11.969895",
     "exception": false,
     "start_time": "2022-05-05T23:32:08.873578",
     "status": "completed"
    },
    "tags": []
   },
   "outputs": [],
   "source": [
    "submission['target'] = oof_test_preds\n",
    "submission.to_csv('submission.csv')"
   ]
  },
  {
   "cell_type": "markdown",
   "id": "d82a1bae",
   "metadata": {
    "papermill": {
     "duration": 0.087339,
     "end_time": "2022-05-05T23:32:12.146169",
     "exception": false,
     "start_time": "2022-05-05T23:32:12.058830",
     "status": "completed"
    },
    "tags": []
   },
   "source": [
    "성능 개선 II: XGBoost 모델"
   ]
  },
  {
   "cell_type": "markdown",
   "id": "27af8788",
   "metadata": {
    "papermill": {
     "duration": 0.087056,
     "end_time": "2022-05-05T23:32:12.322709",
     "exception": false,
     "start_time": "2022-05-05T23:32:12.235653",
     "status": "completed"
    },
    "tags": []
   },
   "source": [
    "피처 엔지니어링"
   ]
  },
  {
   "cell_type": "code",
   "execution_count": 28,
   "id": "47208560",
   "metadata": {
    "execution": {
     "iopub.execute_input": "2022-05-05T23:32:12.502058Z",
     "iopub.status.busy": "2022-05-05T23:32:12.501807Z",
     "iopub.status.idle": "2022-05-05T23:32:12.505586Z",
     "shell.execute_reply": "2022-05-05T23:32:12.504934Z"
    },
    "papermill": {
     "duration": 0.094609,
     "end_time": "2022-05-05T23:32:12.507185",
     "exception": false,
     "start_time": "2022-05-05T23:32:12.412576",
     "status": "completed"
    },
    "tags": []
   },
   "outputs": [],
   "source": [
    "def gini(preds, dtrain):\n",
    "    labels = dtrain.get_label()\n",
    "    return 'gini', eval_gini(labels, preds)"
   ]
  },
  {
   "cell_type": "markdown",
   "id": "dab88464",
   "metadata": {
    "papermill": {
     "duration": 0.087864,
     "end_time": "2022-05-05T23:32:12.682693",
     "exception": false,
     "start_time": "2022-05-05T23:32:12.594829",
     "status": "completed"
    },
    "tags": []
   },
   "source": [
    "하이퍼파라미터 최적화"
   ]
  },
  {
   "cell_type": "code",
   "execution_count": 29,
   "id": "66c70fcc",
   "metadata": {
    "execution": {
     "iopub.execute_input": "2022-05-05T23:32:12.869053Z",
     "iopub.status.busy": "2022-05-05T23:32:12.868774Z",
     "iopub.status.idle": "2022-05-05T23:32:15.038146Z",
     "shell.execute_reply": "2022-05-05T23:32:15.037459Z"
    },
    "papermill": {
     "duration": 2.269547,
     "end_time": "2022-05-05T23:32:15.040603",
     "exception": false,
     "start_time": "2022-05-05T23:32:12.771056",
     "status": "completed"
    },
    "tags": []
   },
   "outputs": [],
   "source": [
    "import xgboost as xgb\n",
    "from sklearn.model_selection import train_test_split\n",
    "\n",
    "X_train, X_valid, y_train, y_valid = train_test_split(X, y, \n",
    "                                                      test_size=0.2, \n",
    "                                                      random_state=0)\n",
    "bayes_dtrain = xgb.DMatrix(X_train, y_train)\n",
    "bayes_dvalid = xgb.DMatrix(X_valid, y_valid)"
   ]
  },
  {
   "cell_type": "code",
   "execution_count": 30,
   "id": "c874c431",
   "metadata": {
    "execution": {
     "iopub.execute_input": "2022-05-05T23:32:15.219783Z",
     "iopub.status.busy": "2022-05-05T23:32:15.219536Z",
     "iopub.status.idle": "2022-05-05T23:32:15.224986Z",
     "shell.execute_reply": "2022-05-05T23:32:15.224201Z"
    },
    "papermill": {
     "duration": 0.096338,
     "end_time": "2022-05-05T23:32:15.227066",
     "exception": false,
     "start_time": "2022-05-05T23:32:15.130728",
     "status": "completed"
    },
    "tags": []
   },
   "outputs": [],
   "source": [
    "param_bounds = {'max_depth': (4, 8),\n",
    "                'subsample': (0.6, 0.9),\n",
    "                'colsample_bytree': (0.7, 1.0),\n",
    "                'min_child_weight': (5, 7),\n",
    "                'gamma': (8, 11),\n",
    "                'reg_alpha': (7, 9),\n",
    "                'reg_lambda': (1.1, 1.5),\n",
    "                'scale_pos_weight': (1.4, 1.6)}\n",
    "\n",
    "\n",
    "fixed_params = {'objective': 'binary:logistic',\n",
    "                'learning_rate': 0.02,\n",
    "                'random_state': 1991}"
   ]
  },
  {
   "cell_type": "code",
   "execution_count": 31,
   "id": "cdd9234a",
   "metadata": {
    "execution": {
     "iopub.execute_input": "2022-05-05T23:32:15.406145Z",
     "iopub.status.busy": "2022-05-05T23:32:15.405279Z",
     "iopub.status.idle": "2022-05-05T23:32:15.413779Z",
     "shell.execute_reply": "2022-05-05T23:32:15.413149Z"
    },
    "papermill": {
     "duration": 0.100676,
     "end_time": "2022-05-05T23:32:15.415525",
     "exception": false,
     "start_time": "2022-05-05T23:32:15.314849",
     "status": "completed"
    },
    "tags": []
   },
   "outputs": [],
   "source": [
    "def eval_function(max_depth, subsample, colsample_bytree, min_child_weight,\n",
    "                 reg_alpha, gamma, reg_lambda, scale_pos_weight):\n",
    "    '''최적화하려는 평가지표(지니계수) 계산 함수'''\n",
    "    # 베이지안 최적화를 수행할 하이퍼파라미터\n",
    "    params = {'max_depth': int(round(max_depth)),\n",
    "              'subsample': subsample,\n",
    "              'colsample_bytree': colsample_bytree,\n",
    "              'min_child_weight': min_child_weight,\n",
    "              'gamma': gamma,\n",
    "              'reg_alpha':reg_alpha,\n",
    "              'reg_lambda': reg_lambda,\n",
    "              'scale_pos_weight': scale_pos_weight}\n",
    " \n",
    "    params.update(fixed_params)\n",
    "    \n",
    "    print('하이퍼파라미터 :', params)    \n",
    "        \n",
    "    xgb_model = xgb.train(params=params, \n",
    "                          dtrain=bayes_dtrain,\n",
    "                          num_boost_round=2000,\n",
    "                          evals=[(bayes_dvalid, 'bayes_dvalid')],\n",
    "                          maximize=True,\n",
    "                          feval=gini,\n",
    "                          early_stopping_rounds=200,\n",
    "                          verbose_eval=False)\n",
    "                           \n",
    "    best_iter = xgb_model.best_iteration \n",
    "\n",
    "    preds = xgb_model.predict(bayes_dvalid, \n",
    "                              iteration_range=(0, best_iter))\n",
    "\n",
    "    gini_score = eval_gini(y_valid, preds)\n",
    "    print(f'지니계수 : {gini_score}\\n')\n",
    "    \n",
    "    return gini_score"
   ]
  },
  {
   "cell_type": "code",
   "execution_count": 32,
   "id": "d0ad650d",
   "metadata": {
    "execution": {
     "iopub.execute_input": "2022-05-05T23:32:15.592780Z",
     "iopub.status.busy": "2022-05-05T23:32:15.592549Z",
     "iopub.status.idle": "2022-05-06T03:30:35.264806Z",
     "shell.execute_reply": "2022-05-06T03:30:35.264040Z"
    },
    "papermill": {
     "duration": 14299.855876,
     "end_time": "2022-05-06T03:30:35.359101",
     "exception": false,
     "start_time": "2022-05-05T23:32:15.503225",
     "status": "completed"
    },
    "tags": []
   },
   "outputs": [
    {
     "name": "stdout",
     "output_type": "stream",
     "text": [
      "|   iter    |  target   | colsam... |   gamma   | max_depth | min_ch... | reg_alpha | reg_la... | scale_... | subsample |\n",
      "-------------------------------------------------------------------------------------------------------------------------\n",
      "하이퍼파라미터 : {'max_depth': 6, 'subsample': 0.867531900234624, 'colsample_bytree': 0.8646440511781974, 'min_child_weight': 6.0897663659937935, 'gamma': 10.14556809911726, 'reg_alpha': 7.84730959867781, 'reg_lambda': 1.3583576452266626, 'scale_pos_weight': 1.4875174422525386, 'objective': 'binary:logistic', 'learning_rate': 0.02, 'random_state': 1991}\n"
     ]
    },
    {
     "name": "stderr",
     "output_type": "stream",
     "text": [
      "/opt/conda/lib/python3.7/site-packages/xgboost/training.py:36: UserWarning: `feval` is deprecated, use `custom_metric` instead.  They have different behavior when custom objective is also used.See https://xgboost.readthedocs.io/en/latest/tutorials/custom_metric_obj.html for details on the `custom_metric`.\n",
      "  \"`feval` is deprecated, use `custom_metric` instead.  They have \"\n"
     ]
    },
    {
     "name": "stdout",
     "output_type": "stream",
     "text": [
      "지니계수 : 0.28470429444834217\n",
      "\n",
      "| \u001b[0m 1       \u001b[0m | \u001b[0m 0.2847  \u001b[0m | \u001b[0m 0.8646  \u001b[0m | \u001b[0m 10.15   \u001b[0m | \u001b[0m 6.411   \u001b[0m | \u001b[0m 6.09    \u001b[0m | \u001b[0m 7.847   \u001b[0m | \u001b[0m 1.358   \u001b[0m | \u001b[0m 1.488   \u001b[0m | \u001b[0m 0.8675  \u001b[0m |\n",
      "하이퍼파라미터 : {'max_depth': 7, 'subsample': 0.6261387899104622, 'colsample_bytree': 0.9890988281503088, 'min_child_weight': 6.0577898395058085, 'gamma': 9.150324556477333, 'reg_alpha': 8.136089122187865, 'reg_lambda': 1.4702386553170643, 'scale_pos_weight': 1.4142072116395774, 'objective': 'binary:logistic', 'learning_rate': 0.02, 'random_state': 1991}\n",
      "지니계수 : 0.2851953200460391\n",
      "\n",
      "| \u001b[95m 2       \u001b[0m | \u001b[95m 0.2852  \u001b[0m | \u001b[95m 0.9891  \u001b[0m | \u001b[95m 9.15    \u001b[0m | \u001b[95m 7.167   \u001b[0m | \u001b[95m 6.058   \u001b[0m | \u001b[95m 8.136   \u001b[0m | \u001b[95m 1.47    \u001b[0m | \u001b[95m 1.414   \u001b[0m | \u001b[95m 0.6261  \u001b[0m |\n",
      "하이퍼파라미터 : {'max_depth': 7, 'subsample': 0.8341587528859367, 'colsample_bytree': 0.7060655192320977, 'min_child_weight': 6.7400242964936385, 'gamma': 10.497859536643814, 'reg_alpha': 8.957236684465528, 'reg_lambda': 1.4196634256866894, 'scale_pos_weight': 1.4922958724505864, 'objective': 'binary:logistic', 'learning_rate': 0.02, 'random_state': 1991}\n",
      "지니계수 : 0.28359402092703206\n",
      "\n",
      "| \u001b[0m 3       \u001b[0m | \u001b[0m 0.2836  \u001b[0m | \u001b[0m 0.7061  \u001b[0m | \u001b[0m 10.5    \u001b[0m | \u001b[0m 7.113   \u001b[0m | \u001b[0m 6.74    \u001b[0m | \u001b[0m 8.957   \u001b[0m | \u001b[0m 1.42    \u001b[0m | \u001b[0m 1.492   \u001b[0m | \u001b[0m 0.8342  \u001b[0m |\n",
      "하이퍼파라미터 : {'max_depth': 7, 'subsample': 0.7057465489757903, 'colsample_bytree': 0.9998951077352971, 'min_child_weight': 6.187240983605598, 'gamma': 9.270868061681206, 'reg_alpha': 8.219782862530412, 'reg_lambda': 1.177504564476268, 'scale_pos_weight': 1.509981196211439, 'objective': 'binary:logistic', 'learning_rate': 0.02, 'random_state': 1991}\n"
     ]
    },
    {
     "name": "stderr",
     "output_type": "stream",
     "text": [
      "/opt/conda/lib/python3.7/site-packages/xgboost/training.py:36: UserWarning: `feval` is deprecated, use `custom_metric` instead.  They have different behavior when custom objective is also used.See https://xgboost.readthedocs.io/en/latest/tutorials/custom_metric_obj.html for details on the `custom_metric`.\n",
      "  \"`feval` is deprecated, use `custom_metric` instead.  They have \"\n"
     ]
    },
    {
     "name": "stdout",
     "output_type": "stream",
     "text": [
      "지니계수 : 0.2844278865791322\n",
      "\n",
      "| \u001b[0m 4       \u001b[0m | \u001b[0m 0.2844  \u001b[0m | \u001b[0m 0.9999  \u001b[0m | \u001b[0m 9.271   \u001b[0m | \u001b[0m 6.987   \u001b[0m | \u001b[0m 6.187   \u001b[0m | \u001b[0m 8.22    \u001b[0m | \u001b[0m 1.178   \u001b[0m | \u001b[0m 1.51    \u001b[0m | \u001b[0m 0.7057  \u001b[0m |\n",
      "하이퍼파라미터 : {'max_depth': 7, 'subsample': 0.8535233675350644, 'colsample_bytree': 0.92975858050776, 'min_child_weight': 6.249564429359247, 'gamma': 9.95563546750357, 'reg_alpha': 8.411512219837842, 'reg_lambda': 1.424460008293778, 'scale_pos_weight': 1.5416807226581535, 'objective': 'binary:logistic', 'learning_rate': 0.02, 'random_state': 1991}\n"
     ]
    },
    {
     "name": "stderr",
     "output_type": "stream",
     "text": [
      "/opt/conda/lib/python3.7/site-packages/xgboost/training.py:36: UserWarning: `feval` is deprecated, use `custom_metric` instead.  They have different behavior when custom objective is also used.See https://xgboost.readthedocs.io/en/latest/tutorials/custom_metric_obj.html for details on the `custom_metric`.\n",
      "  \"`feval` is deprecated, use `custom_metric` instead.  They have \"\n"
     ]
    },
    {
     "name": "stdout",
     "output_type": "stream",
     "text": [
      "지니계수 : 0.2856515869205076\n",
      "\n",
      "| \u001b[95m 5       \u001b[0m | \u001b[95m 0.2857  \u001b[0m | \u001b[95m 0.9298  \u001b[0m | \u001b[95m 9.956   \u001b[0m | \u001b[95m 6.809   \u001b[0m | \u001b[95m 6.25    \u001b[0m | \u001b[95m 8.412   \u001b[0m | \u001b[95m 1.424   \u001b[0m | \u001b[95m 1.542   \u001b[0m | \u001b[95m 0.8535  \u001b[0m |\n",
      "하이퍼파라미터 : {'max_depth': 7, 'subsample': 0.6462619019069298, 'colsample_bytree': 0.80929192865947, 'min_child_weight': 6.079999276892042, 'gamma': 9.553916776586505, 'reg_alpha': 8.860396362258099, 'reg_lambda': 1.4050740023119348, 'scale_pos_weight': 1.4668544695338273, 'objective': 'binary:logistic', 'learning_rate': 0.02, 'random_state': 1991}\n"
     ]
    },
    {
     "name": "stderr",
     "output_type": "stream",
     "text": [
      "/opt/conda/lib/python3.7/site-packages/xgboost/training.py:36: UserWarning: `feval` is deprecated, use `custom_metric` instead.  They have different behavior when custom objective is also used.See https://xgboost.readthedocs.io/en/latest/tutorials/custom_metric_obj.html for details on the `custom_metric`.\n",
      "  \"`feval` is deprecated, use `custom_metric` instead.  They have \"\n"
     ]
    },
    {
     "name": "stdout",
     "output_type": "stream",
     "text": [
      "지니계수 : 0.28466544765284935\n",
      "\n",
      "| \u001b[0m 6       \u001b[0m | \u001b[0m 0.2847  \u001b[0m | \u001b[0m 0.8093  \u001b[0m | \u001b[0m 9.554   \u001b[0m | \u001b[0m 6.532   \u001b[0m | \u001b[0m 6.08    \u001b[0m | \u001b[0m 8.86    \u001b[0m | \u001b[0m 1.405   \u001b[0m | \u001b[0m 1.467   \u001b[0m | \u001b[0m 0.6463  \u001b[0m |\n",
      "하이퍼파라미터 : {'max_depth': 7, 'subsample': 0.6931141936797243, 'colsample_bytree': 0.8817801730078565, 'min_child_weight': 6.992334203641873, 'gamma': 9.013424730095146, 'reg_alpha': 7.640858389939128, 'reg_lambda': 1.3562805915715632, 'scale_pos_weight': 1.449446257931491, 'objective': 'binary:logistic', 'learning_rate': 0.02, 'random_state': 1991}\n"
     ]
    },
    {
     "name": "stderr",
     "output_type": "stream",
     "text": [
      "/opt/conda/lib/python3.7/site-packages/xgboost/training.py:36: UserWarning: `feval` is deprecated, use `custom_metric` instead.  They have different behavior when custom objective is also used.See https://xgboost.readthedocs.io/en/latest/tutorials/custom_metric_obj.html for details on the `custom_metric`.\n",
      "  \"`feval` is deprecated, use `custom_metric` instead.  They have \"\n"
     ]
    },
    {
     "name": "stdout",
     "output_type": "stream",
     "text": [
      "지니계수 : 0.28550424648809736\n",
      "\n",
      "| \u001b[0m 7       \u001b[0m | \u001b[0m 0.2855  \u001b[0m | \u001b[0m 0.8818  \u001b[0m | \u001b[0m 9.013   \u001b[0m | \u001b[0m 6.927   \u001b[0m | \u001b[0m 6.992   \u001b[0m | \u001b[0m 7.641   \u001b[0m | \u001b[0m 1.356   \u001b[0m | \u001b[0m 1.449   \u001b[0m | \u001b[0m 0.6931  \u001b[0m |\n",
      "하이퍼파라미터 : {'max_depth': 5, 'subsample': 0.6261564417044092, 'colsample_bytree': 0.8763145220620449, 'min_child_weight': 5.135323353557588, 'gamma': 8.39495450163982, 'reg_alpha': 8.950443047087845, 'reg_lambda': 1.4235649099168255, 'scale_pos_weight': 1.5217625173811569, 'objective': 'binary:logistic', 'learning_rate': 0.02, 'random_state': 1991}\n"
     ]
    },
    {
     "name": "stderr",
     "output_type": "stream",
     "text": [
      "/opt/conda/lib/python3.7/site-packages/xgboost/training.py:36: UserWarning: `feval` is deprecated, use `custom_metric` instead.  They have different behavior when custom objective is also used.See https://xgboost.readthedocs.io/en/latest/tutorials/custom_metric_obj.html for details on the `custom_metric`.\n",
      "  \"`feval` is deprecated, use `custom_metric` instead.  They have \"\n"
     ]
    },
    {
     "name": "stdout",
     "output_type": "stream",
     "text": [
      "지니계수 : 0.2840512946560939\n",
      "\n",
      "| \u001b[0m 8       \u001b[0m | \u001b[0m 0.2841  \u001b[0m | \u001b[0m 0.8763  \u001b[0m | \u001b[0m 8.395   \u001b[0m | \u001b[0m 4.561   \u001b[0m | \u001b[0m 5.135   \u001b[0m | \u001b[0m 8.95    \u001b[0m | \u001b[0m 1.424   \u001b[0m | \u001b[0m 1.522   \u001b[0m | \u001b[0m 0.6262  \u001b[0m |\n",
      "하이퍼파라미터 : {'max_depth': 6, 'subsample': 0.857971740304964, 'colsample_bytree': 0.9583821245229369, 'min_child_weight': 6.158305055403563, 'gamma': 9.305332775334449, 'reg_alpha': 8.200928434091152, 'reg_lambda': 1.2571039588093065, 'scale_pos_weight': 1.4700266933495618, 'objective': 'binary:logistic', 'learning_rate': 0.02, 'random_state': 1991}\n"
     ]
    },
    {
     "name": "stderr",
     "output_type": "stream",
     "text": [
      "/opt/conda/lib/python3.7/site-packages/xgboost/training.py:36: UserWarning: `feval` is deprecated, use `custom_metric` instead.  They have different behavior when custom objective is also used.See https://xgboost.readthedocs.io/en/latest/tutorials/custom_metric_obj.html for details on the `custom_metric`.\n",
      "  \"`feval` is deprecated, use `custom_metric` instead.  They have \"\n"
     ]
    },
    {
     "name": "stdout",
     "output_type": "stream",
     "text": [
      "지니계수 : 0.2845833465457728\n",
      "\n",
      "| \u001b[0m 9       \u001b[0m | \u001b[0m 0.2846  \u001b[0m | \u001b[0m 0.9584  \u001b[0m | \u001b[0m 9.305   \u001b[0m | \u001b[0m 5.594   \u001b[0m | \u001b[0m 6.158   \u001b[0m | \u001b[0m 8.201   \u001b[0m | \u001b[0m 1.257   \u001b[0m | \u001b[0m 1.47    \u001b[0m | \u001b[0m 0.858   \u001b[0m |\n",
      "=========================================================================================================================\n"
     ]
    }
   ],
   "source": [
    "from bayes_opt import BayesianOptimization\n",
    "\n",
    "# 베이지안 최적화 객체 생성\n",
    "optimizer = BayesianOptimization(f=eval_function, \n",
    "                                 pbounds=param_bounds, \n",
    "                                 random_state=0)\n",
    "\n",
    "# 베이지안 최적화 수행\n",
    "optimizer.maximize(init_points=3, n_iter=6)"
   ]
  },
  {
   "cell_type": "code",
   "execution_count": 33,
   "id": "cffdcb93",
   "metadata": {
    "execution": {
     "iopub.execute_input": "2022-05-06T03:30:35.545019Z",
     "iopub.status.busy": "2022-05-06T03:30:35.544793Z",
     "iopub.status.idle": "2022-05-06T03:30:35.549994Z",
     "shell.execute_reply": "2022-05-06T03:30:35.549374Z"
    },
    "papermill": {
     "duration": 0.100647,
     "end_time": "2022-05-06T03:30:35.551819",
     "exception": false,
     "start_time": "2022-05-06T03:30:35.451172",
     "status": "completed"
    },
    "tags": []
   },
   "outputs": [
    {
     "data": {
      "text/plain": [
       "{'colsample_bytree': 0.92975858050776,\n",
       " 'gamma': 9.95563546750357,\n",
       " 'max_depth': 6.809274695878221,\n",
       " 'min_child_weight': 6.249564429359247,\n",
       " 'reg_alpha': 8.411512219837842,\n",
       " 'reg_lambda': 1.424460008293778,\n",
       " 'scale_pos_weight': 1.5416807226581535,\n",
       " 'subsample': 0.8535233675350644}"
      ]
     },
     "execution_count": 33,
     "metadata": {},
     "output_type": "execute_result"
    }
   ],
   "source": [
    "max_params = optimizer.max['params']\n",
    "max_params"
   ]
  },
  {
   "cell_type": "code",
   "execution_count": 34,
   "id": "3a627fa8",
   "metadata": {
    "execution": {
     "iopub.execute_input": "2022-05-06T03:30:35.738502Z",
     "iopub.status.busy": "2022-05-06T03:30:35.737898Z",
     "iopub.status.idle": "2022-05-06T03:30:35.744888Z",
     "shell.execute_reply": "2022-05-06T03:30:35.744238Z"
    },
    "papermill": {
     "duration": 0.10188,
     "end_time": "2022-05-06T03:30:35.746533",
     "exception": false,
     "start_time": "2022-05-06T03:30:35.644653",
     "status": "completed"
    },
    "tags": []
   },
   "outputs": [
    {
     "data": {
      "text/plain": [
       "{'colsample_bytree': 0.92975858050776,\n",
       " 'gamma': 9.95563546750357,\n",
       " 'max_depth': 7,\n",
       " 'min_child_weight': 6.249564429359247,\n",
       " 'reg_alpha': 8.411512219837842,\n",
       " 'reg_lambda': 1.424460008293778,\n",
       " 'scale_pos_weight': 1.5416807226581535,\n",
       " 'subsample': 0.8535233675350644,\n",
       " 'objective': 'binary:logistic',\n",
       " 'learning_rate': 0.02,\n",
       " 'random_state': 1991}"
      ]
     },
     "execution_count": 34,
     "metadata": {},
     "output_type": "execute_result"
    }
   ],
   "source": [
    "max_params['max_depth'] = int(round(max_params['max_depth']))\n",
    "max_params.update(fixed_params)\n",
    "max_params"
   ]
  },
  {
   "cell_type": "code",
   "execution_count": 35,
   "id": "e97f8334",
   "metadata": {
    "execution": {
     "iopub.execute_input": "2022-05-06T03:30:35.932918Z",
     "iopub.status.busy": "2022-05-06T03:30:35.932728Z",
     "iopub.status.idle": "2022-05-06T06:04:07.159921Z",
     "shell.execute_reply": "2022-05-06T06:04:07.159180Z"
    },
    "papermill": {
     "duration": 9211.443529,
     "end_time": "2022-05-06T06:04:07.283013",
     "exception": false,
     "start_time": "2022-05-06T03:30:35.839484",
     "status": "completed"
    },
    "tags": []
   },
   "outputs": [
    {
     "name": "stdout",
     "output_type": "stream",
     "text": [
      "######################################## 폴드 1 / 폴드 5 ########################################\n"
     ]
    },
    {
     "name": "stderr",
     "output_type": "stream",
     "text": [
      "/opt/conda/lib/python3.7/site-packages/xgboost/training.py:36: UserWarning: `feval` is deprecated, use `custom_metric` instead.  They have different behavior when custom objective is also used.See https://xgboost.readthedocs.io/en/latest/tutorials/custom_metric_obj.html for details on the `custom_metric`.\n",
      "  \"`feval` is deprecated, use `custom_metric` instead.  They have \"\n"
     ]
    },
    {
     "name": "stdout",
     "output_type": "stream",
     "text": [
      "[0]\tvalid-logloss:0.67679\tvalid-gini:0.17960\n",
      "[100]\tvalid-logloss:0.19334\tvalid-gini:0.25125\n",
      "[200]\tvalid-logloss:0.15933\tvalid-gini:0.28002\n",
      "[300]\tvalid-logloss:0.15588\tvalid-gini:0.28885\n",
      "[400]\tvalid-logloss:0.15532\tvalid-gini:0.29364\n",
      "[500]\tvalid-logloss:0.15517\tvalid-gini:0.29628\n",
      "[600]\tvalid-logloss:0.15512\tvalid-gini:0.29734\n",
      "[700]\tvalid-logloss:0.15506\tvalid-gini:0.29835\n",
      "[800]\tvalid-logloss:0.15504\tvalid-gini:0.29889\n",
      "[900]\tvalid-logloss:0.15502\tvalid-gini:0.29929\n",
      "[1000]\tvalid-logloss:0.15502\tvalid-gini:0.29941\n",
      "[1100]\tvalid-logloss:0.15501\tvalid-gini:0.29926\n",
      "[1200]\tvalid-logloss:0.15502\tvalid-gini:0.29893\n",
      "[1237]\tvalid-logloss:0.15501\tvalid-gini:0.29918\n",
      "폴드 1 지니계수 : 0.29944651710485193\n",
      "\n",
      "######################################## 폴드 2 / 폴드 5 ########################################\n",
      "[0]\tvalid-logloss:0.67679\tvalid-gini:0.15338\n",
      "[100]\tvalid-logloss:0.19344\tvalid-gini:0.24163\n",
      "[200]\tvalid-logloss:0.15961\tvalid-gini:0.26533\n",
      "[300]\tvalid-logloss:0.15623\tvalid-gini:0.27503\n",
      "[400]\tvalid-logloss:0.15572\tvalid-gini:0.27898\n",
      "[500]\tvalid-logloss:0.15557\tvalid-gini:0.28163\n",
      "[600]\tvalid-logloss:0.15551\tvalid-gini:0.28304\n",
      "[700]\tvalid-logloss:0.15549\tvalid-gini:0.28402\n",
      "[800]\tvalid-logloss:0.15548\tvalid-gini:0.28434\n",
      "[900]\tvalid-logloss:0.15546\tvalid-gini:0.28446\n",
      "[1000]\tvalid-logloss:0.15545\tvalid-gini:0.28503\n",
      "[1100]\tvalid-logloss:0.15544\tvalid-gini:0.28541\n",
      "[1200]\tvalid-logloss:0.15543\tvalid-gini:0.28571\n",
      "[1300]\tvalid-logloss:0.15543\tvalid-gini:0.28575\n",
      "[1400]\tvalid-logloss:0.15543\tvalid-gini:0.28578\n",
      "[1500]\tvalid-logloss:0.15543\tvalid-gini:0.28575\n",
      "[1600]\tvalid-logloss:0.15544\tvalid-gini:0.28572\n",
      "[1669]\tvalid-logloss:0.15544\tvalid-gini:0.28557\n",
      "폴드 2 지니계수 : 0.2858853455077625\n",
      "\n",
      "######################################## 폴드 3 / 폴드 5 ########################################\n",
      "[0]\tvalid-logloss:0.67679\tvalid-gini:0.15662\n",
      "[100]\tvalid-logloss:0.19334\tvalid-gini:0.24801\n",
      "[200]\tvalid-logloss:0.15931\tvalid-gini:0.27362\n",
      "[300]\tvalid-logloss:0.15589\tvalid-gini:0.28049\n",
      "[400]\tvalid-logloss:0.15540\tvalid-gini:0.28299\n",
      "[500]\tvalid-logloss:0.15531\tvalid-gini:0.28387\n",
      "[600]\tvalid-logloss:0.15529\tvalid-gini:0.28437\n",
      "[700]\tvalid-logloss:0.15528\tvalid-gini:0.28422\n",
      "[800]\tvalid-logloss:0.15526\tvalid-gini:0.28421\n",
      "[822]\tvalid-logloss:0.15527\tvalid-gini:0.28403\n",
      "폴드 3 지니계수 : 0.28443760405840407\n",
      "\n",
      "######################################## 폴드 4 / 폴드 5 ########################################\n",
      "[0]\tvalid-logloss:0.67679\tvalid-gini:0.18859\n",
      "[100]\tvalid-logloss:0.19326\tvalid-gini:0.24118\n",
      "[200]\tvalid-logloss:0.15944\tvalid-gini:0.26588\n",
      "[300]\tvalid-logloss:0.15609\tvalid-gini:0.27311\n",
      "[400]\tvalid-logloss:0.15560\tvalid-gini:0.27587\n",
      "[500]\tvalid-logloss:0.15550\tvalid-gini:0.27741\n",
      "[600]\tvalid-logloss:0.15547\tvalid-gini:0.27830\n",
      "[700]\tvalid-logloss:0.15544\tvalid-gini:0.27869\n",
      "[800]\tvalid-logloss:0.15543\tvalid-gini:0.27884\n",
      "[900]\tvalid-logloss:0.15542\tvalid-gini:0.27920\n",
      "[1000]\tvalid-logloss:0.15540\tvalid-gini:0.27930\n",
      "[1100]\tvalid-logloss:0.15540\tvalid-gini:0.27952\n",
      "[1200]\tvalid-logloss:0.15539\tvalid-gini:0.27978\n",
      "[1300]\tvalid-logloss:0.15539\tvalid-gini:0.27980\n",
      "[1400]\tvalid-logloss:0.15540\tvalid-gini:0.27958\n",
      "[1433]\tvalid-logloss:0.15540\tvalid-gini:0.27957\n",
      "폴드 4 지니계수 : 0.2799114042871249\n",
      "\n",
      "######################################## 폴드 5 / 폴드 5 ########################################\n",
      "[0]\tvalid-logloss:0.67680\tvalid-gini:0.17061\n",
      "[100]\tvalid-logloss:0.19339\tvalid-gini:0.24902\n",
      "[200]\tvalid-logloss:0.15953\tvalid-gini:0.27558\n",
      "[300]\tvalid-logloss:0.15610\tvalid-gini:0.28565\n",
      "[400]\tvalid-logloss:0.15556\tvalid-gini:0.29006\n",
      "[500]\tvalid-logloss:0.15540\tvalid-gini:0.29300\n",
      "[600]\tvalid-logloss:0.15536\tvalid-gini:0.29432\n",
      "[700]\tvalid-logloss:0.15530\tvalid-gini:0.29528\n",
      "[800]\tvalid-logloss:0.15529\tvalid-gini:0.29569\n",
      "[900]\tvalid-logloss:0.15526\tvalid-gini:0.29626\n",
      "[1000]\tvalid-logloss:0.15526\tvalid-gini:0.29655\n",
      "[1100]\tvalid-logloss:0.15525\tvalid-gini:0.29683\n",
      "[1200]\tvalid-logloss:0.15522\tvalid-gini:0.29681\n",
      "[1300]\tvalid-logloss:0.15523\tvalid-gini:0.29678\n",
      "[1319]\tvalid-logloss:0.15523\tvalid-gini:0.29691\n",
      "폴드 5 지니계수 : 0.2969046463729408\n",
      "\n"
     ]
    }
   ],
   "source": [
    "from sklearn.model_selection import StratifiedKFold\n",
    "\n",
    "folds = StratifiedKFold(n_splits=5, shuffle=True, random_state=1991)\n",
    "\n",
    "oof_val_preds = np.zeros(X.shape[0]) \n",
    "\n",
    "oof_test_preds = np.zeros(X_test.shape[0]) \n",
    "\n",
    "for idx, (train_idx, valid_idx) in enumerate(folds.split(X, y)):\n",
    "\n",
    "    print('#'*40, f'폴드 {idx+1} / 폴드 {folds.n_splits}', '#'*40)\n",
    "    \n",
    "    X_train, y_train = X[train_idx], y[train_idx]\n",
    "    X_valid, y_valid = X[valid_idx], y[valid_idx]\n",
    "\n",
    "    dtrain = xgb.DMatrix(X_train, y_train)\n",
    "    dvalid = xgb.DMatrix(X_valid, y_valid)\n",
    "    dtest = xgb.DMatrix(X_test)\n",
    "\n",
    "    xgb_model = xgb.train(params=max_params, \n",
    "                          dtrain=dtrain,\n",
    "                          num_boost_round=2000,\n",
    "                          evals=[(dvalid, 'valid')],\n",
    "                          maximize=True,\n",
    "                          feval=gini,\n",
    "                          early_stopping_rounds=200,\n",
    "                          verbose_eval=100)\n",
    "\n",
    "\n",
    "    best_iter = xgb_model.best_iteration\n",
    "   \n",
    "    oof_test_preds += xgb_model.predict(dtest, iteration_range=(0, best_iter))/folds.n_splits\n",
    "    \n",
    "    oof_val_preds[valid_idx] += xgb_model.predict(dvalid, iteration_range=(0, best_iter))\n",
    "    \n",
    "    gini_score = eval_gini(y_valid, oof_val_preds[valid_idx])\n",
    "    print(f'폴드 {idx+1} 지니계수 : {gini_score}\\n')"
   ]
  },
  {
   "cell_type": "code",
   "execution_count": 36,
   "id": "432273dc",
   "metadata": {
    "execution": {
     "iopub.execute_input": "2022-05-06T06:04:07.532304Z",
     "iopub.status.busy": "2022-05-06T06:04:07.532049Z",
     "iopub.status.idle": "2022-05-06T06:04:07.624911Z",
     "shell.execute_reply": "2022-05-06T06:04:07.623903Z"
    },
    "papermill": {
     "duration": 0.220715,
     "end_time": "2022-05-06T06:04:07.627396",
     "exception": false,
     "start_time": "2022-05-06T06:04:07.406681",
     "status": "completed"
    },
    "tags": []
   },
   "outputs": [
    {
     "name": "stdout",
     "output_type": "stream",
     "text": [
      "OOF 검증 데이터 지니계수 : 0.28918135308145265\n"
     ]
    }
   ],
   "source": [
    "print('OOF 검증 데이터 지니계수 :', eval_gini(y, oof_val_preds))"
   ]
  },
  {
   "cell_type": "code",
   "execution_count": 37,
   "id": "0630c0f4",
   "metadata": {
    "execution": {
     "iopub.execute_input": "2022-05-06T06:04:07.873701Z",
     "iopub.status.busy": "2022-05-06T06:04:07.873458Z",
     "iopub.status.idle": "2022-05-06T06:04:10.856331Z",
     "shell.execute_reply": "2022-05-06T06:04:10.855454Z"
    },
    "papermill": {
     "duration": 3.110176,
     "end_time": "2022-05-06T06:04:10.859182",
     "exception": false,
     "start_time": "2022-05-06T06:04:07.749006",
     "status": "completed"
    },
    "tags": []
   },
   "outputs": [],
   "source": [
    "submission['target'] = oof_test_preds\n",
    "submission.to_csv('submission.csv')"
   ]
  }
 ],
 "metadata": {
  "kernelspec": {
   "display_name": "Python 3",
   "language": "python",
   "name": "python3"
  },
  "language_info": {
   "codemirror_mode": {
    "name": "ipython",
    "version": 3
   },
   "file_extension": ".py",
   "mimetype": "text/x-python",
   "name": "python",
   "nbconvert_exporter": "python",
   "pygments_lexer": "ipython3",
   "version": "3.7.12"
  },
  "papermill": {
   "default_parameters": {},
   "duration": 27956.391603,
   "end_time": "2022-05-06T06:04:12.247028",
   "environment_variables": {},
   "exception": null,
   "input_path": "__notebook__.ipynb",
   "output_path": "__notebook__.ipynb",
   "parameters": {},
   "start_time": "2022-05-05T22:18:15.855425",
   "version": "2.3.4"
  }
 },
 "nbformat": 4,
 "nbformat_minor": 5
}
