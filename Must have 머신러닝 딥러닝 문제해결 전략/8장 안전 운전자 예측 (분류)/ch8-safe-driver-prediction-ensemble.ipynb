{
 "cells": [
  {
   "cell_type": "code",
   "execution_count": 1,
   "id": "44d27de0",
   "metadata": {
    "execution": {
     "iopub.execute_input": "2022-05-05T22:18:24.128930Z",
     "iopub.status.busy": "2022-05-05T22:18:24.127749Z",
     "iopub.status.idle": "2022-05-05T22:18:34.925640Z",
     "shell.execute_reply": "2022-05-05T22:18:34.924755Z",
     "shell.execute_reply.started": "2022-05-05T19:10:31.303834Z"
    },
    "papermill": {
     "duration": 10.823259,
     "end_time": "2022-05-05T22:18:34.925807",
     "exception": false,
     "start_time": "2022-05-05T22:18:24.102548",
     "status": "completed"
    },
    "tags": []
   },
   "outputs": [],
   "source": [
    "import pandas as pd\n",
    "\n",
    "data_path = '/kaggle/input/porto-seguro-safe-driver-prediction/'\n",
    "\n",
    "train = pd.read_csv(data_path + 'train.csv', index_col='id')\n",
    "test = pd.read_csv(data_path + 'test.csv', index_col='id')\n",
    "submission = pd.read_csv(data_path + 'sample_submission.csv', index_col='id')"
   ]
  },
  {
   "cell_type": "code",
   "execution_count": 2,
   "id": "252a69e8",
   "metadata": {
    "execution": {
     "iopub.execute_input": "2022-05-05T22:18:34.982337Z",
     "iopub.status.busy": "2022-05-05T22:18:34.975189Z",
     "iopub.status.idle": "2022-05-05T22:18:36.169550Z",
     "shell.execute_reply": "2022-05-05T22:18:36.170044Z",
     "shell.execute_reply.started": "2022-05-05T19:10:41.839671Z"
    },
    "papermill": {
     "duration": 1.217931,
     "end_time": "2022-05-05T22:18:36.170258",
     "exception": false,
     "start_time": "2022-05-05T22:18:34.952327",
     "status": "completed"
    },
    "tags": []
   },
   "outputs": [],
   "source": [
    "all_data = pd.concat([train, test], ignore_index=True)\n",
    "all_data = all_data.drop('target', axis=1) \n",
    "\n",
    "all_features = all_data.columns "
   ]
  },
  {
   "cell_type": "code",
   "execution_count": 3,
   "id": "6ce4358c",
   "metadata": {
    "execution": {
     "iopub.execute_input": "2022-05-05T22:18:36.215405Z",
     "iopub.status.busy": "2022-05-05T22:18:36.214660Z",
     "iopub.status.idle": "2022-05-05T22:18:39.189490Z",
     "shell.execute_reply": "2022-05-05T22:18:39.188799Z",
     "shell.execute_reply.started": "2022-05-05T19:10:43.008737Z"
    },
    "papermill": {
     "duration": 2.999543,
     "end_time": "2022-05-05T22:18:39.189632",
     "exception": false,
     "start_time": "2022-05-05T22:18:36.190089",
     "status": "completed"
    },
    "tags": []
   },
   "outputs": [],
   "source": [
    "from sklearn.preprocessing import OneHotEncoder\n",
    "\n",
    "cat_features = [feature for feature in all_features if 'cat' in feature] \n",
    "\n",
    "onehot_encoder = OneHotEncoder()\n",
    "encoded_cat_matrix = onehot_encoder.fit_transform(all_data[cat_features]) "
   ]
  },
  {
   "cell_type": "code",
   "execution_count": 4,
   "id": "fabd7be9",
   "metadata": {
    "execution": {
     "iopub.execute_input": "2022-05-05T22:18:39.232846Z",
     "iopub.status.busy": "2022-05-05T22:18:39.232100Z",
     "iopub.status.idle": "2022-05-05T22:18:39.445514Z",
     "shell.execute_reply": "2022-05-05T22:18:39.444932Z",
     "shell.execute_reply.started": "2022-05-05T19:10:45.914833Z"
    },
    "papermill": {
     "duration": 0.236326,
     "end_time": "2022-05-05T22:18:39.445673",
     "exception": false,
     "start_time": "2022-05-05T22:18:39.209347",
     "status": "completed"
    },
    "tags": []
   },
   "outputs": [],
   "source": [
    "all_data['num_missing'] = (all_data==-1).sum(axis=1)"
   ]
  },
  {
   "cell_type": "code",
   "execution_count": 5,
   "id": "2ce6bb88",
   "metadata": {
    "execution": {
     "iopub.execute_input": "2022-05-05T22:18:39.490955Z",
     "iopub.status.busy": "2022-05-05T22:18:39.490237Z",
     "iopub.status.idle": "2022-05-05T22:18:39.492930Z",
     "shell.execute_reply": "2022-05-05T22:18:39.493545Z",
     "shell.execute_reply.started": "2022-05-05T19:10:46.132340Z"
    },
    "papermill": {
     "duration": 0.028245,
     "end_time": "2022-05-05T22:18:39.493775",
     "exception": false,
     "start_time": "2022-05-05T22:18:39.465530",
     "status": "completed"
    },
    "tags": []
   },
   "outputs": [],
   "source": [
    "remaining_features = [feature for feature in all_features \n",
    "                      if ('cat' not in feature and 'calc' not in feature)] \n",
    "\n",
    "remaining_features.append('num_missing')"
   ]
  },
  {
   "cell_type": "code",
   "execution_count": 6,
   "id": "e955f4b4",
   "metadata": {
    "execution": {
     "iopub.execute_input": "2022-05-05T22:18:39.539942Z",
     "iopub.status.busy": "2022-05-05T22:18:39.539207Z",
     "iopub.status.idle": "2022-05-05T22:19:21.470997Z",
     "shell.execute_reply": "2022-05-05T22:19:21.471512Z",
     "shell.execute_reply.started": "2022-05-05T19:10:46.139979Z"
    },
    "papermill": {
     "duration": 41.95812,
     "end_time": "2022-05-05T22:19:21.471761",
     "exception": false,
     "start_time": "2022-05-05T22:18:39.513641",
     "status": "completed"
    },
    "tags": []
   },
   "outputs": [],
   "source": [
    "ind_features = [feature for feature in all_features if 'ind' in feature]\n",
    "\n",
    "is_first_feature = True\n",
    "for ind_feature in ind_features:\n",
    "    if is_first_feature:\n",
    "        all_data['mix_ind'] = all_data[ind_feature].astype(str) + '_'\n",
    "        is_first_feature = False\n",
    "    else:\n",
    "        all_data['mix_ind'] += all_data[ind_feature].astype(str) + '_'"
   ]
  },
  {
   "cell_type": "code",
   "execution_count": 7,
   "id": "e8eaa9db",
   "metadata": {
    "execution": {
     "iopub.execute_input": "2022-05-05T22:19:21.528260Z",
     "iopub.status.busy": "2022-05-05T22:19:21.527526Z",
     "iopub.status.idle": "2022-05-05T22:19:35.407365Z",
     "shell.execute_reply": "2022-05-05T22:19:35.406710Z",
     "shell.execute_reply.started": "2022-05-05T19:11:28.703288Z"
    },
    "papermill": {
     "duration": 13.915668,
     "end_time": "2022-05-05T22:19:35.407522",
     "exception": false,
     "start_time": "2022-05-05T22:19:21.491854",
     "status": "completed"
    },
    "tags": []
   },
   "outputs": [],
   "source": [
    "cat_count_features = []\n",
    "for feature in cat_features+['mix_ind']:\n",
    "    val_counts_dict = all_data[feature].value_counts().to_dict()\n",
    "    all_data[f'{feature}_count'] = all_data[feature].apply(lambda x: \n",
    "                                                           val_counts_dict[x])\n",
    "    cat_count_features.append(f'{feature}_count')"
   ]
  },
  {
   "cell_type": "code",
   "execution_count": 8,
   "id": "d91b2165",
   "metadata": {
    "execution": {
     "iopub.execute_input": "2022-05-05T22:19:35.454677Z",
     "iopub.status.busy": "2022-05-05T22:19:35.454039Z",
     "iopub.status.idle": "2022-05-05T22:19:35.457645Z",
     "shell.execute_reply": "2022-05-05T22:19:35.458186Z",
     "shell.execute_reply.started": "2022-05-05T19:11:42.946539Z"
    },
    "papermill": {
     "duration": 0.03056,
     "end_time": "2022-05-05T22:19:35.458355",
     "exception": false,
     "start_time": "2022-05-05T22:19:35.427795",
     "status": "completed"
    },
    "tags": []
   },
   "outputs": [
    {
     "data": {
      "text/plain": [
       "['ps_ind_02_cat_count',\n",
       " 'ps_ind_04_cat_count',\n",
       " 'ps_ind_05_cat_count',\n",
       " 'ps_car_01_cat_count',\n",
       " 'ps_car_02_cat_count',\n",
       " 'ps_car_03_cat_count',\n",
       " 'ps_car_04_cat_count',\n",
       " 'ps_car_05_cat_count',\n",
       " 'ps_car_06_cat_count',\n",
       " 'ps_car_07_cat_count',\n",
       " 'ps_car_08_cat_count',\n",
       " 'ps_car_09_cat_count',\n",
       " 'ps_car_10_cat_count',\n",
       " 'ps_car_11_cat_count',\n",
       " 'mix_ind_count']"
      ]
     },
     "execution_count": 8,
     "metadata": {},
     "output_type": "execute_result"
    }
   ],
   "source": [
    "cat_count_features"
   ]
  },
  {
   "cell_type": "code",
   "execution_count": 9,
   "id": "e6ef7347",
   "metadata": {
    "execution": {
     "iopub.execute_input": "2022-05-05T22:19:35.502270Z",
     "iopub.status.busy": "2022-05-05T22:19:35.501608Z",
     "iopub.status.idle": "2022-05-05T22:19:40.998830Z",
     "shell.execute_reply": "2022-05-05T22:19:40.998252Z",
     "shell.execute_reply.started": "2022-05-05T19:11:42.958467Z"
    },
    "papermill": {
     "duration": 5.519832,
     "end_time": "2022-05-05T22:19:40.998989",
     "exception": false,
     "start_time": "2022-05-05T22:19:35.479157",
     "status": "completed"
    },
    "tags": []
   },
   "outputs": [],
   "source": [
    "from scipy import sparse\n",
    "\n",
    "drop_features = ['ps_ind_14', 'ps_ind_10_bin', 'ps_ind_11_bin', \n",
    "                 'ps_ind_12_bin', 'ps_ind_13_bin', 'ps_car_14']\n",
    "\n",
    "all_data_remaining = all_data[remaining_features+cat_count_features].drop(drop_features, axis=1)\n",
    "\n",
    "all_data_sprs = sparse.hstack([sparse.csr_matrix(all_data_remaining),\n",
    "                               encoded_cat_matrix],\n",
    "                              format='csr')"
   ]
  },
  {
   "cell_type": "code",
   "execution_count": 10,
   "id": "dd876df8",
   "metadata": {
    "execution": {
     "iopub.execute_input": "2022-05-05T22:19:41.045066Z",
     "iopub.status.busy": "2022-05-05T22:19:41.044377Z",
     "iopub.status.idle": "2022-05-05T22:19:41.992978Z",
     "shell.execute_reply": "2022-05-05T22:19:41.992403Z",
     "shell.execute_reply.started": "2022-05-05T19:11:48.567584Z"
    },
    "papermill": {
     "duration": 0.973664,
     "end_time": "2022-05-05T22:19:41.993122",
     "exception": false,
     "start_time": "2022-05-05T22:19:41.019458",
     "status": "completed"
    },
    "tags": []
   },
   "outputs": [],
   "source": [
    "num_train = len(train) \n",
    "\n",
    "X = all_data_sprs[:num_train]\n",
    "X_test = all_data_sprs[num_train:]\n",
    "\n",
    "y = train['target'].values"
   ]
  },
  {
   "cell_type": "code",
   "execution_count": 11,
   "id": "8d8c0630",
   "metadata": {
    "execution": {
     "iopub.execute_input": "2022-05-05T22:19:42.043638Z",
     "iopub.status.busy": "2022-05-05T22:19:42.042913Z",
     "iopub.status.idle": "2022-05-05T22:19:42.045557Z",
     "shell.execute_reply": "2022-05-05T22:19:42.046003Z",
     "shell.execute_reply.started": "2022-05-05T19:11:49.511405Z"
    },
    "papermill": {
     "duration": 0.032108,
     "end_time": "2022-05-05T22:19:42.046213",
     "exception": false,
     "start_time": "2022-05-05T22:19:42.014105",
     "status": "completed"
    },
    "tags": []
   },
   "outputs": [],
   "source": [
    "import numpy as np\n",
    "\n",
    "def eval_gini(y_true, y_pred):\n",
    "\n",
    "    assert y_true.shape == y_pred.shape\n",
    "\n",
    "    n_samples = y_true.shape[0]                      \n",
    "    L_mid = np.linspace(1 / n_samples, 1, n_samples) \n",
    "\n",
    "    pred_order = y_true[y_pred.argsort()] \n",
    "    L_pred = np.cumsum(pred_order) / np.sum(pred_order) \n",
    "    G_pred = np.sum(L_mid - L_pred)       \n",
    "\n",
    "    true_order = y_true[y_true.argsort()] \n",
    "    L_true = np.cumsum(true_order) / np.sum(true_order) \n",
    "    G_true = np.sum(L_mid - L_true)       \n",
    "\n",
    "    return G_pred / G_true"
   ]
  },
  {
   "cell_type": "code",
   "execution_count": 12,
   "id": "5e49c76c",
   "metadata": {
    "execution": {
     "iopub.execute_input": "2022-05-05T22:19:42.091991Z",
     "iopub.status.busy": "2022-05-05T22:19:42.089603Z",
     "iopub.status.idle": "2022-05-05T22:19:42.094800Z",
     "shell.execute_reply": "2022-05-05T22:19:42.095295Z",
     "shell.execute_reply.started": "2022-05-05T19:11:49.521568Z"
    },
    "papermill": {
     "duration": 0.029315,
     "end_time": "2022-05-05T22:19:42.095473",
     "exception": false,
     "start_time": "2022-05-05T22:19:42.066158",
     "status": "completed"
    },
    "tags": []
   },
   "outputs": [],
   "source": [
    "def gini_lgb(preds, dtrain):\n",
    "    labels = dtrain.get_label()\n",
    "    return 'gini', eval_gini(labels, preds), True"
   ]
  },
  {
   "cell_type": "code",
   "execution_count": 13,
   "id": "533dfee0",
   "metadata": {
    "execution": {
     "iopub.execute_input": "2022-05-05T22:19:42.142750Z",
     "iopub.status.busy": "2022-05-05T22:19:42.142000Z",
     "iopub.status.idle": "2022-05-05T22:19:42.143892Z",
     "shell.execute_reply": "2022-05-05T22:19:42.144494Z",
     "shell.execute_reply.started": "2022-05-05T19:11:49.535210Z"
    },
    "papermill": {
     "duration": 0.027875,
     "end_time": "2022-05-05T22:19:42.144662",
     "exception": false,
     "start_time": "2022-05-05T22:19:42.116787",
     "status": "completed"
    },
    "tags": []
   },
   "outputs": [],
   "source": [
    "def gini_xgb(preds, dtrain):\n",
    "    labels = dtrain.get_label()\n",
    "    return 'gini', eval_gini(labels, preds)"
   ]
  },
  {
   "cell_type": "code",
   "execution_count": 14,
   "id": "22d2e0b8",
   "metadata": {
    "execution": {
     "iopub.execute_input": "2022-05-05T22:19:42.187960Z",
     "iopub.status.busy": "2022-05-05T22:19:42.187355Z",
     "iopub.status.idle": "2022-05-05T22:19:42.244817Z",
     "shell.execute_reply": "2022-05-05T22:19:42.245392Z",
     "shell.execute_reply.started": "2022-05-05T19:11:49.549310Z"
    },
    "papermill": {
     "duration": 0.080564,
     "end_time": "2022-05-05T22:19:42.245589",
     "exception": false,
     "start_time": "2022-05-05T22:19:42.165025",
     "status": "completed"
    },
    "tags": []
   },
   "outputs": [],
   "source": [
    "from sklearn.model_selection import StratifiedKFold\n",
    "\n",
    "folds = StratifiedKFold(n_splits=5, shuffle=True, random_state=1991)"
   ]
  },
  {
   "cell_type": "code",
   "execution_count": 15,
   "id": "474e9819",
   "metadata": {
    "execution": {
     "iopub.execute_input": "2022-05-05T22:19:42.291639Z",
     "iopub.status.busy": "2022-05-05T22:19:42.290994Z",
     "iopub.status.idle": "2022-05-05T22:19:42.293617Z",
     "shell.execute_reply": "2022-05-05T22:19:42.294090Z",
     "shell.execute_reply.started": "2022-05-05T19:11:49.617755Z"
    },
    "papermill": {
     "duration": 0.028657,
     "end_time": "2022-05-05T22:19:42.294287",
     "exception": false,
     "start_time": "2022-05-05T22:19:42.265630",
     "status": "completed"
    },
    "tags": []
   },
   "outputs": [],
   "source": [
    "max_params_lgb = {\n",
    "    'bagging_fraction': 0.6213108174593661,\n",
    "    'feature_fraction': 0.608712929970154,\n",
    "    'lambda_l1': 0.7040436794880651,\n",
    "    'lambda_l2': 0.9832619845547939,\n",
    "    'min_child_samples': 9,\n",
    "    'min_child_weight': 36.10036444740457,\n",
    "    'num_leaves': 40,\n",
    "    'objective': 'binary',\n",
    "    'learning_rate': 0.005,\n",
    "    'bagging_freq': 1,\n",
    "    'force_row_wise': True,\n",
    "    'random_state': 1991\n",
    "}"
   ]
  },
  {
   "cell_type": "code",
   "execution_count": 16,
   "id": "703df5cc",
   "metadata": {
    "execution": {
     "iopub.execute_input": "2022-05-05T22:19:42.337945Z",
     "iopub.status.busy": "2022-05-05T22:19:42.337271Z",
     "iopub.status.idle": "2022-05-05T22:42:41.085121Z",
     "shell.execute_reply": "2022-05-05T22:42:41.085743Z",
     "shell.execute_reply.started": "2022-05-05T19:11:49.626259Z"
    },
    "papermill": {
     "duration": 1378.771901,
     "end_time": "2022-05-05T22:42:41.086143",
     "exception": false,
     "start_time": "2022-05-05T22:19:42.314242",
     "status": "completed"
    },
    "tags": []
   },
   "outputs": [
    {
     "data": {
      "text/html": [
       "<style type='text/css'>\n",
       ".datatable table.frame { margin-bottom: 0; }\n",
       ".datatable table.frame thead { border-bottom: none; }\n",
       ".datatable table.frame tr.coltypes td {  color: #FFFFFF;  line-height: 6px;  padding: 0 0.5em;}\n",
       ".datatable .bool    { background: #DDDD99; }\n",
       ".datatable .object  { background: #565656; }\n",
       ".datatable .int     { background: #5D9E5D; }\n",
       ".datatable .float   { background: #4040CC; }\n",
       ".datatable .str     { background: #CC4040; }\n",
       ".datatable .time    { background: #40CC40; }\n",
       ".datatable .row_index {  background: var(--jp-border-color3);  border-right: 1px solid var(--jp-border-color0);  color: var(--jp-ui-font-color3);  font-size: 9px;}\n",
       ".datatable .frame tbody td { text-align: left; }\n",
       ".datatable .frame tr.coltypes .row_index {  background: var(--jp-border-color0);}\n",
       ".datatable th:nth-child(2) { padding-left: 12px; }\n",
       ".datatable .hellipsis {  color: var(--jp-cell-editor-border-color);}\n",
       ".datatable .vellipsis {  background: var(--jp-layout-color0);  color: var(--jp-cell-editor-border-color);}\n",
       ".datatable .na {  color: var(--jp-cell-editor-border-color);  font-size: 80%;}\n",
       ".datatable .sp {  opacity: 0.25;}\n",
       ".datatable .footer { font-size: 9px; }\n",
       ".datatable .frame_dimensions {  background: var(--jp-border-color3);  border-top: 1px solid var(--jp-border-color0);  color: var(--jp-ui-font-color3);  display: inline-block;  opacity: 0.6;  padding: 1px 10px 1px 5px;}\n",
       "</style>\n"
      ],
      "text/plain": [
       "<IPython.core.display.HTML object>"
      ]
     },
     "metadata": {},
     "output_type": "display_data"
    },
    {
     "name": "stdout",
     "output_type": "stream",
     "text": [
      "######################################## 폴드 1 / 폴드 5 ########################################\n",
      "[LightGBM] [Info] Number of positive: 17355, number of negative: 458814\n",
      "[LightGBM] [Info] Total Bins 1554\n",
      "[LightGBM] [Info] Number of data points in the train set: 476169, number of used features: 216\n",
      "[LightGBM] [Info] [binary:BoostFromScore]: pavg=0.036447 -> initscore=-3.274764\n",
      "[LightGBM] [Info] Start training from score -3.274764\n",
      "Training until validation scores don't improve for 300 rounds\n",
      "[100]\tvalid_0's binary_logloss: 0.154239\tvalid_0's gini: 0.270944\n",
      "[200]\tvalid_0's binary_logloss: 0.153176\tvalid_0's gini: 0.275764\n",
      "[300]\tvalid_0's binary_logloss: 0.152584\tvalid_0's gini: 0.279501\n",
      "[400]\tvalid_0's binary_logloss: 0.152222\tvalid_0's gini: 0.282893\n",
      "[500]\tvalid_0's binary_logloss: 0.151986\tvalid_0's gini: 0.286058\n",
      "[600]\tvalid_0's binary_logloss: 0.151824\tvalid_0's gini: 0.288805\n",
      "[700]\tvalid_0's binary_logloss: 0.151712\tvalid_0's gini: 0.290719\n",
      "[800]\tvalid_0's binary_logloss: 0.151622\tvalid_0's gini: 0.292581\n",
      "[900]\tvalid_0's binary_logloss: 0.151552\tvalid_0's gini: 0.294212\n",
      "[1000]\tvalid_0's binary_logloss: 0.151505\tvalid_0's gini: 0.295204\n",
      "[1100]\tvalid_0's binary_logloss: 0.151471\tvalid_0's gini: 0.295909\n",
      "[1200]\tvalid_0's binary_logloss: 0.151438\tvalid_0's gini: 0.296721\n",
      "[1300]\tvalid_0's binary_logloss: 0.151414\tvalid_0's gini: 0.297335\n",
      "[1400]\tvalid_0's binary_logloss: 0.151402\tvalid_0's gini: 0.297569\n",
      "[1500]\tvalid_0's binary_logloss: 0.15139\tvalid_0's gini: 0.297881\n",
      "[1600]\tvalid_0's binary_logloss: 0.151382\tvalid_0's gini: 0.298033\n",
      "[1700]\tvalid_0's binary_logloss: 0.151376\tvalid_0's gini: 0.298238\n",
      "[1800]\tvalid_0's binary_logloss: 0.151372\tvalid_0's gini: 0.298342\n",
      "[1900]\tvalid_0's binary_logloss: 0.151369\tvalid_0's gini: 0.298371\n",
      "[2000]\tvalid_0's binary_logloss: 0.151371\tvalid_0's gini: 0.298222\n",
      "[2100]\tvalid_0's binary_logloss: 0.151362\tvalid_0's gini: 0.298463\n",
      "[2200]\tvalid_0's binary_logloss: 0.151359\tvalid_0's gini: 0.298466\n",
      "[2300]\tvalid_0's binary_logloss: 0.151362\tvalid_0's gini: 0.298415\n",
      "[2400]\tvalid_0's binary_logloss: 0.151359\tvalid_0's gini: 0.298569\n",
      "[2500]\tvalid_0's binary_logloss: 0.151361\tvalid_0's gini: 0.298542\n",
      "Did not meet early stopping. Best iteration is:\n",
      "[2458]\tvalid_0's binary_logloss: 0.151355\tvalid_0's gini: 0.29865\n",
      "폴드 1 지니계수 : 0.2986504843987991\n",
      "\n",
      "######################################## 폴드 2 / 폴드 5 ########################################\n",
      "[LightGBM] [Info] Number of positive: 17355, number of negative: 458814\n",
      "[LightGBM] [Info] Total Bins 1560\n",
      "[LightGBM] [Info] Number of data points in the train set: 476169, number of used features: 216\n",
      "[LightGBM] [Info] [binary:BoostFromScore]: pavg=0.036447 -> initscore=-3.274764\n",
      "[LightGBM] [Info] Start training from score -3.274764\n",
      "Training until validation scores don't improve for 300 rounds\n",
      "[100]\tvalid_0's binary_logloss: 0.154347\tvalid_0's gini: 0.258575\n",
      "[200]\tvalid_0's binary_logloss: 0.153338\tvalid_0's gini: 0.263768\n",
      "[300]\tvalid_0's binary_logloss: 0.152804\tvalid_0's gini: 0.267635\n",
      "[400]\tvalid_0's binary_logloss: 0.152483\tvalid_0's gini: 0.271009\n",
      "[500]\tvalid_0's binary_logloss: 0.152299\tvalid_0's gini: 0.27324\n",
      "[600]\tvalid_0's binary_logloss: 0.152157\tvalid_0's gini: 0.275756\n",
      "[700]\tvalid_0's binary_logloss: 0.15206\tvalid_0's gini: 0.277655\n",
      "[800]\tvalid_0's binary_logloss: 0.151986\tvalid_0's gini: 0.279371\n",
      "[900]\tvalid_0's binary_logloss: 0.151942\tvalid_0's gini: 0.280359\n",
      "[1000]\tvalid_0's binary_logloss: 0.151898\tvalid_0's gini: 0.281475\n",
      "[1100]\tvalid_0's binary_logloss: 0.15186\tvalid_0's gini: 0.282482\n",
      "[1200]\tvalid_0's binary_logloss: 0.151835\tvalid_0's gini: 0.283198\n",
      "[1300]\tvalid_0's binary_logloss: 0.15181\tvalid_0's gini: 0.283848\n",
      "[1400]\tvalid_0's binary_logloss: 0.151796\tvalid_0's gini: 0.284221\n",
      "[1500]\tvalid_0's binary_logloss: 0.151781\tvalid_0's gini: 0.284645\n",
      "[1600]\tvalid_0's binary_logloss: 0.15177\tvalid_0's gini: 0.284943\n",
      "[1700]\tvalid_0's binary_logloss: 0.151761\tvalid_0's gini: 0.285129\n",
      "[1800]\tvalid_0's binary_logloss: 0.151755\tvalid_0's gini: 0.28522\n",
      "[1900]\tvalid_0's binary_logloss: 0.151752\tvalid_0's gini: 0.285325\n",
      "[2000]\tvalid_0's binary_logloss: 0.151749\tvalid_0's gini: 0.285504\n",
      "[2100]\tvalid_0's binary_logloss: 0.151748\tvalid_0's gini: 0.285633\n",
      "[2200]\tvalid_0's binary_logloss: 0.151744\tvalid_0's gini: 0.285711\n",
      "[2300]\tvalid_0's binary_logloss: 0.15174\tvalid_0's gini: 0.285853\n",
      "[2400]\tvalid_0's binary_logloss: 0.15174\tvalid_0's gini: 0.28594\n",
      "[2500]\tvalid_0's binary_logloss: 0.151745\tvalid_0's gini: 0.285916\n",
      "Did not meet early stopping. Best iteration is:\n",
      "[2334]\tvalid_0's binary_logloss: 0.151736\tvalid_0's gini: 0.285929\n",
      "폴드 2 지니계수 : 0.2859292916021393\n",
      "\n",
      "######################################## 폴드 3 / 폴드 5 ########################################\n",
      "[LightGBM] [Info] Number of positive: 17356, number of negative: 458814\n",
      "[LightGBM] [Info] Total Bins 1558\n",
      "[LightGBM] [Info] Number of data points in the train set: 476170, number of used features: 217\n",
      "[LightGBM] [Info] [binary:BoostFromScore]: pavg=0.036449 -> initscore=-3.274707\n",
      "[LightGBM] [Info] Start training from score -3.274707\n",
      "Training until validation scores don't improve for 300 rounds\n",
      "[100]\tvalid_0's binary_logloss: 0.15424\tvalid_0's gini: 0.263985\n",
      "[200]\tvalid_0's binary_logloss: 0.153171\tvalid_0's gini: 0.268713\n",
      "[300]\tvalid_0's binary_logloss: 0.152574\tvalid_0's gini: 0.272773\n",
      "[400]\tvalid_0's binary_logloss: 0.152223\tvalid_0's gini: 0.275785\n",
      "[500]\tvalid_0's binary_logloss: 0.152001\tvalid_0's gini: 0.278098\n",
      "[600]\tvalid_0's binary_logloss: 0.151847\tvalid_0's gini: 0.280206\n",
      "[700]\tvalid_0's binary_logloss: 0.151748\tvalid_0's gini: 0.281603\n",
      "[800]\tvalid_0's binary_logloss: 0.151682\tvalid_0's gini: 0.282672\n",
      "[900]\tvalid_0's binary_logloss: 0.151637\tvalid_0's gini: 0.283423\n",
      "[1000]\tvalid_0's binary_logloss: 0.151608\tvalid_0's gini: 0.283963\n",
      "[1100]\tvalid_0's binary_logloss: 0.151589\tvalid_0's gini: 0.284105\n",
      "[1200]\tvalid_0's binary_logloss: 0.151574\tvalid_0's gini: 0.284387\n",
      "[1300]\tvalid_0's binary_logloss: 0.151575\tvalid_0's gini: 0.284318\n",
      "[1400]\tvalid_0's binary_logloss: 0.151572\tvalid_0's gini: 0.284372\n",
      "[1500]\tvalid_0's binary_logloss: 0.151569\tvalid_0's gini: 0.284466\n",
      "[1600]\tvalid_0's binary_logloss: 0.151574\tvalid_0's gini: 0.284435\n",
      "[1700]\tvalid_0's binary_logloss: 0.151579\tvalid_0's gini: 0.284362\n",
      "Early stopping, best iteration is:\n",
      "[1478]\tvalid_0's binary_logloss: 0.151568\tvalid_0's gini: 0.284492\n",
      "폴드 3 지니계수 : 0.2844916047790675\n",
      "\n",
      "######################################## 폴드 4 / 폴드 5 ########################################\n",
      "[LightGBM] [Info] Number of positive: 17355, number of negative: 458815\n",
      "[LightGBM] [Info] Total Bins 1555\n",
      "[LightGBM] [Info] Number of data points in the train set: 476170, number of used features: 216\n",
      "[LightGBM] [Info] [binary:BoostFromScore]: pavg=0.036447 -> initscore=-3.274766\n",
      "[LightGBM] [Info] Start training from score -3.274766\n",
      "Training until validation scores don't improve for 300 rounds\n",
      "[100]\tvalid_0's binary_logloss: 0.154327\tvalid_0's gini: 0.256916\n",
      "[200]\tvalid_0's binary_logloss: 0.15331\tvalid_0's gini: 0.261871\n",
      "[300]\tvalid_0's binary_logloss: 0.152761\tvalid_0's gini: 0.265441\n",
      "[400]\tvalid_0's binary_logloss: 0.152441\tvalid_0's gini: 0.268613\n",
      "[500]\tvalid_0's binary_logloss: 0.152245\tvalid_0's gini: 0.271168\n",
      "[600]\tvalid_0's binary_logloss: 0.152098\tvalid_0's gini: 0.273746\n",
      "[700]\tvalid_0's binary_logloss: 0.152012\tvalid_0's gini: 0.275192\n",
      "[800]\tvalid_0's binary_logloss: 0.151952\tvalid_0's gini: 0.276278\n",
      "[900]\tvalid_0's binary_logloss: 0.151911\tvalid_0's gini: 0.277039\n",
      "[1000]\tvalid_0's binary_logloss: 0.151871\tvalid_0's gini: 0.277996\n",
      "[1100]\tvalid_0's binary_logloss: 0.151844\tvalid_0's gini: 0.278535\n",
      "[1200]\tvalid_0's binary_logloss: 0.151827\tvalid_0's gini: 0.279055\n",
      "[1300]\tvalid_0's binary_logloss: 0.151817\tvalid_0's gini: 0.27936\n",
      "[1400]\tvalid_0's binary_logloss: 0.151799\tvalid_0's gini: 0.279872\n",
      "[1500]\tvalid_0's binary_logloss: 0.151797\tvalid_0's gini: 0.280053\n",
      "[1600]\tvalid_0's binary_logloss: 0.151792\tvalid_0's gini: 0.280148\n",
      "[1700]\tvalid_0's binary_logloss: 0.151794\tvalid_0's gini: 0.280162\n",
      "[1800]\tvalid_0's binary_logloss: 0.151793\tvalid_0's gini: 0.280319\n",
      "[1900]\tvalid_0's binary_logloss: 0.151795\tvalid_0's gini: 0.280422\n",
      "[2000]\tvalid_0's binary_logloss: 0.151797\tvalid_0's gini: 0.280419\n",
      "[2100]\tvalid_0's binary_logloss: 0.151799\tvalid_0's gini: 0.280516\n",
      "Early stopping, best iteration is:\n",
      "[1852]\tvalid_0's binary_logloss: 0.15179\tvalid_0's gini: 0.280514\n",
      "폴드 4 지니계수 : 0.2805136229288192\n",
      "\n",
      "######################################## 폴드 5 / 폴드 5 ########################################\n",
      "[LightGBM] [Info] Number of positive: 17355, number of negative: 458815\n",
      "[LightGBM] [Info] Total Bins 1558\n",
      "[LightGBM] [Info] Number of data points in the train set: 476170, number of used features: 217\n",
      "[LightGBM] [Info] [binary:BoostFromScore]: pavg=0.036447 -> initscore=-3.274766\n",
      "[LightGBM] [Info] Start training from score -3.274766\n",
      "Training until validation scores don't improve for 300 rounds\n",
      "[100]\tvalid_0's binary_logloss: 0.15439\tvalid_0's gini: 0.26681\n",
      "[200]\tvalid_0's binary_logloss: 0.15338\tvalid_0's gini: 0.272186\n",
      "[300]\tvalid_0's binary_logloss: 0.152821\tvalid_0's gini: 0.275897\n",
      "[400]\tvalid_0's binary_logloss: 0.1525\tvalid_0's gini: 0.278734\n",
      "[500]\tvalid_0's binary_logloss: 0.152277\tvalid_0's gini: 0.282151\n",
      "[600]\tvalid_0's binary_logloss: 0.15212\tvalid_0's gini: 0.285039\n",
      "[700]\tvalid_0's binary_logloss: 0.152009\tvalid_0's gini: 0.287435\n",
      "[800]\tvalid_0's binary_logloss: 0.15192\tvalid_0's gini: 0.289549\n",
      "[900]\tvalid_0's binary_logloss: 0.151862\tvalid_0's gini: 0.290886\n",
      "[1000]\tvalid_0's binary_logloss: 0.151819\tvalid_0's gini: 0.291935\n",
      "[1100]\tvalid_0's binary_logloss: 0.151782\tvalid_0's gini: 0.292972\n",
      "[1200]\tvalid_0's binary_logloss: 0.151752\tvalid_0's gini: 0.293784\n",
      "[1300]\tvalid_0's binary_logloss: 0.151732\tvalid_0's gini: 0.294315\n",
      "[1400]\tvalid_0's binary_logloss: 0.151724\tvalid_0's gini: 0.294475\n",
      "[1500]\tvalid_0's binary_logloss: 0.151713\tvalid_0's gini: 0.294786\n",
      "[1600]\tvalid_0's binary_logloss: 0.1517\tvalid_0's gini: 0.295146\n",
      "[1700]\tvalid_0's binary_logloss: 0.151694\tvalid_0's gini: 0.295268\n",
      "[1800]\tvalid_0's binary_logloss: 0.151695\tvalid_0's gini: 0.295212\n",
      "[1900]\tvalid_0's binary_logloss: 0.151689\tvalid_0's gini: 0.295454\n",
      "[2000]\tvalid_0's binary_logloss: 0.151693\tvalid_0's gini: 0.2954\n",
      "[2100]\tvalid_0's binary_logloss: 0.151694\tvalid_0's gini: 0.295427\n",
      "[2200]\tvalid_0's binary_logloss: 0.151692\tvalid_0's gini: 0.295538\n",
      "[2300]\tvalid_0's binary_logloss: 0.151699\tvalid_0's gini: 0.295411\n",
      "Early stopping, best iteration is:\n",
      "[2045]\tvalid_0's binary_logloss: 0.151689\tvalid_0's gini: 0.295553\n",
      "폴드 5 지니계수 : 0.29555250456072807\n",
      "\n"
     ]
    }
   ],
   "source": [
    "import lightgbm as lgb\n",
    "\n",
    "oof_val_preds_lgb = np.zeros(X.shape[0]) \n",
    "\n",
    "oof_test_preds_lgb = np.zeros(X_test.shape[0]) \n",
    "\n",
    "for idx, (train_idx, valid_idx) in enumerate(folds.split(X, y)):\n",
    "\n",
    "    print('#'*40, f'폴드 {idx+1} / 폴드 {folds.n_splits}', '#'*40)\n",
    "    \n",
    "    X_train, y_train = X[train_idx], y[train_idx] \n",
    "    X_valid, y_valid = X[valid_idx], y[valid_idx] \n",
    "\n",
    "    dtrain = lgb.Dataset(X_train, y_train) \n",
    "    dvalid = lgb.Dataset(X_valid, y_valid) \n",
    "                          \n",
    "    lgb_model = lgb.train(params=max_params_lgb,     \n",
    "                          train_set=dtrain,          \n",
    "                          num_boost_round=2500,      \n",
    "                          valid_sets=dvalid,         \n",
    "                          feval=gini_lgb,            \n",
    "                          early_stopping_rounds=300, \n",
    "                          verbose_eval=100)          \n",
    "    \n",
    "    oof_test_preds_lgb += lgb_model.predict(X_test)/folds.n_splits\n",
    "    \n",
    "    oof_val_preds_lgb[valid_idx] += lgb_model.predict(X_valid)\n",
    "    \n",
    "    gini_score = eval_gini(y_valid, oof_val_preds_lgb[valid_idx])\n",
    "    print(f'폴드 {idx+1} 지니계수 : {gini_score}\\n')"
   ]
  },
  {
   "cell_type": "code",
   "execution_count": 17,
   "id": "5e2b61cd",
   "metadata": {
    "execution": {
     "iopub.execute_input": "2022-05-05T22:42:41.219161Z",
     "iopub.status.busy": "2022-05-05T22:42:41.218152Z",
     "iopub.status.idle": "2022-05-05T22:42:41.221009Z",
     "shell.execute_reply": "2022-05-05T22:42:41.220495Z",
     "shell.execute_reply.started": "2022-05-05T19:35:10.570326Z"
    },
    "papermill": {
     "duration": 0.070873,
     "end_time": "2022-05-05T22:42:41.221157",
     "exception": false,
     "start_time": "2022-05-05T22:42:41.150284",
     "status": "completed"
    },
    "tags": []
   },
   "outputs": [],
   "source": [
    "max_params_xgb = {\n",
    "    'colsample_bytree': 0.8843124587484356,\n",
    "    'gamma': 10.452246227672624,\n",
    "    'max_depth': 7,\n",
    "    'min_child_weight': 6.494091293383359,\n",
    "    'reg_alpha': 8.551838810159788,\n",
    "    'reg_lambda': 1.3814765995549108,\n",
    "    'scale_pos_weight': 1.423280772455086,\n",
    "    'subsample': 0.7001630536555632,\n",
    "    'objective': 'binary:logistic',\n",
    "    'learning_rate': 0.02,\n",
    "    'random_state': 1991\n",
    "}"
   ]
  },
  {
   "cell_type": "code",
   "execution_count": 18,
   "id": "ad6291c3",
   "metadata": {
    "execution": {
     "iopub.execute_input": "2022-05-05T22:42:41.353510Z",
     "iopub.status.busy": "2022-05-05T22:42:41.352762Z",
     "iopub.status.idle": "2022-05-06T00:20:34.202016Z",
     "shell.execute_reply": "2022-05-06T00:20:34.200956Z",
     "shell.execute_reply.started": "2022-05-05T19:35:10.581955Z"
    },
    "papermill": {
     "duration": 5872.920288,
     "end_time": "2022-05-06T00:20:34.202248",
     "exception": false,
     "start_time": "2022-05-05T22:42:41.281960",
     "status": "completed"
    },
    "tags": []
   },
   "outputs": [
    {
     "name": "stdout",
     "output_type": "stream",
     "text": [
      "######################################## 폴드 1 / 폴드 5 ########################################\n",
      "[22:42:44] WARNING: ../src/learner.cc:1095: Starting in XGBoost 1.3.0, the default evaluation metric used with the objective 'binary:logistic' was changed from 'error' to 'logloss'. Explicitly set eval_metric if you'd like to restore the old behavior.\n",
      "[0]\tvalid-logloss:0.67674\tvalid-gini:0.15993\n",
      "[100]\tvalid-logloss:0.19089\tvalid-gini:0.24958\n",
      "[200]\tvalid-logloss:0.15778\tvalid-gini:0.27832\n",
      "[300]\tvalid-logloss:0.15458\tvalid-gini:0.28767\n",
      "[400]\tvalid-logloss:0.15406\tvalid-gini:0.29234\n",
      "[500]\tvalid-logloss:0.15391\tvalid-gini:0.29475\n",
      "[600]\tvalid-logloss:0.15386\tvalid-gini:0.29597\n",
      "[700]\tvalid-logloss:0.15380\tvalid-gini:0.29749\n",
      "[800]\tvalid-logloss:0.15378\tvalid-gini:0.29842\n",
      "[900]\tvalid-logloss:0.15375\tvalid-gini:0.29890\n",
      "[1000]\tvalid-logloss:0.15373\tvalid-gini:0.29963\n",
      "[1100]\tvalid-logloss:0.15371\tvalid-gini:0.29988\n",
      "[1200]\tvalid-logloss:0.15370\tvalid-gini:0.30000\n",
      "[1300]\tvalid-logloss:0.15369\tvalid-gini:0.30005\n",
      "[1400]\tvalid-logloss:0.15370\tvalid-gini:0.30017\n",
      "[1500]\tvalid-logloss:0.15367\tvalid-gini:0.30076\n",
      "[1600]\tvalid-logloss:0.15370\tvalid-gini:0.30043\n",
      "[1700]\tvalid-logloss:0.15370\tvalid-gini:0.30049\n",
      "[1705]\tvalid-logloss:0.15369\tvalid-gini:0.30050\n",
      "폴드 1 지니계수 : 0.3007997522108954\n",
      "\n",
      "######################################## 폴드 2 / 폴드 5 ########################################\n",
      "[23:03:28] WARNING: ../src/learner.cc:1095: Starting in XGBoost 1.3.0, the default evaluation metric used with the objective 'binary:logistic' was changed from 'error' to 'logloss'. Explicitly set eval_metric if you'd like to restore the old behavior.\n",
      "[0]\tvalid-logloss:0.67667\tvalid-gini:0.12437\n",
      "[100]\tvalid-logloss:0.19102\tvalid-gini:0.23610\n",
      "[200]\tvalid-logloss:0.15807\tvalid-gini:0.26298\n",
      "[300]\tvalid-logloss:0.15496\tvalid-gini:0.27271\n",
      "[400]\tvalid-logloss:0.15446\tvalid-gini:0.27751\n",
      "[500]\tvalid-logloss:0.15433\tvalid-gini:0.27974\n",
      "[600]\tvalid-logloss:0.15429\tvalid-gini:0.28123\n",
      "[700]\tvalid-logloss:0.15426\tvalid-gini:0.28225\n",
      "[800]\tvalid-logloss:0.15423\tvalid-gini:0.28324\n",
      "[900]\tvalid-logloss:0.15420\tvalid-gini:0.28380\n",
      "[1000]\tvalid-logloss:0.15419\tvalid-gini:0.28426\n",
      "[1100]\tvalid-logloss:0.15420\tvalid-gini:0.28422\n",
      "[1200]\tvalid-logloss:0.15419\tvalid-gini:0.28422\n",
      "[1300]\tvalid-logloss:0.15418\tvalid-gini:0.28440\n",
      "[1400]\tvalid-logloss:0.15415\tvalid-gini:0.28465\n",
      "[1500]\tvalid-logloss:0.15417\tvalid-gini:0.28480\n",
      "[1600]\tvalid-logloss:0.15416\tvalid-gini:0.28499\n",
      "[1700]\tvalid-logloss:0.15415\tvalid-gini:0.28518\n",
      "[1800]\tvalid-logloss:0.15417\tvalid-gini:0.28518\n",
      "[1900]\tvalid-logloss:0.15415\tvalid-gini:0.28528\n",
      "[1999]\tvalid-logloss:0.15416\tvalid-gini:0.28550\n",
      "폴드 2 지니계수 : 0.2854709839884158\n",
      "\n",
      "######################################## 폴드 3 / 폴드 5 ########################################\n",
      "[23:27:25] WARNING: ../src/learner.cc:1095: Starting in XGBoost 1.3.0, the default evaluation metric used with the objective 'binary:logistic' was changed from 'error' to 'logloss'. Explicitly set eval_metric if you'd like to restore the old behavior.\n",
      "[0]\tvalid-logloss:0.67673\tvalid-gini:0.15482\n",
      "[100]\tvalid-logloss:0.19092\tvalid-gini:0.24566\n",
      "[200]\tvalid-logloss:0.15780\tvalid-gini:0.27105\n",
      "[300]\tvalid-logloss:0.15460\tvalid-gini:0.27965\n",
      "[400]\tvalid-logloss:0.15414\tvalid-gini:0.28260\n",
      "[500]\tvalid-logloss:0.15405\tvalid-gini:0.28340\n",
      "[600]\tvalid-logloss:0.15402\tvalid-gini:0.28403\n",
      "[700]\tvalid-logloss:0.15400\tvalid-gini:0.28423\n",
      "[800]\tvalid-logloss:0.15398\tvalid-gini:0.28459\n",
      "[900]\tvalid-logloss:0.15398\tvalid-gini:0.28478\n",
      "[1000]\tvalid-logloss:0.15398\tvalid-gini:0.28478\n",
      "[1100]\tvalid-logloss:0.15399\tvalid-gini:0.28479\n",
      "[1142]\tvalid-logloss:0.15399\tvalid-gini:0.28472\n",
      "폴드 3 지니계수 : 0.28490813985037916\n",
      "\n",
      "######################################## 폴드 4 / 폴드 5 ########################################\n",
      "[23:41:21] WARNING: ../src/learner.cc:1095: Starting in XGBoost 1.3.0, the default evaluation metric used with the objective 'binary:logistic' was changed from 'error' to 'logloss'. Explicitly set eval_metric if you'd like to restore the old behavior.\n",
      "[0]\tvalid-logloss:0.67664\tvalid-gini:0.15196\n",
      "[100]\tvalid-logloss:0.19084\tvalid-gini:0.23719\n",
      "[200]\tvalid-logloss:0.15791\tvalid-gini:0.26372\n",
      "[300]\tvalid-logloss:0.15483\tvalid-gini:0.27166\n",
      "[400]\tvalid-logloss:0.15438\tvalid-gini:0.27451\n",
      "[500]\tvalid-logloss:0.15429\tvalid-gini:0.27617\n",
      "[600]\tvalid-logloss:0.15424\tvalid-gini:0.27749\n",
      "[700]\tvalid-logloss:0.15421\tvalid-gini:0.27802\n",
      "[800]\tvalid-logloss:0.15420\tvalid-gini:0.27858\n",
      "[900]\tvalid-logloss:0.15417\tvalid-gini:0.27880\n",
      "[1000]\tvalid-logloss:0.15417\tvalid-gini:0.27890\n",
      "[1100]\tvalid-logloss:0.15418\tvalid-gini:0.27887\n",
      "[1200]\tvalid-logloss:0.15418\tvalid-gini:0.27891\n",
      "[1249]\tvalid-logloss:0.15419\tvalid-gini:0.27901\n",
      "폴드 4 지니계수 : 0.2789940456802698\n",
      "\n",
      "######################################## 폴드 5 / 폴드 5 ########################################\n",
      "[23:56:23] WARNING: ../src/learner.cc:1095: Starting in XGBoost 1.3.0, the default evaluation metric used with the objective 'binary:logistic' was changed from 'error' to 'logloss'. Explicitly set eval_metric if you'd like to restore the old behavior.\n",
      "[0]\tvalid-logloss:0.67665\tvalid-gini:0.14131\n",
      "[100]\tvalid-logloss:0.19094\tvalid-gini:0.24611\n",
      "[200]\tvalid-logloss:0.15802\tvalid-gini:0.27181\n",
      "[300]\tvalid-logloss:0.15485\tvalid-gini:0.28306\n",
      "[400]\tvalid-logloss:0.15433\tvalid-gini:0.28812\n",
      "[500]\tvalid-logloss:0.15420\tvalid-gini:0.29071\n",
      "[600]\tvalid-logloss:0.15414\tvalid-gini:0.29263\n",
      "[700]\tvalid-logloss:0.15408\tvalid-gini:0.29391\n",
      "[800]\tvalid-logloss:0.15407\tvalid-gini:0.29481\n",
      "[900]\tvalid-logloss:0.15402\tvalid-gini:0.29544\n",
      "[1000]\tvalid-logloss:0.15401\tvalid-gini:0.29599\n",
      "[1100]\tvalid-logloss:0.15401\tvalid-gini:0.29623\n",
      "[1200]\tvalid-logloss:0.15398\tvalid-gini:0.29669\n",
      "[1300]\tvalid-logloss:0.15396\tvalid-gini:0.29688\n",
      "[1400]\tvalid-logloss:0.15397\tvalid-gini:0.29680\n",
      "[1500]\tvalid-logloss:0.15396\tvalid-gini:0.29683\n",
      "[1600]\tvalid-logloss:0.15396\tvalid-gini:0.29699\n",
      "[1700]\tvalid-logloss:0.15394\tvalid-gini:0.29721\n",
      "[1800]\tvalid-logloss:0.15395\tvalid-gini:0.29730\n",
      "[1900]\tvalid-logloss:0.15395\tvalid-gini:0.29740\n",
      "[1999]\tvalid-logloss:0.15395\tvalid-gini:0.29731\n",
      "폴드 5 지니계수 : 0.2974836540733333\n",
      "\n"
     ]
    }
   ],
   "source": [
    "import xgboost as xgb\n",
    "\n",
    "oof_val_preds_xgb = np.zeros(X.shape[0]) \n",
    "\n",
    "oof_test_preds_xgb = np.zeros(X_test.shape[0]) \n",
    "\n",
    "for idx, (train_idx, valid_idx) in enumerate(folds.split(X, y)):\n",
    "\n",
    "    print('#'*40, f'폴드 {idx+1} / 폴드 {folds.n_splits}', '#'*40)\n",
    "    \n",
    "    X_train, y_train = X[train_idx], y[train_idx]\n",
    "    X_valid, y_valid = X[valid_idx], y[valid_idx]\n",
    "\n",
    "    dtrain = xgb.DMatrix(X_train, y_train)\n",
    "    dvalid = xgb.DMatrix(X_valid, y_valid)\n",
    "    dtest = xgb.DMatrix(X_test)\n",
    "\n",
    "    xgb_model = xgb.train(params=max_params_xgb, \n",
    "                          dtrain=dtrain,\n",
    "                          num_boost_round=2000,\n",
    "                          evals=[(dvalid, 'valid')],\n",
    "                          maximize=True,\n",
    "                          feval=gini_xgb,\n",
    "                          early_stopping_rounds=200,\n",
    "                          verbose_eval=100)\n",
    "\n",
    "    best_iter = xgb_model.best_iteration\n",
    "\n",
    "    oof_test_preds_xgb += xgb_model.predict(dtest,\n",
    "                                            iteration_range=(0, best_iter))/folds.n_splits\n",
    "    \n",
    "    oof_val_preds_xgb[valid_idx] += xgb_model.predict(dvalid, \n",
    "                                                      iteration_range=(0, best_iter))\n",
    "    \n",
    "    gini_score = eval_gini(y_valid, oof_val_preds_xgb[valid_idx])\n",
    "    print(f'폴드 {idx+1} 지니계수 : {gini_score}\\n')"
   ]
  },
  {
   "cell_type": "code",
   "execution_count": 19,
   "id": "493fc693",
   "metadata": {
    "execution": {
     "iopub.execute_input": "2022-05-06T00:20:34.387759Z",
     "iopub.status.busy": "2022-05-06T00:20:34.386530Z",
     "iopub.status.idle": "2022-05-06T00:20:34.500637Z",
     "shell.execute_reply": "2022-05-06T00:20:34.501669Z",
     "shell.execute_reply.started": "2022-05-05T21:12:17.292822Z"
    },
    "papermill": {
     "duration": 0.211019,
     "end_time": "2022-05-06T00:20:34.501918",
     "exception": false,
     "start_time": "2022-05-06T00:20:34.290899",
     "status": "completed"
    },
    "tags": []
   },
   "outputs": [
    {
     "name": "stdout",
     "output_type": "stream",
     "text": [
      "LightGBM OOF 검증 데이터 지니계수 : 0.2889651000887542\n"
     ]
    }
   ],
   "source": [
    "print('LightGBM OOF 검증 데이터 지니계수 :', eval_gini(y, oof_val_preds_lgb))"
   ]
  },
  {
   "cell_type": "code",
   "execution_count": 20,
   "id": "a57f82ac",
   "metadata": {
    "execution": {
     "iopub.execute_input": "2022-05-06T00:20:34.682934Z",
     "iopub.status.busy": "2022-05-06T00:20:34.682271Z",
     "iopub.status.idle": "2022-05-06T00:20:34.801039Z",
     "shell.execute_reply": "2022-05-06T00:20:34.800069Z",
     "shell.execute_reply.started": "2022-05-05T21:12:17.419638Z"
    },
    "papermill": {
     "duration": 0.210483,
     "end_time": "2022-05-06T00:20:34.801274",
     "exception": false,
     "start_time": "2022-05-06T00:20:34.590791",
     "status": "completed"
    },
    "tags": []
   },
   "outputs": [
    {
     "name": "stdout",
     "output_type": "stream",
     "text": [
      "XGBoost OOF 검증 데이터 지니계수 : 0.2894739428104039\n"
     ]
    }
   ],
   "source": [
    "print('XGBoost OOF 검증 데이터 지니계수 :', eval_gini(y, oof_val_preds_xgb))"
   ]
  },
  {
   "cell_type": "markdown",
   "id": "7567c938",
   "metadata": {
    "papermill": {
     "duration": 0.089294,
     "end_time": "2022-05-06T00:20:34.981347",
     "exception": false,
     "start_time": "2022-05-06T00:20:34.892053",
     "status": "completed"
    },
    "tags": []
   },
   "source": [
    "## 8.6.1 앙상블 수행"
   ]
  },
  {
   "cell_type": "code",
   "execution_count": 21,
   "id": "92ea36e9",
   "metadata": {
    "execution": {
     "iopub.execute_input": "2022-05-06T00:20:35.169584Z",
     "iopub.status.busy": "2022-05-06T00:20:35.168810Z",
     "iopub.status.idle": "2022-05-06T00:20:35.177904Z",
     "shell.execute_reply": "2022-05-06T00:20:35.177317Z",
     "shell.execute_reply.started": "2022-05-05T21:12:17.534080Z"
    },
    "papermill": {
     "duration": 0.103643,
     "end_time": "2022-05-06T00:20:35.178048",
     "exception": false,
     "start_time": "2022-05-06T00:20:35.074405",
     "status": "completed"
    },
    "tags": []
   },
   "outputs": [],
   "source": [
    "oof_test_preds = oof_test_preds_lgb * 0.5 + oof_test_preds_xgb * 0.5"
   ]
  },
  {
   "cell_type": "markdown",
   "id": "d8e2c21e",
   "metadata": {
    "papermill": {
     "duration": 0.08958,
     "end_time": "2022-05-06T00:20:35.357338",
     "exception": false,
     "start_time": "2022-05-06T00:20:35.267758",
     "status": "completed"
    },
    "tags": []
   },
   "source": [
    "## 8.6.2 예측 및 결과 제출"
   ]
  },
  {
   "cell_type": "code",
   "execution_count": 22,
   "id": "0bee9b6d",
   "metadata": {
    "execution": {
     "iopub.execute_input": "2022-05-06T00:20:35.548079Z",
     "iopub.status.busy": "2022-05-06T00:20:35.538613Z",
     "iopub.status.idle": "2022-05-06T00:20:39.287414Z",
     "shell.execute_reply": "2022-05-06T00:20:39.286709Z",
     "shell.execute_reply.started": "2022-05-05T21:12:17.550425Z"
    },
    "papermill": {
     "duration": 3.840333,
     "end_time": "2022-05-06T00:20:39.287568",
     "exception": false,
     "start_time": "2022-05-06T00:20:35.447235",
     "status": "completed"
    },
    "tags": []
   },
   "outputs": [],
   "source": [
    "submission['target'] = oof_test_preds\n",
    "submission.to_csv('submission.csv')"
   ]
  }
 ],
 "metadata": {
  "kernelspec": {
   "display_name": "Python 3",
   "language": "python",
   "name": "python3"
  },
  "language_info": {
   "codemirror_mode": {
    "name": "ipython",
    "version": 3
   },
   "file_extension": ".py",
   "mimetype": "text/x-python",
   "name": "python",
   "nbconvert_exporter": "python",
   "pygments_lexer": "ipython3",
   "version": "3.7.10"
  },
  "papermill": {
   "default_parameters": {},
   "duration": 7345.819996,
   "end_time": "2022-05-06T00:20:40.890935",
   "environment_variables": {},
   "exception": null,
   "input_path": "__notebook__.ipynb",
   "output_path": "__notebook__.ipynb",
   "parameters": {},
   "start_time": "2022-05-05T22:18:15.070939",
   "version": "2.3.3"
  }
 },
 "nbformat": 4,
 "nbformat_minor": 5
}
