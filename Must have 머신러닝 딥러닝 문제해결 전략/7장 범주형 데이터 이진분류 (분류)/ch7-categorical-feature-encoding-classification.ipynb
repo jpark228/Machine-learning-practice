{
 "cells": [
  {
   "cell_type": "code",
   "execution_count": 1,
   "id": "bad5b1b2",
   "metadata": {
    "_cell_guid": "b1076dfc-b9ad-4769-8c92-a6c4dae69d19",
    "_uuid": "8f2839f25d086af736a60e9eeb907d3b93b6e0e5",
    "execution": {
     "iopub.execute_input": "2022-05-04T15:45:49.565262Z",
     "iopub.status.busy": "2022-05-04T15:45:49.564550Z",
     "iopub.status.idle": "2022-05-04T15:45:49.579024Z",
     "shell.execute_reply": "2022-05-04T15:45:49.578211Z"
    },
    "papermill": {
     "duration": 0.052448,
     "end_time": "2022-05-04T15:45:49.581950",
     "exception": false,
     "start_time": "2022-05-04T15:45:49.529502",
     "status": "completed"
    },
    "tags": []
   },
   "outputs": [
    {
     "name": "stdout",
     "output_type": "stream",
     "text": [
      "/kaggle/input/cat-in-the-dat/sample_submission.csv\n",
      "/kaggle/input/cat-in-the-dat/train.csv\n",
      "/kaggle/input/cat-in-the-dat/test.csv\n"
     ]
    }
   ],
   "source": [
    "# This Python 3 environment comes with many helpful analytics libraries installed\n",
    "# It is defined by the kaggle/python Docker image: https://github.com/kaggle/docker-python\n",
    "# For example, here's several helpful packages to load\n",
    "\n",
    "import numpy as np # linear algebra\n",
    "import pandas as pd # data processing, CSV file I/O (e.g. pd.read_csv)\n",
    "\n",
    "# Input data files are available in the read-only \"../input/\" directory\n",
    "# For example, running this (by clicking run or pressing Shift+Enter) will list all files under the input directory\n",
    "\n",
    "import os\n",
    "for dirname, _, filenames in os.walk('/kaggle/input'):\n",
    "    for filename in filenames:\n",
    "        print(os.path.join(dirname, filename))\n",
    "\n",
    "# You can write up to 20GB to the current directory (/kaggle/working/) that gets preserved as output when you create a version using \"Save & Run All\" \n",
    "# You can also write temporary files to /kaggle/temp/, but they won't be saved outside of the current session"
   ]
  },
  {
   "cell_type": "code",
   "execution_count": 2,
   "id": "6345984c",
   "metadata": {
    "execution": {
     "iopub.execute_input": "2022-05-04T15:45:49.655755Z",
     "iopub.status.busy": "2022-05-04T15:45:49.655074Z",
     "iopub.status.idle": "2022-05-04T15:45:51.800092Z",
     "shell.execute_reply": "2022-05-04T15:45:51.799344Z"
    },
    "papermill": {
     "duration": 2.180761,
     "end_time": "2022-05-04T15:45:51.802536",
     "exception": false,
     "start_time": "2022-05-04T15:45:49.621775",
     "status": "completed"
    },
    "tags": []
   },
   "outputs": [],
   "source": [
    "import pandas as pd\n",
    "\n",
    "data_path = '/kaggle/input/cat-in-the-dat/'\n",
    "\n",
    "train = pd.read_csv(data_path + 'train.csv', index_col = 'id')\n",
    "test = pd.read_csv(data_path + 'test.csv', index_col = 'id')\n",
    "submission = pd.read_csv(data_path + 'sample_submission.csv', index_col = 'id')"
   ]
  },
  {
   "cell_type": "markdown",
   "id": "96bde488",
   "metadata": {
    "papermill": {
     "duration": 0.029313,
     "end_time": "2022-05-04T15:45:51.862286",
     "exception": false,
     "start_time": "2022-05-04T15:45:51.832973",
     "status": "completed"
    },
    "tags": []
   },
   "source": [
    "피처 엔지니어링"
   ]
  },
  {
   "cell_type": "code",
   "execution_count": 3,
   "id": "4be94ba3",
   "metadata": {
    "execution": {
     "iopub.execute_input": "2022-05-04T15:45:51.925507Z",
     "iopub.status.busy": "2022-05-04T15:45:51.925205Z",
     "iopub.status.idle": "2022-05-04T15:45:52.892000Z",
     "shell.execute_reply": "2022-05-04T15:45:52.891116Z"
    },
    "papermill": {
     "duration": 1.000725,
     "end_time": "2022-05-04T15:45:52.894359",
     "exception": false,
     "start_time": "2022-05-04T15:45:51.893634",
     "status": "completed"
    },
    "tags": []
   },
   "outputs": [
    {
     "data": {
      "text/html": [
       "<div>\n",
       "<style scoped>\n",
       "    .dataframe tbody tr th:only-of-type {\n",
       "        vertical-align: middle;\n",
       "    }\n",
       "\n",
       "    .dataframe tbody tr th {\n",
       "        vertical-align: top;\n",
       "    }\n",
       "\n",
       "    .dataframe thead th {\n",
       "        text-align: right;\n",
       "    }\n",
       "</style>\n",
       "<table border=\"1\" class=\"dataframe\">\n",
       "  <thead>\n",
       "    <tr style=\"text-align: right;\">\n",
       "      <th></th>\n",
       "      <th>bin_0</th>\n",
       "      <th>bin_1</th>\n",
       "      <th>bin_2</th>\n",
       "      <th>bin_3</th>\n",
       "      <th>bin_4</th>\n",
       "      <th>nom_0</th>\n",
       "      <th>nom_1</th>\n",
       "      <th>nom_2</th>\n",
       "      <th>nom_3</th>\n",
       "      <th>nom_4</th>\n",
       "      <th>...</th>\n",
       "      <th>nom_8</th>\n",
       "      <th>nom_9</th>\n",
       "      <th>ord_0</th>\n",
       "      <th>ord_1</th>\n",
       "      <th>ord_2</th>\n",
       "      <th>ord_3</th>\n",
       "      <th>ord_4</th>\n",
       "      <th>ord_5</th>\n",
       "      <th>day</th>\n",
       "      <th>month</th>\n",
       "    </tr>\n",
       "    <tr>\n",
       "      <th>id</th>\n",
       "      <th></th>\n",
       "      <th></th>\n",
       "      <th></th>\n",
       "      <th></th>\n",
       "      <th></th>\n",
       "      <th></th>\n",
       "      <th></th>\n",
       "      <th></th>\n",
       "      <th></th>\n",
       "      <th></th>\n",
       "      <th></th>\n",
       "      <th></th>\n",
       "      <th></th>\n",
       "      <th></th>\n",
       "      <th></th>\n",
       "      <th></th>\n",
       "      <th></th>\n",
       "      <th></th>\n",
       "      <th></th>\n",
       "      <th></th>\n",
       "      <th></th>\n",
       "    </tr>\n",
       "  </thead>\n",
       "  <tbody>\n",
       "    <tr>\n",
       "      <th>0</th>\n",
       "      <td>0</td>\n",
       "      <td>0</td>\n",
       "      <td>0</td>\n",
       "      <td>T</td>\n",
       "      <td>Y</td>\n",
       "      <td>Green</td>\n",
       "      <td>Triangle</td>\n",
       "      <td>Snake</td>\n",
       "      <td>Finland</td>\n",
       "      <td>Bassoon</td>\n",
       "      <td>...</td>\n",
       "      <td>c389000ab</td>\n",
       "      <td>2f4cb3d51</td>\n",
       "      <td>2</td>\n",
       "      <td>Grandmaster</td>\n",
       "      <td>Cold</td>\n",
       "      <td>h</td>\n",
       "      <td>D</td>\n",
       "      <td>kr</td>\n",
       "      <td>2</td>\n",
       "      <td>2</td>\n",
       "    </tr>\n",
       "    <tr>\n",
       "      <th>1</th>\n",
       "      <td>0</td>\n",
       "      <td>1</td>\n",
       "      <td>0</td>\n",
       "      <td>T</td>\n",
       "      <td>Y</td>\n",
       "      <td>Green</td>\n",
       "      <td>Trapezoid</td>\n",
       "      <td>Hamster</td>\n",
       "      <td>Russia</td>\n",
       "      <td>Piano</td>\n",
       "      <td>...</td>\n",
       "      <td>4cd920251</td>\n",
       "      <td>f83c56c21</td>\n",
       "      <td>1</td>\n",
       "      <td>Grandmaster</td>\n",
       "      <td>Hot</td>\n",
       "      <td>a</td>\n",
       "      <td>A</td>\n",
       "      <td>bF</td>\n",
       "      <td>7</td>\n",
       "      <td>8</td>\n",
       "    </tr>\n",
       "    <tr>\n",
       "      <th>2</th>\n",
       "      <td>0</td>\n",
       "      <td>0</td>\n",
       "      <td>0</td>\n",
       "      <td>F</td>\n",
       "      <td>Y</td>\n",
       "      <td>Blue</td>\n",
       "      <td>Trapezoid</td>\n",
       "      <td>Lion</td>\n",
       "      <td>Russia</td>\n",
       "      <td>Theremin</td>\n",
       "      <td>...</td>\n",
       "      <td>de9c9f684</td>\n",
       "      <td>ae6800dd0</td>\n",
       "      <td>1</td>\n",
       "      <td>Expert</td>\n",
       "      <td>Lava Hot</td>\n",
       "      <td>h</td>\n",
       "      <td>R</td>\n",
       "      <td>Jc</td>\n",
       "      <td>7</td>\n",
       "      <td>2</td>\n",
       "    </tr>\n",
       "    <tr>\n",
       "      <th>3</th>\n",
       "      <td>0</td>\n",
       "      <td>1</td>\n",
       "      <td>0</td>\n",
       "      <td>F</td>\n",
       "      <td>Y</td>\n",
       "      <td>Red</td>\n",
       "      <td>Trapezoid</td>\n",
       "      <td>Snake</td>\n",
       "      <td>Canada</td>\n",
       "      <td>Oboe</td>\n",
       "      <td>...</td>\n",
       "      <td>4ade6ab69</td>\n",
       "      <td>8270f0d71</td>\n",
       "      <td>1</td>\n",
       "      <td>Grandmaster</td>\n",
       "      <td>Boiling Hot</td>\n",
       "      <td>i</td>\n",
       "      <td>D</td>\n",
       "      <td>kW</td>\n",
       "      <td>2</td>\n",
       "      <td>1</td>\n",
       "    </tr>\n",
       "    <tr>\n",
       "      <th>4</th>\n",
       "      <td>0</td>\n",
       "      <td>0</td>\n",
       "      <td>0</td>\n",
       "      <td>F</td>\n",
       "      <td>N</td>\n",
       "      <td>Red</td>\n",
       "      <td>Trapezoid</td>\n",
       "      <td>Lion</td>\n",
       "      <td>Canada</td>\n",
       "      <td>Oboe</td>\n",
       "      <td>...</td>\n",
       "      <td>cb43ab175</td>\n",
       "      <td>b164b72a7</td>\n",
       "      <td>1</td>\n",
       "      <td>Grandmaster</td>\n",
       "      <td>Freezing</td>\n",
       "      <td>a</td>\n",
       "      <td>R</td>\n",
       "      <td>qP</td>\n",
       "      <td>7</td>\n",
       "      <td>8</td>\n",
       "    </tr>\n",
       "    <tr>\n",
       "      <th>...</th>\n",
       "      <td>...</td>\n",
       "      <td>...</td>\n",
       "      <td>...</td>\n",
       "      <td>...</td>\n",
       "      <td>...</td>\n",
       "      <td>...</td>\n",
       "      <td>...</td>\n",
       "      <td>...</td>\n",
       "      <td>...</td>\n",
       "      <td>...</td>\n",
       "      <td>...</td>\n",
       "      <td>...</td>\n",
       "      <td>...</td>\n",
       "      <td>...</td>\n",
       "      <td>...</td>\n",
       "      <td>...</td>\n",
       "      <td>...</td>\n",
       "      <td>...</td>\n",
       "      <td>...</td>\n",
       "      <td>...</td>\n",
       "      <td>...</td>\n",
       "    </tr>\n",
       "    <tr>\n",
       "      <th>499995</th>\n",
       "      <td>0</td>\n",
       "      <td>0</td>\n",
       "      <td>0</td>\n",
       "      <td>F</td>\n",
       "      <td>N</td>\n",
       "      <td>Green</td>\n",
       "      <td>Square</td>\n",
       "      <td>Lion</td>\n",
       "      <td>Canada</td>\n",
       "      <td>Theremin</td>\n",
       "      <td>...</td>\n",
       "      <td>9e4b23160</td>\n",
       "      <td>acc31291f</td>\n",
       "      <td>1</td>\n",
       "      <td>Novice</td>\n",
       "      <td>Lava Hot</td>\n",
       "      <td>j</td>\n",
       "      <td>A</td>\n",
       "      <td>Gb</td>\n",
       "      <td>1</td>\n",
       "      <td>3</td>\n",
       "    </tr>\n",
       "    <tr>\n",
       "      <th>499996</th>\n",
       "      <td>1</td>\n",
       "      <td>0</td>\n",
       "      <td>0</td>\n",
       "      <td>F</td>\n",
       "      <td>Y</td>\n",
       "      <td>Green</td>\n",
       "      <td>Trapezoid</td>\n",
       "      <td>Lion</td>\n",
       "      <td>China</td>\n",
       "      <td>Piano</td>\n",
       "      <td>...</td>\n",
       "      <td>cfbd87ed0</td>\n",
       "      <td>eae3446d0</td>\n",
       "      <td>1</td>\n",
       "      <td>Contributor</td>\n",
       "      <td>Lava Hot</td>\n",
       "      <td>f</td>\n",
       "      <td>S</td>\n",
       "      <td>Ed</td>\n",
       "      <td>2</td>\n",
       "      <td>2</td>\n",
       "    </tr>\n",
       "    <tr>\n",
       "      <th>499997</th>\n",
       "      <td>0</td>\n",
       "      <td>1</td>\n",
       "      <td>1</td>\n",
       "      <td>T</td>\n",
       "      <td>Y</td>\n",
       "      <td>Green</td>\n",
       "      <td>Trapezoid</td>\n",
       "      <td>Lion</td>\n",
       "      <td>Canada</td>\n",
       "      <td>Oboe</td>\n",
       "      <td>...</td>\n",
       "      <td>1108bcd6c</td>\n",
       "      <td>33dd3cf4b</td>\n",
       "      <td>1</td>\n",
       "      <td>Novice</td>\n",
       "      <td>Boiling Hot</td>\n",
       "      <td>g</td>\n",
       "      <td>V</td>\n",
       "      <td>TR</td>\n",
       "      <td>3</td>\n",
       "      <td>1</td>\n",
       "    </tr>\n",
       "    <tr>\n",
       "      <th>499998</th>\n",
       "      <td>1</td>\n",
       "      <td>0</td>\n",
       "      <td>0</td>\n",
       "      <td>T</td>\n",
       "      <td>Y</td>\n",
       "      <td>Blue</td>\n",
       "      <td>Star</td>\n",
       "      <td>Hamster</td>\n",
       "      <td>Costa Rica</td>\n",
       "      <td>Bassoon</td>\n",
       "      <td>...</td>\n",
       "      <td>606ac930b</td>\n",
       "      <td>d4cf587dd</td>\n",
       "      <td>2</td>\n",
       "      <td>Grandmaster</td>\n",
       "      <td>Boiling Hot</td>\n",
       "      <td>g</td>\n",
       "      <td>X</td>\n",
       "      <td>Ye</td>\n",
       "      <td>2</td>\n",
       "      <td>1</td>\n",
       "    </tr>\n",
       "    <tr>\n",
       "      <th>499999</th>\n",
       "      <td>0</td>\n",
       "      <td>0</td>\n",
       "      <td>0</td>\n",
       "      <td>T</td>\n",
       "      <td>Y</td>\n",
       "      <td>Green</td>\n",
       "      <td>Star</td>\n",
       "      <td>Lion</td>\n",
       "      <td>India</td>\n",
       "      <td>Piano</td>\n",
       "      <td>...</td>\n",
       "      <td>4ea576eb6</td>\n",
       "      <td>2d610f52c</td>\n",
       "      <td>2</td>\n",
       "      <td>Novice</td>\n",
       "      <td>Freezing</td>\n",
       "      <td>l</td>\n",
       "      <td>J</td>\n",
       "      <td>ex</td>\n",
       "      <td>2</td>\n",
       "      <td>2</td>\n",
       "    </tr>\n",
       "  </tbody>\n",
       "</table>\n",
       "<p>500000 rows × 23 columns</p>\n",
       "</div>"
      ],
      "text/plain": [
       "        bin_0  bin_1  bin_2 bin_3 bin_4  nom_0      nom_1    nom_2  \\\n",
       "id                                                                   \n",
       "0           0      0      0     T     Y  Green   Triangle    Snake   \n",
       "1           0      1      0     T     Y  Green  Trapezoid  Hamster   \n",
       "2           0      0      0     F     Y   Blue  Trapezoid     Lion   \n",
       "3           0      1      0     F     Y    Red  Trapezoid    Snake   \n",
       "4           0      0      0     F     N    Red  Trapezoid     Lion   \n",
       "...       ...    ...    ...   ...   ...    ...        ...      ...   \n",
       "499995      0      0      0     F     N  Green     Square     Lion   \n",
       "499996      1      0      0     F     Y  Green  Trapezoid     Lion   \n",
       "499997      0      1      1     T     Y  Green  Trapezoid     Lion   \n",
       "499998      1      0      0     T     Y   Blue       Star  Hamster   \n",
       "499999      0      0      0     T     Y  Green       Star     Lion   \n",
       "\n",
       "             nom_3     nom_4  ...      nom_8      nom_9 ord_0        ord_1  \\\n",
       "id                            ...                                            \n",
       "0          Finland   Bassoon  ...  c389000ab  2f4cb3d51     2  Grandmaster   \n",
       "1           Russia     Piano  ...  4cd920251  f83c56c21     1  Grandmaster   \n",
       "2           Russia  Theremin  ...  de9c9f684  ae6800dd0     1       Expert   \n",
       "3           Canada      Oboe  ...  4ade6ab69  8270f0d71     1  Grandmaster   \n",
       "4           Canada      Oboe  ...  cb43ab175  b164b72a7     1  Grandmaster   \n",
       "...            ...       ...  ...        ...        ...   ...          ...   \n",
       "499995      Canada  Theremin  ...  9e4b23160  acc31291f     1       Novice   \n",
       "499996       China     Piano  ...  cfbd87ed0  eae3446d0     1  Contributor   \n",
       "499997      Canada      Oboe  ...  1108bcd6c  33dd3cf4b     1       Novice   \n",
       "499998  Costa Rica   Bassoon  ...  606ac930b  d4cf587dd     2  Grandmaster   \n",
       "499999       India     Piano  ...  4ea576eb6  2d610f52c     2       Novice   \n",
       "\n",
       "              ord_2  ord_3 ord_4 ord_5 day month  \n",
       "id                                                \n",
       "0              Cold      h     D    kr   2     2  \n",
       "1               Hot      a     A    bF   7     8  \n",
       "2          Lava Hot      h     R    Jc   7     2  \n",
       "3       Boiling Hot      i     D    kW   2     1  \n",
       "4          Freezing      a     R    qP   7     8  \n",
       "...             ...    ...   ...   ...  ..   ...  \n",
       "499995     Lava Hot      j     A    Gb   1     3  \n",
       "499996     Lava Hot      f     S    Ed   2     2  \n",
       "499997  Boiling Hot      g     V    TR   3     1  \n",
       "499998  Boiling Hot      g     X    Ye   2     1  \n",
       "499999     Freezing      l     J    ex   2     2  \n",
       "\n",
       "[500000 rows x 23 columns]"
      ]
     },
     "execution_count": 3,
     "metadata": {},
     "output_type": "execute_result"
    }
   ],
   "source": [
    "all_data = pd.concat([train, test])\n",
    "all_data = all_data.drop('target', axis=1)\n",
    "all_data"
   ]
  },
  {
   "cell_type": "code",
   "execution_count": 4,
   "id": "bde234f5",
   "metadata": {
    "execution": {
     "iopub.execute_input": "2022-05-04T15:45:52.956880Z",
     "iopub.status.busy": "2022-05-04T15:45:52.956235Z",
     "iopub.status.idle": "2022-05-04T15:45:56.589307Z",
     "shell.execute_reply": "2022-05-04T15:45:56.588521Z"
    },
    "papermill": {
     "duration": 3.666763,
     "end_time": "2022-05-04T15:45:56.591559",
     "exception": false,
     "start_time": "2022-05-04T15:45:52.924796",
     "status": "completed"
    },
    "tags": []
   },
   "outputs": [],
   "source": [
    "from sklearn.preprocessing import OneHotEncoder\n",
    "\n",
    "encoder = OneHotEncoder()\n",
    "all_data_encoded = encoder.fit_transform(all_data)"
   ]
  },
  {
   "cell_type": "code",
   "execution_count": 5,
   "id": "5c80eeb4",
   "metadata": {
    "execution": {
     "iopub.execute_input": "2022-05-04T15:45:56.655772Z",
     "iopub.status.busy": "2022-05-04T15:45:56.655514Z",
     "iopub.status.idle": "2022-05-04T15:45:56.830600Z",
     "shell.execute_reply": "2022-05-04T15:45:56.829736Z"
    },
    "papermill": {
     "duration": 0.209783,
     "end_time": "2022-05-04T15:45:56.832757",
     "exception": false,
     "start_time": "2022-05-04T15:45:56.622974",
     "status": "completed"
    },
    "tags": []
   },
   "outputs": [],
   "source": [
    "num_train  = len(train)\n",
    "\n",
    "X_train = all_data_encoded[:num_train]\n",
    "X_test = all_data_encoded[num_train:]\n",
    "\n",
    "y = train['target']"
   ]
  },
  {
   "cell_type": "code",
   "execution_count": 6,
   "id": "770fdbfb",
   "metadata": {
    "execution": {
     "iopub.execute_input": "2022-05-04T15:45:56.895569Z",
     "iopub.status.busy": "2022-05-04T15:45:56.894796Z",
     "iopub.status.idle": "2022-05-04T15:45:57.105006Z",
     "shell.execute_reply": "2022-05-04T15:45:57.103997Z"
    },
    "papermill": {
     "duration": 0.243986,
     "end_time": "2022-05-04T15:45:57.107362",
     "exception": false,
     "start_time": "2022-05-04T15:45:56.863376",
     "status": "completed"
    },
    "tags": []
   },
   "outputs": [],
   "source": [
    "from sklearn.model_selection import train_test_split\n",
    "\n",
    "X_train, X_valid, y_train, y_valid = train_test_split(X_train, y,\n",
    "                                                      test_size=0.1,\n",
    "                                                      stratify=y,\n",
    "                                                      random_state=10)"
   ]
  },
  {
   "cell_type": "markdown",
   "id": "7f863879",
   "metadata": {
    "papermill": {
     "duration": 0.030725,
     "end_time": "2022-05-04T15:45:57.168617",
     "exception": false,
     "start_time": "2022-05-04T15:45:57.137892",
     "status": "completed"
    },
    "tags": []
   },
   "source": [
    "모델 훈련"
   ]
  },
  {
   "cell_type": "code",
   "execution_count": 7,
   "id": "30e6a043",
   "metadata": {
    "execution": {
     "iopub.execute_input": "2022-05-04T15:45:57.230957Z",
     "iopub.status.busy": "2022-05-04T15:45:57.230184Z",
     "iopub.status.idle": "2022-05-04T15:47:06.736878Z",
     "shell.execute_reply": "2022-05-04T15:47:06.736060Z"
    },
    "papermill": {
     "duration": 69.625019,
     "end_time": "2022-05-04T15:47:06.823909",
     "exception": false,
     "start_time": "2022-05-04T15:45:57.198890",
     "status": "completed"
    },
    "tags": []
   },
   "outputs": [
    {
     "data": {
      "text/plain": [
       "LogisticRegression(max_iter=1000, random_state=42)"
      ]
     },
     "execution_count": 7,
     "metadata": {},
     "output_type": "execute_result"
    }
   ],
   "source": [
    "from sklearn.linear_model import LogisticRegression\n",
    "\n",
    "logistic_model = LogisticRegression(max_iter=1000, random_state=42)\n",
    "logistic_model.fit(X_train, y_train)"
   ]
  },
  {
   "cell_type": "markdown",
   "id": "d5f53962",
   "metadata": {
    "papermill": {
     "duration": 0.030254,
     "end_time": "2022-05-04T15:47:06.892588",
     "exception": false,
     "start_time": "2022-05-04T15:47:06.862334",
     "status": "completed"
    },
    "tags": []
   },
   "source": [
    "모델 성능 검증"
   ]
  },
  {
   "cell_type": "code",
   "execution_count": 8,
   "id": "55c4e26a",
   "metadata": {
    "execution": {
     "iopub.execute_input": "2022-05-04T15:47:06.956024Z",
     "iopub.status.busy": "2022-05-04T15:47:06.955762Z",
     "iopub.status.idle": "2022-05-04T15:47:06.963145Z",
     "shell.execute_reply": "2022-05-04T15:47:06.962590Z"
    },
    "papermill": {
     "duration": 0.041162,
     "end_time": "2022-05-04T15:47:06.964803",
     "exception": false,
     "start_time": "2022-05-04T15:47:06.923641",
     "status": "completed"
    },
    "tags": []
   },
   "outputs": [
    {
     "data": {
      "text/plain": [
       "array([[0.23265324, 0.76734676],\n",
       "       [0.91403908, 0.08596092],\n",
       "       [0.8303673 , 0.1696327 ],\n",
       "       ...,\n",
       "       [0.24860685, 0.75139315],\n",
       "       [0.49451672, 0.50548328],\n",
       "       [0.95655532, 0.04344468]])"
      ]
     },
     "execution_count": 8,
     "metadata": {},
     "output_type": "execute_result"
    }
   ],
   "source": [
    "logistic_model.predict_proba(X_valid)"
   ]
  },
  {
   "cell_type": "code",
   "execution_count": 9,
   "id": "bd7df127",
   "metadata": {
    "execution": {
     "iopub.execute_input": "2022-05-04T15:47:07.028193Z",
     "iopub.status.busy": "2022-05-04T15:47:07.027712Z",
     "iopub.status.idle": "2022-05-04T15:47:07.034980Z",
     "shell.execute_reply": "2022-05-04T15:47:07.034179Z"
    },
    "papermill": {
     "duration": 0.041389,
     "end_time": "2022-05-04T15:47:07.036817",
     "exception": false,
     "start_time": "2022-05-04T15:47:06.995428",
     "status": "completed"
    },
    "tags": []
   },
   "outputs": [
    {
     "data": {
      "text/plain": [
       "array([1, 0, 0, ..., 1, 1, 0])"
      ]
     },
     "execution_count": 9,
     "metadata": {},
     "output_type": "execute_result"
    }
   ],
   "source": [
    "logistic_model.predict(X_valid)"
   ]
  },
  {
   "cell_type": "code",
   "execution_count": 10,
   "id": "cdea9d87",
   "metadata": {
    "execution": {
     "iopub.execute_input": "2022-05-04T15:47:07.102633Z",
     "iopub.status.busy": "2022-05-04T15:47:07.102199Z",
     "iopub.status.idle": "2022-05-04T15:47:07.108945Z",
     "shell.execute_reply": "2022-05-04T15:47:07.107989Z"
    },
    "papermill": {
     "duration": 0.042123,
     "end_time": "2022-05-04T15:47:07.111026",
     "exception": false,
     "start_time": "2022-05-04T15:47:07.068903",
     "status": "completed"
    },
    "tags": []
   },
   "outputs": [],
   "source": [
    "y_valid_preds = logistic_model.predict_proba(X_valid)[:, 1]"
   ]
  },
  {
   "cell_type": "code",
   "execution_count": 11,
   "id": "0fa2d7c6",
   "metadata": {
    "execution": {
     "iopub.execute_input": "2022-05-04T15:47:07.175135Z",
     "iopub.status.busy": "2022-05-04T15:47:07.174867Z",
     "iopub.status.idle": "2022-05-04T15:47:07.192709Z",
     "shell.execute_reply": "2022-05-04T15:47:07.191561Z"
    },
    "papermill": {
     "duration": 0.053047,
     "end_time": "2022-05-04T15:47:07.195419",
     "exception": false,
     "start_time": "2022-05-04T15:47:07.142372",
     "status": "completed"
    },
    "tags": []
   },
   "outputs": [
    {
     "name": "stdout",
     "output_type": "stream",
     "text": [
      "검증 데이터 ROC AUC : 0.7965\n"
     ]
    }
   ],
   "source": [
    "from sklearn.metrics import roc_auc_score \n",
    "\n",
    "roc_auc = roc_auc_score(y_valid, y_valid_preds)\n",
    "\n",
    "print(f'검증 데이터 ROC AUC : {roc_auc:.4f}')"
   ]
  },
  {
   "cell_type": "markdown",
   "id": "efb575e0",
   "metadata": {
    "papermill": {
     "duration": 0.031625,
     "end_time": "2022-05-04T15:47:07.259240",
     "exception": false,
     "start_time": "2022-05-04T15:47:07.227615",
     "status": "completed"
    },
    "tags": []
   },
   "source": [
    "예측 및 결과 제출"
   ]
  },
  {
   "cell_type": "code",
   "execution_count": 12,
   "id": "9f4c73a7",
   "metadata": {
    "execution": {
     "iopub.execute_input": "2022-05-04T15:47:07.324350Z",
     "iopub.status.busy": "2022-05-04T15:47:07.324093Z",
     "iopub.status.idle": "2022-05-04T15:47:07.341910Z",
     "shell.execute_reply": "2022-05-04T15:47:07.340931Z"
    },
    "papermill": {
     "duration": 0.053102,
     "end_time": "2022-05-04T15:47:07.344187",
     "exception": false,
     "start_time": "2022-05-04T15:47:07.291085",
     "status": "completed"
    },
    "tags": []
   },
   "outputs": [],
   "source": [
    "y_preds = logistic_model.predict_proba(X_test)[:, 1]"
   ]
  },
  {
   "cell_type": "code",
   "execution_count": 13,
   "id": "54a0ea15",
   "metadata": {
    "execution": {
     "iopub.execute_input": "2022-05-04T15:47:07.408912Z",
     "iopub.status.busy": "2022-05-04T15:47:07.408663Z",
     "iopub.status.idle": "2022-05-04T15:47:07.914589Z",
     "shell.execute_reply": "2022-05-04T15:47:07.912956Z"
    },
    "papermill": {
     "duration": 0.542074,
     "end_time": "2022-05-04T15:47:07.917914",
     "exception": false,
     "start_time": "2022-05-04T15:47:07.375840",
     "status": "completed"
    },
    "tags": []
   },
   "outputs": [],
   "source": [
    "submission['target'] = y_preds \n",
    "submission.to_csv('submission.csv')"
   ]
  },
  {
   "cell_type": "markdown",
   "id": "448e987b",
   "metadata": {
    "papermill": {
     "duration": 0.041356,
     "end_time": "2022-05-04T15:47:07.997220",
     "exception": false,
     "start_time": "2022-05-04T15:47:07.955864",
     "status": "completed"
    },
    "tags": []
   },
   "source": [
    "성능 개선I"
   ]
  },
  {
   "cell_type": "markdown",
   "id": "e9d8500e",
   "metadata": {
    "papermill": {
     "duration": 0.035317,
     "end_time": "2022-05-04T15:47:08.071290",
     "exception": false,
     "start_time": "2022-05-04T15:47:08.035973",
     "status": "completed"
    },
    "tags": []
   },
   "source": [
    "피처 엔지니어링I: 피처 맞춤 인코딩"
   ]
  },
  {
   "cell_type": "code",
   "execution_count": 14,
   "id": "998a9522",
   "metadata": {
    "execution": {
     "iopub.execute_input": "2022-05-04T15:47:08.141795Z",
     "iopub.status.busy": "2022-05-04T15:47:08.141541Z",
     "iopub.status.idle": "2022-05-04T15:47:08.709793Z",
     "shell.execute_reply": "2022-05-04T15:47:08.708999Z"
    },
    "papermill": {
     "duration": 0.605196,
     "end_time": "2022-05-04T15:47:08.712099",
     "exception": false,
     "start_time": "2022-05-04T15:47:08.106903",
     "status": "completed"
    },
    "tags": []
   },
   "outputs": [],
   "source": [
    "all_data = pd.concat([train, test])\n",
    "all_data = all_data.drop('target', axis=1)"
   ]
  },
  {
   "cell_type": "code",
   "execution_count": 15,
   "id": "b44d8fa9",
   "metadata": {
    "execution": {
     "iopub.execute_input": "2022-05-04T15:47:08.777087Z",
     "iopub.status.busy": "2022-05-04T15:47:08.776844Z",
     "iopub.status.idle": "2022-05-04T15:47:09.043272Z",
     "shell.execute_reply": "2022-05-04T15:47:09.042373Z"
    },
    "papermill": {
     "duration": 0.301725,
     "end_time": "2022-05-04T15:47:09.045601",
     "exception": false,
     "start_time": "2022-05-04T15:47:08.743876",
     "status": "completed"
    },
    "tags": []
   },
   "outputs": [],
   "source": [
    "all_data['bin_3'] = all_data['bin_3'].map({'F':0, 'T':1})\n",
    "all_data['bin_4'] = all_data['bin_4'].map({'N':0, 'Y':1})"
   ]
  },
  {
   "cell_type": "code",
   "execution_count": 16,
   "id": "dfb1420d",
   "metadata": {
    "execution": {
     "iopub.execute_input": "2022-05-04T15:47:09.111075Z",
     "iopub.status.busy": "2022-05-04T15:47:09.110826Z",
     "iopub.status.idle": "2022-05-04T15:47:09.388738Z",
     "shell.execute_reply": "2022-05-04T15:47:09.387913Z"
    },
    "papermill": {
     "duration": 0.312947,
     "end_time": "2022-05-04T15:47:09.390888",
     "exception": false,
     "start_time": "2022-05-04T15:47:09.077941",
     "status": "completed"
    },
    "tags": []
   },
   "outputs": [],
   "source": [
    "ord1dict = {'Novice':0, 'Contributor':1,\n",
    "            'Expert':2, 'Master':3, 'Grandmaster':4}\n",
    "ord2dict = {'Freezing':0, 'Cold':1, 'Warm':2,\n",
    "             'Hot':3, 'Boiling Hot':4, 'Lava Hot':5}\n",
    "\n",
    "all_data['ord_1'] = all_data['ord_1'].map(ord1dict)\n",
    "all_data['ord_2'] = all_data['ord_2'].map(ord2dict)"
   ]
  },
  {
   "cell_type": "code",
   "execution_count": 17,
   "id": "88a47024",
   "metadata": {
    "execution": {
     "iopub.execute_input": "2022-05-04T15:47:09.455199Z",
     "iopub.status.busy": "2022-05-04T15:47:09.454950Z",
     "iopub.status.idle": "2022-05-04T15:47:10.065828Z",
     "shell.execute_reply": "2022-05-04T15:47:10.064147Z"
    },
    "papermill": {
     "duration": 0.646254,
     "end_time": "2022-05-04T15:47:10.068628",
     "exception": false,
     "start_time": "2022-05-04T15:47:09.422374",
     "status": "completed"
    },
    "tags": []
   },
   "outputs": [
    {
     "name": "stdout",
     "output_type": "stream",
     "text": [
      "ord_3\n",
      "['a' 'b' 'c' 'd' 'e' 'f' 'g' 'h' 'i' 'j' 'k' 'l' 'm' 'n' 'o']\n",
      "ord_4\n",
      "['A' 'B' 'C' 'D' 'E' 'F' 'G' 'H' 'I' 'J' 'K' 'L' 'M' 'N' 'O' 'P' 'Q' 'R'\n",
      " 'S' 'T' 'U' 'V' 'W' 'X' 'Y' 'Z']\n",
      "ord_5\n",
      "['AP' 'Ai' 'Aj' 'BA' 'BE' 'Bb' 'Bd' 'Bn' 'CL' 'CM' 'CU' 'CZ' 'Cl' 'DH'\n",
      " 'DN' 'Dc' 'Dx' 'Ed' 'Eg' 'Er' 'FI' 'Fd' 'Fo' 'GD' 'GJ' 'Gb' 'Gx' 'Hj'\n",
      " 'IK' 'Id' 'JX' 'Jc' 'Jf' 'Jt' 'KR' 'KZ' 'Kf' 'Kq' 'LE' 'MC' 'MO' 'MV'\n",
      " 'Mf' 'Ml' 'Mx' 'NV' 'Nf' 'Nk' 'OR' 'Ob' 'Os' 'PA' 'PQ' 'PZ' 'Ps' 'QM'\n",
      " 'Qb' 'Qh' 'Qo' 'RG' 'RL' 'RP' 'Rm' 'Ry' 'SB' 'Sc' 'TR' 'TZ' 'To' 'UO'\n",
      " 'Uk' 'Uu' 'Vf' 'Vx' 'WE' 'Wc' 'Wv' 'XI' 'Xh' 'Xi' 'YC' 'Yb' 'Ye' 'ZR'\n",
      " 'ZS' 'Zc' 'Zq' 'aF' 'aM' 'aO' 'aP' 'ac' 'av' 'bF' 'bJ' 'be' 'cA' 'cG'\n",
      " 'cW' 'ck' 'cp' 'dB' 'dE' 'dN' 'dO' 'dP' 'dQ' 'dZ' 'dh' 'eG' 'eQ' 'eb'\n",
      " 'eg' 'ek' 'ex' 'fO' 'fh' 'gJ' 'gM' 'hL' 'hT' 'hh' 'hp' 'iT' 'ih' 'jS'\n",
      " 'jV' 'je' 'jp' 'kC' 'kE' 'kK' 'kL' 'kU' 'kW' 'ke' 'kr' 'kw' 'lF' 'lL'\n",
      " 'll' 'lx' 'mb' 'mc' 'mm' 'nX' 'nh' 'oC' 'oG' 'oH' 'oK' 'od' 'on' 'pa'\n",
      " 'ps' 'qA' 'qJ' 'qK' 'qP' 'qX' 'qo' 'qv' 'qw' 'rZ' 'ri' 'rp' 'sD' 'sV'\n",
      " 'sY' 'sn' 'su' 'tM' 'tP' 'tv' 'uJ' 'uS' 'ud' 'us' 'ut' 'ux' 'uy' 'vK'\n",
      " 'vq' 'vy' 'wu' 'wy' 'xP' 'xy' 'yN' 'yY' 'yc' 'zU']\n"
     ]
    }
   ],
   "source": [
    "from sklearn.preprocessing import OrdinalEncoder \n",
    "\n",
    "ord_345  = ['ord_3', 'ord_4', 'ord_5']\n",
    "\n",
    "ord_encoder = OrdinalEncoder()\n",
    "all_data[ord_345] = ord_encoder.fit_transform(all_data[ord_345])\n",
    "\n",
    "for feature, categories in zip(ord_345, ord_encoder.categories_):\n",
    "    print(feature)\n",
    "    print(categories)"
   ]
  },
  {
   "cell_type": "code",
   "execution_count": 18,
   "id": "c7f424b9",
   "metadata": {
    "execution": {
     "iopub.execute_input": "2022-05-04T15:47:10.135383Z",
     "iopub.status.busy": "2022-05-04T15:47:10.134846Z",
     "iopub.status.idle": "2022-05-04T15:47:10.139048Z",
     "shell.execute_reply": "2022-05-04T15:47:10.138481Z"
    },
    "papermill": {
     "duration": 0.038951,
     "end_time": "2022-05-04T15:47:10.140826",
     "exception": false,
     "start_time": "2022-05-04T15:47:10.101875",
     "status": "completed"
    },
    "tags": []
   },
   "outputs": [],
   "source": [
    "nom_features = ['nom_' + str(i) for i in range(10)]"
   ]
  },
  {
   "cell_type": "code",
   "execution_count": 19,
   "id": "327b1a2a",
   "metadata": {
    "execution": {
     "iopub.execute_input": "2022-05-04T15:47:10.205673Z",
     "iopub.status.busy": "2022-05-04T15:47:10.205204Z",
     "iopub.status.idle": "2022-05-04T15:47:11.701120Z",
     "shell.execute_reply": "2022-05-04T15:47:11.700314Z"
    },
    "papermill": {
     "duration": 1.53087,
     "end_time": "2022-05-04T15:47:11.703122",
     "exception": false,
     "start_time": "2022-05-04T15:47:10.172252",
     "status": "completed"
    },
    "tags": []
   },
   "outputs": [
    {
     "data": {
      "text/plain": [
       "<500000x16276 sparse matrix of type '<class 'numpy.float64'>'\n",
       "\twith 5000000 stored elements in Compressed Sparse Row format>"
      ]
     },
     "execution_count": 19,
     "metadata": {},
     "output_type": "execute_result"
    }
   ],
   "source": [
    "from sklearn.preprocessing import OneHotEncoder\n",
    "\n",
    "onehot_encoder = OneHotEncoder()\n",
    "\n",
    "encoded_nom_matrix = onehot_encoder.fit_transform(all_data[nom_features])\n",
    "\n",
    "encoded_nom_matrix"
   ]
  },
  {
   "cell_type": "code",
   "execution_count": 20,
   "id": "1b0f689a",
   "metadata": {
    "execution": {
     "iopub.execute_input": "2022-05-04T15:47:11.769106Z",
     "iopub.status.busy": "2022-05-04T15:47:11.768840Z",
     "iopub.status.idle": "2022-05-04T15:47:11.800427Z",
     "shell.execute_reply": "2022-05-04T15:47:11.799605Z"
    },
    "papermill": {
     "duration": 0.067161,
     "end_time": "2022-05-04T15:47:11.802286",
     "exception": false,
     "start_time": "2022-05-04T15:47:11.735125",
     "status": "completed"
    },
    "tags": []
   },
   "outputs": [],
   "source": [
    "all_data = all_data.drop(nom_features, axis=1)"
   ]
  },
  {
   "cell_type": "code",
   "execution_count": 21,
   "id": "d089b4fd",
   "metadata": {
    "execution": {
     "iopub.execute_input": "2022-05-04T15:47:11.869877Z",
     "iopub.status.busy": "2022-05-04T15:47:11.869369Z",
     "iopub.status.idle": "2022-05-04T15:47:12.018294Z",
     "shell.execute_reply": "2022-05-04T15:47:12.017552Z"
    },
    "papermill": {
     "duration": 0.185894,
     "end_time": "2022-05-04T15:47:12.020112",
     "exception": false,
     "start_time": "2022-05-04T15:47:11.834218",
     "status": "completed"
    },
    "tags": []
   },
   "outputs": [
    {
     "data": {
      "text/plain": [
       "<500000x19 sparse matrix of type '<class 'numpy.float64'>'\n",
       "\twith 1000000 stored elements in Compressed Sparse Row format>"
      ]
     },
     "execution_count": 21,
     "metadata": {},
     "output_type": "execute_result"
    }
   ],
   "source": [
    "date_features = ['day', 'month']\n",
    "\n",
    "encoded_date_matrix = onehot_encoder.fit_transform(all_data[date_features])\n",
    "\n",
    "all_data = all_data.drop(date_features, axis=1)\n",
    "\n",
    "encoded_date_matrix"
   ]
  },
  {
   "cell_type": "markdown",
   "id": "3a5e321b",
   "metadata": {
    "papermill": {
     "duration": 0.032715,
     "end_time": "2022-05-04T15:47:12.084827",
     "exception": false,
     "start_time": "2022-05-04T15:47:12.052112",
     "status": "completed"
    },
    "tags": []
   },
   "source": [
    "피처 엔지니어링II: 피처 스케일링"
   ]
  },
  {
   "cell_type": "code",
   "execution_count": 22,
   "id": "9a313cd4",
   "metadata": {
    "execution": {
     "iopub.execute_input": "2022-05-04T15:47:12.152033Z",
     "iopub.status.busy": "2022-05-04T15:47:12.151237Z",
     "iopub.status.idle": "2022-05-04T15:47:12.230725Z",
     "shell.execute_reply": "2022-05-04T15:47:12.229820Z"
    },
    "papermill": {
     "duration": 0.11515,
     "end_time": "2022-05-04T15:47:12.232981",
     "exception": false,
     "start_time": "2022-05-04T15:47:12.117831",
     "status": "completed"
    },
    "tags": []
   },
   "outputs": [],
   "source": [
    "from sklearn.preprocessing import MinMaxScaler \n",
    "\n",
    "ord_features = ['ord_' + str(i) for i in range(6)]\n",
    "all_data[ord_features] = MinMaxScaler().fit_transform(all_data[ord_features])"
   ]
  },
  {
   "cell_type": "code",
   "execution_count": 23,
   "id": "323891e5",
   "metadata": {
    "execution": {
     "iopub.execute_input": "2022-05-04T15:47:12.298617Z",
     "iopub.status.busy": "2022-05-04T15:47:12.298327Z",
     "iopub.status.idle": "2022-05-04T15:47:12.834165Z",
     "shell.execute_reply": "2022-05-04T15:47:12.833281Z"
    },
    "papermill": {
     "duration": 0.571522,
     "end_time": "2022-05-04T15:47:12.836461",
     "exception": false,
     "start_time": "2022-05-04T15:47:12.264939",
     "status": "completed"
    },
    "tags": []
   },
   "outputs": [],
   "source": [
    "from scipy import sparse\n",
    "\n",
    "all_data_sprs = sparse.hstack([sparse.csr_matrix(all_data),\n",
    "                               encoded_nom_matrix,\n",
    "                               encoded_date_matrix],\n",
    "                               format='csr')"
   ]
  },
  {
   "cell_type": "code",
   "execution_count": 24,
   "id": "a47053f7",
   "metadata": {
    "execution": {
     "iopub.execute_input": "2022-05-04T15:47:12.906431Z",
     "iopub.status.busy": "2022-05-04T15:47:12.906100Z",
     "iopub.status.idle": "2022-05-04T15:47:12.911699Z",
     "shell.execute_reply": "2022-05-04T15:47:12.910850Z"
    },
    "papermill": {
     "duration": 0.04442,
     "end_time": "2022-05-04T15:47:12.913455",
     "exception": false,
     "start_time": "2022-05-04T15:47:12.869035",
     "status": "completed"
    },
    "tags": []
   },
   "outputs": [
    {
     "data": {
      "text/plain": [
       "<500000x16306 sparse matrix of type '<class 'numpy.float64'>'\n",
       "\twith 9163718 stored elements in Compressed Sparse Row format>"
      ]
     },
     "execution_count": 24,
     "metadata": {},
     "output_type": "execute_result"
    }
   ],
   "source": [
    "all_data_sprs"
   ]
  },
  {
   "cell_type": "code",
   "execution_count": 25,
   "id": "4937b55d",
   "metadata": {
    "execution": {
     "iopub.execute_input": "2022-05-04T15:47:12.980210Z",
     "iopub.status.busy": "2022-05-04T15:47:12.979737Z",
     "iopub.status.idle": "2022-05-04T15:47:13.066197Z",
     "shell.execute_reply": "2022-05-04T15:47:13.065487Z"
    },
    "papermill": {
     "duration": 0.122426,
     "end_time": "2022-05-04T15:47:13.068199",
     "exception": false,
     "start_time": "2022-05-04T15:47:12.945773",
     "status": "completed"
    },
    "tags": []
   },
   "outputs": [],
   "source": [
    "num_train = len(train)\n",
    "\n",
    "X_train = all_data_sprs[:num_train]\n",
    "X_test = all_data_sprs[num_train:]\n",
    "\n",
    "y = train['target']"
   ]
  },
  {
   "cell_type": "code",
   "execution_count": 26,
   "id": "b28e4fb5",
   "metadata": {
    "execution": {
     "iopub.execute_input": "2022-05-04T15:47:13.135979Z",
     "iopub.status.busy": "2022-05-04T15:47:13.135529Z",
     "iopub.status.idle": "2022-05-04T15:47:13.271801Z",
     "shell.execute_reply": "2022-05-04T15:47:13.270953Z"
    },
    "papermill": {
     "duration": 0.172265,
     "end_time": "2022-05-04T15:47:13.274072",
     "exception": false,
     "start_time": "2022-05-04T15:47:13.101807",
     "status": "completed"
    },
    "tags": []
   },
   "outputs": [],
   "source": [
    "from sklearn.model_selection import train_test_split \n",
    "\n",
    "X_train, X_valid, y_train, y_valid = train_test_split(X_train, y,\n",
    "                                                      test_size=0.1,\n",
    "                                                      stratify=y,\n",
    "                                                      random_state=10)"
   ]
  },
  {
   "cell_type": "markdown",
   "id": "1401157f",
   "metadata": {
    "papermill": {
     "duration": 0.031884,
     "end_time": "2022-05-04T15:47:13.338794",
     "exception": false,
     "start_time": "2022-05-04T15:47:13.306910",
     "status": "completed"
    },
    "tags": []
   },
   "source": [
    "하이퍼파라미터 최적화"
   ]
  },
  {
   "cell_type": "code",
   "execution_count": 27,
   "id": "b61619a5",
   "metadata": {
    "execution": {
     "iopub.execute_input": "2022-05-04T15:47:13.404813Z",
     "iopub.status.busy": "2022-05-04T15:47:13.404533Z",
     "iopub.status.idle": "2022-05-04T15:54:12.018783Z",
     "shell.execute_reply": "2022-05-04T15:54:12.017945Z"
    },
    "papermill": {
     "duration": 418.696441,
     "end_time": "2022-05-04T15:54:12.067419",
     "exception": false,
     "start_time": "2022-05-04T15:47:13.370978",
     "status": "completed"
    },
    "tags": []
   },
   "outputs": [
    {
     "name": "stdout",
     "output_type": "stream",
     "text": [
      "최적 하이퍼파라미터: {'C': 0.125, 'max_iter': 800, 'random_state': 42, 'solver': 'liblinear'}\n",
      "CPU times: user 14min 12s, sys: 12min 51s, total: 27min 4s\n",
      "Wall time: 6min 58s\n"
     ]
    }
   ],
   "source": [
    "%%time \n",
    "\n",
    "from sklearn.model_selection import GridSearchCV \n",
    "from sklearn.linear_model import LogisticRegression\n",
    "\n",
    "logistic_model = LogisticRegression()\n",
    "\n",
    "lr_params = {'C': [0.1, 0.125, 0.2], 'max_iter': [800, 900, 1000],\n",
    "             'solver': ['liblinear'], 'random_state': [42]}\n",
    "\n",
    "gridsearch_logistic_model = GridSearchCV(estimator=logistic_model,\n",
    "                                         param_grid=lr_params,\n",
    "                                         scoring='roc_auc',\n",
    "                                         cv=5)\n",
    "\n",
    "gridsearch_logistic_model.fit(X_train, y_train)\n",
    "\n",
    "print('최적 하이퍼파라미터:', gridsearch_logistic_model.best_params_)"
   ]
  },
  {
   "cell_type": "markdown",
   "id": "bd90cf44",
   "metadata": {
    "papermill": {
     "duration": 0.032545,
     "end_time": "2022-05-04T15:54:12.132496",
     "exception": false,
     "start_time": "2022-05-04T15:54:12.099951",
     "status": "completed"
    },
    "tags": []
   },
   "source": [
    "모델 성능 검증"
   ]
  },
  {
   "cell_type": "code",
   "execution_count": 28,
   "id": "a7999506",
   "metadata": {
    "execution": {
     "iopub.execute_input": "2022-05-04T15:54:12.198634Z",
     "iopub.status.busy": "2022-05-04T15:54:12.198342Z",
     "iopub.status.idle": "2022-05-04T15:54:12.204861Z",
     "shell.execute_reply": "2022-05-04T15:54:12.203969Z"
    },
    "papermill": {
     "duration": 0.041689,
     "end_time": "2022-05-04T15:54:12.206704",
     "exception": false,
     "start_time": "2022-05-04T15:54:12.165015",
     "status": "completed"
    },
    "tags": []
   },
   "outputs": [],
   "source": [
    "y_valid_preds = gridsearch_logistic_model.predict_proba(X_valid)[:, 1]"
   ]
  },
  {
   "cell_type": "code",
   "execution_count": 29,
   "id": "6e678fa4",
   "metadata": {
    "execution": {
     "iopub.execute_input": "2022-05-04T15:54:12.273886Z",
     "iopub.status.busy": "2022-05-04T15:54:12.273450Z",
     "iopub.status.idle": "2022-05-04T15:54:12.289108Z",
     "shell.execute_reply": "2022-05-04T15:54:12.288051Z"
    },
    "papermill": {
     "duration": 0.051357,
     "end_time": "2022-05-04T15:54:12.290913",
     "exception": false,
     "start_time": "2022-05-04T15:54:12.239556",
     "status": "completed"
    },
    "tags": []
   },
   "outputs": [
    {
     "name": "stdout",
     "output_type": "stream",
     "text": [
      "검증 데이터 ROC AUC : 0.8045\n"
     ]
    }
   ],
   "source": [
    "from sklearn.metrics import roc_auc_score \n",
    "\n",
    "roc_auc = roc_auc_score(y_valid, y_valid_preds)\n",
    "\n",
    "print(f'검증 데이터 ROC AUC : {roc_auc:.4f}')"
   ]
  },
  {
   "cell_type": "markdown",
   "id": "b6f5f799",
   "metadata": {
    "papermill": {
     "duration": 0.032384,
     "end_time": "2022-05-04T15:54:12.356286",
     "exception": false,
     "start_time": "2022-05-04T15:54:12.323902",
     "status": "completed"
    },
    "tags": []
   },
   "source": [
    "예측 및 결과 제출"
   ]
  },
  {
   "cell_type": "code",
   "execution_count": 30,
   "id": "f7a90ace",
   "metadata": {
    "execution": {
     "iopub.execute_input": "2022-05-04T15:54:12.422968Z",
     "iopub.status.busy": "2022-05-04T15:54:12.422524Z",
     "iopub.status.idle": "2022-05-04T15:54:12.925581Z",
     "shell.execute_reply": "2022-05-04T15:54:12.924644Z"
    },
    "papermill": {
     "duration": 0.539276,
     "end_time": "2022-05-04T15:54:12.927994",
     "exception": false,
     "start_time": "2022-05-04T15:54:12.388718",
     "status": "completed"
    },
    "tags": []
   },
   "outputs": [],
   "source": [
    "y_preds = gridsearch_logistic_model.best_estimator_.predict_proba(X_test)[:,1]\n",
    "\n",
    "submission['target'] = y_preds \n",
    "submission.to_csv('submission.csv')"
   ]
  },
  {
   "cell_type": "markdown",
   "id": "2332502d",
   "metadata": {
    "papermill": {
     "duration": 0.03342,
     "end_time": "2022-05-04T15:54:12.994535",
     "exception": false,
     "start_time": "2022-05-04T15:54:12.961115",
     "status": "completed"
    },
    "tags": []
   },
   "source": [
    "성능 개선 II"
   ]
  },
  {
   "cell_type": "code",
   "execution_count": 31,
   "id": "bf6c78a5",
   "metadata": {
    "execution": {
     "iopub.execute_input": "2022-05-04T15:54:13.062238Z",
     "iopub.status.busy": "2022-05-04T15:54:13.061974Z",
     "iopub.status.idle": "2022-05-04T15:54:13.167841Z",
     "shell.execute_reply": "2022-05-04T15:54:13.166918Z"
    },
    "papermill": {
     "duration": 0.142713,
     "end_time": "2022-05-04T15:54:13.170036",
     "exception": false,
     "start_time": "2022-05-04T15:54:13.027323",
     "status": "completed"
    },
    "tags": []
   },
   "outputs": [],
   "source": [
    "num_train = len(train) \n",
    "\n",
    "X_train = all_data_sprs[:num_train] \n",
    "X_test = all_data_sprs[num_train:] \n",
    "\n",
    "y = train['target']"
   ]
  },
  {
   "cell_type": "code",
   "execution_count": 32,
   "id": "84aca5e1",
   "metadata": {
    "execution": {
     "iopub.execute_input": "2022-05-04T15:54:13.237187Z",
     "iopub.status.busy": "2022-05-04T15:54:13.236915Z",
     "iopub.status.idle": "2022-05-04T16:01:59.221965Z",
     "shell.execute_reply": "2022-05-04T16:01:59.221067Z"
    },
    "papermill": {
     "duration": 466.063151,
     "end_time": "2022-05-04T16:01:59.266251",
     "exception": false,
     "start_time": "2022-05-04T15:54:13.203100",
     "status": "completed"
    },
    "tags": []
   },
   "outputs": [
    {
     "name": "stdout",
     "output_type": "stream",
     "text": [
      "최적 하이퍼파라미터: {'C': 0.125, 'max_iter': 800, 'random_state': 42, 'solver': 'liblinear'}\n",
      "CPU times: user 15min 49s, sys: 14min 18s, total: 30min 8s\n",
      "Wall time: 7min 45s\n"
     ]
    }
   ],
   "source": [
    "%%time\n",
    "\n",
    "from sklearn.model_selection import GridSearchCV\n",
    "from sklearn.linear_model import LogisticRegression\n",
    "\n",
    "# 로지스틱 회귀 모델 생성\n",
    "logistic_model = LogisticRegression()\n",
    "\n",
    "# 하이퍼파라미터 값 목록\n",
    "lr_params = {'C':[0.1, 0.125, 0.2], 'max_iter':[800, 900, 1000], \n",
    "             'solver':['liblinear'], 'random_state':[42]}\n",
    "\n",
    "# 그리드서치 객체 생성\n",
    "gridsearch_logistic_model = GridSearchCV(estimator=logistic_model,\n",
    "                                         param_grid=lr_params,\n",
    "                                         scoring='roc_auc', # 평가지표\n",
    "                                         cv=5)\n",
    "# 그리드서치 수행\n",
    "gridsearch_logistic_model.fit(X_train, y)\n",
    "\n",
    "print('최적 하이퍼파라미터:', gridsearch_logistic_model.best_params_)"
   ]
  },
  {
   "cell_type": "code",
   "execution_count": 33,
   "id": "0c375433",
   "metadata": {
    "execution": {
     "iopub.execute_input": "2022-05-04T16:01:59.335723Z",
     "iopub.status.busy": "2022-05-04T16:01:59.335448Z",
     "iopub.status.idle": "2022-05-04T16:01:59.832692Z",
     "shell.execute_reply": "2022-05-04T16:01:59.832059Z"
    },
    "papermill": {
     "duration": 0.533776,
     "end_time": "2022-05-04T16:01:59.834672",
     "exception": false,
     "start_time": "2022-05-04T16:01:59.300896",
     "status": "completed"
    },
    "tags": []
   },
   "outputs": [],
   "source": [
    "y_preds = gridsearch_logistic_model.best_estimator_.predict_proba(X_test)[:,1]\n",
    "\n",
    "# 제출 파일 생성\n",
    "submission['target'] = y_preds\n",
    "submission.to_csv('submission.csv')"
   ]
  }
 ],
 "metadata": {
  "kernelspec": {
   "display_name": "Python 3",
   "language": "python",
   "name": "python3"
  },
  "language_info": {
   "codemirror_mode": {
    "name": "ipython",
    "version": 3
   },
   "file_extension": ".py",
   "mimetype": "text/x-python",
   "name": "python",
   "nbconvert_exporter": "python",
   "pygments_lexer": "ipython3",
   "version": "3.7.12"
  },
  "papermill": {
   "default_parameters": {},
   "duration": 979.642137,
   "end_time": "2022-05-04T16:02:00.589393",
   "environment_variables": {},
   "exception": null,
   "input_path": "__notebook__.ipynb",
   "output_path": "__notebook__.ipynb",
   "parameters": {},
   "start_time": "2022-05-04T15:45:40.947256",
   "version": "2.3.4"
  }
 },
 "nbformat": 4,
 "nbformat_minor": 5
}
