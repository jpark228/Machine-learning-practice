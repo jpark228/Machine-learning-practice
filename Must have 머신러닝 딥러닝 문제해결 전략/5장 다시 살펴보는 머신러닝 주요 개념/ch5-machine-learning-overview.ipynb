{
 "cells": [
  {
   "cell_type": "code",
   "execution_count": 1,
   "id": "089b8f93",
   "metadata": {
    "_cell_guid": "b1076dfc-b9ad-4769-8c92-a6c4dae69d19",
    "_uuid": "8f2839f25d086af736a60e9eeb907d3b93b6e0e5",
    "execution": {
     "iopub.execute_input": "2022-05-01T08:13:24.891308Z",
     "iopub.status.busy": "2022-05-01T08:13:24.890715Z",
     "iopub.status.idle": "2022-05-01T08:13:24.903800Z",
     "shell.execute_reply": "2022-05-01T08:13:24.902468Z"
    },
    "papermill": {
     "duration": 0.057133,
     "end_time": "2022-05-01T08:13:24.906307",
     "exception": false,
     "start_time": "2022-05-01T08:13:24.849174",
     "status": "completed"
    },
    "tags": []
   },
   "outputs": [],
   "source": [
    "# This Python 3 environment comes with many helpful analytics libraries installed\n",
    "# It is defined by the kaggle/python Docker image: https://github.com/kaggle/docker-python\n",
    "# For example, here's several helpful packages to load\n",
    "\n",
    "import numpy as np # linear algebra\n",
    "import pandas as pd # data processing, CSV file I/O (e.g. pd.read_csv)\n",
    "\n",
    "# Input data files are available in the read-only \"../input/\" directory\n",
    "# For example, running this (by clicking run or pressing Shift+Enter) will list all files under the input directory\n",
    "\n",
    "import os\n",
    "for dirname, _, filenames in os.walk('/kaggle/input'):\n",
    "    for filename in filenames:\n",
    "        print(os.path.join(dirname, filename))\n",
    "\n",
    "# You can write up to 20GB to the current directory (/kaggle/working/) that gets preserved as output when you create a version using \"Save & Run All\" \n",
    "# You can also write temporary files to /kaggle/temp/, but they won't be saved outside of the current session"
   ]
  },
  {
   "cell_type": "code",
   "execution_count": 2,
   "id": "e048bf45",
   "metadata": {
    "execution": {
     "iopub.execute_input": "2022-05-01T08:13:24.983142Z",
     "iopub.status.busy": "2022-05-01T08:13:24.982674Z",
     "iopub.status.idle": "2022-05-01T08:13:24.997714Z",
     "shell.execute_reply": "2022-05-01T08:13:24.996992Z"
    },
    "papermill": {
     "duration": 0.054978,
     "end_time": "2022-05-01T08:13:24.999731",
     "exception": false,
     "start_time": "2022-05-01T08:13:24.944753",
     "status": "completed"
    },
    "tags": []
   },
   "outputs": [],
   "source": [
    "%config Completer.use_jedi = False"
   ]
  },
  {
   "cell_type": "markdown",
   "id": "910bdc3c",
   "metadata": {
    "papermill": {
     "duration": 0.036973,
     "end_time": "2022-05-01T08:13:25.073028",
     "exception": false,
     "start_time": "2022-05-01T08:13:25.036055",
     "status": "completed"
    },
    "tags": []
   },
   "source": [
    "Regression Evaluation Metric"
   ]
  },
  {
   "cell_type": "code",
   "execution_count": 3,
   "id": "16df0114",
   "metadata": {
    "execution": {
     "iopub.execute_input": "2022-05-01T08:13:25.150062Z",
     "iopub.status.busy": "2022-05-01T08:13:25.149494Z",
     "iopub.status.idle": "2022-05-01T08:13:26.334758Z",
     "shell.execute_reply": "2022-05-01T08:13:26.333490Z"
    },
    "papermill": {
     "duration": 1.226709,
     "end_time": "2022-05-01T08:13:26.337228",
     "exception": false,
     "start_time": "2022-05-01T08:13:25.110519",
     "status": "completed"
    },
    "tags": []
   },
   "outputs": [
    {
     "name": "stdout",
     "output_type": "stream",
     "text": [
      "MAE:\t 0.5385\n",
      "MSE:\t 0.6923\n",
      "RMSE:\t 0.8321\n",
      "MSLE:\t 0.0296\n",
      "RMSLE:\t 0.1721\n",
      "R2:\t 0.8617\n"
     ]
    }
   ],
   "source": [
    "import numpy as np\n",
    "\n",
    "from sklearn.metrics import mean_absolute_error, mean_squared_error, mean_squared_log_error, r2_score\n",
    "\n",
    "true = np.array([1, 2, 3, 2, 3, 5, 4, 6, 5, 6, 7, 8, 8])\n",
    "preds = np.array([1, 1, 2, 2, 3, 4, 4, 5, 5, 7, 7, 6, 8])\n",
    "\n",
    "MAE = mean_absolute_error(true, preds)\n",
    "MSE = mean_squared_error(true, preds) \n",
    "RMSE = np.sqrt(MSE) \n",
    "MSLE = mean_squared_log_error(true, preds) \n",
    "RMSLE = np.sqrt(mean_squared_log_error(true, preds) )\n",
    "R2 = r2_score(true, preds)\n",
    "\n",
    "print(f'MAE:\\t {MAE:.4f}')\n",
    "print(f'MSE:\\t {MSE:.4f}')\n",
    "print(f'RMSE:\\t {RMSE:.4f}') \n",
    "print(f'MSLE:\\t {MSLE:.4f}') \n",
    "print(f'RMSLE:\\t {RMSLE:.4f}')\n",
    "print(f'R2:\\t {R2:.4f}')"
   ]
  },
  {
   "cell_type": "markdown",
   "id": "2e5c3114",
   "metadata": {
    "papermill": {
     "duration": 0.037708,
     "end_time": "2022-05-01T08:13:26.415469",
     "exception": false,
     "start_time": "2022-05-01T08:13:26.377761",
     "status": "completed"
    },
    "tags": []
   },
   "source": [
    "데이터 인코딩"
   ]
  },
  {
   "cell_type": "markdown",
   "id": "f10a0b02",
   "metadata": {
    "papermill": {
     "duration": 0.037156,
     "end_time": "2022-05-01T08:13:26.490088",
     "exception": false,
     "start_time": "2022-05-01T08:13:26.452932",
     "status": "completed"
    },
    "tags": []
   },
   "source": [
    "레이블 인코딩"
   ]
  },
  {
   "cell_type": "code",
   "execution_count": 4,
   "id": "85ea6000",
   "metadata": {
    "execution": {
     "iopub.execute_input": "2022-05-01T08:13:26.567643Z",
     "iopub.status.busy": "2022-05-01T08:13:26.567249Z",
     "iopub.status.idle": "2022-05-01T08:13:26.575313Z",
     "shell.execute_reply": "2022-05-01T08:13:26.574235Z"
    },
    "papermill": {
     "duration": 0.050321,
     "end_time": "2022-05-01T08:13:26.578437",
     "exception": false,
     "start_time": "2022-05-01T08:13:26.528116",
     "status": "completed"
    },
    "tags": []
   },
   "outputs": [
    {
     "name": "stdout",
     "output_type": "stream",
     "text": [
      "레이블 인코딩 적용 후 데이터: [3 2 1 0 2 1 1 3]\n"
     ]
    }
   ],
   "source": [
    "from sklearn.preprocessing import LabelEncoder \n",
    "\n",
    "fruits = ['사과', '블루베리', '바나나', '귤', '블루베리', '바나나', '바나나', '사과']\n",
    "\n",
    "label_encoder = LabelEncoder()\n",
    "fruits_label_encoded = label_encoder.fit_transform(fruits)\n",
    "\n",
    "print('레이블 인코딩 적용 후 데이터:', fruits_label_encoded)"
   ]
  },
  {
   "cell_type": "markdown",
   "id": "8df99675",
   "metadata": {
    "papermill": {
     "duration": 0.037581,
     "end_time": "2022-05-01T08:13:26.654987",
     "exception": false,
     "start_time": "2022-05-01T08:13:26.617406",
     "status": "completed"
    },
    "tags": []
   },
   "source": [
    "원-핫 인코딩"
   ]
  },
  {
   "cell_type": "code",
   "execution_count": 5,
   "id": "034a75e3",
   "metadata": {
    "execution": {
     "iopub.execute_input": "2022-05-01T08:13:26.732755Z",
     "iopub.status.busy": "2022-05-01T08:13:26.732274Z",
     "iopub.status.idle": "2022-05-01T08:13:26.741974Z",
     "shell.execute_reply": "2022-05-01T08:13:26.740873Z"
    },
    "papermill": {
     "duration": 0.051165,
     "end_time": "2022-05-01T08:13:26.744165",
     "exception": false,
     "start_time": "2022-05-01T08:13:26.693000",
     "status": "completed"
    },
    "tags": []
   },
   "outputs": [
    {
     "name": "stdout",
     "output_type": "stream",
     "text": [
      "원-핫 인코딩 적용 후 데이터:\n",
      " [[0. 0. 0. 1.]\n",
      " [0. 0. 1. 0.]\n",
      " [0. 1. 0. 0.]\n",
      " [1. 0. 0. 0.]\n",
      " [0. 0. 1. 0.]\n",
      " [0. 1. 0. 0.]\n",
      " [0. 1. 0. 0.]\n",
      " [0. 0. 0. 1.]]\n"
     ]
    }
   ],
   "source": [
    "from sklearn.preprocessing import LabelEncoder, OneHotEncoder\n",
    "\n",
    "fruits = ['사과', '블루베리', '바나나', '귤', '블루베리', '바나나', '바나나', '사과']\n",
    "\n",
    "label_encoder = LabelEncoder()\n",
    "onehot_encoder = OneHotEncoder()\n",
    "\n",
    "fruits_label_encoded = label_encoder.fit_transform(fruits)\n",
    "fruits_onehot_encoded = onehot_encoder.fit_transform(fruits_label_encoded.reshape(-1, 1))\n",
    "\n",
    "print('원-핫 인코딩 적용 후 데이터:\\n', fruits_onehot_encoded.toarray())"
   ]
  },
  {
   "cell_type": "code",
   "execution_count": 6,
   "id": "21300804",
   "metadata": {
    "execution": {
     "iopub.execute_input": "2022-05-01T08:13:26.821075Z",
     "iopub.status.busy": "2022-05-01T08:13:26.820763Z",
     "iopub.status.idle": "2022-05-01T08:13:26.828361Z",
     "shell.execute_reply": "2022-05-01T08:13:26.827658Z"
    },
    "papermill": {
     "duration": 0.049482,
     "end_time": "2022-05-01T08:13:26.831196",
     "exception": false,
     "start_time": "2022-05-01T08:13:26.781714",
     "status": "completed"
    },
    "tags": []
   },
   "outputs": [
    {
     "data": {
      "text/plain": [
       "array([3, 2, 1, 0, 2, 1, 1, 3])"
      ]
     },
     "execution_count": 6,
     "metadata": {},
     "output_type": "execute_result"
    }
   ],
   "source": [
    "fruits_label_encoded"
   ]
  },
  {
   "cell_type": "code",
   "execution_count": 7,
   "id": "6d9b02d1",
   "metadata": {
    "execution": {
     "iopub.execute_input": "2022-05-01T08:13:26.908385Z",
     "iopub.status.busy": "2022-05-01T08:13:26.908098Z",
     "iopub.status.idle": "2022-05-01T08:13:26.914634Z",
     "shell.execute_reply": "2022-05-01T08:13:26.913618Z"
    },
    "papermill": {
     "duration": 0.047456,
     "end_time": "2022-05-01T08:13:26.916946",
     "exception": false,
     "start_time": "2022-05-01T08:13:26.869490",
     "status": "completed"
    },
    "tags": []
   },
   "outputs": [
    {
     "data": {
      "text/plain": [
       "array([[3, 2],\n",
       "       [1, 0],\n",
       "       [2, 1],\n",
       "       [1, 3]])"
      ]
     },
     "execution_count": 7,
     "metadata": {},
     "output_type": "execute_result"
    }
   ],
   "source": [
    "fruits_label_encoded.reshape(4, 2)"
   ]
  },
  {
   "cell_type": "code",
   "execution_count": 8,
   "id": "237413bc",
   "metadata": {
    "execution": {
     "iopub.execute_input": "2022-05-01T08:13:26.996721Z",
     "iopub.status.busy": "2022-05-01T08:13:26.996175Z",
     "iopub.status.idle": "2022-05-01T08:13:27.001672Z",
     "shell.execute_reply": "2022-05-01T08:13:27.001093Z"
    },
    "papermill": {
     "duration": 0.047756,
     "end_time": "2022-05-01T08:13:27.003491",
     "exception": false,
     "start_time": "2022-05-01T08:13:26.955735",
     "status": "completed"
    },
    "tags": []
   },
   "outputs": [
    {
     "data": {
      "text/plain": [
       "array([[3],\n",
       "       [2],\n",
       "       [1],\n",
       "       [0],\n",
       "       [2],\n",
       "       [1],\n",
       "       [1],\n",
       "       [3]])"
      ]
     },
     "execution_count": 8,
     "metadata": {},
     "output_type": "execute_result"
    }
   ],
   "source": [
    "fruits_label_encoded.reshape(-1, 1)"
   ]
  },
  {
   "cell_type": "code",
   "execution_count": 9,
   "id": "54cb2869",
   "metadata": {
    "execution": {
     "iopub.execute_input": "2022-05-01T08:13:27.084713Z",
     "iopub.status.busy": "2022-05-01T08:13:27.084158Z",
     "iopub.status.idle": "2022-05-01T08:13:27.108279Z",
     "shell.execute_reply": "2022-05-01T08:13:27.107594Z"
    },
    "papermill": {
     "duration": 0.067478,
     "end_time": "2022-05-01T08:13:27.110107",
     "exception": false,
     "start_time": "2022-05-01T08:13:27.042629",
     "status": "completed"
    },
    "tags": []
   },
   "outputs": [
    {
     "data": {
      "text/html": [
       "<div>\n",
       "<style scoped>\n",
       "    .dataframe tbody tr th:only-of-type {\n",
       "        vertical-align: middle;\n",
       "    }\n",
       "\n",
       "    .dataframe tbody tr th {\n",
       "        vertical-align: top;\n",
       "    }\n",
       "\n",
       "    .dataframe thead th {\n",
       "        text-align: right;\n",
       "    }\n",
       "</style>\n",
       "<table border=\"1\" class=\"dataframe\">\n",
       "  <thead>\n",
       "    <tr style=\"text-align: right;\">\n",
       "      <th></th>\n",
       "      <th>귤</th>\n",
       "      <th>바나나</th>\n",
       "      <th>블루베리</th>\n",
       "      <th>사과</th>\n",
       "    </tr>\n",
       "  </thead>\n",
       "  <tbody>\n",
       "    <tr>\n",
       "      <th>0</th>\n",
       "      <td>0</td>\n",
       "      <td>0</td>\n",
       "      <td>0</td>\n",
       "      <td>1</td>\n",
       "    </tr>\n",
       "    <tr>\n",
       "      <th>1</th>\n",
       "      <td>0</td>\n",
       "      <td>0</td>\n",
       "      <td>1</td>\n",
       "      <td>0</td>\n",
       "    </tr>\n",
       "    <tr>\n",
       "      <th>2</th>\n",
       "      <td>0</td>\n",
       "      <td>1</td>\n",
       "      <td>0</td>\n",
       "      <td>0</td>\n",
       "    </tr>\n",
       "    <tr>\n",
       "      <th>3</th>\n",
       "      <td>1</td>\n",
       "      <td>0</td>\n",
       "      <td>0</td>\n",
       "      <td>0</td>\n",
       "    </tr>\n",
       "    <tr>\n",
       "      <th>4</th>\n",
       "      <td>0</td>\n",
       "      <td>0</td>\n",
       "      <td>1</td>\n",
       "      <td>0</td>\n",
       "    </tr>\n",
       "    <tr>\n",
       "      <th>5</th>\n",
       "      <td>0</td>\n",
       "      <td>1</td>\n",
       "      <td>0</td>\n",
       "      <td>0</td>\n",
       "    </tr>\n",
       "    <tr>\n",
       "      <th>6</th>\n",
       "      <td>0</td>\n",
       "      <td>1</td>\n",
       "      <td>0</td>\n",
       "      <td>0</td>\n",
       "    </tr>\n",
       "    <tr>\n",
       "      <th>7</th>\n",
       "      <td>0</td>\n",
       "      <td>0</td>\n",
       "      <td>0</td>\n",
       "      <td>1</td>\n",
       "    </tr>\n",
       "  </tbody>\n",
       "</table>\n",
       "</div>"
      ],
      "text/plain": [
       "   귤  바나나  블루베리  사과\n",
       "0  0    0     0   1\n",
       "1  0    0     1   0\n",
       "2  0    1     0   0\n",
       "3  1    0     0   0\n",
       "4  0    0     1   0\n",
       "5  0    1     0   0\n",
       "6  0    1     0   0\n",
       "7  0    0     0   1"
      ]
     },
     "execution_count": 9,
     "metadata": {},
     "output_type": "execute_result"
    }
   ],
   "source": [
    "import pandas as pd \n",
    "\n",
    "pd.get_dummies(fruits)"
   ]
  },
  {
   "cell_type": "markdown",
   "id": "52f77072",
   "metadata": {
    "papermill": {
     "duration": 0.041687,
     "end_time": "2022-05-01T08:13:27.193589",
     "exception": false,
     "start_time": "2022-05-01T08:13:27.151902",
     "status": "completed"
    },
    "tags": []
   },
   "source": [
    "피처 스케일링"
   ]
  },
  {
   "cell_type": "markdown",
   "id": "2e599bd3",
   "metadata": {
    "papermill": {
     "duration": 0.040902,
     "end_time": "2022-05-01T08:13:27.273639",
     "exception": false,
     "start_time": "2022-05-01T08:13:27.232737",
     "status": "completed"
    },
    "tags": []
   },
   "source": [
    "min-max 정규화"
   ]
  },
  {
   "cell_type": "code",
   "execution_count": 10,
   "id": "21715aae",
   "metadata": {
    "execution": {
     "iopub.execute_input": "2022-05-01T08:13:27.358752Z",
     "iopub.status.busy": "2022-05-01T08:13:27.357989Z",
     "iopub.status.idle": "2022-05-01T08:13:27.368525Z",
     "shell.execute_reply": "2022-05-01T08:13:27.367582Z"
    },
    "papermill": {
     "duration": 0.057619,
     "end_time": "2022-05-01T08:13:27.371010",
     "exception": false,
     "start_time": "2022-05-01T08:13:27.313391",
     "status": "completed"
    },
    "tags": []
   },
   "outputs": [
    {
     "name": "stdout",
     "output_type": "stream",
     "text": [
      "      키  몸무게\n",
      "광일  1.7   75\n",
      "혜성  1.5   55\n",
      "덕수  1.8   60\n"
     ]
    }
   ],
   "source": [
    "import pandas as pd \n",
    "\n",
    "height_weight_dict = {'키': [1.7, 1.5, 1.8], '몸무게': [75, 55, 60]}\n",
    "df = pd.DataFrame(height_weight_dict, index=['광일', '혜성', '덕수'])\n",
    "\n",
    "print(df)"
   ]
  },
  {
   "cell_type": "code",
   "execution_count": 11,
   "id": "9ffd399a",
   "metadata": {
    "execution": {
     "iopub.execute_input": "2022-05-01T08:13:27.454779Z",
     "iopub.status.busy": "2022-05-01T08:13:27.454426Z",
     "iopub.status.idle": "2022-05-01T08:13:27.465501Z",
     "shell.execute_reply": "2022-05-01T08:13:27.464484Z"
    },
    "papermill": {
     "duration": 0.057569,
     "end_time": "2022-05-01T08:13:27.469065",
     "exception": false,
     "start_time": "2022-05-01T08:13:27.411496",
     "status": "completed"
    },
    "tags": []
   },
   "outputs": [
    {
     "name": "stdout",
     "output_type": "stream",
     "text": [
      "[[0.66666667 1.        ]\n",
      " [0.         0.        ]\n",
      " [1.         0.25      ]]\n"
     ]
    }
   ],
   "source": [
    "from sklearn.preprocessing import MinMaxScaler \n",
    "\n",
    "scaler = MinMaxScaler() \n",
    "\n",
    "scaler.fit(df)\n",
    "df_scaled = scaler.transform(df)\n",
    "\n",
    "print(df_scaled)"
   ]
  },
  {
   "cell_type": "code",
   "execution_count": 12,
   "id": "a8433abe",
   "metadata": {
    "execution": {
     "iopub.execute_input": "2022-05-01T08:13:27.554443Z",
     "iopub.status.busy": "2022-05-01T08:13:27.554152Z",
     "iopub.status.idle": "2022-05-01T08:13:27.564595Z",
     "shell.execute_reply": "2022-05-01T08:13:27.563363Z"
    },
    "papermill": {
     "duration": 0.056316,
     "end_time": "2022-05-01T08:13:27.568638",
     "exception": false,
     "start_time": "2022-05-01T08:13:27.512322",
     "status": "completed"
    },
    "tags": []
   },
   "outputs": [
    {
     "name": "stdout",
     "output_type": "stream",
     "text": [
      "[[0.66666667 1.        ]\n",
      " [0.         0.        ]\n",
      " [1.         0.25      ]]\n"
     ]
    }
   ],
   "source": [
    "scaler = MinMaxScaler() \n",
    "\n",
    "df_scaled = scaler.fit_transform(df)\n",
    "\n",
    "print(df_scaled)"
   ]
  },
  {
   "cell_type": "markdown",
   "id": "35384c72",
   "metadata": {
    "papermill": {
     "duration": 0.039661,
     "end_time": "2022-05-01T08:13:27.649590",
     "exception": false,
     "start_time": "2022-05-01T08:13:27.609929",
     "status": "completed"
    },
    "tags": []
   },
   "source": [
    "표준화"
   ]
  },
  {
   "cell_type": "code",
   "execution_count": 13,
   "id": "a8f9d978",
   "metadata": {
    "execution": {
     "iopub.execute_input": "2022-05-01T08:13:27.732018Z",
     "iopub.status.busy": "2022-05-01T08:13:27.731738Z",
     "iopub.status.idle": "2022-05-01T08:13:27.742005Z",
     "shell.execute_reply": "2022-05-01T08:13:27.741000Z"
    },
    "papermill": {
     "duration": 0.055816,
     "end_time": "2022-05-01T08:13:27.745498",
     "exception": false,
     "start_time": "2022-05-01T08:13:27.689682",
     "status": "completed"
    },
    "tags": []
   },
   "outputs": [
    {
     "name": "stdout",
     "output_type": "stream",
     "text": [
      "[[ 0.26726124  1.37281295]\n",
      " [-1.33630621 -0.98058068]\n",
      " [ 1.06904497 -0.39223227]]\n"
     ]
    }
   ],
   "source": [
    "from sklearn.preprocessing import StandardScaler \n",
    "\n",
    "scaler = StandardScaler()\n",
    "\n",
    "df_scaled = scaler.fit_transform(df)\n",
    "\n",
    "print(df_scaled)"
   ]
  },
  {
   "cell_type": "markdown",
   "id": "8cb1f866",
   "metadata": {
    "papermill": {
     "duration": 0.04353,
     "end_time": "2022-05-01T08:13:27.832520",
     "exception": false,
     "start_time": "2022-05-01T08:13:27.788990",
     "status": "completed"
    },
    "tags": []
   },
   "source": [
    "교차 검증"
   ]
  },
  {
   "cell_type": "markdown",
   "id": "3fe4a5d5",
   "metadata": {
    "papermill": {
     "duration": 0.042754,
     "end_time": "2022-05-01T08:13:27.917549",
     "exception": false,
     "start_time": "2022-05-01T08:13:27.874795",
     "status": "completed"
    },
    "tags": []
   },
   "source": [
    "K 폴드 교차 검증 "
   ]
  },
  {
   "cell_type": "code",
   "execution_count": 14,
   "id": "fa9b2011",
   "metadata": {
    "execution": {
     "iopub.execute_input": "2022-05-01T08:13:28.003834Z",
     "iopub.status.busy": "2022-05-01T08:13:28.003512Z",
     "iopub.status.idle": "2022-05-01T08:13:28.028488Z",
     "shell.execute_reply": "2022-05-01T08:13:28.027586Z"
    },
    "papermill": {
     "duration": 0.069819,
     "end_time": "2022-05-01T08:13:28.031103",
     "exception": false,
     "start_time": "2022-05-01T08:13:27.961284",
     "status": "completed"
    },
    "tags": []
   },
   "outputs": [
    {
     "name": "stdout",
     "output_type": "stream",
     "text": [
      "훈련 데이터: [2 3 4 5 6 7 8 9], 검증 데이터: [0 1]\n",
      "훈련 데이터: [0 1 4 5 6 7 8 9], 검증 데이터: [2 3]\n",
      "훈련 데이터: [0 1 2 3 6 7 8 9], 검증 데이터: [4 5]\n",
      "훈련 데이터: [0 1 2 3 4 5 8 9], 검증 데이터: [6 7]\n",
      "훈련 데이터: [0 1 2 3 4 5 6 7], 검증 데이터: [8 9]\n"
     ]
    }
   ],
   "source": [
    "import numpy as np\n",
    "from sklearn.model_selection import KFold \n",
    "\n",
    "data = np.array([0, 1, 2, 3, 4, 5, 6, 7, 8, 9])\n",
    "\n",
    "folds = KFold(n_splits=5, shuffle=False)\n",
    "\n",
    "for train_idx, valid_idx in folds.split(data):\n",
    "    print(f'훈련 데이터: {data[train_idx]}, 검증 데이터: {data[valid_idx]}')"
   ]
  },
  {
   "cell_type": "code",
   "execution_count": 15,
   "id": "80783c23",
   "metadata": {
    "execution": {
     "iopub.execute_input": "2022-05-01T08:13:28.116078Z",
     "iopub.status.busy": "2022-05-01T08:13:28.115805Z",
     "iopub.status.idle": "2022-05-01T08:13:28.123787Z",
     "shell.execute_reply": "2022-05-01T08:13:28.122155Z"
    },
    "papermill": {
     "duration": 0.054444,
     "end_time": "2022-05-01T08:13:28.127323",
     "exception": false,
     "start_time": "2022-05-01T08:13:28.072879",
     "status": "completed"
    },
    "tags": []
   },
   "outputs": [
    {
     "name": "stdout",
     "output_type": "stream",
     "text": [
      "훈련 데이터: [0 1 2 3 4 6 7 8], 검증 데이터: [5 9]\n",
      "훈련 데이터: [0 1 2 4 5 7 8 9], 검증 데이터: [3 6]\n",
      "훈련 데이터: [2 3 4 5 6 7 8 9], 검증 데이터: [0 1]\n",
      "훈련 데이터: [0 1 3 4 5 6 7 9], 검증 데이터: [2 8]\n",
      "훈련 데이터: [0 1 2 3 5 6 8 9], 검증 데이터: [4 7]\n"
     ]
    }
   ],
   "source": [
    "folds = KFold(n_splits=5, shuffle=True)\n",
    "\n",
    "for train_idx, valid_idx in folds.split(data):\n",
    "    print(f'훈련 데이터: {data[train_idx]}, 검증 데이터: {data[valid_idx]}')"
   ]
  },
  {
   "cell_type": "markdown",
   "id": "ba95d8ee",
   "metadata": {
    "papermill": {
     "duration": 0.041891,
     "end_time": "2022-05-01T08:13:28.211380",
     "exception": false,
     "start_time": "2022-05-01T08:13:28.169489",
     "status": "completed"
    },
    "tags": []
   },
   "source": [
    "층화 K 폴드 교차 검증"
   ]
  },
  {
   "cell_type": "code",
   "execution_count": 16,
   "id": "0e2eded9",
   "metadata": {
    "execution": {
     "iopub.execute_input": "2022-05-01T08:13:28.296955Z",
     "iopub.status.busy": "2022-05-01T08:13:28.296685Z",
     "iopub.status.idle": "2022-05-01T08:13:28.305625Z",
     "shell.execute_reply": "2022-05-01T08:13:28.304663Z"
    },
    "papermill": {
     "duration": 0.054528,
     "end_time": "2022-05-01T08:13:28.307870",
     "exception": false,
     "start_time": "2022-05-01T08:13:28.253342",
     "status": "completed"
    },
    "tags": []
   },
   "outputs": [
    {
     "name": "stdout",
     "output_type": "stream",
     "text": [
      "Fold 1 검증 데이터 타깃값:\n",
      "['일반' '일반' '일반' '일반' '일반' '일반' '일반' '일반' '일반' '일반'] \n",
      "\n",
      "Fold 2 검증 데이터 타깃값:\n",
      "['스팸' '스팸' '일반' '일반' '일반' '일반' '일반' '일반' '일반' '일반'] \n",
      "\n",
      "Fold 3 검증 데이터 타깃값:\n",
      "['스팸' '일반' '일반' '일반' '일반' '일반' '일반' '일반' '일반' '일반'] \n",
      "\n",
      "Fold 4 검증 데이터 타깃값:\n",
      "['일반' '일반' '일반' '일반' '일반' '일반' '일반' '일반' '일반' '일반'] \n",
      "\n",
      "Fold 5 검증 데이터 타깃값:\n",
      "['스팸' '스팸' '일반' '일반' '일반' '일반' '일반' '일반' '일반' '일반'] \n",
      "\n"
     ]
    }
   ],
   "source": [
    "y = np.array(['스팸']*5 +['일반']*45)\n",
    "\n",
    "folds = KFold(n_splits=5, shuffle=True)\n",
    "\n",
    "for idx, (train_idx, valid_idx) in enumerate(folds.split(y)):\n",
    "    print(f'Fold {idx+1} 검증 데이터 타깃값:')\n",
    "    print(y[valid_idx], '\\n')"
   ]
  },
  {
   "cell_type": "code",
   "execution_count": 17,
   "id": "e3e0d5e8",
   "metadata": {
    "execution": {
     "iopub.execute_input": "2022-05-01T08:13:28.396965Z",
     "iopub.status.busy": "2022-05-01T08:13:28.396432Z",
     "iopub.status.idle": "2022-05-01T08:13:28.410067Z",
     "shell.execute_reply": "2022-05-01T08:13:28.408849Z"
    },
    "papermill": {
     "duration": 0.060113,
     "end_time": "2022-05-01T08:13:28.412727",
     "exception": false,
     "start_time": "2022-05-01T08:13:28.352614",
     "status": "completed"
    },
    "tags": []
   },
   "outputs": [
    {
     "name": "stdout",
     "output_type": "stream",
     "text": [
      "Fold 1 검증 데이터 타깃값:\n",
      "['스팸' '일반' '일반' '일반' '일반' '일반' '일반' '일반' '일반' '일반'] \n",
      "\n",
      "Fold 2 검증 데이터 타깃값:\n",
      "['스팸' '일반' '일반' '일반' '일반' '일반' '일반' '일반' '일반' '일반'] \n",
      "\n",
      "Fold 3 검증 데이터 타깃값:\n",
      "['스팸' '일반' '일반' '일반' '일반' '일반' '일반' '일반' '일반' '일반'] \n",
      "\n",
      "Fold 4 검증 데이터 타깃값:\n",
      "['스팸' '일반' '일반' '일반' '일반' '일반' '일반' '일반' '일반' '일반'] \n",
      "\n",
      "Fold 5 검증 데이터 타깃값:\n",
      "['스팸' '일반' '일반' '일반' '일반' '일반' '일반' '일반' '일반' '일반'] \n",
      "\n"
     ]
    }
   ],
   "source": [
    "from sklearn.model_selection import StratifiedKFold\n",
    "\n",
    "X = np.array(range(50))\n",
    "y = np.array(['스팸']*5 +['일반']*45)\n",
    "\n",
    "folds = StratifiedKFold(n_splits=5)\n",
    "\n",
    "for idx, (train_idx, valid_idx) in enumerate(folds.split(X, y)):\n",
    "    print(f'Fold {idx+1} 검증 데이터 타깃값:')\n",
    "    print(y[valid_idx], '\\n')"
   ]
  },
  {
   "cell_type": "markdown",
   "id": "d2814905",
   "metadata": {
    "papermill": {
     "duration": 0.042016,
     "end_time": "2022-05-01T08:13:28.498036",
     "exception": false,
     "start_time": "2022-05-01T08:13:28.456020",
     "status": "completed"
    },
    "tags": []
   },
   "source": [
    "주요 머신러닝 모델"
   ]
  },
  {
   "cell_type": "markdown",
   "id": "250017e2",
   "metadata": {
    "papermill": {
     "duration": 0.043548,
     "end_time": "2022-05-01T08:13:28.584720",
     "exception": false,
     "start_time": "2022-05-01T08:13:28.541172",
     "status": "completed"
    },
    "tags": []
   },
   "source": [
    "선형 회귀 모델"
   ]
  },
  {
   "cell_type": "code",
   "execution_count": 18,
   "id": "7c7c9a09",
   "metadata": {
    "execution": {
     "iopub.execute_input": "2022-05-01T08:13:28.672835Z",
     "iopub.status.busy": "2022-05-01T08:13:28.672520Z",
     "iopub.status.idle": "2022-05-01T08:13:28.950243Z",
     "shell.execute_reply": "2022-05-01T08:13:28.949574Z"
    },
    "papermill": {
     "duration": 0.32377,
     "end_time": "2022-05-01T08:13:28.952242",
     "exception": false,
     "start_time": "2022-05-01T08:13:28.628472",
     "status": "completed"
    },
    "tags": []
   },
   "outputs": [
    {
     "data": {
      "image/png": "[encoded data removed]",
      "text/plain": [
       "<Figure size 432x288 with 1 Axes>"
      ]
     },
     "metadata": {
      "needs_background": "light"
     },
     "output_type": "display_data"
    }
   ],
   "source": [
    "import numpy as np\n",
    "import matplotlib.pyplot as plt \n",
    "\n",
    "np.random.seed(0)\n",
    "\n",
    "w0 = 5\n",
    "w1 = 2\n",
    "noise = np.random.randn(100, 1)\n",
    "\n",
    "x = 4 * np.random.randn(100, 1)\n",
    "y = w1*x + w0 + noise\n",
    "\n",
    "plt.scatter(x, y);"
   ]
  },
  {
   "cell_type": "code",
   "execution_count": 19,
   "id": "553eec95",
   "metadata": {
    "execution": {
     "iopub.execute_input": "2022-05-01T08:13:29.041728Z",
     "iopub.status.busy": "2022-05-01T08:13:29.041219Z",
     "iopub.status.idle": "2022-05-01T08:13:29.137993Z",
     "shell.execute_reply": "2022-05-01T08:13:29.136733Z"
    },
    "papermill": {
     "duration": 0.145211,
     "end_time": "2022-05-01T08:13:29.141114",
     "exception": false,
     "start_time": "2022-05-01T08:13:28.995903",
     "status": "completed"
    },
    "tags": []
   },
   "outputs": [
    {
     "name": "stdout",
     "output_type": "stream",
     "text": [
      "y절편(w0) [5.05088198]\n",
      "회귀계수(w1) [[2.02720921]]\n"
     ]
    }
   ],
   "source": [
    "from sklearn.linear_model import LinearRegression \n",
    "\n",
    "linear_reg_model = LinearRegression()\n",
    "linear_reg_model.fit(x, y)\n",
    "\n",
    "print('y절편(w0)', linear_reg_model.intercept_)\n",
    "print('회귀계수(w1)', linear_reg_model.coef_)"
   ]
  },
  {
   "cell_type": "code",
   "execution_count": 20,
   "id": "16b5a134",
   "metadata": {
    "execution": {
     "iopub.execute_input": "2022-05-01T08:13:29.235547Z",
     "iopub.status.busy": "2022-05-01T08:13:29.234709Z",
     "iopub.status.idle": "2022-05-01T08:13:29.472881Z",
     "shell.execute_reply": "2022-05-01T08:13:29.471618Z"
    },
    "papermill": {
     "duration": 0.287961,
     "end_time": "2022-05-01T08:13:29.475217",
     "exception": false,
     "start_time": "2022-05-01T08:13:29.187256",
     "status": "completed"
    },
    "tags": []
   },
   "outputs": [
    {
     "data": {
      "text/plain": [
       "[<matplotlib.lines.Line2D at 0x7f0416a64290>]"
      ]
     },
     "execution_count": 20,
     "metadata": {},
     "output_type": "execute_result"
    },
    {
     "data": {
      "image/png": "[encoded data removed]",
      "text/plain": [
       "<Figure size 432x288 with 1 Axes>"
      ]
     },
     "metadata": {
      "needs_background": "light"
     },
     "output_type": "display_data"
    }
   ],
   "source": [
    "y_pred = linear_reg_model.predict(x)\n",
    "\n",
    "plt.scatter(x, y)\n",
    "plt.plot(x, y_pred)"
   ]
  },
  {
   "cell_type": "markdown",
   "id": "341fe71f",
   "metadata": {
    "papermill": {
     "duration": 0.044096,
     "end_time": "2022-05-01T08:13:29.565900",
     "exception": false,
     "start_time": "2022-05-01T08:13:29.521804",
     "status": "completed"
    },
    "tags": []
   },
   "source": [
    "결정 트리"
   ]
  },
  {
   "cell_type": "code",
   "execution_count": 21,
   "id": "143f3681",
   "metadata": {
    "execution": {
     "iopub.execute_input": "2022-05-01T08:13:29.659272Z",
     "iopub.status.busy": "2022-05-01T08:13:29.658985Z",
     "iopub.status.idle": "2022-05-01T08:13:29.857654Z",
     "shell.execute_reply": "2022-05-01T08:13:29.856685Z"
    },
    "papermill": {
     "duration": 0.247905,
     "end_time": "2022-05-01T08:13:29.859911",
     "exception": false,
     "start_time": "2022-05-01T08:13:29.612006",
     "status": "completed"
    },
    "tags": []
   },
   "outputs": [
    {
     "name": "stdout",
     "output_type": "stream",
     "text": [
      "결정 트리 정확도: 0.930\n"
     ]
    }
   ],
   "source": [
    "from sklearn.tree import DecisionTreeClassifier\n",
    "from sklearn.model_selection import train_test_split \n",
    "from sklearn.datasets import load_breast_cancer \n",
    "\n",
    "cancer_data = load_breast_cancer()\n",
    "\n",
    "X_train, X_test, y_train, y_test = train_test_split(cancer_data['data'],\n",
    "                                                   cancer_data['target'],\n",
    "                                                   stratify=cancer_data['target'],\n",
    "                                                   test_size=0.4,\n",
    "                                                   random_state=42)\n",
    "\n",
    "decisiontree = DecisionTreeClassifier(random_state=42)\n",
    "decisiontree.fit(X_train, y_train)\n",
    "\n",
    "accuracy = decisiontree.score(X_test, y_test)\n",
    "\n",
    "print(f'결정 트리 정확도: {accuracy:.3f}')"
   ]
  },
  {
   "cell_type": "markdown",
   "id": "d15af1a1",
   "metadata": {
    "papermill": {
     "duration": 0.047723,
     "end_time": "2022-05-01T08:13:29.953179",
     "exception": false,
     "start_time": "2022-05-01T08:13:29.905456",
     "status": "completed"
    },
    "tags": []
   },
   "source": [
    "랜덤 포레스트"
   ]
  },
  {
   "cell_type": "code",
   "execution_count": 22,
   "id": "d41eae43",
   "metadata": {
    "execution": {
     "iopub.execute_input": "2022-05-01T08:13:30.055866Z",
     "iopub.status.busy": "2022-05-01T08:13:30.054878Z",
     "iopub.status.idle": "2022-05-01T08:13:30.371792Z",
     "shell.execute_reply": "2022-05-01T08:13:30.370618Z"
    },
    "papermill": {
     "duration": 0.368247,
     "end_time": "2022-05-01T08:13:30.374138",
     "exception": false,
     "start_time": "2022-05-01T08:13:30.005891",
     "status": "completed"
    },
    "tags": []
   },
   "outputs": [
    {
     "name": "stdout",
     "output_type": "stream",
     "text": [
      "랜덤 포레스트 정확도:0.939\n"
     ]
    }
   ],
   "source": [
    "from sklearn.ensemble import RandomForestClassifier \n",
    "from sklearn.model_selection import train_test_split \n",
    "from sklearn.datasets import load_breast_cancer \n",
    "\n",
    "cancer_data = load_breast_cancer()\n",
    "X_train, X_test, y_train, y_test = train_test_split(cancer_data['data'],\n",
    "                                                   cancer_data['target'],\n",
    "                                                   stratify=cancer_data['target'],\n",
    "                                                   test_size=0.4,\n",
    "                                                   random_state=42)\n",
    "\n",
    "randomforest = RandomForestClassifier(random_state=42)\n",
    "randomforest.fit(X_train, y_train)\n",
    "\n",
    "accuracy = randomforest.score(X_test, y_test)\n",
    "\n",
    "print(f'랜덤 포레스트 정확도:{accuracy:.3f}')"
   ]
  },
  {
   "cell_type": "markdown",
   "id": "0d8bb0a4",
   "metadata": {
    "papermill": {
     "duration": 0.044826,
     "end_time": "2022-05-01T08:13:30.464016",
     "exception": false,
     "start_time": "2022-05-01T08:13:30.419190",
     "status": "completed"
    },
    "tags": []
   },
   "source": [
    "베이지안 최적화"
   ]
  },
  {
   "cell_type": "code",
   "execution_count": 23,
   "id": "45b955ef",
   "metadata": {
    "execution": {
     "iopub.execute_input": "2022-05-01T08:13:30.560743Z",
     "iopub.status.busy": "2022-05-01T08:13:30.560413Z",
     "iopub.status.idle": "2022-05-01T08:13:30.564266Z",
     "shell.execute_reply": "2022-05-01T08:13:30.563627Z"
    },
    "papermill": {
     "duration": 0.054293,
     "end_time": "2022-05-01T08:13:30.566022",
     "exception": false,
     "start_time": "2022-05-01T08:13:30.511729",
     "status": "completed"
    },
    "tags": []
   },
   "outputs": [],
   "source": [
    "param_bounds = {'x': (-1, 5),\n",
    "               'y': (0, 4)}"
   ]
  },
  {
   "cell_type": "code",
   "execution_count": 24,
   "id": "f6802c47",
   "metadata": {
    "execution": {
     "iopub.execute_input": "2022-05-01T08:13:30.660946Z",
     "iopub.status.busy": "2022-05-01T08:13:30.660026Z",
     "iopub.status.idle": "2022-05-01T08:13:30.664693Z",
     "shell.execute_reply": "2022-05-01T08:13:30.663929Z"
    },
    "papermill": {
     "duration": 0.053704,
     "end_time": "2022-05-01T08:13:30.666851",
     "exception": false,
     "start_time": "2022-05-01T08:13:30.613147",
     "status": "completed"
    },
    "tags": []
   },
   "outputs": [],
   "source": [
    "def eval_function(x, y):\n",
    "    return -x ** 2 - (y - 2) ** 2 + 10"
   ]
  },
  {
   "cell_type": "code",
   "execution_count": 25,
   "id": "aae61192",
   "metadata": {
    "execution": {
     "iopub.execute_input": "2022-05-01T08:13:30.765377Z",
     "iopub.status.busy": "2022-05-01T08:13:30.765102Z",
     "iopub.status.idle": "2022-05-01T08:13:30.790969Z",
     "shell.execute_reply": "2022-05-01T08:13:30.789950Z"
    },
    "papermill": {
     "duration": 0.07636,
     "end_time": "2022-05-01T08:13:30.793359",
     "exception": false,
     "start_time": "2022-05-01T08:13:30.716999",
     "status": "completed"
    },
    "tags": []
   },
   "outputs": [],
   "source": [
    "from bayes_opt import BayesianOptimization\n",
    "\n",
    "optimizer = BayesianOptimization(f=eval_function,\n",
    "                                 pbounds=param_bounds,\n",
    "                                 random_state=0)"
   ]
  },
  {
   "cell_type": "code",
   "execution_count": 26,
   "id": "ea94933d",
   "metadata": {
    "execution": {
     "iopub.execute_input": "2022-05-01T08:13:30.890284Z",
     "iopub.status.busy": "2022-05-01T08:13:30.889950Z",
     "iopub.status.idle": "2022-05-01T08:13:32.331050Z",
     "shell.execute_reply": "2022-05-01T08:13:32.330145Z"
    },
    "papermill": {
     "duration": 1.494581,
     "end_time": "2022-05-01T08:13:32.333308",
     "exception": false,
     "start_time": "2022-05-01T08:13:30.838727",
     "status": "completed"
    },
    "tags": []
   },
   "outputs": [
    {
     "name": "stdout",
     "output_type": "stream",
     "text": [
      "|   iter    |  target   |     x     |     y     |\n",
      "-------------------------------------------------\n",
      "| \u001b[0m 1       \u001b[0m | \u001b[0m 4.002   \u001b[0m | \u001b[0m 2.293   \u001b[0m | \u001b[0m 2.861   \u001b[0m |\n",
      "| \u001b[0m 2       \u001b[0m | \u001b[0m 3.121   \u001b[0m | \u001b[0m 2.617   \u001b[0m | \u001b[0m 2.18    \u001b[0m |\n",
      "| \u001b[0m 3       \u001b[0m | \u001b[0m 3.832   \u001b[0m | \u001b[0m 2.327   \u001b[0m | \u001b[0m 2.869   \u001b[0m |\n",
      "| \u001b[95m 4       \u001b[0m | \u001b[95m 4.596   \u001b[0m | \u001b[95m 2.171   \u001b[0m | \u001b[95m 2.832   \u001b[0m |\n",
      "| \u001b[0m 5       \u001b[0m | \u001b[0m-6.227   \u001b[0m | \u001b[0m 3.989   \u001b[0m | \u001b[0m 2.559   \u001b[0m |\n",
      "| \u001b[95m 6       \u001b[0m | \u001b[95m 9.467   \u001b[0m | \u001b[95m 0.3522  \u001b[0m | \u001b[95m 1.361   \u001b[0m |\n",
      "| \u001b[0m 7       \u001b[0m | \u001b[0m 7.39    \u001b[0m | \u001b[0m-1.0     \u001b[0m | \u001b[0m 3.269   \u001b[0m |\n",
      "| \u001b[0m 8       \u001b[0m | \u001b[0m 5.0     \u001b[0m | \u001b[0m-1.0     \u001b[0m | \u001b[0m 0.0     \u001b[0m |\n",
      "| \u001b[0m 9       \u001b[0m | \u001b[0m 3.841   \u001b[0m | \u001b[0m 1.469   \u001b[0m | \u001b[0m 0.0     \u001b[0m |\n",
      "| \u001b[0m 10      \u001b[0m | \u001b[0m 8.966   \u001b[0m | \u001b[0m-1.0     \u001b[0m | \u001b[0m 1.817   \u001b[0m |\n",
      "| \u001b[95m 11      \u001b[0m | \u001b[95m 9.737   \u001b[0m | \u001b[95m 0.1806  \u001b[0m | \u001b[95m 2.48    \u001b[0m |\n",
      "| \u001b[0m 12      \u001b[0m | \u001b[0m 5.785   \u001b[0m | \u001b[0m 0.4638  \u001b[0m | \u001b[0m 4.0     \u001b[0m |\n",
      "=================================================\n"
     ]
    }
   ],
   "source": [
    "optimizer.maximize(init_points=2, n_iter=10)"
   ]
  },
  {
   "cell_type": "code",
   "execution_count": 27,
   "id": "0062aae0",
   "metadata": {
    "execution": {
     "iopub.execute_input": "2022-05-01T08:13:32.429361Z",
     "iopub.status.busy": "2022-05-01T08:13:32.428945Z",
     "iopub.status.idle": "2022-05-01T08:13:32.435044Z",
     "shell.execute_reply": "2022-05-01T08:13:32.434063Z"
    },
    "papermill": {
     "duration": 0.056909,
     "end_time": "2022-05-01T08:13:32.437329",
     "exception": false,
     "start_time": "2022-05-01T08:13:32.380420",
     "status": "completed"
    },
    "tags": []
   },
   "outputs": [
    {
     "data": {
      "text/plain": [
       "{'target': 9.73708754050397,\n",
       " 'params': {'x': 0.18063747442587866, 'y': 2.4798776535004214}}"
      ]
     },
     "execution_count": 27,
     "metadata": {},
     "output_type": "execute_result"
    }
   ],
   "source": [
    "optimizer.max"
   ]
  }
 ],
 "metadata": {
  "kernelspec": {
   "display_name": "Python 3",
   "language": "python",
   "name": "python3"
  },
  "language_info": {
   "codemirror_mode": {
    "name": "ipython",
    "version": 3
   },
   "file_extension": ".py",
   "mimetype": "text/x-python",
   "name": "python",
   "nbconvert_exporter": "python",
   "pygments_lexer": "ipython3",
   "version": "3.7.12"
  },
  "papermill": {
   "default_parameters": {},
   "duration": 19.46577,
   "end_time": "2022-05-01T08:13:33.307528",
   "environment_variables": {},
   "exception": null,
   "input_path": "__notebook__.ipynb",
   "output_path": "__notebook__.ipynb",
   "parameters": {},
   "start_time": "2022-05-01T08:13:13.841758",
   "version": "2.3.4"
  }
 },
 "nbformat": 4,
 "nbformat_minor": 5
}
