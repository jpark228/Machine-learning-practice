{
 "cells": [
  {
   "cell_type": "markdown",
   "id": "34d49329",
   "metadata": {
    "papermill": {
     "duration": 0.022035,
     "end_time": "2022-05-08T07:35:27.211660",
     "exception": false,
     "start_time": "2022-05-08T07:35:27.189625",
     "status": "completed"
    },
    "tags": []
   },
   "source": [
    "### Fixed seed value & GPU setting"
   ]
  },
  {
   "cell_type": "code",
   "execution_count": 1,
   "id": "7ab8bd97",
   "metadata": {
    "execution": {
     "iopub.execute_input": "2022-05-08T07:35:27.334533Z",
     "iopub.status.busy": "2022-05-08T07:35:27.333963Z",
     "iopub.status.idle": "2022-05-08T07:35:31.923016Z",
     "shell.execute_reply": "2022-05-08T07:35:31.923515Z",
     "shell.execute_reply.started": "2022-05-08T06:44:27.534975Z"
    },
    "papermill": {
     "duration": 4.689939,
     "end_time": "2022-05-08T07:35:31.923831",
     "exception": false,
     "start_time": "2022-05-08T07:35:27.233892",
     "status": "completed"
    },
    "tags": []
   },
   "outputs": [],
   "source": [
    "import torch \n",
    "import random\n",
    "import numpy as np\n",
    "import os\n",
    "\n",
    "seed = 50\n",
    "os.environ['PYTHONHASHSEED'] = str(seed)\n",
    "random.seed(seed)\n",
    "np.random.seed(seed)\n",
    "torch.manual_seed(seed)\n",
    "torch.cuda.manual_seed(seed)\n",
    "torch.cuda.manual_seed_all(seed)\n",
    "torch.backends.cudnn.deterministic = True\n",
    "torch.backends.cudnn.benchmark = False\n",
    "torch.backends.cudnn.enabled = False"
   ]
  },
  {
   "cell_type": "code",
   "execution_count": 2,
   "id": "7efe1fe0",
   "metadata": {
    "execution": {
     "iopub.execute_input": "2022-05-08T07:35:32.044522Z",
     "iopub.status.busy": "2022-05-08T07:35:32.040372Z",
     "iopub.status.idle": "2022-05-08T07:35:32.050437Z",
     "shell.execute_reply": "2022-05-08T07:35:32.049978Z",
     "shell.execute_reply.started": "2022-05-08T06:44:32.048571Z"
    },
    "papermill": {
     "duration": 0.103591,
     "end_time": "2022-05-08T07:35:32.050561",
     "exception": false,
     "start_time": "2022-05-08T07:35:31.946970",
     "status": "completed"
    },
    "tags": []
   },
   "outputs": [
    {
     "data": {
      "text/plain": [
       "device(type='cuda')"
      ]
     },
     "execution_count": 2,
     "metadata": {},
     "output_type": "execute_result"
    }
   ],
   "source": [
    "device = torch.device('cuda' if torch.cuda.is_available() else 'cpu')\n",
    "\n",
    "device"
   ]
  },
  {
   "cell_type": "markdown",
   "id": "d3d7fd3f",
   "metadata": {
    "papermill": {
     "duration": 0.022797,
     "end_time": "2022-05-08T07:35:32.097174",
     "exception": false,
     "start_time": "2022-05-08T07:35:32.074377",
     "status": "completed"
    },
    "tags": []
   },
   "source": [
    "## Data Preparation"
   ]
  },
  {
   "cell_type": "code",
   "execution_count": 3,
   "id": "5e9d7615",
   "metadata": {
    "execution": {
     "iopub.execute_input": "2022-05-08T07:35:32.147800Z",
     "iopub.status.busy": "2022-05-08T07:35:32.147215Z",
     "iopub.status.idle": "2022-05-08T07:35:32.178157Z",
     "shell.execute_reply": "2022-05-08T07:35:32.177527Z",
     "shell.execute_reply.started": "2022-05-08T06:44:39.101182Z"
    },
    "papermill": {
     "duration": 0.058277,
     "end_time": "2022-05-08T07:35:32.178288",
     "exception": false,
     "start_time": "2022-05-08T07:35:32.120011",
     "status": "completed"
    },
    "tags": []
   },
   "outputs": [],
   "source": [
    "import pandas as pd\n",
    "\n",
    "# 데이터 경로\n",
    "data_path = '/kaggle/input/plant-pathology-2020-fgvc7/'\n",
    "\n",
    "train = pd.read_csv(data_path + 'train.csv')\n",
    "test = pd.read_csv(data_path + 'test.csv')\n",
    "submission = pd.read_csv(data_path + 'sample_submission.csv')"
   ]
  },
  {
   "cell_type": "markdown",
   "id": "5b079f72",
   "metadata": {
    "papermill": {
     "duration": 0.023045,
     "end_time": "2022-05-08T07:35:32.224726",
     "exception": false,
     "start_time": "2022-05-08T07:35:32.201681",
     "status": "completed"
    },
    "tags": []
   },
   "source": [
    "### Train/validation dataset split"
   ]
  },
  {
   "cell_type": "code",
   "execution_count": 4,
   "id": "0d870118",
   "metadata": {
    "execution": {
     "iopub.execute_input": "2022-05-08T07:35:32.275832Z",
     "iopub.status.busy": "2022-05-08T07:35:32.275079Z",
     "iopub.status.idle": "2022-05-08T07:35:33.172525Z",
     "shell.execute_reply": "2022-05-08T07:35:33.171994Z",
     "shell.execute_reply.started": "2022-05-08T06:45:52.871225Z"
    },
    "papermill": {
     "duration": 0.925173,
     "end_time": "2022-05-08T07:35:33.172648",
     "exception": false,
     "start_time": "2022-05-08T07:35:32.247475",
     "status": "completed"
    },
    "tags": []
   },
   "outputs": [],
   "source": [
    "from sklearn.model_selection import train_test_split\n",
    "\n",
    "train, valid = train_test_split(train, \n",
    "                                test_size=0.1,\n",
    "                                stratify=train[['healthy', 'multiple_diseases', 'rust', 'scab']],\n",
    "                                random_state=50)"
   ]
  },
  {
   "cell_type": "markdown",
   "id": "7d2541bf",
   "metadata": {
    "papermill": {
     "duration": 0.019883,
     "end_time": "2022-05-08T07:35:33.212815",
     "exception": false,
     "start_time": "2022-05-08T07:35:33.192932",
     "status": "completed"
    },
    "tags": []
   },
   "source": [
    "### 데이터셋 클래스 정의"
   ]
  },
  {
   "cell_type": "code",
   "execution_count": 5,
   "id": "528d73c3",
   "metadata": {
    "execution": {
     "iopub.execute_input": "2022-05-08T07:35:33.260678Z",
     "iopub.status.busy": "2022-05-08T07:35:33.260160Z",
     "iopub.status.idle": "2022-05-08T07:35:33.419673Z",
     "shell.execute_reply": "2022-05-08T07:35:33.419261Z",
     "shell.execute_reply.started": "2022-05-08T06:50:21.543448Z"
    },
    "papermill": {
     "duration": 0.186686,
     "end_time": "2022-05-08T07:35:33.419813",
     "exception": false,
     "start_time": "2022-05-08T07:35:33.233127",
     "status": "completed"
    },
    "tags": []
   },
   "outputs": [],
   "source": [
    "import cv2\n",
    "from torch.utils.data import Dataset \n",
    "import numpy as np\n",
    "\n",
    "class ImageDataset(Dataset):\n",
    "    def __init__(self, df, img_dir='./', transform=None, is_test=False):\n",
    "        super().__init__() \n",
    "        self.df = df\n",
    "        self.img_dir = img_dir\n",
    "        self.transform = transform\n",
    "        self.is_test = is_test\n",
    "    \n",
    "    def __len__(self):\n",
    "        return len(self.df)\n",
    "    \n",
    "    def __getitem__(self, idx):\n",
    "        img_id = self.df.iloc[idx, 0]             \n",
    "        img_path = self.img_dir + img_id + '.jpg' \n",
    "        image = cv2.imread(img_path)              \n",
    "        image = cv2.cvtColor(image, cv2.COLOR_BGR2RGB) \n",
    "\n",
    "        if self.transform is not None:\n",
    "            image = self.transform(image=image)['image']\n",
    "\n",
    "        if self.is_test:\n",
    "            return image \n",
    "        else:\n",
    "            label = np.argmax(self.df.iloc[idx, 1:5]) \n",
    "            return image, label "
   ]
  },
  {
   "cell_type": "markdown",
   "id": "cba2b145",
   "metadata": {
    "papermill": {
     "duration": 0.019631,
     "end_time": "2022-05-08T07:35:33.459392",
     "exception": false,
     "start_time": "2022-05-08T07:35:33.439761",
     "status": "completed"
    },
    "tags": []
   },
   "source": [
    "### Image transformer"
   ]
  },
  {
   "cell_type": "code",
   "execution_count": 6,
   "id": "be83ccdc",
   "metadata": {
    "execution": {
     "iopub.execute_input": "2022-05-08T07:35:33.502760Z",
     "iopub.status.busy": "2022-05-08T07:35:33.502247Z",
     "iopub.status.idle": "2022-05-08T07:35:34.455746Z",
     "shell.execute_reply": "2022-05-08T07:35:34.455271Z",
     "shell.execute_reply.started": "2022-05-08T06:50:24.084833Z"
    },
    "papermill": {
     "duration": 0.976646,
     "end_time": "2022-05-08T07:35:34.455887",
     "exception": false,
     "start_time": "2022-05-08T07:35:33.479241",
     "status": "completed"
    },
    "tags": []
   },
   "outputs": [],
   "source": [
    "import albumentations as A\n",
    "from albumentations.pytorch import ToTensorV2"
   ]
  },
  {
   "cell_type": "code",
   "execution_count": 7,
   "id": "f432a87c",
   "metadata": {
    "execution": {
     "iopub.execute_input": "2022-05-08T07:35:34.502781Z",
     "iopub.status.busy": "2022-05-08T07:35:34.502256Z",
     "iopub.status.idle": "2022-05-08T07:35:34.505886Z",
     "shell.execute_reply": "2022-05-08T07:35:34.505465Z",
     "shell.execute_reply.started": "2022-05-08T06:53:30.435343Z"
    },
    "papermill": {
     "duration": 0.029872,
     "end_time": "2022-05-08T07:35:34.505995",
     "exception": false,
     "start_time": "2022-05-08T07:35:34.476123",
     "status": "completed"
    },
    "tags": []
   },
   "outputs": [],
   "source": [
    "transform_train = A.Compose([\n",
    "    A.Resize(450, 650),        \n",
    "    A.RandomBrightnessContrast(brightness_limit=0.2,\n",
    "                               contrast_limit=0.2, p=0.3),\n",
    "    A.VerticalFlip(p=0.2),    \n",
    "    A.HorizontalFlip(p=0.5),  \n",
    "    A.ShiftScaleRotate(       \n",
    "        shift_limit=0.1,\n",
    "        scale_limit=0.2,\n",
    "        rotate_limit=30, p=0.3),\n",
    "    A.OneOf([A.Emboss(p=1),   \n",
    "             A.Sharpen(p=1),\n",
    "             A.Blur(p=1)], p=0.3),\n",
    "    A.PiecewiseAffine(p=0.3), \n",
    "    A.Normalize(),            \n",
    "    ToTensorV2()              \n",
    "])"
   ]
  },
  {
   "cell_type": "code",
   "execution_count": 8,
   "id": "9d564889",
   "metadata": {
    "execution": {
     "iopub.execute_input": "2022-05-08T07:35:34.550008Z",
     "iopub.status.busy": "2022-05-08T07:35:34.549185Z",
     "iopub.status.idle": "2022-05-08T07:35:34.551441Z",
     "shell.execute_reply": "2022-05-08T07:35:34.551866Z",
     "shell.execute_reply.started": "2022-05-08T06:53:33.680485Z"
    },
    "papermill": {
     "duration": 0.026221,
     "end_time": "2022-05-08T07:35:34.551981",
     "exception": false,
     "start_time": "2022-05-08T07:35:34.525760",
     "status": "completed"
    },
    "tags": []
   },
   "outputs": [],
   "source": [
    "transform_test = A.Compose([\n",
    "    A.Resize(450, 650),\n",
    "    A.Normalize(),      \n",
    "    ToTensorV2()        \n",
    "])"
   ]
  },
  {
   "cell_type": "markdown",
   "id": "ea128a65",
   "metadata": {
    "papermill": {
     "duration": 0.019804,
     "end_time": "2022-05-08T07:35:34.591634",
     "exception": false,
     "start_time": "2022-05-08T07:35:34.571830",
     "status": "completed"
    },
    "tags": []
   },
   "source": [
    "### Data loader"
   ]
  },
  {
   "cell_type": "code",
   "execution_count": 9,
   "id": "d7da0f6f",
   "metadata": {
    "execution": {
     "iopub.execute_input": "2022-05-08T07:35:34.635356Z",
     "iopub.status.busy": "2022-05-08T07:35:34.634555Z",
     "iopub.status.idle": "2022-05-08T07:35:34.637806Z",
     "shell.execute_reply": "2022-05-08T07:35:34.637380Z",
     "shell.execute_reply.started": "2022-05-08T06:54:14.236343Z"
    },
    "papermill": {
     "duration": 0.026497,
     "end_time": "2022-05-08T07:35:34.637913",
     "exception": false,
     "start_time": "2022-05-08T07:35:34.611416",
     "status": "completed"
    },
    "tags": []
   },
   "outputs": [],
   "source": [
    "img_dir = '/kaggle/input/plant-pathology-2020-fgvc7/images/'\n",
    "\n",
    "dataset_train = ImageDataset(train, img_dir=img_dir, transform=transform_train)\n",
    "dataset_valid = ImageDataset(valid, img_dir=img_dir, transform=transform_test)"
   ]
  },
  {
   "cell_type": "code",
   "execution_count": 10,
   "id": "03d8fc68",
   "metadata": {
    "execution": {
     "iopub.execute_input": "2022-05-08T07:35:34.683203Z",
     "iopub.status.busy": "2022-05-08T07:35:34.682440Z",
     "iopub.status.idle": "2022-05-08T07:35:34.685318Z",
     "shell.execute_reply": "2022-05-08T07:35:34.685793Z",
     "shell.execute_reply.started": "2022-05-08T06:55:41.508218Z"
    },
    "papermill": {
     "duration": 0.027978,
     "end_time": "2022-05-08T07:35:34.685916",
     "exception": false,
     "start_time": "2022-05-08T07:35:34.657938",
     "status": "completed"
    },
    "tags": []
   },
   "outputs": [
    {
     "data": {
      "text/plain": [
       "<torch._C.Generator at 0x7f0bf8acb170>"
      ]
     },
     "execution_count": 10,
     "metadata": {},
     "output_type": "execute_result"
    }
   ],
   "source": [
    "def seed_worker(worker_id):\n",
    "    worker_seed = torch.initial_seed() % 2**32\n",
    "    np.random.seed(worker_seed)\n",
    "    random.seed(worker_seed)\n",
    "    \n",
    "g = torch.Generator()\n",
    "g.manual_seed(0)"
   ]
  },
  {
   "cell_type": "code",
   "execution_count": 11,
   "id": "b227d91b",
   "metadata": {
    "execution": {
     "iopub.execute_input": "2022-05-08T07:35:34.732429Z",
     "iopub.status.busy": "2022-05-08T07:35:34.730932Z",
     "iopub.status.idle": "2022-05-08T07:35:34.733038Z",
     "shell.execute_reply": "2022-05-08T07:35:34.733437Z",
     "shell.execute_reply.started": "2022-05-08T06:55:46.103774Z"
    },
    "papermill": {
     "duration": 0.027441,
     "end_time": "2022-05-08T07:35:34.733545",
     "exception": false,
     "start_time": "2022-05-08T07:35:34.706104",
     "status": "completed"
    },
    "tags": []
   },
   "outputs": [],
   "source": [
    "from torch.utils.data import DataLoader \n",
    "\n",
    "batch_size = 4\n",
    "\n",
    "loader_train = DataLoader(dataset_train, batch_size=batch_size, \n",
    "                          shuffle=True, worker_init_fn=seed_worker,\n",
    "                          generator=g, num_workers=2)\n",
    "loader_valid = DataLoader(dataset_valid, batch_size=batch_size, \n",
    "                          shuffle=False, worker_init_fn=seed_worker,\n",
    "                          generator=g, num_workers=2)"
   ]
  },
  {
   "cell_type": "markdown",
   "id": "552cbb85",
   "metadata": {
    "papermill": {
     "duration": 0.020101,
     "end_time": "2022-05-08T07:35:34.773690",
     "exception": false,
     "start_time": "2022-05-08T07:35:34.753589",
     "status": "completed"
    },
    "tags": []
   },
   "source": [
    "## 12.3.3 모델 생성"
   ]
  },
  {
   "cell_type": "markdown",
   "id": "49e218d4",
   "metadata": {
    "papermill": {
     "duration": 0.020523,
     "end_time": "2022-05-08T07:35:34.814904",
     "exception": false,
     "start_time": "2022-05-08T07:35:34.794381",
     "status": "completed"
    },
    "tags": []
   },
   "source": [
    "### EfficientNet 모델 생성"
   ]
  },
  {
   "cell_type": "code",
   "execution_count": 12,
   "id": "c7de6547",
   "metadata": {
    "execution": {
     "iopub.execute_input": "2022-05-08T07:35:34.860481Z",
     "iopub.status.busy": "2022-05-08T07:35:34.859914Z",
     "iopub.status.idle": "2022-05-08T07:35:44.833786Z",
     "shell.execute_reply": "2022-05-08T07:35:44.834526Z",
     "shell.execute_reply.started": "2022-05-08T06:57:25.525683Z"
    },
    "papermill": {
     "duration": 9.999084,
     "end_time": "2022-05-08T07:35:44.834745",
     "exception": false,
     "start_time": "2022-05-08T07:35:34.835661",
     "status": "completed"
    },
    "tags": []
   },
   "outputs": [
    {
     "name": "stdout",
     "output_type": "stream",
     "text": [
      "Collecting efficientnet-pytorch==0.7.1\r\n",
      "  Downloading efficientnet_pytorch-0.7.1.tar.gz (21 kB)\r\n",
      "Requirement already satisfied: torch in /opt/conda/lib/python3.7/site-packages (from efficientnet-pytorch==0.7.1) (1.7.1+cu110)\r\n",
      "Requirement already satisfied: numpy in /opt/conda/lib/python3.7/site-packages (from torch->efficientnet-pytorch==0.7.1) (1.19.5)\r\n",
      "Requirement already satisfied: typing-extensions in /opt/conda/lib/python3.7/site-packages (from torch->efficientnet-pytorch==0.7.1) (3.7.4.3)\r\n",
      "Building wheels for collected packages: efficientnet-pytorch\r\n",
      "  Building wheel for efficientnet-pytorch (setup.py) ... \u001b[?25l-\b \b\\\b \bdone\r\n",
      "\u001b[?25h  Created wheel for efficientnet-pytorch: filename=efficientnet_pytorch-0.7.1-py3-none-any.whl size=16446 sha256=25f98423892d442769181196983be4c12afd93877fbc72d260e36dfde53bd4a2\r\n",
      "  Stored in directory: /root/.cache/pip/wheels/0e/cc/b2/49e74588263573ff778da58cc99b9c6349b496636a7e165be6\r\n",
      "Successfully built efficientnet-pytorch\r\n",
      "Installing collected packages: efficientnet-pytorch\r\n",
      "Successfully installed efficientnet-pytorch-0.7.1\r\n",
      "\u001b[33mWARNING: Running pip as the 'root' user can result in broken permissions and conflicting behaviour with the system package manager. It is recommended to use a virtual environment instead: https://pip.pypa.io/warnings/venv\u001b[0m\r\n"
     ]
    }
   ],
   "source": [
    "!pip install efficientnet-pytorch==0.7.1"
   ]
  },
  {
   "cell_type": "code",
   "execution_count": 13,
   "id": "ddb2cbef",
   "metadata": {
    "execution": {
     "iopub.execute_input": "2022-05-08T07:35:44.886794Z",
     "iopub.status.busy": "2022-05-08T07:35:44.883876Z",
     "iopub.status.idle": "2022-05-08T07:35:44.891295Z",
     "shell.execute_reply": "2022-05-08T07:35:44.890883Z",
     "shell.execute_reply.started": "2022-05-08T06:57:43.886959Z"
    },
    "papermill": {
     "duration": 0.03385,
     "end_time": "2022-05-08T07:35:44.891405",
     "exception": false,
     "start_time": "2022-05-08T07:35:44.857555",
     "status": "completed"
    },
    "tags": []
   },
   "outputs": [],
   "source": [
    "from efficientnet_pytorch import EfficientNet "
   ]
  },
  {
   "cell_type": "code",
   "execution_count": 14,
   "id": "1bb5f1b4",
   "metadata": {
    "execution": {
     "iopub.execute_input": "2022-05-08T07:35:44.941836Z",
     "iopub.status.busy": "2022-05-08T07:35:44.941011Z",
     "iopub.status.idle": "2022-05-08T07:36:39.779178Z",
     "shell.execute_reply": "2022-05-08T07:36:39.779590Z",
     "shell.execute_reply.started": "2022-05-08T06:58:35.250035Z"
    },
    "papermill": {
     "duration": 54.864404,
     "end_time": "2022-05-08T07:36:39.779779",
     "exception": false,
     "start_time": "2022-05-08T07:35:44.915375",
     "status": "completed"
    },
    "tags": []
   },
   "outputs": [
    {
     "name": "stderr",
     "output_type": "stream",
     "text": [
      "Downloading: \"https://github.com/lukemelas/EfficientNet-PyTorch/releases/download/1.0/efficientnet-b7-dcc49843.pth\" to /root/.cache/torch/hub/checkpoints/efficientnet-b7-dcc49843.pth\n"
     ]
    },
    {
     "data": {
      "application/vnd.jupyter.widget-view+json": {
       "model_id": "a59708a71fb44130b77a2358380d327d",
       "version_major": 2,
       "version_minor": 0
      },
      "text/plain": [
       "  0%|          | 0.00/254M [00:00<?, ?B/s]"
      ]
     },
     "metadata": {},
     "output_type": "display_data"
    },
    {
     "name": "stdout",
     "output_type": "stream",
     "text": [
      "Loaded pretrained weights for efficientnet-b7\n"
     ]
    }
   ],
   "source": [
    "model = EfficientNet.from_pretrained('efficientnet-b7', num_classes=4) \n",
    "\n",
    "model = model.to(device) "
   ]
  },
  {
   "cell_type": "markdown",
   "id": "e188091f",
   "metadata": {
    "papermill": {
     "duration": 0.023284,
     "end_time": "2022-05-08T07:36:39.826977",
     "exception": false,
     "start_time": "2022-05-08T07:36:39.803693",
     "status": "completed"
    },
    "tags": []
   },
   "source": [
    "## Mode train and evaluation"
   ]
  },
  {
   "cell_type": "markdown",
   "id": "77a5f597",
   "metadata": {
    "papermill": {
     "duration": 0.023088,
     "end_time": "2022-05-08T07:36:39.873780",
     "exception": false,
     "start_time": "2022-05-08T07:36:39.850692",
     "status": "completed"
    },
    "tags": []
   },
   "source": [
    "### Setting loss function and optimizer"
   ]
  },
  {
   "cell_type": "code",
   "execution_count": 15,
   "id": "4e4773ab",
   "metadata": {
    "execution": {
     "iopub.execute_input": "2022-05-08T07:36:39.926181Z",
     "iopub.status.busy": "2022-05-08T07:36:39.924371Z",
     "iopub.status.idle": "2022-05-08T07:36:39.926873Z",
     "shell.execute_reply": "2022-05-08T07:36:39.927315Z",
     "shell.execute_reply.started": "2022-05-08T07:00:48.356982Z"
    },
    "papermill": {
     "duration": 0.030478,
     "end_time": "2022-05-08T07:36:39.927433",
     "exception": false,
     "start_time": "2022-05-08T07:36:39.896955",
     "status": "completed"
    },
    "tags": []
   },
   "outputs": [],
   "source": [
    "import torch.nn as nn \n",
    "\n",
    "criterion = nn.CrossEntropyLoss()"
   ]
  },
  {
   "cell_type": "code",
   "execution_count": 16,
   "id": "c220b220",
   "metadata": {
    "execution": {
     "iopub.execute_input": "2022-05-08T07:36:39.988132Z",
     "iopub.status.busy": "2022-05-08T07:36:39.985907Z",
     "iopub.status.idle": "2022-05-08T07:36:39.990907Z",
     "shell.execute_reply": "2022-05-08T07:36:39.990167Z",
     "shell.execute_reply.started": "2022-05-08T07:00:59.515561Z"
    },
    "papermill": {
     "duration": 0.040494,
     "end_time": "2022-05-08T07:36:39.991013",
     "exception": false,
     "start_time": "2022-05-08T07:36:39.950519",
     "status": "completed"
    },
    "tags": []
   },
   "outputs": [],
   "source": [
    "optimizer = torch.optim.AdamW(model.parameters(), lr=0.00006, weight_decay=0.0001)"
   ]
  },
  {
   "cell_type": "markdown",
   "id": "2a25aeeb",
   "metadata": {
    "papermill": {
     "duration": 0.022939,
     "end_time": "2022-05-08T07:36:40.037068",
     "exception": false,
     "start_time": "2022-05-08T07:36:40.014129",
     "status": "completed"
    },
    "tags": []
   },
   "source": [
    "### 훈련 및 성능 검증"
   ]
  },
  {
   "cell_type": "code",
   "execution_count": 17,
   "id": "30c6d779",
   "metadata": {
    "execution": {
     "iopub.execute_input": "2022-05-08T07:36:40.095872Z",
     "iopub.status.busy": "2022-05-08T07:36:40.091489Z",
     "iopub.status.idle": "2022-05-08T08:09:23.795263Z",
     "shell.execute_reply": "2022-05-08T08:09:23.795686Z",
     "shell.execute_reply.started": "2022-05-08T07:01:12.115424Z"
    },
    "papermill": {
     "duration": 1963.73556,
     "end_time": "2022-05-08T08:09:23.795864",
     "exception": false,
     "start_time": "2022-05-08T07:36:40.060304",
     "status": "completed"
    },
    "tags": []
   },
   "outputs": [
    {
     "data": {
      "application/vnd.jupyter.widget-view+json": {
       "model_id": "cc2996affe3343bf811c77122c3fa092",
       "version_major": 2,
       "version_minor": 0
      },
      "text/plain": [
       "  0%|          | 0/410 [00:00<?, ?it/s]"
      ]
     },
     "metadata": {},
     "output_type": "display_data"
    },
    {
     "name": "stdout",
     "output_type": "stream",
     "text": [
      "에폭 [1/5] - 훈련 데이터 손실값 : 0.6953\n",
      "에폭 [1/5] - 검증 데이터 손실값 : 0.2325 / 검증 데이터 ROC AUC : 0.9676\n"
     ]
    },
    {
     "data": {
      "application/vnd.jupyter.widget-view+json": {
       "model_id": "d6a99e008a46474a9f5563ecd23339da",
       "version_major": 2,
       "version_minor": 0
      },
      "text/plain": [
       "  0%|          | 0/410 [00:00<?, ?it/s]"
      ]
     },
     "metadata": {},
     "output_type": "display_data"
    },
    {
     "name": "stdout",
     "output_type": "stream",
     "text": [
      "에폭 [2/5] - 훈련 데이터 손실값 : 0.3465\n",
      "에폭 [2/5] - 검증 데이터 손실값 : 0.2163 / 검증 데이터 ROC AUC : 0.9800\n"
     ]
    },
    {
     "data": {
      "application/vnd.jupyter.widget-view+json": {
       "model_id": "650e03ce85434b758e21c9905b9a04f1",
       "version_major": 2,
       "version_minor": 0
      },
      "text/plain": [
       "  0%|          | 0/410 [00:00<?, ?it/s]"
      ]
     },
     "metadata": {},
     "output_type": "display_data"
    },
    {
     "name": "stdout",
     "output_type": "stream",
     "text": [
      "에폭 [3/5] - 훈련 데이터 손실값 : 0.2324\n",
      "에폭 [3/5] - 검증 데이터 손실값 : 0.1646 / 검증 데이터 ROC AUC : 0.9834\n"
     ]
    },
    {
     "data": {
      "application/vnd.jupyter.widget-view+json": {
       "model_id": "78d268c615b845f39cc8f08a16b8ad14",
       "version_major": 2,
       "version_minor": 0
      },
      "text/plain": [
       "  0%|          | 0/410 [00:00<?, ?it/s]"
      ]
     },
     "metadata": {},
     "output_type": "display_data"
    },
    {
     "name": "stdout",
     "output_type": "stream",
     "text": [
      "에폭 [4/5] - 훈련 데이터 손실값 : 0.1613\n",
      "에폭 [4/5] - 검증 데이터 손실값 : 0.2363 / 검증 데이터 ROC AUC : 0.9792\n"
     ]
    },
    {
     "data": {
      "application/vnd.jupyter.widget-view+json": {
       "model_id": "bd8c2e12beb344b1938883e54643297c",
       "version_major": 2,
       "version_minor": 0
      },
      "text/plain": [
       "  0%|          | 0/410 [00:00<?, ?it/s]"
      ]
     },
     "metadata": {},
     "output_type": "display_data"
    },
    {
     "name": "stdout",
     "output_type": "stream",
     "text": [
      "에폭 [5/5] - 훈련 데이터 손실값 : 0.1556\n",
      "에폭 [5/5] - 검증 데이터 손실값 : 0.1905 / 검증 데이터 ROC AUC : 0.9659\n"
     ]
    }
   ],
   "source": [
    "from sklearn.metrics import roc_auc_score \n",
    "from tqdm.notebook import tqdm \n",
    "\n",
    "epochs = 5\n",
    "\n",
    "for epoch in range(epochs):\n",
    "    model.train()        \n",
    "    epoch_train_loss = 0 \n",
    "\n",
    "    for images, labels in tqdm(loader_train):\n",
    "        images = images.to(device)\n",
    "        labels = labels.to(device)\n",
    "\n",
    "        optimizer.zero_grad()\n",
    "\n",
    "        outputs = model(images)\n",
    "\n",
    "        loss = criterion(outputs, labels)\n",
    "       \n",
    "        epoch_train_loss += loss.item() \n",
    "        loss.backward() \n",
    "        optimizer.step() \n",
    "   \n",
    "    print(f'에폭 [{epoch+1}/{epochs}] - 훈련 데이터 손실값 : {epoch_train_loss/len(loader_train):.4f}')\n",
    "    \n",
    "    model.eval()         \n",
    "    epoch_valid_loss = 0 \n",
    "    preds_list = []       \n",
    "    true_onehot_list = []  \n",
    "    \n",
    "    with torch.no_grad(): \n",
    "        for images, labels in loader_valid:\n",
    "            images = images.to(device)\n",
    "            labels = labels.to(device)\n",
    "            \n",
    "            outputs = model(images)\n",
    "            loss = criterion(outputs, labels)\n",
    "            epoch_valid_loss += loss.item()\n",
    "            \n",
    "            preds = torch.softmax(outputs.cpu(), dim=1).numpy() \n",
    "          \n",
    "            true_onehot = torch.eye(4)[labels].cpu().numpy()  \n",
    "           \n",
    "            preds_list.extend(preds)\n",
    "            true_onehot_list.extend(true_onehot)\n",
    "    \n",
    "    print(f'에폭 [{epoch+1}/{epochs}] - 검증 데이터 손실값 : {epoch_valid_loss/len(loader_valid):.4f} / 검증 데이터 ROC AUC : {roc_auc_score(true_onehot_list, preds_list):.4f}')  "
   ]
  },
  {
   "cell_type": "code",
   "execution_count": 18,
   "id": "9620b809",
   "metadata": {
    "execution": {
     "iopub.execute_input": "2022-05-08T08:09:23.859217Z",
     "iopub.status.busy": "2022-05-08T08:09:23.858626Z",
     "iopub.status.idle": "2022-05-08T08:09:23.887266Z",
     "shell.execute_reply": "2022-05-08T08:09:23.887683Z",
     "shell.execute_reply.started": "2022-05-08T07:33:32.459545Z"
    },
    "papermill": {
     "duration": 0.063208,
     "end_time": "2022-05-08T08:09:23.887852",
     "exception": false,
     "start_time": "2022-05-08T08:09:23.824644",
     "status": "completed"
    },
    "tags": []
   },
   "outputs": [
    {
     "data": {
      "text/plain": [
       "tensor([[1., 0., 0., 0.],\n",
       "        [0., 1., 0., 0.],\n",
       "        [0., 0., 1., 0.],\n",
       "        [0., 0., 0., 1.]])"
      ]
     },
     "execution_count": 18,
     "metadata": {},
     "output_type": "execute_result"
    }
   ],
   "source": [
    "torch.eye(4)"
   ]
  },
  {
   "cell_type": "markdown",
   "id": "55ef47a3",
   "metadata": {
    "papermill": {
     "duration": 0.029017,
     "end_time": "2022-05-08T08:09:23.945336",
     "exception": false,
     "start_time": "2022-05-08T08:09:23.916319",
     "status": "completed"
    },
    "tags": []
   },
   "source": [
    "## Prediction and submission"
   ]
  },
  {
   "cell_type": "code",
   "execution_count": 19,
   "id": "6a5f0c54",
   "metadata": {
    "execution": {
     "iopub.execute_input": "2022-05-08T08:09:24.014085Z",
     "iopub.status.busy": "2022-05-08T08:09:24.013278Z",
     "iopub.status.idle": "2022-05-08T08:09:24.015758Z",
     "shell.execute_reply": "2022-05-08T08:09:24.015338Z",
     "shell.execute_reply.started": "2022-05-08T07:33:32.491055Z"
    },
    "papermill": {
     "duration": 0.038477,
     "end_time": "2022-05-08T08:09:24.015875",
     "exception": false,
     "start_time": "2022-05-08T08:09:23.977398",
     "status": "completed"
    },
    "tags": []
   },
   "outputs": [],
   "source": [
    "dataset_test = ImageDataset(test, img_dir=img_dir, \n",
    "                            transform=transform_test, is_test=True)\n",
    "loader_test = DataLoader(dataset_test, batch_size=batch_size, \n",
    "                         shuffle=False, worker_init_fn=seed_worker,\n",
    "                         generator=g, num_workers=2)"
   ]
  },
  {
   "cell_type": "markdown",
   "id": "26810ec5",
   "metadata": {
    "papermill": {
     "duration": 0.028569,
     "end_time": "2022-05-08T08:09:24.074311",
     "exception": false,
     "start_time": "2022-05-08T08:09:24.045742",
     "status": "completed"
    },
    "tags": []
   },
   "source": [
    "### Prediction"
   ]
  },
  {
   "cell_type": "code",
   "execution_count": 20,
   "id": "a2686ba8",
   "metadata": {
    "execution": {
     "iopub.execute_input": "2022-05-08T08:09:24.147256Z",
     "iopub.status.busy": "2022-05-08T08:09:24.145815Z",
     "iopub.status.idle": "2022-05-08T08:11:00.207052Z",
     "shell.execute_reply": "2022-05-08T08:11:00.206048Z",
     "shell.execute_reply.started": "2022-05-08T07:33:32.500523Z"
    },
    "papermill": {
     "duration": 96.104027,
     "end_time": "2022-05-08T08:11:00.207211",
     "exception": false,
     "start_time": "2022-05-08T08:09:24.103184",
     "status": "completed"
    },
    "tags": []
   },
   "outputs": [],
   "source": [
    "model.eval() \n",
    "\n",
    "preds = np.zeros((len(test), 4)) \n",
    "with torch.no_grad():\n",
    "    for i, images in enumerate(loader_test):\n",
    "        images = images.to(device)\n",
    "        outputs = model(images)\n",
    "    \n",
    "        preds_part = torch.softmax(outputs.cpu(), dim=1).squeeze().numpy()\n",
    "        preds[i*batch_size:(i+1)*batch_size] += preds_part"
   ]
  },
  {
   "cell_type": "markdown",
   "id": "b88f173f",
   "metadata": {
    "papermill": {
     "duration": 0.032115,
     "end_time": "2022-05-08T08:11:00.271284",
     "exception": false,
     "start_time": "2022-05-08T08:11:00.239169",
     "status": "completed"
    },
    "tags": []
   },
   "source": [
    "### Result submission"
   ]
  },
  {
   "cell_type": "code",
   "execution_count": 21,
   "id": "b3839439",
   "metadata": {
    "execution": {
     "iopub.execute_input": "2022-05-08T08:11:00.345321Z",
     "iopub.status.busy": "2022-05-08T08:11:00.344450Z",
     "iopub.status.idle": "2022-05-08T08:11:00.369465Z",
     "shell.execute_reply": "2022-05-08T08:11:00.368933Z",
     "shell.execute_reply.started": "2022-05-08T07:35:07.879829Z"
    },
    "papermill": {
     "duration": 0.06602,
     "end_time": "2022-05-08T08:11:00.369587",
     "exception": false,
     "start_time": "2022-05-08T08:11:00.303567",
     "status": "completed"
    },
    "tags": []
   },
   "outputs": [],
   "source": [
    "submission[['healthy', 'multiple_diseases', 'rust', 'scab']] = preds\n",
    "submission.to_csv('submission.csv', index=False)"
   ]
  }
 ],
 "metadata": {
  "kernelspec": {
   "display_name": "Python 3",
   "language": "python",
   "name": "python3"
  },
  "language_info": {
   "codemirror_mode": {
    "name": "ipython",
    "version": 3
   },
   "file_extension": ".py",
   "mimetype": "text/x-python",
   "name": "python",
   "nbconvert_exporter": "python",
   "pygments_lexer": "ipython3",
   "version": "3.7.10"
  },
  "papermill": {
   "default_parameters": {},
   "duration": 2141.294912,
   "end_time": "2022-05-08T08:11:01.845131",
   "environment_variables": {},
   "exception": null,
   "input_path": "__notebook__.ipynb",
   "output_path": "__notebook__.ipynb",
   "parameters": {},
   "start_time": "2022-05-08T07:35:20.550219",
   "version": "2.3.3"
  },
  "widgets": {
   "application/vnd.jupyter.widget-state+json": {
    "state": {
     "064303a93d334807a25c78424cb8fe6a": {
      "model_module": "@jupyter-widgets/controls",
      "model_module_version": "1.5.0",
      "model_name": "DescriptionStyleModel",
      "state": {
       "_model_module": "@jupyter-widgets/controls",
       "_model_module_version": "1.5.0",
       "_model_name": "DescriptionStyleModel",
       "_view_count": null,
       "_view_module": "@jupyter-widgets/base",
       "_view_module_version": "1.2.0",
       "_view_name": "StyleView",
       "description_width": ""
      }
     },
     "06e28207eb92490db54ad78bf36cce14": {
      "model_module": "@jupyter-widgets/base",
      "model_module_version": "1.2.0",
      "model_name": "LayoutModel",
      "state": {
       "_model_module": "@jupyter-widgets/base",
       "_model_module_version": "1.2.0",
       "_model_name": "LayoutModel",
       "_view_count": null,
       "_view_module": "@jupyter-widgets/base",
       "_view_module_version": "1.2.0",
       "_view_name": "LayoutView",
       "align_content": null,
       "align_items": null,
       "align_self": null,
       "border": null,
       "bottom": null,
       "display": null,
       "flex": null,
       "flex_flow": null,
       "grid_area": null,
       "grid_auto_columns": null,
       "grid_auto_flow": null,
       "grid_auto_rows": null,
       "grid_column": null,
       "grid_gap": null,
       "grid_row": null,
       "grid_template_areas": null,
       "grid_template_columns": null,
       "grid_template_rows": null,
       "height": null,
       "justify_content": null,
       "justify_items": null,
       "left": null,
       "margin": null,
       "max_height": null,
       "max_width": null,
       "min_height": null,
       "min_width": null,
       "object_fit": null,
       "object_position": null,
       "order": null,
       "overflow": null,
       "overflow_x": null,
       "overflow_y": null,
       "padding": null,
       "right": null,
       "top": null,
       "visibility": null,
       "width": null
      }
     },
     "08cc512acb444ad6b1a79fb86d26dbcd": {
      "model_module": "@jupyter-widgets/base",
      "model_module_version": "1.2.0",
      "model_name": "LayoutModel",
      "state": {
       "_model_module": "@jupyter-widgets/base",
       "_model_module_version": "1.2.0",
       "_model_name": "LayoutModel",
       "_view_count": null,
       "_view_module": "@jupyter-widgets/base",
       "_view_module_version": "1.2.0",
       "_view_name": "LayoutView",
       "align_content": null,
       "align_items": null,
       "align_self": null,
       "border": null,
       "bottom": null,
       "display": null,
       "flex": null,
       "flex_flow": null,
       "grid_area": null,
       "grid_auto_columns": null,
       "grid_auto_flow": null,
       "grid_auto_rows": null,
       "grid_column": null,
       "grid_gap": null,
       "grid_row": null,
       "grid_template_areas": null,
       "grid_template_columns": null,
       "grid_template_rows": null,
       "height": null,
       "justify_content": null,
       "justify_items": null,
       "left": null,
       "margin": null,
       "max_height": null,
       "max_width": null,
       "min_height": null,
       "min_width": null,
       "object_fit": null,
       "object_position": null,
       "order": null,
       "overflow": null,
       "overflow_x": null,
       "overflow_y": null,
       "padding": null,
       "right": null,
       "top": null,
       "visibility": null,
       "width": null
      }
     },
     "158e2620f8984e118ea5e96e416a2f83": {
      "model_module": "@jupyter-widgets/controls",
      "model_module_version": "1.5.0",
      "model_name": "FloatProgressModel",
      "state": {
       "_dom_classes": [],
       "_model_module": "@jupyter-widgets/controls",
       "_model_module_version": "1.5.0",
       "_model_name": "FloatProgressModel",
       "_view_count": null,
       "_view_module": "@jupyter-widgets/controls",
       "_view_module_version": "1.5.0",
       "_view_name": "ProgressView",
       "bar_style": "success",
       "description": "",
       "description_tooltip": null,
       "layout": "IPY_MODEL_cb02fb22e94d43578c84acf64fc8c170",
       "max": 410.0,
       "min": 0.0,
       "orientation": "horizontal",
       "style": "IPY_MODEL_184546e4297c4357bc234281a4eb03de",
       "value": 410.0
      }
     },
     "1708e57cdae044e0b629bf8e0ec31fb1": {
      "model_module": "@jupyter-widgets/controls",
      "model_module_version": "1.5.0",
      "model_name": "FloatProgressModel",
      "state": {
       "_dom_classes": [],
       "_model_module": "@jupyter-widgets/controls",
       "_model_module_version": "1.5.0",
       "_model_name": "FloatProgressModel",
       "_view_count": null,
       "_view_module": "@jupyter-widgets/controls",
       "_view_module_version": "1.5.0",
       "_view_name": "ProgressView",
       "bar_style": "success",
       "description": "",
       "description_tooltip": null,
       "layout": "IPY_MODEL_cb8c239036c5449195ed5a276e89c596",
       "max": 410.0,
       "min": 0.0,
       "orientation": "horizontal",
       "style": "IPY_MODEL_c4c7b4164e544c3489a211d213358287",
       "value": 410.0
      }
     },
     "184546e4297c4357bc234281a4eb03de": {
      "model_module": "@jupyter-widgets/controls",
      "model_module_version": "1.5.0",
      "model_name": "ProgressStyleModel",
      "state": {
       "_model_module": "@jupyter-widgets/controls",
       "_model_module_version": "1.5.0",
       "_model_name": "ProgressStyleModel",
       "_view_count": null,
       "_view_module": "@jupyter-widgets/base",
       "_view_module_version": "1.2.0",
       "_view_name": "StyleView",
       "bar_color": null,
       "description_width": ""
      }
     },
     "3079be58b1594f17a6ce34da2ebecb89": {
      "model_module": "@jupyter-widgets/controls",
      "model_module_version": "1.5.0",
      "model_name": "HTMLModel",
      "state": {
       "_dom_classes": [],
       "_model_module": "@jupyter-widgets/controls",
       "_model_module_version": "1.5.0",
       "_model_name": "HTMLModel",
       "_view_count": null,
       "_view_module": "@jupyter-widgets/controls",
       "_view_module_version": "1.5.0",
       "_view_name": "HTMLView",
       "description": "",
       "description_tooltip": null,
       "layout": "IPY_MODEL_08cc512acb444ad6b1a79fb86d26dbcd",
       "placeholder": "​",
       "style": "IPY_MODEL_d612832f0105407b8ab8d34aef704f5b",
       "value": " 410/410 [06:23&lt;00:00,  1.29it/s]"
      }
     },
     "3bbb4c7cc1bf447794763b2c9d3e9420": {
      "model_module": "@jupyter-widgets/base",
      "model_module_version": "1.2.0",
      "model_name": "LayoutModel",
      "state": {
       "_model_module": "@jupyter-widgets/base",
       "_model_module_version": "1.2.0",
       "_model_name": "LayoutModel",
       "_view_count": null,
       "_view_module": "@jupyter-widgets/base",
       "_view_module_version": "1.2.0",
       "_view_name": "LayoutView",
       "align_content": null,
       "align_items": null,
       "align_self": null,
       "border": null,
       "bottom": null,
       "display": null,
       "flex": null,
       "flex_flow": null,
       "grid_area": null,
       "grid_auto_columns": null,
       "grid_auto_flow": null,
       "grid_auto_rows": null,
       "grid_column": null,
       "grid_gap": null,
       "grid_row": null,
       "grid_template_areas": null,
       "grid_template_columns": null,
       "grid_template_rows": null,
       "height": null,
       "justify_content": null,
       "justify_items": null,
       "left": null,
       "margin": null,
       "max_height": null,
       "max_width": null,
       "min_height": null,
       "min_width": null,
       "object_fit": null,
       "object_position": null,
       "order": null,
       "overflow": null,
       "overflow_x": null,
       "overflow_y": null,
       "padding": null,
       "right": null,
       "top": null,
       "visibility": null,
       "width": null
      }
     },
     "3c1c0557c16445349ff4b015c48aaf7c": {
      "model_module": "@jupyter-widgets/controls",
      "model_module_version": "1.5.0",
      "model_name": "HTMLModel",
      "state": {
       "_dom_classes": [],
       "_model_module": "@jupyter-widgets/controls",
       "_model_module_version": "1.5.0",
       "_model_name": "HTMLModel",
       "_view_count": null,
       "_view_module": "@jupyter-widgets/controls",
       "_view_module_version": "1.5.0",
       "_view_name": "HTMLView",
       "description": "",
       "description_tooltip": null,
       "layout": "IPY_MODEL_7044468ce7c4432d90c9a601981de85b",
       "placeholder": "​",
       "style": "IPY_MODEL_cd7bd8d1933a4d6aa7a6d5e54ba680cb",
       "value": " 254M/254M [00:47&lt;00:00, 5.41MB/s]"
      }
     },
     "42dba28d92834f659b46f70649e53f2d": {
      "model_module": "@jupyter-widgets/controls",
      "model_module_version": "1.5.0",
      "model_name": "HTMLModel",
      "state": {
       "_dom_classes": [],
       "_model_module": "@jupyter-widgets/controls",
       "_model_module_version": "1.5.0",
       "_model_name": "HTMLModel",
       "_view_count": null,
       "_view_module": "@jupyter-widgets/controls",
       "_view_module_version": "1.5.0",
       "_view_name": "HTMLView",
       "description": "",
       "description_tooltip": null,
       "layout": "IPY_MODEL_c8d3663beb344619b02548a20a129b5f",
       "placeholder": "​",
       "style": "IPY_MODEL_dd866aed295947abb10b767ca7709703",
       "value": "100%"
      }
     },
     "43a73ee9bb5b43fb91e6258b669419b8": {
      "model_module": "@jupyter-widgets/base",
      "model_module_version": "1.2.0",
      "model_name": "LayoutModel",
      "state": {
       "_model_module": "@jupyter-widgets/base",
       "_model_module_version": "1.2.0",
       "_model_name": "LayoutModel",
       "_view_count": null,
       "_view_module": "@jupyter-widgets/base",
       "_view_module_version": "1.2.0",
       "_view_name": "LayoutView",
       "align_content": null,
       "align_items": null,
       "align_self": null,
       "border": null,
       "bottom": null,
       "display": null,
       "flex": null,
       "flex_flow": null,
       "grid_area": null,
       "grid_auto_columns": null,
       "grid_auto_flow": null,
       "grid_auto_rows": null,
       "grid_column": null,
       "grid_gap": null,
       "grid_row": null,
       "grid_template_areas": null,
       "grid_template_columns": null,
       "grid_template_rows": null,
       "height": null,
       "justify_content": null,
       "justify_items": null,
       "left": null,
       "margin": null,
       "max_height": null,
       "max_width": null,
       "min_height": null,
       "min_width": null,
       "object_fit": null,
       "object_position": null,
       "order": null,
       "overflow": null,
       "overflow_x": null,
       "overflow_y": null,
       "padding": null,
       "right": null,
       "top": null,
       "visibility": null,
       "width": null
      }
     },
     "43d9a04fb70c42da8bbf0da93a2700a8": {
      "model_module": "@jupyter-widgets/controls",
      "model_module_version": "1.5.0",
      "model_name": "DescriptionStyleModel",
      "state": {
       "_model_module": "@jupyter-widgets/controls",
       "_model_module_version": "1.5.0",
       "_model_name": "DescriptionStyleModel",
       "_view_count": null,
       "_view_module": "@jupyter-widgets/base",
       "_view_module_version": "1.2.0",
       "_view_name": "StyleView",
       "description_width": ""
      }
     },
     "4583501ef6ca43ba93cde60fc4524f7d": {
      "model_module": "@jupyter-widgets/base",
      "model_module_version": "1.2.0",
      "model_name": "LayoutModel",
      "state": {
       "_model_module": "@jupyter-widgets/base",
       "_model_module_version": "1.2.0",
       "_model_name": "LayoutModel",
       "_view_count": null,
       "_view_module": "@jupyter-widgets/base",
       "_view_module_version": "1.2.0",
       "_view_name": "LayoutView",
       "align_content": null,
       "align_items": null,
       "align_self": null,
       "border": null,
       "bottom": null,
       "display": null,
       "flex": null,
       "flex_flow": null,
       "grid_area": null,
       "grid_auto_columns": null,
       "grid_auto_flow": null,
       "grid_auto_rows": null,
       "grid_column": null,
       "grid_gap": null,
       "grid_row": null,
       "grid_template_areas": null,
       "grid_template_columns": null,
       "grid_template_rows": null,
       "height": null,
       "justify_content": null,
       "justify_items": null,
       "left": null,
       "margin": null,
       "max_height": null,
       "max_width": null,
       "min_height": null,
       "min_width": null,
       "object_fit": null,
       "object_position": null,
       "order": null,
       "overflow": null,
       "overflow_x": null,
       "overflow_y": null,
       "padding": null,
       "right": null,
       "top": null,
       "visibility": null,
       "width": null
      }
     },
     "4db998bd528b4f7faf0df3520dc23d61": {
      "model_module": "@jupyter-widgets/base",
      "model_module_version": "1.2.0",
      "model_name": "LayoutModel",
      "state": {
       "_model_module": "@jupyter-widgets/base",
       "_model_module_version": "1.2.0",
       "_model_name": "LayoutModel",
       "_view_count": null,
       "_view_module": "@jupyter-widgets/base",
       "_view_module_version": "1.2.0",
       "_view_name": "LayoutView",
       "align_content": null,
       "align_items": null,
       "align_self": null,
       "border": null,
       "bottom": null,
       "display": null,
       "flex": null,
       "flex_flow": null,
       "grid_area": null,
       "grid_auto_columns": null,
       "grid_auto_flow": null,
       "grid_auto_rows": null,
       "grid_column": null,
       "grid_gap": null,
       "grid_row": null,
       "grid_template_areas": null,
       "grid_template_columns": null,
       "grid_template_rows": null,
       "height": null,
       "justify_content": null,
       "justify_items": null,
       "left": null,
       "margin": null,
       "max_height": null,
       "max_width": null,
       "min_height": null,
       "min_width": null,
       "object_fit": null,
       "object_position": null,
       "order": null,
       "overflow": null,
       "overflow_x": null,
       "overflow_y": null,
       "padding": null,
       "right": null,
       "top": null,
       "visibility": null,
       "width": null
      }
     },
     "4eff7f282f294d61a73ff72764dbbf30": {
      "model_module": "@jupyter-widgets/base",
      "model_module_version": "1.2.0",
      "model_name": "LayoutModel",
      "state": {
       "_model_module": "@jupyter-widgets/base",
       "_model_module_version": "1.2.0",
       "_model_name": "LayoutModel",
       "_view_count": null,
       "_view_module": "@jupyter-widgets/base",
       "_view_module_version": "1.2.0",
       "_view_name": "LayoutView",
       "align_content": null,
       "align_items": null,
       "align_self": null,
       "border": null,
       "bottom": null,
       "display": null,
       "flex": null,
       "flex_flow": null,
       "grid_area": null,
       "grid_auto_columns": null,
       "grid_auto_flow": null,
       "grid_auto_rows": null,
       "grid_column": null,
       "grid_gap": null,
       "grid_row": null,
       "grid_template_areas": null,
       "grid_template_columns": null,
       "grid_template_rows": null,
       "height": null,
       "justify_content": null,
       "justify_items": null,
       "left": null,
       "margin": null,
       "max_height": null,
       "max_width": null,
       "min_height": null,
       "min_width": null,
       "object_fit": null,
       "object_position": null,
       "order": null,
       "overflow": null,
       "overflow_x": null,
       "overflow_y": null,
       "padding": null,
       "right": null,
       "top": null,
       "visibility": null,
       "width": null
      }
     },
     "593d80e09f2a4464b70129a781fe0eaa": {
      "model_module": "@jupyter-widgets/base",
      "model_module_version": "1.2.0",
      "model_name": "LayoutModel",
      "state": {
       "_model_module": "@jupyter-widgets/base",
       "_model_module_version": "1.2.0",
       "_model_name": "LayoutModel",
       "_view_count": null,
       "_view_module": "@jupyter-widgets/base",
       "_view_module_version": "1.2.0",
       "_view_name": "LayoutView",
       "align_content": null,
       "align_items": null,
       "align_self": null,
       "border": null,
       "bottom": null,
       "display": null,
       "flex": null,
       "flex_flow": null,
       "grid_area": null,
       "grid_auto_columns": null,
       "grid_auto_flow": null,
       "grid_auto_rows": null,
       "grid_column": null,
       "grid_gap": null,
       "grid_row": null,
       "grid_template_areas": null,
       "grid_template_columns": null,
       "grid_template_rows": null,
       "height": null,
       "justify_content": null,
       "justify_items": null,
       "left": null,
       "margin": null,
       "max_height": null,
       "max_width": null,
       "min_height": null,
       "min_width": null,
       "object_fit": null,
       "object_position": null,
       "order": null,
       "overflow": null,
       "overflow_x": null,
       "overflow_y": null,
       "padding": null,
       "right": null,
       "top": null,
       "visibility": null,
       "width": null
      }
     },
     "5c420ebacbf442e7aa84118c14b92be9": {
      "model_module": "@jupyter-widgets/controls",
      "model_module_version": "1.5.0",
      "model_name": "FloatProgressModel",
      "state": {
       "_dom_classes": [],
       "_model_module": "@jupyter-widgets/controls",
       "_model_module_version": "1.5.0",
       "_model_name": "FloatProgressModel",
       "_view_count": null,
       "_view_module": "@jupyter-widgets/controls",
       "_view_module_version": "1.5.0",
       "_view_name": "ProgressView",
       "bar_style": "success",
       "description": "",
       "description_tooltip": null,
       "layout": "IPY_MODEL_a79109c8979f42f49fa9455344725394",
       "max": 410.0,
       "min": 0.0,
       "orientation": "horizontal",
       "style": "IPY_MODEL_9ad2568926494505b25995de2bcca085",
       "value": 410.0
      }
     },
     "5c84643ece4548be90199439c55799f1": {
      "model_module": "@jupyter-widgets/controls",
      "model_module_version": "1.5.0",
      "model_name": "DescriptionStyleModel",
      "state": {
       "_model_module": "@jupyter-widgets/controls",
       "_model_module_version": "1.5.0",
       "_model_name": "DescriptionStyleModel",
       "_view_count": null,
       "_view_module": "@jupyter-widgets/base",
       "_view_module_version": "1.2.0",
       "_view_name": "StyleView",
       "description_width": ""
      }
     },
     "5ce9254937e2422aa3ad7d6e1abc1857": {
      "model_module": "@jupyter-widgets/controls",
      "model_module_version": "1.5.0",
      "model_name": "DescriptionStyleModel",
      "state": {
       "_model_module": "@jupyter-widgets/controls",
       "_model_module_version": "1.5.0",
       "_model_name": "DescriptionStyleModel",
       "_view_count": null,
       "_view_module": "@jupyter-widgets/base",
       "_view_module_version": "1.2.0",
       "_view_name": "StyleView",
       "description_width": ""
      }
     },
     "60970252b4284ca9a7673121d0604a1b": {
      "model_module": "@jupyter-widgets/base",
      "model_module_version": "1.2.0",
      "model_name": "LayoutModel",
      "state": {
       "_model_module": "@jupyter-widgets/base",
       "_model_module_version": "1.2.0",
       "_model_name": "LayoutModel",
       "_view_count": null,
       "_view_module": "@jupyter-widgets/base",
       "_view_module_version": "1.2.0",
       "_view_name": "LayoutView",
       "align_content": null,
       "align_items": null,
       "align_self": null,
       "border": null,
       "bottom": null,
       "display": null,
       "flex": null,
       "flex_flow": null,
       "grid_area": null,
       "grid_auto_columns": null,
       "grid_auto_flow": null,
       "grid_auto_rows": null,
       "grid_column": null,
       "grid_gap": null,
       "grid_row": null,
       "grid_template_areas": null,
       "grid_template_columns": null,
       "grid_template_rows": null,
       "height": null,
       "justify_content": null,
       "justify_items": null,
       "left": null,
       "margin": null,
       "max_height": null,
       "max_width": null,
       "min_height": null,
       "min_width": null,
       "object_fit": null,
       "object_position": null,
       "order": null,
       "overflow": null,
       "overflow_x": null,
       "overflow_y": null,
       "padding": null,
       "right": null,
       "top": null,
       "visibility": null,
       "width": null
      }
     },
     "650e03ce85434b758e21c9905b9a04f1": {
      "model_module": "@jupyter-widgets/controls",
      "model_module_version": "1.5.0",
      "model_name": "HBoxModel",
      "state": {
       "_dom_classes": [],
       "_model_module": "@jupyter-widgets/controls",
       "_model_module_version": "1.5.0",
       "_model_name": "HBoxModel",
       "_view_count": null,
       "_view_module": "@jupyter-widgets/controls",
       "_view_module_version": "1.5.0",
       "_view_name": "HBoxView",
       "box_style": "",
       "children": [
        "IPY_MODEL_ba4c317b81fd4fa298b3ac3b44003ce7",
        "IPY_MODEL_1708e57cdae044e0b629bf8e0ec31fb1",
        "IPY_MODEL_930b300d0a4642fe8ca685ad742a51be"
       ],
       "layout": "IPY_MODEL_cd99104a23e84edf95c97da79cdeb461"
      }
     },
     "685d04bd28394651b0b057a9c3789bf8": {
      "model_module": "@jupyter-widgets/base",
      "model_module_version": "1.2.0",
      "model_name": "LayoutModel",
      "state": {
       "_model_module": "@jupyter-widgets/base",
       "_model_module_version": "1.2.0",
       "_model_name": "LayoutModel",
       "_view_count": null,
       "_view_module": "@jupyter-widgets/base",
       "_view_module_version": "1.2.0",
       "_view_name": "LayoutView",
       "align_content": null,
       "align_items": null,
       "align_self": null,
       "border": null,
       "bottom": null,
       "display": null,
       "flex": null,
       "flex_flow": null,
       "grid_area": null,
       "grid_auto_columns": null,
       "grid_auto_flow": null,
       "grid_auto_rows": null,
       "grid_column": null,
       "grid_gap": null,
       "grid_row": null,
       "grid_template_areas": null,
       "grid_template_columns": null,
       "grid_template_rows": null,
       "height": null,
       "justify_content": null,
       "justify_items": null,
       "left": null,
       "margin": null,
       "max_height": null,
       "max_width": null,
       "min_height": null,
       "min_width": null,
       "object_fit": null,
       "object_position": null,
       "order": null,
       "overflow": null,
       "overflow_x": null,
       "overflow_y": null,
       "padding": null,
       "right": null,
       "top": null,
       "visibility": null,
       "width": null
      }
     },
     "6ca21f75dec7446a8dd461235fa37084": {
      "model_module": "@jupyter-widgets/base",
      "model_module_version": "1.2.0",
      "model_name": "LayoutModel",
      "state": {
       "_model_module": "@jupyter-widgets/base",
       "_model_module_version": "1.2.0",
       "_model_name": "LayoutModel",
       "_view_count": null,
       "_view_module": "@jupyter-widgets/base",
       "_view_module_version": "1.2.0",
       "_view_name": "LayoutView",
       "align_content": null,
       "align_items": null,
       "align_self": null,
       "border": null,
       "bottom": null,
       "display": null,
       "flex": null,
       "flex_flow": null,
       "grid_area": null,
       "grid_auto_columns": null,
       "grid_auto_flow": null,
       "grid_auto_rows": null,
       "grid_column": null,
       "grid_gap": null,
       "grid_row": null,
       "grid_template_areas": null,
       "grid_template_columns": null,
       "grid_template_rows": null,
       "height": null,
       "justify_content": null,
       "justify_items": null,
       "left": null,
       "margin": null,
       "max_height": null,
       "max_width": null,
       "min_height": null,
       "min_width": null,
       "object_fit": null,
       "object_position": null,
       "order": null,
       "overflow": null,
       "overflow_x": null,
       "overflow_y": null,
       "padding": null,
       "right": null,
       "top": null,
       "visibility": null,
       "width": null
      }
     },
     "6eec4f745c7840b3909d52b4608c9fd0": {
      "model_module": "@jupyter-widgets/controls",
      "model_module_version": "1.5.0",
      "model_name": "DescriptionStyleModel",
      "state": {
       "_model_module": "@jupyter-widgets/controls",
       "_model_module_version": "1.5.0",
       "_model_name": "DescriptionStyleModel",
       "_view_count": null,
       "_view_module": "@jupyter-widgets/base",
       "_view_module_version": "1.2.0",
       "_view_name": "StyleView",
       "description_width": ""
      }
     },
     "7044468ce7c4432d90c9a601981de85b": {
      "model_module": "@jupyter-widgets/base",
      "model_module_version": "1.2.0",
      "model_name": "LayoutModel",
      "state": {
       "_model_module": "@jupyter-widgets/base",
       "_model_module_version": "1.2.0",
       "_model_name": "LayoutModel",
       "_view_count": null,
       "_view_module": "@jupyter-widgets/base",
       "_view_module_version": "1.2.0",
       "_view_name": "LayoutView",
       "align_content": null,
       "align_items": null,
       "align_self": null,
       "border": null,
       "bottom": null,
       "display": null,
       "flex": null,
       "flex_flow": null,
       "grid_area": null,
       "grid_auto_columns": null,
       "grid_auto_flow": null,
       "grid_auto_rows": null,
       "grid_column": null,
       "grid_gap": null,
       "grid_row": null,
       "grid_template_areas": null,
       "grid_template_columns": null,
       "grid_template_rows": null,
       "height": null,
       "justify_content": null,
       "justify_items": null,
       "left": null,
       "margin": null,
       "max_height": null,
       "max_width": null,
       "min_height": null,
       "min_width": null,
       "object_fit": null,
       "object_position": null,
       "order": null,
       "overflow": null,
       "overflow_x": null,
       "overflow_y": null,
       "padding": null,
       "right": null,
       "top": null,
       "visibility": null,
       "width": null
      }
     },
     "78d268c615b845f39cc8f08a16b8ad14": {
      "model_module": "@jupyter-widgets/controls",
      "model_module_version": "1.5.0",
      "model_name": "HBoxModel",
      "state": {
       "_dom_classes": [],
       "_model_module": "@jupyter-widgets/controls",
       "_model_module_version": "1.5.0",
       "_model_name": "HBoxModel",
       "_view_count": null,
       "_view_module": "@jupyter-widgets/controls",
       "_view_module_version": "1.5.0",
       "_view_name": "HBoxView",
       "box_style": "",
       "children": [
        "IPY_MODEL_bd7ae7a14a064a359cffadafe54dc047",
        "IPY_MODEL_8c11e324f2954f2695d66e6e1f173cba",
        "IPY_MODEL_3079be58b1594f17a6ce34da2ebecb89"
       ],
       "layout": "IPY_MODEL_43a73ee9bb5b43fb91e6258b669419b8"
      }
     },
     "7fc599d17f1b418fbd7711bc54b1ba1e": {
      "model_module": "@jupyter-widgets/controls",
      "model_module_version": "1.5.0",
      "model_name": "ProgressStyleModel",
      "state": {
       "_model_module": "@jupyter-widgets/controls",
       "_model_module_version": "1.5.0",
       "_model_name": "ProgressStyleModel",
       "_view_count": null,
       "_view_module": "@jupyter-widgets/base",
       "_view_module_version": "1.2.0",
       "_view_name": "StyleView",
       "bar_color": null,
       "description_width": ""
      }
     },
     "8c11e324f2954f2695d66e6e1f173cba": {
      "model_module": "@jupyter-widgets/controls",
      "model_module_version": "1.5.0",
      "model_name": "FloatProgressModel",
      "state": {
       "_dom_classes": [],
       "_model_module": "@jupyter-widgets/controls",
       "_model_module_version": "1.5.0",
       "_model_name": "FloatProgressModel",
       "_view_count": null,
       "_view_module": "@jupyter-widgets/controls",
       "_view_module_version": "1.5.0",
       "_view_name": "ProgressView",
       "bar_style": "success",
       "description": "",
       "description_tooltip": null,
       "layout": "IPY_MODEL_4583501ef6ca43ba93cde60fc4524f7d",
       "max": 410.0,
       "min": 0.0,
       "orientation": "horizontal",
       "style": "IPY_MODEL_8d825f9810f44f22a7fe783f5c5df650",
       "value": 410.0
      }
     },
     "8d825f9810f44f22a7fe783f5c5df650": {
      "model_module": "@jupyter-widgets/controls",
      "model_module_version": "1.5.0",
      "model_name": "ProgressStyleModel",
      "state": {
       "_model_module": "@jupyter-widgets/controls",
       "_model_module_version": "1.5.0",
       "_model_name": "ProgressStyleModel",
       "_view_count": null,
       "_view_module": "@jupyter-widgets/base",
       "_view_module_version": "1.2.0",
       "_view_name": "StyleView",
       "bar_color": null,
       "description_width": ""
      }
     },
     "8e7739b4d117452a8b74cac64f6fdf8b": {
      "model_module": "@jupyter-widgets/controls",
      "model_module_version": "1.5.0",
      "model_name": "HTMLModel",
      "state": {
       "_dom_classes": [],
       "_model_module": "@jupyter-widgets/controls",
       "_model_module_version": "1.5.0",
       "_model_name": "HTMLModel",
       "_view_count": null,
       "_view_module": "@jupyter-widgets/controls",
       "_view_module_version": "1.5.0",
       "_view_name": "HTMLView",
       "description": "",
       "description_tooltip": null,
       "layout": "IPY_MODEL_95095d4a68f34763a6463fe3d2d956a3",
       "placeholder": "​",
       "style": "IPY_MODEL_5c84643ece4548be90199439c55799f1",
       "value": " 410/410 [06:21&lt;00:00,  1.28it/s]"
      }
     },
     "92dd5d1114054107afa0748d6f3ad1c3": {
      "model_module": "@jupyter-widgets/controls",
      "model_module_version": "1.5.0",
      "model_name": "HTMLModel",
      "state": {
       "_dom_classes": [],
       "_model_module": "@jupyter-widgets/controls",
       "_model_module_version": "1.5.0",
       "_model_name": "HTMLModel",
       "_view_count": null,
       "_view_module": "@jupyter-widgets/controls",
       "_view_module_version": "1.5.0",
       "_view_name": "HTMLView",
       "description": "",
       "description_tooltip": null,
       "layout": "IPY_MODEL_4eff7f282f294d61a73ff72764dbbf30",
       "placeholder": "​",
       "style": "IPY_MODEL_43d9a04fb70c42da8bbf0da93a2700a8",
       "value": "100%"
      }
     },
     "930b300d0a4642fe8ca685ad742a51be": {
      "model_module": "@jupyter-widgets/controls",
      "model_module_version": "1.5.0",
      "model_name": "HTMLModel",
      "state": {
       "_dom_classes": [],
       "_model_module": "@jupyter-widgets/controls",
       "_model_module_version": "1.5.0",
       "_model_name": "HTMLModel",
       "_view_count": null,
       "_view_module": "@jupyter-widgets/controls",
       "_view_module_version": "1.5.0",
       "_view_name": "HTMLView",
       "description": "",
       "description_tooltip": null,
       "layout": "IPY_MODEL_3bbb4c7cc1bf447794763b2c9d3e9420",
       "placeholder": "​",
       "style": "IPY_MODEL_ace2725cea8542f0bb4de61ca7c1b654",
       "value": " 410/410 [06:21&lt;00:00,  1.30it/s]"
      }
     },
     "95095d4a68f34763a6463fe3d2d956a3": {
      "model_module": "@jupyter-widgets/base",
      "model_module_version": "1.2.0",
      "model_name": "LayoutModel",
      "state": {
       "_model_module": "@jupyter-widgets/base",
       "_model_module_version": "1.2.0",
       "_model_name": "LayoutModel",
       "_view_count": null,
       "_view_module": "@jupyter-widgets/base",
       "_view_module_version": "1.2.0",
       "_view_name": "LayoutView",
       "align_content": null,
       "align_items": null,
       "align_self": null,
       "border": null,
       "bottom": null,
       "display": null,
       "flex": null,
       "flex_flow": null,
       "grid_area": null,
       "grid_auto_columns": null,
       "grid_auto_flow": null,
       "grid_auto_rows": null,
       "grid_column": null,
       "grid_gap": null,
       "grid_row": null,
       "grid_template_areas": null,
       "grid_template_columns": null,
       "grid_template_rows": null,
       "height": null,
       "justify_content": null,
       "justify_items": null,
       "left": null,
       "margin": null,
       "max_height": null,
       "max_width": null,
       "min_height": null,
       "min_width": null,
       "object_fit": null,
       "object_position": null,
       "order": null,
       "overflow": null,
       "overflow_x": null,
       "overflow_y": null,
       "padding": null,
       "right": null,
       "top": null,
       "visibility": null,
       "width": null
      }
     },
     "9561a83c9cdc4fb1844c6c08ef299e2c": {
      "model_module": "@jupyter-widgets/controls",
      "model_module_version": "1.5.0",
      "model_name": "DescriptionStyleModel",
      "state": {
       "_model_module": "@jupyter-widgets/controls",
       "_model_module_version": "1.5.0",
       "_model_name": "DescriptionStyleModel",
       "_view_count": null,
       "_view_module": "@jupyter-widgets/base",
       "_view_module_version": "1.2.0",
       "_view_name": "StyleView",
       "description_width": ""
      }
     },
     "9ad2568926494505b25995de2bcca085": {
      "model_module": "@jupyter-widgets/controls",
      "model_module_version": "1.5.0",
      "model_name": "ProgressStyleModel",
      "state": {
       "_model_module": "@jupyter-widgets/controls",
       "_model_module_version": "1.5.0",
       "_model_name": "ProgressStyleModel",
       "_view_count": null,
       "_view_module": "@jupyter-widgets/base",
       "_view_module_version": "1.2.0",
       "_view_name": "StyleView",
       "bar_color": null,
       "description_width": ""
      }
     },
     "a3e80388051345f98458554a597b1149": {
      "model_module": "@jupyter-widgets/controls",
      "model_module_version": "1.5.0",
      "model_name": "HTMLModel",
      "state": {
       "_dom_classes": [],
       "_model_module": "@jupyter-widgets/controls",
       "_model_module_version": "1.5.0",
       "_model_name": "HTMLModel",
       "_view_count": null,
       "_view_module": "@jupyter-widgets/controls",
       "_view_module_version": "1.5.0",
       "_view_name": "HTMLView",
       "description": "",
       "description_tooltip": null,
       "layout": "IPY_MODEL_fa91e4a49c48471aa7e83f5a7b1d788e",
       "placeholder": "​",
       "style": "IPY_MODEL_064303a93d334807a25c78424cb8fe6a",
       "value": "100%"
      }
     },
     "a59708a71fb44130b77a2358380d327d": {
      "model_module": "@jupyter-widgets/controls",
      "model_module_version": "1.5.0",
      "model_name": "HBoxModel",
      "state": {
       "_dom_classes": [],
       "_model_module": "@jupyter-widgets/controls",
       "_model_module_version": "1.5.0",
       "_model_name": "HBoxModel",
       "_view_count": null,
       "_view_module": "@jupyter-widgets/controls",
       "_view_module_version": "1.5.0",
       "_view_name": "HBoxView",
       "box_style": "",
       "children": [
        "IPY_MODEL_bab0e519e2024eb894fe5f81a7b53051",
        "IPY_MODEL_e569bb4f5cf34ecb9cf0835182b26977",
        "IPY_MODEL_3c1c0557c16445349ff4b015c48aaf7c"
       ],
       "layout": "IPY_MODEL_4db998bd528b4f7faf0df3520dc23d61"
      }
     },
     "a79109c8979f42f49fa9455344725394": {
      "model_module": "@jupyter-widgets/base",
      "model_module_version": "1.2.0",
      "model_name": "LayoutModel",
      "state": {
       "_model_module": "@jupyter-widgets/base",
       "_model_module_version": "1.2.0",
       "_model_name": "LayoutModel",
       "_view_count": null,
       "_view_module": "@jupyter-widgets/base",
       "_view_module_version": "1.2.0",
       "_view_name": "LayoutView",
       "align_content": null,
       "align_items": null,
       "align_self": null,
       "border": null,
       "bottom": null,
       "display": null,
       "flex": null,
       "flex_flow": null,
       "grid_area": null,
       "grid_auto_columns": null,
       "grid_auto_flow": null,
       "grid_auto_rows": null,
       "grid_column": null,
       "grid_gap": null,
       "grid_row": null,
       "grid_template_areas": null,
       "grid_template_columns": null,
       "grid_template_rows": null,
       "height": null,
       "justify_content": null,
       "justify_items": null,
       "left": null,
       "margin": null,
       "max_height": null,
       "max_width": null,
       "min_height": null,
       "min_width": null,
       "object_fit": null,
       "object_position": null,
       "order": null,
       "overflow": null,
       "overflow_x": null,
       "overflow_y": null,
       "padding": null,
       "right": null,
       "top": null,
       "visibility": null,
       "width": null
      }
     },
     "a9b1dd14797f44b8b959f7cc13d8ff16": {
      "model_module": "@jupyter-widgets/controls",
      "model_module_version": "1.5.0",
      "model_name": "DescriptionStyleModel",
      "state": {
       "_model_module": "@jupyter-widgets/controls",
       "_model_module_version": "1.5.0",
       "_model_name": "DescriptionStyleModel",
       "_view_count": null,
       "_view_module": "@jupyter-widgets/base",
       "_view_module_version": "1.2.0",
       "_view_name": "StyleView",
       "description_width": ""
      }
     },
     "ace2725cea8542f0bb4de61ca7c1b654": {
      "model_module": "@jupyter-widgets/controls",
      "model_module_version": "1.5.0",
      "model_name": "DescriptionStyleModel",
      "state": {
       "_model_module": "@jupyter-widgets/controls",
       "_model_module_version": "1.5.0",
       "_model_name": "DescriptionStyleModel",
       "_view_count": null,
       "_view_module": "@jupyter-widgets/base",
       "_view_module_version": "1.2.0",
       "_view_name": "StyleView",
       "description_width": ""
      }
     },
     "ba4c317b81fd4fa298b3ac3b44003ce7": {
      "model_module": "@jupyter-widgets/controls",
      "model_module_version": "1.5.0",
      "model_name": "HTMLModel",
      "state": {
       "_dom_classes": [],
       "_model_module": "@jupyter-widgets/controls",
       "_model_module_version": "1.5.0",
       "_model_name": "HTMLModel",
       "_view_count": null,
       "_view_module": "@jupyter-widgets/controls",
       "_view_module_version": "1.5.0",
       "_view_name": "HTMLView",
       "description": "",
       "description_tooltip": null,
       "layout": "IPY_MODEL_e9fd621550ab47909a639c7e7021ba4b",
       "placeholder": "​",
       "style": "IPY_MODEL_5ce9254937e2422aa3ad7d6e1abc1857",
       "value": "100%"
      }
     },
     "bab0e519e2024eb894fe5f81a7b53051": {
      "model_module": "@jupyter-widgets/controls",
      "model_module_version": "1.5.0",
      "model_name": "HTMLModel",
      "state": {
       "_dom_classes": [],
       "_model_module": "@jupyter-widgets/controls",
       "_model_module_version": "1.5.0",
       "_model_name": "HTMLModel",
       "_view_count": null,
       "_view_module": "@jupyter-widgets/controls",
       "_view_module_version": "1.5.0",
       "_view_name": "HTMLView",
       "description": "",
       "description_tooltip": null,
       "layout": "IPY_MODEL_60970252b4284ca9a7673121d0604a1b",
       "placeholder": "​",
       "style": "IPY_MODEL_9561a83c9cdc4fb1844c6c08ef299e2c",
       "value": "100%"
      }
     },
     "bd7ae7a14a064a359cffadafe54dc047": {
      "model_module": "@jupyter-widgets/controls",
      "model_module_version": "1.5.0",
      "model_name": "HTMLModel",
      "state": {
       "_dom_classes": [],
       "_model_module": "@jupyter-widgets/controls",
       "_model_module_version": "1.5.0",
       "_model_name": "HTMLModel",
       "_view_count": null,
       "_view_module": "@jupyter-widgets/controls",
       "_view_module_version": "1.5.0",
       "_view_name": "HTMLView",
       "description": "",
       "description_tooltip": null,
       "layout": "IPY_MODEL_593d80e09f2a4464b70129a781fe0eaa",
       "placeholder": "​",
       "style": "IPY_MODEL_a9b1dd14797f44b8b959f7cc13d8ff16",
       "value": "100%"
      }
     },
     "bd8c2e12beb344b1938883e54643297c": {
      "model_module": "@jupyter-widgets/controls",
      "model_module_version": "1.5.0",
      "model_name": "HBoxModel",
      "state": {
       "_dom_classes": [],
       "_model_module": "@jupyter-widgets/controls",
       "_model_module_version": "1.5.0",
       "_model_name": "HBoxModel",
       "_view_count": null,
       "_view_module": "@jupyter-widgets/controls",
       "_view_module_version": "1.5.0",
       "_view_name": "HBoxView",
       "box_style": "",
       "children": [
        "IPY_MODEL_a3e80388051345f98458554a597b1149",
        "IPY_MODEL_5c420ebacbf442e7aa84118c14b92be9",
        "IPY_MODEL_d1ea34b470d84cc3a35893daac667786"
       ],
       "layout": "IPY_MODEL_ec186789154a48668de740e52c74de70"
      }
     },
     "c1b747134a0c498f9f40384259757bee": {
      "model_module": "@jupyter-widgets/controls",
      "model_module_version": "1.5.0",
      "model_name": "FloatProgressModel",
      "state": {
       "_dom_classes": [],
       "_model_module": "@jupyter-widgets/controls",
       "_model_module_version": "1.5.0",
       "_model_name": "FloatProgressModel",
       "_view_count": null,
       "_view_module": "@jupyter-widgets/controls",
       "_view_module_version": "1.5.0",
       "_view_name": "ProgressView",
       "bar_style": "success",
       "description": "",
       "description_tooltip": null,
       "layout": "IPY_MODEL_f752ef5de00f47c8a65ea088b8e71e9e",
       "max": 410.0,
       "min": 0.0,
       "orientation": "horizontal",
       "style": "IPY_MODEL_7fc599d17f1b418fbd7711bc54b1ba1e",
       "value": 410.0
      }
     },
     "c351117d06f34fafaf9d3ce528469462": {
      "model_module": "@jupyter-widgets/base",
      "model_module_version": "1.2.0",
      "model_name": "LayoutModel",
      "state": {
       "_model_module": "@jupyter-widgets/base",
       "_model_module_version": "1.2.0",
       "_model_name": "LayoutModel",
       "_view_count": null,
       "_view_module": "@jupyter-widgets/base",
       "_view_module_version": "1.2.0",
       "_view_name": "LayoutView",
       "align_content": null,
       "align_items": null,
       "align_self": null,
       "border": null,
       "bottom": null,
       "display": null,
       "flex": null,
       "flex_flow": null,
       "grid_area": null,
       "grid_auto_columns": null,
       "grid_auto_flow": null,
       "grid_auto_rows": null,
       "grid_column": null,
       "grid_gap": null,
       "grid_row": null,
       "grid_template_areas": null,
       "grid_template_columns": null,
       "grid_template_rows": null,
       "height": null,
       "justify_content": null,
       "justify_items": null,
       "left": null,
       "margin": null,
       "max_height": null,
       "max_width": null,
       "min_height": null,
       "min_width": null,
       "object_fit": null,
       "object_position": null,
       "order": null,
       "overflow": null,
       "overflow_x": null,
       "overflow_y": null,
       "padding": null,
       "right": null,
       "top": null,
       "visibility": null,
       "width": null
      }
     },
     "c4c7b4164e544c3489a211d213358287": {
      "model_module": "@jupyter-widgets/controls",
      "model_module_version": "1.5.0",
      "model_name": "ProgressStyleModel",
      "state": {
       "_model_module": "@jupyter-widgets/controls",
       "_model_module_version": "1.5.0",
       "_model_name": "ProgressStyleModel",
       "_view_count": null,
       "_view_module": "@jupyter-widgets/base",
       "_view_module_version": "1.2.0",
       "_view_name": "StyleView",
       "bar_color": null,
       "description_width": ""
      }
     },
     "c8d3663beb344619b02548a20a129b5f": {
      "model_module": "@jupyter-widgets/base",
      "model_module_version": "1.2.0",
      "model_name": "LayoutModel",
      "state": {
       "_model_module": "@jupyter-widgets/base",
       "_model_module_version": "1.2.0",
       "_model_name": "LayoutModel",
       "_view_count": null,
       "_view_module": "@jupyter-widgets/base",
       "_view_module_version": "1.2.0",
       "_view_name": "LayoutView",
       "align_content": null,
       "align_items": null,
       "align_self": null,
       "border": null,
       "bottom": null,
       "display": null,
       "flex": null,
       "flex_flow": null,
       "grid_area": null,
       "grid_auto_columns": null,
       "grid_auto_flow": null,
       "grid_auto_rows": null,
       "grid_column": null,
       "grid_gap": null,
       "grid_row": null,
       "grid_template_areas": null,
       "grid_template_columns": null,
       "grid_template_rows": null,
       "height": null,
       "justify_content": null,
       "justify_items": null,
       "left": null,
       "margin": null,
       "max_height": null,
       "max_width": null,
       "min_height": null,
       "min_width": null,
       "object_fit": null,
       "object_position": null,
       "order": null,
       "overflow": null,
       "overflow_x": null,
       "overflow_y": null,
       "padding": null,
       "right": null,
       "top": null,
       "visibility": null,
       "width": null
      }
     },
     "cafd717b16754bbe9383521c654c0cb1": {
      "model_module": "@jupyter-widgets/base",
      "model_module_version": "1.2.0",
      "model_name": "LayoutModel",
      "state": {
       "_model_module": "@jupyter-widgets/base",
       "_model_module_version": "1.2.0",
       "_model_name": "LayoutModel",
       "_view_count": null,
       "_view_module": "@jupyter-widgets/base",
       "_view_module_version": "1.2.0",
       "_view_name": "LayoutView",
       "align_content": null,
       "align_items": null,
       "align_self": null,
       "border": null,
       "bottom": null,
       "display": null,
       "flex": null,
       "flex_flow": null,
       "grid_area": null,
       "grid_auto_columns": null,
       "grid_auto_flow": null,
       "grid_auto_rows": null,
       "grid_column": null,
       "grid_gap": null,
       "grid_row": null,
       "grid_template_areas": null,
       "grid_template_columns": null,
       "grid_template_rows": null,
       "height": null,
       "justify_content": null,
       "justify_items": null,
       "left": null,
       "margin": null,
       "max_height": null,
       "max_width": null,
       "min_height": null,
       "min_width": null,
       "object_fit": null,
       "object_position": null,
       "order": null,
       "overflow": null,
       "overflow_x": null,
       "overflow_y": null,
       "padding": null,
       "right": null,
       "top": null,
       "visibility": null,
       "width": null
      }
     },
     "cb02fb22e94d43578c84acf64fc8c170": {
      "model_module": "@jupyter-widgets/base",
      "model_module_version": "1.2.0",
      "model_name": "LayoutModel",
      "state": {
       "_model_module": "@jupyter-widgets/base",
       "_model_module_version": "1.2.0",
       "_model_name": "LayoutModel",
       "_view_count": null,
       "_view_module": "@jupyter-widgets/base",
       "_view_module_version": "1.2.0",
       "_view_name": "LayoutView",
       "align_content": null,
       "align_items": null,
       "align_self": null,
       "border": null,
       "bottom": null,
       "display": null,
       "flex": null,
       "flex_flow": null,
       "grid_area": null,
       "grid_auto_columns": null,
       "grid_auto_flow": null,
       "grid_auto_rows": null,
       "grid_column": null,
       "grid_gap": null,
       "grid_row": null,
       "grid_template_areas": null,
       "grid_template_columns": null,
       "grid_template_rows": null,
       "height": null,
       "justify_content": null,
       "justify_items": null,
       "left": null,
       "margin": null,
       "max_height": null,
       "max_width": null,
       "min_height": null,
       "min_width": null,
       "object_fit": null,
       "object_position": null,
       "order": null,
       "overflow": null,
       "overflow_x": null,
       "overflow_y": null,
       "padding": null,
       "right": null,
       "top": null,
       "visibility": null,
       "width": null
      }
     },
     "cb8c239036c5449195ed5a276e89c596": {
      "model_module": "@jupyter-widgets/base",
      "model_module_version": "1.2.0",
      "model_name": "LayoutModel",
      "state": {
       "_model_module": "@jupyter-widgets/base",
       "_model_module_version": "1.2.0",
       "_model_name": "LayoutModel",
       "_view_count": null,
       "_view_module": "@jupyter-widgets/base",
       "_view_module_version": "1.2.0",
       "_view_name": "LayoutView",
       "align_content": null,
       "align_items": null,
       "align_self": null,
       "border": null,
       "bottom": null,
       "display": null,
       "flex": null,
       "flex_flow": null,
       "grid_area": null,
       "grid_auto_columns": null,
       "grid_auto_flow": null,
       "grid_auto_rows": null,
       "grid_column": null,
       "grid_gap": null,
       "grid_row": null,
       "grid_template_areas": null,
       "grid_template_columns": null,
       "grid_template_rows": null,
       "height": null,
       "justify_content": null,
       "justify_items": null,
       "left": null,
       "margin": null,
       "max_height": null,
       "max_width": null,
       "min_height": null,
       "min_width": null,
       "object_fit": null,
       "object_position": null,
       "order": null,
       "overflow": null,
       "overflow_x": null,
       "overflow_y": null,
       "padding": null,
       "right": null,
       "top": null,
       "visibility": null,
       "width": null
      }
     },
     "cc231e2892ce4a7a8db2409284bdf8bc": {
      "model_module": "@jupyter-widgets/controls",
      "model_module_version": "1.5.0",
      "model_name": "ProgressStyleModel",
      "state": {
       "_model_module": "@jupyter-widgets/controls",
       "_model_module_version": "1.5.0",
       "_model_name": "ProgressStyleModel",
       "_view_count": null,
       "_view_module": "@jupyter-widgets/base",
       "_view_module_version": "1.2.0",
       "_view_name": "StyleView",
       "bar_color": null,
       "description_width": ""
      }
     },
     "cc2996affe3343bf811c77122c3fa092": {
      "model_module": "@jupyter-widgets/controls",
      "model_module_version": "1.5.0",
      "model_name": "HBoxModel",
      "state": {
       "_dom_classes": [],
       "_model_module": "@jupyter-widgets/controls",
       "_model_module_version": "1.5.0",
       "_model_name": "HBoxModel",
       "_view_count": null,
       "_view_module": "@jupyter-widgets/controls",
       "_view_module_version": "1.5.0",
       "_view_name": "HBoxView",
       "box_style": "",
       "children": [
        "IPY_MODEL_92dd5d1114054107afa0748d6f3ad1c3",
        "IPY_MODEL_158e2620f8984e118ea5e96e416a2f83",
        "IPY_MODEL_8e7739b4d117452a8b74cac64f6fdf8b"
       ],
       "layout": "IPY_MODEL_c351117d06f34fafaf9d3ce528469462"
      }
     },
     "cd7bd8d1933a4d6aa7a6d5e54ba680cb": {
      "model_module": "@jupyter-widgets/controls",
      "model_module_version": "1.5.0",
      "model_name": "DescriptionStyleModel",
      "state": {
       "_model_module": "@jupyter-widgets/controls",
       "_model_module_version": "1.5.0",
       "_model_name": "DescriptionStyleModel",
       "_view_count": null,
       "_view_module": "@jupyter-widgets/base",
       "_view_module_version": "1.2.0",
       "_view_name": "StyleView",
       "description_width": ""
      }
     },
     "cd99104a23e84edf95c97da79cdeb461": {
      "model_module": "@jupyter-widgets/base",
      "model_module_version": "1.2.0",
      "model_name": "LayoutModel",
      "state": {
       "_model_module": "@jupyter-widgets/base",
       "_model_module_version": "1.2.0",
       "_model_name": "LayoutModel",
       "_view_count": null,
       "_view_module": "@jupyter-widgets/base",
       "_view_module_version": "1.2.0",
       "_view_name": "LayoutView",
       "align_content": null,
       "align_items": null,
       "align_self": null,
       "border": null,
       "bottom": null,
       "display": null,
       "flex": null,
       "flex_flow": null,
       "grid_area": null,
       "grid_auto_columns": null,
       "grid_auto_flow": null,
       "grid_auto_rows": null,
       "grid_column": null,
       "grid_gap": null,
       "grid_row": null,
       "grid_template_areas": null,
       "grid_template_columns": null,
       "grid_template_rows": null,
       "height": null,
       "justify_content": null,
       "justify_items": null,
       "left": null,
       "margin": null,
       "max_height": null,
       "max_width": null,
       "min_height": null,
       "min_width": null,
       "object_fit": null,
       "object_position": null,
       "order": null,
       "overflow": null,
       "overflow_x": null,
       "overflow_y": null,
       "padding": null,
       "right": null,
       "top": null,
       "visibility": null,
       "width": null
      }
     },
     "d1ea34b470d84cc3a35893daac667786": {
      "model_module": "@jupyter-widgets/controls",
      "model_module_version": "1.5.0",
      "model_name": "HTMLModel",
      "state": {
       "_dom_classes": [],
       "_model_module": "@jupyter-widgets/controls",
       "_model_module_version": "1.5.0",
       "_model_name": "HTMLModel",
       "_view_count": null,
       "_view_module": "@jupyter-widgets/controls",
       "_view_module_version": "1.5.0",
       "_view_name": "HTMLView",
       "description": "",
       "description_tooltip": null,
       "layout": "IPY_MODEL_6ca21f75dec7446a8dd461235fa37084",
       "placeholder": "​",
       "style": "IPY_MODEL_f99ef12ff6ae4c92bd8055d1a22d840b",
       "value": " 410/410 [06:24&lt;00:00,  1.30it/s]"
      }
     },
     "d612832f0105407b8ab8d34aef704f5b": {
      "model_module": "@jupyter-widgets/controls",
      "model_module_version": "1.5.0",
      "model_name": "DescriptionStyleModel",
      "state": {
       "_model_module": "@jupyter-widgets/controls",
       "_model_module_version": "1.5.0",
       "_model_name": "DescriptionStyleModel",
       "_view_count": null,
       "_view_module": "@jupyter-widgets/base",
       "_view_module_version": "1.2.0",
       "_view_name": "StyleView",
       "description_width": ""
      }
     },
     "d6a99e008a46474a9f5563ecd23339da": {
      "model_module": "@jupyter-widgets/controls",
      "model_module_version": "1.5.0",
      "model_name": "HBoxModel",
      "state": {
       "_dom_classes": [],
       "_model_module": "@jupyter-widgets/controls",
       "_model_module_version": "1.5.0",
       "_model_name": "HBoxModel",
       "_view_count": null,
       "_view_module": "@jupyter-widgets/controls",
       "_view_module_version": "1.5.0",
       "_view_name": "HBoxView",
       "box_style": "",
       "children": [
        "IPY_MODEL_42dba28d92834f659b46f70649e53f2d",
        "IPY_MODEL_c1b747134a0c498f9f40384259757bee",
        "IPY_MODEL_fe6b491cecf34a699b7aad2089189153"
       ],
       "layout": "IPY_MODEL_06e28207eb92490db54ad78bf36cce14"
      }
     },
     "dd866aed295947abb10b767ca7709703": {
      "model_module": "@jupyter-widgets/controls",
      "model_module_version": "1.5.0",
      "model_name": "DescriptionStyleModel",
      "state": {
       "_model_module": "@jupyter-widgets/controls",
       "_model_module_version": "1.5.0",
       "_model_name": "DescriptionStyleModel",
       "_view_count": null,
       "_view_module": "@jupyter-widgets/base",
       "_view_module_version": "1.2.0",
       "_view_name": "StyleView",
       "description_width": ""
      }
     },
     "e569bb4f5cf34ecb9cf0835182b26977": {
      "model_module": "@jupyter-widgets/controls",
      "model_module_version": "1.5.0",
      "model_name": "FloatProgressModel",
      "state": {
       "_dom_classes": [],
       "_model_module": "@jupyter-widgets/controls",
       "_model_module_version": "1.5.0",
       "_model_name": "FloatProgressModel",
       "_view_count": null,
       "_view_module": "@jupyter-widgets/controls",
       "_view_module_version": "1.5.0",
       "_view_name": "ProgressView",
       "bar_style": "success",
       "description": "",
       "description_tooltip": null,
       "layout": "IPY_MODEL_cafd717b16754bbe9383521c654c0cb1",
       "max": 266860719.0,
       "min": 0.0,
       "orientation": "horizontal",
       "style": "IPY_MODEL_cc231e2892ce4a7a8db2409284bdf8bc",
       "value": 266860719.0
      }
     },
     "e9fd621550ab47909a639c7e7021ba4b": {
      "model_module": "@jupyter-widgets/base",
      "model_module_version": "1.2.0",
      "model_name": "LayoutModel",
      "state": {
       "_model_module": "@jupyter-widgets/base",
       "_model_module_version": "1.2.0",
       "_model_name": "LayoutModel",
       "_view_count": null,
       "_view_module": "@jupyter-widgets/base",
       "_view_module_version": "1.2.0",
       "_view_name": "LayoutView",
       "align_content": null,
       "align_items": null,
       "align_self": null,
       "border": null,
       "bottom": null,
       "display": null,
       "flex": null,
       "flex_flow": null,
       "grid_area": null,
       "grid_auto_columns": null,
       "grid_auto_flow": null,
       "grid_auto_rows": null,
       "grid_column": null,
       "grid_gap": null,
       "grid_row": null,
       "grid_template_areas": null,
       "grid_template_columns": null,
       "grid_template_rows": null,
       "height": null,
       "justify_content": null,
       "justify_items": null,
       "left": null,
       "margin": null,
       "max_height": null,
       "max_width": null,
       "min_height": null,
       "min_width": null,
       "object_fit": null,
       "object_position": null,
       "order": null,
       "overflow": null,
       "overflow_x": null,
       "overflow_y": null,
       "padding": null,
       "right": null,
       "top": null,
       "visibility": null,
       "width": null
      }
     },
     "ec186789154a48668de740e52c74de70": {
      "model_module": "@jupyter-widgets/base",
      "model_module_version": "1.2.0",
      "model_name": "LayoutModel",
      "state": {
       "_model_module": "@jupyter-widgets/base",
       "_model_module_version": "1.2.0",
       "_model_name": "LayoutModel",
       "_view_count": null,
       "_view_module": "@jupyter-widgets/base",
       "_view_module_version": "1.2.0",
       "_view_name": "LayoutView",
       "align_content": null,
       "align_items": null,
       "align_self": null,
       "border": null,
       "bottom": null,
       "display": null,
       "flex": null,
       "flex_flow": null,
       "grid_area": null,
       "grid_auto_columns": null,
       "grid_auto_flow": null,
       "grid_auto_rows": null,
       "grid_column": null,
       "grid_gap": null,
       "grid_row": null,
       "grid_template_areas": null,
       "grid_template_columns": null,
       "grid_template_rows": null,
       "height": null,
       "justify_content": null,
       "justify_items": null,
       "left": null,
       "margin": null,
       "max_height": null,
       "max_width": null,
       "min_height": null,
       "min_width": null,
       "object_fit": null,
       "object_position": null,
       "order": null,
       "overflow": null,
       "overflow_x": null,
       "overflow_y": null,
       "padding": null,
       "right": null,
       "top": null,
       "visibility": null,
       "width": null
      }
     },
     "f752ef5de00f47c8a65ea088b8e71e9e": {
      "model_module": "@jupyter-widgets/base",
      "model_module_version": "1.2.0",
      "model_name": "LayoutModel",
      "state": {
       "_model_module": "@jupyter-widgets/base",
       "_model_module_version": "1.2.0",
       "_model_name": "LayoutModel",
       "_view_count": null,
       "_view_module": "@jupyter-widgets/base",
       "_view_module_version": "1.2.0",
       "_view_name": "LayoutView",
       "align_content": null,
       "align_items": null,
       "align_self": null,
       "border": null,
       "bottom": null,
       "display": null,
       "flex": null,
       "flex_flow": null,
       "grid_area": null,
       "grid_auto_columns": null,
       "grid_auto_flow": null,
       "grid_auto_rows": null,
       "grid_column": null,
       "grid_gap": null,
       "grid_row": null,
       "grid_template_areas": null,
       "grid_template_columns": null,
       "grid_template_rows": null,
       "height": null,
       "justify_content": null,
       "justify_items": null,
       "left": null,
       "margin": null,
       "max_height": null,
       "max_width": null,
       "min_height": null,
       "min_width": null,
       "object_fit": null,
       "object_position": null,
       "order": null,
       "overflow": null,
       "overflow_x": null,
       "overflow_y": null,
       "padding": null,
       "right": null,
       "top": null,
       "visibility": null,
       "width": null
      }
     },
     "f99ef12ff6ae4c92bd8055d1a22d840b": {
      "model_module": "@jupyter-widgets/controls",
      "model_module_version": "1.5.0",
      "model_name": "DescriptionStyleModel",
      "state": {
       "_model_module": "@jupyter-widgets/controls",
       "_model_module_version": "1.5.0",
       "_model_name": "DescriptionStyleModel",
       "_view_count": null,
       "_view_module": "@jupyter-widgets/base",
       "_view_module_version": "1.2.0",
       "_view_name": "StyleView",
       "description_width": ""
      }
     },
     "fa91e4a49c48471aa7e83f5a7b1d788e": {
      "model_module": "@jupyter-widgets/base",
      "model_module_version": "1.2.0",
      "model_name": "LayoutModel",
      "state": {
       "_model_module": "@jupyter-widgets/base",
       "_model_module_version": "1.2.0",
       "_model_name": "LayoutModel",
       "_view_count": null,
       "_view_module": "@jupyter-widgets/base",
       "_view_module_version": "1.2.0",
       "_view_name": "LayoutView",
       "align_content": null,
       "align_items": null,
       "align_self": null,
       "border": null,
       "bottom": null,
       "display": null,
       "flex": null,
       "flex_flow": null,
       "grid_area": null,
       "grid_auto_columns": null,
       "grid_auto_flow": null,
       "grid_auto_rows": null,
       "grid_column": null,
       "grid_gap": null,
       "grid_row": null,
       "grid_template_areas": null,
       "grid_template_columns": null,
       "grid_template_rows": null,
       "height": null,
       "justify_content": null,
       "justify_items": null,
       "left": null,
       "margin": null,
       "max_height": null,
       "max_width": null,
       "min_height": null,
       "min_width": null,
       "object_fit": null,
       "object_position": null,
       "order": null,
       "overflow": null,
       "overflow_x": null,
       "overflow_y": null,
       "padding": null,
       "right": null,
       "top": null,
       "visibility": null,
       "width": null
      }
     },
     "fe6b491cecf34a699b7aad2089189153": {
      "model_module": "@jupyter-widgets/controls",
      "model_module_version": "1.5.0",
      "model_name": "HTMLModel",
      "state": {
       "_dom_classes": [],
       "_model_module": "@jupyter-widgets/controls",
       "_model_module_version": "1.5.0",
       "_model_name": "HTMLModel",
       "_view_count": null,
       "_view_module": "@jupyter-widgets/controls",
       "_view_module_version": "1.5.0",
       "_view_name": "HTMLView",
       "description": "",
       "description_tooltip": null,
       "layout": "IPY_MODEL_685d04bd28394651b0b057a9c3789bf8",
       "placeholder": "​",
       "style": "IPY_MODEL_6eec4f745c7840b3909d52b4608c9fd0",
       "value": " 410/410 [06:23&lt;00:00,  1.32it/s]"
      }
     }
    },
    "version_major": 2,
    "version_minor": 0
   }
  }
 },
 "nbformat": 4,
 "nbformat_minor": 5
}
