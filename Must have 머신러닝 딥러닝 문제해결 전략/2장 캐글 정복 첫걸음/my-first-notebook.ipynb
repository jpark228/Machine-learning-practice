{
 "cells": [
  {
   "cell_type": "code",
   "execution_count": 1,
   "id": "4f5e4388",
   "metadata": {
    "_cell_guid": "b1076dfc-b9ad-4769-8c92-a6c4dae69d19",
    "_uuid": "8f2839f25d086af736a60e9eeb907d3b93b6e0e5",
    "execution": {
     "iopub.execute_input": "2022-04-30T06:52:23.121474Z",
     "iopub.status.busy": "2022-04-30T06:52:23.120909Z",
     "iopub.status.idle": "2022-04-30T06:52:23.140095Z",
     "shell.execute_reply": "2022-04-30T06:52:23.139410Z"
    },
    "papermill": {
     "duration": 0.035463,
     "end_time": "2022-04-30T06:52:23.142952",
     "exception": false,
     "start_time": "2022-04-30T06:52:23.107489",
     "status": "completed"
    },
    "tags": []
   },
   "outputs": [
    {
     "name": "stdout",
     "output_type": "stream",
     "text": [
      "/kaggle/input/titanic/train.csv\n",
      "/kaggle/input/titanic/test.csv\n",
      "/kaggle/input/titanic/gender_submission.csv\n"
     ]
    }
   ],
   "source": [
    "# This Python 3 environment comes with many helpful analytics libraries installed\n",
    "# It is defined by the kaggle/python Docker image: https://github.com/kaggle/docker-python\n",
    "# For example, here's several helpful packages to load\n",
    "\n",
    "import numpy as np # linear algebra\n",
    "import pandas as pd # data processing, CSV file I/O (e.g. pd.read_csv)\n",
    "\n",
    "# Input data files are available in the read-only \"../input/\" directory\n",
    "# For example, running this (by clicking run or pressing Shift+Enter) will list all files under the input directory\n",
    "\n",
    "import os\n",
    "for dirname, _, filenames in os.walk('/kaggle/input'):\n",
    "    for filename in filenames:\n",
    "        print(os.path.join(dirname, filename))\n",
    "\n",
    "# You can write up to 20GB to the current directory (/kaggle/working/) that gets preserved as output when you create a version using \"Save & Run All\" \n",
    "# You can also write temporary files to /kaggle/temp/, but they won't be saved outside of the current session"
   ]
  },
  {
   "cell_type": "code",
   "execution_count": 2,
   "id": "1be4f246",
   "metadata": {
    "execution": {
     "iopub.execute_input": "2022-04-30T06:52:23.165225Z",
     "iopub.status.busy": "2022-04-30T06:52:23.164867Z",
     "iopub.status.idle": "2022-04-30T06:52:23.169963Z",
     "shell.execute_reply": "2022-04-30T06:52:23.169082Z"
    },
    "papermill": {
     "duration": 0.019039,
     "end_time": "2022-04-30T06:52:23.172737",
     "exception": false,
     "start_time": "2022-04-30T06:52:23.153698",
     "status": "completed"
    },
    "tags": []
   },
   "outputs": [
    {
     "name": "stdout",
     "output_type": "stream",
     "text": [
      "Hello, Kaggle\n"
     ]
    }
   ],
   "source": [
    "print('Hello, Kaggle')"
   ]
  },
  {
   "cell_type": "markdown",
   "id": "1816fcc1",
   "metadata": {
    "papermill": {
     "duration": 0.010355,
     "end_time": "2022-04-30T06:52:23.193633",
     "exception": false,
     "start_time": "2022-04-30T06:52:23.183278",
     "status": "completed"
    },
    "tags": []
   },
   "source": [
    "# My First Notebook"
   ]
  },
  {
   "cell_type": "code",
   "execution_count": 3,
   "id": "f0b52944",
   "metadata": {
    "execution": {
     "iopub.execute_input": "2022-04-30T06:52:23.217818Z",
     "iopub.status.busy": "2022-04-30T06:52:23.217291Z",
     "iopub.status.idle": "2022-04-30T06:52:23.222516Z",
     "shell.execute_reply": "2022-04-30T06:52:23.221674Z"
    },
    "papermill": {
     "duration": 0.019795,
     "end_time": "2022-04-30T06:52:23.224673",
     "exception": false,
     "start_time": "2022-04-30T06:52:23.204878",
     "status": "completed"
    },
    "tags": []
   },
   "outputs": [
    {
     "name": "stdout",
     "output_type": "stream",
     "text": [
      "3.7.12 | packaged by conda-forge | (default, Oct 26 2021, 06:08:53) \n",
      "[GCC 9.4.0]\n"
     ]
    }
   ],
   "source": [
    "import sys \n",
    "print(sys.version)"
   ]
  },
  {
   "cell_type": "code",
   "execution_count": 4,
   "id": "92a0b923",
   "metadata": {
    "execution": {
     "iopub.execute_input": "2022-04-30T06:52:23.248091Z",
     "iopub.status.busy": "2022-04-30T06:52:23.247585Z",
     "iopub.status.idle": "2022-04-30T06:52:25.881389Z",
     "shell.execute_reply": "2022-04-30T06:52:25.880697Z"
    },
    "papermill": {
     "duration": 2.648797,
     "end_time": "2022-04-30T06:52:25.883955",
     "exception": false,
     "start_time": "2022-04-30T06:52:23.235158",
     "status": "completed"
    },
    "tags": []
   },
   "outputs": [
    {
     "data": {
      "text/html": [
       "<style type='text/css'>\n",
       ".datatable table.frame { margin-bottom: 0; }\n",
       ".datatable table.frame thead { border-bottom: none; }\n",
       ".datatable table.frame tr.coltypes td {  color: #FFFFFF;  line-height: 6px;  padding: 0 0.5em;}\n",
       ".datatable .bool    { background: #DDDD99; }\n",
       ".datatable .object  { background: #565656; }\n",
       ".datatable .int     { background: #5D9E5D; }\n",
       ".datatable .float   { background: #4040CC; }\n",
       ".datatable .str     { background: #CC4040; }\n",
       ".datatable .time    { background: #40CC40; }\n",
       ".datatable .row_index {  background: var(--jp-border-color3);  border-right: 1px solid var(--jp-border-color0);  color: var(--jp-ui-font-color3);  font-size: 9px;}\n",
       ".datatable .frame tbody td { text-align: left; }\n",
       ".datatable .frame tr.coltypes .row_index {  background: var(--jp-border-color0);}\n",
       ".datatable th:nth-child(2) { padding-left: 12px; }\n",
       ".datatable .hellipsis {  color: var(--jp-cell-editor-border-color);}\n",
       ".datatable .vellipsis {  background: var(--jp-layout-color0);  color: var(--jp-cell-editor-border-color);}\n",
       ".datatable .na {  color: var(--jp-cell-editor-border-color);  font-size: 80%;}\n",
       ".datatable .sp {  opacity: 0.25;}\n",
       ".datatable .footer { font-size: 9px; }\n",
       ".datatable .frame_dimensions {  background: var(--jp-border-color3);  border-top: 1px solid var(--jp-border-color0);  color: var(--jp-ui-font-color3);  display: inline-block;  opacity: 0.6;  padding: 1px 10px 1px 5px;}\n",
       "</style>\n"
      ],
      "text/plain": [
       "<IPython.core.display.HTML object>"
      ]
     },
     "metadata": {},
     "output_type": "display_data"
    },
    {
     "name": "stdout",
     "output_type": "stream",
     "text": [
      "numpy:  1.21.6\n",
      "pandas:  1.3.5\n",
      "seaborn:  0.11.2\n",
      "matplotlib:  3.5.1\n",
      "sklearn:  1.0.2\n",
      "scipy:  1.0.2\n",
      "missingno:  0.4.2\n",
      "lightgbm:  3.3.1\n",
      "xgboost: 1.6.0\n"
     ]
    }
   ],
   "source": [
    "import numpy, pandas, seaborn, matplotlib, sklearn, scipy, missingno, lightgbm, xgboost\n",
    "\n",
    "print('numpy: ', numpy.__version__)\n",
    "print('pandas: ', pandas.__version__)\n",
    "print('seaborn: ', seaborn.__version__)\n",
    "print('matplotlib: ', matplotlib.__version__)\n",
    "print('sklearn: ', sklearn.__version__)\n",
    "print('scipy: ', sklearn.__version__)\n",
    "print('missingno: ', missingno.__version__)\n",
    "print('lightgbm: ', lightgbm.__version__)\n",
    "print('xgboost:', xgboost.__version__)"
   ]
  },
  {
   "cell_type": "code",
   "execution_count": 5,
   "id": "669516ce",
   "metadata": {
    "execution": {
     "iopub.execute_input": "2022-04-30T06:52:25.910112Z",
     "iopub.status.busy": "2022-04-30T06:52:25.909454Z",
     "iopub.status.idle": "2022-04-30T06:52:34.715884Z",
     "shell.execute_reply": "2022-04-30T06:52:34.714400Z"
    },
    "papermill": {
     "duration": 8.823114,
     "end_time": "2022-04-30T06:52:34.719042",
     "exception": false,
     "start_time": "2022-04-30T06:52:25.895928",
     "status": "completed"
    },
    "tags": []
   },
   "outputs": [
    {
     "name": "stdout",
     "output_type": "stream",
     "text": [
      "numpy:  1.21.6\n",
      "pandas:  1.3.5\n",
      "matplotlib:  3.5.1\n",
      "sklearn:  1.0.2\n",
      "torch:  1.9.1+cpu\n",
      "torchvision:  0.10.1+cpu\n",
      "cv2:  4.5.4\n",
      "albumentations:  1.1.0\n",
      "transformers:  4.18.0\n"
     ]
    }
   ],
   "source": [
    "import numpy, pandas, matplotlib, sklearn, torch, torchvision, cv2, albumentations, transformers\n",
    "\n",
    "print('numpy: ', numpy.__version__)\n",
    "print('pandas: ', pandas.__version__)\n",
    "print('matplotlib: ', matplotlib.__version__)\n",
    "print('sklearn: ', sklearn.__version__)\n",
    "print('torch: ', torch.__version__)\n",
    "print('torchvision: ', torchvision.__version__)\n",
    "print('cv2: ', cv2.__version__)\n",
    "print('albumentations: ', albumentations.__version__)\n",
    "print('transformers: ', transformers.__version__)"
   ]
  },
  {
   "cell_type": "code",
   "execution_count": 6,
   "id": "f4cbcd09",
   "metadata": {
    "execution": {
     "iopub.execute_input": "2022-04-30T06:52:34.745603Z",
     "iopub.status.busy": "2022-04-30T06:52:34.745281Z",
     "iopub.status.idle": "2022-04-30T06:52:34.772654Z",
     "shell.execute_reply": "2022-04-30T06:52:34.771427Z"
    },
    "papermill": {
     "duration": 0.043265,
     "end_time": "2022-04-30T06:52:34.775088",
     "exception": false,
     "start_time": "2022-04-30T06:52:34.731823",
     "status": "completed"
    },
    "tags": []
   },
   "outputs": [
    {
     "data": {
      "text/html": [
       "<div>\n",
       "<style scoped>\n",
       "    .dataframe tbody tr th:only-of-type {\n",
       "        vertical-align: middle;\n",
       "    }\n",
       "\n",
       "    .dataframe tbody tr th {\n",
       "        vertical-align: top;\n",
       "    }\n",
       "\n",
       "    .dataframe thead th {\n",
       "        text-align: right;\n",
       "    }\n",
       "</style>\n",
       "<table border=\"1\" class=\"dataframe\">\n",
       "  <thead>\n",
       "    <tr style=\"text-align: right;\">\n",
       "      <th></th>\n",
       "      <th>PassengerId</th>\n",
       "      <th>Survived</th>\n",
       "    </tr>\n",
       "  </thead>\n",
       "  <tbody>\n",
       "    <tr>\n",
       "      <th>0</th>\n",
       "      <td>892</td>\n",
       "      <td>0</td>\n",
       "    </tr>\n",
       "    <tr>\n",
       "      <th>1</th>\n",
       "      <td>893</td>\n",
       "      <td>1</td>\n",
       "    </tr>\n",
       "    <tr>\n",
       "      <th>2</th>\n",
       "      <td>894</td>\n",
       "      <td>0</td>\n",
       "    </tr>\n",
       "    <tr>\n",
       "      <th>3</th>\n",
       "      <td>895</td>\n",
       "      <td>0</td>\n",
       "    </tr>\n",
       "    <tr>\n",
       "      <th>4</th>\n",
       "      <td>896</td>\n",
       "      <td>1</td>\n",
       "    </tr>\n",
       "    <tr>\n",
       "      <th>...</th>\n",
       "      <td>...</td>\n",
       "      <td>...</td>\n",
       "    </tr>\n",
       "    <tr>\n",
       "      <th>413</th>\n",
       "      <td>1305</td>\n",
       "      <td>0</td>\n",
       "    </tr>\n",
       "    <tr>\n",
       "      <th>414</th>\n",
       "      <td>1306</td>\n",
       "      <td>1</td>\n",
       "    </tr>\n",
       "    <tr>\n",
       "      <th>415</th>\n",
       "      <td>1307</td>\n",
       "      <td>0</td>\n",
       "    </tr>\n",
       "    <tr>\n",
       "      <th>416</th>\n",
       "      <td>1308</td>\n",
       "      <td>0</td>\n",
       "    </tr>\n",
       "    <tr>\n",
       "      <th>417</th>\n",
       "      <td>1309</td>\n",
       "      <td>0</td>\n",
       "    </tr>\n",
       "  </tbody>\n",
       "</table>\n",
       "<p>418 rows × 2 columns</p>\n",
       "</div>"
      ],
      "text/plain": [
       "     PassengerId  Survived\n",
       "0            892         0\n",
       "1            893         1\n",
       "2            894         0\n",
       "3            895         0\n",
       "4            896         1\n",
       "..           ...       ...\n",
       "413         1305         0\n",
       "414         1306         1\n",
       "415         1307         0\n",
       "416         1308         0\n",
       "417         1309         0\n",
       "\n",
       "[418 rows x 2 columns]"
      ]
     },
     "execution_count": 6,
     "metadata": {},
     "output_type": "execute_result"
    }
   ],
   "source": [
    "import pandas as pd \n",
    "\n",
    "submission = pd.read_csv('/kaggle/input/titanic/gender_submission.csv')\n",
    "submission"
   ]
  },
  {
   "cell_type": "code",
   "execution_count": 7,
   "id": "e9c164db",
   "metadata": {
    "execution": {
     "iopub.execute_input": "2022-04-30T06:52:34.802873Z",
     "iopub.status.busy": "2022-04-30T06:52:34.802544Z",
     "iopub.status.idle": "2022-04-30T06:52:34.811407Z",
     "shell.execute_reply": "2022-04-30T06:52:34.810383Z"
    },
    "papermill": {
     "duration": 0.025884,
     "end_time": "2022-04-30T06:52:34.814250",
     "exception": false,
     "start_time": "2022-04-30T06:52:34.788366",
     "status": "completed"
    },
    "tags": []
   },
   "outputs": [],
   "source": [
    "submission.to_csv('submission.csv', index=False)"
   ]
  }
 ],
 "metadata": {
  "kernelspec": {
   "display_name": "Python 3",
   "language": "python",
   "name": "python3"
  },
  "language_info": {
   "codemirror_mode": {
    "name": "ipython",
    "version": 3
   },
   "file_extension": ".py",
   "mimetype": "text/x-python",
   "name": "python",
   "nbconvert_exporter": "python",
   "pygments_lexer": "ipython3",
   "version": "3.7.12"
  },
  "papermill": {
   "default_parameters": {},
   "duration": 26.278721,
   "end_time": "2022-04-30T06:52:37.816035",
   "environment_variables": {},
   "exception": null,
   "input_path": "__notebook__.ipynb",
   "output_path": "__notebook__.ipynb",
   "parameters": {},
   "start_time": "2022-04-30T06:52:11.537314",
   "version": "2.3.4"
  }
 },
 "nbformat": 4,
 "nbformat_minor": 5
}
