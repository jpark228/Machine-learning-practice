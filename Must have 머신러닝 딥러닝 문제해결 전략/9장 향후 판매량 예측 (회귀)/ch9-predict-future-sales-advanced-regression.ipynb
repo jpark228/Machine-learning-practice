{
 "cells": [
  {
   "cell_type": "code",
   "execution_count": 1,
   "id": "4aee8424",
   "metadata": {
    "_cell_guid": "b1076dfc-b9ad-4769-8c92-a6c4dae69d19",
    "_uuid": "8f2839f25d086af736a60e9eeb907d3b93b6e0e5",
    "execution": {
     "iopub.execute_input": "2022-05-05T18:45:55.806628Z",
     "iopub.status.busy": "2022-05-05T18:45:55.806127Z",
     "iopub.status.idle": "2022-05-05T18:45:55.821420Z",
     "shell.execute_reply": "2022-05-05T18:45:55.820723Z"
    },
    "papermill": {
     "duration": 0.078971,
     "end_time": "2022-05-05T18:45:55.823707",
     "exception": false,
     "start_time": "2022-05-05T18:45:55.744736",
     "status": "completed"
    },
    "tags": []
   },
   "outputs": [
    {
     "name": "stdout",
     "output_type": "stream",
     "text": [
      "/kaggle/input/competitive-data-science-predict-future-sales/items.csv\n",
      "/kaggle/input/competitive-data-science-predict-future-sales/sample_submission.csv\n",
      "/kaggle/input/competitive-data-science-predict-future-sales/item_categories.csv\n",
      "/kaggle/input/competitive-data-science-predict-future-sales/sales_train.csv\n",
      "/kaggle/input/competitive-data-science-predict-future-sales/shops.csv\n",
      "/kaggle/input/competitive-data-science-predict-future-sales/test.csv\n"
     ]
    }
   ],
   "source": [
    "# This Python 3 environment comes with many helpful analytics libraries installed\n",
    "# It is defined by the kaggle/python Docker image: https://github.com/kaggle/docker-python\n",
    "# For example, here's several helpful packages to load\n",
    "\n",
    "import numpy as np # linear algebra\n",
    "import pandas as pd # data processing, CSV file I/O (e.g. pd.read_csv)\n",
    "\n",
    "# Input data files are available in the read-only \"../input/\" directory\n",
    "# For example, running this (by clicking run or pressing Shift+Enter) will list all files under the input directory\n",
    "\n",
    "import os\n",
    "for dirname, _, filenames in os.walk('/kaggle/input'):\n",
    "    for filename in filenames:\n",
    "        print(os.path.join(dirname, filename))\n",
    "\n",
    "# You can write up to 20GB to the current directory (/kaggle/working/) that gets preserved as output when you create a version using \"Save & Run All\" \n",
    "# You can also write temporary files to /kaggle/temp/, but they won't be saved outside of the current session"
   ]
  },
  {
   "cell_type": "code",
   "execution_count": 2,
   "id": "d03939b2",
   "metadata": {
    "execution": {
     "iopub.execute_input": "2022-05-05T18:45:55.946639Z",
     "iopub.status.busy": "2022-05-05T18:45:55.946108Z",
     "iopub.status.idle": "2022-05-05T18:45:58.872726Z",
     "shell.execute_reply": "2022-05-05T18:45:58.872145Z"
    },
    "papermill": {
     "duration": 2.989108,
     "end_time": "2022-05-05T18:45:58.875000",
     "exception": false,
     "start_time": "2022-05-05T18:45:55.885892",
     "status": "completed"
    },
    "tags": []
   },
   "outputs": [],
   "source": [
    "import numpy as np\n",
    "import pandas as pd\n",
    "import warnings\n",
    "\n",
    "warnings.filterwarnings(action='ignore') # 경고 메시지 생략\n",
    "\n",
    "# 데이터 경로\n",
    "data_path = '/kaggle/input/competitive-data-science-predict-future-sales/'\n",
    "\n",
    "sales_train = pd.read_csv(data_path + 'sales_train.csv')\n",
    "shops = pd.read_csv(data_path + 'shops.csv')\n",
    "items = pd.read_csv(data_path + 'items.csv')\n",
    "item_categories = pd.read_csv(data_path + 'item_categories.csv')\n",
    "test = pd.read_csv(data_path + 'test.csv')\n",
    "submission = pd.read_csv(data_path + 'sample_submission.csv')"
   ]
  },
  {
   "cell_type": "markdown",
   "id": "306367b6",
   "metadata": {
    "papermill": {
     "duration": 0.057673,
     "end_time": "2022-05-05T18:45:58.992012",
     "exception": false,
     "start_time": "2022-05-05T18:45:58.934339",
     "status": "completed"
    },
    "tags": []
   },
   "source": [
    "Feature Engineering I: Feature language translation & data downcast"
   ]
  },
  {
   "cell_type": "code",
   "execution_count": 3,
   "id": "328481f6",
   "metadata": {
    "execution": {
     "iopub.execute_input": "2022-05-05T18:45:59.110781Z",
     "iopub.status.busy": "2022-05-05T18:45:59.110511Z",
     "iopub.status.idle": "2022-05-05T18:45:59.199829Z",
     "shell.execute_reply": "2022-05-05T18:45:59.198988Z"
    },
    "papermill": {
     "duration": 0.150888,
     "end_time": "2022-05-05T18:45:59.202178",
     "exception": false,
     "start_time": "2022-05-05T18:45:59.051290",
     "status": "completed"
    },
    "tags": []
   },
   "outputs": [],
   "source": [
    "sales_train = sales_train.rename(columns={'date': '날짜', \n",
    "                                          'date_block_num': '월ID',\n",
    "                                          'shop_id': '상점ID',\n",
    "                                          'item_id': '상품ID',\n",
    "                                          'item_price': '판매가',\n",
    "                                          'item_cnt_day': '판매량'})\n",
    "\n",
    "shops = shops.rename(columns={'shop_name': '상점명',\n",
    "                              'shop_id': '상점ID'})\n",
    "\n",
    "items = items.rename(columns={'item_name': '상품명',\n",
    "                              'item_id': '상품ID',\n",
    "                              'item_category_id': '상품분류ID'})\n",
    "\n",
    "item_categories = item_categories.rename(columns=\n",
    "                                         {'item_category_name': '상품분류명',\n",
    "                                          'item_category_id': '상품분류ID'})\n",
    "\n",
    "test = test.rename(columns={'shop_id': '상점ID',\n",
    "                            'item_id': '상품ID'})"
   ]
  },
  {
   "cell_type": "code",
   "execution_count": 4,
   "id": "10bcd9c2",
   "metadata": {
    "execution": {
     "iopub.execute_input": "2022-05-05T18:45:59.319879Z",
     "iopub.status.busy": "2022-05-05T18:45:59.319581Z",
     "iopub.status.idle": "2022-05-05T18:45:59.658349Z",
     "shell.execute_reply": "2022-05-05T18:45:59.657523Z"
    },
    "papermill": {
     "duration": 0.400121,
     "end_time": "2022-05-05T18:45:59.660619",
     "exception": false,
     "start_time": "2022-05-05T18:45:59.260498",
     "status": "completed"
    },
    "tags": []
   },
   "outputs": [
    {
     "name": "stdout",
     "output_type": "stream",
     "text": [
      "62.5% 압축됨\n",
      "38.6% 압축됨\n",
      "54.2% 압축됨\n",
      "39.9% 압축됨\n",
      "70.8% 압축됨\n"
     ]
    }
   ],
   "source": [
    "def downcast(df, verbose=True):\n",
    "    start_mem = df.memory_usage().sum() / 1024**2\n",
    "    for col in df.columns:\n",
    "        dtype_name = df[col].dtype.name\n",
    "        if dtype_name == 'object':\n",
    "            pass\n",
    "        elif dtype_name == 'bool':\n",
    "            df[col] = df[col].astype('int8')\n",
    "        elif dtype_name.startswith('int') or (df[col].round() == df[col]).all():\n",
    "            df[col] = pd.to_numeric(df[col], downcast='integer')\n",
    "        else:\n",
    "            df[col] = pd.to_numeric(df[col], downcast='float')\n",
    "    end_mem = df.memory_usage().sum() / 1024**2\n",
    "    if verbose:\n",
    "        print('{:.1f}% 압축됨'.format(100 * (start_mem - end_mem) / start_mem))\n",
    "    \n",
    "    return df\n",
    "\n",
    "all_df = [sales_train, shops, items, item_categories, test]\n",
    "for df in all_df:\n",
    "    df = downcast(df)"
   ]
  },
  {
   "cell_type": "markdown",
   "id": "2b7848ab",
   "metadata": {
    "papermill": {
     "duration": 0.065116,
     "end_time": "2022-05-05T18:45:59.785154",
     "exception": false,
     "start_time": "2022-05-05T18:45:59.720038",
     "status": "completed"
    },
    "tags": []
   },
   "source": [
    "Feature Engineering II: manipulating individual features "
   ]
  },
  {
   "cell_type": "code",
   "execution_count": 5,
   "id": "b18df636",
   "metadata": {
    "execution": {
     "iopub.execute_input": "2022-05-05T18:45:59.906480Z",
     "iopub.status.busy": "2022-05-05T18:45:59.905661Z",
     "iopub.status.idle": "2022-05-05T18:46:00.346429Z",
     "shell.execute_reply": "2022-05-05T18:46:00.345617Z"
    },
    "papermill": {
     "duration": 0.503485,
     "end_time": "2022-05-05T18:46:00.348734",
     "exception": false,
     "start_time": "2022-05-05T18:45:59.845249",
     "status": "completed"
    },
    "tags": []
   },
   "outputs": [],
   "source": [
    "sales_train = sales_train[sales_train['판매가'] > 0]\n",
    "sales_train = sales_train[sales_train['판매가'] < 50000]\n",
    "\n",
    "sales_train = sales_train[sales_train['판매량'] > 0]\n",
    "sales_train = sales_train[sales_train['판매량'] < 1000]"
   ]
  },
  {
   "cell_type": "code",
   "execution_count": 6,
   "id": "e249b7c1",
   "metadata": {
    "execution": {
     "iopub.execute_input": "2022-05-05T18:46:00.467570Z",
     "iopub.status.busy": "2022-05-05T18:46:00.466938Z",
     "iopub.status.idle": "2022-05-05T18:46:00.474488Z",
     "shell.execute_reply": "2022-05-05T18:46:00.473592Z"
    },
    "papermill": {
     "duration": 0.07019,
     "end_time": "2022-05-05T18:46:00.477525",
     "exception": false,
     "start_time": "2022-05-05T18:46:00.407335",
     "status": "completed"
    },
    "tags": []
   },
   "outputs": [
    {
     "name": "stdout",
     "output_type": "stream",
     "text": [
      "!Якутск Орджоникидзе, 56 фран || Якутск Орджоникидзе, 56\n",
      "!Якутск ТЦ \"Центральный\" фран || Якутск ТЦ \"Центральный\"\n",
      "Жуковский ул. Чкалова 39м? || Жуковский ул. Чкалова 39м²\n",
      "РостовНаДону ТРК \"Мегацентр Горизонт\" || РостовНаДону ТРК \"Мегацентр Горизонт\" Островной\n"
     ]
    }
   ],
   "source": [
    "print(shops['상점명'][0], '||', shops['상점명'][57])\n",
    "print(shops['상점명'][1], '||', shops['상점명'][58])\n",
    "print(shops['상점명'][10], '||', shops['상점명'][11])\n",
    "print(shops['상점명'][39], '||', shops['상점명'][40])"
   ]
  },
  {
   "cell_type": "code",
   "execution_count": 7,
   "id": "6507005f",
   "metadata": {
    "execution": {
     "iopub.execute_input": "2022-05-05T18:46:00.597712Z",
     "iopub.status.busy": "2022-05-05T18:46:00.597447Z",
     "iopub.status.idle": "2022-05-05T18:46:00.619965Z",
     "shell.execute_reply": "2022-05-05T18:46:00.619290Z"
    },
    "papermill": {
     "duration": 0.08476,
     "end_time": "2022-05-05T18:46:00.622190",
     "exception": false,
     "start_time": "2022-05-05T18:46:00.537430",
     "status": "completed"
    },
    "tags": []
   },
   "outputs": [],
   "source": [
    "sales_train.loc[sales_train['상점ID'] == 0, '상점ID'] = 57\n",
    "sales_train.loc[sales_train['상점ID'] == 1, '상점ID'] = 58\n",
    "sales_train.loc[sales_train['상점ID'] == 10, '상점ID'] = 11\n",
    "sales_train.loc[sales_train['상점ID'] == 39, '상점ID'] = 40\n",
    "\n",
    "test.loc[test['상점ID'] == 0, '상점ID'] = 57\n",
    "test.loc[test['상점ID'] == 1, '상점ID'] = 58\n",
    "test.loc[test['상점ID'] == 10, '상점ID'] = 11\n",
    "test.loc[test['상점ID'] == 39, '상점ID'] = 40"
   ]
  },
  {
   "cell_type": "code",
   "execution_count": 8,
   "id": "2c8fc419",
   "metadata": {
    "execution": {
     "iopub.execute_input": "2022-05-05T18:46:00.741750Z",
     "iopub.status.busy": "2022-05-05T18:46:00.741481Z",
     "iopub.status.idle": "2022-05-05T18:46:00.747524Z",
     "shell.execute_reply": "2022-05-05T18:46:00.746684Z"
    },
    "papermill": {
     "duration": 0.06817,
     "end_time": "2022-05-05T18:46:00.749401",
     "exception": false,
     "start_time": "2022-05-05T18:46:00.681231",
     "status": "completed"
    },
    "tags": []
   },
   "outputs": [],
   "source": [
    "shops['도시'] = shops['상점명'].apply(lambda x: x.split()[0])"
   ]
  },
  {
   "cell_type": "code",
   "execution_count": 9,
   "id": "442025f9",
   "metadata": {
    "execution": {
     "iopub.execute_input": "2022-05-05T18:46:00.869678Z",
     "iopub.status.busy": "2022-05-05T18:46:00.869210Z",
     "iopub.status.idle": "2022-05-05T18:46:00.877987Z",
     "shell.execute_reply": "2022-05-05T18:46:00.877376Z"
    },
    "papermill": {
     "duration": 0.072243,
     "end_time": "2022-05-05T18:46:00.880453",
     "exception": false,
     "start_time": "2022-05-05T18:46:00.808210",
     "status": "completed"
    },
    "tags": []
   },
   "outputs": [
    {
     "data": {
      "text/plain": [
       "array(['!Якутск', 'Адыгея', 'Балашиха', 'Волжский', 'Вологда', 'Воронеж',\n",
       "       'Выездная', 'Жуковский', 'Интернет-магазин', 'Казань', 'Калуга',\n",
       "       'Коломна', 'Красноярск', 'Курск', 'Москва', 'Мытищи', 'Н.Новгород',\n",
       "       'Новосибирск', 'Омск', 'РостовНаДону', 'СПб', 'Самара', 'Сергиев',\n",
       "       'Сургут', 'Томск', 'Тюмень', 'Уфа', 'Химки', 'Цифровой', 'Чехов',\n",
       "       'Якутск', 'Ярославль'], dtype=object)"
      ]
     },
     "execution_count": 9,
     "metadata": {},
     "output_type": "execute_result"
    }
   ],
   "source": [
    "shops['도시'].unique()"
   ]
  },
  {
   "cell_type": "code",
   "execution_count": 10,
   "id": "714bab4e",
   "metadata": {
    "execution": {
     "iopub.execute_input": "2022-05-05T18:46:01.001956Z",
     "iopub.status.busy": "2022-05-05T18:46:01.001135Z",
     "iopub.status.idle": "2022-05-05T18:46:01.006412Z",
     "shell.execute_reply": "2022-05-05T18:46:01.005616Z"
    },
    "papermill": {
     "duration": 0.067573,
     "end_time": "2022-05-05T18:46:01.008311",
     "exception": false,
     "start_time": "2022-05-05T18:46:00.940738",
     "status": "completed"
    },
    "tags": []
   },
   "outputs": [],
   "source": [
    "shops.loc[shops['도시'] == '!Якутск', '도시'] = 'Якутск'"
   ]
  },
  {
   "cell_type": "code",
   "execution_count": 11,
   "id": "d2fd01cf",
   "metadata": {
    "execution": {
     "iopub.execute_input": "2022-05-05T18:46:01.128530Z",
     "iopub.status.busy": "2022-05-05T18:46:01.128067Z",
     "iopub.status.idle": "2022-05-05T18:46:02.081750Z",
     "shell.execute_reply": "2022-05-05T18:46:02.080820Z"
    },
    "papermill": {
     "duration": 1.017136,
     "end_time": "2022-05-05T18:46:02.084640",
     "exception": false,
     "start_time": "2022-05-05T18:46:01.067504",
     "status": "completed"
    },
    "tags": []
   },
   "outputs": [],
   "source": [
    "from sklearn.preprocessing import LabelEncoder\n",
    "\n",
    "label_encoder = LabelEncoder()\n",
    "shops['도시'] = label_encoder.fit_transform(shops['도시'])"
   ]
  },
  {
   "cell_type": "code",
   "execution_count": 12,
   "id": "b233202e",
   "metadata": {
    "execution": {
     "iopub.execute_input": "2022-05-05T18:46:02.204631Z",
     "iopub.status.busy": "2022-05-05T18:46:02.204376Z",
     "iopub.status.idle": "2022-05-05T18:46:02.217969Z",
     "shell.execute_reply": "2022-05-05T18:46:02.217107Z"
    },
    "papermill": {
     "duration": 0.076445,
     "end_time": "2022-05-05T18:46:02.220013",
     "exception": false,
     "start_time": "2022-05-05T18:46:02.143568",
     "status": "completed"
    },
    "tags": []
   },
   "outputs": [
    {
     "data": {
      "text/html": [
       "<div>\n",
       "<style scoped>\n",
       "    .dataframe tbody tr th:only-of-type {\n",
       "        vertical-align: middle;\n",
       "    }\n",
       "\n",
       "    .dataframe tbody tr th {\n",
       "        vertical-align: top;\n",
       "    }\n",
       "\n",
       "    .dataframe thead th {\n",
       "        text-align: right;\n",
       "    }\n",
       "</style>\n",
       "<table border=\"1\" class=\"dataframe\">\n",
       "  <thead>\n",
       "    <tr style=\"text-align: right;\">\n",
       "      <th></th>\n",
       "      <th>상점ID</th>\n",
       "      <th>도시</th>\n",
       "    </tr>\n",
       "  </thead>\n",
       "  <tbody>\n",
       "    <tr>\n",
       "      <th>0</th>\n",
       "      <td>0</td>\n",
       "      <td>29</td>\n",
       "    </tr>\n",
       "    <tr>\n",
       "      <th>1</th>\n",
       "      <td>1</td>\n",
       "      <td>29</td>\n",
       "    </tr>\n",
       "    <tr>\n",
       "      <th>2</th>\n",
       "      <td>2</td>\n",
       "      <td>0</td>\n",
       "    </tr>\n",
       "    <tr>\n",
       "      <th>3</th>\n",
       "      <td>3</td>\n",
       "      <td>1</td>\n",
       "    </tr>\n",
       "    <tr>\n",
       "      <th>4</th>\n",
       "      <td>4</td>\n",
       "      <td>2</td>\n",
       "    </tr>\n",
       "  </tbody>\n",
       "</table>\n",
       "</div>"
      ],
      "text/plain": [
       "   상점ID  도시\n",
       "0     0  29\n",
       "1     1  29\n",
       "2     2   0\n",
       "3     3   1\n",
       "4     4   2"
      ]
     },
     "execution_count": 12,
     "metadata": {},
     "output_type": "execute_result"
    }
   ],
   "source": [
    "shops = shops.drop('상점명', axis=1)\n",
    "shops.head()"
   ]
  },
  {
   "cell_type": "code",
   "execution_count": 13,
   "id": "1bbba1d2",
   "metadata": {
    "execution": {
     "iopub.execute_input": "2022-05-05T18:46:02.340880Z",
     "iopub.status.busy": "2022-05-05T18:46:02.340317Z",
     "iopub.status.idle": "2022-05-05T18:46:02.345403Z",
     "shell.execute_reply": "2022-05-05T18:46:02.344895Z"
    },
    "papermill": {
     "duration": 0.068017,
     "end_time": "2022-05-05T18:46:02.347301",
     "exception": false,
     "start_time": "2022-05-05T18:46:02.279284",
     "status": "completed"
    },
    "tags": []
   },
   "outputs": [],
   "source": [
    "items = items.drop(['상품명'], axis=1)"
   ]
  },
  {
   "cell_type": "code",
   "execution_count": 14,
   "id": "bf8ed06e",
   "metadata": {
    "execution": {
     "iopub.execute_input": "2022-05-05T18:46:02.467680Z",
     "iopub.status.busy": "2022-05-05T18:46:02.467147Z",
     "iopub.status.idle": "2022-05-05T18:46:02.540601Z",
     "shell.execute_reply": "2022-05-05T18:46:02.539782Z"
    },
    "papermill": {
     "duration": 0.135958,
     "end_time": "2022-05-05T18:46:02.542577",
     "exception": false,
     "start_time": "2022-05-05T18:46:02.406619",
     "status": "completed"
    },
    "tags": []
   },
   "outputs": [
    {
     "data": {
      "text/html": [
       "<div>\n",
       "<style scoped>\n",
       "    .dataframe tbody tr th:only-of-type {\n",
       "        vertical-align: middle;\n",
       "    }\n",
       "\n",
       "    .dataframe tbody tr th {\n",
       "        vertical-align: top;\n",
       "    }\n",
       "\n",
       "    .dataframe thead th {\n",
       "        text-align: right;\n",
       "    }\n",
       "</style>\n",
       "<table border=\"1\" class=\"dataframe\">\n",
       "  <thead>\n",
       "    <tr style=\"text-align: right;\">\n",
       "      <th></th>\n",
       "      <th>상품ID</th>\n",
       "      <th>상품분류ID</th>\n",
       "      <th>첫 판매월</th>\n",
       "    </tr>\n",
       "  </thead>\n",
       "  <tbody>\n",
       "    <tr>\n",
       "      <th>0</th>\n",
       "      <td>0</td>\n",
       "      <td>40</td>\n",
       "      <td>20.0</td>\n",
       "    </tr>\n",
       "    <tr>\n",
       "      <th>1</th>\n",
       "      <td>1</td>\n",
       "      <td>76</td>\n",
       "      <td>15.0</td>\n",
       "    </tr>\n",
       "    <tr>\n",
       "      <th>2</th>\n",
       "      <td>2</td>\n",
       "      <td>40</td>\n",
       "      <td>19.0</td>\n",
       "    </tr>\n",
       "    <tr>\n",
       "      <th>3</th>\n",
       "      <td>3</td>\n",
       "      <td>40</td>\n",
       "      <td>18.0</td>\n",
       "    </tr>\n",
       "    <tr>\n",
       "      <th>4</th>\n",
       "      <td>4</td>\n",
       "      <td>40</td>\n",
       "      <td>20.0</td>\n",
       "    </tr>\n",
       "  </tbody>\n",
       "</table>\n",
       "</div>"
      ],
      "text/plain": [
       "   상품ID  상품분류ID  첫 판매월\n",
       "0     0      40   20.0\n",
       "1     1      76   15.0\n",
       "2     2      40   19.0\n",
       "3     3      40   18.0\n",
       "4     4      40   20.0"
      ]
     },
     "execution_count": 14,
     "metadata": {},
     "output_type": "execute_result"
    }
   ],
   "source": [
    "items['첫 판매월'] = sales_train.groupby('상품ID').agg({'월ID': 'min'})['월ID']\n",
    "items.head()"
   ]
  },
  {
   "cell_type": "code",
   "execution_count": 15,
   "id": "8c8a636d",
   "metadata": {
    "execution": {
     "iopub.execute_input": "2022-05-05T18:46:02.664901Z",
     "iopub.status.busy": "2022-05-05T18:46:02.664602Z",
     "iopub.status.idle": "2022-05-05T18:46:02.677918Z",
     "shell.execute_reply": "2022-05-05T18:46:02.676977Z"
    },
    "papermill": {
     "duration": 0.077498,
     "end_time": "2022-05-05T18:46:02.680062",
     "exception": false,
     "start_time": "2022-05-05T18:46:02.602564",
     "status": "completed"
    },
    "tags": []
   },
   "outputs": [
    {
     "data": {
      "text/html": [
       "<div>\n",
       "<style scoped>\n",
       "    .dataframe tbody tr th:only-of-type {\n",
       "        vertical-align: middle;\n",
       "    }\n",
       "\n",
       "    .dataframe tbody tr th {\n",
       "        vertical-align: top;\n",
       "    }\n",
       "\n",
       "    .dataframe thead th {\n",
       "        text-align: right;\n",
       "    }\n",
       "</style>\n",
       "<table border=\"1\" class=\"dataframe\">\n",
       "  <thead>\n",
       "    <tr style=\"text-align: right;\">\n",
       "      <th></th>\n",
       "      <th>상품ID</th>\n",
       "      <th>상품분류ID</th>\n",
       "      <th>첫 판매월</th>\n",
       "    </tr>\n",
       "  </thead>\n",
       "  <tbody>\n",
       "    <tr>\n",
       "      <th>83</th>\n",
       "      <td>83</td>\n",
       "      <td>40</td>\n",
       "      <td>NaN</td>\n",
       "    </tr>\n",
       "    <tr>\n",
       "      <th>140</th>\n",
       "      <td>140</td>\n",
       "      <td>45</td>\n",
       "      <td>NaN</td>\n",
       "    </tr>\n",
       "    <tr>\n",
       "      <th>168</th>\n",
       "      <td>168</td>\n",
       "      <td>44</td>\n",
       "      <td>NaN</td>\n",
       "    </tr>\n",
       "    <tr>\n",
       "      <th>173</th>\n",
       "      <td>173</td>\n",
       "      <td>45</td>\n",
       "      <td>NaN</td>\n",
       "    </tr>\n",
       "    <tr>\n",
       "      <th>204</th>\n",
       "      <td>204</td>\n",
       "      <td>44</td>\n",
       "      <td>NaN</td>\n",
       "    </tr>\n",
       "    <tr>\n",
       "      <th>...</th>\n",
       "      <td>...</td>\n",
       "      <td>...</td>\n",
       "      <td>...</td>\n",
       "    </tr>\n",
       "    <tr>\n",
       "      <th>21974</th>\n",
       "      <td>21974</td>\n",
       "      <td>61</td>\n",
       "      <td>NaN</td>\n",
       "    </tr>\n",
       "    <tr>\n",
       "      <th>21975</th>\n",
       "      <td>21975</td>\n",
       "      <td>61</td>\n",
       "      <td>NaN</td>\n",
       "    </tr>\n",
       "    <tr>\n",
       "      <th>22022</th>\n",
       "      <td>22022</td>\n",
       "      <td>40</td>\n",
       "      <td>NaN</td>\n",
       "    </tr>\n",
       "    <tr>\n",
       "      <th>22035</th>\n",
       "      <td>22035</td>\n",
       "      <td>40</td>\n",
       "      <td>NaN</td>\n",
       "    </tr>\n",
       "    <tr>\n",
       "      <th>22137</th>\n",
       "      <td>22137</td>\n",
       "      <td>40</td>\n",
       "      <td>NaN</td>\n",
       "    </tr>\n",
       "  </tbody>\n",
       "</table>\n",
       "<p>368 rows × 3 columns</p>\n",
       "</div>"
      ],
      "text/plain": [
       "        상품ID  상품분류ID  첫 판매월\n",
       "83        83      40    NaN\n",
       "140      140      45    NaN\n",
       "168      168      44    NaN\n",
       "173      173      45    NaN\n",
       "204      204      44    NaN\n",
       "...      ...     ...    ...\n",
       "21974  21974      61    NaN\n",
       "21975  21975      61    NaN\n",
       "22022  22022      40    NaN\n",
       "22035  22035      40    NaN\n",
       "22137  22137      40    NaN\n",
       "\n",
       "[368 rows x 3 columns]"
      ]
     },
     "execution_count": 15,
     "metadata": {},
     "output_type": "execute_result"
    }
   ],
   "source": [
    "items[items['첫 판매월'].isna()]"
   ]
  },
  {
   "cell_type": "code",
   "execution_count": 16,
   "id": "ca040381",
   "metadata": {
    "execution": {
     "iopub.execute_input": "2022-05-05T18:46:02.805265Z",
     "iopub.status.busy": "2022-05-05T18:46:02.804706Z",
     "iopub.status.idle": "2022-05-05T18:46:02.809694Z",
     "shell.execute_reply": "2022-05-05T18:46:02.809105Z"
    },
    "papermill": {
     "duration": 0.069864,
     "end_time": "2022-05-05T18:46:02.811586",
     "exception": false,
     "start_time": "2022-05-05T18:46:02.741722",
     "status": "completed"
    },
    "tags": []
   },
   "outputs": [],
   "source": [
    "items['첫 판매월'] = items['첫 판매월'].fillna(34)"
   ]
  },
  {
   "cell_type": "code",
   "execution_count": 17,
   "id": "0ac8e007",
   "metadata": {
    "execution": {
     "iopub.execute_input": "2022-05-05T18:46:02.936559Z",
     "iopub.status.busy": "2022-05-05T18:46:02.936082Z",
     "iopub.status.idle": "2022-05-05T18:46:02.941581Z",
     "shell.execute_reply": "2022-05-05T18:46:02.940965Z"
    },
    "papermill": {
     "duration": 0.0711,
     "end_time": "2022-05-05T18:46:02.943999",
     "exception": false,
     "start_time": "2022-05-05T18:46:02.872899",
     "status": "completed"
    },
    "tags": []
   },
   "outputs": [],
   "source": [
    "item_categories['대분류'] = item_categories['상품분류명'].apply(lambda x: x.split()[0])"
   ]
  },
  {
   "cell_type": "code",
   "execution_count": 18,
   "id": "667d6d22",
   "metadata": {
    "execution": {
     "iopub.execute_input": "2022-05-05T18:46:03.067641Z",
     "iopub.status.busy": "2022-05-05T18:46:03.067344Z",
     "iopub.status.idle": "2022-05-05T18:46:03.074539Z",
     "shell.execute_reply": "2022-05-05T18:46:03.073991Z"
    },
    "papermill": {
     "duration": 0.071701,
     "end_time": "2022-05-05T18:46:03.076325",
     "exception": false,
     "start_time": "2022-05-05T18:46:03.004624",
     "status": "completed"
    },
    "tags": []
   },
   "outputs": [
    {
     "data": {
      "text/plain": [
       "Игры          14\n",
       "Книги         13\n",
       "Подарки       12\n",
       "Игровые        8\n",
       "Аксессуары     7\n",
       "Музыка         6\n",
       "Программы      6\n",
       "Карты          5\n",
       "Кино           5\n",
       "Служебные      2\n",
       "Чистые         2\n",
       "PC             1\n",
       "Билеты         1\n",
       "Доставка       1\n",
       "Элементы       1\n",
       "Name: 대분류, dtype: int64"
      ]
     },
     "execution_count": 18,
     "metadata": {},
     "output_type": "execute_result"
    }
   ],
   "source": [
    "item_categories['대분류'].value_counts()"
   ]
  },
  {
   "cell_type": "code",
   "execution_count": 19,
   "id": "d7a9efee",
   "metadata": {
    "execution": {
     "iopub.execute_input": "2022-05-05T18:46:03.201538Z",
     "iopub.status.busy": "2022-05-05T18:46:03.201043Z",
     "iopub.status.idle": "2022-05-05T18:46:03.233707Z",
     "shell.execute_reply": "2022-05-05T18:46:03.233052Z"
    },
    "papermill": {
     "duration": 0.098728,
     "end_time": "2022-05-05T18:46:03.235978",
     "exception": false,
     "start_time": "2022-05-05T18:46:03.137250",
     "status": "completed"
    },
    "tags": []
   },
   "outputs": [],
   "source": [
    "def make_etc(x):\n",
    "    if len(item_categories[item_categories['대분류']==x]) >= 5:\n",
    "        return x\n",
    "    else:\n",
    "        return 'etc'\n",
    "    \n",
    "item_categories['대분류'] = item_categories['대분류'].apply(make_etc)"
   ]
  },
  {
   "cell_type": "code",
   "execution_count": 20,
   "id": "483bff11",
   "metadata": {
    "execution": {
     "iopub.execute_input": "2022-05-05T18:46:03.359238Z",
     "iopub.status.busy": "2022-05-05T18:46:03.358935Z",
     "iopub.status.idle": "2022-05-05T18:46:03.368374Z",
     "shell.execute_reply": "2022-05-05T18:46:03.367808Z"
    },
    "papermill": {
     "duration": 0.073401,
     "end_time": "2022-05-05T18:46:03.370092",
     "exception": false,
     "start_time": "2022-05-05T18:46:03.296691",
     "status": "completed"
    },
    "tags": []
   },
   "outputs": [
    {
     "data": {
      "text/html": [
       "<div>\n",
       "<style scoped>\n",
       "    .dataframe tbody tr th:only-of-type {\n",
       "        vertical-align: middle;\n",
       "    }\n",
       "\n",
       "    .dataframe tbody tr th {\n",
       "        vertical-align: top;\n",
       "    }\n",
       "\n",
       "    .dataframe thead th {\n",
       "        text-align: right;\n",
       "    }\n",
       "</style>\n",
       "<table border=\"1\" class=\"dataframe\">\n",
       "  <thead>\n",
       "    <tr style=\"text-align: right;\">\n",
       "      <th></th>\n",
       "      <th>상품분류명</th>\n",
       "      <th>상품분류ID</th>\n",
       "      <th>대분류</th>\n",
       "    </tr>\n",
       "  </thead>\n",
       "  <tbody>\n",
       "    <tr>\n",
       "      <th>0</th>\n",
       "      <td>PC - Гарнитуры/Наушники</td>\n",
       "      <td>0</td>\n",
       "      <td>etc</td>\n",
       "    </tr>\n",
       "    <tr>\n",
       "      <th>1</th>\n",
       "      <td>Аксессуары - PS2</td>\n",
       "      <td>1</td>\n",
       "      <td>Аксессуары</td>\n",
       "    </tr>\n",
       "    <tr>\n",
       "      <th>2</th>\n",
       "      <td>Аксессуары - PS3</td>\n",
       "      <td>2</td>\n",
       "      <td>Аксессуары</td>\n",
       "    </tr>\n",
       "    <tr>\n",
       "      <th>3</th>\n",
       "      <td>Аксессуары - PS4</td>\n",
       "      <td>3</td>\n",
       "      <td>Аксессуары</td>\n",
       "    </tr>\n",
       "    <tr>\n",
       "      <th>4</th>\n",
       "      <td>Аксессуары - PSP</td>\n",
       "      <td>4</td>\n",
       "      <td>Аксессуары</td>\n",
       "    </tr>\n",
       "  </tbody>\n",
       "</table>\n",
       "</div>"
      ],
      "text/plain": [
       "                     상품분류명  상품분류ID         대분류\n",
       "0  PC - Гарнитуры/Наушники       0         etc\n",
       "1         Аксессуары - PS2       1  Аксессуары\n",
       "2         Аксессуары - PS3       2  Аксессуары\n",
       "3         Аксессуары - PS4       3  Аксессуары\n",
       "4         Аксессуары - PSP       4  Аксессуары"
      ]
     },
     "execution_count": 20,
     "metadata": {},
     "output_type": "execute_result"
    }
   ],
   "source": [
    "item_categories.head()"
   ]
  },
  {
   "cell_type": "code",
   "execution_count": 21,
   "id": "04f1e2b8",
   "metadata": {
    "execution": {
     "iopub.execute_input": "2022-05-05T18:46:03.495242Z",
     "iopub.status.busy": "2022-05-05T18:46:03.494687Z",
     "iopub.status.idle": "2022-05-05T18:46:03.500357Z",
     "shell.execute_reply": "2022-05-05T18:46:03.499786Z"
    },
    "papermill": {
     "duration": 0.070237,
     "end_time": "2022-05-05T18:46:03.502143",
     "exception": false,
     "start_time": "2022-05-05T18:46:03.431906",
     "status": "completed"
    },
    "tags": []
   },
   "outputs": [],
   "source": [
    "label_encoder = LabelEncoder()\n",
    "\n",
    "item_categories['대분류'] = label_encoder.fit_transform(item_categories['대분류'])\n",
    "item_categories = item_categories.drop('상품분류명', axis=1)"
   ]
  },
  {
   "cell_type": "markdown",
   "id": "59085d15",
   "metadata": {
    "papermill": {
     "duration": 0.061236,
     "end_time": "2022-05-05T18:46:03.627571",
     "exception": false,
     "start_time": "2022-05-05T18:46:03.566335",
     "status": "completed"
    },
    "tags": []
   },
   "source": [
    "Feature Engineering III: Data grouping & creating new features"
   ]
  },
  {
   "cell_type": "code",
   "execution_count": 22,
   "id": "2c1b792b",
   "metadata": {
    "execution": {
     "iopub.execute_input": "2022-05-05T18:46:03.758321Z",
     "iopub.status.busy": "2022-05-05T18:46:03.757791Z",
     "iopub.status.idle": "2022-05-05T18:46:17.223678Z",
     "shell.execute_reply": "2022-05-05T18:46:17.222732Z"
    },
    "papermill": {
     "duration": 13.533747,
     "end_time": "2022-05-05T18:46:17.226021",
     "exception": false,
     "start_time": "2022-05-05T18:46:03.692274",
     "status": "completed"
    },
    "tags": []
   },
   "outputs": [],
   "source": [
    "from itertools import product\n",
    "\n",
    "train = []\n",
    "\n",
    "for i in sales_train['월ID'].unique():\n",
    "    all_shop = sales_train.loc[sales_train['월ID']==i, '상점ID'].unique()\n",
    "    all_item = sales_train.loc[sales_train['월ID']==i, '상품ID'].unique()\n",
    "    train.append(np.array(list(product([i], all_shop, all_item))))\n",
    "    \n",
    "idx_features = ['월ID', '상점ID', '상품ID']\n",
    "train = pd.DataFrame(np.vstack(train), columns=idx_features)"
   ]
  },
  {
   "cell_type": "code",
   "execution_count": 23,
   "id": "1af5c210",
   "metadata": {
    "execution": {
     "iopub.execute_input": "2022-05-05T18:46:17.351764Z",
     "iopub.status.busy": "2022-05-05T18:46:17.351470Z",
     "iopub.status.idle": "2022-05-05T18:46:22.640213Z",
     "shell.execute_reply": "2022-05-05T18:46:22.639598Z"
    },
    "papermill": {
     "duration": 5.354673,
     "end_time": "2022-05-05T18:46:22.642418",
     "exception": false,
     "start_time": "2022-05-05T18:46:17.287745",
     "status": "completed"
    },
    "tags": []
   },
   "outputs": [
    {
     "data": {
      "text/html": [
       "<div>\n",
       "<style scoped>\n",
       "    .dataframe tbody tr th:only-of-type {\n",
       "        vertical-align: middle;\n",
       "    }\n",
       "\n",
       "    .dataframe tbody tr th {\n",
       "        vertical-align: top;\n",
       "    }\n",
       "\n",
       "    .dataframe thead th {\n",
       "        text-align: right;\n",
       "    }\n",
       "</style>\n",
       "<table border=\"1\" class=\"dataframe\">\n",
       "  <thead>\n",
       "    <tr style=\"text-align: right;\">\n",
       "      <th></th>\n",
       "      <th>월ID</th>\n",
       "      <th>상점ID</th>\n",
       "      <th>상품ID</th>\n",
       "      <th>월간 판매량</th>\n",
       "      <th>평균 판매가</th>\n",
       "    </tr>\n",
       "  </thead>\n",
       "  <tbody>\n",
       "    <tr>\n",
       "      <th>0</th>\n",
       "      <td>0</td>\n",
       "      <td>59</td>\n",
       "      <td>22154</td>\n",
       "      <td>1.0</td>\n",
       "      <td>999.0</td>\n",
       "    </tr>\n",
       "    <tr>\n",
       "      <th>1</th>\n",
       "      <td>0</td>\n",
       "      <td>59</td>\n",
       "      <td>2552</td>\n",
       "      <td>NaN</td>\n",
       "      <td>NaN</td>\n",
       "    </tr>\n",
       "    <tr>\n",
       "      <th>2</th>\n",
       "      <td>0</td>\n",
       "      <td>59</td>\n",
       "      <td>2554</td>\n",
       "      <td>NaN</td>\n",
       "      <td>NaN</td>\n",
       "    </tr>\n",
       "    <tr>\n",
       "      <th>3</th>\n",
       "      <td>0</td>\n",
       "      <td>59</td>\n",
       "      <td>2555</td>\n",
       "      <td>NaN</td>\n",
       "      <td>NaN</td>\n",
       "    </tr>\n",
       "    <tr>\n",
       "      <th>4</th>\n",
       "      <td>0</td>\n",
       "      <td>59</td>\n",
       "      <td>2564</td>\n",
       "      <td>NaN</td>\n",
       "      <td>NaN</td>\n",
       "    </tr>\n",
       "  </tbody>\n",
       "</table>\n",
       "</div>"
      ],
      "text/plain": [
       "   월ID  상점ID   상품ID  월간 판매량  평균 판매가\n",
       "0    0    59  22154     1.0   999.0\n",
       "1    0    59   2552     NaN     NaN\n",
       "2    0    59   2554     NaN     NaN\n",
       "3    0    59   2555     NaN     NaN\n",
       "4    0    59   2564     NaN     NaN"
      ]
     },
     "execution_count": 23,
     "metadata": {},
     "output_type": "execute_result"
    }
   ],
   "source": [
    "group = sales_train.groupby(idx_features).agg({'판매량': 'sum',\n",
    "                                               '판매가': 'mean'})\n",
    "group = group.reset_index()\n",
    "group = group.rename(columns={'판매량': '월간 판매량', '판매가': '평균 판매가'})\n",
    "\n",
    "train = train.merge(group, on=idx_features, how='left')\n",
    "\n",
    "train.head()"
   ]
  },
  {
   "cell_type": "code",
   "execution_count": 24,
   "id": "8ce8e4bc",
   "metadata": {
    "execution": {
     "iopub.execute_input": "2022-05-05T18:46:22.771592Z",
     "iopub.status.busy": "2022-05-05T18:46:22.771053Z",
     "iopub.status.idle": "2022-05-05T18:46:22.885236Z",
     "shell.execute_reply": "2022-05-05T18:46:22.884422Z"
    },
    "papermill": {
     "duration": 0.181315,
     "end_time": "2022-05-05T18:46:22.887521",
     "exception": false,
     "start_time": "2022-05-05T18:46:22.706206",
     "status": "completed"
    },
    "tags": []
   },
   "outputs": [],
   "source": [
    "import gc \n",
    "\n",
    "del group\n",
    "gc.collect();"
   ]
  },
  {
   "cell_type": "code",
   "execution_count": 25,
   "id": "aa824dc0",
   "metadata": {
    "execution": {
     "iopub.execute_input": "2022-05-05T18:46:23.015659Z",
     "iopub.status.busy": "2022-05-05T18:46:23.015150Z",
     "iopub.status.idle": "2022-05-05T18:46:28.056105Z",
     "shell.execute_reply": "2022-05-05T18:46:28.055112Z"
    },
    "papermill": {
     "duration": 5.107589,
     "end_time": "2022-05-05T18:46:28.058886",
     "exception": false,
     "start_time": "2022-05-05T18:46:22.951297",
     "status": "completed"
    },
    "tags": []
   },
   "outputs": [
    {
     "data": {
      "text/html": [
       "<div>\n",
       "<style scoped>\n",
       "    .dataframe tbody tr th:only-of-type {\n",
       "        vertical-align: middle;\n",
       "    }\n",
       "\n",
       "    .dataframe tbody tr th {\n",
       "        vertical-align: top;\n",
       "    }\n",
       "\n",
       "    .dataframe thead th {\n",
       "        text-align: right;\n",
       "    }\n",
       "</style>\n",
       "<table border=\"1\" class=\"dataframe\">\n",
       "  <thead>\n",
       "    <tr style=\"text-align: right;\">\n",
       "      <th></th>\n",
       "      <th>월ID</th>\n",
       "      <th>상점ID</th>\n",
       "      <th>상품ID</th>\n",
       "      <th>월간 판매량</th>\n",
       "      <th>평균 판매가</th>\n",
       "      <th>판매건수</th>\n",
       "    </tr>\n",
       "  </thead>\n",
       "  <tbody>\n",
       "    <tr>\n",
       "      <th>0</th>\n",
       "      <td>0</td>\n",
       "      <td>59</td>\n",
       "      <td>22154</td>\n",
       "      <td>1.0</td>\n",
       "      <td>999.0</td>\n",
       "      <td>1.0</td>\n",
       "    </tr>\n",
       "    <tr>\n",
       "      <th>1</th>\n",
       "      <td>0</td>\n",
       "      <td>59</td>\n",
       "      <td>2552</td>\n",
       "      <td>NaN</td>\n",
       "      <td>NaN</td>\n",
       "      <td>NaN</td>\n",
       "    </tr>\n",
       "    <tr>\n",
       "      <th>2</th>\n",
       "      <td>0</td>\n",
       "      <td>59</td>\n",
       "      <td>2554</td>\n",
       "      <td>NaN</td>\n",
       "      <td>NaN</td>\n",
       "      <td>NaN</td>\n",
       "    </tr>\n",
       "    <tr>\n",
       "      <th>3</th>\n",
       "      <td>0</td>\n",
       "      <td>59</td>\n",
       "      <td>2555</td>\n",
       "      <td>NaN</td>\n",
       "      <td>NaN</td>\n",
       "      <td>NaN</td>\n",
       "    </tr>\n",
       "    <tr>\n",
       "      <th>4</th>\n",
       "      <td>0</td>\n",
       "      <td>59</td>\n",
       "      <td>2564</td>\n",
       "      <td>NaN</td>\n",
       "      <td>NaN</td>\n",
       "      <td>NaN</td>\n",
       "    </tr>\n",
       "  </tbody>\n",
       "</table>\n",
       "</div>"
      ],
      "text/plain": [
       "   월ID  상점ID   상품ID  월간 판매량  평균 판매가  판매건수\n",
       "0    0    59  22154     1.0   999.0   1.0\n",
       "1    0    59   2552     NaN     NaN   NaN\n",
       "2    0    59   2554     NaN     NaN   NaN\n",
       "3    0    59   2555     NaN     NaN   NaN\n",
       "4    0    59   2564     NaN     NaN   NaN"
      ]
     },
     "execution_count": 25,
     "metadata": {},
     "output_type": "execute_result"
    }
   ],
   "source": [
    "group = sales_train.groupby(idx_features).agg({'판매량': 'count'})\n",
    "group = group.reset_index()\n",
    "group = group.rename(columns={'판매량':'판매건수'})\n",
    "\n",
    "train = train.merge(group, on=idx_features, how='left')\n",
    "\n",
    "del group, sales_train\n",
    "gc.collect()\n",
    "\n",
    "train.head()"
   ]
  },
  {
   "cell_type": "markdown",
   "id": "71c368d7",
   "metadata": {
    "papermill": {
     "duration": 0.061754,
     "end_time": "2022-05-05T18:46:28.182277",
     "exception": false,
     "start_time": "2022-05-05T18:46:28.120523",
     "status": "completed"
    },
    "tags": []
   },
   "source": [
    "Feature Engineering IV: Data concatenation"
   ]
  },
  {
   "cell_type": "code",
   "execution_count": 26,
   "id": "63f1c5d7",
   "metadata": {
    "execution": {
     "iopub.execute_input": "2022-05-05T18:46:28.308526Z",
     "iopub.status.busy": "2022-05-05T18:46:28.307987Z",
     "iopub.status.idle": "2022-05-05T18:46:28.855879Z",
     "shell.execute_reply": "2022-05-05T18:46:28.855065Z"
    },
    "papermill": {
     "duration": 0.613797,
     "end_time": "2022-05-05T18:46:28.857996",
     "exception": false,
     "start_time": "2022-05-05T18:46:28.244199",
     "status": "completed"
    },
    "tags": []
   },
   "outputs": [
    {
     "data": {
      "text/html": [
       "<div>\n",
       "<style scoped>\n",
       "    .dataframe tbody tr th:only-of-type {\n",
       "        vertical-align: middle;\n",
       "    }\n",
       "\n",
       "    .dataframe tbody tr th {\n",
       "        vertical-align: top;\n",
       "    }\n",
       "\n",
       "    .dataframe thead th {\n",
       "        text-align: right;\n",
       "    }\n",
       "</style>\n",
       "<table border=\"1\" class=\"dataframe\">\n",
       "  <thead>\n",
       "    <tr style=\"text-align: right;\">\n",
       "      <th></th>\n",
       "      <th>월ID</th>\n",
       "      <th>상점ID</th>\n",
       "      <th>상품ID</th>\n",
       "      <th>월간 판매량</th>\n",
       "      <th>평균 판매가</th>\n",
       "      <th>판매건수</th>\n",
       "    </tr>\n",
       "  </thead>\n",
       "  <tbody>\n",
       "    <tr>\n",
       "      <th>0</th>\n",
       "      <td>0</td>\n",
       "      <td>59</td>\n",
       "      <td>22154</td>\n",
       "      <td>1.0</td>\n",
       "      <td>999.0</td>\n",
       "      <td>1.0</td>\n",
       "    </tr>\n",
       "    <tr>\n",
       "      <th>1</th>\n",
       "      <td>0</td>\n",
       "      <td>59</td>\n",
       "      <td>2552</td>\n",
       "      <td>0.0</td>\n",
       "      <td>0.0</td>\n",
       "      <td>0.0</td>\n",
       "    </tr>\n",
       "    <tr>\n",
       "      <th>2</th>\n",
       "      <td>0</td>\n",
       "      <td>59</td>\n",
       "      <td>2554</td>\n",
       "      <td>0.0</td>\n",
       "      <td>0.0</td>\n",
       "      <td>0.0</td>\n",
       "    </tr>\n",
       "    <tr>\n",
       "      <th>3</th>\n",
       "      <td>0</td>\n",
       "      <td>59</td>\n",
       "      <td>2555</td>\n",
       "      <td>0.0</td>\n",
       "      <td>0.0</td>\n",
       "      <td>0.0</td>\n",
       "    </tr>\n",
       "    <tr>\n",
       "      <th>4</th>\n",
       "      <td>0</td>\n",
       "      <td>59</td>\n",
       "      <td>2564</td>\n",
       "      <td>0.0</td>\n",
       "      <td>0.0</td>\n",
       "      <td>0.0</td>\n",
       "    </tr>\n",
       "  </tbody>\n",
       "</table>\n",
       "</div>"
      ],
      "text/plain": [
       "   월ID  상점ID   상품ID  월간 판매량  평균 판매가  판매건수\n",
       "0    0    59  22154     1.0   999.0   1.0\n",
       "1    0    59   2552     0.0     0.0   0.0\n",
       "2    0    59   2554     0.0     0.0   0.0\n",
       "3    0    59   2555     0.0     0.0   0.0\n",
       "4    0    59   2564     0.0     0.0   0.0"
      ]
     },
     "execution_count": 26,
     "metadata": {},
     "output_type": "execute_result"
    }
   ],
   "source": [
    "test['월ID'] = 34\n",
    "\n",
    "all_data = pd.concat([train, test.drop('ID', axis=1)],\n",
    "                     ignore_index=True,\n",
    "                     keys=idx_features)\n",
    "\n",
    "all_data = all_data.fillna(0)\n",
    "\n",
    "all_data.head()"
   ]
  },
  {
   "cell_type": "code",
   "execution_count": 27,
   "id": "edaaa9f8",
   "metadata": {
    "execution": {
     "iopub.execute_input": "2022-05-05T18:46:28.987823Z",
     "iopub.status.busy": "2022-05-05T18:46:28.987516Z",
     "iopub.status.idle": "2022-05-05T18:46:35.752578Z",
     "shell.execute_reply": "2022-05-05T18:46:35.751281Z"
    },
    "papermill": {
     "duration": 6.833469,
     "end_time": "2022-05-05T18:46:35.755260",
     "exception": false,
     "start_time": "2022-05-05T18:46:28.921791",
     "status": "completed"
    },
    "tags": []
   },
   "outputs": [
    {
     "name": "stdout",
     "output_type": "stream",
     "text": [
      "64.6% 압축됨\n"
     ]
    }
   ],
   "source": [
    "all_data = all_data.merge(shops, on='상점ID', how='left')\n",
    "all_data = all_data.merge(items, on='상품ID', how='left')\n",
    "all_data = all_data.merge(item_categories, on='상품분류ID', how='left')\n",
    "\n",
    "all_data = downcast(all_data)"
   ]
  },
  {
   "cell_type": "code",
   "execution_count": 28,
   "id": "2485fa7d",
   "metadata": {
    "execution": {
     "iopub.execute_input": "2022-05-05T18:46:35.888578Z",
     "iopub.status.busy": "2022-05-05T18:46:35.887502Z",
     "iopub.status.idle": "2022-05-05T18:46:36.002964Z",
     "shell.execute_reply": "2022-05-05T18:46:36.002051Z"
    },
    "papermill": {
     "duration": 0.183214,
     "end_time": "2022-05-05T18:46:36.005506",
     "exception": false,
     "start_time": "2022-05-05T18:46:35.822292",
     "status": "completed"
    },
    "tags": []
   },
   "outputs": [],
   "source": [
    "del shops, items, item_categories\n",
    "gc.collect();"
   ]
  },
  {
   "cell_type": "markdown",
   "id": "66e496c7",
   "metadata": {
    "papermill": {
     "duration": 0.063598,
     "end_time": "2022-05-05T18:46:36.134258",
     "exception": false,
     "start_time": "2022-05-05T18:46:36.070660",
     "status": "completed"
    },
    "tags": []
   },
   "source": [
    "Feature Engineering V: Time lag feature"
   ]
  },
  {
   "cell_type": "code",
   "execution_count": 29,
   "id": "1e5682e0",
   "metadata": {
    "execution": {
     "iopub.execute_input": "2022-05-05T18:46:36.265020Z",
     "iopub.status.busy": "2022-05-05T18:46:36.264727Z",
     "iopub.status.idle": "2022-05-05T18:46:36.273182Z",
     "shell.execute_reply": "2022-05-05T18:46:36.272275Z"
    },
    "papermill": {
     "duration": 0.076069,
     "end_time": "2022-05-05T18:46:36.274999",
     "exception": false,
     "start_time": "2022-05-05T18:46:36.198930",
     "status": "completed"
    },
    "tags": []
   },
   "outputs": [],
   "source": [
    "def add_mean_features(df, mean_features, idx_features):\n",
    "\n",
    "    assert (idx_features[0] == '월ID') and \\\n",
    "           len(idx_features) in [2, 3]\n",
    "    \n",
    "    if len(idx_features) == 2:\n",
    "        feature_name = idx_features[1] + '별 평균 판매량'\n",
    "    else:\n",
    "        feature_name = idx_features[1] + ' ' + idx_features[2] + '별 평균 판매량'\n",
    "    \n",
    "     \n",
    "    group = df.groupby(idx_features).agg({'월간 판매량': 'mean'})\n",
    "    group = group.reset_index()\n",
    "    group = group.rename(columns={'월간 판매량': feature_name})\n",
    "    \n",
    "    \n",
    "    df = df.merge(group, on=idx_features, how='left')\n",
    " \n",
    "    df = downcast(df, verbose=False)\n",
    "\n",
    "    mean_features.append(feature_name)\n",
    "    \n",
    "    del group\n",
    "    gc.collect()\n",
    "    \n",
    "    return df, mean_features\n",
    "    \n",
    "    return df, mean_features"
   ]
  },
  {
   "cell_type": "code",
   "execution_count": 30,
   "id": "443a40a3",
   "metadata": {
    "execution": {
     "iopub.execute_input": "2022-05-05T18:46:36.403227Z",
     "iopub.status.busy": "2022-05-05T18:46:36.402784Z",
     "iopub.status.idle": "2022-05-05T18:46:50.871958Z",
     "shell.execute_reply": "2022-05-05T18:46:50.871061Z"
    },
    "papermill": {
     "duration": 14.536193,
     "end_time": "2022-05-05T18:46:50.874456",
     "exception": false,
     "start_time": "2022-05-05T18:46:36.338263",
     "status": "completed"
    },
    "tags": []
   },
   "outputs": [],
   "source": [
    "item_mean_features = []\n",
    "\n",
    "all_data, item_mean_features = add_mean_features(df=all_data,\n",
    "                                                 mean_features=item_mean_features,\n",
    "                                                 idx_features=['월ID', '상품ID'])\n",
    "\n",
    "all_data, item_mean_features = add_mean_features(df=all_data,\n",
    "                                                 mean_features=item_mean_features,\n",
    "                                                 idx_features=['월ID', '상품ID', '도시'])"
   ]
  },
  {
   "cell_type": "code",
   "execution_count": 31,
   "id": "865e0f66",
   "metadata": {
    "execution": {
     "iopub.execute_input": "2022-05-05T18:46:51.006935Z",
     "iopub.status.busy": "2022-05-05T18:46:51.006423Z",
     "iopub.status.idle": "2022-05-05T18:46:51.011195Z",
     "shell.execute_reply": "2022-05-05T18:46:51.010501Z"
    },
    "papermill": {
     "duration": 0.073765,
     "end_time": "2022-05-05T18:46:51.012984",
     "exception": false,
     "start_time": "2022-05-05T18:46:50.939219",
     "status": "completed"
    },
    "tags": []
   },
   "outputs": [
    {
     "data": {
      "text/plain": [
       "['상품ID별 평균 판매량', '상품ID 도시별 평균 판매량']"
      ]
     },
     "execution_count": 31,
     "metadata": {},
     "output_type": "execute_result"
    }
   ],
   "source": [
    "item_mean_features"
   ]
  },
  {
   "cell_type": "code",
   "execution_count": 32,
   "id": "24958962",
   "metadata": {
    "execution": {
     "iopub.execute_input": "2022-05-05T18:46:51.141785Z",
     "iopub.status.busy": "2022-05-05T18:46:51.141288Z",
     "iopub.status.idle": "2022-05-05T18:46:54.851579Z",
     "shell.execute_reply": "2022-05-05T18:46:54.850897Z"
    },
    "papermill": {
     "duration": 3.77708,
     "end_time": "2022-05-05T18:46:54.853893",
     "exception": false,
     "start_time": "2022-05-05T18:46:51.076813",
     "status": "completed"
    },
    "tags": []
   },
   "outputs": [],
   "source": [
    "shop_mean_features = []\n",
    "\n",
    "all_data, shop_mean_features = add_mean_features(df=all_data, \n",
    "                                                 mean_features=shop_mean_features,\n",
    "                                                 idx_features=['월ID', '상점ID', '상품분류ID'])"
   ]
  },
  {
   "cell_type": "code",
   "execution_count": 33,
   "id": "c594a5a5",
   "metadata": {
    "execution": {
     "iopub.execute_input": "2022-05-05T18:46:54.982699Z",
     "iopub.status.busy": "2022-05-05T18:46:54.982192Z",
     "iopub.status.idle": "2022-05-05T18:46:54.986412Z",
     "shell.execute_reply": "2022-05-05T18:46:54.985915Z"
    },
    "papermill": {
     "duration": 0.070472,
     "end_time": "2022-05-05T18:46:54.988027",
     "exception": false,
     "start_time": "2022-05-05T18:46:54.917555",
     "status": "completed"
    },
    "tags": []
   },
   "outputs": [
    {
     "data": {
      "text/plain": [
       "['상점ID 상품분류ID별 평균 판매량']"
      ]
     },
     "execution_count": 33,
     "metadata": {},
     "output_type": "execute_result"
    }
   ],
   "source": [
    "shop_mean_features"
   ]
  },
  {
   "cell_type": "code",
   "execution_count": 34,
   "id": "739abd73",
   "metadata": {
    "execution": {
     "iopub.execute_input": "2022-05-05T18:46:55.115922Z",
     "iopub.status.busy": "2022-05-05T18:46:55.115387Z",
     "iopub.status.idle": "2022-05-05T18:46:55.122357Z",
     "shell.execute_reply": "2022-05-05T18:46:55.121869Z"
    },
    "papermill": {
     "duration": 0.073369,
     "end_time": "2022-05-05T18:46:55.124080",
     "exception": false,
     "start_time": "2022-05-05T18:46:55.050711",
     "status": "completed"
    },
    "tags": []
   },
   "outputs": [],
   "source": [
    "def add_lag_features(df, lag_features_to_clip, idx_features, \n",
    "                     lag_feature, nlags=3, clip=False):\n",
    "   \n",
    "    df_temp = df[idx_features + [lag_feature]].copy() \n",
    "\n",
    "\n",
    "    for i in range(1, nlags+1):\n",
    "     \n",
    "        lag_feature_name = lag_feature +'_시차' + str(i)\n",
    "    \n",
    "        df_temp.columns = idx_features + [lag_feature_name]\n",
    "       \n",
    "        df_temp['월ID'] += i\n",
    "         \n",
    "        df = df.merge(df_temp.drop_duplicates(), \n",
    "                      on=idx_features, \n",
    "                      how='left')\n",
    "         \n",
    "        df[lag_feature_name] = df[lag_feature_name].fillna(0)\n",
    "       \n",
    "        if clip: \n",
    "            lag_features_to_clip.append(lag_feature_name)\n",
    "    \n",
    "\n",
    "    df = downcast(df, False)\n",
    "  \n",
    "    del df_temp\n",
    "    gc.collect()\n",
    "    \n",
    "    return df, lag_features_to_clip"
   ]
  },
  {
   "cell_type": "code",
   "execution_count": 35,
   "id": "8ca86d75",
   "metadata": {
    "execution": {
     "iopub.execute_input": "2022-05-05T18:46:55.253094Z",
     "iopub.status.busy": "2022-05-05T18:46:55.252587Z",
     "iopub.status.idle": "2022-05-05T18:47:28.039281Z",
     "shell.execute_reply": "2022-05-05T18:47:28.038334Z"
    },
    "papermill": {
     "duration": 32.853524,
     "end_time": "2022-05-05T18:47:28.041501",
     "exception": false,
     "start_time": "2022-05-05T18:46:55.187977",
     "status": "completed"
    },
    "tags": []
   },
   "outputs": [],
   "source": [
    "lag_features_to_clip = [] \n",
    "idx_features = ['월ID', '상점ID', '상품ID'] \n",
    "\n",
    "all_data, lag_features_to_clip = add_lag_features(df=all_data, \n",
    "                                                  lag_features_to_clip=lag_features_to_clip,\n",
    "                                                  idx_features=idx_features,\n",
    "                                                  lag_feature='월간 판매량', \n",
    "                                                  nlags=3,\n",
    "                                                  clip=True) "
   ]
  },
  {
   "cell_type": "code",
   "execution_count": 36,
   "id": "2e1d34ec",
   "metadata": {
    "execution": {
     "iopub.execute_input": "2022-05-05T18:47:28.171548Z",
     "iopub.status.busy": "2022-05-05T18:47:28.170722Z",
     "iopub.status.idle": "2022-05-05T18:47:28.186720Z",
     "shell.execute_reply": "2022-05-05T18:47:28.185927Z"
    },
    "papermill": {
     "duration": 0.083342,
     "end_time": "2022-05-05T18:47:28.188760",
     "exception": false,
     "start_time": "2022-05-05T18:47:28.105418",
     "status": "completed"
    },
    "tags": []
   },
   "outputs": [
    {
     "data": {
      "text/html": [
       "<div>\n",
       "<style scoped>\n",
       "    .dataframe tbody tr th:only-of-type {\n",
       "        vertical-align: middle;\n",
       "    }\n",
       "\n",
       "    .dataframe tbody tr th {\n",
       "        vertical-align: top;\n",
       "    }\n",
       "\n",
       "    .dataframe thead th {\n",
       "        text-align: right;\n",
       "    }\n",
       "</style>\n",
       "<table border=\"1\" class=\"dataframe\">\n",
       "  <thead>\n",
       "    <tr style=\"text-align: right;\">\n",
       "      <th></th>\n",
       "      <th>0</th>\n",
       "      <th>1</th>\n",
       "      <th>2</th>\n",
       "      <th>3</th>\n",
       "      <th>4</th>\n",
       "    </tr>\n",
       "  </thead>\n",
       "  <tbody>\n",
       "    <tr>\n",
       "      <th>월ID</th>\n",
       "      <td>0.000000</td>\n",
       "      <td>0.000000</td>\n",
       "      <td>0.000000</td>\n",
       "      <td>0.000000</td>\n",
       "      <td>0.000000</td>\n",
       "    </tr>\n",
       "    <tr>\n",
       "      <th>상점ID</th>\n",
       "      <td>59.000000</td>\n",
       "      <td>59.000000</td>\n",
       "      <td>59.000000</td>\n",
       "      <td>59.000000</td>\n",
       "      <td>59.000000</td>\n",
       "    </tr>\n",
       "    <tr>\n",
       "      <th>상품ID</th>\n",
       "      <td>22154.000000</td>\n",
       "      <td>2552.000000</td>\n",
       "      <td>2554.000000</td>\n",
       "      <td>2555.000000</td>\n",
       "      <td>2564.000000</td>\n",
       "    </tr>\n",
       "    <tr>\n",
       "      <th>월간 판매량</th>\n",
       "      <td>1.000000</td>\n",
       "      <td>0.000000</td>\n",
       "      <td>0.000000</td>\n",
       "      <td>0.000000</td>\n",
       "      <td>0.000000</td>\n",
       "    </tr>\n",
       "    <tr>\n",
       "      <th>평균 판매가</th>\n",
       "      <td>999.000000</td>\n",
       "      <td>0.000000</td>\n",
       "      <td>0.000000</td>\n",
       "      <td>0.000000</td>\n",
       "      <td>0.000000</td>\n",
       "    </tr>\n",
       "    <tr>\n",
       "      <th>판매건수</th>\n",
       "      <td>1.000000</td>\n",
       "      <td>0.000000</td>\n",
       "      <td>0.000000</td>\n",
       "      <td>0.000000</td>\n",
       "      <td>0.000000</td>\n",
       "    </tr>\n",
       "    <tr>\n",
       "      <th>도시</th>\n",
       "      <td>30.000000</td>\n",
       "      <td>30.000000</td>\n",
       "      <td>30.000000</td>\n",
       "      <td>30.000000</td>\n",
       "      <td>30.000000</td>\n",
       "    </tr>\n",
       "    <tr>\n",
       "      <th>상품분류ID</th>\n",
       "      <td>37.000000</td>\n",
       "      <td>58.000000</td>\n",
       "      <td>58.000000</td>\n",
       "      <td>56.000000</td>\n",
       "      <td>59.000000</td>\n",
       "    </tr>\n",
       "    <tr>\n",
       "      <th>첫 판매월</th>\n",
       "      <td>0.000000</td>\n",
       "      <td>0.000000</td>\n",
       "      <td>0.000000</td>\n",
       "      <td>0.000000</td>\n",
       "      <td>0.000000</td>\n",
       "    </tr>\n",
       "    <tr>\n",
       "      <th>대분류</th>\n",
       "      <td>5.000000</td>\n",
       "      <td>7.000000</td>\n",
       "      <td>7.000000</td>\n",
       "      <td>7.000000</td>\n",
       "      <td>7.000000</td>\n",
       "    </tr>\n",
       "    <tr>\n",
       "      <th>상품ID별 평균 판매량</th>\n",
       "      <td>0.400000</td>\n",
       "      <td>0.022222</td>\n",
       "      <td>0.022222</td>\n",
       "      <td>0.044444</td>\n",
       "      <td>0.111111</td>\n",
       "    </tr>\n",
       "    <tr>\n",
       "      <th>상품ID 도시별 평균 판매량</th>\n",
       "      <td>1.000000</td>\n",
       "      <td>0.000000</td>\n",
       "      <td>0.000000</td>\n",
       "      <td>0.000000</td>\n",
       "      <td>0.000000</td>\n",
       "    </tr>\n",
       "    <tr>\n",
       "      <th>상점ID 상품분류ID별 평균 판매량</th>\n",
       "      <td>0.088496</td>\n",
       "      <td>0.000000</td>\n",
       "      <td>0.000000</td>\n",
       "      <td>0.008333</td>\n",
       "      <td>0.011976</td>\n",
       "    </tr>\n",
       "    <tr>\n",
       "      <th>월간 판매량_시차1</th>\n",
       "      <td>0.000000</td>\n",
       "      <td>0.000000</td>\n",
       "      <td>0.000000</td>\n",
       "      <td>0.000000</td>\n",
       "      <td>0.000000</td>\n",
       "    </tr>\n",
       "    <tr>\n",
       "      <th>월간 판매량_시차2</th>\n",
       "      <td>0.000000</td>\n",
       "      <td>0.000000</td>\n",
       "      <td>0.000000</td>\n",
       "      <td>0.000000</td>\n",
       "      <td>0.000000</td>\n",
       "    </tr>\n",
       "    <tr>\n",
       "      <th>월간 판매량_시차3</th>\n",
       "      <td>0.000000</td>\n",
       "      <td>0.000000</td>\n",
       "      <td>0.000000</td>\n",
       "      <td>0.000000</td>\n",
       "      <td>0.000000</td>\n",
       "    </tr>\n",
       "  </tbody>\n",
       "</table>\n",
       "</div>"
      ],
      "text/plain": [
       "                                0            1            2            3  \\\n",
       "월ID                      0.000000     0.000000     0.000000     0.000000   \n",
       "상점ID                    59.000000    59.000000    59.000000    59.000000   \n",
       "상품ID                 22154.000000  2552.000000  2554.000000  2555.000000   \n",
       "월간 판매량                   1.000000     0.000000     0.000000     0.000000   \n",
       "평균 판매가                 999.000000     0.000000     0.000000     0.000000   \n",
       "판매건수                     1.000000     0.000000     0.000000     0.000000   \n",
       "도시                      30.000000    30.000000    30.000000    30.000000   \n",
       "상품분류ID                  37.000000    58.000000    58.000000    56.000000   \n",
       "첫 판매월                    0.000000     0.000000     0.000000     0.000000   \n",
       "대분류                      5.000000     7.000000     7.000000     7.000000   \n",
       "상품ID별 평균 판매량             0.400000     0.022222     0.022222     0.044444   \n",
       "상품ID 도시별 평균 판매량          1.000000     0.000000     0.000000     0.000000   \n",
       "상점ID 상품분류ID별 평균 판매량      0.088496     0.000000     0.000000     0.008333   \n",
       "월간 판매량_시차1               0.000000     0.000000     0.000000     0.000000   \n",
       "월간 판매량_시차2               0.000000     0.000000     0.000000     0.000000   \n",
       "월간 판매량_시차3               0.000000     0.000000     0.000000     0.000000   \n",
       "\n",
       "                               4  \n",
       "월ID                     0.000000  \n",
       "상점ID                   59.000000  \n",
       "상품ID                 2564.000000  \n",
       "월간 판매량                  0.000000  \n",
       "평균 판매가                  0.000000  \n",
       "판매건수                    0.000000  \n",
       "도시                     30.000000  \n",
       "상품분류ID                 59.000000  \n",
       "첫 판매월                   0.000000  \n",
       "대분류                     7.000000  \n",
       "상품ID별 평균 판매량            0.111111  \n",
       "상품ID 도시별 평균 판매량         0.000000  \n",
       "상점ID 상품분류ID별 평균 판매량     0.011976  \n",
       "월간 판매량_시차1              0.000000  \n",
       "월간 판매량_시차2              0.000000  \n",
       "월간 판매량_시차3              0.000000  "
      ]
     },
     "execution_count": 36,
     "metadata": {},
     "output_type": "execute_result"
    }
   ],
   "source": [
    "all_data.head().T"
   ]
  },
  {
   "cell_type": "code",
   "execution_count": 37,
   "id": "55ccc366",
   "metadata": {
    "execution": {
     "iopub.execute_input": "2022-05-05T18:47:28.319946Z",
     "iopub.status.busy": "2022-05-05T18:47:28.319387Z",
     "iopub.status.idle": "2022-05-05T18:47:28.324939Z",
     "shell.execute_reply": "2022-05-05T18:47:28.324209Z"
    },
    "papermill": {
     "duration": 0.073428,
     "end_time": "2022-05-05T18:47:28.326831",
     "exception": false,
     "start_time": "2022-05-05T18:47:28.253403",
     "status": "completed"
    },
    "tags": []
   },
   "outputs": [
    {
     "data": {
      "text/plain": [
       "['월간 판매량_시차1', '월간 판매량_시차2', '월간 판매량_시차3']"
      ]
     },
     "execution_count": 37,
     "metadata": {},
     "output_type": "execute_result"
    }
   ],
   "source": [
    "lag_features_to_clip"
   ]
  },
  {
   "cell_type": "code",
   "execution_count": 38,
   "id": "c5d11bb9",
   "metadata": {
    "execution": {
     "iopub.execute_input": "2022-05-05T18:47:28.458358Z",
     "iopub.status.busy": "2022-05-05T18:47:28.457793Z",
     "iopub.status.idle": "2022-05-05T18:48:45.210706Z",
     "shell.execute_reply": "2022-05-05T18:48:45.209262Z"
    },
    "papermill": {
     "duration": 76.824213,
     "end_time": "2022-05-05T18:48:45.215708",
     "exception": false,
     "start_time": "2022-05-05T18:47:28.391495",
     "status": "completed"
    },
    "tags": []
   },
   "outputs": [],
   "source": [
    "all_data, lag_features_to_clip = add_lag_features(df=all_data, \n",
    "                                                  lag_features_to_clip=lag_features_to_clip,\n",
    "                                                  idx_features=idx_features,\n",
    "                                                  lag_feature='판매건수', \n",
    "                                                  nlags=3)\n",
    "\n",
    "all_data, lag_features_to_clip = add_lag_features(df=all_data, \n",
    "                                                  lag_features_to_clip=lag_features_to_clip,\n",
    "                                                  idx_features=idx_features,\n",
    "                                                  lag_feature='평균 판매가', \n",
    "                                                  nlags=3)"
   ]
  },
  {
   "cell_type": "code",
   "execution_count": 39,
   "id": "6e19b653",
   "metadata": {
    "execution": {
     "iopub.execute_input": "2022-05-05T18:48:45.353831Z",
     "iopub.status.busy": "2022-05-05T18:48:45.353508Z",
     "iopub.status.idle": "2022-05-05T18:50:00.667267Z",
     "shell.execute_reply": "2022-05-05T18:50:00.666328Z"
    },
    "papermill": {
     "duration": 75.384088,
     "end_time": "2022-05-05T18:50:00.669701",
     "exception": false,
     "start_time": "2022-05-05T18:48:45.285613",
     "status": "completed"
    },
    "tags": []
   },
   "outputs": [],
   "source": [
    "for item_mean_feature in item_mean_features:\n",
    "    all_data, lag_features_to_clip = add_lag_features(df=all_data, \n",
    "                                                      lag_features_to_clip=lag_features_to_clip, \n",
    "                                                      idx_features=idx_features, \n",
    "                                                      lag_feature=item_mean_feature, \n",
    "                                                      nlags=3,\n",
    "                                                      clip=True)\n",
    "    \n",
    "all_data = all_data.drop(item_mean_features, axis=1)"
   ]
  },
  {
   "cell_type": "code",
   "execution_count": 40,
   "id": "ccff9bf7",
   "metadata": {
    "execution": {
     "iopub.execute_input": "2022-05-05T18:50:00.801689Z",
     "iopub.status.busy": "2022-05-05T18:50:00.801401Z",
     "iopub.status.idle": "2022-05-05T18:50:14.440575Z",
     "shell.execute_reply": "2022-05-05T18:50:14.439610Z"
    },
    "papermill": {
     "duration": 13.708153,
     "end_time": "2022-05-05T18:50:14.443116",
     "exception": false,
     "start_time": "2022-05-05T18:50:00.734963",
     "status": "completed"
    },
    "tags": []
   },
   "outputs": [],
   "source": [
    "for shop_mean_feature in shop_mean_features:\n",
    "    all_data, lag_features_to_clip = add_lag_features(df=all_data,\n",
    "                                                      lag_features_to_clip=lag_features_to_clip, \n",
    "                                                      idx_features=['월ID', '상점ID', '상품분류ID'], \n",
    "                                                      lag_feature=shop_mean_feature, \n",
    "                                                      nlags=3,\n",
    "                                                      clip=True)\n",
    "all_data = all_data.drop(shop_mean_features, axis=1)"
   ]
  },
  {
   "cell_type": "code",
   "execution_count": 41,
   "id": "9ccaae5f",
   "metadata": {
    "execution": {
     "iopub.execute_input": "2022-05-05T18:50:14.575442Z",
     "iopub.status.busy": "2022-05-05T18:50:14.575152Z",
     "iopub.status.idle": "2022-05-05T18:50:17.160615Z",
     "shell.execute_reply": "2022-05-05T18:50:17.159712Z"
    },
    "papermill": {
     "duration": 2.654838,
     "end_time": "2022-05-05T18:50:17.163161",
     "exception": false,
     "start_time": "2022-05-05T18:50:14.508323",
     "status": "completed"
    },
    "tags": []
   },
   "outputs": [],
   "source": [
    "all_data = all_data.drop(all_data[all_data['월ID'] < 3].index)"
   ]
  },
  {
   "cell_type": "markdown",
   "id": "f4d40462",
   "metadata": {
    "papermill": {
     "duration": 0.065195,
     "end_time": "2022-05-05T18:50:17.294701",
     "exception": false,
     "start_time": "2022-05-05T18:50:17.229506",
     "status": "completed"
    },
    "tags": []
   },
   "source": [
    "Feature engineering VI: others"
   ]
  },
  {
   "cell_type": "code",
   "execution_count": 42,
   "id": "a09667ae",
   "metadata": {
    "execution": {
     "iopub.execute_input": "2022-05-05T18:50:17.427383Z",
     "iopub.status.busy": "2022-05-05T18:50:17.427102Z",
     "iopub.status.idle": "2022-05-05T18:50:17.589862Z",
     "shell.execute_reply": "2022-05-05T18:50:17.588998Z"
    },
    "papermill": {
     "duration": 0.231649,
     "end_time": "2022-05-05T18:50:17.592208",
     "exception": false,
     "start_time": "2022-05-05T18:50:17.360559",
     "status": "completed"
    },
    "tags": []
   },
   "outputs": [],
   "source": [
    "all_data['월간 판매량 시차평균'] = all_data[['월간 판매량_시차1',\n",
    "                                          '월간 판매량_시차2', \n",
    "                                          '월간 판매량_시차3']].mean(axis=1)"
   ]
  },
  {
   "cell_type": "code",
   "execution_count": 43,
   "id": "85aa6fa9",
   "metadata": {
    "execution": {
     "iopub.execute_input": "2022-05-05T18:50:17.729384Z",
     "iopub.status.busy": "2022-05-05T18:50:17.728541Z",
     "iopub.status.idle": "2022-05-05T18:50:21.197026Z",
     "shell.execute_reply": "2022-05-05T18:50:21.196120Z"
    },
    "papermill": {
     "duration": 3.539329,
     "end_time": "2022-05-05T18:50:21.199642",
     "exception": false,
     "start_time": "2022-05-05T18:50:17.660313",
     "status": "completed"
    },
    "tags": []
   },
   "outputs": [],
   "source": [
    "all_data[lag_features_to_clip + ['월간 판매량', '월간 판매량 시차평균']] =\\\n",
    "all_data[lag_features_to_clip + ['월간 판매량', '월간 판매량 시차평균']].clip(0, 20)"
   ]
  },
  {
   "cell_type": "code",
   "execution_count": 44,
   "id": "4c766beb",
   "metadata": {
    "execution": {
     "iopub.execute_input": "2022-05-05T18:50:21.331011Z",
     "iopub.status.busy": "2022-05-05T18:50:21.330708Z",
     "iopub.status.idle": "2022-05-05T18:50:21.852181Z",
     "shell.execute_reply": "2022-05-05T18:50:21.851279Z"
    },
    "papermill": {
     "duration": 0.589961,
     "end_time": "2022-05-05T18:50:21.854616",
     "exception": false,
     "start_time": "2022-05-05T18:50:21.264655",
     "status": "completed"
    },
    "tags": []
   },
   "outputs": [],
   "source": [
    "all_data['시차변화량1'] = all_data['월간 판매량_시차1']/all_data['월간 판매량_시차2']\n",
    "all_data['시차변화량1'] = all_data['시차변화량1'].replace([np.inf, -np.inf], \n",
    "                                                        np.nan).fillna(0)\n",
    "\n",
    "all_data['시차변화량2'] = all_data['월간 판매량_시차2']/all_data['월간 판매량_시차3']\n",
    "all_data['시차변화량2'] = all_data['시차변화량2'].replace([np.inf, -np.inf], \n",
    "                                                        np.nan).fillna(0)"
   ]
  },
  {
   "cell_type": "code",
   "execution_count": 45,
   "id": "9d98dff8",
   "metadata": {
    "execution": {
     "iopub.execute_input": "2022-05-05T18:50:21.990100Z",
     "iopub.status.busy": "2022-05-05T18:50:21.989771Z",
     "iopub.status.idle": "2022-05-05T18:50:21.999572Z",
     "shell.execute_reply": "2022-05-05T18:50:21.998736Z"
    },
    "papermill": {
     "duration": 0.079842,
     "end_time": "2022-05-05T18:50:22.001890",
     "exception": false,
     "start_time": "2022-05-05T18:50:21.922048",
     "status": "completed"
    },
    "tags": []
   },
   "outputs": [],
   "source": [
    "all_data['신상여부'] = all_data['첫 판매월'] == all_data['월ID']"
   ]
  },
  {
   "cell_type": "code",
   "execution_count": 46,
   "id": "d5bbeb61",
   "metadata": {
    "execution": {
     "iopub.execute_input": "2022-05-05T18:50:22.137169Z",
     "iopub.status.busy": "2022-05-05T18:50:22.136506Z",
     "iopub.status.idle": "2022-05-05T18:50:22.146943Z",
     "shell.execute_reply": "2022-05-05T18:50:22.146062Z"
    },
    "papermill": {
     "duration": 0.07981,
     "end_time": "2022-05-05T18:50:22.149223",
     "exception": false,
     "start_time": "2022-05-05T18:50:22.069413",
     "status": "completed"
    },
    "tags": []
   },
   "outputs": [],
   "source": [
    "all_data['첫 판매 후 기간'] = all_data['월ID'] - all_data['첫 판매월']"
   ]
  },
  {
   "cell_type": "code",
   "execution_count": 47,
   "id": "da30ded6",
   "metadata": {
    "execution": {
     "iopub.execute_input": "2022-05-05T18:50:22.282834Z",
     "iopub.status.busy": "2022-05-05T18:50:22.282551Z",
     "iopub.status.idle": "2022-05-05T18:50:22.338478Z",
     "shell.execute_reply": "2022-05-05T18:50:22.337595Z"
    },
    "papermill": {
     "duration": 0.125509,
     "end_time": "2022-05-05T18:50:22.340713",
     "exception": false,
     "start_time": "2022-05-05T18:50:22.215204",
     "status": "completed"
    },
    "tags": []
   },
   "outputs": [],
   "source": [
    "all_data['월'] = all_data['월ID'] % 12"
   ]
  },
  {
   "cell_type": "code",
   "execution_count": 48,
   "id": "d839d240",
   "metadata": {
    "execution": {
     "iopub.execute_input": "2022-05-05T18:50:22.472821Z",
     "iopub.status.busy": "2022-05-05T18:50:22.472540Z",
     "iopub.status.idle": "2022-05-05T18:50:23.199924Z",
     "shell.execute_reply": "2022-05-05T18:50:23.199045Z"
    },
    "papermill": {
     "duration": 0.796667,
     "end_time": "2022-05-05T18:50:23.202494",
     "exception": false,
     "start_time": "2022-05-05T18:50:22.405827",
     "status": "completed"
    },
    "tags": []
   },
   "outputs": [],
   "source": [
    "all_data = all_data.drop(['첫 판매월', '평균 판매가', '판매건수'], axis=1)"
   ]
  },
  {
   "cell_type": "code",
   "execution_count": 49,
   "id": "9cfe71f4",
   "metadata": {
    "execution": {
     "iopub.execute_input": "2022-05-05T18:50:23.335460Z",
     "iopub.status.busy": "2022-05-05T18:50:23.335172Z",
     "iopub.status.idle": "2022-05-05T18:50:25.000645Z",
     "shell.execute_reply": "2022-05-05T18:50:24.999978Z"
    },
    "papermill": {
     "duration": 1.734715,
     "end_time": "2022-05-05T18:50:25.002975",
     "exception": false,
     "start_time": "2022-05-05T18:50:23.268260",
     "status": "completed"
    },
    "tags": []
   },
   "outputs": [],
   "source": [
    "all_data = downcast(all_data, False)"
   ]
  },
  {
   "cell_type": "markdown",
   "id": "fd48fa20",
   "metadata": {
    "papermill": {
     "duration": 0.064475,
     "end_time": "2022-05-05T18:50:25.132824",
     "exception": false,
     "start_time": "2022-05-05T18:50:25.068349",
     "status": "completed"
    },
    "tags": []
   },
   "source": [
    "Feature Engineering VII: Finalize"
   ]
  },
  {
   "cell_type": "code",
   "execution_count": 50,
   "id": "5b96d4a7",
   "metadata": {
    "execution": {
     "iopub.execute_input": "2022-05-05T18:50:25.265337Z",
     "iopub.status.busy": "2022-05-05T18:50:25.264630Z",
     "iopub.status.idle": "2022-05-05T18:50:25.275599Z",
     "shell.execute_reply": "2022-05-05T18:50:25.274758Z"
    },
    "papermill": {
     "duration": 0.081124,
     "end_time": "2022-05-05T18:50:25.279377",
     "exception": false,
     "start_time": "2022-05-05T18:50:25.198253",
     "status": "completed"
    },
    "tags": []
   },
   "outputs": [
    {
     "name": "stdout",
     "output_type": "stream",
     "text": [
      "<class 'pandas.core.frame.DataFrame'>\n",
      "Int64Index: 9904582 entries, 1122386 to 11026967\n",
      "Data columns (total 31 columns):\n",
      " #   Column                   Dtype  \n",
      "---  ------                   -----  \n",
      " 0   월ID                      int8   \n",
      " 1   상점ID                     int8   \n",
      " 2   상품ID                     int16  \n",
      " 3   월간 판매량                   int8   \n",
      " 4   도시                       int8   \n",
      " 5   상품분류ID                   int8   \n",
      " 6   대분류                      int8   \n",
      " 7   월간 판매량_시차1               int8   \n",
      " 8   월간 판매량_시차2               int8   \n",
      " 9   월간 판매량_시차3               int8   \n",
      " 10  판매건수_시차1                 int8   \n",
      " 11  판매건수_시차2                 int8   \n",
      " 12  판매건수_시차3                 int8   \n",
      " 13  평균 판매가_시차1               float32\n",
      " 14  평균 판매가_시차2               float32\n",
      " 15  평균 판매가_시차3               float32\n",
      " 16  상품ID별 평균 판매량_시차1         float32\n",
      " 17  상품ID별 평균 판매량_시차2         float32\n",
      " 18  상품ID별 평균 판매량_시차3         float32\n",
      " 19  상품ID 도시별 평균 판매량_시차1      float32\n",
      " 20  상품ID 도시별 평균 판매량_시차2      float32\n",
      " 21  상품ID 도시별 평균 판매량_시차3      float32\n",
      " 22  상점ID 상품분류ID별 평균 판매량_시차1  float32\n",
      " 23  상점ID 상품분류ID별 평균 판매량_시차2  float32\n",
      " 24  상점ID 상품분류ID별 평균 판매량_시차3  float32\n",
      " 25  월간 판매량 시차평균              float32\n",
      " 26  시차변화량1                   float32\n",
      " 27  시차변화량2                   float32\n",
      " 28  신상여부                     int8   \n",
      " 29  첫 판매 후 기간                int8   \n",
      " 30  월                        int8   \n",
      "dtypes: float32(15), int16(1), int8(15)\n",
      "memory usage: 802.9 MB\n"
     ]
    }
   ],
   "source": [
    "all_data.info()"
   ]
  },
  {
   "cell_type": "code",
   "execution_count": 51,
   "id": "297c627d",
   "metadata": {
    "execution": {
     "iopub.execute_input": "2022-05-05T18:50:25.411762Z",
     "iopub.status.busy": "2022-05-05T18:50:25.411202Z",
     "iopub.status.idle": "2022-05-05T18:50:28.076801Z",
     "shell.execute_reply": "2022-05-05T18:50:28.076124Z"
    },
    "papermill": {
     "duration": 2.734251,
     "end_time": "2022-05-05T18:50:28.079081",
     "exception": false,
     "start_time": "2022-05-05T18:50:25.344830",
     "status": "completed"
    },
    "tags": []
   },
   "outputs": [],
   "source": [
    "X_train = all_data[all_data['월ID'] < 33]\n",
    "X_train = X_train.drop(['월간 판매량'], axis=1)\n",
    "\n",
    "X_valid = all_data[all_data['월ID'] == 33]\n",
    "X_valid = X_valid.drop(['월간 판매량'], axis=1)\n",
    "\n",
    "X_test = all_data[all_data['월ID'] == 34]\n",
    "X_test = X_test.drop(['월간 판매량'], axis=1)\n",
    "\n",
    "y_train = all_data[all_data['월ID'] < 33]['월간 판매량']\n",
    "\n",
    "y_valid = all_data[all_data['월ID'] == 33]['월간 판매량']\n",
    "\n",
    "del all_data\n",
    "gc.collect();"
   ]
  },
  {
   "cell_type": "markdown",
   "id": "e75e22d9",
   "metadata": {
    "papermill": {
     "duration": 0.064511,
     "end_time": "2022-05-05T18:50:28.209664",
     "exception": false,
     "start_time": "2022-05-05T18:50:28.145153",
     "status": "completed"
    },
    "tags": []
   },
   "source": [
    "Model train and evaluation"
   ]
  },
  {
   "cell_type": "code",
   "execution_count": 52,
   "id": "b2c3fcac",
   "metadata": {
    "execution": {
     "iopub.execute_input": "2022-05-05T18:50:28.341301Z",
     "iopub.status.busy": "2022-05-05T18:50:28.340769Z",
     "iopub.status.idle": "2022-05-05T19:06:04.732691Z",
     "shell.execute_reply": "2022-05-05T19:06:04.731934Z"
    },
    "papermill": {
     "duration": 936.460349,
     "end_time": "2022-05-05T19:06:04.735169",
     "exception": false,
     "start_time": "2022-05-05T18:50:28.274820",
     "status": "completed"
    },
    "tags": []
   },
   "outputs": [
    {
     "data": {
      "text/html": [
       "<style type='text/css'>\n",
       ".datatable table.frame { margin-bottom: 0; }\n",
       ".datatable table.frame thead { border-bottom: none; }\n",
       ".datatable table.frame tr.coltypes td {  color: #FFFFFF;  line-height: 6px;  padding: 0 0.5em;}\n",
       ".datatable .bool    { background: #DDDD99; }\n",
       ".datatable .object  { background: #565656; }\n",
       ".datatable .int     { background: #5D9E5D; }\n",
       ".datatable .float   { background: #4040CC; }\n",
       ".datatable .str     { background: #CC4040; }\n",
       ".datatable .time    { background: #40CC40; }\n",
       ".datatable .row_index {  background: var(--jp-border-color3);  border-right: 1px solid var(--jp-border-color0);  color: var(--jp-ui-font-color3);  font-size: 9px;}\n",
       ".datatable .frame tbody td { text-align: left; }\n",
       ".datatable .frame tr.coltypes .row_index {  background: var(--jp-border-color0);}\n",
       ".datatable th:nth-child(2) { padding-left: 12px; }\n",
       ".datatable .hellipsis {  color: var(--jp-cell-editor-border-color);}\n",
       ".datatable .vellipsis {  background: var(--jp-layout-color0);  color: var(--jp-cell-editor-border-color);}\n",
       ".datatable .na {  color: var(--jp-cell-editor-border-color);  font-size: 80%;}\n",
       ".datatable .sp {  opacity: 0.25;}\n",
       ".datatable .footer { font-size: 9px; }\n",
       ".datatable .frame_dimensions {  background: var(--jp-border-color3);  border-top: 1px solid var(--jp-border-color0);  color: var(--jp-ui-font-color3);  display: inline-block;  opacity: 0.6;  padding: 1px 10px 1px 5px;}\n",
       "</style>\n"
      ],
      "text/plain": [
       "<IPython.core.display.HTML object>"
      ]
     },
     "metadata": {},
     "output_type": "display_data"
    },
    {
     "name": "stdout",
     "output_type": "stream",
     "text": [
      "[LightGBM] [Warning] Found whitespace in feature_names, replace with underlines\n",
      "[LightGBM] [Info] Total Bins 3859\n",
      "[LightGBM] [Info] Number of data points in the train set: 9452298, number of used features: 30\n",
      "[LightGBM] [Warning] Found whitespace in feature_names, replace with underlines\n",
      "[LightGBM] [Info] Start training from score 0.297707\n",
      "Training until validation scores don't improve for 150 rounds\n",
      "[100]\ttraining's rmse: 1.01223\tvalid_1's rmse: 0.987556\n",
      "[200]\ttraining's rmse: 0.911043\tvalid_1's rmse: 0.924287\n",
      "[300]\ttraining's rmse: 0.860039\tvalid_1's rmse: 0.899103\n",
      "[400]\ttraining's rmse: 0.831922\tvalid_1's rmse: 0.889376\n",
      "[500]\ttraining's rmse: 0.813469\tvalid_1's rmse: 0.885821\n",
      "[600]\ttraining's rmse: 0.799824\tvalid_1's rmse: 0.884889\n",
      "[700]\ttraining's rmse: 0.789903\tvalid_1's rmse: 0.884388\n",
      "[800]\ttraining's rmse: 0.781822\tvalid_1's rmse: 0.883989\n",
      "Early stopping, best iteration is:\n",
      "[746]\ttraining's rmse: 0.786011\tvalid_1's rmse: 0.88382\n"
     ]
    }
   ],
   "source": [
    "import lightgbm as lgb\n",
    "\n",
    "params = {'metric': 'rmse', \n",
    "          'num_leaves': 255,\n",
    "          'learning_rate': 0.005,\n",
    "          'feature_fraction': 0.75,\n",
    "          'bagging_fraction': 0.75,\n",
    "          'bagging_freq': 5,\n",
    "          'force_col_wise': True,\n",
    "          'random_state': 10}\n",
    "\n",
    "cat_features = ['상점ID', '도시', '상품분류ID', '대분류', '월']\n",
    "\n",
    "dtrain = lgb.Dataset(X_train, y_train)\n",
    "dvalid = lgb.Dataset(X_valid, y_valid)\n",
    "\n",
    "lgb_model = lgb.train(params=params,\n",
    "                      train_set=dtrain,\n",
    "                      num_boost_round=1500,\n",
    "                      valid_sets=(dtrain, dvalid),\n",
    "                      early_stopping_rounds=150,\n",
    "                      categorical_feature=cat_features,\n",
    "                      verbose_eval=100)    "
   ]
  },
  {
   "cell_type": "code",
   "execution_count": 53,
   "id": "88c1f7e1",
   "metadata": {
    "execution": {
     "iopub.execute_input": "2022-05-05T19:06:04.880093Z",
     "iopub.status.busy": "2022-05-05T19:06:04.879049Z",
     "iopub.status.idle": "2022-05-05T19:06:16.192171Z",
     "shell.execute_reply": "2022-05-05T19:06:16.191222Z"
    },
    "papermill": {
     "duration": 11.388428,
     "end_time": "2022-05-05T19:06:16.194533",
     "exception": false,
     "start_time": "2022-05-05T19:06:04.806105",
     "status": "completed"
    },
    "tags": []
   },
   "outputs": [],
   "source": [
    "preds = lgb_model.predict(X_test).clip(0, 20)\n",
    "\n",
    "\n",
    "submission['item_cnt_month'] = preds\n",
    "submission.to_csv('submission.csv', index=False)"
   ]
  },
  {
   "cell_type": "code",
   "execution_count": 54,
   "id": "98290cab",
   "metadata": {
    "execution": {
     "iopub.execute_input": "2022-05-05T19:06:16.339468Z",
     "iopub.status.busy": "2022-05-05T19:06:16.338894Z",
     "iopub.status.idle": "2022-05-05T19:06:16.493614Z",
     "shell.execute_reply": "2022-05-05T19:06:16.492977Z"
    },
    "papermill": {
     "duration": 0.229975,
     "end_time": "2022-05-05T19:06:16.495769",
     "exception": false,
     "start_time": "2022-05-05T19:06:16.265794",
     "status": "completed"
    },
    "tags": []
   },
   "outputs": [],
   "source": [
    "del X_train, y_train, X_valid, y_valid, X_test, lgb_model, dtrain, dvalid\n",
    "gc.collect();"
   ]
  }
 ],
 "metadata": {
  "kernelspec": {
   "display_name": "Python 3",
   "language": "python",
   "name": "python3"
  },
  "language_info": {
   "codemirror_mode": {
    "name": "ipython",
    "version": 3
   },
   "file_extension": ".py",
   "mimetype": "text/x-python",
   "name": "python",
   "nbconvert_exporter": "python",
   "pygments_lexer": "ipython3",
   "version": "3.7.12"
  },
  "papermill": {
   "default_parameters": {},
   "duration": 1231.326498,
   "end_time": "2022-05-05T19:06:17.510188",
   "environment_variables": {},
   "exception": null,
   "input_path": "__notebook__.ipynb",
   "output_path": "__notebook__.ipynb",
   "parameters": {},
   "start_time": "2022-05-05T18:45:46.183690",
   "version": "2.3.4"
  }
 },
 "nbformat": 4,
 "nbformat_minor": 5
}
