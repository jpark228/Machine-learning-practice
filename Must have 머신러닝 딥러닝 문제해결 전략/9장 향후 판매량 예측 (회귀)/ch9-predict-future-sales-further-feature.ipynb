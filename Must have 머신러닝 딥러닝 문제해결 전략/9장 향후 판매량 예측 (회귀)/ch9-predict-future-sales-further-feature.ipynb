{
 "cells": [
  {
   "cell_type": "code",
   "execution_count": 1,
   "id": "510eb1e7",
   "metadata": {
    "execution": {
     "iopub.execute_input": "2022-05-05T18:54:51.850215Z",
     "iopub.status.busy": "2022-05-05T18:54:51.849554Z",
     "iopub.status.idle": "2022-05-05T18:54:54.804216Z",
     "shell.execute_reply": "2022-05-05T18:54:54.803487Z",
     "shell.execute_reply.started": "2022-05-05T18:35:30.412016Z"
    },
    "papermill": {
     "duration": 3.009215,
     "end_time": "2022-05-05T18:54:54.804405",
     "exception": false,
     "start_time": "2022-05-05T18:54:51.795190",
     "status": "completed"
    },
    "tags": []
   },
   "outputs": [],
   "source": [
    "import numpy as np\n",
    "import pandas as pd\n",
    "import warnings\n",
    "\n",
    "warnings.filterwarnings(action='ignore') \n",
    "\n",
    "data_path = '/kaggle/input/competitive-data-science-predict-future-sales/'\n",
    "\n",
    "sales_train = pd.read_csv(data_path + 'sales_train.csv')\n",
    "shops = pd.read_csv(data_path + 'shops.csv')\n",
    "items = pd.read_csv(data_path + 'items.csv')\n",
    "item_categories = pd.read_csv(data_path + 'item_categories.csv')\n",
    "test = pd.read_csv(data_path + 'test.csv')\n",
    "submission = pd.read_csv(data_path + 'sample_submission.csv')"
   ]
  },
  {
   "cell_type": "code",
   "execution_count": 2,
   "id": "afd48ec3",
   "metadata": {
    "execution": {
     "iopub.execute_input": "2022-05-05T18:54:54.903827Z",
     "iopub.status.busy": "2022-05-05T18:54:54.903134Z",
     "iopub.status.idle": "2022-05-05T18:54:54.991539Z",
     "shell.execute_reply": "2022-05-05T18:54:54.990808Z",
     "shell.execute_reply.started": "2022-05-05T18:35:33.661601Z"
    },
    "papermill": {
     "duration": 0.139293,
     "end_time": "2022-05-05T18:54:54.991692",
     "exception": false,
     "start_time": "2022-05-05T18:54:54.852399",
     "status": "completed"
    },
    "tags": []
   },
   "outputs": [],
   "source": [
    "sales_train = sales_train.rename(columns={'date': '날짜', \n",
    "                                          'date_block_num': '월ID',\n",
    "                                          'shop_id': '상점ID',\n",
    "                                          'item_id': '상품ID',\n",
    "                                          'item_price': '판매가',\n",
    "                                          'item_cnt_day': '판매량'})\n",
    "\n",
    "shops = shops.rename(columns={'shop_name': '상점명',\n",
    "                              'shop_id': '상점ID'})\n",
    "\n",
    "items = items.rename(columns={'item_name': '상품명',\n",
    "                              'item_id': '상품ID',\n",
    "                              'item_category_id': '상품분류ID'})\n",
    "\n",
    "item_categories = item_categories.rename(columns=\n",
    "                                         {'item_category_name': '상품분류명',\n",
    "                                          'item_category_id': '상품분류ID'})\n",
    "\n",
    "test = test.rename(columns={'shop_id': '상점ID',\n",
    "                            'item_id': '상품ID'})"
   ]
  },
  {
   "cell_type": "code",
   "execution_count": 3,
   "id": "3dd59508",
   "metadata": {
    "execution": {
     "iopub.execute_input": "2022-05-05T18:54:55.089211Z",
     "iopub.status.busy": "2022-05-05T18:54:55.088430Z",
     "iopub.status.idle": "2022-05-05T18:54:55.476962Z",
     "shell.execute_reply": "2022-05-05T18:54:55.476402Z",
     "shell.execute_reply.started": "2022-05-05T18:35:33.797330Z"
    },
    "papermill": {
     "duration": 0.440952,
     "end_time": "2022-05-05T18:54:55.477131",
     "exception": false,
     "start_time": "2022-05-05T18:54:55.036179",
     "status": "completed"
    },
    "tags": []
   },
   "outputs": [
    {
     "name": "stdout",
     "output_type": "stream",
     "text": [
      "62.5% 압축됨\n",
      "38.6% 압축됨\n",
      "54.2% 압축됨\n",
      "39.9% 압축됨\n",
      "70.8% 압축됨\n"
     ]
    }
   ],
   "source": [
    "def downcast(df, verbose=True):\n",
    "    start_mem = df.memory_usage().sum() / 1024**2\n",
    "    for col in df.columns:\n",
    "        dtype_name = df[col].dtype.name\n",
    "        if dtype_name == 'object':\n",
    "            pass\n",
    "        elif dtype_name == 'bool':\n",
    "            df[col] = df[col].astype('int8')\n",
    "        elif dtype_name.startswith('int') or (df[col].round() == df[col]).all():\n",
    "            df[col] = pd.to_numeric(df[col], downcast='integer')\n",
    "        else:\n",
    "            df[col] = pd.to_numeric(df[col], downcast='float')\n",
    "    end_mem = df.memory_usage().sum() / 1024**2\n",
    "    if verbose:\n",
    "        print('{:.1f}% 압축됨'.format(100 * (start_mem - end_mem) / start_mem))\n",
    "    \n",
    "    return df\n",
    "\n",
    "all_df = [sales_train, shops, items, item_categories, test]\n",
    "for df in all_df:\n",
    "    df = downcast(df)"
   ]
  },
  {
   "cell_type": "code",
   "execution_count": 4,
   "id": "946bd647",
   "metadata": {
    "execution": {
     "iopub.execute_input": "2022-05-05T18:54:55.569813Z",
     "iopub.status.busy": "2022-05-05T18:54:55.568798Z",
     "iopub.status.idle": "2022-05-05T18:54:55.978775Z",
     "shell.execute_reply": "2022-05-05T18:54:55.978085Z",
     "shell.execute_reply.started": "2022-05-05T18:35:34.195507Z"
    },
    "papermill": {
     "duration": 0.457032,
     "end_time": "2022-05-05T18:54:55.978926",
     "exception": false,
     "start_time": "2022-05-05T18:54:55.521894",
     "status": "completed"
    },
    "tags": []
   },
   "outputs": [],
   "source": [
    "sales_train = sales_train[sales_train['판매가'] > 0]\n",
    "\n",
    "sales_train = sales_train[sales_train['판매가'] < 50000]\n",
    "\n",
    "sales_train = sales_train[sales_train['판매량'] > 0]\n",
    "\n",
    "sales_train = sales_train[sales_train['판매량'] < 1000]"
   ]
  },
  {
   "cell_type": "code",
   "execution_count": 5,
   "id": "bffd37ac",
   "metadata": {
    "execution": {
     "iopub.execute_input": "2022-05-05T18:54:56.077714Z",
     "iopub.status.busy": "2022-05-05T18:54:56.076762Z",
     "iopub.status.idle": "2022-05-05T18:54:56.081099Z",
     "shell.execute_reply": "2022-05-05T18:54:56.080562Z",
     "shell.execute_reply.started": "2022-05-05T18:35:34.599767Z"
    },
    "papermill": {
     "duration": 0.057273,
     "end_time": "2022-05-05T18:54:56.081255",
     "exception": false,
     "start_time": "2022-05-05T18:54:56.023982",
     "status": "completed"
    },
    "tags": []
   },
   "outputs": [
    {
     "name": "stdout",
     "output_type": "stream",
     "text": [
      "!Якутск Орджоникидзе, 56 фран || Якутск Орджоникидзе, 56\n",
      "!Якутск ТЦ \"Центральный\" фран || Якутск ТЦ \"Центральный\"\n",
      "Жуковский ул. Чкалова 39м? || Жуковский ул. Чкалова 39м²\n",
      "РостовНаДону ТРК \"Мегацентр Горизонт\" || РостовНаДону ТРК \"Мегацентр Горизонт\" Островной\n"
     ]
    }
   ],
   "source": [
    "print(shops['상점명'][0], '||', shops['상점명'][57])\n",
    "print(shops['상점명'][1], '||', shops['상점명'][58])\n",
    "print(shops['상점명'][10], '||', shops['상점명'][11])\n",
    "print(shops['상점명'][39], '||', shops['상점명'][40])"
   ]
  },
  {
   "cell_type": "code",
   "execution_count": 6,
   "id": "3c2c24d3",
   "metadata": {
    "execution": {
     "iopub.execute_input": "2022-05-05T18:54:56.174873Z",
     "iopub.status.busy": "2022-05-05T18:54:56.173848Z",
     "iopub.status.idle": "2022-05-05T18:54:56.198422Z",
     "shell.execute_reply": "2022-05-05T18:54:56.198991Z",
     "shell.execute_reply.started": "2022-05-05T18:35:34.610179Z"
    },
    "papermill": {
     "duration": 0.073478,
     "end_time": "2022-05-05T18:54:56.199185",
     "exception": false,
     "start_time": "2022-05-05T18:54:56.125707",
     "status": "completed"
    },
    "tags": []
   },
   "outputs": [],
   "source": [
    "sales_train.loc[sales_train['상점ID'] == 0, '상점ID'] = 57\n",
    "sales_train.loc[sales_train['상점ID'] == 1, '상점ID'] = 58\n",
    "sales_train.loc[sales_train['상점ID'] == 10, '상점ID'] = 11\n",
    "sales_train.loc[sales_train['상점ID'] == 39, '상점ID'] = 40\n",
    "\n",
    "test.loc[test['상점ID'] == 0, '상점ID'] = 57\n",
    "test.loc[test['상점ID'] == 1, '상점ID'] = 58\n",
    "test.loc[test['상점ID'] == 10, '상점ID'] = 11\n",
    "test.loc[test['상점ID'] == 39, '상점ID'] = 40"
   ]
  },
  {
   "cell_type": "markdown",
   "id": "80d6ce3a",
   "metadata": {
    "papermill": {
     "duration": 0.043968,
     "end_time": "2022-05-05T18:54:56.286772",
     "exception": false,
     "start_time": "2022-05-05T18:54:56.242804",
     "status": "completed"
    },
    "tags": []
   },
   "source": [
    "### Extract storage ID only included in test dataset"
   ]
  },
  {
   "cell_type": "code",
   "execution_count": 7,
   "id": "d6162cad",
   "metadata": {
    "execution": {
     "iopub.execute_input": "2022-05-05T18:54:56.382922Z",
     "iopub.status.busy": "2022-05-05T18:54:56.381736Z",
     "iopub.status.idle": "2022-05-05T18:54:56.478519Z",
     "shell.execute_reply": "2022-05-05T18:54:56.477831Z",
     "shell.execute_reply.started": "2022-05-05T18:35:34.656123Z"
    },
    "papermill": {
     "duration": 0.1474,
     "end_time": "2022-05-05T18:54:56.478662",
     "exception": false,
     "start_time": "2022-05-05T18:54:56.331262",
     "status": "completed"
    },
    "tags": []
   },
   "outputs": [],
   "source": [
    "unique_test_shop_id = test['상점ID'].unique()\n",
    "sales_train = sales_train[sales_train['상점ID'].isin(unique_test_shop_id)]"
   ]
  },
  {
   "cell_type": "code",
   "execution_count": 8,
   "id": "3ce98e89",
   "metadata": {
    "execution": {
     "iopub.execute_input": "2022-05-05T18:54:56.580313Z",
     "iopub.status.busy": "2022-05-05T18:54:56.578513Z",
     "iopub.status.idle": "2022-05-05T18:54:56.581165Z",
     "shell.execute_reply": "2022-05-05T18:54:56.581697Z",
     "shell.execute_reply.started": "2022-05-05T18:35:34.752058Z"
    },
    "papermill": {
     "duration": 0.057539,
     "end_time": "2022-05-05T18:54:56.581904",
     "exception": false,
     "start_time": "2022-05-05T18:54:56.524365",
     "status": "completed"
    },
    "tags": []
   },
   "outputs": [],
   "source": [
    "shops['도시'] = shops['상점명'].apply(lambda x: x.split()[0])"
   ]
  },
  {
   "cell_type": "code",
   "execution_count": 9,
   "id": "9de76167",
   "metadata": {
    "execution": {
     "iopub.execute_input": "2022-05-05T18:54:56.683902Z",
     "iopub.status.busy": "2022-05-05T18:54:56.682875Z",
     "iopub.status.idle": "2022-05-05T18:54:56.687558Z",
     "shell.execute_reply": "2022-05-05T18:54:56.686955Z",
     "shell.execute_reply.started": "2022-05-05T18:35:34.760733Z"
    },
    "papermill": {
     "duration": 0.059589,
     "end_time": "2022-05-05T18:54:56.687704",
     "exception": false,
     "start_time": "2022-05-05T18:54:56.628115",
     "status": "completed"
    },
    "tags": []
   },
   "outputs": [
    {
     "data": {
      "text/plain": [
       "array(['!Якутск', 'Адыгея', 'Балашиха', 'Волжский', 'Вологда', 'Воронеж',\n",
       "       'Выездная', 'Жуковский', 'Интернет-магазин', 'Казань', 'Калуга',\n",
       "       'Коломна', 'Красноярск', 'Курск', 'Москва', 'Мытищи', 'Н.Новгород',\n",
       "       'Новосибирск', 'Омск', 'РостовНаДону', 'СПб', 'Самара', 'Сергиев',\n",
       "       'Сургут', 'Томск', 'Тюмень', 'Уфа', 'Химки', 'Цифровой', 'Чехов',\n",
       "       'Якутск', 'Ярославль'], dtype=object)"
      ]
     },
     "execution_count": 9,
     "metadata": {},
     "output_type": "execute_result"
    }
   ],
   "source": [
    "shops['도시'].unique()"
   ]
  },
  {
   "cell_type": "code",
   "execution_count": 10,
   "id": "0fe9b022",
   "metadata": {
    "execution": {
     "iopub.execute_input": "2022-05-05T18:54:56.793137Z",
     "iopub.status.busy": "2022-05-05T18:54:56.791433Z",
     "iopub.status.idle": "2022-05-05T18:54:56.793864Z",
     "shell.execute_reply": "2022-05-05T18:54:56.794382Z",
     "shell.execute_reply.started": "2022-05-05T18:35:34.782517Z"
    },
    "papermill": {
     "duration": 0.057663,
     "end_time": "2022-05-05T18:54:56.794571",
     "exception": false,
     "start_time": "2022-05-05T18:54:56.736908",
     "status": "completed"
    },
    "tags": []
   },
   "outputs": [],
   "source": [
    "shops.loc[shops['도시'] =='!Якутск', '도시'] = 'Якутск'"
   ]
  },
  {
   "cell_type": "code",
   "execution_count": 11,
   "id": "cd3fbf7b",
   "metadata": {
    "execution": {
     "iopub.execute_input": "2022-05-05T18:54:56.893523Z",
     "iopub.status.busy": "2022-05-05T18:54:56.892790Z",
     "iopub.status.idle": "2022-05-05T18:54:57.956891Z",
     "shell.execute_reply": "2022-05-05T18:54:57.955759Z",
     "shell.execute_reply.started": "2022-05-05T18:35:34.792884Z"
    },
    "papermill": {
     "duration": 1.115537,
     "end_time": "2022-05-05T18:54:57.957074",
     "exception": false,
     "start_time": "2022-05-05T18:54:56.841537",
     "status": "completed"
    },
    "tags": []
   },
   "outputs": [],
   "source": [
    "from sklearn.preprocessing import LabelEncoder\n",
    "\n",
    "label_encoder = LabelEncoder()\n",
    "\n",
    "shops['도시'] = label_encoder.fit_transform(shops['도시'])"
   ]
  },
  {
   "cell_type": "code",
   "execution_count": 12,
   "id": "ae059a85",
   "metadata": {
    "execution": {
     "iopub.execute_input": "2022-05-05T18:54:58.051183Z",
     "iopub.status.busy": "2022-05-05T18:54:58.050497Z",
     "iopub.status.idle": "2022-05-05T18:54:58.065901Z",
     "shell.execute_reply": "2022-05-05T18:54:58.065325Z",
     "shell.execute_reply.started": "2022-05-05T18:35:35.742624Z"
    },
    "papermill": {
     "duration": 0.064347,
     "end_time": "2022-05-05T18:54:58.066068",
     "exception": false,
     "start_time": "2022-05-05T18:54:58.001721",
     "status": "completed"
    },
    "tags": []
   },
   "outputs": [
    {
     "data": {
      "text/html": [
       "<div>\n",
       "<style scoped>\n",
       "    .dataframe tbody tr th:only-of-type {\n",
       "        vertical-align: middle;\n",
       "    }\n",
       "\n",
       "    .dataframe tbody tr th {\n",
       "        vertical-align: top;\n",
       "    }\n",
       "\n",
       "    .dataframe thead th {\n",
       "        text-align: right;\n",
       "    }\n",
       "</style>\n",
       "<table border=\"1\" class=\"dataframe\">\n",
       "  <thead>\n",
       "    <tr style=\"text-align: right;\">\n",
       "      <th></th>\n",
       "      <th>상점ID</th>\n",
       "      <th>도시</th>\n",
       "    </tr>\n",
       "  </thead>\n",
       "  <tbody>\n",
       "    <tr>\n",
       "      <th>0</th>\n",
       "      <td>0</td>\n",
       "      <td>29</td>\n",
       "    </tr>\n",
       "    <tr>\n",
       "      <th>1</th>\n",
       "      <td>1</td>\n",
       "      <td>29</td>\n",
       "    </tr>\n",
       "    <tr>\n",
       "      <th>2</th>\n",
       "      <td>2</td>\n",
       "      <td>0</td>\n",
       "    </tr>\n",
       "    <tr>\n",
       "      <th>3</th>\n",
       "      <td>3</td>\n",
       "      <td>1</td>\n",
       "    </tr>\n",
       "    <tr>\n",
       "      <th>4</th>\n",
       "      <td>4</td>\n",
       "      <td>2</td>\n",
       "    </tr>\n",
       "  </tbody>\n",
       "</table>\n",
       "</div>"
      ],
      "text/plain": [
       "   상점ID  도시\n",
       "0     0  29\n",
       "1     1  29\n",
       "2     2   0\n",
       "3     3   1\n",
       "4     4   2"
      ]
     },
     "execution_count": 12,
     "metadata": {},
     "output_type": "execute_result"
    }
   ],
   "source": [
    "shops = shops.drop('상점명', axis=1)\n",
    "\n",
    "shops.head()"
   ]
  },
  {
   "cell_type": "code",
   "execution_count": 13,
   "id": "4706cc4e",
   "metadata": {
    "execution": {
     "iopub.execute_input": "2022-05-05T18:54:58.164913Z",
     "iopub.status.busy": "2022-05-05T18:54:58.164157Z",
     "iopub.status.idle": "2022-05-05T18:54:58.167504Z",
     "shell.execute_reply": "2022-05-05T18:54:58.168038Z",
     "shell.execute_reply.started": "2022-05-05T18:35:35.759505Z"
    },
    "papermill": {
     "duration": 0.056979,
     "end_time": "2022-05-05T18:54:58.168465",
     "exception": false,
     "start_time": "2022-05-05T18:54:58.111486",
     "status": "completed"
    },
    "tags": []
   },
   "outputs": [],
   "source": [
    "items = items.drop(['상품명'], axis=1)"
   ]
  },
  {
   "cell_type": "code",
   "execution_count": 14,
   "id": "7722c3f2",
   "metadata": {
    "execution": {
     "iopub.execute_input": "2022-05-05T18:54:58.266208Z",
     "iopub.status.busy": "2022-05-05T18:54:58.265475Z",
     "iopub.status.idle": "2022-05-05T18:54:58.338338Z",
     "shell.execute_reply": "2022-05-05T18:54:58.337714Z",
     "shell.execute_reply.started": "2022-05-05T18:35:35.768269Z"
    },
    "papermill": {
     "duration": 0.124742,
     "end_time": "2022-05-05T18:54:58.338496",
     "exception": false,
     "start_time": "2022-05-05T18:54:58.213754",
     "status": "completed"
    },
    "tags": []
   },
   "outputs": [
    {
     "data": {
      "text/html": [
       "<div>\n",
       "<style scoped>\n",
       "    .dataframe tbody tr th:only-of-type {\n",
       "        vertical-align: middle;\n",
       "    }\n",
       "\n",
       "    .dataframe tbody tr th {\n",
       "        vertical-align: top;\n",
       "    }\n",
       "\n",
       "    .dataframe thead th {\n",
       "        text-align: right;\n",
       "    }\n",
       "</style>\n",
       "<table border=\"1\" class=\"dataframe\">\n",
       "  <thead>\n",
       "    <tr style=\"text-align: right;\">\n",
       "      <th></th>\n",
       "      <th>상품ID</th>\n",
       "      <th>상품분류ID</th>\n",
       "      <th>첫 판매월</th>\n",
       "    </tr>\n",
       "  </thead>\n",
       "  <tbody>\n",
       "    <tr>\n",
       "      <th>0</th>\n",
       "      <td>0</td>\n",
       "      <td>40</td>\n",
       "      <td>NaN</td>\n",
       "    </tr>\n",
       "    <tr>\n",
       "      <th>1</th>\n",
       "      <td>1</td>\n",
       "      <td>76</td>\n",
       "      <td>15.0</td>\n",
       "    </tr>\n",
       "    <tr>\n",
       "      <th>2</th>\n",
       "      <td>2</td>\n",
       "      <td>40</td>\n",
       "      <td>NaN</td>\n",
       "    </tr>\n",
       "    <tr>\n",
       "      <th>3</th>\n",
       "      <td>3</td>\n",
       "      <td>40</td>\n",
       "      <td>NaN</td>\n",
       "    </tr>\n",
       "    <tr>\n",
       "      <th>4</th>\n",
       "      <td>4</td>\n",
       "      <td>40</td>\n",
       "      <td>NaN</td>\n",
       "    </tr>\n",
       "  </tbody>\n",
       "</table>\n",
       "</div>"
      ],
      "text/plain": [
       "   상품ID  상품분류ID  첫 판매월\n",
       "0     0      40    NaN\n",
       "1     1      76   15.0\n",
       "2     2      40    NaN\n",
       "3     3      40    NaN\n",
       "4     4      40    NaN"
      ]
     },
     "execution_count": 14,
     "metadata": {},
     "output_type": "execute_result"
    }
   ],
   "source": [
    "items['첫 판매월'] = sales_train.groupby('상품ID').agg({'월ID': 'min'})['월ID']\n",
    "\n",
    "items.head()"
   ]
  },
  {
   "cell_type": "code",
   "execution_count": 15,
   "id": "9016b492",
   "metadata": {
    "execution": {
     "iopub.execute_input": "2022-05-05T18:54:58.442444Z",
     "iopub.status.busy": "2022-05-05T18:54:58.441667Z",
     "iopub.status.idle": "2022-05-05T18:54:58.445786Z",
     "shell.execute_reply": "2022-05-05T18:54:58.445303Z",
     "shell.execute_reply.started": "2022-05-05T18:35:35.861711Z"
    },
    "papermill": {
     "duration": 0.062623,
     "end_time": "2022-05-05T18:54:58.445926",
     "exception": false,
     "start_time": "2022-05-05T18:54:58.383303",
     "status": "completed"
    },
    "tags": []
   },
   "outputs": [
    {
     "data": {
      "text/html": [
       "<div>\n",
       "<style scoped>\n",
       "    .dataframe tbody tr th:only-of-type {\n",
       "        vertical-align: middle;\n",
       "    }\n",
       "\n",
       "    .dataframe tbody tr th {\n",
       "        vertical-align: top;\n",
       "    }\n",
       "\n",
       "    .dataframe thead th {\n",
       "        text-align: right;\n",
       "    }\n",
       "</style>\n",
       "<table border=\"1\" class=\"dataframe\">\n",
       "  <thead>\n",
       "    <tr style=\"text-align: right;\">\n",
       "      <th></th>\n",
       "      <th>상품ID</th>\n",
       "      <th>상품분류ID</th>\n",
       "      <th>첫 판매월</th>\n",
       "    </tr>\n",
       "  </thead>\n",
       "  <tbody>\n",
       "    <tr>\n",
       "      <th>0</th>\n",
       "      <td>0</td>\n",
       "      <td>40</td>\n",
       "      <td>NaN</td>\n",
       "    </tr>\n",
       "    <tr>\n",
       "      <th>2</th>\n",
       "      <td>2</td>\n",
       "      <td>40</td>\n",
       "      <td>NaN</td>\n",
       "    </tr>\n",
       "    <tr>\n",
       "      <th>3</th>\n",
       "      <td>3</td>\n",
       "      <td>40</td>\n",
       "      <td>NaN</td>\n",
       "    </tr>\n",
       "    <tr>\n",
       "      <th>4</th>\n",
       "      <td>4</td>\n",
       "      <td>40</td>\n",
       "      <td>NaN</td>\n",
       "    </tr>\n",
       "    <tr>\n",
       "      <th>5</th>\n",
       "      <td>5</td>\n",
       "      <td>40</td>\n",
       "      <td>NaN</td>\n",
       "    </tr>\n",
       "    <tr>\n",
       "      <th>...</th>\n",
       "      <td>...</td>\n",
       "      <td>...</td>\n",
       "      <td>...</td>\n",
       "    </tr>\n",
       "    <tr>\n",
       "      <th>21975</th>\n",
       "      <td>21975</td>\n",
       "      <td>61</td>\n",
       "      <td>NaN</td>\n",
       "    </tr>\n",
       "    <tr>\n",
       "      <th>22022</th>\n",
       "      <td>22022</td>\n",
       "      <td>40</td>\n",
       "      <td>NaN</td>\n",
       "    </tr>\n",
       "    <tr>\n",
       "      <th>22028</th>\n",
       "      <td>22028</td>\n",
       "      <td>40</td>\n",
       "      <td>NaN</td>\n",
       "    </tr>\n",
       "    <tr>\n",
       "      <th>22035</th>\n",
       "      <td>22035</td>\n",
       "      <td>40</td>\n",
       "      <td>NaN</td>\n",
       "    </tr>\n",
       "    <tr>\n",
       "      <th>22137</th>\n",
       "      <td>22137</td>\n",
       "      <td>40</td>\n",
       "      <td>NaN</td>\n",
       "    </tr>\n",
       "  </tbody>\n",
       "</table>\n",
       "<p>1090 rows × 3 columns</p>\n",
       "</div>"
      ],
      "text/plain": [
       "        상품ID  상품분류ID  첫 판매월\n",
       "0          0      40    NaN\n",
       "2          2      40    NaN\n",
       "3          3      40    NaN\n",
       "4          4      40    NaN\n",
       "5          5      40    NaN\n",
       "...      ...     ...    ...\n",
       "21975  21975      61    NaN\n",
       "22022  22022      40    NaN\n",
       "22028  22028      40    NaN\n",
       "22035  22035      40    NaN\n",
       "22137  22137      40    NaN\n",
       "\n",
       "[1090 rows x 3 columns]"
      ]
     },
     "execution_count": 15,
     "metadata": {},
     "output_type": "execute_result"
    }
   ],
   "source": [
    "items[items['첫 판매월'].isna()]"
   ]
  },
  {
   "cell_type": "code",
   "execution_count": 16,
   "id": "250c5eae",
   "metadata": {
    "execution": {
     "iopub.execute_input": "2022-05-05T18:54:58.543183Z",
     "iopub.status.busy": "2022-05-05T18:54:58.542516Z",
     "iopub.status.idle": "2022-05-05T18:54:58.545194Z",
     "shell.execute_reply": "2022-05-05T18:54:58.545699Z",
     "shell.execute_reply.started": "2022-05-05T18:35:35.879835Z"
    },
    "papermill": {
     "duration": 0.054496,
     "end_time": "2022-05-05T18:54:58.545876",
     "exception": false,
     "start_time": "2022-05-05T18:54:58.491380",
     "status": "completed"
    },
    "tags": []
   },
   "outputs": [],
   "source": [
    "items['첫 판매월'] = items['첫 판매월'].fillna(34)"
   ]
  },
  {
   "cell_type": "code",
   "execution_count": 17,
   "id": "720c1643",
   "metadata": {
    "execution": {
     "iopub.execute_input": "2022-05-05T18:54:58.644472Z",
     "iopub.status.busy": "2022-05-05T18:54:58.643686Z",
     "iopub.status.idle": "2022-05-05T18:54:58.649143Z",
     "shell.execute_reply": "2022-05-05T18:54:58.649698Z",
     "shell.execute_reply.started": "2022-05-05T18:35:35.893551Z"
    },
    "papermill": {
     "duration": 0.054506,
     "end_time": "2022-05-05T18:54:58.649876",
     "exception": false,
     "start_time": "2022-05-05T18:54:58.595370",
     "status": "completed"
    },
    "tags": []
   },
   "outputs": [],
   "source": [
    "item_categories['대분류'] = item_categories['상품분류명'].apply(lambda x: x.split()[0])  "
   ]
  },
  {
   "cell_type": "code",
   "execution_count": 18,
   "id": "9c826ada",
   "metadata": {
    "execution": {
     "iopub.execute_input": "2022-05-05T18:54:58.750758Z",
     "iopub.status.busy": "2022-05-05T18:54:58.750054Z",
     "iopub.status.idle": "2022-05-05T18:54:58.755849Z",
     "shell.execute_reply": "2022-05-05T18:54:58.756375Z",
     "shell.execute_reply.started": "2022-05-05T18:35:35.910417Z"
    },
    "papermill": {
     "duration": 0.059952,
     "end_time": "2022-05-05T18:54:58.756548",
     "exception": false,
     "start_time": "2022-05-05T18:54:58.696596",
     "status": "completed"
    },
    "tags": []
   },
   "outputs": [
    {
     "data": {
      "text/plain": [
       "Игры          14\n",
       "Книги         13\n",
       "Подарки       12\n",
       "Игровые        8\n",
       "Аксессуары     7\n",
       "Музыка         6\n",
       "Программы      6\n",
       "Карты          5\n",
       "Кино           5\n",
       "Служебные      2\n",
       "Чистые         2\n",
       "PC             1\n",
       "Билеты         1\n",
       "Доставка       1\n",
       "Элементы       1\n",
       "Name: 대분류, dtype: int64"
      ]
     },
     "execution_count": 18,
     "metadata": {},
     "output_type": "execute_result"
    }
   ],
   "source": [
    "item_categories['대분류'].value_counts()"
   ]
  },
  {
   "cell_type": "code",
   "execution_count": 19,
   "id": "640bafc5",
   "metadata": {
    "execution": {
     "iopub.execute_input": "2022-05-05T18:54:58.856697Z",
     "iopub.status.busy": "2022-05-05T18:54:58.855900Z",
     "iopub.status.idle": "2022-05-05T18:54:58.893710Z",
     "shell.execute_reply": "2022-05-05T18:54:58.893098Z",
     "shell.execute_reply.started": "2022-05-05T18:35:35.929557Z"
    },
    "papermill": {
     "duration": 0.087733,
     "end_time": "2022-05-05T18:54:58.893871",
     "exception": false,
     "start_time": "2022-05-05T18:54:58.806138",
     "status": "completed"
    },
    "tags": []
   },
   "outputs": [],
   "source": [
    "def make_etc(x):\n",
    "    if len(item_categories[item_categories['대분류']==x]) >= 5:\n",
    "        return x\n",
    "    else:\n",
    "        return 'etc'\n",
    "\n",
    "item_categories['대분류'] = item_categories['대분류'].apply(make_etc)"
   ]
  },
  {
   "cell_type": "code",
   "execution_count": 20,
   "id": "2ae0eb10",
   "metadata": {
    "execution": {
     "iopub.execute_input": "2022-05-05T18:54:58.999373Z",
     "iopub.status.busy": "2022-05-05T18:54:58.998329Z",
     "iopub.status.idle": "2022-05-05T18:54:59.001974Z",
     "shell.execute_reply": "2022-05-05T18:54:59.002573Z",
     "shell.execute_reply.started": "2022-05-05T18:35:35.985492Z"
    },
    "papermill": {
     "duration": 0.061916,
     "end_time": "2022-05-05T18:54:59.002745",
     "exception": false,
     "start_time": "2022-05-05T18:54:58.940829",
     "status": "completed"
    },
    "tags": []
   },
   "outputs": [
    {
     "data": {
      "text/html": [
       "<div>\n",
       "<style scoped>\n",
       "    .dataframe tbody tr th:only-of-type {\n",
       "        vertical-align: middle;\n",
       "    }\n",
       "\n",
       "    .dataframe tbody tr th {\n",
       "        vertical-align: top;\n",
       "    }\n",
       "\n",
       "    .dataframe thead th {\n",
       "        text-align: right;\n",
       "    }\n",
       "</style>\n",
       "<table border=\"1\" class=\"dataframe\">\n",
       "  <thead>\n",
       "    <tr style=\"text-align: right;\">\n",
       "      <th></th>\n",
       "      <th>상품분류명</th>\n",
       "      <th>상품분류ID</th>\n",
       "      <th>대분류</th>\n",
       "    </tr>\n",
       "  </thead>\n",
       "  <tbody>\n",
       "    <tr>\n",
       "      <th>0</th>\n",
       "      <td>PC - Гарнитуры/Наушники</td>\n",
       "      <td>0</td>\n",
       "      <td>etc</td>\n",
       "    </tr>\n",
       "    <tr>\n",
       "      <th>1</th>\n",
       "      <td>Аксессуары - PS2</td>\n",
       "      <td>1</td>\n",
       "      <td>Аксессуары</td>\n",
       "    </tr>\n",
       "    <tr>\n",
       "      <th>2</th>\n",
       "      <td>Аксессуары - PS3</td>\n",
       "      <td>2</td>\n",
       "      <td>Аксессуары</td>\n",
       "    </tr>\n",
       "    <tr>\n",
       "      <th>3</th>\n",
       "      <td>Аксессуары - PS4</td>\n",
       "      <td>3</td>\n",
       "      <td>Аксессуары</td>\n",
       "    </tr>\n",
       "    <tr>\n",
       "      <th>4</th>\n",
       "      <td>Аксессуары - PSP</td>\n",
       "      <td>4</td>\n",
       "      <td>Аксессуары</td>\n",
       "    </tr>\n",
       "  </tbody>\n",
       "</table>\n",
       "</div>"
      ],
      "text/plain": [
       "                     상품분류명  상품분류ID         대분류\n",
       "0  PC - Гарнитуры/Наушники       0         etc\n",
       "1         Аксессуары - PS2       1  Аксессуары\n",
       "2         Аксессуары - PS3       2  Аксессуары\n",
       "3         Аксессуары - PS4       3  Аксессуары\n",
       "4         Аксессуары - PSP       4  Аксессуары"
      ]
     },
     "execution_count": 20,
     "metadata": {},
     "output_type": "execute_result"
    }
   ],
   "source": [
    "item_categories.head()"
   ]
  },
  {
   "cell_type": "code",
   "execution_count": 21,
   "id": "5ddcf3b4",
   "metadata": {
    "execution": {
     "iopub.execute_input": "2022-05-05T18:54:59.104533Z",
     "iopub.status.busy": "2022-05-05T18:54:59.103456Z",
     "iopub.status.idle": "2022-05-05T18:54:59.110113Z",
     "shell.execute_reply": "2022-05-05T18:54:59.110663Z",
     "shell.execute_reply.started": "2022-05-05T18:35:36.004841Z"
    },
    "papermill": {
     "duration": 0.059748,
     "end_time": "2022-05-05T18:54:59.110836",
     "exception": false,
     "start_time": "2022-05-05T18:54:59.051088",
     "status": "completed"
    },
    "tags": []
   },
   "outputs": [],
   "source": [
    "label_encoder = LabelEncoder()\n",
    "\n",
    "item_categories['대분류'] = label_encoder.fit_transform(item_categories['대분류'])\n",
    "\n",
    "item_categories = item_categories.drop('상품분류명', axis=1)"
   ]
  },
  {
   "cell_type": "code",
   "execution_count": 22,
   "id": "3778bde0",
   "metadata": {
    "execution": {
     "iopub.execute_input": "2022-05-05T18:54:59.212596Z",
     "iopub.status.busy": "2022-05-05T18:54:59.211760Z",
     "iopub.status.idle": "2022-05-05T18:55:17.051776Z",
     "shell.execute_reply": "2022-05-05T18:55:17.050793Z",
     "shell.execute_reply.started": "2022-05-05T18:35:36.024671Z"
    },
    "papermill": {
     "duration": 17.894788,
     "end_time": "2022-05-05T18:55:17.051975",
     "exception": false,
     "start_time": "2022-05-05T18:54:59.157187",
     "status": "completed"
    },
    "tags": []
   },
   "outputs": [],
   "source": [
    "from itertools import product\n",
    "\n",
    "train = []\n",
    "\n",
    "for i in sales_train['월ID'].unique():\n",
    "    all_shop = sales_train.loc[sales_train['월ID']==i, '상점ID'].unique()\n",
    "    all_item = sales_train.loc[sales_train['월ID']==i, '상품ID'].unique()\n",
    "    train.append(np.array(list(product([i], all_shop, all_item))))\n",
    "\n",
    "idx_features = ['월ID', '상점ID', '상품ID']\n",
    "train = pd.DataFrame(np.vstack(train), columns=idx_features)"
   ]
  },
  {
   "cell_type": "code",
   "execution_count": 23,
   "id": "193c540e",
   "metadata": {
    "execution": {
     "iopub.execute_input": "2022-05-05T18:55:17.153550Z",
     "iopub.status.busy": "2022-05-05T18:55:17.152448Z",
     "iopub.status.idle": "2022-05-05T18:55:21.595885Z",
     "shell.execute_reply": "2022-05-05T18:55:21.595347Z",
     "shell.execute_reply.started": "2022-05-05T18:35:53.687521Z"
    },
    "papermill": {
     "duration": 4.497219,
     "end_time": "2022-05-05T18:55:21.596065",
     "exception": false,
     "start_time": "2022-05-05T18:55:17.098846",
     "status": "completed"
    },
    "tags": []
   },
   "outputs": [
    {
     "data": {
      "text/html": [
       "<div>\n",
       "<style scoped>\n",
       "    .dataframe tbody tr th:only-of-type {\n",
       "        vertical-align: middle;\n",
       "    }\n",
       "\n",
       "    .dataframe tbody tr th {\n",
       "        vertical-align: top;\n",
       "    }\n",
       "\n",
       "    .dataframe thead th {\n",
       "        text-align: right;\n",
       "    }\n",
       "</style>\n",
       "<table border=\"1\" class=\"dataframe\">\n",
       "  <thead>\n",
       "    <tr style=\"text-align: right;\">\n",
       "      <th></th>\n",
       "      <th>월ID</th>\n",
       "      <th>상점ID</th>\n",
       "      <th>상품ID</th>\n",
       "      <th>월간 판매량</th>\n",
       "      <th>평균 판매가</th>\n",
       "    </tr>\n",
       "  </thead>\n",
       "  <tbody>\n",
       "    <tr>\n",
       "      <th>0</th>\n",
       "      <td>0</td>\n",
       "      <td>59</td>\n",
       "      <td>22154</td>\n",
       "      <td>1.0</td>\n",
       "      <td>999.0</td>\n",
       "    </tr>\n",
       "    <tr>\n",
       "      <th>1</th>\n",
       "      <td>0</td>\n",
       "      <td>59</td>\n",
       "      <td>2552</td>\n",
       "      <td>NaN</td>\n",
       "      <td>NaN</td>\n",
       "    </tr>\n",
       "    <tr>\n",
       "      <th>2</th>\n",
       "      <td>0</td>\n",
       "      <td>59</td>\n",
       "      <td>2554</td>\n",
       "      <td>NaN</td>\n",
       "      <td>NaN</td>\n",
       "    </tr>\n",
       "    <tr>\n",
       "      <th>3</th>\n",
       "      <td>0</td>\n",
       "      <td>59</td>\n",
       "      <td>2555</td>\n",
       "      <td>NaN</td>\n",
       "      <td>NaN</td>\n",
       "    </tr>\n",
       "    <tr>\n",
       "      <th>4</th>\n",
       "      <td>0</td>\n",
       "      <td>59</td>\n",
       "      <td>2564</td>\n",
       "      <td>NaN</td>\n",
       "      <td>NaN</td>\n",
       "    </tr>\n",
       "  </tbody>\n",
       "</table>\n",
       "</div>"
      ],
      "text/plain": [
       "   월ID  상점ID   상품ID  월간 판매량  평균 판매가\n",
       "0    0    59  22154     1.0   999.0\n",
       "1    0    59   2552     NaN     NaN\n",
       "2    0    59   2554     NaN     NaN\n",
       "3    0    59   2555     NaN     NaN\n",
       "4    0    59   2564     NaN     NaN"
      ]
     },
     "execution_count": 23,
     "metadata": {},
     "output_type": "execute_result"
    }
   ],
   "source": [
    "group = sales_train.groupby(idx_features).agg({'판매량': 'sum',\n",
    "                                               '판매가': 'mean'})\n",
    "group = group.reset_index()\n",
    "group = group.rename(columns={'판매량': '월간 판매량', '판매가': '평균 판매가'})\n",
    "\n",
    "train = train.merge(group, on=idx_features, how='left')\n",
    "\n",
    "train.head()"
   ]
  },
  {
   "cell_type": "code",
   "execution_count": 24,
   "id": "317d8bc5",
   "metadata": {
    "execution": {
     "iopub.execute_input": "2022-05-05T18:55:21.803361Z",
     "iopub.status.busy": "2022-05-05T18:55:21.802613Z",
     "iopub.status.idle": "2022-05-05T18:55:21.806320Z",
     "shell.execute_reply": "2022-05-05T18:55:21.805602Z",
     "shell.execute_reply.started": "2022-05-05T18:35:59.260561Z"
    },
    "papermill": {
     "duration": 0.162858,
     "end_time": "2022-05-05T18:55:21.806474",
     "exception": false,
     "start_time": "2022-05-05T18:55:21.643616",
     "status": "completed"
    },
    "tags": []
   },
   "outputs": [],
   "source": [
    "import gc\n",
    "\n",
    "del group\n",
    "gc.collect();"
   ]
  },
  {
   "cell_type": "code",
   "execution_count": 25,
   "id": "d1bdacab",
   "metadata": {
    "execution": {
     "iopub.execute_input": "2022-05-05T18:55:21.911246Z",
     "iopub.status.busy": "2022-05-05T18:55:21.910514Z",
     "iopub.status.idle": "2022-05-05T18:55:26.339290Z",
     "shell.execute_reply": "2022-05-05T18:55:26.338545Z",
     "shell.execute_reply.started": "2022-05-05T18:35:59.428043Z"
    },
    "papermill": {
     "duration": 4.483925,
     "end_time": "2022-05-05T18:55:26.339458",
     "exception": false,
     "start_time": "2022-05-05T18:55:21.855533",
     "status": "completed"
    },
    "tags": []
   },
   "outputs": [
    {
     "data": {
      "text/html": [
       "<div>\n",
       "<style scoped>\n",
       "    .dataframe tbody tr th:only-of-type {\n",
       "        vertical-align: middle;\n",
       "    }\n",
       "\n",
       "    .dataframe tbody tr th {\n",
       "        vertical-align: top;\n",
       "    }\n",
       "\n",
       "    .dataframe thead th {\n",
       "        text-align: right;\n",
       "    }\n",
       "</style>\n",
       "<table border=\"1\" class=\"dataframe\">\n",
       "  <thead>\n",
       "    <tr style=\"text-align: right;\">\n",
       "      <th></th>\n",
       "      <th>월ID</th>\n",
       "      <th>상점ID</th>\n",
       "      <th>상품ID</th>\n",
       "      <th>월간 판매량</th>\n",
       "      <th>평균 판매가</th>\n",
       "      <th>판매건수</th>\n",
       "    </tr>\n",
       "  </thead>\n",
       "  <tbody>\n",
       "    <tr>\n",
       "      <th>0</th>\n",
       "      <td>0</td>\n",
       "      <td>59</td>\n",
       "      <td>22154</td>\n",
       "      <td>1.0</td>\n",
       "      <td>999.0</td>\n",
       "      <td>1.0</td>\n",
       "    </tr>\n",
       "    <tr>\n",
       "      <th>1</th>\n",
       "      <td>0</td>\n",
       "      <td>59</td>\n",
       "      <td>2552</td>\n",
       "      <td>NaN</td>\n",
       "      <td>NaN</td>\n",
       "      <td>NaN</td>\n",
       "    </tr>\n",
       "    <tr>\n",
       "      <th>2</th>\n",
       "      <td>0</td>\n",
       "      <td>59</td>\n",
       "      <td>2554</td>\n",
       "      <td>NaN</td>\n",
       "      <td>NaN</td>\n",
       "      <td>NaN</td>\n",
       "    </tr>\n",
       "    <tr>\n",
       "      <th>3</th>\n",
       "      <td>0</td>\n",
       "      <td>59</td>\n",
       "      <td>2555</td>\n",
       "      <td>NaN</td>\n",
       "      <td>NaN</td>\n",
       "      <td>NaN</td>\n",
       "    </tr>\n",
       "    <tr>\n",
       "      <th>4</th>\n",
       "      <td>0</td>\n",
       "      <td>59</td>\n",
       "      <td>2564</td>\n",
       "      <td>NaN</td>\n",
       "      <td>NaN</td>\n",
       "      <td>NaN</td>\n",
       "    </tr>\n",
       "  </tbody>\n",
       "</table>\n",
       "</div>"
      ],
      "text/plain": [
       "   월ID  상점ID   상품ID  월간 판매량  평균 판매가  판매건수\n",
       "0    0    59  22154     1.0   999.0   1.0\n",
       "1    0    59   2552     NaN     NaN   NaN\n",
       "2    0    59   2554     NaN     NaN   NaN\n",
       "3    0    59   2555     NaN     NaN   NaN\n",
       "4    0    59   2564     NaN     NaN   NaN"
      ]
     },
     "execution_count": 25,
     "metadata": {},
     "output_type": "execute_result"
    }
   ],
   "source": [
    "group = sales_train.groupby(idx_features).agg({'판매량': 'count'})\n",
    "group = group.reset_index()\n",
    "group = group.rename(columns={'판매량': '판매건수'})\n",
    "\n",
    "train = train.merge(group, on=idx_features, how='left')\n",
    "\n",
    "del group, sales_train\n",
    "gc.collect()\n",
    "\n",
    "train.head()"
   ]
  },
  {
   "cell_type": "code",
   "execution_count": 26,
   "id": "b387919c",
   "metadata": {
    "execution": {
     "iopub.execute_input": "2022-05-05T18:55:26.451019Z",
     "iopub.status.busy": "2022-05-05T18:55:26.449521Z",
     "iopub.status.idle": "2022-05-05T18:55:26.881168Z",
     "shell.execute_reply": "2022-05-05T18:55:26.880543Z",
     "shell.execute_reply.started": "2022-05-05T18:36:05.208813Z"
    },
    "papermill": {
     "duration": 0.493929,
     "end_time": "2022-05-05T18:55:26.881341",
     "exception": false,
     "start_time": "2022-05-05T18:55:26.387412",
     "status": "completed"
    },
    "tags": []
   },
   "outputs": [
    {
     "data": {
      "text/html": [
       "<div>\n",
       "<style scoped>\n",
       "    .dataframe tbody tr th:only-of-type {\n",
       "        vertical-align: middle;\n",
       "    }\n",
       "\n",
       "    .dataframe tbody tr th {\n",
       "        vertical-align: top;\n",
       "    }\n",
       "\n",
       "    .dataframe thead th {\n",
       "        text-align: right;\n",
       "    }\n",
       "</style>\n",
       "<table border=\"1\" class=\"dataframe\">\n",
       "  <thead>\n",
       "    <tr style=\"text-align: right;\">\n",
       "      <th></th>\n",
       "      <th>월ID</th>\n",
       "      <th>상점ID</th>\n",
       "      <th>상품ID</th>\n",
       "      <th>월간 판매량</th>\n",
       "      <th>평균 판매가</th>\n",
       "      <th>판매건수</th>\n",
       "    </tr>\n",
       "  </thead>\n",
       "  <tbody>\n",
       "    <tr>\n",
       "      <th>0</th>\n",
       "      <td>0</td>\n",
       "      <td>59</td>\n",
       "      <td>22154</td>\n",
       "      <td>1.0</td>\n",
       "      <td>999.0</td>\n",
       "      <td>1.0</td>\n",
       "    </tr>\n",
       "    <tr>\n",
       "      <th>1</th>\n",
       "      <td>0</td>\n",
       "      <td>59</td>\n",
       "      <td>2552</td>\n",
       "      <td>0.0</td>\n",
       "      <td>0.0</td>\n",
       "      <td>0.0</td>\n",
       "    </tr>\n",
       "    <tr>\n",
       "      <th>2</th>\n",
       "      <td>0</td>\n",
       "      <td>59</td>\n",
       "      <td>2554</td>\n",
       "      <td>0.0</td>\n",
       "      <td>0.0</td>\n",
       "      <td>0.0</td>\n",
       "    </tr>\n",
       "    <tr>\n",
       "      <th>3</th>\n",
       "      <td>0</td>\n",
       "      <td>59</td>\n",
       "      <td>2555</td>\n",
       "      <td>0.0</td>\n",
       "      <td>0.0</td>\n",
       "      <td>0.0</td>\n",
       "    </tr>\n",
       "    <tr>\n",
       "      <th>4</th>\n",
       "      <td>0</td>\n",
       "      <td>59</td>\n",
       "      <td>2564</td>\n",
       "      <td>0.0</td>\n",
       "      <td>0.0</td>\n",
       "      <td>0.0</td>\n",
       "    </tr>\n",
       "  </tbody>\n",
       "</table>\n",
       "</div>"
      ],
      "text/plain": [
       "   월ID  상점ID   상품ID  월간 판매량  평균 판매가  판매건수\n",
       "0    0    59  22154     1.0   999.0   1.0\n",
       "1    0    59   2552     0.0     0.0   0.0\n",
       "2    0    59   2554     0.0     0.0   0.0\n",
       "3    0    59   2555     0.0     0.0   0.0\n",
       "4    0    59   2564     0.0     0.0   0.0"
      ]
     },
     "execution_count": 26,
     "metadata": {},
     "output_type": "execute_result"
    }
   ],
   "source": [
    "test['월ID'] = 34\n",
    "\n",
    "all_data = pd.concat([train, test.drop('ID', axis=1)],\n",
    "                     ignore_index=True,\n",
    "                     keys=idx_features)\n",
    "\n",
    "all_data = all_data.fillna(0)\n",
    "\n",
    "all_data.head()"
   ]
  },
  {
   "cell_type": "code",
   "execution_count": 27,
   "id": "557e4137",
   "metadata": {
    "execution": {
     "iopub.execute_input": "2022-05-05T18:55:26.984796Z",
     "iopub.status.busy": "2022-05-05T18:55:26.984103Z",
     "iopub.status.idle": "2022-05-05T18:55:32.378107Z",
     "shell.execute_reply": "2022-05-05T18:55:32.378604Z",
     "shell.execute_reply.started": "2022-05-05T18:36:05.872277Z"
    },
    "papermill": {
     "duration": 5.450084,
     "end_time": "2022-05-05T18:55:32.379069",
     "exception": false,
     "start_time": "2022-05-05T18:55:26.928985",
     "status": "completed"
    },
    "tags": []
   },
   "outputs": [
    {
     "name": "stdout",
     "output_type": "stream",
     "text": [
      "64.6% 압축됨\n"
     ]
    }
   ],
   "source": [
    "all_data = all_data.merge(shops, on='상점ID', how='left')\n",
    "all_data = all_data.merge(items, on='상품ID', how='left')\n",
    "all_data = all_data.merge(item_categories, on='상품분류ID', how='left')\n",
    "\n",
    "all_data = downcast(all_data)\n",
    "\n",
    "del shops, items, item_categories\n",
    "gc.collect();"
   ]
  },
  {
   "cell_type": "code",
   "execution_count": 28,
   "id": "99b37412",
   "metadata": {
    "execution": {
     "iopub.execute_input": "2022-05-05T18:55:32.480915Z",
     "iopub.status.busy": "2022-05-05T18:55:32.479836Z",
     "iopub.status.idle": "2022-05-05T18:55:32.487981Z",
     "shell.execute_reply": "2022-05-05T18:55:32.488507Z",
     "shell.execute_reply.started": "2022-05-05T18:36:11.865440Z"
    },
    "papermill": {
     "duration": 0.060415,
     "end_time": "2022-05-05T18:55:32.488702",
     "exception": false,
     "start_time": "2022-05-05T18:55:32.428287",
     "status": "completed"
    },
    "tags": []
   },
   "outputs": [],
   "source": [
    "def add_mean_features(df, mean_features, idx_features):\n",
    "\n",
    "    assert (idx_features[0] == '월ID') and \\\n",
    "           len(idx_features) in [2, 3]\n",
    "\n",
    "    if len(idx_features) == 2:\n",
    "        feature_name = idx_features[1] + '별 평균 판매량'\n",
    "    else:\n",
    "        feature_name = idx_features[1] + ' ' + idx_features[2] + '별 평균 판매량'\n",
    "\n",
    "    group = df.groupby(idx_features).agg({'월간 판매량': 'mean'})\n",
    "    group = group.reset_index()\n",
    "    group = group.rename(columns={'월간 판매량': feature_name})\n",
    "     \n",
    "    df = df.merge(group, on=idx_features, how='left')\n",
    "\n",
    "    df = downcast(df, verbose=False)\n",
    "\n",
    "    mean_features.append(feature_name)\n",
    "    \n",
    "    del group\n",
    "    gc.collect()\n",
    "    \n",
    "    return df, mean_features"
   ]
  },
  {
   "cell_type": "code",
   "execution_count": 29,
   "id": "59f36eb7",
   "metadata": {
    "execution": {
     "iopub.execute_input": "2022-05-05T18:55:32.589810Z",
     "iopub.status.busy": "2022-05-05T18:55:32.588713Z",
     "iopub.status.idle": "2022-05-05T18:55:44.494595Z",
     "shell.execute_reply": "2022-05-05T18:55:44.494029Z",
     "shell.execute_reply.started": "2022-05-05T18:36:11.878845Z"
    },
    "papermill": {
     "duration": 11.957408,
     "end_time": "2022-05-05T18:55:44.494756",
     "exception": false,
     "start_time": "2022-05-05T18:55:32.537348",
     "status": "completed"
    },
    "tags": []
   },
   "outputs": [],
   "source": [
    "item_mean_features = []\n",
    "\n",
    "all_data, item_mean_features = add_mean_features(df=all_data,\n",
    "                                                 mean_features=item_mean_features,\n",
    "                                                 idx_features=['월ID', '상품ID'])\n",
    "\n",
    "all_data, item_mean_features = add_mean_features(df=all_data,\n",
    "                                                 mean_features=item_mean_features,\n",
    "                                                 idx_features=['월ID', '상품ID', '도시'])"
   ]
  },
  {
   "cell_type": "code",
   "execution_count": 30,
   "id": "3561e2a3",
   "metadata": {
    "execution": {
     "iopub.execute_input": "2022-05-05T18:55:44.597871Z",
     "iopub.status.busy": "2022-05-05T18:55:44.596847Z",
     "iopub.status.idle": "2022-05-05T18:55:47.486372Z",
     "shell.execute_reply": "2022-05-05T18:55:47.485601Z",
     "shell.execute_reply.started": "2022-05-05T18:36:30.460040Z"
    },
    "papermill": {
     "duration": 2.94379,
     "end_time": "2022-05-05T18:55:47.486536",
     "exception": false,
     "start_time": "2022-05-05T18:55:44.542746",
     "status": "completed"
    },
    "tags": []
   },
   "outputs": [],
   "source": [
    "shop_mean_features = []\n",
    "\n",
    "all_data, shop_mean_features = add_mean_features(df=all_data, \n",
    "                                                 mean_features=shop_mean_features,\n",
    "                                                 idx_features=['월ID', '상점ID', '상품분류ID'])"
   ]
  },
  {
   "cell_type": "code",
   "execution_count": 31,
   "id": "9732d21f",
   "metadata": {
    "execution": {
     "iopub.execute_input": "2022-05-05T18:55:47.587883Z",
     "iopub.status.busy": "2022-05-05T18:55:47.586759Z",
     "iopub.status.idle": "2022-05-05T18:55:47.595562Z",
     "shell.execute_reply": "2022-05-05T18:55:47.594818Z",
     "shell.execute_reply.started": "2022-05-05T18:36:34.193567Z"
    },
    "papermill": {
     "duration": 0.060525,
     "end_time": "2022-05-05T18:55:47.595711",
     "exception": false,
     "start_time": "2022-05-05T18:55:47.535186",
     "status": "completed"
    },
    "tags": []
   },
   "outputs": [],
   "source": [
    "def add_lag_features(df, lag_features_to_clip, idx_features, \n",
    "                     lag_feature, nlags=3, clip=False):\n",
    "   \n",
    "    df_temp = df[idx_features + [lag_feature]].copy() \n",
    "\n",
    "    for i in range(1, nlags+1):\n",
    "      \n",
    "        lag_feature_name = lag_feature +'_시차' + str(i)\n",
    "      \n",
    "        df_temp.columns = idx_features + [lag_feature_name]\n",
    "       \n",
    "        df_temp['월ID'] += i\n",
    "      \n",
    "        df = df.merge(df_temp.drop_duplicates(), \n",
    "                      on=idx_features, \n",
    "                      how='left')\n",
    "    \n",
    "        df[lag_feature_name] = df[lag_feature_name].fillna(0)\n",
    "       \n",
    "        if clip: \n",
    "            lag_features_to_clip.append(lag_feature_name)\n",
    "    \n",
    "    df = downcast(df, False)\n",
    " \n",
    "    del df_temp\n",
    "    gc.collect()\n",
    "    \n",
    "    return df, lag_features_to_clip"
   ]
  },
  {
   "cell_type": "code",
   "execution_count": 32,
   "id": "2888c907",
   "metadata": {
    "execution": {
     "iopub.execute_input": "2022-05-05T18:55:47.698868Z",
     "iopub.status.busy": "2022-05-05T18:55:47.698151Z",
     "iopub.status.idle": "2022-05-05T18:56:13.454079Z",
     "shell.execute_reply": "2022-05-05T18:56:13.454847Z",
     "shell.execute_reply.started": "2022-05-05T18:36:34.204853Z"
    },
    "papermill": {
     "duration": 25.810671,
     "end_time": "2022-05-05T18:56:13.455146",
     "exception": false,
     "start_time": "2022-05-05T18:55:47.644475",
     "status": "completed"
    },
    "tags": []
   },
   "outputs": [],
   "source": [
    "lag_features_to_clip = []\n",
    "idx_features = ['월ID', '상점ID', '상품ID']\n",
    "\n",
    "all_data, lag_features_to_clip = add_lag_features(df=all_data, \n",
    "                                                  lag_features_to_clip=lag_features_to_clip,\n",
    "                                                  idx_features=idx_features,\n",
    "                                                  lag_feature='월간 판매량', \n",
    "                                                  nlags=3,\n",
    "                                                  clip=True)"
   ]
  },
  {
   "cell_type": "code",
   "execution_count": 33,
   "id": "26d677fc",
   "metadata": {
    "execution": {
     "iopub.execute_input": "2022-05-05T18:56:13.570652Z",
     "iopub.status.busy": "2022-05-05T18:56:13.569621Z",
     "iopub.status.idle": "2022-05-05T18:56:13.583112Z",
     "shell.execute_reply": "2022-05-05T18:56:13.583635Z",
     "shell.execute_reply.started": "2022-05-05T18:37:04.334724Z"
    },
    "papermill": {
     "duration": 0.069236,
     "end_time": "2022-05-05T18:56:13.583805",
     "exception": false,
     "start_time": "2022-05-05T18:56:13.514569",
     "status": "completed"
    },
    "tags": []
   },
   "outputs": [
    {
     "data": {
      "text/html": [
       "<div>\n",
       "<style scoped>\n",
       "    .dataframe tbody tr th:only-of-type {\n",
       "        vertical-align: middle;\n",
       "    }\n",
       "\n",
       "    .dataframe tbody tr th {\n",
       "        vertical-align: top;\n",
       "    }\n",
       "\n",
       "    .dataframe thead th {\n",
       "        text-align: right;\n",
       "    }\n",
       "</style>\n",
       "<table border=\"1\" class=\"dataframe\">\n",
       "  <thead>\n",
       "    <tr style=\"text-align: right;\">\n",
       "      <th></th>\n",
       "      <th>0</th>\n",
       "      <th>1</th>\n",
       "      <th>2</th>\n",
       "      <th>3</th>\n",
       "      <th>4</th>\n",
       "    </tr>\n",
       "  </thead>\n",
       "  <tbody>\n",
       "    <tr>\n",
       "      <th>월ID</th>\n",
       "      <td>0.000000</td>\n",
       "      <td>0.000000</td>\n",
       "      <td>0.000000</td>\n",
       "      <td>0.000000</td>\n",
       "      <td>0.000000</td>\n",
       "    </tr>\n",
       "    <tr>\n",
       "      <th>상점ID</th>\n",
       "      <td>59.000000</td>\n",
       "      <td>59.000000</td>\n",
       "      <td>59.000000</td>\n",
       "      <td>59.000000</td>\n",
       "      <td>59.000000</td>\n",
       "    </tr>\n",
       "    <tr>\n",
       "      <th>상품ID</th>\n",
       "      <td>22154.000000</td>\n",
       "      <td>2552.000000</td>\n",
       "      <td>2554.000000</td>\n",
       "      <td>2555.000000</td>\n",
       "      <td>2564.000000</td>\n",
       "    </tr>\n",
       "    <tr>\n",
       "      <th>월간 판매량</th>\n",
       "      <td>1.000000</td>\n",
       "      <td>0.000000</td>\n",
       "      <td>0.000000</td>\n",
       "      <td>0.000000</td>\n",
       "      <td>0.000000</td>\n",
       "    </tr>\n",
       "    <tr>\n",
       "      <th>평균 판매가</th>\n",
       "      <td>999.000000</td>\n",
       "      <td>0.000000</td>\n",
       "      <td>0.000000</td>\n",
       "      <td>0.000000</td>\n",
       "      <td>0.000000</td>\n",
       "    </tr>\n",
       "    <tr>\n",
       "      <th>판매건수</th>\n",
       "      <td>1.000000</td>\n",
       "      <td>0.000000</td>\n",
       "      <td>0.000000</td>\n",
       "      <td>0.000000</td>\n",
       "      <td>0.000000</td>\n",
       "    </tr>\n",
       "    <tr>\n",
       "      <th>도시</th>\n",
       "      <td>30.000000</td>\n",
       "      <td>30.000000</td>\n",
       "      <td>30.000000</td>\n",
       "      <td>30.000000</td>\n",
       "      <td>30.000000</td>\n",
       "    </tr>\n",
       "    <tr>\n",
       "      <th>상품분류ID</th>\n",
       "      <td>37.000000</td>\n",
       "      <td>58.000000</td>\n",
       "      <td>58.000000</td>\n",
       "      <td>56.000000</td>\n",
       "      <td>59.000000</td>\n",
       "    </tr>\n",
       "    <tr>\n",
       "      <th>첫 판매월</th>\n",
       "      <td>0.000000</td>\n",
       "      <td>0.000000</td>\n",
       "      <td>0.000000</td>\n",
       "      <td>0.000000</td>\n",
       "      <td>0.000000</td>\n",
       "    </tr>\n",
       "    <tr>\n",
       "      <th>대분류</th>\n",
       "      <td>5.000000</td>\n",
       "      <td>7.000000</td>\n",
       "      <td>7.000000</td>\n",
       "      <td>7.000000</td>\n",
       "      <td>7.000000</td>\n",
       "    </tr>\n",
       "    <tr>\n",
       "      <th>상품ID별 평균 판매량</th>\n",
       "      <td>0.457143</td>\n",
       "      <td>0.028571</td>\n",
       "      <td>0.028571</td>\n",
       "      <td>0.028571</td>\n",
       "      <td>0.142857</td>\n",
       "    </tr>\n",
       "    <tr>\n",
       "      <th>상품ID 도시별 평균 판매량</th>\n",
       "      <td>1.000000</td>\n",
       "      <td>0.000000</td>\n",
       "      <td>0.000000</td>\n",
       "      <td>0.000000</td>\n",
       "      <td>0.000000</td>\n",
       "    </tr>\n",
       "    <tr>\n",
       "      <th>상점ID 상품분류ID별 평균 판매량</th>\n",
       "      <td>0.096774</td>\n",
       "      <td>0.000000</td>\n",
       "      <td>0.000000</td>\n",
       "      <td>0.011494</td>\n",
       "      <td>0.013245</td>\n",
       "    </tr>\n",
       "    <tr>\n",
       "      <th>월간 판매량_시차1</th>\n",
       "      <td>0.000000</td>\n",
       "      <td>0.000000</td>\n",
       "      <td>0.000000</td>\n",
       "      <td>0.000000</td>\n",
       "      <td>0.000000</td>\n",
       "    </tr>\n",
       "    <tr>\n",
       "      <th>월간 판매량_시차2</th>\n",
       "      <td>0.000000</td>\n",
       "      <td>0.000000</td>\n",
       "      <td>0.000000</td>\n",
       "      <td>0.000000</td>\n",
       "      <td>0.000000</td>\n",
       "    </tr>\n",
       "    <tr>\n",
       "      <th>월간 판매량_시차3</th>\n",
       "      <td>0.000000</td>\n",
       "      <td>0.000000</td>\n",
       "      <td>0.000000</td>\n",
       "      <td>0.000000</td>\n",
       "      <td>0.000000</td>\n",
       "    </tr>\n",
       "  </tbody>\n",
       "</table>\n",
       "</div>"
      ],
      "text/plain": [
       "                                0            1            2            3  \\\n",
       "월ID                      0.000000     0.000000     0.000000     0.000000   \n",
       "상점ID                    59.000000    59.000000    59.000000    59.000000   \n",
       "상품ID                 22154.000000  2552.000000  2554.000000  2555.000000   \n",
       "월간 판매량                   1.000000     0.000000     0.000000     0.000000   \n",
       "평균 판매가                 999.000000     0.000000     0.000000     0.000000   \n",
       "판매건수                     1.000000     0.000000     0.000000     0.000000   \n",
       "도시                      30.000000    30.000000    30.000000    30.000000   \n",
       "상품분류ID                  37.000000    58.000000    58.000000    56.000000   \n",
       "첫 판매월                    0.000000     0.000000     0.000000     0.000000   \n",
       "대분류                      5.000000     7.000000     7.000000     7.000000   \n",
       "상품ID별 평균 판매량             0.457143     0.028571     0.028571     0.028571   \n",
       "상품ID 도시별 평균 판매량          1.000000     0.000000     0.000000     0.000000   \n",
       "상점ID 상품분류ID별 평균 판매량      0.096774     0.000000     0.000000     0.011494   \n",
       "월간 판매량_시차1               0.000000     0.000000     0.000000     0.000000   \n",
       "월간 판매량_시차2               0.000000     0.000000     0.000000     0.000000   \n",
       "월간 판매량_시차3               0.000000     0.000000     0.000000     0.000000   \n",
       "\n",
       "                               4  \n",
       "월ID                     0.000000  \n",
       "상점ID                   59.000000  \n",
       "상품ID                 2564.000000  \n",
       "월간 판매량                  0.000000  \n",
       "평균 판매가                  0.000000  \n",
       "판매건수                    0.000000  \n",
       "도시                     30.000000  \n",
       "상품분류ID                 59.000000  \n",
       "첫 판매월                   0.000000  \n",
       "대분류                     7.000000  \n",
       "상품ID별 평균 판매량            0.142857  \n",
       "상품ID 도시별 평균 판매량         0.000000  \n",
       "상점ID 상품분류ID별 평균 판매량     0.013245  \n",
       "월간 판매량_시차1              0.000000  \n",
       "월간 판매량_시차2              0.000000  \n",
       "월간 판매량_시차3              0.000000  "
      ]
     },
     "execution_count": 33,
     "metadata": {},
     "output_type": "execute_result"
    }
   ],
   "source": [
    "all_data.head().T"
   ]
  },
  {
   "cell_type": "code",
   "execution_count": 34,
   "id": "22280980",
   "metadata": {
    "execution": {
     "iopub.execute_input": "2022-05-05T18:56:13.686717Z",
     "iopub.status.busy": "2022-05-05T18:56:13.685699Z",
     "iopub.status.idle": "2022-05-05T18:56:13.690880Z",
     "shell.execute_reply": "2022-05-05T18:56:13.691364Z",
     "shell.execute_reply.started": "2022-05-05T18:37:04.355061Z"
    },
    "papermill": {
     "duration": 0.057896,
     "end_time": "2022-05-05T18:56:13.691543",
     "exception": false,
     "start_time": "2022-05-05T18:56:13.633647",
     "status": "completed"
    },
    "tags": []
   },
   "outputs": [
    {
     "data": {
      "text/plain": [
       "['월간 판매량_시차1', '월간 판매량_시차2', '월간 판매량_시차3']"
      ]
     },
     "execution_count": 34,
     "metadata": {},
     "output_type": "execute_result"
    }
   ],
   "source": [
    "lag_features_to_clip"
   ]
  },
  {
   "cell_type": "code",
   "execution_count": 35,
   "id": "35acc520",
   "metadata": {
    "execution": {
     "iopub.execute_input": "2022-05-05T18:56:13.802071Z",
     "iopub.status.busy": "2022-05-05T18:56:13.799184Z",
     "iopub.status.idle": "2022-05-05T18:57:07.347582Z",
     "shell.execute_reply": "2022-05-05T18:57:07.346916Z",
     "shell.execute_reply.started": "2022-05-05T18:37:04.363932Z"
    },
    "papermill": {
     "duration": 53.606643,
     "end_time": "2022-05-05T18:57:07.347731",
     "exception": false,
     "start_time": "2022-05-05T18:56:13.741088",
     "status": "completed"
    },
    "tags": []
   },
   "outputs": [],
   "source": [
    "all_data, lag_features_to_clip = add_lag_features(df=all_data, \n",
    "                                                  lag_features_to_clip=lag_features_to_clip,\n",
    "                                                  idx_features=idx_features,\n",
    "                                                  lag_feature='판매건수', \n",
    "                                                  nlags=3)\n",
    "\n",
    "all_data, lag_features_to_clip = add_lag_features(df=all_data, \n",
    "                                                  lag_features_to_clip=lag_features_to_clip,\n",
    "                                                  idx_features=idx_features,\n",
    "                                                  lag_feature='평균 판매가', \n",
    "                                                  nlags=3)"
   ]
  },
  {
   "cell_type": "code",
   "execution_count": 36,
   "id": "52d92806",
   "metadata": {
    "execution": {
     "iopub.execute_input": "2022-05-05T18:57:07.451457Z",
     "iopub.status.busy": "2022-05-05T18:57:07.450704Z",
     "iopub.status.idle": "2022-05-05T18:57:07.763813Z",
     "shell.execute_reply": "2022-05-05T18:57:07.764366Z",
     "shell.execute_reply.started": "2022-05-05T18:38:06.565508Z"
    },
    "papermill": {
     "duration": 0.367429,
     "end_time": "2022-05-05T18:57:07.764542",
     "exception": false,
     "start_time": "2022-05-05T18:57:07.397113",
     "status": "completed"
    },
    "tags": []
   },
   "outputs": [
    {
     "data": {
      "text/plain": [
       "상품ID별 평균 판매량       0.0\n",
       "상품ID 도시별 평균 판매량    0.0\n",
       "dtype: float32"
      ]
     },
     "execution_count": 36,
     "metadata": {},
     "output_type": "execute_result"
    }
   ],
   "source": [
    "X_test_temp = all_data[all_data['월ID'] == 34]\n",
    "X_test_temp[item_mean_features].sum()"
   ]
  },
  {
   "cell_type": "code",
   "execution_count": 37,
   "id": "c44a7749",
   "metadata": {
    "execution": {
     "iopub.execute_input": "2022-05-05T18:57:07.866958Z",
     "iopub.status.busy": "2022-05-05T18:57:07.866261Z",
     "iopub.status.idle": "2022-05-05T18:58:11.919542Z",
     "shell.execute_reply": "2022-05-05T18:58:11.918424Z",
     "shell.execute_reply.started": "2022-05-05T18:38:06.903299Z"
    },
    "papermill": {
     "duration": 64.10576,
     "end_time": "2022-05-05T18:58:11.919977",
     "exception": false,
     "start_time": "2022-05-05T18:57:07.814217",
     "status": "completed"
    },
    "tags": []
   },
   "outputs": [],
   "source": [
    "for item_mean_feature in item_mean_features:\n",
    "    all_data, lag_features_to_clip = add_lag_features(df=all_data, \n",
    "                                                      lag_features_to_clip=lag_features_to_clip, \n",
    "                                                      idx_features=idx_features, \n",
    "                                                      lag_feature=item_mean_feature, \n",
    "                                                      nlags=3,\n",
    "                                                      clip=True)\n",
    "all_data = all_data.drop(item_mean_features, axis=1)"
   ]
  },
  {
   "cell_type": "code",
   "execution_count": 38,
   "id": "d75e0837",
   "metadata": {
    "execution": {
     "iopub.execute_input": "2022-05-05T18:58:12.030063Z",
     "iopub.status.busy": "2022-05-05T18:58:12.029332Z",
     "iopub.status.idle": "2022-05-05T18:58:12.032963Z",
     "shell.execute_reply": "2022-05-05T18:58:12.033444Z",
     "shell.execute_reply.started": "2022-05-05T18:39:11.251229Z"
    },
    "papermill": {
     "duration": 0.059242,
     "end_time": "2022-05-05T18:58:12.033623",
     "exception": false,
     "start_time": "2022-05-05T18:58:11.974381",
     "status": "completed"
    },
    "tags": []
   },
   "outputs": [
    {
     "data": {
      "text/plain": [
       "['상점ID 상품분류ID별 평균 판매량']"
      ]
     },
     "execution_count": 38,
     "metadata": {},
     "output_type": "execute_result"
    }
   ],
   "source": [
    "shop_mean_features"
   ]
  },
  {
   "cell_type": "code",
   "execution_count": 39,
   "id": "db8710fe",
   "metadata": {
    "execution": {
     "iopub.execute_input": "2022-05-05T18:58:12.139431Z",
     "iopub.status.busy": "2022-05-05T18:58:12.138621Z",
     "iopub.status.idle": "2022-05-05T18:58:23.378734Z",
     "shell.execute_reply": "2022-05-05T18:58:23.378099Z",
     "shell.execute_reply.started": "2022-05-05T18:39:11.259811Z"
    },
    "papermill": {
     "duration": 11.292929,
     "end_time": "2022-05-05T18:58:23.378883",
     "exception": false,
     "start_time": "2022-05-05T18:58:12.085954",
     "status": "completed"
    },
    "tags": []
   },
   "outputs": [],
   "source": [
    "for shop_mean_feature in shop_mean_features:\n",
    "    all_data, lag_features_to_clip = add_lag_features(df=all_data,\n",
    "                                                      lag_features_to_clip=lag_features_to_clip, \n",
    "                                                      idx_features=['월ID', '상점ID', '상품분류ID'], \n",
    "                                                      lag_feature=shop_mean_feature, \n",
    "                                                      nlags=3,\n",
    "                                                      clip=True)\n",
    "all_data = all_data.drop(shop_mean_features, axis=1)"
   ]
  },
  {
   "cell_type": "code",
   "execution_count": 40,
   "id": "de538a34",
   "metadata": {
    "execution": {
     "iopub.execute_input": "2022-05-05T18:58:23.490927Z",
     "iopub.status.busy": "2022-05-05T18:58:23.489728Z",
     "iopub.status.idle": "2022-05-05T18:58:25.652961Z",
     "shell.execute_reply": "2022-05-05T18:58:25.652183Z",
     "shell.execute_reply.started": "2022-05-05T18:39:22.820356Z"
    },
    "papermill": {
     "duration": 2.220652,
     "end_time": "2022-05-05T18:58:25.653112",
     "exception": false,
     "start_time": "2022-05-05T18:58:23.432460",
     "status": "completed"
    },
    "tags": []
   },
   "outputs": [],
   "source": [
    "all_data = all_data.drop(all_data[all_data['월ID'] < 3].index)"
   ]
  },
  {
   "cell_type": "code",
   "execution_count": 41,
   "id": "a2a53bdb",
   "metadata": {
    "execution": {
     "iopub.execute_input": "2022-05-05T18:58:25.794837Z",
     "iopub.status.busy": "2022-05-05T18:58:25.793963Z",
     "iopub.status.idle": "2022-05-05T18:58:25.901508Z",
     "shell.execute_reply": "2022-05-05T18:58:25.900910Z",
     "shell.execute_reply.started": "2022-05-05T18:39:25.077558Z"
    },
    "papermill": {
     "duration": 0.19806,
     "end_time": "2022-05-05T18:58:25.901656",
     "exception": false,
     "start_time": "2022-05-05T18:58:25.703596",
     "status": "completed"
    },
    "tags": []
   },
   "outputs": [],
   "source": [
    "all_data['월간 판매량 시차평균'] = all_data[['월간 판매량_시차1',\n",
    "                                          '월간 판매량_시차2', \n",
    "                                          '월간 판매량_시차3']].mean(axis=1)"
   ]
  },
  {
   "cell_type": "code",
   "execution_count": 42,
   "id": "1977cfab",
   "metadata": {
    "execution": {
     "iopub.execute_input": "2022-05-05T18:58:26.050469Z",
     "iopub.status.busy": "2022-05-05T18:58:26.049608Z",
     "iopub.status.idle": "2022-05-05T18:58:28.450325Z",
     "shell.execute_reply": "2022-05-05T18:58:28.449745Z",
     "shell.execute_reply.started": "2022-05-05T18:39:25.218958Z"
    },
    "papermill": {
     "duration": 2.497658,
     "end_time": "2022-05-05T18:58:28.450477",
     "exception": false,
     "start_time": "2022-05-05T18:58:25.952819",
     "status": "completed"
    },
    "tags": []
   },
   "outputs": [],
   "source": [
    "all_data[lag_features_to_clip + ['월간 판매량', '월간 판매량 시차평균']] = all_data[lag_features_to_clip +['월간 판매량', '월간 판매량 시차평균']].clip(0, 20)"
   ]
  },
  {
   "cell_type": "code",
   "execution_count": 43,
   "id": "bea4caeb",
   "metadata": {
    "execution": {
     "iopub.execute_input": "2022-05-05T18:58:28.557120Z",
     "iopub.status.busy": "2022-05-05T18:58:28.556417Z",
     "iopub.status.idle": "2022-05-05T18:58:28.993737Z",
     "shell.execute_reply": "2022-05-05T18:58:28.993180Z",
     "shell.execute_reply.started": "2022-05-05T18:39:28.326607Z"
    },
    "papermill": {
     "duration": 0.492304,
     "end_time": "2022-05-05T18:58:28.993906",
     "exception": false,
     "start_time": "2022-05-05T18:58:28.501602",
     "status": "completed"
    },
    "tags": []
   },
   "outputs": [],
   "source": [
    "all_data['시차변화량1'] = all_data['월간 판매량_시차1']/all_data['월간 판매량_시차2']\n",
    "all_data['시차변화량1'] = all_data['시차변화량1'].replace([np.inf, -np.inf], \n",
    "                                                        np.nan).fillna(0)\n",
    "\n",
    "all_data['시차변화량2'] = all_data['월간 판매량_시차2']/all_data['월간 판매량_시차3']\n",
    "all_data['시차변화량2'] = all_data['시차변화량2'].replace([np.inf, -np.inf], \n",
    "                                                        np.nan).fillna(0)"
   ]
  },
  {
   "cell_type": "code",
   "execution_count": 44,
   "id": "d6820a65",
   "metadata": {
    "execution": {
     "iopub.execute_input": "2022-05-05T18:58:29.102211Z",
     "iopub.status.busy": "2022-05-05T18:58:29.101511Z",
     "iopub.status.idle": "2022-05-05T18:58:29.109258Z",
     "shell.execute_reply": "2022-05-05T18:58:29.108583Z",
     "shell.execute_reply.started": "2022-05-05T18:39:28.946246Z"
    },
    "papermill": {
     "duration": 0.064533,
     "end_time": "2022-05-05T18:58:29.109418",
     "exception": false,
     "start_time": "2022-05-05T18:58:29.044885",
     "status": "completed"
    },
    "tags": []
   },
   "outputs": [],
   "source": [
    "all_data['신상여부'] = all_data['첫 판매월'] == all_data['월ID']"
   ]
  },
  {
   "cell_type": "code",
   "execution_count": 45,
   "id": "65ffbb08",
   "metadata": {
    "execution": {
     "iopub.execute_input": "2022-05-05T18:58:29.216611Z",
     "iopub.status.busy": "2022-05-05T18:58:29.215830Z",
     "iopub.status.idle": "2022-05-05T18:58:29.223480Z",
     "shell.execute_reply": "2022-05-05T18:58:29.222876Z",
     "shell.execute_reply.started": "2022-05-05T18:39:28.961037Z"
    },
    "papermill": {
     "duration": 0.064617,
     "end_time": "2022-05-05T18:58:29.223628",
     "exception": false,
     "start_time": "2022-05-05T18:58:29.159011",
     "status": "completed"
    },
    "tags": []
   },
   "outputs": [],
   "source": [
    "all_data['첫 판매 후 기간'] = all_data['월ID'] - all_data['첫 판매월']"
   ]
  },
  {
   "cell_type": "code",
   "execution_count": 46,
   "id": "73456e6a",
   "metadata": {
    "execution": {
     "iopub.execute_input": "2022-05-05T18:58:29.329614Z",
     "iopub.status.busy": "2022-05-05T18:58:29.328880Z",
     "iopub.status.idle": "2022-05-05T18:58:29.365331Z",
     "shell.execute_reply": "2022-05-05T18:58:29.364677Z",
     "shell.execute_reply.started": "2022-05-05T18:39:28.976342Z"
    },
    "papermill": {
     "duration": 0.09063,
     "end_time": "2022-05-05T18:58:29.365483",
     "exception": false,
     "start_time": "2022-05-05T18:58:29.274853",
     "status": "completed"
    },
    "tags": []
   },
   "outputs": [],
   "source": [
    "all_data['월'] = all_data['월ID'] % 12"
   ]
  },
  {
   "cell_type": "code",
   "execution_count": 47,
   "id": "c768e7e4",
   "metadata": {
    "execution": {
     "iopub.execute_input": "2022-05-05T18:58:29.471918Z",
     "iopub.status.busy": "2022-05-05T18:58:29.471198Z",
     "iopub.status.idle": "2022-05-05T18:58:30.104853Z",
     "shell.execute_reply": "2022-05-05T18:58:30.104277Z",
     "shell.execute_reply.started": "2022-05-05T18:39:29.020692Z"
    },
    "papermill": {
     "duration": 0.689158,
     "end_time": "2022-05-05T18:58:30.105032",
     "exception": false,
     "start_time": "2022-05-05T18:58:29.415874",
     "status": "completed"
    },
    "tags": []
   },
   "outputs": [],
   "source": [
    "all_data = all_data.drop(['첫 판매월', '평균 판매가', '판매건수'], axis=1)"
   ]
  },
  {
   "cell_type": "code",
   "execution_count": 48,
   "id": "d06ddfdc",
   "metadata": {
    "execution": {
     "iopub.execute_input": "2022-05-05T18:58:30.214140Z",
     "iopub.status.busy": "2022-05-05T18:58:30.213469Z",
     "iopub.status.idle": "2022-05-05T18:58:31.517688Z",
     "shell.execute_reply": "2022-05-05T18:58:31.516949Z",
     "shell.execute_reply.started": "2022-05-05T18:39:29.670443Z"
    },
    "papermill": {
     "duration": 1.363135,
     "end_time": "2022-05-05T18:58:31.517843",
     "exception": false,
     "start_time": "2022-05-05T18:58:30.154708",
     "status": "completed"
    },
    "tags": []
   },
   "outputs": [],
   "source": [
    "all_data = downcast(all_data, False) "
   ]
  },
  {
   "cell_type": "code",
   "execution_count": 49,
   "id": "4c79ff5f",
   "metadata": {
    "execution": {
     "iopub.execute_input": "2022-05-05T18:58:31.631089Z",
     "iopub.status.busy": "2022-05-05T18:58:31.630380Z",
     "iopub.status.idle": "2022-05-05T18:58:31.637824Z",
     "shell.execute_reply": "2022-05-05T18:58:31.636869Z",
     "shell.execute_reply.started": "2022-05-05T18:39:31.377450Z"
    },
    "papermill": {
     "duration": 0.070129,
     "end_time": "2022-05-05T18:58:31.638053",
     "exception": false,
     "start_time": "2022-05-05T18:58:31.567924",
     "status": "completed"
    },
    "tags": []
   },
   "outputs": [
    {
     "name": "stdout",
     "output_type": "stream",
     "text": [
      "<class 'pandas.core.frame.DataFrame'>\n",
      "Int64Index: 8029765 entries, 827196 to 8856960\n",
      "Data columns (total 31 columns):\n",
      " #   Column                   Dtype  \n",
      "---  ------                   -----  \n",
      " 0   월ID                      int8   \n",
      " 1   상점ID                     int8   \n",
      " 2   상품ID                     int16  \n",
      " 3   월간 판매량                   int8   \n",
      " 4   도시                       int8   \n",
      " 5   상품분류ID                   int8   \n",
      " 6   대분류                      int8   \n",
      " 7   월간 판매량_시차1               int8   \n",
      " 8   월간 판매량_시차2               int8   \n",
      " 9   월간 판매량_시차3               int8   \n",
      " 10  판매건수_시차1                 int8   \n",
      " 11  판매건수_시차2                 int8   \n",
      " 12  판매건수_시차3                 int8   \n",
      " 13  평균 판매가_시차1               float32\n",
      " 14  평균 판매가_시차2               float32\n",
      " 15  평균 판매가_시차3               float32\n",
      " 16  상품ID별 평균 판매량_시차1         float32\n",
      " 17  상품ID별 평균 판매량_시차2         float32\n",
      " 18  상품ID별 평균 판매량_시차3         float32\n",
      " 19  상품ID 도시별 평균 판매량_시차1      float32\n",
      " 20  상품ID 도시별 평균 판매량_시차2      float32\n",
      " 21  상품ID 도시별 평균 판매량_시차3      float32\n",
      " 22  상점ID 상품분류ID별 평균 판매량_시차1  float32\n",
      " 23  상점ID 상품분류ID별 평균 판매량_시차2  float32\n",
      " 24  상점ID 상품분류ID별 평균 판매량_시차3  float32\n",
      " 25  월간 판매량 시차평균              float32\n",
      " 26  시차변화량1                   float32\n",
      " 27  시차변화량2                   float32\n",
      " 28  신상여부                     int8   \n",
      " 29  첫 판매 후 기간                int8   \n",
      " 30  월                        int8   \n",
      "dtypes: float32(15), int16(1), int8(15)\n",
      "memory usage: 650.9 MB\n"
     ]
    }
   ],
   "source": [
    "all_data.info()"
   ]
  },
  {
   "cell_type": "code",
   "execution_count": 50,
   "id": "20616bf9",
   "metadata": {
    "execution": {
     "iopub.execute_input": "2022-05-05T18:58:31.749395Z",
     "iopub.status.busy": "2022-05-05T18:58:31.748448Z",
     "iopub.status.idle": "2022-05-05T18:58:34.031214Z",
     "shell.execute_reply": "2022-05-05T18:58:34.030633Z",
     "shell.execute_reply.started": "2022-05-05T18:39:31.394115Z"
    },
    "papermill": {
     "duration": 2.341034,
     "end_time": "2022-05-05T18:58:34.031397",
     "exception": false,
     "start_time": "2022-05-05T18:58:31.690363",
     "status": "completed"
    },
    "tags": []
   },
   "outputs": [],
   "source": [
    "X_train = all_data[all_data['월ID'] < 33]\n",
    "X_train = X_train.drop(['월간 판매량'], axis=1)\n",
    "\n",
    "X_valid = all_data[all_data['월ID'] == 33]\n",
    "X_valid = X_valid.drop(['월간 판매량'], axis=1)\n",
    "\n",
    "X_test = all_data[all_data['월ID'] == 34]\n",
    "X_test = X_test.drop(['월간 판매량'], axis=1)\n",
    "\n",
    "y_train = all_data[all_data['월ID'] < 33]['월간 판매량']\n",
    "y_valid = all_data[all_data['월ID'] == 33]['월간 판매량']\n",
    "\n",
    "del all_data\n",
    "gc.collect();"
   ]
  },
  {
   "cell_type": "code",
   "execution_count": 51,
   "id": "27b4f6b7",
   "metadata": {
    "execution": {
     "iopub.execute_input": "2022-05-05T18:58:34.144340Z",
     "iopub.status.busy": "2022-05-05T18:58:34.143599Z",
     "iopub.status.idle": "2022-05-05T19:12:18.483848Z",
     "shell.execute_reply": "2022-05-05T19:12:18.482785Z",
     "shell.execute_reply.started": "2022-05-05T18:39:33.767690Z"
    },
    "papermill": {
     "duration": 824.40006,
     "end_time": "2022-05-05T19:12:18.484063",
     "exception": false,
     "start_time": "2022-05-05T18:58:34.084003",
     "status": "completed"
    },
    "tags": []
   },
   "outputs": [
    {
     "data": {
      "text/html": [
       "<style type='text/css'>\n",
       ".datatable table.frame { margin-bottom: 0; }\n",
       ".datatable table.frame thead { border-bottom: none; }\n",
       ".datatable table.frame tr.coltypes td {  color: #FFFFFF;  line-height: 6px;  padding: 0 0.5em;}\n",
       ".datatable .bool    { background: #DDDD99; }\n",
       ".datatable .object  { background: #565656; }\n",
       ".datatable .int     { background: #5D9E5D; }\n",
       ".datatable .float   { background: #4040CC; }\n",
       ".datatable .str     { background: #CC4040; }\n",
       ".datatable .time    { background: #40CC40; }\n",
       ".datatable .row_index {  background: var(--jp-border-color3);  border-right: 1px solid var(--jp-border-color0);  color: var(--jp-ui-font-color3);  font-size: 9px;}\n",
       ".datatable .frame tbody td { text-align: left; }\n",
       ".datatable .frame tr.coltypes .row_index {  background: var(--jp-border-color0);}\n",
       ".datatable th:nth-child(2) { padding-left: 12px; }\n",
       ".datatable .hellipsis {  color: var(--jp-cell-editor-border-color);}\n",
       ".datatable .vellipsis {  background: var(--jp-layout-color0);  color: var(--jp-cell-editor-border-color);}\n",
       ".datatable .na {  color: var(--jp-cell-editor-border-color);  font-size: 80%;}\n",
       ".datatable .sp {  opacity: 0.25;}\n",
       ".datatable .footer { font-size: 9px; }\n",
       ".datatable .frame_dimensions {  background: var(--jp-border-color3);  border-top: 1px solid var(--jp-border-color0);  color: var(--jp-ui-font-color3);  display: inline-block;  opacity: 0.6;  padding: 1px 10px 1px 5px;}\n",
       "</style>\n"
      ],
      "text/plain": [
       "<IPython.core.display.HTML object>"
      ]
     },
     "metadata": {},
     "output_type": "display_data"
    },
    {
     "name": "stdout",
     "output_type": "stream",
     "text": [
      "[LightGBM] [Warning] Find whitespaces in feature_names, replace with underlines\n",
      "[LightGBM] [Info] Total Bins 3625\n",
      "[LightGBM] [Info] Number of data points in the train set: 7593847, number of used features: 30\n",
      "[LightGBM] [Warning] Find whitespaces in feature_names, replace with underlines\n",
      "[LightGBM] [Info] Start training from score 0.307756\n",
      "Training until validation scores don't improve for 150 rounds\n",
      "[100]\ttraining's rmse: 1.01921\tvalid_1's rmse: 0.91337\n",
      "[200]\ttraining's rmse: 0.914479\tvalid_1's rmse: 0.840705\n",
      "[300]\ttraining's rmse: 0.862209\tvalid_1's rmse: 0.811963\n",
      "[400]\ttraining's rmse: 0.833442\tvalid_1's rmse: 0.800418\n",
      "[500]\ttraining's rmse: 0.814265\tvalid_1's rmse: 0.796865\n",
      "[600]\ttraining's rmse: 0.800503\tvalid_1's rmse: 0.795656\n",
      "[700]\ttraining's rmse: 0.790099\tvalid_1's rmse: 0.795101\n",
      "[800]\ttraining's rmse: 0.781689\tvalid_1's rmse: 0.795099\n",
      "[900]\ttraining's rmse: 0.774561\tvalid_1's rmse: 0.795493\n",
      "Early stopping, best iteration is:\n",
      "[827]\ttraining's rmse: 0.779724\tvalid_1's rmse: 0.794875\n"
     ]
    }
   ],
   "source": [
    "import lightgbm as lgb\n",
    "\n",
    "params = {'metric': 'rmse',\n",
    "          'num_leaves': 255,\n",
    "          'learning_rate': 0.005,\n",
    "          'feature_fraction': 0.75,\n",
    "          'bagging_fraction': 0.75,\n",
    "          'bagging_freq': 5,\n",
    "          'force_col_wise': True,\n",
    "          'random_state': 10}\n",
    "\n",
    "cat_features = ['상점ID', '도시', '상품분류ID', '대분류', '월']\n",
    "\n",
    "dtrain = lgb.Dataset(X_train, y_train)\n",
    "dvalid = lgb.Dataset(X_valid, y_valid)\n",
    " \n",
    "lgb_model = lgb.train(params=params,\n",
    "                      train_set=dtrain,\n",
    "                      num_boost_round=1500,\n",
    "                      valid_sets=(dtrain, dvalid),\n",
    "                      early_stopping_rounds=150,\n",
    "                      categorical_feature=cat_features,\n",
    "                      verbose_eval=100)      "
   ]
  },
  {
   "cell_type": "code",
   "execution_count": 52,
   "id": "4482c99c",
   "metadata": {
    "execution": {
     "iopub.execute_input": "2022-05-05T19:12:18.607988Z",
     "iopub.status.busy": "2022-05-05T19:12:18.604908Z",
     "iopub.status.idle": "2022-05-05T19:12:31.723378Z",
     "shell.execute_reply": "2022-05-05T19:12:31.723877Z",
     "shell.execute_reply.started": "2022-05-05T18:54:03.133352Z"
    },
    "papermill": {
     "duration": 13.184316,
     "end_time": "2022-05-05T19:12:31.724091",
     "exception": false,
     "start_time": "2022-05-05T19:12:18.539775",
     "status": "completed"
    },
    "tags": []
   },
   "outputs": [],
   "source": [
    "preds = lgb_model.predict(X_test).clip(0, 20)\n",
    "\n",
    "submission['item_cnt_month'] = preds\n",
    "submission.to_csv('submission.csv', index=False)"
   ]
  },
  {
   "cell_type": "code",
   "execution_count": 53,
   "id": "c3209a36",
   "metadata": {
    "execution": {
     "iopub.execute_input": "2022-05-05T19:12:31.841762Z",
     "iopub.status.busy": "2022-05-05T19:12:31.841003Z",
     "iopub.status.idle": "2022-05-05T19:12:31.996391Z",
     "shell.execute_reply": "2022-05-05T19:12:31.996897Z",
     "shell.execute_reply.started": "2022-05-05T18:54:16.053196Z"
    },
    "papermill": {
     "duration": 0.215974,
     "end_time": "2022-05-05T19:12:31.997117",
     "exception": false,
     "start_time": "2022-05-05T19:12:31.781143",
     "status": "completed"
    },
    "tags": []
   },
   "outputs": [],
   "source": [
    "del X_train, y_train, X_valid, y_valid, X_test, lgb_model, dtrain, dvalid\n",
    "gc.collect();"
   ]
  }
 ],
 "metadata": {
  "kernelspec": {
   "display_name": "Python 3",
   "language": "python",
   "name": "python3"
  },
  "language_info": {
   "codemirror_mode": {
    "name": "ipython",
    "version": 3
   },
   "file_extension": ".py",
   "mimetype": "text/x-python",
   "name": "python",
   "nbconvert_exporter": "python",
   "pygments_lexer": "ipython3",
   "version": "3.7.10"
  },
  "papermill": {
   "default_parameters": {},
   "duration": 1071.256175,
   "end_time": "2022-05-05T19:12:33.333957",
   "environment_variables": {},
   "exception": null,
   "input_path": "__notebook__.ipynb",
   "output_path": "__notebook__.ipynb",
   "parameters": {},
   "start_time": "2022-05-05T18:54:42.077782",
   "version": "2.3.3"
  }
 },
 "nbformat": 4,
 "nbformat_minor": 5
}
